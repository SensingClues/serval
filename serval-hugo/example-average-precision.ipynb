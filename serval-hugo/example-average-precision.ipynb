{
 "cells": [
  {
   "cell_type": "code",
   "execution_count": 17,
   "metadata": {},
   "outputs": [
    {
     "data": {
      "text/plain": [
       "array([0.09876334, 0.07374243, 0.85047383, 0.33019722, 0.55981368,\n",
       "       0.35379133, 0.3161967 , 0.6404234 , 0.20447775, 0.55252368,\n",
       "       0.44269336, 0.52135363, 0.06227959, 0.9184649 , 0.91599448,\n",
       "       0.09327186, 0.84009122, 0.71025342, 0.78504776, 0.62526583])"
      ]
     },
     "execution_count": 17,
     "metadata": {},
     "output_type": "execute_result"
    }
   ],
   "source": [
    "import numpy as np\n",
    "import random\n",
    "\n",
    "import average_precision_calculator as ap_calculator\n",
    "\n",
    "p = np.array([random.random() for _ in range(20)])\n",
    "a = np.array([random.choice([0, 1]) for _ in range(20)])\n",
    "\n",
    "ap = ap_calculator.AveragePrecisionCalculator.ap(p, a)\n",
    "\n",
    "p\n"
   ]
  },
  {
   "cell_type": "code",
   "execution_count": 58,
   "metadata": {},
   "outputs": [
    {
     "data": {
      "text/plain": [
       "50"
      ]
     },
     "execution_count": 58,
     "metadata": {},
     "output_type": "execute_result"
    }
   ],
   "source": [
    "import numpy as np\n",
    "import random\n",
    "\n",
    "import mean_average_precision_calculator as map_calculator\n",
    "\n",
    "from eval_util import top_k_by_class\n",
    "\n",
    "p = np.array([[random.random() for _ in range(50)] for _ in range(1000)])\n",
    "a = np.array([[random.choice([0, 1]) for _ in range(50)]\n",
    "     for _ in range(1000)])\n",
    "\n",
    "predictions = p\n",
    "labels = a\n",
    "\n",
    "sparse_predictions, sparse_labels, num_positives = top_k_by_class(predictions, labels, 25)\n",
    "#    self.map_calculator.accumulate(sparse_predictions, sparse_labels, num_positives)\n",
    "\n",
    "# mean average precision for 50 classes.\n",
    "calculator = map_calculator.MeanAveragePrecisionCalculator(num_class=50)\n",
    "calculator.accumulate(sparse_predictions, sparse_labels, num_positives)\n",
    "aps = calculator.peek_map_at_n()\n",
    "\n",
    "#num_positives = [None for i in p.shape[1]]\n",
    "#len(sparse_predictions[0])\n",
    "#len(sparse_labels[0])\n",
    "len(num_positives)\n",
    "aps"
   ]
  }
 ],
 "metadata": {
  "kernelspec": {
   "display_name": "Python [conda env:anaconda3]",
   "language": "python",
   "name": "conda-env-anaconda3-py"
  },
  "language_info": {
   "codemirror_mode": {
    "name": "ipython",
    "version": 3
   },
   "file_extension": ".py",
   "mimetype": "text/x-python",
   "name": "python",
   "nbconvert_exporter": "python",
   "pygments_lexer": "ipython3",
   "version": "3.6.5"
  }
 },
 "nbformat": 4,
 "nbformat_minor": 2
}
