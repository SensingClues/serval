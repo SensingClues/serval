{
 "cells": [
  {
   "cell_type": "code",
   "execution_count": 1,
   "metadata": {
    "scrolled": false
   },
   "outputs": [
    {
     "name": "stderr",
     "output_type": "stream",
     "text": [
      "/home/hugo/anaconda3/lib/python3.6/site-packages/h5py/__init__.py:36: FutureWarning: Conversion of the second argument of issubdtype from `float` to `np.floating` is deprecated. In future, it will be treated as `np.float64 == np.dtype(float).type`.\n",
      "  from ._conv import register_converters as _register_converters\n"
     ]
    }
   ],
   "source": [
    "## De functie die tf-records leest en ze uiteindelijk weer wegschrijft (maar dan met minder labels) heet readTfRecord\n",
    "## Deze functie roept andere functies aan: getLabels en getLabelIndices\n",
    "\n",
    "import tensorflow as tf\n",
    "import numpy as np\n",
    "import pandas as pd\n",
    "import re\n",
    "import os\n",
    "from collections import Counter\n",
    "from tensorflow import gfile\n"
   ]
  },
  {
   "cell_type": "code",
   "execution_count": 2,
   "metadata": {},
   "outputs": [],
   "source": [
    "# path\n",
    "#train_data_pattern = '/home/hugo/jupyter-workspace/data/audioset/audioset_v1_embeddings/bal_train/*.tfrecord'\n",
    "train_data_pattern = '/home/hugo/jupyter-workspace/data/audioset/audioset_v1_embeddings/bal_train/*.tfrecord'\n",
    "train_data_folder_new = '/home/hugo/jupyter-workspace/data/audioset/audioset_v1_embeddings/bal_train_new_labels'\n",
    "# test set\n",
    "test_data_pattern = '/home/hugo/jupyter-workspace/data/audioset/audioset_v1_embeddings/eval/*.tfrecord'\n",
    "test_data_folder_new = '/home/hugo/jupyter-workspace/data/audioset/audioset_v1_embeddings/eval_new_labels'\n",
    "# unbalanced set\n",
    "unb_data_pattern = '/home/hugo/jupyter-workspace/data/audioset/audioset_v1_embeddings/unbal_train/*.tfrecord'\n",
    "unb_data_folder_new = '/home/hugo/jupyter-workspace/data/audioset/audioset_v1_embeddings/unbal_train_new_labels'"
   ]
  },
  {
   "cell_type": "code",
   "execution_count": 3,
   "metadata": {},
   "outputs": [],
   "source": [
    "write_tfrecords_without_labels = False"
   ]
  },
  {
   "cell_type": "code",
   "execution_count": 4,
   "metadata": {},
   "outputs": [],
   "source": [
    "## Keep list of all new labels (to see which ones occur often)\n",
    "all_train_labels = []\n",
    "all_test_labels = []\n",
    "all_unbal_labels = []"
   ]
  },
  {
   "cell_type": "code",
   "execution_count": 5,
   "metadata": {},
   "outputs": [],
   "source": [
    "## Open old csv file and alternated csv file with the super classes\n",
    "mid_to_label_old = pd.read_csv('audioset/class_labels_indices.csv')\n"
   ]
  },
  {
   "cell_type": "code",
   "execution_count": 6,
   "metadata": {},
   "outputs": [],
   "source": [
    "mid_to_label_new = pd.read_csv('audioset/class_labels_indices_amsterdam2.csv',quotechar = '\"')\n"
   ]
  },
  {
   "cell_type": "code",
   "execution_count": 7,
   "metadata": {},
   "outputs": [],
   "source": [
    "#### Find new label for each of old label (527 -> 31)\n",
    "\n",
    "def getNewLabel(label_old):\n",
    "    ## Get m-id that matches with index\n",
    "    mid = mid_to_label_old.loc[mid_to_label_old['index'] == label_old, 'mid']\n",
    "    #print('mid : ',mid)\n",
    "\n",
    "    ## Find the new label belonging to this m-id\n",
    "    label_new = mid_to_label_new.loc[mid_to_label_new['mid'] == str(mid.values[0]), 'index']\n",
    "    #print('label_new : ',label_new)\n",
    "    \n",
    "    return label_new"
   ]
  },
  {
   "cell_type": "code",
   "execution_count": 8,
   "metadata": {},
   "outputs": [],
   "source": [
    "#### Find new label for each of old label (527 -> 31)\n",
    "\n",
    "def getDisplayName(index):\n",
    "    ## Find the new label belonging to this index\n",
    "    return mid_to_label_new.loc[index]['display_name']\n",
    "    "
   ]
  },
  {
   "cell_type": "code",
   "execution_count": 9,
   "metadata": {},
   "outputs": [],
   "source": [
    "def createExample(example_old, new_labels):\n",
    "    \n",
    "    #print(\"New labels: \" + str(new_labels))\n",
    "    \n",
    "    audio_embedding = example_old.feature_lists.feature_list['audio_embedding']\n",
    "    feature_lists = tf.train.FeatureLists(feature_list={\"audio_embedding\": audio_embedding})\n",
    "\n",
    "    label_feat = tf.train.Feature(int64_list=tf.train.Int64List(value=new_labels))\n",
    "    video_id = example_old.context.feature['video_id'].bytes_list.value\n",
    "    videoid_feat = tf.train.Feature(bytes_list=tf.train.BytesList(value=video_id)) \n",
    "\n",
    "    context_feats = tf.train.Features(feature={\"labels\": label_feat, \"video_id\": videoid_feat})\n",
    "\n",
    "    sequence_example = tf.train.SequenceExample(context=context_feats, feature_lists=feature_lists)\n",
    "    \n",
    "    return sequence_example"
   ]
  },
  {
   "cell_type": "code",
   "execution_count": 10,
   "metadata": {},
   "outputs": [],
   "source": [
    "#### Lees tf-records en iterate over de examples#### Lee \n",
    "#### Voor elk example wordt de video-id gepakt en de bijbehorende lijst m-id's gezocht (in balanced_segment.csv)\n",
    "\n",
    "## One tf-record has several examples\n",
    "## This function checks for each example if it has a label we are interested in\n",
    "## If so, we compute the one-hot vector\n",
    "## Input: filename of tf-record\n",
    "## Result: write new tf-record\n",
    "\n",
    "def readWriteTfRecord(tfrecords_filename, new_folder, t):\n",
    "    \n",
    "    ## Create writer that writes new tf-record in train_data_folder_new\n",
    "    path_tfrecord_new = new_folder + '/' + tfrecords_filename.split('/')[-1]\n",
    "    writer = tf.python_io.TFRecordWriter(path_tfrecord_new)\n",
    "    nr_new_examples = 0\n",
    "    \n",
    "    #print(path_tfrecord_new)\n",
    "    ## Iterator that goes through all examples of tf-record\n",
    "    record_iterator = tf.python_io.tf_record_iterator(path=tfrecords_filename)\n",
    "    \n",
    "    for string_record in record_iterator:\n",
    "        \n",
    "        ## Take one example\n",
    "        example = tf.train.SequenceExample()\n",
    "        example.ParseFromString(string_record)\n",
    " \n",
    "        ## Get labels and find for each label the m-code in class_label_indices_old\n",
    "        labels = example.context.feature['labels'].int64_list.value\n",
    "        #print('labels : ', labels)\n",
    "        \n",
    "        new_labels = []\n",
    "        for label in labels:\n",
    "            ## hij returnt een set van cellen (of leeg of van 1 rij)\n",
    "            label_new = getNewLabel(label)\n",
    "            \n",
    "            if(label_new.shape[0]>0):\n",
    "                new_labels.append(label_new.values[0])\n",
    "                #print('old : ',label,' new : ',label_new)\n",
    "        ## If any of the labels left (for our model), write new tf-record\n",
    "        if len(new_labels) > 0 or write_tfrecords_without_labels:\n",
    "\n",
    "            ## Keep track\n",
    "            if t == 'train' :\n",
    "                all_train_labels.extend(new_labels)\n",
    "            elif t == 'test':\n",
    "                all_test_labels.extend(new_labels)\n",
    "            else:\n",
    "                all_unbal_labels.extend(new_labels)\n",
    "            \n",
    "            sequence_example = createExample(example, new_labels)\n",
    "            nr_new_examples += 1\n",
    "            \n",
    "            ## Write the example\n",
    "            writer.write(sequence_example.SerializeToString())\n",
    "            #print('Example gemaakt! Video-id: ' + str(example.context.feature['video_id'].bytes_list.value))\n",
    "\n",
    "    #print(\"nr new examples: \" + str(nr_new_examples))\n",
    "    # Only write if any examples created\n",
    "\n",
    "    if nr_new_examples > 0:\n",
    "        writer.close()\n",
    "        #print(\"tfrecord written\")\n",
    "    else:\n",
    "        #print(\"empty file.. remove: \" + path_tfrecord_new)\n",
    "        os.remove(path_tfrecord_new)\n",
    "        \n",
    "    return"
   ]
  },
  {
   "cell_type": "code",
   "execution_count": 11,
   "metadata": {
    "scrolled": false
   },
   "outputs": [
    {
     "data": {
      "application/vnd.jupyter.widget-view+json": {
       "model_id": "5a0ab2f24d8540d6a755cd6a60a51cbe",
       "version_major": 2,
       "version_minor": 0
      },
      "text/plain": [
       "VBox(children=(HTML(value=''), IntProgress(value=0, max=4070)))"
      ]
     },
     "metadata": {},
     "output_type": "display_data"
    }
   ],
   "source": [
    "# train_data_pattern = 'tfrecords/train_data_old/*.tfrecord'\n",
    "# progres log\n",
    "from log_progress import log_progress\n",
    "\n",
    "## all train files\n",
    "files = gfile.Glob(train_data_pattern) \n",
    "\n",
    "for file in log_progress(files, every=50):\n",
    "    ## Read a file and rewrite it\n",
    "    readWriteTfRecord(file, train_data_folder_new, 'train')\n",
    "    "
   ]
  },
  {
   "cell_type": "code",
   "execution_count": 12,
   "metadata": {},
   "outputs": [
    {
     "name": "stdout",
     "output_type": "stream",
     "text": [
      "Tools  :  101\n",
      "Gunshot, gunfire  :  178\n",
      "Emergency vehicle  :  141\n",
      "Fire engine, fire truck (siren)  :  60\n",
      "Vehicle horn, car horn, honking  :  60\n",
      "Accelerating, revving, vroom  :  60\n",
      "Aircraft  :  109\n",
      "Train wheels squealing  :  60\n",
      "Boat, Water vehicle  :  242\n",
      "Police car (siren)  :  61\n",
      "Ambulance (siren)  :  69\n",
      "Dog  :  273\n",
      "Bark  :  60\n",
      "Howl  :  60\n",
      "Jackhammer  :  60\n",
      "Chainsaw  :  60\n",
      "Bus  :  59\n",
      "Car passing by  :  61\n",
      "Motor vehicle (road)  :  63\n",
      "Idling  :  60\n",
      "Engine starting  :  60\n",
      "Motorcycle  :  60\n"
     ]
    }
   ],
   "source": [
    "# print labels and counts\n",
    "cnt_labels_train = Counter(all_train_labels)\n",
    "\n",
    "for i in cnt_labels_train:\n",
    "    print(getDisplayName(i),' : ',cnt_labels_train[i])\n",
    "    "
   ]
  },
  {
   "cell_type": "code",
   "execution_count": 13,
   "metadata": {},
   "outputs": [
    {
     "data": {
      "application/vnd.jupyter.widget-view+json": {
       "model_id": "a27c91d8cecb42f3bf8f5502969b7dd9",
       "version_major": 2,
       "version_minor": 0
      },
      "text/plain": [
       "VBox(children=(HTML(value=''), IntProgress(value=0, max=4062)))"
      ]
     },
     "metadata": {},
     "output_type": "display_data"
    }
   ],
   "source": [
    "# progres log\n",
    "from log_progress import log_progress\n",
    "## Read and rewrite all test files\n",
    "files = gfile.Glob(test_data_pattern)\n",
    "\n",
    "for file in log_progress(files, every=10):    \n",
    "    al = readWriteTfRecord(file, test_data_folder_new,'test')"
   ]
  },
  {
   "cell_type": "code",
   "execution_count": 14,
   "metadata": {},
   "outputs": [
    {
     "name": "stdout",
     "output_type": "stream",
     "text": [
      "Motorcycle  :  61\n",
      "Accelerating, revving, vroom  :  151\n",
      "Chainsaw  :  60\n",
      "Emergency vehicle  :  144\n",
      "Police car (siren)  :  60\n",
      "Bus  :  60\n",
      "Idling  :  92\n",
      "Boat, Water vehicle  :  239\n",
      "Tools  :  100\n",
      "Dog  :  230\n",
      "Aircraft  :  113\n",
      "Gunshot, gunfire  :  174\n",
      "Bark  :  60\n",
      "Car passing by  :  60\n",
      "Jackhammer  :  60\n",
      "Engine starting  :  60\n",
      "Vehicle horn, car horn, honking  :  60\n",
      "Howl  :  60\n",
      "Fire engine, fire truck (siren)  :  61\n",
      "Motor vehicle (road)  :  90\n",
      "Ambulance (siren)  :  65\n",
      "Train wheels squealing  :  60\n"
     ]
    }
   ],
   "source": [
    "cnt_labels_test = Counter(all_test_labels)\n",
    "for i in cnt_labels_test:\n",
    "    print(getDisplayName(i),' : ',cnt_labels_test[i])"
   ]
  },
  {
   "cell_type": "code",
   "execution_count": 15,
   "metadata": {},
   "outputs": [
    {
     "data": {
      "application/vnd.jupyter.widget-view+json": {
       "model_id": "4cfb988bb98e48988ee3dbf5d354cecb",
       "version_major": 2,
       "version_minor": 0
      },
      "text/plain": [
       "VBox(children=(HTML(value=''), IntProgress(value=0, max=4096)))"
      ]
     },
     "metadata": {},
     "output_type": "display_data"
    }
   ],
   "source": [
    "## Read and rewrite all unbalanced files\n",
    "\n",
    "# progres log\n",
    "from log_progress import log_progress\n",
    "\n",
    "files = gfile.Glob(unb_data_pattern)\n",
    "\n",
    "for file in log_progress(files, every = 5):\n",
    "    \n",
    "    ## Read a file and rewrite it\n",
    "    al = readWriteTfRecord(file, unb_data_folder_new, 'unbal')"
   ]
  },
  {
   "cell_type": "code",
   "execution_count": 16,
   "metadata": {},
   "outputs": [
    {
     "name": "stdout",
     "output_type": "stream",
     "text": [
      "Accelerating, revving, vroom  :  11827\n",
      "Vehicle horn, car horn, honking  :  3587\n",
      "Motor vehicle (road)  :  8891\n",
      "Chainsaw  :  1667\n",
      "Car passing by  :  3684\n",
      "Train wheels squealing  :  382\n",
      "Gunshot, gunfire  :  3869\n",
      "Boat, Water vehicle  :  13090\n",
      "Fire engine, fire truck (siren)  :  3078\n",
      "Idling  :  6089\n",
      "Tools  :  7906\n",
      "Dog  :  13202\n",
      "Bark  :  2512\n",
      "Engine starting  :  988\n",
      "Motorcycle  :  7140\n",
      "Aircraft  :  5254\n",
      "Emergency vehicle  :  5445\n",
      "Police car (siren)  :  3538\n",
      "Bus  :  5171\n",
      "Howl  :  718\n",
      "Ambulance (siren)  :  1805\n",
      "Jackhammer  :  161\n"
     ]
    }
   ],
   "source": [
    "cnt_unb_labels = Counter(all_unbal_labels)\n",
    "for i in cnt_unb_labels:\n",
    "    print(getDisplayName(i),' : ',cnt_unb_labels[i])"
   ]
  },
  {
   "cell_type": "code",
   "execution_count": null,
   "metadata": {},
   "outputs": [],
   "source": [
    "###########################################################################################\n",
    "# Helper: show Examples in tfrecord file (only run this if you want to see just one example)\n",
    "filename = train_data_folder_new + '/-1.tfrecord'\n",
    "#filename = train_data_pattern.split('/*')[0] + '/-1.tfrecord'\n",
    "record_iterator = tf.python_io.tf_record_iterator(path=filename)\n",
    "\n",
    "# [137, 220, 519]\n",
    "# [135, 137]\n",
    "# [27, 466]\n",
    "# [137, 264]\n",
    "\n",
    "for string_record in record_iterator:\n",
    "\n",
    "    ## Take one example\n",
    "    example = tf.train.SequenceExample()\n",
    "    example.ParseFromString(string_record)\n",
    "    print(example.context.feature['labels'].int64_list.value)"
   ]
  },
  {
   "cell_type": "code",
   "execution_count": null,
   "metadata": {},
   "outputs": [],
   "source": []
  }
 ],
 "metadata": {
  "kernelspec": {
   "display_name": "Python [default]",
   "language": "python",
   "name": "python3"
  },
  "language_info": {
   "codemirror_mode": {
    "name": "ipython",
    "version": 3
   },
   "file_extension": ".py",
   "mimetype": "text/x-python",
   "name": "python",
   "nbconvert_exporter": "python",
   "pygments_lexer": "ipython3",
   "version": "3.6.5"
  }
 },
 "nbformat": 4,
 "nbformat_minor": 2
}
