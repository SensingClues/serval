{
 "cells": [
  {
   "cell_type": "code",
   "execution_count": 2,
   "metadata": {
    "scrolled": true
   },
   "outputs": [
    {
     "name": "stderr",
     "output_type": "stream",
     "text": [
      "C:\\ProgramData\\Anaconda3\\lib\\site-packages\\h5py\\__init__.py:36: FutureWarning: Conversion of the second argument of issubdtype from `float` to `np.floating` is deprecated. In future, it will be treated as `np.float64 == np.dtype(float).type`.\n",
      "  from ._conv import register_converters as _register_converters\n"
     ]
    }
   ],
   "source": [
    "## De functie die tf-records leest en ze uiteindelijk weer wegschrijft (maar dan met minder labels) heet readTfRecord\n",
    "## Deze functie roept andere functies aan: getLabels en getLabelIndices\n",
    "\n",
    "import numpy as np\n",
    "import pandas as pd\n",
    "import re\n",
    "import os\n",
    "import random\n",
    "from collections import Counter\n",
    "\n",
    "import tensorflow as tf\n",
    "from tensorflow import gfile"
   ]
  },
  {
   "cell_type": "code",
   "execution_count": 3,
   "metadata": {},
   "outputs": [],
   "source": [
    "train_data_pattern = 'tfrecords/train_data_old/*.tfrecord'\n",
    "train_data_folder_new = 'tfrecords/train_data_new'\n",
    "test_data_pattern = 'tfrecords/test_data_old/*.tfrecord'\n",
    "test_data_folder_new = 'tfrecords/test_data_new'"
   ]
  },
  {
   "cell_type": "code",
   "execution_count": 4,
   "metadata": {},
   "outputs": [],
   "source": [
    "## Keep list of all new labels (to see which ones occur often)\n",
    "all_labels = []\n",
    "# Maximal proportion for labels\n",
    "max_prop = 0.002"
   ]
  },
  {
   "cell_type": "code",
   "execution_count": 5,
   "metadata": {},
   "outputs": [],
   "source": [
    "## Open old csv file and alternated csv file with the super classes\n",
    "mid_to_label_old = pd.read_csv('csv_files/class_labels_indices.csv')\n",
    "mid_to_label_new = pd.read_csv('csv_files/class_labels_indices_proportions.csv', sep=\";\")"
   ]
  },
  {
   "cell_type": "code",
   "execution_count": 6,
   "metadata": {},
   "outputs": [],
   "source": [
    "## Deze functie checkt of een example wordt gemaakt (met kans)\n",
    "def checkIfNewExample(labels):\n",
    "    \n",
    "    ## Voor het gemak: bij meer dan 1 label, return true\n",
    "    if len(labels)>1:\n",
    "        return True\n",
    "    else:\n",
    "        label = labels[0]\n",
    "        proportion = mid_to_label_new.loc[np.int(label), \"proportion\"]\n",
    "        \n",
    "        ## Als proportie niet max_prop overschrijdt, return true\n",
    "        if proportion < max_prop:\n",
    "            return True\n",
    "        else:\n",
    "            prob = max_prop/proportion\n",
    "            rand = random.random()\n",
    "            if rand <= prob:\n",
    "                return True\n",
    "            else:\n",
    "                return False\n",
    "    return False"
   ]
  },
  {
   "cell_type": "code",
   "execution_count": 7,
   "metadata": {},
   "outputs": [],
   "source": [
    "#### Find new label for each of old label (527 -> 31)\n",
    "\n",
    "def getNewLabel(label_old):\n",
    "    ## Get m-id that matches with index\n",
    "    mid = mid_to_label_old.loc[mid_to_label_old['index']==label_old, 'mid']\n",
    "\n",
    "    ## Find the new label belonging to this m-id\n",
    "    label_new = mid_to_label_new.loc[mid_to_label_new['mid']==str(mid.values[0]), 'index']\n",
    "    \n",
    "    return label_new"
   ]
  },
  {
   "cell_type": "code",
   "execution_count": 8,
   "metadata": {},
   "outputs": [],
   "source": [
    "def createExample(example_old, new_labels):\n",
    "    \n",
    "    #print(\"New labels: \" + str(new_labels))\n",
    "    \n",
    "    audio_embedding = example_old.feature_lists.feature_list['audio_embedding']\n",
    "    feature_lists = tf.train.FeatureLists(feature_list={\"audio_embedding\": audio_embedding})\n",
    "\n",
    "    label_feat = tf.train.Feature(int64_list=tf.train.Int64List(value=new_labels))\n",
    "    video_id = example_old.context.feature['video_id'].bytes_list.value\n",
    "    videoid_feat = tf.train.Feature(bytes_list=tf.train.BytesList(value=video_id)) \n",
    "\n",
    "    context_feats = tf.train.Features(feature={\"labels\": label_feat, \"video_id\": videoid_feat})\n",
    "\n",
    "    sequence_example = tf.train.SequenceExample(context=context_feats, feature_lists=feature_lists)\n",
    "    \n",
    "    return sequence_example"
   ]
  },
  {
   "cell_type": "code",
   "execution_count": 9,
   "metadata": {},
   "outputs": [],
   "source": [
    "#### Lees tf-records en iterate over de examples#### Lee \n",
    "#### Voor elk example wordt de video-id gepakt en de bijbehorende lijst m-id's gezocht (in balanced_segment.csv)\n",
    "\n",
    "## One tf-record has several examples\n",
    "## This function checks for each example if it has a label we are interested in\n",
    "## If so, we compute the one-hot vector\n",
    "## Input: filename of tf-record\n",
    "## Result: write new tf-record\n",
    "\n",
    "def readWriteTfRecord(tfrecords_filename, new_folder):\n",
    "    \n",
    "    ## Create writer that writes new tf-record in train_data_folder_new\n",
    "    path_tfrecord_new = str(new_folder + '/' + tfrecords_filename.split('\\\\')[-1])\n",
    "    writer = tf.python_io.TFRecordWriter(path_tfrecord_new)\n",
    "    nr_new_examples = 0\n",
    "    \n",
    "    ## Iterator that goes through all examples of tf-record\n",
    "    record_iterator = tf.python_io.tf_record_iterator(path=tfrecords_filename)\n",
    "\n",
    "    \n",
    "    for string_record in record_iterator:\n",
    "        \n",
    "        ## Take one example\n",
    "        example = tf.train.SequenceExample()\n",
    "        example.ParseFromString(string_record)\n",
    " \n",
    "        ## Get labels and find for each label the m-code in class_label_indices_old\n",
    "        labels = example.context.feature['labels'].int64_list.value\n",
    "        \n",
    "        new_labels = []\n",
    "        for label in labels:\n",
    "            ## Hij returnt een set van cellen (of leeg of van 1 rij)\n",
    "            label_new = getNewLabel(label)\n",
    "            if(label_new.shape[0]>0):\n",
    "                new_labels.append(label_new.values[0])\n",
    "        \n",
    "        ## If any of the labels left (for our model), write new tf-record\n",
    "        if len(new_labels) > 0 and checkIfNewExample(new_labels):\n",
    "        \n",
    "            ## Add to all labels\n",
    "            all_labels.extend(new_labels)\n",
    "            \n",
    "            sequence_example = createExample(example, new_labels)\n",
    "            nr_new_examples += 1\n",
    "            \n",
    "            ## Write the example\n",
    "            writer.write(sequence_example.SerializeToString())\n",
    "            #print('Example gemaakt! Video-id: ' + str(example.context.feature['video_id'].bytes_list.value))\n",
    "\n",
    "    #print(\"nr new examples: \" + str(nr_new_examples))\n",
    "    # Only write if any examples created\n",
    "\n",
    "    if nr_new_examples > 0:\n",
    "        writer.close()\n",
    "        #print(\"tfrecord written\")\n",
    "    else:\n",
    "        #print(\"empty file.. remove: \" + path_tfrecord_new)\n",
    "        os.remove(path_tfrecord_new)"
   ]
  },
  {
   "cell_type": "code",
   "execution_count": 10,
   "metadata": {
    "scrolled": false
   },
   "outputs": [],
   "source": [
    "## Read and rewrite all train files\n",
    "#train_data_pattern = 'tfrecords/train_data_old/*2.tfrecord'\n",
    "files = gfile.Glob(train_data_pattern)\n",
    "\n",
    "for file in files:\n",
    "    \n",
    "    ## Read a file and rewrite it\n",
    "    readWriteTfRecord(file, train_data_folder_new)"
   ]
  },
  {
   "cell_type": "code",
   "execution_count": 11,
   "metadata": {},
   "outputs": [
    {
     "name": "stdout",
     "output_type": "stream",
     "text": [
      "Speech  :  769\n",
      "Music  :  722\n",
      "Vehicle  :  250\n",
      "Animal  :  226\n",
      "Musical instrument  :  185\n",
      "Domestic animals, pets  :  160\n",
      "Car  :  111\n",
      "Gunshot, gunfire  :  63\n",
      "Emergency vehicle  :  47\n",
      "Rail transport  :  43\n",
      "Aircraft  :  36\n",
      "Idling  :  29\n",
      "Boat, Water vehicle  :  29\n",
      "Ambulance (siren)  :  28\n",
      "Medium engine (mid frequency)  :  27\n",
      "Car passing by  :  27\n",
      "Motor vehicle (road)  :  26\n",
      "Engine starting  :  25\n",
      "Jackhammer  :  25\n",
      "Machine gun  :  24\n",
      "Motorcycle  :  23\n",
      "Train wheels squealing  :  22\n",
      "Heavy engine (low frequency)  :  21\n",
      "Traffic noise, roadway noise  :  21\n",
      "Fire engine, fire truck (siren)  :  21\n",
      "Accelerating, revving, vroom  :  19\n",
      "Police car (siren)  :  19\n",
      "Hammer  :  19\n",
      "Chainsaw  :  19\n",
      "Tools  :  19\n",
      "Bus  :  19\n",
      "Conversation  :  18\n",
      "Power tool  :  17\n",
      "Vehicle horn, car horn, honking  :  15\n"
     ]
    }
   ],
   "source": [
    "cnt_labels = Counter(all_labels)\n",
    "for i in cnt_labels.most_common(100):\n",
    "    print(mid_to_label_new.loc[np.int(i[0])]['display_name'], ' : ', str(i[1]))"
   ]
  },
  {
   "cell_type": "code",
   "execution_count": null,
   "metadata": {},
   "outputs": [],
   "source": [
    "## Read and rewrite all test files\n",
    "files = gfile.Glob(test_data_pattern)\n",
    "\n",
    "for file in files:\n",
    "    \n",
    "    ## Read a file and rewrite it\n",
    "    readWriteTfRecord(file, test_data_folder_new)"
   ]
  },
  {
   "cell_type": "code",
   "execution_count": null,
   "metadata": {
    "scrolled": false
   },
   "outputs": [],
   "source": [
    "###########################################################################################\n",
    "# Helper: show Examples in tfrecord file (only run this if you want to see just one example)\n",
    "#filename = 'tfrecords/train_data_new/-1.tfrecord'\n",
    "filename = 'tfrecords/added_data/123.tfrecord'\n",
    "record_iterator = tf.python_io.tf_record_iterator(path=filename)\n",
    "\n",
    "for string_record in record_iterator:\n",
    "\n",
    "    ## Take one example\n",
    "    example = tf.train.SequenceExample()\n",
    "    example.ParseFromString(string_record)\n",
    "    print(example)"
   ]
  },
  {
   "cell_type": "code",
   "execution_count": null,
   "metadata": {},
   "outputs": [],
   "source": []
  }
 ],
 "metadata": {
  "kernelspec": {
   "display_name": "Python 3",
   "language": "python",
   "name": "python3"
  },
  "language_info": {
   "codemirror_mode": {
    "name": "ipython",
    "version": 3
   },
   "file_extension": ".py",
   "mimetype": "text/x-python",
   "name": "python",
   "nbconvert_exporter": "python",
   "pygments_lexer": "ipython3",
   "version": "3.6.4"
  }
 },
 "nbformat": 4,
 "nbformat_minor": 2
}
