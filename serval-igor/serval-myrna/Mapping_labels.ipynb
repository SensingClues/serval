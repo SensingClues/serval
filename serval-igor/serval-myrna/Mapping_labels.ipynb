{
 "cells": [
  {
   "cell_type": "code",
   "execution_count": 2,
   "metadata": {
    "scrolled": false
   },
   "outputs": [
    {
     "name": "stderr",
     "output_type": "stream",
     "text": [
      "C:\\ProgramData\\Anaconda3\\lib\\site-packages\\h5py\\__init__.py:36: FutureWarning: Conversion of the second argument of issubdtype from `float` to `np.floating` is deprecated. In future, it will be treated as `np.float64 == np.dtype(float).type`.\n",
      "  from ._conv import register_converters as _register_converters\n"
     ]
    }
   ],
   "source": [
    "## De functie die tf-records leest en ze uiteindelijk weer wegschrijft (maar dan met minder labels) heet readTfRecord\n",
    "## Deze functie roept andere functies aan: getLabels en getLabelIndices\n",
    "\n",
    "import tensorflow as tf\n",
    "import numpy as np\n",
    "import pandas as pd\n",
    "import re\n",
    "from tensorflow import gfile\n",
    "#import readers\n",
    "#import utils"
   ]
  },
  {
   "cell_type": "code",
   "execution_count": 3,
   "metadata": {},
   "outputs": [],
   "source": [
    "train_data_pattern = 'train_data/*.tfrecord'\n",
    "train_data_folder_new = 'train_data_new/'"
   ]
  },
  {
   "cell_type": "code",
   "execution_count": 4,
   "metadata": {},
   "outputs": [],
   "source": [
    "mid_to_label = pd.read_csv('csv_files/class_labels_indices.csv')"
   ]
  },
  {
   "cell_type": "code",
   "execution_count": 5,
   "metadata": {
    "scrolled": true
   },
   "outputs": [],
   "source": [
    "vid_to_mid_balanced = pd.read_csv('csv_files/balanced_train_segments.csv', header=0, sep=';')"
   ]
  },
  {
   "cell_type": "code",
   "execution_count": 6,
   "metadata": {},
   "outputs": [],
   "source": [
    "vid_to_mid_unbalanced = pd.read_csv('csv_files/unbalanced_train_segments.csv', header=0, sep=';')"
   ]
  },
  {
   "cell_type": "code",
   "execution_count": 20,
   "metadata": {},
   "outputs": [],
   "source": [
    "## Twee opties: \n",
    "# * balanced en unbalanced samen (zeer traag)\n",
    "# * enkel balanced (bijna geen matches)\n",
    "\n",
    "vid_to_mid = pd.concat([vid_to_mid_balanced, vid_to_mid_unbalanced])\n",
    "#vid_to_mid = vid_to_mid_balanced"
   ]
  },
  {
   "cell_type": "code",
   "execution_count": 8,
   "metadata": {},
   "outputs": [],
   "source": [
    "#### Zoek bij een set m-id's de bijbehorende labels (mbv class_labels_indices.csv)\n",
    "\n",
    "## Find labels for set of m-id's\n",
    "## Input: cell of vid-to-mid tabel\n",
    "## Output: list of unique labels belonging to mids and which are selected for our model\n",
    "\n",
    "def getLabels(mid_str):\n",
    "    \n",
    "    ## Create a list of mids (instead of one string)\n",
    "    mid_list = mid_str.split(',')\n",
    "\n",
    "    ## For this list of m-id's, find all labels (that we want to include in our model)\n",
    "    labels = []\n",
    "    \n",
    "    ## For each m-id, find labels, if any labels: add to label list\n",
    "    for mid in mid_list:\n",
    "        if (mid_to_label.loc[mid_to_label['mid'] == mid, 'in_model'] == 1).any():\n",
    "            labels.append(mid_to_label.loc[mid_to_label['mid'] == mid, 'superclass'].values[0])\n",
    "            \n",
    "    ## Return unique set of labels\n",
    "    return set(labels)"
   ]
  },
  {
   "cell_type": "code",
   "execution_count": 9,
   "metadata": {},
   "outputs": [],
   "source": [
    "## Function that takes a set of labels and returns numbers, belonging to label\n",
    "## Let op: dit zijn nog niet de labels die we uiteindelijk kiezen!! Het is puur even om te testen\n",
    "\n",
    "def getLabelIndices(labels):\n",
    "    label_indices = []\n",
    "    \n",
    "    if 'Speech' in labels:\n",
    "        label_indices.append(1)\n",
    "    if 'Music' in labels:\n",
    "        label_indices.append(2)\n",
    "    if 'Animal' in labels:\n",
    "        label_indices.append(3)\n",
    "    if 'Gunshots' in labels:\n",
    "        label_indices.append(4)\n",
    "    if 'Tools' in labels:\n",
    "        label_indices.append(5)\n",
    "    \n",
    "    return label_indices"
   ]
  },
  {
   "cell_type": "code",
   "execution_count": 18,
   "metadata": {},
   "outputs": [],
   "source": [
    "#### Lees tf-records en iterate over de examples\n",
    "#### Voor elk example wordt de video-id gepakt en de bijbehorende lijst m-id's gezocht (in balanced_segment.csv)\n",
    "\n",
    "## One tf-record has several examples\n",
    "## This function checks for each example if it has a label we are interested in\n",
    "## If so, we compute the one-hot vector\n",
    "## Input: filename of tf-record\n",
    "## Result: write new tf-record\n",
    "\n",
    "def readTfRecord(tfrecords_filename):\n",
    "\n",
    "    ## Keys in tf-record: labels, mean_audio, mean_rgb, video_id\n",
    "    \n",
    "    ## Create writer that writes new tf-record in train_data_folder_new\n",
    "    path_tfrecord_new = str(train_data_folder_new + tfrecords_filename.split('\\\\')[1])\n",
    "    writer = tf.python_io.TFRecordWriter(path_tfrecord_new)\n",
    "        \n",
    "    ## Iterator that goes through all examples of tf-record\n",
    "    record_iterator = tf.python_io.tf_record_iterator(path=tfrecords_filename)\n",
    "\n",
    "    for string_record in record_iterator:\n",
    "        \n",
    "        ## Take one example\n",
    "        example = tf.train.Example()\n",
    "        example.ParseFromString(string_record)\n",
    "        \n",
    "        ## Take the video id (substring -> [3:-2], because it contains some noise)\n",
    "        video_id = str(example.features.feature['video_id'].bytes_list.value)[3:-2]\n",
    "        \n",
    "        ## Find mid-cell in table vid_to_mid for the video id\n",
    "        ## YTID = vid, positive_label = mid\n",
    "        mids = vid_to_mid.loc[vid_to_mid['YTID'].str.contains(video_id), 'positive_labels']\n",
    "        \n",
    "        ## If row exists, find labels for mids\n",
    "        if mids.shape[0] > 0:\n",
    "            labels = getLabels(str(mids))\n",
    "            \n",
    "            ## If mid has any labels (for our model), write new tf-record\n",
    "            if len(labels) > 0:\n",
    "                \n",
    "                ## Find label index for each label (1=speech, 2=music etc)\n",
    "                label_indices = getLabelIndices(labels)\n",
    "                \n",
    "                ## Bind the rgb-values and the label-indices and put them in the new example\n",
    "                feature = {'label': tf.train.Feature(int64_list=tf.train.Int64List(value=label_indices)),\n",
    "                           'mean_rgb': example.features.feature['mean_rgb']}\n",
    "                example_new = tf.train.Example(features=tf.train.Features(feature=feature))\n",
    "                \n",
    "                ## Write the example\n",
    "                writer.write(example.SerializeToString())\n",
    "                print('Example gemaakt!')\n",
    "                \n",
    "    writer.close()"
   ]
  },
  {
   "cell_type": "code",
   "execution_count": 23,
   "metadata": {
    "scrolled": true
   },
   "outputs": [],
   "source": [
    "######################## This code will finally invoke all the other functions\n",
    "\n",
    "## Read all train files\n",
    "files = gfile.Glob(train_data_pattern)\n",
    "\n",
    "for file in files:\n",
    "    \n",
    "    ## Read a file and rewrite it\n",
    "    readTfRecord(file)"
   ]
  },
  {
   "cell_type": "code",
   "execution_count": null,
   "metadata": {},
   "outputs": [],
   "source": []
  }
 ],
 "metadata": {
  "kernelspec": {
   "display_name": "Python 3",
   "language": "python",
   "name": "python3"
  },
  "language_info": {
   "codemirror_mode": {
    "name": "ipython",
    "version": 3
   },
   "file_extension": ".py",
   "mimetype": "text/x-python",
   "name": "python",
   "nbconvert_exporter": "python",
   "pygments_lexer": "ipython3",
   "version": "3.6.4"
  }
 },
 "nbformat": 4,
 "nbformat_minor": 2
}
