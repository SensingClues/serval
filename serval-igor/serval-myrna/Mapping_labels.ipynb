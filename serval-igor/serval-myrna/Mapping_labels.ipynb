{
 "cells": [
  {
   "cell_type": "code",
   "execution_count": 1,
   "metadata": {
    "scrolled": true
   },
   "outputs": [
    {
     "name": "stderr",
     "output_type": "stream",
     "text": [
      "C:\\ProgramData\\Anaconda3\\lib\\site-packages\\h5py\\__init__.py:36: FutureWarning: Conversion of the second argument of issubdtype from `float` to `np.floating` is deprecated. In future, it will be treated as `np.float64 == np.dtype(float).type`.\n",
      "  from ._conv import register_converters as _register_converters\n"
     ]
    }
   ],
   "source": [
    "## De functie die tf-records leest en ze uiteindelijk weer wegschrijft (maar dan met minder labels) heet readTfRecord\n",
    "## Deze functie roept andere functies aan: getLabels en getLabelIndices\n",
    "\n",
    "import numpy as np\n",
    "import pandas as pd\n",
    "import re\n",
    "import os\n",
    "import random\n",
    "from collections import Counter\n",
    "\n",
    "import tensorflow as tf\n",
    "from tensorflow import gfile"
   ]
  },
  {
   "cell_type": "code",
   "execution_count": 2,
   "metadata": {},
   "outputs": [],
   "source": [
    "train_data_pattern = 'tfrecords/train_data_old/*.tfrecord'\n",
    "train_data_folder_new = 'tfrecords/train_data_new'\n",
    "test_data_pattern = 'tfrecords/test_data_old/*.tfrecord'\n",
    "test_data_folder_new = 'tfrecords/test_data_new'"
   ]
  },
  {
   "cell_type": "code",
   "execution_count": 3,
   "metadata": {},
   "outputs": [],
   "source": [
    "## Keep list of all new labels (to see which ones occur often)\n",
    "all_labels = []\n",
    "label_combinations = []\n",
    "# Maximal proportion for labels\n",
    "max_prop = 0.01"
   ]
  },
  {
   "cell_type": "code",
   "execution_count": 4,
   "metadata": {},
   "outputs": [],
   "source": [
    "## Open old csv file and alternated csv file with the super classes\n",
    "mid_to_label_old = pd.read_csv('csv_files/class_labels_indices.csv')\n",
    "mid_to_label_new = pd.read_csv('csv_files/class_labels_indices_proportions.csv', sep=\";\")"
   ]
  },
  {
   "cell_type": "code",
   "execution_count": 5,
   "metadata": {},
   "outputs": [],
   "source": [
    "## Deze functie checkt of een example wordt gemaakt (met kans)\n",
    "def checkIfNewExample(labels):\n",
    "    \n",
    "    ## Veel combi's komen erg vaak voor. Ik heb handmatig kansen verzonnen waarop een example wordt gemaakt\n",
    "    ## In de toekomst moet dit uiteraard beter\n",
    "    if len(labels)>1:\n",
    "        rand = random.random()\n",
    "        if labels==[0,4] or labels==[4,0]:\n",
    "            if rand <= 0.02:\n",
    "                return True\n",
    "            else:\n",
    "                return False\n",
    "        elif labels==[0,6] or labels==[0,6]:\n",
    "            if rand <= 0.5:\n",
    "                return True\n",
    "            else:\n",
    "                return False\n",
    "        elif labels==[4,5] or labels==[5,4]:\n",
    "            if rand <= 0.04:\n",
    "                return True\n",
    "            else:\n",
    "                return False\n",
    "        elif labels==[0,4,5] or labels==[0,5,4] or labels==[4,0,5] or labels==[4,5,0] or labels==[5,0,4] or labels==[5,4,0]:\n",
    "            if rand <= 0.1:\n",
    "                return True\n",
    "            else:\n",
    "                return False\n",
    "        else:\n",
    "            return True\n",
    "    else:\n",
    "        label = labels[0]\n",
    "        proportion = mid_to_label_new.loc[np.int(label), \"proportion\"]\n",
    "        \n",
    "        ## Als proportie niet max_prop overschrijdt, return true\n",
    "        if proportion < max_prop:\n",
    "            return True\n",
    "        else:\n",
    "            prob = max_prop/proportion\n",
    "            rand = random.random()\n",
    "            if rand <= prob:\n",
    "                return True\n",
    "            else:\n",
    "                return False\n",
    "    return False"
   ]
  },
  {
   "cell_type": "code",
   "execution_count": 6,
   "metadata": {},
   "outputs": [],
   "source": [
    "#### Find new label for each of old label (527 -> 31)\n",
    "\n",
    "def getNewLabel(label_old):\n",
    "    ## Get m-id that matches with index\n",
    "    mid = mid_to_label_old.loc[mid_to_label_old['index']==label_old, 'mid']\n",
    "\n",
    "    ## Find the new label belonging to this m-id\n",
    "    label_new = mid_to_label_new.loc[mid_to_label_new['mid']==str(mid.values[0]), 'index']\n",
    "    \n",
    "    return label_new"
   ]
  },
  {
   "cell_type": "code",
   "execution_count": 7,
   "metadata": {},
   "outputs": [],
   "source": [
    "def createExample(example_old, new_labels):\n",
    "    \n",
    "    #print(\"New labels: \" + str(new_labels))\n",
    "    \n",
    "    audio_embedding = example_old.feature_lists.feature_list['audio_embedding']\n",
    "    feature_lists = tf.train.FeatureLists(feature_list={\"audio_embedding\": audio_embedding})\n",
    "\n",
    "    label_feat = tf.train.Feature(int64_list=tf.train.Int64List(value=new_labels))\n",
    "    video_id = example_old.context.feature['video_id'].bytes_list.value\n",
    "    videoid_feat = tf.train.Feature(bytes_list=tf.train.BytesList(value=video_id)) \n",
    "\n",
    "    context_feats = tf.train.Features(feature={\"labels\": label_feat, \"video_id\": videoid_feat})\n",
    "\n",
    "    sequence_example = tf.train.SequenceExample(context=context_feats, feature_lists=feature_lists)\n",
    "    \n",
    "    return sequence_example"
   ]
  },
  {
   "cell_type": "code",
   "execution_count": 8,
   "metadata": {},
   "outputs": [],
   "source": [
    "#### Lees tf-records en iterate over de examples#### Lee \n",
    "#### Voor elk example wordt de video-id gepakt en de bijbehorende lijst m-id's gezocht (in balanced_segment.csv)\n",
    "\n",
    "## One tf-record has several examples\n",
    "## This function checks for each example if it has a label we are interested in\n",
    "## If so, we compute the one-hot vector\n",
    "## Input: filename of tf-record\n",
    "## Result: write new tf-record\n",
    "\n",
    "def readWriteTfRecord(tfrecords_filename, new_folder):\n",
    "    \n",
    "    ## Create writer that writes new tf-record in train_data_folder_new\n",
    "    path_tfrecord_new = str(new_folder + '/' + tfrecords_filename.split('\\\\')[-1])\n",
    "    writer = tf.python_io.TFRecordWriter(path_tfrecord_new)\n",
    "    nr_new_examples = 0\n",
    "    \n",
    "    ## Iterator that goes through all examples of tf-record\n",
    "    record_iterator = tf.python_io.tf_record_iterator(path=tfrecords_filename)\n",
    "\n",
    "    \n",
    "    for string_record in record_iterator:\n",
    "        \n",
    "        ## Take one example\n",
    "        example = tf.train.SequenceExample()\n",
    "        example.ParseFromString(string_record)\n",
    " \n",
    "        ## Get labels and find for each label the m-code in class_label_indices_old\n",
    "        labels = example.context.feature['labels'].int64_list.value\n",
    "        \n",
    "        new_labels = []\n",
    "        for label in labels:\n",
    "            ## Hij returnt een set van cellen (of leeg of van 1 rij)\n",
    "            label_new = getNewLabel(label)\n",
    "            \n",
    "            if(label_new.shape[0]>0):\n",
    "                new_labels.append(label_new.values[0])\n",
    "        \n",
    "        ## If any of the labels left (for our model), write new tf-record\n",
    "        if len(new_labels) > 0 and checkIfNewExample(new_labels):\n",
    "        #if len(new_labels) > 0:\n",
    "            ## Add to all labels\n",
    "            all_labels.extend(new_labels)\n",
    "            label_combinations.append(new_labels)\n",
    "   \n",
    "            sequence_example = createExample(example, new_labels)\n",
    "            nr_new_examples += 1\n",
    "            \n",
    "            ## Write the example\n",
    "            writer.write(sequence_example.SerializeToString())\n",
    "            #print('Example gemaakt! Video-id: ' + str(example.context.feature['video_id'].bytes_list.value))\n",
    "\n",
    "    #print(\"nr new examples: \" + str(nr_new_examples))\n",
    "    # Only write if any examples created\n",
    "\n",
    "    if nr_new_examples > 0:\n",
    "        writer.close()\n",
    "        #print(\"tfrecord written\")\n",
    "    else:\n",
    "        #print(\"empty file.. remove: \" + path_tfrecord_new)\n",
    "        os.remove(path_tfrecord_new)"
   ]
  },
  {
   "cell_type": "code",
   "execution_count": 9,
   "metadata": {
    "scrolled": false
   },
   "outputs": [],
   "source": [
    "## Read and rewrite all train files\n",
    "#train_data_pattern = 'tfrecords/train_data_old/*2.tfrecord'\n",
    "files = gfile.Glob(train_data_pattern)\n",
    "\n",
    "for file in files:\n",
    "    \n",
    "    ## Read a file and rewrite it\n",
    "    readWriteTfRecord(file, train_data_folder_new)"
   ]
  },
  {
   "cell_type": "code",
   "execution_count": 10,
   "metadata": {
    "scrolled": false
   },
   "outputs": [
    {
     "name": "stdout",
     "output_type": "stream",
     "text": [
      "Vehicle  :  40367\n",
      "Speech  :  37240\n",
      "Car  :  15862\n",
      "Music  :  15712\n",
      "Animal  :  13415\n",
      "Domestic animals, pets  :  7582\n",
      "Boat, Water vehicle  :  4891\n",
      "Accelerating, revving, vroom  :  4677\n",
      "Motor vehicle (road)  :  3580\n",
      "Rail transport  :  3136\n",
      "Tools  :  2879\n",
      "Medium engine (mid frequency)  :  2754\n",
      "Idling  :  2718\n",
      "Motorcycle  :  2497\n",
      "Musical instrument  :  2463\n",
      "Aircraft  :  1947\n",
      "Emergency vehicle  :  1911\n",
      "Bus  :  1852\n",
      "Heavy engine (low frequency)  :  1607\n",
      "Car passing by  :  1564\n",
      "Gunshot, gunfire  :  1356\n",
      "Vehicle horn, car horn, honking  :  1322\n",
      "Police car (siren)  :  1202\n",
      "Power tool  :  1154\n",
      "Fire engine, fire truck (siren)  :  1096\n",
      "Conversation  :  861\n",
      "Ambulance (siren)  :  641\n",
      "Machine gun  :  579\n",
      "Chainsaw  :  576\n",
      "Traffic noise, roadway noise  :  568\n",
      "Engine starting  :  443\n",
      "Hammer  :  135\n",
      "Train wheels squealing  :  128\n",
      "Jackhammer  :  60\n"
     ]
    }
   ],
   "source": [
    "sum_occur = 0\n",
    "cnt_labels = Counter(all_labels)\n",
    "for i in cnt_labels.most_common(100):\n",
    "    sum_occur = sum_occur + i[1]\n",
    "    print(mid_to_label_new.loc[np.int(i[0])]['display_name'], ' : ', str(i[1]))"
   ]
  },
  {
   "cell_type": "code",
   "execution_count": 11,
   "metadata": {},
   "outputs": [],
   "source": [
    "## Tellen van lijsten in lijsten is lastig, vandaar dat ik er strings van maak: [0,4] wordt [\"0_4\"]\n",
    "str_combis = []\n",
    "\n",
    "for combi in label_combinations:\n",
    "    str_combi = [str(i) for i in combi]\n",
    "    str_combi = \"_\".join(str_combi)\n",
    "    str_combis.append(str_combi)"
   ]
  },
  {
   "cell_type": "code",
   "execution_count": 12,
   "metadata": {},
   "outputs": [
    {
     "name": "stdout",
     "output_type": "stream",
     "text": [
      "Speech, Vehicle :  6463\n",
      "Speech :  5701\n",
      "Music :  5335\n",
      "Vehicle, Car :  5072\n",
      "Speech, Animal :  3695\n",
      "Animal, Domestic animals, pets :  3041\n",
      "Speech, Vehicle, Car :  2808\n",
      "Speech, Animal, Domestic animals, pets :  2623\n",
      "Animal :  2519\n",
      "Speech, Music :  2211\n",
      "Vehicle :  1946\n",
      "Music, Musical instrument :  1617\n",
      "Vehicle, Boat, Water vehicle :  1467\n",
      "Vehicle, Car, Accelerating, revving, vroom :  1442\n",
      "Speech, Vehicle, Boat, Water vehicle :  1375\n",
      "Rail transport :  1308\n",
      "Boat, Water vehicle :  1298\n",
      "Vehicle, Motorcycle :  1274\n",
      "Vehicle, Rail transport :  1270\n",
      "Vehicle, Aircraft :  1060\n"
     ]
    }
   ],
   "source": [
    "## Geef meest voorkomende combinaties\n",
    "\n",
    "cnt_label_combinations = Counter(str_combis)\n",
    "for label_combination in cnt_label_combinations.most_common(20):\n",
    "    label_names = []\n",
    "    label_list = label_combination[0].split(\"_\")\n",
    "    for i in label_list:\n",
    "        label_names.append(str(mid_to_label_new.loc[np.int(i)]['display_name']))\n",
    "    label_names = ', '.join(label_names)\n",
    "    print(label_names,': ', label_combination[1])"
   ]
  },
  {
   "cell_type": "code",
   "execution_count": 13,
   "metadata": {},
   "outputs": [],
   "source": [
    "## Read and rewrite all test files\n",
    "files = gfile.Glob(test_data_pattern)\n",
    "\n",
    "for file in files:\n",
    "    \n",
    "    ## Read a file and rewrite it\n",
    "    readWriteTfRecord(file, test_data_folder_new)"
   ]
  },
  {
   "cell_type": "code",
   "execution_count": null,
   "metadata": {},
   "outputs": [],
   "source": []
  }
 ],
 "metadata": {
  "kernelspec": {
   "display_name": "Python 3",
   "language": "python",
   "name": "python3"
  },
  "language_info": {
   "codemirror_mode": {
    "name": "ipython",
    "version": 3
   },
   "file_extension": ".py",
   "mimetype": "text/x-python",
   "name": "python",
   "nbconvert_exporter": "python",
   "pygments_lexer": "ipython3",
   "version": "3.6.4"
  }
 },
 "nbformat": 4,
 "nbformat_minor": 2
}
