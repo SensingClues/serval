{
 "cells": [
  {
   "cell_type": "code",
   "execution_count": 210,
   "metadata": {
    "scrolled": true
   },
   "outputs": [],
   "source": [
    "## De functie die tf-records leest en ze uiteindelijk weer wegschrijft (maar dan met minder labels) heet readTfRecord\n",
    "## Deze functie roept andere functies aan: getLabels en getLabelIndices\n",
    "\n",
    "import numpy as np\n",
    "import pandas as pd\n",
    "import re\n",
    "import os\n",
    "import random\n",
    "from collections import Counter\n",
    "\n",
    "import tensorflow as tf\n",
    "from tensorflow import gfile"
   ]
  },
  {
   "cell_type": "code",
   "execution_count": 211,
   "metadata": {},
   "outputs": [],
   "source": [
    "train_data_pattern = 'tfrecords/train_data_old/*.tfrecord'\n",
    "train_data_folder_new = 'tfrecords/train_data_new'\n",
    "test_data_pattern = 'tfrecords/test_data_old/*.tfrecord'\n",
    "test_data_folder_new = 'tfrecords/test_data_new'"
   ]
  },
  {
   "cell_type": "code",
   "execution_count": 236,
   "metadata": {},
   "outputs": [],
   "source": [
    "## Keep list of all new labels (to see which ones occur often)\n",
    "all_labels = []\n",
    "label_combinations = []\n",
    "# Maximal proportion for labels\n",
    "max_prop = 0.005"
   ]
  },
  {
   "cell_type": "code",
   "execution_count": 237,
   "metadata": {},
   "outputs": [],
   "source": [
    "## Open old csv file and alternated csv file with the super classes\n",
    "mid_to_label_old = pd.read_csv('csv_files/class_labels_indices.csv')\n",
    "mid_to_label_new = pd.read_csv('csv_files/class_labels_indices_proportions.csv', sep=\";\")"
   ]
  },
  {
   "cell_type": "code",
   "execution_count": 253,
   "metadata": {},
   "outputs": [],
   "source": [
    "## Deze functie checkt of een example wordt gemaakt (met kans)\n",
    "def checkIfNewExample(labels):\n",
    "    \n",
    "    ## Veel combi's komen erg vaak voor. Ik heb handmatig kansen verzonnen waarop een example wordt gemaakt\n",
    "    ## In de toekomst moet dit uiteraard beter\n",
    "    if len(labels)>1:\n",
    "        rand = random.random()\n",
    "        if set(labels)==set([0,4]):\n",
    "            if rand <= 0.015:\n",
    "                return True\n",
    "            else:\n",
    "                return False\n",
    "        elif set(labels)==set([4,5]):\n",
    "            if rand <= 0.03:\n",
    "                return True\n",
    "            else:\n",
    "                return False\n",
    "        elif set(labels)==set([0,6]) or set(labels)==set([6,8,17]) or set(labels)==set([0,4,5]) or set(labels)==set():\n",
    "            if rand <= 0.12:\n",
    "                return True\n",
    "            else:\n",
    "                return False\n",
    "        elif set(labels)==set([0,4,5]) or  set(labels)==set([6,7]) or set(labels)==set([0,2,3]) or set(labels)==set([0,6,8,17]):\n",
    "            if rand <= 0.25:\n",
    "                return True\n",
    "            else:\n",
    "                return False\n",
    "        elif set(labels)==set([6,10]) or set(labels)==set([0,5]) or set(labels)==set([6,8,25]) or set(labels)==set([6,9]) or set(labels)==set([0,6,7]) or set(labels)==set([6,8,17,27,33]):\n",
    "            if rand <= 0.4:\n",
    "                return True\n",
    "            else:\n",
    "                return False\n",
    "        elif set(labels)==set([6,27,33]) or set(labels)==set([6,8,17,18]) or set(labels)==set([6,8,17,19]) or set(labels)==set([2,3]) or set(labels)==set([0,6,8,20]):\n",
    "            if rand <= 0.7:\n",
    "                return True\n",
    "            else:\n",
    "                return False\n",
    "        else:\n",
    "            return True\n",
    "    else:\n",
    "        label = list(labels)[0]\n",
    "        proportion = mid_to_label_new.loc[np.int(label), \"proportion\"]\n",
    "        rand = random.random()\n",
    "        ## Als proportie niet max_prop overschrijdt, return true\n",
    "        if label==33 or label==34:\n",
    "            if rand <= 0.7:\n",
    "                return True\n",
    "            else:\n",
    "                return False\n",
    "        elif proportion < max_prop:\n",
    "            return True\n",
    "        else:\n",
    "            prob = max_prop/proportion\n",
    "            if rand <= prob:\n",
    "                return True\n",
    "            else:\n",
    "                return False\n",
    "    return False"
   ]
  },
  {
   "cell_type": "code",
   "execution_count": 239,
   "metadata": {},
   "outputs": [],
   "source": [
    "#### Find new label for each of old label (527 -> 31)\n",
    "\n",
    "def getNewLabel(label_old):\n",
    "    ## Get m-id that matches with index\n",
    "    mid = mid_to_label_old.loc[mid_to_label_old['index']==label_old, 'mid']\n",
    "\n",
    "    ## Find the new label belonging to this m-id\n",
    "    label_new = mid_to_label_new.loc[mid_to_label_new['mid']==str(mid.values[0]), 'index']\n",
    "    \n",
    "    return label_new"
   ]
  },
  {
   "cell_type": "code",
   "execution_count": 240,
   "metadata": {},
   "outputs": [],
   "source": [
    "def createExample(example_old, new_labels):\n",
    "    \n",
    "    #print(\"New labels: \" + str(new_labels))\n",
    "    \n",
    "    audio_embedding = example_old.feature_lists.feature_list['audio_embedding']\n",
    "    feature_lists = tf.train.FeatureLists(feature_list={\"audio_embedding\": audio_embedding})\n",
    "\n",
    "    label_feat = tf.train.Feature(int64_list=tf.train.Int64List(value=new_labels))\n",
    "    video_id = example_old.context.feature['video_id'].bytes_list.value\n",
    "    videoid_feat = tf.train.Feature(bytes_list=tf.train.BytesList(value=video_id)) \n",
    "\n",
    "    context_feats = tf.train.Features(feature={\"labels\": label_feat, \"video_id\": videoid_feat})\n",
    "\n",
    "    sequence_example = tf.train.SequenceExample(context=context_feats, feature_lists=feature_lists)\n",
    "    \n",
    "    return sequence_example"
   ]
  },
  {
   "cell_type": "code",
   "execution_count": 241,
   "metadata": {},
   "outputs": [],
   "source": [
    "def getParents(label, parents):\n",
    "    \n",
    "    parent = int(mid_to_label_new.loc[mid_to_label_new['index']==label, 'parent'])\n",
    "    \n",
    "    if parent==999:\n",
    "        return parents\n",
    "    else:\n",
    "        parents.append(parent)\n",
    "        return getParents(parent, parents)\n",
    "    return parent\n",
    "\n",
    "def getLabelsWithParents(labels):\n",
    "    total_labels = labels\n",
    "    for label in labels:\n",
    "        parents = getParents(label, [])\n",
    "        total_labels.extend(parents)\n",
    "    return(set(total_labels))"
   ]
  },
  {
   "cell_type": "code",
   "execution_count": 242,
   "metadata": {},
   "outputs": [],
   "source": [
    "#### Lees tf-records en iterate over de examples#### Lee \n",
    "#### Voor elk example wordt de video-id gepakt en de bijbehorende lijst m-id's gezocht (in balanced_segment.csv)\n",
    "\n",
    "## One tf-record has several examples\n",
    "## This function checks for each example if it has a label we are interested in\n",
    "## If so, we compute the one-hot vector\n",
    "## Input: filename of tf-record\n",
    "## Result: write new tf-record\n",
    "\n",
    "def readWriteTfRecord(tfrecords_filename, new_folder):\n",
    "    \n",
    "    ## Create writer that writes new tf-record in train_data_folder_new\n",
    "    path_tfrecord_new = str(new_folder + '/' + tfrecords_filename.split('\\\\')[-1])\n",
    "    writer = tf.python_io.TFRecordWriter(path_tfrecord_new)\n",
    "    nr_new_examples = 0\n",
    "    \n",
    "    ## Iterator that goes through all examples of tf-record\n",
    "    record_iterator = tf.python_io.tf_record_iterator(path=tfrecords_filename)\n",
    "\n",
    "    \n",
    "    for string_record in record_iterator:\n",
    "        \n",
    "        ## Take one example\n",
    "        example = tf.train.SequenceExample()\n",
    "        example.ParseFromString(string_record)\n",
    " \n",
    "        ## Get labels and find for each label the m-code in class_label_indices_old\n",
    "        labels = example.context.feature['labels'].int64_list.value\n",
    "        \n",
    "        new_labels = []\n",
    "        for label in labels:\n",
    "            ## Hij returnt een set van cellen (of leeg of van 1 rij)\n",
    "            label_new = getNewLabel(label)\n",
    "            \n",
    "            if(label_new.shape[0]>0):\n",
    "                new_labels.append(label_new.values[0])\n",
    "        \n",
    "        ## Als enkele (grand)parents ontbreken, voeg ze toe\n",
    "        new_labels = getLabelsWithParents(new_labels)\n",
    "        ## If any of the labels left (for our model), write new tf-record\n",
    "        if len(new_labels) > 0 and checkIfNewExample(new_labels):\n",
    "        #if len(new_labels) > 0:\n",
    "            ## Add to all labels\n",
    "            all_labels.extend(new_labels)\n",
    "            label_combinations.append(new_labels)\n",
    "   \n",
    "            sequence_example = createExample(example, new_labels)\n",
    "            nr_new_examples += 1\n",
    "            \n",
    "            ## Write the example\n",
    "            writer.write(sequence_example.SerializeToString())\n",
    "            #print('Example gemaakt! Video-id: ' + str(example.context.feature['video_id'].bytes_list.value))\n",
    "\n",
    "    #print(\"nr new examples: \" + str(nr_new_examples))\n",
    "    # Only write if any examples created\n",
    "\n",
    "    if nr_new_examples > 0:\n",
    "        writer.close()\n",
    "        #print(\"tfrecord written\")\n",
    "    else:\n",
    "        #print(\"empty file.. remove: \" + path_tfrecord_new)\n",
    "        os.remove(path_tfrecord_new)"
   ]
  },
  {
   "cell_type": "code",
   "execution_count": 243,
   "metadata": {
    "scrolled": false
   },
   "outputs": [],
   "source": [
    "## Read and rewrite all train files\n",
    "#train_data_pattern = 'tfrecords/train_data_old/*2.tfrecord'\n",
    "files = gfile.Glob(train_data_pattern)\n",
    "\n",
    "for file in files:\n",
    "    \n",
    "    ## Read a file and rewrite it\n",
    "    readWriteTfRecord(file, train_data_folder_new)"
   ]
  },
  {
   "cell_type": "code",
   "execution_count": 244,
   "metadata": {
    "scrolled": false
   },
   "outputs": [
    {
     "name": "stdout",
     "output_type": "stream",
     "text": [
      "Vehicle  :  28757\n",
      "Speech  :  23129\n",
      "Motor vehicle (road)  :  16886\n",
      "Music  :  11805\n",
      "Animal  :  10908\n",
      "Car  :  9601\n",
      "Engine  :  8741\n",
      "Domestic animals, pets  :  5080\n",
      "Accelerating, revving, vroom  :  3760\n",
      "Tools  :  3330\n",
      "Emergency vehicle  :  2882\n",
      "Medium engine (mid frequency)  :  2754\n",
      "Idling  :  2718\n",
      "Boat, Water vehicle  :  2233\n",
      "Motorcycle  :  2075\n",
      "Bus  :  1852\n",
      "Musical instrument  :  1849\n",
      "Heavy engine (low frequency)  :  1607\n",
      "Gunshot, gunfire  :  1606\n",
      "Rail transport  :  1587\n",
      "Car passing by  :  1564\n",
      "Aircraft  :  1538\n",
      "Vehicle horn, car horn, honking  :  1322\n",
      "Police car (siren)  :  1202\n",
      "Power tool  :  1154\n",
      "Fire engine, fire truck (siren)  :  1096\n",
      "Conversation  :  861\n",
      "Ambulance (siren)  :  641\n",
      "Machine gun  :  579\n",
      "Chainsaw  :  576\n",
      "Traffic noise, roadway noise  :  568\n",
      "Engine starting  :  443\n",
      "Hammer  :  135\n",
      "Train wheels squealing  :  128\n",
      "Jackhammer  :  60\n"
     ]
    }
   ],
   "source": [
    "sum_occur = 0\n",
    "cnt_labels = Counter(all_labels)\n",
    "for i in cnt_labels.most_common(100):\n",
    "    sum_occur = sum_occur + i[1]\n",
    "    print(mid_to_label_new.loc[np.int(i[0])]['display_name'], ' : ', str(i[1]))"
   ]
  },
  {
   "cell_type": "code",
   "execution_count": 245,
   "metadata": {},
   "outputs": [],
   "source": [
    "## Tellen van lijsten in lijsten is lastig, vandaar dat ik er strings van maak: [0,4] wordt [\"0_4\"]\n",
    "str_combis = []\n",
    "\n",
    "for combi in label_combinations:\n",
    "    str_combi = [str(i) for i in combi]\n",
    "    str_combi = \"_\".join(str_combi)\n",
    "    str_combis.append(str_combi)"
   ]
  },
  {
   "cell_type": "code",
   "execution_count": 249,
   "metadata": {},
   "outputs": [
    {
     "name": "stdout",
     "output_type": "stream",
     "text": [
      "Animal, Domestic animals, pets :  3723\n",
      "Speech, Animal :  3695\n",
      "Speech :  3131\n",
      "Music :  2935\n",
      "Speech, Vehicle :  1257\n",
      "Motor vehicle (road), Car, Vehicle :  1239\n",
      "Animal :  1220\n",
      "Speech, Car, Vehicle, Motor vehicle (road) :  1114\n",
      "Vehicle, Boat, Water vehicle :  1112\n",
      "Speech, Music :  1074\n",
      "Motor vehicle (road), Motorcycle, Vehicle :  1024\n",
      "Speech, Music, Musical instrument :  1015\n",
      "Rail transport, Vehicle :  1012\n",
      "Tools :  939\n",
      "Motor vehicle (road), Bus, Vehicle :  908\n",
      "Aircraft, Vehicle :  906\n",
      "Tools, Power tool :  905\n",
      "Vehicle :  884\n",
      "Gunshot, gunfire :  851\n",
      "Motor vehicle (road), Car, Car passing by, Vehicle :  851\n",
      "Music, Musical instrument :  819\n",
      "Motor vehicle (road), Car, Vehicle horn, car horn, honking, Vehicle :  780\n",
      "Speech, Tools :  771\n",
      "Speech, Conversation :  764\n",
      "Accelerating, revving, vroom, Engine, Vehicle :  747\n",
      "Music, Vehicle :  746\n",
      "Speech, Music, Vehicle :  695\n",
      "Speech, Vehicle, Boat, Water vehicle :  693\n",
      "Speech, Motor vehicle (road), Bus, Vehicle :  686\n",
      "Accelerating, revving, vroom, Vehicle, Motor vehicle (road), Car, Engine :  630\n",
      "Speech, Animal, Domestic animals, pets :  627\n",
      "Motor vehicle (road), Emergency vehicle, Police car (siren), Vehicle :  592\n",
      "Fire engine, fire truck (siren), Motor vehicle (road), Emergency vehicle, Vehicle :  580\n",
      "Motor vehicle (road), Car, Music, Vehicle :  564\n",
      "Speech, Motorcycle, Vehicle, Motor vehicle (road) :  517\n",
      "Engine, Heavy engine (low frequency) :  500\n",
      "Speech, Music, Vehicle, Motor vehicle (road), Car :  490\n",
      "Speech, Vehicle, Motor vehicle (road), Car, Car passing by :  472\n",
      "Speech, Aircraft, Vehicle :  452\n",
      "Machine gun, Gunshot, gunfire :  450\n",
      "Speech, Animal, Music :  440\n",
      "Animal, Music :  437\n",
      "Motor vehicle (road), Vehicle :  359\n",
      "Speech, Animal, Domestic animals, pets, Music :  356\n",
      "Idling, Engine :  355\n",
      "Animal, Domestic animals, pets, Music :  350\n",
      "Speech, Vehicle, Motor vehicle (road), Car, Vehicle horn, car horn, honking :  338\n",
      "Speech, Accelerating, revving, vroom, Vehicle, Motor vehicle (road), Car, Engine :  336\n",
      "Engine, Chainsaw :  325\n",
      "Motor vehicle (road), Emergency vehicle, Vehicle, Ambulance (siren) :  325\n"
     ]
    }
   ],
   "source": [
    "## Geef meest voorkomende combinaties\n",
    "\n",
    "cnt_label_combinations = Counter(str_combis)\n",
    "for label_combination in cnt_label_combinations.most_common(50):\n",
    "    label_names = []\n",
    "    label_list = label_combination[0].split(\"_\")\n",
    "    for i in label_list:\n",
    "        label_names.append(str(mid_to_label_new.loc[np.int(i)]['display_name']))\n",
    "    label_names = ', '.join(label_names)\n",
    "    print(label_names,': ', label_combination[1])"
   ]
  },
  {
   "cell_type": "code",
   "execution_count": 247,
   "metadata": {},
   "outputs": [
    {
     "data": {
      "text/plain": [
       "155027"
      ]
     },
     "execution_count": 247,
     "metadata": {},
     "output_type": "execute_result"
    }
   ],
   "source": [
    "sum_occur"
   ]
  },
  {
   "cell_type": "code",
   "execution_count": 248,
   "metadata": {},
   "outputs": [],
   "source": [
    "## Read and rewrite all test files\n",
    "files = gfile.Glob(test_data_pattern)\n",
    "\n",
    "for file in files:\n",
    "    \n",
    "    ## Read a file and rewrite it\n",
    "    readWriteTfRecord(file, test_data_folder_new)"
   ]
  },
  {
   "cell_type": "code",
   "execution_count": 191,
   "metadata": {},
   "outputs": [],
   "source": [
    "## Code die kolom toevoegt aan label-csv (proportion) en deze in de forloop vult\n",
    "\n",
    "mid_to_label_new[\"proportion\"] = 0\n",
    "\n",
    "for i in range(mid_to_label_new.shape[0]):\n",
    "    nr_occur = cnt_labels[i]\n",
    "    mid_to_label_new.loc[i,\"proportion\"] = round(nr_occur/sum_occur,8)"
   ]
  },
  {
   "cell_type": "code",
   "execution_count": 192,
   "metadata": {},
   "outputs": [],
   "source": [
    "## Schrijf bestandje weg\n",
    "mid_to_label_new.to_csv(\"csv_files/class_labels_indices_proportions.csv\", sep = \";\")"
   ]
  },
  {
   "cell_type": "code",
   "execution_count": 190,
   "metadata": {},
   "outputs": [
    {
     "data": {
      "text/plain": [
       "0.010413249819069784"
      ]
     },
     "execution_count": 190,
     "metadata": {},
     "output_type": "execute_result"
    }
   ],
   "source": []
  }
 ],
 "metadata": {
  "kernelspec": {
   "display_name": "Python 3",
   "language": "python",
   "name": "python3"
  },
  "language_info": {
   "codemirror_mode": {
    "name": "ipython",
    "version": 3
   },
   "file_extension": ".py",
   "mimetype": "text/x-python",
   "name": "python",
   "nbconvert_exporter": "python",
   "pygments_lexer": "ipython3",
   "version": "3.6.4"
  }
 },
 "nbformat": 4,
 "nbformat_minor": 2
}
