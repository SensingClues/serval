{
 "cells": [
  {
   "cell_type": "code",
   "execution_count": null,
   "metadata": {
    "scrolled": false
   },
   "outputs": [],
   "source": [
    "## De functie die tf-records leest en ze uiteindelijk weer wegschrijft (maar dan met minder labels) heet readTfRecord\n",
    "## Deze functie roept andere functies aan: getLabels en getLabelIndices\n",
    "\n",
    "import tensorflow as tf\n",
    "import numpy as np\n",
    "import pandas as pd\n",
    "import re\n",
    "from tensorflow import gfile\n",
    "#from collections import Counter\n",
    "#import readers\n",
    "#import utils"
   ]
  },
  {
   "cell_type": "code",
   "execution_count": null,
   "metadata": {},
   "outputs": [],
   "source": [
    "train_data_pattern = 'tfrecords/train_data_old/*.tfrecord'\n",
    "train_data_folder_new = 'train_data_new'"
   ]
  },
  {
   "cell_type": "code",
   "execution_count": null,
   "metadata": {},
   "outputs": [],
   "source": [
    "## Open het oude csv-bestand en het aangepaste csv-bestand waarin de superklassen staan\n",
    "mid_to_label_old = pd.read_csv('csv_files/class_labels_indices.csv')\n",
    "mid_to_label_new = pd.read_csv('csv_files/class_labels_indices_new.csv')"
   ]
  },
  {
   "cell_type": "code",
   "execution_count": null,
   "metadata": {},
   "outputs": [],
   "source": [
    "#### Zoek bij een oude label (van de 527) het nieuwe label\n",
    "\n",
    "def getNewLabel(label_old):\n",
    "    ## Get m-id that matches with index\n",
    "    mid = mid_to_label_old.loc[mid_to_label_old['index']==label_old, 'mid']\n",
    "\n",
    "    ## Find the new label belonging to this m-id\n",
    "    label_new = mid_to_label_new.loc[mid_to_label_old['mid']==str(mid.values[0]), 'index']\n",
    "                    \n",
    "    return label_new"
   ]
  },
  {
   "cell_type": "code",
   "execution_count": null,
   "metadata": {},
   "outputs": [],
   "source": [
    "#### Lees tf-records en iterate over de examples#### Lee \n",
    "#### Voor elk example wordt de video-id gepakt en de bijbehorende lijst m-id's gezocht (in balanced_segment.csv)\n",
    "\n",
    "## One tf-record has several examples\n",
    "## This function checks for each example if it has a label we are interested in\n",
    "## If so, we compute the one-hot vector\n",
    "## Input: filename of tf-record\n",
    "## Result: write new tf-record\n",
    "\n",
    "def readWriteTfRecord(tfrecords_filename):\n",
    "    \n",
    "    ## Create writer that writes new tf-record in train_data_folder_new\n",
    "    path_tfrecord_new = str(tfrecords_filename.split('\\\\')[0] + '/' + train_data_folder_new + '/' + tfrecords_filename.split('\\\\')[2])\n",
    "    writer = tf.python_io.TFRecordWriter(path_tfrecord_new)\n",
    "\n",
    "    print(path_tfrecord_new)\n",
    "    ## Iterator that goes through all examples of tf-record\n",
    "    record_iterator = tf.python_io.tf_record_iterator(path=tfrecords_filename)\n",
    "\n",
    "    for string_record in record_iterator:\n",
    "        \n",
    "        ## Take one example\n",
    "        example = tf.train.SequenceExample()\n",
    "        example.ParseFromString(string_record)\n",
    " \n",
    "        ## Get labels and find for each label the m-code in class_label_indices_old\n",
    "        labels = example.context.feature['labels'].int64_list.value\n",
    "        \n",
    "        new_labels = []\n",
    "        for label in labels:\n",
    "            ## hij returnt een set van cellen (of leeg of van 1 rij)\n",
    "            label_new = getNewLabel(label)\n",
    "            if(label_new.shape[0]>0):\n",
    "                new_labels.append(label_new.values[0])\n",
    "\n",
    "        ## If any of the labels left (for our model), write new tf-record\n",
    "        if len(new_labels) > 0:\n",
    "\n",
    "            print(\"New labels: \" + str(new_labels))\n",
    "        \n",
    "            audio_embedding = example.feature_lists.feature_list['audio_embedding']\n",
    "            feature_lists = tf.train.FeatureLists(feature_list={\"audio\": audio_embedding})\n",
    "            \n",
    "            label_feat = tf.train.Feature(int64_list=tf.train.Int64List(value=labels))\n",
    "            context_feats = tf.train.Features(feature={\"labels\": label_feat})\n",
    "            \n",
    "            seqExample = tf.train.SequenceExample(context=context_feats, feature_lists=feature_lists)\n",
    "            \n",
    "#             try:\n",
    "#                 writer\n",
    "#             except NameError:\n",
    "#                 writer = tf.python_io.TFRecordWriter(train_data_folder_new)\n",
    "            \n",
    "            ## Write the example\n",
    "            writer.write(seqExample.SerializeToString())\n",
    "            print('Example gemaakt! Video-id: ' + str(example.context.feature['video_id'].bytes_list.value))\n",
    "\n",
    "    writer.close()\n",
    "    \n",
    "# try:\n",
    "#     if (writer):\n",
    "\n",
    "# except NameError:\n",
    "#         print()"
   ]
  },
  {
   "cell_type": "code",
   "execution_count": null,
   "metadata": {
    "scrolled": false
   },
   "outputs": [],
   "source": [
    "train_data_pattern = 'tfrecords/train_data_old/*.tfrecord'\n",
    "\n",
    "######################## This code will finally invoke all the other functions\n",
    "\n",
    "## Read all train files\n",
    "files = gfile.Glob(train_data_pattern)\n",
    "\n",
    "for file in files:\n",
    "    \n",
    "    ## Read a file and rewrite it\n",
    "    readWriteTfRecord(file)"
   ]
  },
  {
   "cell_type": "code",
   "execution_count": null,
   "metadata": {},
   "outputs": [],
   "source": [
    "# Helper: show Examples in tfrecord file\n",
    "filename = 'tfrecords/train_data_new/_1.tfrecord'\n",
    "record_iterator = tf.python_io.tf_record_iterator(path=filename)\n",
    "\n",
    "for string_record in record_iterator:\n",
    "\n",
    "    ## Take one example\n",
    "    example = tf.train.SequenceExample()\n",
    "    example.ParseFromString(string_record)\n",
    "    print(example)"
   ]
  }
 ],
 "metadata": {
  "kernelspec": {
   "display_name": "Python 3",
   "language": "python",
   "name": "python3"
  },
  "language_info": {
   "codemirror_mode": {
    "name": "ipython",
    "version": 3
   },
   "file_extension": ".py",
   "mimetype": "text/x-python",
   "name": "python",
   "nbconvert_exporter": "python",
   "pygments_lexer": "ipython3",
   "version": "3.6.4"
  }
 },
 "nbformat": 4,
 "nbformat_minor": 2
}
