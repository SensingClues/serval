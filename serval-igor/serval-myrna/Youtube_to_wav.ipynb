{
 "cells": [
  {
   "cell_type": "code",
   "execution_count": 3,
   "metadata": {},
   "outputs": [],
   "source": [
    "import numpy as np\n",
    "import pandas as pd\n",
    "import re\n",
    "import csv\n",
    "import datetime\n",
    "import os"
   ]
  },
  {
   "cell_type": "code",
   "execution_count": 4,
   "metadata": {},
   "outputs": [],
   "source": [
    "## Lees alle csv-files in\n",
    "bal_labels = pd.read_csv('csv_files/balanced_train_segments.csv', skiprows=3, \n",
    "                         quotechar='\"', skipinitialspace = True, header=None, \n",
    "                         names = [\"YTID\", \"start_seconds\", \"end_seconds\", \"positive_labels\"])\n",
    "\n",
    "unbal_labels = pd.read_csv('csv_files/unbalanced_train_segments.csv', skiprows=3, \n",
    "                         quotechar='\"', skipinitialspace = True, header=None, \n",
    "                         names = [\"YTID\", \"start_seconds\", \"end_seconds\", \"positive_labels\"])\n",
    "\n",
    "eval_labels = pd.read_csv('csv_files/eval_segments.csv', skiprows=3, \n",
    "                         quotechar='\"', skipinitialspace = True, header=None, \n",
    "                         names = [\"YTID\", \"start_seconds\", \"end_seconds\", \"positive_labels\"])"
   ]
  },
  {
   "cell_type": "code",
   "execution_count": 5,
   "metadata": {},
   "outputs": [],
   "source": [
    "## Hierin worden de wav-files gegooid\n",
    "file_path = \"wav_files\""
   ]
  },
  {
   "cell_type": "code",
   "execution_count": 6,
   "metadata": {},
   "outputs": [],
   "source": [
    "## Maak folder aan als deze nog niet bestaat\n",
    "if not os.path.isdir(file_path):\n",
    "    os.makedirs(file_path)\n",
    "    \n",
    "## Maak ook folders aan voor bal/unbal/eval (om later makkelijk labels weer op te halen)\n",
    "if not os.path.isdir(file_path + \"/bal\"):\n",
    "    os.makedirs(file_path + \"/bal\")\n",
    "if not os.path.isdir(file_path + \"/unbal\"):\n",
    "    os.makedirs(file_path + \"/unbal\")\n",
    "if not os.path.isdir(file_path + \"/eval\"):\n",
    "    os.makedirs(file_path + \"/eval\")"
   ]
  },
  {
   "cell_type": "code",
   "execution_count": 7,
   "metadata": {},
   "outputs": [],
   "source": [
    "## Geef aan of de tf-records voor jungle of urban moeten worden gedownload (ik neem aan dat we alleen jungle doen)\n",
    "target = \"jungle\" #\"urban\"\n",
    "mid_to_label = pd.read_csv(\"csv_files/class_labels_indices_\" + target + \".csv\", sep=\";\")"
   ]
  },
  {
   "cell_type": "code",
   "execution_count": 8,
   "metadata": {
    "scrolled": true
   },
   "outputs": [
    {
     "data": {
      "text/html": [
       "<div>\n",
       "<style scoped>\n",
       "    .dataframe tbody tr th:only-of-type {\n",
       "        vertical-align: middle;\n",
       "    }\n",
       "\n",
       "    .dataframe tbody tr th {\n",
       "        vertical-align: top;\n",
       "    }\n",
       "\n",
       "    .dataframe thead th {\n",
       "        text-align: right;\n",
       "    }\n",
       "</style>\n",
       "<table border=\"1\" class=\"dataframe\">\n",
       "  <thead>\n",
       "    <tr style=\"text-align: right;\">\n",
       "      <th></th>\n",
       "      <th>index</th>\n",
       "      <th>mid</th>\n",
       "      <th>display_name</th>\n",
       "    </tr>\n",
       "  </thead>\n",
       "  <tbody>\n",
       "    <tr>\n",
       "      <th>0</th>\n",
       "      <td>0</td>\n",
       "      <td>/t/dd00134</td>\n",
       "      <td>Car, boat, motorcyle, truck</td>\n",
       "    </tr>\n",
       "    <tr>\n",
       "      <th>1</th>\n",
       "      <td>1</td>\n",
       "      <td>/m/01j4z9</td>\n",
       "      <td>Chainsaw</td>\n",
       "    </tr>\n",
       "    <tr>\n",
       "      <th>2</th>\n",
       "      <td>2</td>\n",
       "      <td>/m/07pczhz</td>\n",
       "      <td>Chop</td>\n",
       "    </tr>\n",
       "    <tr>\n",
       "      <th>3</th>\n",
       "      <td>3</td>\n",
       "      <td>/m/032s66</td>\n",
       "      <td>Gunshot, gunfire</td>\n",
       "    </tr>\n",
       "    <tr>\n",
       "      <th>4</th>\n",
       "      <td>4</td>\n",
       "      <td>/m/09ct_</td>\n",
       "      <td>Helicopter</td>\n",
       "    </tr>\n",
       "    <tr>\n",
       "      <th>5</th>\n",
       "      <td>5</td>\n",
       "      <td>/t/dd00003</td>\n",
       "      <td>Male singing</td>\n",
       "    </tr>\n",
       "    <tr>\n",
       "      <th>6</th>\n",
       "      <td>6</td>\n",
       "      <td>/m/07rpkh9</td>\n",
       "      <td>Cattle</td>\n",
       "    </tr>\n",
       "    <tr>\n",
       "      <th>7</th>\n",
       "      <td>0</td>\n",
       "      <td>/m/02rlv9</td>\n",
       "      <td>Car, boat, motorcyle, truck</td>\n",
       "    </tr>\n",
       "    <tr>\n",
       "      <th>8</th>\n",
       "      <td>0</td>\n",
       "      <td>/m/04_sv</td>\n",
       "      <td>Car, boat, motorcyle, truck</td>\n",
       "    </tr>\n",
       "    <tr>\n",
       "      <th>9</th>\n",
       "      <td>7</td>\n",
       "      <td>/m/06bz3</td>\n",
       "      <td>Radio</td>\n",
       "    </tr>\n",
       "    <tr>\n",
       "      <th>10</th>\n",
       "      <td>6</td>\n",
       "      <td>/m/07bgp</td>\n",
       "      <td>Cattle</td>\n",
       "    </tr>\n",
       "    <tr>\n",
       "      <th>11</th>\n",
       "      <td>8</td>\n",
       "      <td>/m/07p6fty</td>\n",
       "      <td>Shout</td>\n",
       "    </tr>\n",
       "    <tr>\n",
       "      <th>12</th>\n",
       "      <td>9</td>\n",
       "      <td>/m/028v0c</td>\n",
       "      <td>Silence</td>\n",
       "    </tr>\n",
       "    <tr>\n",
       "      <th>13</th>\n",
       "      <td>0</td>\n",
       "      <td>/m/07r04</td>\n",
       "      <td>Car, boat, motorcyle, truck</td>\n",
       "    </tr>\n",
       "    <tr>\n",
       "      <th>14</th>\n",
       "      <td>10</td>\n",
       "      <td>/t/dd00092</td>\n",
       "      <td>Wind noise (microphone)</td>\n",
       "    </tr>\n",
       "    <tr>\n",
       "      <th>15</th>\n",
       "      <td>11</td>\n",
       "      <td>/s/0000</td>\n",
       "      <td>Gunshot SC9mm</td>\n",
       "    </tr>\n",
       "    <tr>\n",
       "      <th>16</th>\n",
       "      <td>12</td>\n",
       "      <td>/s/0001</td>\n",
       "      <td>Gunshot SC556</td>\n",
       "    </tr>\n",
       "    <tr>\n",
       "      <th>17</th>\n",
       "      <td>13</td>\n",
       "      <td>/s/0002</td>\n",
       "      <td>Elephant</td>\n",
       "    </tr>\n",
       "    <tr>\n",
       "      <th>18</th>\n",
       "      <td>14</td>\n",
       "      <td>/s/0003</td>\n",
       "      <td>Bush</td>\n",
       "    </tr>\n",
       "    <tr>\n",
       "      <th>19</th>\n",
       "      <td>15</td>\n",
       "      <td>/g/0004</td>\n",
       "      <td>Gunshot google</td>\n",
       "    </tr>\n",
       "  </tbody>\n",
       "</table>\n",
       "</div>"
      ],
      "text/plain": [
       "    index         mid                 display_name\n",
       "0       0  /t/dd00134  Car, boat, motorcyle, truck\n",
       "1       1   /m/01j4z9                     Chainsaw\n",
       "2       2  /m/07pczhz                         Chop\n",
       "3       3   /m/032s66             Gunshot, gunfire\n",
       "4       4    /m/09ct_                   Helicopter\n",
       "5       5  /t/dd00003                 Male singing\n",
       "6       6  /m/07rpkh9                       Cattle\n",
       "7       0   /m/02rlv9  Car, boat, motorcyle, truck\n",
       "8       0    /m/04_sv  Car, boat, motorcyle, truck\n",
       "9       7    /m/06bz3                        Radio\n",
       "10      6    /m/07bgp                       Cattle\n",
       "11      8  /m/07p6fty                        Shout\n",
       "12      9   /m/028v0c                      Silence\n",
       "13      0    /m/07r04  Car, boat, motorcyle, truck\n",
       "14     10  /t/dd00092      Wind noise (microphone)\n",
       "15     11     /s/0000                Gunshot SC9mm\n",
       "16     12     /s/0001                Gunshot SC556\n",
       "17     13     /s/0002                     Elephant\n",
       "18     14     /s/0003                         Bush\n",
       "19     15     /g/0004               Gunshot google"
      ]
     },
     "execution_count": 8,
     "metadata": {},
     "output_type": "execute_result"
    }
   ],
   "source": [
    "mid_to_label"
   ]
  },
  {
   "cell_type": "code",
   "execution_count": 9,
   "metadata": {},
   "outputs": [],
   "source": [
    "def getLabels(mid_str):\n",
    "    ## Maak lijst van m-id's\n",
    "    mid_list = mid_str.split(',')\n",
    "    labels = []\n",
    "    \n",
    "    ## Voor elk m-id, vind labels, (if any labels: add to label list)\n",
    "    for mid in mid_list:\n",
    "        if (mid_to_label.loc[mid_to_label[\"mid\"] == mid, \"mid\"].any()):\n",
    "            labels.append(mid_to_label.loc[mid_to_label[\"mid\"] == mid, \"index\"].values[0])\n",
    "    \n",
    "    ## Return unique set of labels\n",
    "    return set(labels)"
   ]
  },
  {
   "cell_type": "code",
   "execution_count": 12,
   "metadata": {
    "scrolled": true
   },
   "outputs": [],
   "source": [
    "## Download wav-files van youtube\n",
    "def downloadWav(vid_to_mid, folder):\n",
    "    for i in range(vid_to_mid.shape[0]):\n",
    "        mids = vid_to_mid.loc[i, \"positive_labels\"]\n",
    "        labels = getLabels(mids)\n",
    "\n",
    "        if(len(labels)>0):\n",
    "            url = vid_to_mid.loc[i, \"YTID\"]\n",
    "            start_sec = vid_to_mid.loc[i, \"start_seconds\"]\n",
    "            start_time = str(datetime.timedelta(seconds=start_sec)) + '.00'\n",
    "\n",
    "            ## titel = [url] + '_^_' + [starttime]\n",
    "            file_path = 'wav_files/' + folder + url + '_^_' + str(start_sec) + '00'\n",
    "            cmd = 'youtube-dl -o \"' + file_path + '.%(ext)s\" --extract-audio --youtube-skip-dash-manifest --audio-format wav --postprocessor-args \"-ss ' + start_time + ' -t 00:00:10.00\" \"https://www.youtube.com/v/' + url + '\"'\n",
    "\n",
    "            os.system(cmd)\n",
    "            print(\"Done with \" + url)"
   ]
  },
  {
   "cell_type": "code",
   "execution_count": 13,
   "metadata": {},
   "outputs": [
    {
     "name": "stdout",
     "output_type": "stream",
     "text": [
      "Done with --aO5cdqSAg\n",
      "Done with --aaILOrkII\n",
      "Done with -24dqQM_rDk\n",
      "Done with -3IGxVTJvgI\n"
     ]
    },
    {
     "ename": "KeyboardInterrupt",
     "evalue": "",
     "output_type": "error",
     "traceback": [
      "\u001b[1;31m---------------------------------------------------------------------------\u001b[0m",
      "\u001b[1;31mKeyboardInterrupt\u001b[0m                         Traceback (most recent call last)",
      "\u001b[1;32m<ipython-input-13-d4956fc8199b>\u001b[0m in \u001b[0;36m<module>\u001b[1;34m()\u001b[0m\n\u001b[0;32m      1\u001b[0m \u001b[1;31m## Hier wordt de functie aangeroepen en gaat het downloaden beginnen\u001b[0m\u001b[1;33m\u001b[0m\u001b[1;33m\u001b[0m\u001b[0m\n\u001b[0;32m      2\u001b[0m \u001b[1;31m## Als je de wav-files uit deze\u001b[0m\u001b[1;33m\u001b[0m\u001b[1;33m\u001b[0m\u001b[0m\n\u001b[1;32m----> 3\u001b[1;33m \u001b[0mdownloadWav\u001b[0m\u001b[1;33m(\u001b[0m\u001b[0mbal_labels\u001b[0m\u001b[1;33m,\u001b[0m \u001b[1;34m\"bal/\"\u001b[0m\u001b[1;33m)\u001b[0m\u001b[1;33m\u001b[0m\u001b[0m\n\u001b[0m\u001b[0;32m      4\u001b[0m \u001b[0mdownloadWav\u001b[0m\u001b[1;33m(\u001b[0m\u001b[0munbal_labels\u001b[0m\u001b[1;33m,\u001b[0m \u001b[1;34m\"unbal/\"\u001b[0m\u001b[1;33m)\u001b[0m\u001b[1;33m\u001b[0m\u001b[0m\n\u001b[0;32m      5\u001b[0m \u001b[0mdownloadWav\u001b[0m\u001b[1;33m(\u001b[0m\u001b[0meval_labels\u001b[0m\u001b[1;33m,\u001b[0m \u001b[1;34m\"eval/\"\u001b[0m\u001b[1;33m)\u001b[0m\u001b[1;33m\u001b[0m\u001b[0m\n",
      "\u001b[1;32m<ipython-input-12-738e7adfa3a6>\u001b[0m in \u001b[0;36mdownloadWav\u001b[1;34m(vid_to_mid, folder)\u001b[0m\n\u001b[0;32m     14\u001b[0m             \u001b[0mcmd\u001b[0m \u001b[1;33m=\u001b[0m \u001b[1;34m'youtube-dl -o \"'\u001b[0m \u001b[1;33m+\u001b[0m \u001b[0mfile_path\u001b[0m \u001b[1;33m+\u001b[0m \u001b[1;34m'.%(ext)s\" --extract-audio --youtube-skip-dash-manifest --audio-format wav --postprocessor-args \"-ss '\u001b[0m \u001b[1;33m+\u001b[0m \u001b[0mstart_time\u001b[0m \u001b[1;33m+\u001b[0m \u001b[1;34m' -t 00:00:10.00\" \"https://www.youtube.com/v/'\u001b[0m \u001b[1;33m+\u001b[0m \u001b[0murl\u001b[0m \u001b[1;33m+\u001b[0m \u001b[1;34m'\"'\u001b[0m\u001b[1;33m\u001b[0m\u001b[0m\n\u001b[0;32m     15\u001b[0m \u001b[1;33m\u001b[0m\u001b[0m\n\u001b[1;32m---> 16\u001b[1;33m             \u001b[0mos\u001b[0m\u001b[1;33m.\u001b[0m\u001b[0msystem\u001b[0m\u001b[1;33m(\u001b[0m\u001b[0mcmd\u001b[0m\u001b[1;33m)\u001b[0m\u001b[1;33m\u001b[0m\u001b[0m\n\u001b[0m\u001b[0;32m     17\u001b[0m             \u001b[0mprint\u001b[0m\u001b[1;33m(\u001b[0m\u001b[1;34m\"Done with \"\u001b[0m \u001b[1;33m+\u001b[0m \u001b[0murl\u001b[0m\u001b[1;33m)\u001b[0m\u001b[1;33m\u001b[0m\u001b[0m\n",
      "\u001b[1;31mKeyboardInterrupt\u001b[0m: "
     ]
    }
   ],
   "source": [
    "## Hier wordt de functie aangeroepen en gaat het downloaden beginnen\n",
    "## Als je de wav-files uit deze \n",
    "downloadWav(bal_labels, \"bal/\")\n",
    "downloadWav(unbal_labels, \"unbal/\")\n",
    "downloadWav(eval_labels, \"eval/\")"
   ]
  },
  {
   "cell_type": "code",
   "execution_count": null,
   "metadata": {},
   "outputs": [],
   "source": []
  },
  {
   "cell_type": "code",
   "execution_count": null,
   "metadata": {},
   "outputs": [],
   "source": []
  }
 ],
 "metadata": {
  "kernelspec": {
   "display_name": "Python 3",
   "language": "python",
   "name": "python3"
  },
  "language_info": {
   "codemirror_mode": {
    "name": "ipython",
    "version": 3
   },
   "file_extension": ".py",
   "mimetype": "text/x-python",
   "name": "python",
   "nbconvert_exporter": "python",
   "pygments_lexer": "ipython3",
   "version": "3.6.4"
  }
 },
 "nbformat": 4,
 "nbformat_minor": 2
}
