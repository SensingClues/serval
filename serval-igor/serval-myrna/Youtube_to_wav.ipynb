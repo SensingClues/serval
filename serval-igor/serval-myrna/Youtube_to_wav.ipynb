{
 "cells": [
  {
   "cell_type": "code",
   "execution_count": 51,
   "metadata": {},
   "outputs": [],
   "source": [
    "import numpy as np\n",
    "import pandas as pd\n",
    "import re\n",
    "import csv\n",
    "import datetime\n",
    "import os"
   ]
  },
  {
   "cell_type": "code",
   "execution_count": 19,
   "metadata": {},
   "outputs": [],
   "source": [
    "bal_labels = pd.read_csv('csv_files/old_csv/balanced_train_segments.csv', sep=';')"
   ]
  },
  {
   "cell_type": "code",
   "execution_count": 50,
   "metadata": {},
   "outputs": [
    {
     "name": "stdout",
     "output_type": "stream",
     "text": [
      "/m/09x0r,/t/dd00088                                                                           \n",
      "/m/012xff                                                                                     \n",
      "/m/03fwl,/m/04rlf,/m/09x0r                                                                     \n",
      "/t/dd00003,/t/dd00005                                                                         \n",
      "/m/032s66,/m/073cg4                                                                         \n",
      "url:--aaILOrkII\n",
      "start:200.0\n"
     ]
    }
   ],
   "source": [
    "for i in range(bal_labels.shape[0]):\n",
    "\n",
    "        print(bal_labels.loc[i, 'positive_labels'])\n",
    "        mids = bal_labels.loc[i, 'positive_labels']\n",
    "\n",
    "        if(re.match('/m/032s66', mids)):\n",
    "            url = bal_labels.loc[i, 'YTID']\n",
    "            start = str(bal_labels.loc[i, 'start_seconds'])  + '.00'\n",
    "            \n",
    "            cmd = 'youtube-dl --extract-audio --youtube-skip-dash-manifest --audio-format wav --postprocessor-args \"-ss ' + start + ' -t 00:00:10.00\" \"https://www.youtube.com/v/' + url + '\"'\n",
    "            os.system(cmd)\n",
    "            print('Done with ' + url)"
   ]
  }
 ],
 "metadata": {
  "kernelspec": {
   "display_name": "Python 3",
   "language": "python",
   "name": "python3"
  },
  "language_info": {
   "codemirror_mode": {
    "name": "ipython",
    "version": 3
   },
   "file_extension": ".py",
   "mimetype": "text/x-python",
   "name": "python",
   "nbconvert_exporter": "python",
   "pygments_lexer": "ipython3",
   "version": "3.6.4"
  }
 },
 "nbformat": 4,
 "nbformat_minor": 2
}
