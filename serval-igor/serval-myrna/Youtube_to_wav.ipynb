{
 "cells": [
  {
   "cell_type": "code",
   "execution_count": null,
   "metadata": {},
   "outputs": [],
   "source": [
    "import numpy as np\n",
    "import pandas as pd\n",
    "import re\n",
    "import csv\n",
    "import datetime\n",
    "import os"
   ]
  },
  {
   "cell_type": "code",
   "execution_count": null,
   "metadata": {},
   "outputs": [],
   "source": [
    "## Lees alle csv-files in\n",
    "bal_labels = pd.read_csv('csv_files/balanced_train_segments.csv', skiprows=3, \n",
    "                         quotechar='\"', skipinitialspace = True, header=None, \n",
    "                         names = [\"YTID\", \"start_seconds\", \"end_seconds\", \"positive_labels\"])\n",
    "\n",
    "unbal_labels = pd.read_csv('csv_files/unbalanced_train_segments.csv', skiprows=3, \n",
    "                         quotechar='\"', skipinitialspace = True, header=None, \n",
    "                         names = [\"YTID\", \"start_seconds\", \"end_seconds\", \"positive_labels\"])\n",
    "\n",
    "eval_labels = pd.read_csv('csv_files/eval_segments.csv', skiprows=3, \n",
    "                         quotechar='\"', skipinitialspace = True, header=None, \n",
    "                         names = [\"YTID\", \"start_seconds\", \"end_seconds\", \"positive_labels\"])"
   ]
  },
  {
   "cell_type": "code",
   "execution_count": null,
   "metadata": {},
   "outputs": [],
   "source": [
    "## Hierin worden de wav-files gegooid\n",
    "file_path = \"wav_files\""
   ]
  },
  {
   "cell_type": "code",
   "execution_count": null,
   "metadata": {},
   "outputs": [],
   "source": [
    "## Maak folder aan als deze nog niet bestaat\n",
    "if not os.path.isdir(file_path):\n",
    "    os.makedirs(file_path)\n",
    "    \n",
    "## Maak ook folders aan voor bal/unbal/eval (om later makkelijk labels weer op te halen)\n",
    "if not os.path.isdir(file_path + \"/bal\"):\n",
    "    os.makedirs(file_path + \"/bal\")\n",
    "if not os.path.isdir(file_path + \"/unbal\"):\n",
    "    os.makedirs(file_path + \"/unbal\")\n",
    "if not os.path.isdir(file_path + \"/eval\"):\n",
    "    os.makedirs(file_path + \"/eval\")"
   ]
  },
  {
   "cell_type": "code",
   "execution_count": null,
   "metadata": {},
   "outputs": [],
   "source": [
    "## Geef aan of de tf-records voor jungle of urban moeten worden gedownload (ik neem aan dat we alleen jungle doen)\n",
    "target = \"jungle\" #\"urban\"\n",
    "mid_to_label = pd.read_csv(\"csv_files/class_labels_indices_\" + target + \".csv\", sep=\";\")"
   ]
  },
  {
   "cell_type": "code",
   "execution_count": null,
   "metadata": {
    "scrolled": true
   },
   "outputs": [],
   "source": [
    "mid_to_label"
   ]
  },
  {
   "cell_type": "code",
   "execution_count": null,
   "metadata": {},
   "outputs": [],
   "source": [
    "def getLabels(mid_str):\n",
    "    ## Maak lijst van m-id's\n",
    "    mid_list = mid_str.split(',')\n",
    "    labels = []\n",
    "    \n",
    "    ## Voor elk m-id, vind labels, (if any labels: add to label list)\n",
    "    for mid in mid_list:\n",
    "        if (mid_to_label.loc[mid_to_label[\"mid\"] == mid, \"mid\"].any()):\n",
    "            labels.append(mid_to_label.loc[mid_to_label[\"mid\"] == mid, \"index\"].values[0])\n",
    "    \n",
    "    ## Return unique set of labels\n",
    "    return set(labels)"
   ]
  },
  {
   "cell_type": "code",
   "execution_count": null,
   "metadata": {
    "scrolled": true
   },
   "outputs": [],
   "source": [
    "## Download wav-files van youtube\n",
    "def downloadWav(vid_to_mid, folder):\n",
    "    for i in range(vid_to_mid.shape[0]):\n",
    "            mids = vid_to_mid.loc[i, 'positive_labels']\n",
    "            labels = getLabels(mids)\n",
    "\n",
    "            if(len(labels)>0):\n",
    "                url = vid_to_mid.loc[i, 'YTID']\n",
    "                start_sec = vid_to_mid.loc[i, 'start_seconds']\n",
    "                start_time = str(datetime.timedelta(seconds=start_sec)) + '.00'\n",
    "\n",
    "                cmd = 'youtube-dl -o \"wav_files/' + folder + url + '_' + str(start_sec) + '00.%(ext)s\" --extract-audio --youtube-skip-dash-manifest --audio-format wav --postprocessor-args \"-ss ' + start_time + ' -t 00:00:10.00\" \"https://www.youtube.com/v/' + url + '\"'\n",
    "\n",
    "                os.system(cmd)\n",
    "                print('Done with ' + url)"
   ]
  },
  {
   "cell_type": "code",
   "execution_count": null,
   "metadata": {},
   "outputs": [],
   "source": [
    "## Hier wordt de functie aangeroepen en gaat het downloaden beginnen\n",
    "## Als je de wav-files uit deze \n",
    "downloadWav(bal_labels, \"bal/\")\n",
    "downloadWav(unbal_labels, \"unbal/\")\n",
    "downloadWav(eval_labels, \"eval/\")"
   ]
  },
  {
   "cell_type": "code",
   "execution_count": null,
   "metadata": {},
   "outputs": [],
   "source": []
  }
 ],
 "metadata": {
  "kernelspec": {
   "display_name": "Python 3",
   "language": "python",
   "name": "python3"
  },
  "language_info": {
   "codemirror_mode": {
    "name": "ipython",
    "version": 3
   },
   "file_extension": ".py",
   "mimetype": "text/x-python",
   "name": "python",
   "nbconvert_exporter": "python",
   "pygments_lexer": "ipython3",
   "version": "3.6.4"
  }
 },
 "nbformat": 4,
 "nbformat_minor": 2
}
