{
 "cells": [
  {
   "cell_type": "code",
   "execution_count": null,
   "metadata": {},
   "outputs": [],
   "source": [
    "# coding: utf-8\n",
    "# this will download audioset youtube samples based on the audioset segments\n",
    "# \n",
    "# balanced\n",
    "# unbalanced\n",
    "# eval\n",
    "\n",
    "import numpy as np\n",
    "import pandas as pd\n",
    "import re\n",
    "import csv\n",
    "import datetime\n",
    "import os\n",
    "import wave\n",
    "\n",
    "\n",
    "seg_path = '../labels/audioset/segments/'\n",
    "#segment = 'balanced_train'\n",
    "#segment = 'unbalanced_train'\n",
    "segment = 'eval'\n",
    "\n",
    "## Lees csv-file in\n",
    "labels = pd.read_csv(seg_path+segment+\"_segments.csv\", skiprows=3, \n",
    "                          quotechar='\"', skipinitialspace = True, header=None, \n",
    "                          names = [\"YTID\", \"start_seconds\", \"end_seconds\", \"positive_labels\"])"
   ]
  },
  {
   "cell_type": "code",
   "execution_count": null,
   "metadata": {},
   "outputs": [],
   "source": [
    "labels.head()"
   ]
  },
  {
   "cell_type": "code",
   "execution_count": null,
   "metadata": {
    "scrolled": true
   },
   "outputs": [],
   "source": [
    "## op pcloud is er een symlink naar de data folder\n",
    "# downloaded segments go to\n",
    "\n",
    "target_file_path = \"../../../data/audio/serval-data/raw/youtube-downloads/\"+segment+\"/\"\n",
    "#target_file_path = \"./\"+segment+\"/\"\n",
    "\n",
    "# welke custom serval wordt er getraned\n",
    "custom_target = \"jungle\" #\"urban\"\n",
    "\n",
    "# we need a list of custom class labels\n",
    "mid_to_label = pd.read_csv(\"../labels/custom/\"+custom_target+\"/class_labels_indices_jungle_v2.csv\", sep=\";\")\n",
    "\n",
    "mid_to_label"
   ]
  },
  {
   "cell_type": "code",
   "execution_count": null,
   "metadata": {},
   "outputs": [],
   "source": [
    "## Lijst van alle labels (nieuwe) en alle combi's\n",
    "all_labels = []\n",
    "label_combinations = []"
   ]
  },
  {
   "cell_type": "code",
   "execution_count": null,
   "metadata": {},
   "outputs": [],
   "source": [
    "# define functions\n",
    "# find unique set of labels in custom target\n",
    "\n",
    "def getLabels(mid_str):\n",
    "    ## Maak lijst van m-id's\n",
    "    mid_list = mid_str.split(',')\n",
    "    labels = []\n",
    "    \n",
    "    ## Voor elk m-id, vind labels, (if any labels: add to label list)\n",
    "    for mid in mid_list:\n",
    "        if (mid_to_label.loc[mid_to_label[\"mid\"] == mid, \"mid\"].any()):\n",
    "            labels.append(mid_to_label.loc[mid_to_label[\"mid\"] == mid, \"index\"].values[0])\n",
    "    \n",
    "    ## Return unique set of labels\n",
    "    return set(labels)"
   ]
  },
  {
   "cell_type": "code",
   "execution_count": null,
   "metadata": {},
   "outputs": [],
   "source": [
    "# Download wav-files van youtube\n",
    "\n",
    "def downloadWav(vid_to_mid, path):\n",
    "    # now we actually download the segments as they are no conversion yet\n",
    "    mids = vid_to_mid[\"positive_labels\"]\n",
    "    \n",
    "    labels = getLabels(mids)\n",
    "    #print('aantal labels : ',len(labels))\n",
    "    \n",
    "    \n",
    "    if(len(labels)>0):\n",
    "        # Voeg labels toe aan labellijst en combilijst\n",
    "        all_labels.extend(labels)\n",
    "        label_combinations.append(labels)\n",
    "        \n",
    "        url = vid_to_mid[\"YTID\"]\n",
    "        start_sec = vid_to_mid[\"start_seconds\"]\n",
    "        start_time = str(datetime.timedelta(seconds=start_sec)) + '.00'\n",
    "        file_path = path + \"vid\" + url \n",
    "  \n",
    "        if not os.path.exists(file_path):\n",
    "            # we only download the 10 second segment as is\n",
    "            cmd = 'youtube-dl -f \"bestaudio\" -o \"' + file_path + '.%(ext)s\" --extract-audio  --postprocessor-args \"-ss ' + start_time + ' -t 00:00:10.00\" \"https://www.youtube.com/v/' + url + '\"'\n",
    "            #print(\"CMD=\"+cmd)\n",
    "            os.system(cmd)\n",
    "        else:\n",
    "             print('File already exists!')"
   ]
  },
  {
   "cell_type": "code",
   "execution_count": null,
   "metadata": {},
   "outputs": [],
   "source": [
    "# add progressbar\n",
    "from tqdm import tqdm\n",
    "\n",
    "from joblib import Parallel, delayed\n",
    "import multiprocessing\n",
    "\n",
    "\n",
    "num_cores = multiprocessing.cpu_count()\n",
    "\n",
    "# run in parralel\n",
    "results = Parallel(n_jobs=num_cores)(delayed(downloadWav)(labels.loc[i], target_file_path) for i in tqdm(range(labels.shape[0])))\n",
    "\n",
    "# not paralel\n",
    "#for i in tqdm(range(labels.shape[0])):\n",
    "# for i in range(labels.shape[0]):\n",
    "#     downloadWav(labels.loc[i], target_file_path)"
   ]
  },
  {
   "cell_type": "markdown",
   "metadata": {},
   "source": [
    "LET OP:\n",
    "Voordat onderstaande wordt gerund, moet balanced, unbalanced en eval allemaal gedownload zijn.\n",
    "Dan pas kan er worden geteld hoeveel voorkomens er zijn.\n",
    "Idee om misschien van tevoren al die drie samen te voegen tot 1 csv?"
   ]
  },
  {
   "cell_type": "code",
   "execution_count": null,
   "metadata": {},
   "outputs": [],
   "source": [
    "## Tellen van lijsten in lijsten is lastig, vandaar dat ik er strings van maak: [0,4] wordt [\"0_4\"]\n",
    "str_combis = []\n",
    "\n",
    "for combi in label_combinations:\n",
    "    str_combi = [str(i) for i in combi]\n",
    "    str_combi = \"_\".join(str_combi)\n",
    "    str_combis.append(str_combi)"
   ]
  },
  {
   "cell_type": "code",
   "execution_count": null,
   "metadata": {},
   "outputs": [],
   "source": [
    "## Print per label aantal voorkomens\n",
    "from collections import Counter\n",
    "\n",
    "cnt_labels = Counter(all_labels)\n",
    "\n",
    "for i in cnt_labels.most_common(100):\n",
    "    print(mid_to_label.loc[mid_to_label['index']==i[0]]['display_name'].values[0], ' : ', str(i[1]))"
   ]
  },
  {
   "cell_type": "code",
   "execution_count": null,
   "metadata": {},
   "outputs": [],
   "source": [
    "## Houd individuele voorkomens bij (dus aantal keer dat label voorkomt zonder andere labels)\n",
    "ind_occur = [0 for x in range(len(mid_to_label.index2.unique()))] \n",
    "\n",
    "## Geef meest voorkomende combinaties\n",
    "cnt_label_combinations = Counter(str_combis)\n",
    "for label_combination in cnt_label_combinations.most_common(20):\n",
    "    label_names = []\n",
    "    \n",
    "    ## Maak van string weer een lijst (zie vorige cel)\n",
    "    label_list = label_combination[0].split(\"_\")\n",
    "    \n",
    "    ## Code die alleen individuele labels telt\n",
    "    if(len(label_list)==1):\n",
    "        ind_occur[int(label_list[0])] = label_combination[1]"
   ]
  },
  {
   "cell_type": "code",
   "execution_count": null,
   "metadata": {},
   "outputs": [],
   "source": [
    "## Code die kolommen toevoegt aan label-csv en deze in de forloop vult\n",
    "\n",
    "## Aantal gewenste samples per label: 2500\n",
    "target = 2500\n",
    "\n",
    "## Aantal voorkomens\n",
    "mid_to_label[\"total\"] = 0\n",
    "## Aantal voorkomens alleen\n",
    "mid_to_label[\"ind_total\"] = 0\n",
    "## Proportie waarmee gedown/upsampled moet worden (rekening houdend met combi van labels)\n",
    "mid_to_label[\"target_ind\"] = 0\n",
    "\n",
    "for i in range(len(ind_occur)):\n",
    "    mid_to_label.loc[mid_to_label['index2']==i,\"total\"] = cnt_labels[i]\n",
    "    mid_to_label.loc[mid_to_label['index2']==i,\"ind_total\"] = ind_occur[i]\n",
    "    if(ind_occur[i] > 0):\n",
    "        mid_to_label.loc[mid_to_label['index2']==i,\"target_ind\"] = (ind_occur[i]-(cnt_labels[i]-target))/ind_occur[i]"
   ]
  },
  {
   "cell_type": "code",
   "execution_count": null,
   "metadata": {},
   "outputs": [],
   "source": [
    "mid_to_label"
   ]
  },
  {
   "cell_type": "code",
   "execution_count": null,
   "metadata": {},
   "outputs": [],
   "source": []
  }
 ],
 "metadata": {
  "kernelspec": {
   "display_name": "Python 3",
   "language": "python",
   "name": "python3"
  },
  "language_info": {
   "codemirror_mode": {
    "name": "ipython",
    "version": 3
   },
   "file_extension": ".py",
   "mimetype": "text/x-python",
   "name": "python",
   "nbconvert_exporter": "python",
   "pygments_lexer": "ipython3",
   "version": "3.6.4"
  }
 },
 "nbformat": 4,
 "nbformat_minor": 2
}
