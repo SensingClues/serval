{
 "cells": [
  {
   "cell_type": "markdown",
   "metadata": {},
   "source": [
    "## Adventures with Elephants\n",
    "\n",
    "Description of the dataset:\n",
    "---------------------------\n",
    "\n",
    "This dataset has been recorded Angela S. Stoeger (angela.stoeger-horwath@univie.ac.at) from Vienna University and colleagues. Acoustic recordings were collected from three female and two male African elephants (Loxodonta africana) aged between 9 and 17 years located at Adventures with Elephants, Bela Bela, South Africa in 2011. The elephants were fully habituated to human presence and free to roam around in a savannah reserve of 300 ha. Vocalizations were recorded during two social contexts: spatial separation and subsequent bondings, recording distances between the elephant and the microphone ranged from 10 to several hundreds of meters. \n",
    "In 359 minutes of recordings we annotated 635 rumbles by manually tagging the beginning and the end of each rumble."
   ]
  },
  {
   "cell_type": "code",
   "execution_count": 1,
   "metadata": {},
   "outputs": [],
   "source": [
    "# annotations are in matlab file, which apparently is a hdf5 format\n",
    "import scipy.io as sio\n",
    "\n",
    "filepath = './AdventuresWithElephants_Dataset/anno/groundTruth.mat'\n",
    "\n",
    "annos = sio.loadmat(filepath)\n",
    "data = annos['variable']"
   ]
  },
  {
   "cell_type": "code",
   "execution_count": 2,
   "metadata": {},
   "outputs": [],
   "source": [
    "# r=[(x['SHAPE@XY'][i][0],x['SHAPE@XY'][i][1],x['PrimeKey'][i]) for i in range(x.shape[0])]\n",
    "# unpack nd array\n",
    "u = [(data[i,0][0],data[i,1][0][0],data[i,2][0][0],data[i,3][0]) for i in range(1,data.shape[0])]"
   ]
  },
  {
   "cell_type": "code",
   "execution_count": 3,
   "metadata": {},
   "outputs": [],
   "source": [
    "# build dataframe from list\n",
    "import pandas as pd\n",
    "df = pd.DataFrame(data=u)  # 1st row as the column names\n",
    "df.columns=['filename','start','duration','type']"
   ]
  },
  {
   "cell_type": "markdown",
   "metadata": {},
   "source": [
    "Data format:\n",
    "------------\n",
    "\n",
    "Folder \"wavs\" contains all recorded signals (sampled at 44100Hz, 16bit, mono)\n",
    "\n",
    "Folder \"anno\" contains the annotation in binary Matlab format (*.mat). The annotations include:\n",
    "\n",
    "- groundTruth.mat: a cell that contains one annotated rumble in each row. The first column provides the name of the wav-file. The second column gives the start position of the rumble in samples; the third column contains the length of the annotated rumble in samples. The fourth column contains the type of rumble. There are two types (the usual \"rumble\" and the \"snumble\", which is a mixture of snort and rumble)."
   ]
  },
  {
   "cell_type": "code",
   "execution_count": 4,
   "metadata": {
    "scrolled": false
   },
   "outputs": [
    {
     "data": {
      "text/plain": [
       "rumble     624\n",
       "snumble     11\n",
       "Name: type, dtype: int64"
      ]
     },
     "execution_count": 4,
     "metadata": {},
     "output_type": "execute_result"
    }
   ],
   "source": [
    "df['type'].value_counts()"
   ]
  },
  {
   "cell_type": "code",
   "execution_count": 5,
   "metadata": {},
   "outputs": [],
   "source": [
    "# issue with EFAF2011A011.WAV en 012.WAV\n",
    "df = df[df['filename'] != \"EFAF2011A011.WAV\"]\n",
    "df = df[df['filename'] != \"EFAF2011A012.WAV\"]\n",
    "df = df.reset_index(drop=True)"
   ]
  },
  {
   "cell_type": "code",
   "execution_count": 6,
   "metadata": {},
   "outputs": [],
   "source": [
    "# Code die aangeeft of de 10 seconden ervoor background is (1=ja, 0=nee)\n",
    "df[\"background\"] = 1\n",
    "sr_target = 44100\n",
    "# als (start-sr > 0) dan 0\n",
    "df.loc[df[\"start\"] < sr_target, \"background\"] = 0"
   ]
  },
  {
   "cell_type": "code",
   "execution_count": 7,
   "metadata": {},
   "outputs": [],
   "source": [
    "for i in range(0, df.shape[0]):\n",
    "    # skip 1e rij\n",
    "    if(i==0):\n",
    "        df.loc[i, \"background\"] = 0\n",
    "    else:\n",
    "        # Bereken eindtijd van vorige rij\n",
    "        previous_end = df.loc[i-1, \"start\"] + df.loc[i-1, \"duration\"]\n",
    "        # Check of filename zelfde is als file vorige rij\n",
    "        if(df.loc[i-1, \"filename\"] == df.loc[i, \"filename\"]):\n",
    "            # Check of previous end + sr_target*10 > start (dan 0)\n",
    "            if(previous_end + sr_target*10 > df.loc[i, \"start\"]):\n",
    "                #df.at[i,'ifor']\n",
    "                df.loc[i, \"background\"] = 0\n",
    "        else:\n",
    "            df.loc[i, \"background\"] = 0"
   ]
  },
  {
   "cell_type": "code",
   "execution_count": 8,
   "metadata": {},
   "outputs": [
    {
     "data": {
      "text/plain": [
       "0    307\n",
       "1    305\n",
       "Name: background, dtype: int64"
      ]
     },
     "execution_count": 8,
     "metadata": {},
     "output_type": "execute_result"
    }
   ],
   "source": [
    "df['background'].value_counts()"
   ]
  },
  {
   "cell_type": "code",
   "execution_count": 9,
   "metadata": {},
   "outputs": [
    {
     "data": {
      "text/html": [
       "<div>\n",
       "<style scoped>\n",
       "    .dataframe tbody tr th:only-of-type {\n",
       "        vertical-align: middle;\n",
       "    }\n",
       "\n",
       "    .dataframe tbody tr th {\n",
       "        vertical-align: top;\n",
       "    }\n",
       "\n",
       "    .dataframe thead th {\n",
       "        text-align: right;\n",
       "    }\n",
       "</style>\n",
       "<table border=\"1\" class=\"dataframe\">\n",
       "  <thead>\n",
       "    <tr style=\"text-align: right;\">\n",
       "      <th></th>\n",
       "      <th>filename</th>\n",
       "      <th>start</th>\n",
       "      <th>duration</th>\n",
       "      <th>type</th>\n",
       "      <th>background</th>\n",
       "    </tr>\n",
       "  </thead>\n",
       "  <tbody>\n",
       "    <tr>\n",
       "      <th>210</th>\n",
       "      <td>EFAF2011A022.WAV</td>\n",
       "      <td>33176566</td>\n",
       "      <td>213885</td>\n",
       "      <td>rumble</td>\n",
       "      <td>0</td>\n",
       "    </tr>\n",
       "    <tr>\n",
       "      <th>211</th>\n",
       "      <td>EFAF2011A022.WAV</td>\n",
       "      <td>33398508</td>\n",
       "      <td>97422</td>\n",
       "      <td>rumble</td>\n",
       "      <td>0</td>\n",
       "    </tr>\n",
       "    <tr>\n",
       "      <th>212</th>\n",
       "      <td>EFAF2011A023.WAV</td>\n",
       "      <td>219626</td>\n",
       "      <td>102431</td>\n",
       "      <td>rumble</td>\n",
       "      <td>0</td>\n",
       "    </tr>\n",
       "  </tbody>\n",
       "</table>\n",
       "</div>"
      ],
      "text/plain": [
       "             filename     start  duration    type  background\n",
       "210  EFAF2011A022.WAV  33176566    213885  rumble           0\n",
       "211  EFAF2011A022.WAV  33398508     97422  rumble           0\n",
       "212  EFAF2011A023.WAV    219626    102431  rumble           0"
      ]
     },
     "execution_count": 9,
     "metadata": {},
     "output_type": "execute_result"
    }
   ],
   "source": [
    "df.iloc[210:213,]"
   ]
  },
  {
   "cell_type": "code",
   "execution_count": 10,
   "metadata": {},
   "outputs": [
    {
     "name": "stderr",
     "output_type": "stream",
     "text": [
      "\r",
      "  0%|                                                                                          | 0/612 [00:00<?, ?it/s]"
     ]
    },
    {
     "name": "stdout",
     "output_type": "stream",
     "text": [
      "index: 0\n",
      "row: \n",
      "filename      EFAF2011A008.WAV\n",
      "start                  1688633\n",
      "duration                 51548\n",
      "type                    rumble\n",
      "background                   0\n",
      "Name: 0, dtype: object\n",
      "source filename: EFAF2011A008.WAV\n",
      ".\\adventureswithelephants_dataset\\wavs\\all\\efaf2011a008.wav\n",
      "x: \n",
      "[-53 -16 -15 ...  76  72  59]\n",
      "sr_orig: 44100\n",
      "y: \n",
      "[   0    0    0 ... -572 -611 -597]\n"
     ]
    },
    {
     "name": "stderr",
     "output_type": "stream",
     "text": [
      "\r",
      "  0%|▏                                                                                 | 1/612 [00:01<10:19,  1.01s/it]"
     ]
    },
    {
     "name": "stdout",
     "output_type": "stream",
     "text": [
      "index: 1\n",
      "row: \n",
      "filename      EFAF2011A008.WAV\n",
      "start                  1829197\n",
      "duration                 24136\n",
      "type                    rumble\n",
      "background                   0\n",
      "Name: 1, dtype: object\n",
      "source filename: EFAF2011A008.WAV\n",
      ".\\adventureswithelephants_dataset\\wavs\\all\\efaf2011a008.wav\n",
      "x: \n",
      "[-53 -16 -15 ...  76  72  59]\n",
      "sr_orig: 44100\n",
      "y: \n",
      "[ 4  0 -7 ...  6  0  0]\n"
     ]
    },
    {
     "name": "stderr",
     "output_type": "stream",
     "text": [
      "\r",
      "  0%|▎                                                                                 | 2/612 [00:01<07:12,  1.41it/s]"
     ]
    },
    {
     "name": "stdout",
     "output_type": "stream",
     "text": [
      "index: 2\n",
      "row: \n",
      "filename      EFAF2011A008.WAV\n",
      "start                  4925581\n",
      "duration                 41697\n",
      "type                    rumble\n",
      "background                   1\n",
      "Name: 2, dtype: object\n",
      "source filename: EFAF2011A008.WAV\n",
      ".\\adventureswithelephants_dataset\\wavs\\all\\efaf2011a008.wav\n",
      "x: \n",
      "[-53 -16 -15 ...  76  72  59]\n",
      "sr_orig: 44100\n",
      "y: \n",
      "[-585 -615 -602 ...   24    4    0]\n",
      "yb class: [-324 -327 -267 ... -596 -620 -586]\n"
     ]
    },
    {
     "name": "stderr",
     "output_type": "stream",
     "text": [
      "\r",
      "  0%|▍                                                                                 | 3/612 [00:02<07:11,  1.41it/s]"
     ]
    },
    {
     "name": "stdout",
     "output_type": "stream",
     "text": [
      "index: 3\n",
      "row: \n",
      "filename      EFAF2011A008.WAV\n",
      "start                  7701919\n",
      "duration                 41816\n",
      "type                    rumble\n",
      "background                   1\n",
      "Name: 3, dtype: object\n",
      "source filename: EFAF2011A008.WAV\n",
      ".\\adventureswithelephants_dataset\\wavs\\all\\efaf2011a008.wav\n",
      "x: \n",
      "[-53 -16 -15 ...  76  72  59]\n",
      "sr_orig: 44100\n",
      "y: \n",
      "[ 0  0  0 ... -3 -1 -3]\n",
      "yb class: [  0  -6 -24 ...   0   0   0]\n"
     ]
    },
    {
     "name": "stderr",
     "output_type": "stream",
     "text": [
      "\r",
      "  1%|▌                                                                                 | 4/612 [00:02<07:11,  1.41it/s]"
     ]
    },
    {
     "name": "stdout",
     "output_type": "stream",
     "text": [
      "index: 4\n",
      "row: \n",
      "filename      EFAF2011A008.WAV\n",
      "start                  7848265\n",
      "duration                 44664\n",
      "type                    rumble\n",
      "background                   0\n",
      "Name: 4, dtype: object\n",
      "source filename: EFAF2011A008.WAV\n",
      ".\\adventureswithelephants_dataset\\wavs\\all\\efaf2011a008.wav\n",
      "x: \n",
      "[-53 -16 -15 ...  76  72  59]\n",
      "sr_orig: 44100\n",
      "y: \n",
      "[220 224 216 ...   0   0   0]\n"
     ]
    },
    {
     "name": "stderr",
     "output_type": "stream",
     "text": [
      "\r",
      "  1%|▋                                                                                 | 5/612 [00:03<06:29,  1.56it/s]"
     ]
    },
    {
     "name": "stdout",
     "output_type": "stream",
     "text": [
      "index: 5\n",
      "row: \n",
      "filename      EFAF2011A008.WAV\n",
      "start                  7917705\n",
      "duration                 30799\n",
      "type                    rumble\n",
      "background                   0\n",
      "Name: 5, dtype: object\n",
      "source filename: EFAF2011A008.WAV\n",
      ".\\adventureswithelephants_dataset\\wavs\\all\\efaf2011a008.wav\n",
      "x: \n",
      "[-53 -16 -15 ...  76  72  59]\n",
      "sr_orig: 44100\n",
      "y: \n",
      "[  0   0   0 ...   1  -3 -20]\n"
     ]
    },
    {
     "name": "stderr",
     "output_type": "stream",
     "text": [
      "\r",
      "  1%|▊                                                                                 | 6/612 [00:03<06:00,  1.68it/s]"
     ]
    },
    {
     "name": "stdout",
     "output_type": "stream",
     "text": [
      "index: 6\n",
      "row: \n",
      "filename      EFAF2011A008.WAV\n",
      "start                  8041171\n",
      "duration                 57017\n",
      "type                    rumble\n",
      "background                   0\n",
      "Name: 6, dtype: object\n",
      "source filename: EFAF2011A008.WAV\n",
      ".\\adventureswithelephants_dataset\\wavs\\all\\efaf2011a008.wav\n",
      "x: \n",
      "[-53 -16 -15 ...  76  72  59]\n",
      "sr_orig: 44100\n",
      "y: \n",
      "[  46   40   22 ...  -84 -143 -127]\n"
     ]
    },
    {
     "name": "stderr",
     "output_type": "stream",
     "text": [
      "\r",
      "  1%|▉                                                                                 | 7/612 [00:03<05:43,  1.76it/s]"
     ]
    },
    {
     "name": "stdout",
     "output_type": "stream",
     "text": [
      "index: 7\n",
      "row: \n",
      "filename      EFAF2011A008.WAV\n",
      "start                 10693742\n",
      "duration                 76558\n",
      "type                    rumble\n",
      "background                   1\n",
      "Name: 7, dtype: object\n",
      "source filename: EFAF2011A008.WAV\n",
      ".\\adventureswithelephants_dataset\\wavs\\all\\efaf2011a008.wav\n",
      "x: \n",
      "[-53 -16 -15 ...  76  72  59]\n",
      "sr_orig: 44100\n",
      "y: \n",
      "[0 0 0 ... 0 0 0]\n",
      "yb class: [48 48 55 ...  0  0  0]\n"
     ]
    },
    {
     "name": "stderr",
     "output_type": "stream",
     "text": [
      "\r",
      "  1%|█                                                                                 | 8/612 [00:04<05:54,  1.70it/s]"
     ]
    },
    {
     "name": "stdout",
     "output_type": "stream",
     "text": [
      "index: 8\n",
      "row: \n",
      "filename      EFAF2011A008.WAV\n",
      "start                 10795225\n",
      "duration                 65877\n",
      "type                    rumble\n",
      "background                   0\n",
      "Name: 8, dtype: object\n",
      "source filename: EFAF2011A008.WAV\n",
      ".\\adventureswithelephants_dataset\\wavs\\all\\efaf2011a008.wav\n",
      "x: \n",
      "[-53 -16 -15 ...  76  72  59]\n",
      "sr_orig: 44100\n",
      "y: \n",
      "[ 0  0 -8 ...  0  0  0]\n"
     ]
    },
    {
     "name": "stderr",
     "output_type": "stream",
     "text": [
      "\r",
      "  1%|█▏                                                                                | 9/612 [00:05<05:38,  1.78it/s]"
     ]
    },
    {
     "name": "stdout",
     "output_type": "stream",
     "text": [
      "index: 9\n",
      "row: \n",
      "filename      EFAF2011A008.WAV\n",
      "start                 10902049\n",
      "duration                 35610\n",
      "type                    rumble\n",
      "background                   0\n",
      "Name: 9, dtype: object\n",
      "source filename: EFAF2011A008.WAV\n",
      ".\\adventureswithelephants_dataset\\wavs\\all\\efaf2011a008.wav\n",
      "x: \n",
      "[-53 -16 -15 ...  76  72  59]\n",
      "sr_orig: 44100\n",
      "y: \n",
      "[-31 -43 -62 ...   1  -1   0]\n"
     ]
    },
    {
     "name": "stderr",
     "output_type": "stream",
     "text": [
      "\r",
      "  2%|█▎                                                                               | 10/612 [00:05<05:26,  1.84it/s]"
     ]
    },
    {
     "name": "stdout",
     "output_type": "stream",
     "text": [
      "index: 10\n",
      "row: \n",
      "filename      EFAF2011A008.WAV\n",
      "start                 10982170\n",
      "duration                 49850\n",
      "type                    rumble\n",
      "background                   0\n",
      "Name: 10, dtype: object\n",
      "source filename: EFAF2011A008.WAV\n",
      ".\\adventureswithelephants_dataset\\wavs\\all\\efaf2011a008.wav\n",
      "x: \n",
      "[-53 -16 -15 ...  76  72  59]\n",
      "sr_orig: 44100\n",
      "y: \n",
      "[103  55   0 ... 201 198 173]\n"
     ]
    },
    {
     "name": "stderr",
     "output_type": "stream",
     "text": [
      "\r",
      "  2%|█▍                                                                               | 11/612 [00:05<05:18,  1.89it/s]"
     ]
    },
    {
     "name": "stdout",
     "output_type": "stream",
     "text": [
      "index: 11\n",
      "row: \n",
      "filename      EFAF2011A008.WAV\n",
      "start                 11099678\n",
      "duration                 30266\n",
      "type                    rumble\n",
      "background                   0\n",
      "Name: 11, dtype: object\n",
      "source filename: EFAF2011A008.WAV\n",
      ".\\adventureswithelephants_dataset\\wavs\\all\\efaf2011a008.wav\n",
      "x: \n",
      "[-53 -16 -15 ...  76  72  59]\n",
      "sr_orig: 44100\n",
      "y: \n",
      "[ 0  0  0 ... -3  5 29]\n"
     ]
    },
    {
     "name": "stderr",
     "output_type": "stream",
     "text": [
      "\r",
      "  2%|█▌                                                                               | 12/612 [00:06<05:09,  1.94it/s]"
     ]
    },
    {
     "name": "stdout",
     "output_type": "stream",
     "text": [
      "index: 12\n",
      "row: \n",
      "filename      EFAF2011A008.WAV\n",
      "start                 11211842\n",
      "duration                 42729\n",
      "type                    rumble\n",
      "background                   0\n",
      "Name: 12, dtype: object\n",
      "source filename: EFAF2011A008.WAV\n",
      ".\\adventureswithelephants_dataset\\wavs\\all\\efaf2011a008.wav\n",
      "x: \n",
      "[-53 -16 -15 ...  76  72  59]\n",
      "sr_orig: 44100\n",
      "y: \n",
      "[ 0  0  0 ... 22 18 19]\n"
     ]
    },
    {
     "name": "stderr",
     "output_type": "stream",
     "text": [
      "\r",
      "  2%|█▋                                                                               | 13/612 [00:06<05:01,  1.99it/s]"
     ]
    },
    {
     "name": "stdout",
     "output_type": "stream",
     "text": [
      "index: 13\n",
      "row: \n",
      "filename      EFAF2011A008.WAV\n",
      "start                 14807417\n",
      "duration                 60554\n",
      "type                    rumble\n",
      "background                   1\n",
      "Name: 13, dtype: object\n",
      "source filename: EFAF2011A008.WAV\n",
      ".\\adventureswithelephants_dataset\\wavs\\all\\efaf2011a008.wav\n",
      "x: \n",
      "[-53 -16 -15 ...  76  72  59]\n",
      "sr_orig: 44100\n",
      "y: \n",
      "[  -8  -10  -14 ... -199 -223 -196]\n",
      "yb class: [-56 -70 -50 ...   1  -3  -8]\n"
     ]
    },
    {
     "name": "stderr",
     "output_type": "stream",
     "text": [
      "\r",
      "  2%|█▊                                                                               | 14/612 [00:07<05:11,  1.92it/s]"
     ]
    },
    {
     "name": "stdout",
     "output_type": "stream",
     "text": [
      "index: 14\n",
      "row: \n",
      "filename      EFAF2011A008.WAV\n",
      "start                 14887436\n",
      "duration                 67045\n",
      "type                    rumble\n",
      "background                   0\n",
      "Name: 14, dtype: object\n",
      "source filename: EFAF2011A008.WAV\n",
      ".\\adventureswithelephants_dataset\\wavs\\all\\efaf2011a008.wav\n",
      "x: \n",
      "[-53 -16 -15 ...  76  72  59]\n",
      "sr_orig: 44100\n",
      "y: \n",
      "[   0    0    0 ... -273 -290 -265]\n"
     ]
    },
    {
     "name": "stderr",
     "output_type": "stream",
     "text": [
      "\r",
      "  2%|█▉                                                                               | 15/612 [00:07<05:05,  1.95it/s]"
     ]
    },
    {
     "name": "stdout",
     "output_type": "stream",
     "text": [
      "index: 15\n",
      "row: \n",
      "filename      EFAF2011A008.WAV\n",
      "start                 15006383\n",
      "duration                 45418\n",
      "type                    rumble\n",
      "background                   0\n",
      "Name: 15, dtype: object\n",
      "source filename: EFAF2011A008.WAV\n",
      ".\\adventureswithelephants_dataset\\wavs\\all\\efaf2011a008.wav\n",
      "x: \n",
      "[-53 -16 -15 ...  76  72  59]\n",
      "sr_orig: 44100\n",
      "y: \n",
      "[-35 -52 -52 ...   0   0   0]\n"
     ]
    },
    {
     "name": "stderr",
     "output_type": "stream",
     "text": [
      "\r",
      "  3%|██                                                                               | 16/612 [00:08<05:05,  1.95it/s]"
     ]
    },
    {
     "name": "stdout",
     "output_type": "stream",
     "text": [
      "index: 16\n",
      "row: \n",
      "filename      EFAF2011A008.WAV\n",
      "start                 15118847\n",
      "duration                 51905\n",
      "type                    rumble\n",
      "background                   0\n",
      "Name: 16, dtype: object\n",
      "source filename: EFAF2011A008.WAV\n",
      ".\\adventureswithelephants_dataset\\wavs\\all\\efaf2011a008.wav\n",
      "x: \n",
      "[-53 -16 -15 ...  76  72  59]\n",
      "sr_orig: 44100\n",
      "y: \n",
      "[ -85  -94 -108 ...  -40  -28  -38]\n"
     ]
    },
    {
     "name": "stderr",
     "output_type": "stream",
     "text": [
      "\r",
      "  3%|██▎                                                                              | 17/612 [00:08<05:01,  1.98it/s]"
     ]
    },
    {
     "name": "stdout",
     "output_type": "stream",
     "text": [
      "index: 17\n",
      "row: \n",
      "filename      EFAF2011A008.WAV\n",
      "start                 15302677\n",
      "duration                 47580\n",
      "type                    rumble\n",
      "background                   0\n",
      "Name: 17, dtype: object\n",
      "source filename: EFAF2011A008.WAV\n",
      ".\\adventureswithelephants_dataset\\wavs\\all\\efaf2011a008.wav\n",
      "x: \n",
      "[-53 -16 -15 ...  76  72  59]\n",
      "sr_orig: 44100\n",
      "y: \n",
      "[  0 -13 -26 ...   0   1   0]\n"
     ]
    },
    {
     "name": "stderr",
     "output_type": "stream",
     "text": [
      "\r",
      "  3%|██▍                                                                              | 18/612 [00:09<04:57,  2.00it/s]"
     ]
    },
    {
     "name": "stdout",
     "output_type": "stream",
     "text": [
      "index: 18\n",
      "row: \n",
      "filename      EFAF2011A009.WAV\n",
      "start                  2384341\n",
      "duration                 61356\n",
      "type                    rumble\n",
      "background                   0\n",
      "Name: 18, dtype: object\n",
      "source filename: EFAF2011A009.WAV\n",
      ".\\adventureswithelephants_dataset\\wavs\\all\\efaf2011a009.wav\n",
      "x: \n",
      "[ 96 123 132 ...  13 -24 -15]\n",
      "sr_orig: 44100\n",
      "y: \n",
      "[  0   0   0 ... 224 212 219]\n"
     ]
    },
    {
     "name": "stderr",
     "output_type": "stream",
     "text": [
      "\r",
      "  3%|██▌                                                                              | 19/612 [00:09<04:53,  2.02it/s]"
     ]
    },
    {
     "name": "stdout",
     "output_type": "stream",
     "text": [
      "index: 19\n",
      "row: \n",
      "filename      EFAF2011A009.WAV\n",
      "start                  6875450\n",
      "duration                 23968\n",
      "type                    rumble\n",
      "background                   1\n",
      "Name: 19, dtype: object\n",
      "source filename: EFAF2011A009.WAV\n",
      ".\\adventureswithelephants_dataset\\wavs\\all\\efaf2011a009.wav\n",
      "x: \n",
      "[ 96 123 132 ...  13 -24 -15]\n",
      "sr_orig: 44100\n",
      "y: \n",
      "[   0    0    0 ...  -80 -128 -151]\n",
      "yb class: [177 181 186 ...   1  -1   0]\n"
     ]
    },
    {
     "name": "stderr",
     "output_type": "stream",
     "text": [
      "\r",
      "  3%|██▋                                                                              | 20/612 [00:10<05:00,  1.97it/s]"
     ]
    },
    {
     "name": "stdout",
     "output_type": "stream",
     "text": [
      "index: 20\n",
      "row: \n",
      "filename      EFAF2011A009.WAV\n",
      "start                  6942142\n",
      "duration                 22923\n",
      "type                    rumble\n",
      "background                   0\n",
      "Name: 20, dtype: object\n",
      "source filename: EFAF2011A009.WAV\n",
      ".\\adventureswithelephants_dataset\\wavs\\all\\efaf2011a009.wav\n",
      "x: \n",
      "[ 96 123 132 ...  13 -24 -15]\n",
      "sr_orig: 44100\n",
      "y: \n",
      "[ 0  0  0 ... -1  1  0]\n"
     ]
    },
    {
     "name": "stderr",
     "output_type": "stream",
     "text": [
      "\r",
      "  3%|██▊                                                                              | 21/612 [00:10<04:56,  2.00it/s]"
     ]
    },
    {
     "name": "stdout",
     "output_type": "stream",
     "text": [
      "index: 21\n",
      "row: \n",
      "filename      EFAF2011A009.WAV\n",
      "start                  7258396\n",
      "duration                 29177\n",
      "type                    rumble\n",
      "background                   0\n",
      "Name: 21, dtype: object\n",
      "source filename: EFAF2011A009.WAV\n",
      ".\\adventureswithelephants_dataset\\wavs\\all\\efaf2011a009.wav\n",
      "x: \n",
      "[ 96 123 132 ...  13 -24 -15]\n",
      "sr_orig: 44100\n",
      "y: \n",
      "[-26 -49 -48 ... -47 -33 -46]\n"
     ]
    },
    {
     "name": "stderr",
     "output_type": "stream",
     "text": [
      "\r",
      "  4%|██▉                                                                              | 22/612 [00:10<04:51,  2.02it/s]"
     ]
    },
    {
     "name": "stdout",
     "output_type": "stream",
     "text": [
      "index: 22\n",
      "row: \n",
      "filename      EFAF2011A009.WAV\n",
      "start                  7426162\n",
      "duration                 16669\n",
      "type                    rumble\n",
      "background                   0\n",
      "Name: 22, dtype: object\n",
      "source filename: EFAF2011A009.WAV\n",
      ".\\adventureswithelephants_dataset\\wavs\\all\\efaf2011a009.wav\n",
      "x: \n",
      "[ 96 123 132 ...  13 -24 -15]\n",
      "sr_orig: 44100\n",
      "y: \n",
      "[  0  -8   0 ... -25 -12 -11]\n"
     ]
    },
    {
     "name": "stderr",
     "output_type": "stream",
     "text": [
      "\r",
      "  4%|███                                                                              | 23/612 [00:11<04:47,  2.05it/s]"
     ]
    },
    {
     "name": "stdout",
     "output_type": "stream",
     "text": [
      "index: 23\n",
      "row: \n",
      "filename      EFAF2011A010.WAV\n",
      "start                  2791679\n",
      "duration                 88077\n",
      "type                    rumble\n",
      "background                   0\n",
      "Name: 23, dtype: object\n",
      "source filename: EFAF2011A010.WAV\n",
      ".\\adventureswithelephants_dataset\\wavs\\all\\efaf2011a010.wav\n",
      "x: \n",
      "[-18 -31 -52 ... -17 -18 -39]\n",
      "sr_orig: 44100\n",
      "y: \n",
      "[-39 -22   0 ...  71  55  55]\n"
     ]
    },
    {
     "name": "stderr",
     "output_type": "stream",
     "text": [
      "\r",
      "  4%|███▏                                                                             | 24/612 [00:11<04:44,  2.06it/s]"
     ]
    },
    {
     "name": "stdout",
     "output_type": "stream",
     "text": [
      "index: 24\n",
      "row: \n",
      "filename      EFAF2011A010.WAV\n",
      "start                  2969508\n",
      "duration                 42782\n",
      "type                    rumble\n",
      "background                   0\n",
      "Name: 24, dtype: object\n",
      "source filename: EFAF2011A010.WAV\n",
      ".\\adventureswithelephants_dataset\\wavs\\all\\efaf2011a010.wav\n",
      "x: \n",
      "[-18 -31 -52 ... -17 -18 -39]\n",
      "sr_orig: 44100\n",
      "y: \n",
      "[258 219 171 ...  -3  -1   0]\n"
     ]
    },
    {
     "name": "stderr",
     "output_type": "stream",
     "text": [
      "\r",
      "  4%|███▎                                                                             | 25/612 [00:11<04:41,  2.08it/s]"
     ]
    },
    {
     "name": "stdout",
     "output_type": "stream",
     "text": [
      "index: 25\n",
      "row: \n",
      "filename      EFAF2011A010.WAV\n",
      "start                  3176703\n",
      "duration                 71301\n",
      "type                    rumble\n",
      "background                   0\n",
      "Name: 25, dtype: object\n",
      "source filename: EFAF2011A010.WAV\n",
      ".\\adventureswithelephants_dataset\\wavs\\all\\efaf2011a010.wav\n",
      "x: \n",
      "[-18 -31 -52 ... -17 -18 -39]\n",
      "sr_orig: 44100\n",
      "y: \n",
      "[48 66 80 ...  0  0  0]\n"
     ]
    },
    {
     "name": "stderr",
     "output_type": "stream",
     "text": [
      "\r",
      "  4%|███▍                                                                             | 26/612 [00:12<04:39,  2.10it/s]"
     ]
    },
    {
     "name": "stdout",
     "output_type": "stream",
     "text": [
      "index: 26\n",
      "row: \n",
      "filename      EFAF2011A010.WAV\n",
      "start                  3414932\n",
      "duration                 67944\n",
      "type                    rumble\n",
      "background                   0\n",
      "Name: 26, dtype: object\n",
      "source filename: EFAF2011A010.WAV\n",
      ".\\adventureswithelephants_dataset\\wavs\\all\\efaf2011a010.wav\n",
      "x: \n",
      "[-18 -31 -52 ... -17 -18 -39]\n",
      "sr_orig: 44100\n",
      "y: \n",
      "[  0   0   6 ... 268 262 245]\n"
     ]
    },
    {
     "name": "stderr",
     "output_type": "stream",
     "text": [
      "\r",
      "  4%|███▌                                                                             | 27/612 [00:12<04:36,  2.12it/s]"
     ]
    },
    {
     "name": "stdout",
     "output_type": "stream",
     "text": [
      "index: 27\n",
      "row: \n",
      "filename      EFAF2011A010.WAV\n",
      "start                  6506095\n",
      "duration                 83706\n",
      "type                    rumble\n",
      "background                   1\n",
      "Name: 27, dtype: object\n",
      "source filename: EFAF2011A010.WAV\n",
      ".\\adventureswithelephants_dataset\\wavs\\all\\efaf2011a010.wav\n",
      "x: \n",
      "[-18 -31 -52 ... -17 -18 -39]\n",
      "sr_orig: 44100\n",
      "y: \n",
      "[-137 -152 -133 ...    1   -1    0]\n",
      "yb class: [ -64  -65  -43 ... -122 -138 -137]\n"
     ]
    },
    {
     "name": "stderr",
     "output_type": "stream",
     "text": [
      "\r",
      "  5%|███▋                                                                             | 28/612 [00:13<04:41,  2.07it/s]"
     ]
    },
    {
     "name": "stdout",
     "output_type": "stream",
     "text": [
      "index: 28\n",
      "row: \n",
      "filename      EFAF2011A010.WAV\n",
      "start                  6884525\n",
      "duration                 64012\n",
      "type                    rumble\n",
      "background                   0\n",
      "Name: 28, dtype: object\n",
      "source filename: EFAF2011A010.WAV\n",
      ".\\adventureswithelephants_dataset\\wavs\\all\\efaf2011a010.wav\n",
      "x: \n",
      "[-18 -31 -52 ... -17 -18 -39]\n",
      "sr_orig: 44100\n",
      "y: \n",
      "[ 0 -2 -9 ... 20 20 18]\n"
     ]
    },
    {
     "name": "stderr",
     "output_type": "stream",
     "text": [
      "\r",
      "  5%|███▊                                                                             | 29/612 [00:13<04:39,  2.09it/s]"
     ]
    },
    {
     "name": "stdout",
     "output_type": "stream",
     "text": [
      "index: 29\n",
      "row: \n",
      "filename      EFAF2011A010.WAV\n",
      "start                 10222146\n",
      "duration                 74317\n",
      "type                    rumble\n",
      "background                   1\n",
      "Name: 29, dtype: object\n",
      "source filename: EFAF2011A010.WAV\n",
      ".\\adventureswithelephants_dataset\\wavs\\all\\efaf2011a010.wav\n",
      "x: \n",
      "[-18 -31 -52 ... -17 -18 -39]\n",
      "sr_orig: 44100\n",
      "y: \n",
      "[ 0  0  0 ...  0 -1 -1]\n",
      "yb class: [ 0  0  0 ... -1  0  0]\n"
     ]
    },
    {
     "name": "stderr",
     "output_type": "stream",
     "text": [
      "\r",
      "  5%|███▉                                                                             | 30/612 [00:14<04:43,  2.05it/s]"
     ]
    },
    {
     "name": "stdout",
     "output_type": "stream",
     "text": [
      "index: 30\n",
      "row: \n",
      "filename      EFAF2011A010.WAV\n",
      "start                  7043876\n",
      "duration                 35214\n",
      "type                    rumble\n",
      "background                   0\n",
      "Name: 30, dtype: object\n",
      "source filename: EFAF2011A010.WAV\n",
      ".\\adventureswithelephants_dataset\\wavs\\all\\efaf2011a010.wav\n",
      "x: \n",
      "[-18 -31 -52 ... -17 -18 -39]\n",
      "sr_orig: 44100\n",
      "y: \n",
      "[24 22 22 ...  0  0  0]\n"
     ]
    },
    {
     "name": "stderr",
     "output_type": "stream",
     "text": [
      "\r",
      "  5%|████                                                                             | 31/612 [00:14<04:41,  2.07it/s]"
     ]
    },
    {
     "name": "stdout",
     "output_type": "stream",
     "text": [
      "index: 31\n",
      "row: \n",
      "filename      EFAF2011A010.WAV\n",
      "start                  7137029\n",
      "duration                 49418\n",
      "type                    rumble\n",
      "background                   0\n",
      "Name: 31, dtype: object\n",
      "source filename: EFAF2011A010.WAV\n",
      ".\\adventureswithelephants_dataset\\wavs\\all\\efaf2011a010.wav\n",
      "x: \n",
      "[-18 -31 -52 ... -17 -18 -39]\n",
      "sr_orig: 44100\n",
      "y: \n",
      "[  0   0   0 ... -50 -51 -42]\n"
     ]
    },
    {
     "name": "stderr",
     "output_type": "stream",
     "text": [
      "\r",
      "  5%|████▏                                                                            | 32/612 [00:15<04:38,  2.08it/s]"
     ]
    },
    {
     "name": "stdout",
     "output_type": "stream",
     "text": [
      "index: 32\n",
      "row: \n",
      "filename      EFAF2011A010.WAV\n",
      "start                 10534771\n",
      "duration                 29084\n",
      "type                    rumble\n",
      "background                   1\n",
      "Name: 32, dtype: object\n",
      "source filename: EFAF2011A010.WAV\n",
      ".\\adventureswithelephants_dataset\\wavs\\all\\efaf2011a010.wav\n",
      "x: \n",
      "[-18 -31 -52 ... -17 -18 -39]\n",
      "sr_orig: 44100\n",
      "y: \n",
      "[-71 -82 -89 ...   0   0   0]\n",
      "yb class: [  0   0   0 ... -95 -96 -73]\n"
     ]
    },
    {
     "name": "stderr",
     "output_type": "stream",
     "text": [
      "\r",
      "  5%|████▎                                                                            | 33/612 [00:16<04:42,  2.05it/s]"
     ]
    },
    {
     "name": "stdout",
     "output_type": "stream",
     "text": [
      "index: 33\n",
      "row: \n",
      "filename      EFAF2011A010.WAV\n",
      "start                 10684693\n",
      "duration                 38235\n",
      "type                    rumble\n",
      "background                   0\n",
      "Name: 33, dtype: object\n",
      "source filename: EFAF2011A010.WAV\n",
      ".\\adventureswithelephants_dataset\\wavs\\all\\efaf2011a010.wav\n",
      "x: \n",
      "[-18 -31 -52 ... -17 -18 -39]\n",
      "sr_orig: 44100\n",
      "y: \n",
      "[-12   0   0 ... 635 620 554]\n"
     ]
    },
    {
     "name": "stderr",
     "output_type": "stream",
     "text": [
      "\r",
      "  6%|████▌                                                                            | 34/612 [00:16<04:40,  2.06it/s]"
     ]
    },
    {
     "name": "stdout",
     "output_type": "stream",
     "text": [
      "index: 34\n",
      "row: \n",
      "filename      EFAF2011A010.WAV\n",
      "start                 10790405\n",
      "duration                 30363\n",
      "type                    rumble\n",
      "background                   0\n",
      "Name: 34, dtype: object\n",
      "source filename: EFAF2011A010.WAV\n",
      ".\\adventureswithelephants_dataset\\wavs\\all\\efaf2011a010.wav\n",
      "x: \n",
      "[-18 -31 -52 ... -17 -18 -39]\n",
      "sr_orig: 44100\n",
      "y: \n",
      "[12 15 12 ... -6 -7  0]\n"
     ]
    },
    {
     "name": "stderr",
     "output_type": "stream",
     "text": [
      "\r",
      "  6%|████▋                                                                            | 35/612 [00:16<04:38,  2.07it/s]"
     ]
    },
    {
     "name": "stdout",
     "output_type": "stream",
     "text": [
      "index: 35\n",
      "row: \n",
      "filename      EFAF2011A010.WAV\n",
      "start                 13432313\n",
      "duration                196077\n",
      "type                    rumble\n",
      "background                   1\n",
      "Name: 35, dtype: object\n",
      "source filename: EFAF2011A010.WAV\n",
      ".\\adventureswithelephants_dataset\\wavs\\all\\efaf2011a010.wav\n",
      "x: \n",
      "[-18 -31 -52 ... -17 -18 -39]\n",
      "sr_orig: 44100\n",
      "y: \n",
      "[-298 -349 -348 ...    0    0    0]\n",
      "yb class: [  19    1    0 ... -223 -275 -294]\n"
     ]
    },
    {
     "name": "stderr",
     "output_type": "stream",
     "text": [
      "\r",
      "  6%|████▊                                                                            | 36/612 [00:17<04:42,  2.04it/s]"
     ]
    },
    {
     "name": "stdout",
     "output_type": "stream",
     "text": [
      "index: 36\n",
      "row: \n",
      "filename      EFAF2011A014.WAV\n",
      "start                   671069\n",
      "duration                200210\n",
      "type                    rumble\n",
      "background                   0\n",
      "Name: 36, dtype: object\n",
      "source filename: EFAF2011A014.WAV\n",
      ".\\adventureswithelephants_dataset\\wavs\\all\\efaf2011a014.wav\n",
      "x: \n",
      "[ -98  -79  -41 ... -626 -585 -644]\n",
      "sr_orig: 44100\n",
      "y: \n",
      "[374 355 376 ... 223 309 228]\n"
     ]
    },
    {
     "name": "stderr",
     "output_type": "stream",
     "text": [
      "\r",
      "  6%|████▉                                                                            | 37/612 [00:17<04:39,  2.06it/s]"
     ]
    },
    {
     "name": "stdout",
     "output_type": "stream",
     "text": [
      "index: 37\n",
      "row: \n",
      "filename      EFAF2011A015.WAV\n",
      "start                  1685828\n",
      "duration                217977\n",
      "type                    rumble\n",
      "background                   0\n",
      "Name: 37, dtype: object\n",
      "source filename: EFAF2011A015.WAV\n",
      ".\\adventureswithelephants_dataset\\wavs\\all\\efaf2011a015.wav\n",
      "x: \n",
      "[ 27 -46   1 ... -88 -14 118]\n",
      "sr_orig: 44100\n",
      "y: \n",
      "[301 152  51 ... 398 462 437]\n"
     ]
    },
    {
     "name": "stderr",
     "output_type": "stream",
     "text": [
      "\r",
      "  6%|█████                                                                            | 38/612 [00:18<04:37,  2.07it/s]"
     ]
    },
    {
     "name": "stdout",
     "output_type": "stream",
     "text": [
      "index: 38\n",
      "row: \n",
      "filename      EFAF2011A015.WAV\n",
      "start                  3802130\n",
      "duration                275408\n",
      "type                    rumble\n",
      "background                   1\n",
      "Name: 38, dtype: object\n",
      "source filename: EFAF2011A015.WAV\n",
      ".\\adventureswithelephants_dataset\\wavs\\all\\efaf2011a015.wav\n",
      "x: \n",
      "[ 27 -46   1 ... -88 -14 118]\n",
      "sr_orig: 44100\n",
      "y: \n",
      "[ -227  -250  -363 ... -1252 -1413 -1286]\n",
      "yb class: [   2    0    0 ... -379 -319 -228]\n"
     ]
    },
    {
     "name": "stderr",
     "output_type": "stream",
     "text": [
      "\r",
      "  6%|█████▏                                                                           | 39/612 [00:19<04:40,  2.04it/s]"
     ]
    },
    {
     "name": "stdout",
     "output_type": "stream",
     "text": [
      "index: 39\n",
      "row: \n",
      "filename      EFAF2011A015.WAV\n",
      "start                  7268522\n",
      "duration                170945\n",
      "type                    rumble\n",
      "background                   1\n",
      "Name: 39, dtype: object\n",
      "source filename: EFAF2011A015.WAV\n",
      ".\\adventureswithelephants_dataset\\wavs\\all\\efaf2011a015.wav\n",
      "x: \n",
      "[ 27 -46   1 ... -88 -14 118]\n",
      "sr_orig: 44100\n",
      "y: \n",
      "[-238 -303 -375 ...   14  -12  -46]\n",
      "yb class: [ 253  334  281 ... -416 -342 -240]\n"
     ]
    },
    {
     "name": "stderr",
     "output_type": "stream",
     "text": [
      "\r",
      "  7%|█████▎                                                                           | 40/612 [00:19<04:43,  2.02it/s]"
     ]
    },
    {
     "name": "stdout",
     "output_type": "stream",
     "text": [
      "index: 40\n",
      "row: \n",
      "filename      EFAF2011A015.WAV\n",
      "start                  7852723\n",
      "duration                 98806\n",
      "type                    rumble\n",
      "background                   0\n",
      "Name: 40, dtype: object\n",
      "source filename: EFAF2011A015.WAV\n",
      ".\\adventureswithelephants_dataset\\wavs\\all\\efaf2011a015.wav\n",
      "x: \n",
      "[ 27 -46   1 ... -88 -14 118]\n",
      "sr_orig: 44100\n",
      "y: \n",
      "[ 4663  5106  5224 ... -7307 -7761 -7354]\n"
     ]
    },
    {
     "name": "stderr",
     "output_type": "stream",
     "text": [
      "\r",
      "  7%|█████▍                                                                           | 41/612 [00:20<04:41,  2.03it/s]"
     ]
    },
    {
     "name": "stdout",
     "output_type": "stream",
     "text": [
      "index: 41\n",
      "row: \n",
      "filename      EFAF2011A015.WAV\n",
      "start                  7948535\n",
      "duration                151201\n",
      "type                    rumble\n",
      "background                   0\n",
      "Name: 41, dtype: object\n",
      "source filename: EFAF2011A015.WAV\n",
      ".\\adventureswithelephants_dataset\\wavs\\all\\efaf2011a015.wav\n",
      "x: \n",
      "[ 27 -46   1 ... -88 -14 118]\n",
      "sr_orig: 44100\n",
      "y: \n",
      "[ 674  789  880 ...  155   46 -128]\n"
     ]
    },
    {
     "name": "stderr",
     "output_type": "stream",
     "text": [
      "\r",
      "  7%|█████▌                                                                           | 42/612 [00:20<04:39,  2.04it/s]"
     ]
    },
    {
     "name": "stdout",
     "output_type": "stream",
     "text": [
      "index: 42\n",
      "row: \n",
      "filename      EFAF2011A015.WAV\n",
      "start                  8111709\n",
      "duration                 86829\n",
      "type                    rumble\n",
      "background                   0\n",
      "Name: 42, dtype: object\n",
      "source filename: EFAF2011A015.WAV\n",
      ".\\adventureswithelephants_dataset\\wavs\\all\\efaf2011a015.wav\n",
      "x: \n",
      "[ 27 -46   1 ... -88 -14 118]\n",
      "sr_orig: 44100\n",
      "y: \n",
      "[759 665 622 ... 260 293 354]\n"
     ]
    },
    {
     "name": "stderr",
     "output_type": "stream",
     "text": [
      "\r",
      "  7%|█████▋                                                                           | 43/612 [00:20<04:37,  2.05it/s]"
     ]
    },
    {
     "name": "stdout",
     "output_type": "stream",
     "text": [
      "index: 43\n",
      "row: \n",
      "filename      EFAF2011A015.WAV\n",
      "start                  8283867\n",
      "duration                 64373\n",
      "type                    rumble\n",
      "background                   0\n",
      "Name: 43, dtype: object\n",
      "source filename: EFAF2011A015.WAV\n",
      ".\\adventureswithelephants_dataset\\wavs\\all\\efaf2011a015.wav\n",
      "x: \n",
      "[ 27 -46   1 ... -88 -14 118]\n",
      "sr_orig: 44100\n",
      "y: \n",
      "[3998 4004 3563 ... -348 -367 -374]\n"
     ]
    },
    {
     "name": "stderr",
     "output_type": "stream",
     "text": [
      "\r",
      "  7%|█████▊                                                                           | 44/612 [00:21<04:35,  2.06it/s]"
     ]
    },
    {
     "name": "stdout",
     "output_type": "stream",
     "text": [
      "index: 44\n",
      "row: \n",
      "filename      EFAF2011A015.WAV\n",
      "start                  8811775\n",
      "duration                151955\n",
      "type                    rumble\n",
      "background                   1\n",
      "Name: 44, dtype: object\n",
      "source filename: EFAF2011A015.WAV\n",
      ".\\adventureswithelephants_dataset\\wavs\\all\\efaf2011a015.wav\n",
      "x: \n",
      "[ 27 -46   1 ... -88 -14 118]\n",
      "sr_orig: 44100\n",
      "y: \n",
      "[-65 -74 -80 ... 103  39   0]\n",
      "yb class: [187 153 126 ...   2 -17 -65]\n"
     ]
    },
    {
     "name": "stderr",
     "output_type": "stream",
     "text": [
      "\r",
      "  7%|█████▉                                                                           | 45/612 [00:22<04:38,  2.04it/s]"
     ]
    },
    {
     "name": "stdout",
     "output_type": "stream",
     "text": [
      "index: 45\n",
      "row: \n",
      "filename      EFAF2011A015.WAV\n",
      "start                  9822789\n",
      "duration                 86295\n",
      "type                    rumble\n",
      "background                   1\n",
      "Name: 45, dtype: object\n",
      "source filename: EFAF2011A015.WAV\n",
      ".\\adventureswithelephants_dataset\\wavs\\all\\efaf2011a015.wav\n",
      "x: \n",
      "[ 27 -46   1 ... -88 -14 118]\n",
      "sr_orig: 44100\n",
      "y: \n",
      "[-131 -146  -22 ...   -1 -134 -211]\n",
      "yb class: [ 167  162  162 ... -104  -69 -127]\n"
     ]
    },
    {
     "name": "stderr",
     "output_type": "stream",
     "text": [
      "\r",
      "  8%|██████                                                                           | 46/612 [00:22<04:40,  2.02it/s]"
     ]
    },
    {
     "name": "stdout",
     "output_type": "stream",
     "text": [
      "index: 46\n",
      "row: \n",
      "filename      EFAF2011A015.WAV\n",
      "start                 10655777\n",
      "duration                 39571\n",
      "type                    rumble\n",
      "background                   1\n",
      "Name: 46, dtype: object\n",
      "source filename: EFAF2011A015.WAV\n",
      ".\\adventureswithelephants_dataset\\wavs\\all\\efaf2011a015.wav\n",
      "x: \n",
      "[ 27 -46   1 ... -88 -14 118]\n",
      "sr_orig: 44100\n",
      "y: \n",
      "[ -75    0   59 ... 2013 1366  659]\n",
      "yb class: [-100  -59    0 ...  -64  -81  -78]\n"
     ]
    },
    {
     "name": "stderr",
     "output_type": "stream",
     "text": [
      "\r",
      "  8%|██████▏                                                                          | 47/612 [00:23<04:43,  2.00it/s]"
     ]
    },
    {
     "name": "stdout",
     "output_type": "stream",
     "text": [
      "index: 47\n",
      "row: \n",
      "filename      EFAF2011A015.WAV\n",
      "start                 10913696\n",
      "duration                257588\n",
      "type                    rumble\n",
      "background                   0\n",
      "Name: 47, dtype: object\n",
      "source filename: EFAF2011A015.WAV\n",
      ".\\adventureswithelephants_dataset\\wavs\\all\\efaf2011a015.wav\n",
      "x: \n",
      "[ 27 -46   1 ... -88 -14 118]\n",
      "sr_orig: 44100\n",
      "y: \n",
      "[  34   43  -29 ... -778 -865 -795]\n"
     ]
    },
    {
     "name": "stderr",
     "output_type": "stream",
     "text": [
      "\r",
      "  8%|██████▎                                                                          | 48/612 [00:23<04:41,  2.00it/s]"
     ]
    },
    {
     "name": "stdout",
     "output_type": "stream",
     "text": [
      "index: 48\n",
      "row: \n",
      "filename      EFAF2011A015.WAV\n",
      "start                 10013407\n",
      "duration                 79857\n",
      "type                    rumble\n",
      "background                   0\n",
      "Name: 48, dtype: object\n",
      "source filename: EFAF2011A015.WAV\n",
      ".\\adventureswithelephants_dataset\\wavs\\all\\efaf2011a015.wav\n",
      "x: \n",
      "[ 27 -46   1 ... -88 -14 118]\n",
      "sr_orig: 44100\n",
      "y: \n",
      "[-128  -55   47 ...  236  152   41]\n"
     ]
    },
    {
     "name": "stderr",
     "output_type": "stream",
     "text": [
      "\r",
      "  8%|██████▍                                                                          | 49/612 [00:24<04:39,  2.01it/s]"
     ]
    },
    {
     "name": "stdout",
     "output_type": "stream",
     "text": [
      "index: 49\n",
      "row: \n",
      "filename      EFAF2011A016.WAV\n",
      "start                  2798189\n",
      "duration                 42031\n",
      "type                    rumble\n",
      "background                   0\n",
      "Name: 49, dtype: object\n",
      "source filename: EFAF2011A016.WAV\n",
      ".\\adventureswithelephants_dataset\\wavs\\all\\efaf2011a016.wav\n",
      "x: \n",
      "[1747 1806 1474 ... -250 -146  -79]\n",
      "sr_orig: 44100\n",
      "y: \n",
      "[  14    0    0 ... 1257 1496 1533]\n"
     ]
    },
    {
     "name": "stderr",
     "output_type": "stream",
     "text": [
      "\r",
      "  8%|██████▌                                                                          | 50/612 [00:24<04:38,  2.02it/s]"
     ]
    },
    {
     "name": "stdout",
     "output_type": "stream",
     "text": [
      "index: 50\n",
      "row: \n",
      "filename      EFAF2011A016.WAV\n",
      "start                 15978929\n",
      "duration                 71654\n",
      "type                    rumble\n",
      "background                   1\n",
      "Name: 50, dtype: object\n",
      "source filename: EFAF2011A016.WAV\n",
      ".\\adventureswithelephants_dataset\\wavs\\all\\efaf2011a016.wav\n",
      "x: \n",
      "[1747 1806 1474 ... -250 -146  -79]\n",
      "sr_orig: 44100\n",
      "y: \n",
      "[ -154  -169  -174 ... -3415 -3626 -3468]\n",
      "yb class: [-1109 -1210 -1189 ...  -131  -151  -152]\n"
     ]
    },
    {
     "name": "stderr",
     "output_type": "stream",
     "text": [
      "\r",
      "  8%|██████▊                                                                          | 51/612 [00:25<04:40,  2.00it/s]"
     ]
    },
    {
     "name": "stdout",
     "output_type": "stream",
     "text": [
      "index: 51\n",
      "row: \n",
      "filename      EFAF2011A016.WAV\n",
      "start                 15820998\n",
      "duration                 51182\n",
      "type                    rumble\n",
      "background                   0\n",
      "Name: 51, dtype: object\n",
      "source filename: EFAF2011A016.WAV\n",
      ".\\adventureswithelephants_dataset\\wavs\\all\\efaf2011a016.wav\n",
      "x: \n",
      "[1747 1806 1474 ... -250 -146  -79]\n",
      "sr_orig: 44100\n",
      "y: \n",
      "[269 285 263 ... 386 408 409]\n"
     ]
    },
    {
     "name": "stderr",
     "output_type": "stream",
     "text": [
      "\r",
      "  8%|██████▉                                                                          | 52/612 [00:25<04:39,  2.00it/s]"
     ]
    },
    {
     "name": "stdout",
     "output_type": "stream",
     "text": [
      "index: 52\n",
      "row: \n",
      "filename      EFAF2011A016.WAV\n",
      "start                 17266058\n",
      "duration                 43575\n",
      "type                    rumble\n",
      "background                   1\n",
      "Name: 52, dtype: object\n",
      "source filename: EFAF2011A016.WAV\n",
      ".\\adventureswithelephants_dataset\\wavs\\all\\efaf2011a016.wav\n",
      "x: \n",
      "[1747 1806 1474 ... -250 -146  -79]\n",
      "sr_orig: 44100\n",
      "y: \n",
      "[  528   537   477 ... -1392 -1639 -1727]\n",
      "yb class: [113 115 103 ... 551 573 528]\n"
     ]
    },
    {
     "name": "stderr",
     "output_type": "stream",
     "text": [
      "\r",
      "  9%|███████                                                                          | 53/612 [00:26<04:41,  1.99it/s]"
     ]
    },
    {
     "name": "stdout",
     "output_type": "stream",
     "text": [
      "index: 53\n",
      "row: \n",
      "filename      EFAF2011A016.WAV\n",
      "start                 17376453\n",
      "duration                 47933\n",
      "type                    rumble\n",
      "background                   0\n",
      "Name: 53, dtype: object\n",
      "source filename: EFAF2011A016.WAV\n",
      ".\\adventureswithelephants_dataset\\wavs\\all\\efaf2011a016.wav\n",
      "x: \n",
      "[1747 1806 1474 ... -250 -146  -79]\n",
      "sr_orig: 44100\n",
      "y: \n",
      "[  2   0   0 ... 219 211 205]\n"
     ]
    },
    {
     "name": "stderr",
     "output_type": "stream",
     "text": [
      "\r",
      "  9%|███████▏                                                                         | 54/612 [00:27<04:39,  2.00it/s]"
     ]
    },
    {
     "name": "stdout",
     "output_type": "stream",
     "text": [
      "index: 54\n",
      "row: \n",
      "filename      EFAF2011A016.WAV\n",
      "start                 16889647\n",
      "duration                 72778\n",
      "type                    rumble\n",
      "background                   0\n",
      "Name: 54, dtype: object\n",
      "source filename: EFAF2011A016.WAV\n",
      ".\\adventureswithelephants_dataset\\wavs\\all\\efaf2011a016.wav\n",
      "x: \n",
      "[1747 1806 1474 ... -250 -146  -79]\n",
      "sr_orig: 44100\n",
      "y: \n",
      "[-496 -513 -467 ... -660 -666 -597]\n"
     ]
    },
    {
     "name": "stderr",
     "output_type": "stream",
     "text": [
      "\r",
      "  9%|███████▎                                                                         | 55/612 [00:27<04:37,  2.00it/s]"
     ]
    },
    {
     "name": "stdout",
     "output_type": "stream",
     "text": [
      "index: 55\n",
      "row: \n",
      "filename      EFAF2011A016.WAV\n",
      "start                 19619551\n",
      "duration                144327\n",
      "type                    rumble\n",
      "background                   1\n",
      "Name: 55, dtype: object\n",
      "source filename: EFAF2011A016.WAV\n",
      ".\\adventureswithelephants_dataset\\wavs\\all\\efaf2011a016.wav\n",
      "x: \n",
      "[1747 1806 1474 ... -250 -146  -79]\n",
      "sr_orig: 44100\n",
      "y: \n",
      "[0 0 0 ... 1 0 0]\n",
      "yb class: [103  92  69 ...   0   0   0]\n"
     ]
    },
    {
     "name": "stderr",
     "output_type": "stream",
     "text": [
      "\r",
      "  9%|███████▍                                                                         | 56/612 [00:28<04:39,  1.99it/s]"
     ]
    },
    {
     "name": "stdout",
     "output_type": "stream",
     "text": [
      "index: 56\n",
      "row: \n",
      "filename      EFAF2011A016.WAV\n",
      "start                 20906059\n",
      "duration                 92367\n",
      "type                    rumble\n",
      "background                   1\n",
      "Name: 56, dtype: object\n",
      "source filename: EFAF2011A016.WAV\n",
      ".\\adventureswithelephants_dataset\\wavs\\all\\efaf2011a016.wav\n",
      "x: \n",
      "[1747 1806 1474 ... -250 -146  -79]\n",
      "sr_orig: 44100\n",
      "y: \n",
      "[-353 -355 -311 ... -156 -242 -309]\n",
      "yb class: [-246 -247 -213 ... -352 -371 -354]\n"
     ]
    },
    {
     "name": "stderr",
     "output_type": "stream",
     "text": [
      "\r",
      "  9%|███████▌                                                                         | 57/612 [00:28<04:40,  1.98it/s]"
     ]
    },
    {
     "name": "stdout",
     "output_type": "stream",
     "text": [
      "index: 57\n",
      "row: \n",
      "filename      EFAF2011A016.WAV\n",
      "start                 35453551\n",
      "duration                123952\n",
      "type                    rumble\n",
      "background                   1\n",
      "Name: 57, dtype: object\n",
      "source filename: EFAF2011A016.WAV\n",
      ".\\adventureswithelephants_dataset\\wavs\\all\\efaf2011a016.wav\n",
      "x: \n",
      "[1747 1806 1474 ... -250 -146  -79]\n",
      "sr_orig: 44100\n",
      "y: \n",
      "[ 345  373  360 ... 2042 2100 1950]\n",
      "yb class: [  0   0   4 ... 354 376 343]\n"
     ]
    },
    {
     "name": "stderr",
     "output_type": "stream",
     "text": [
      "\r",
      "  9%|███████▋                                                                         | 58/612 [00:29<04:42,  1.96it/s]"
     ]
    },
    {
     "name": "stdout",
     "output_type": "stream",
     "text": [
      "index: 58\n",
      "row: \n",
      "filename      EFAF2011A016.WAV\n",
      "start                  3047279\n",
      "duration                 70996\n",
      "type                    rumble\n",
      "background                   0\n",
      "Name: 58, dtype: object\n",
      "source filename: EFAF2011A016.WAV\n",
      ".\\adventureswithelephants_dataset\\wavs\\all\\efaf2011a016.wav\n",
      "x: \n",
      "[1747 1806 1474 ... -250 -146  -79]\n",
      "sr_orig: 44100\n",
      "y: \n",
      "[-210 -192 -147 ...  395  288  165]\n"
     ]
    },
    {
     "name": "stderr",
     "output_type": "stream",
     "text": [
      "\r",
      " 10%|███████▊                                                                         | 59/612 [00:29<04:41,  1.97it/s]"
     ]
    },
    {
     "name": "stdout",
     "output_type": "stream",
     "text": [
      "index: 59\n",
      "row: \n",
      "filename      EFAF2011A016.WAV\n",
      "start                  6557489\n",
      "duration                 84394\n",
      "type                    rumble\n",
      "background                   1\n",
      "Name: 59, dtype: object\n",
      "source filename: EFAF2011A016.WAV\n",
      ".\\adventureswithelephants_dataset\\wavs\\all\\efaf2011a016.wav\n",
      "x: \n",
      "[1747 1806 1474 ... -250 -146  -79]\n",
      "sr_orig: 44100\n",
      "y: \n",
      "[ 129  149  174 ... -164 -224 -266]\n",
      "yb class: [-293 -289 -271 ...  167  141  128]\n"
     ]
    },
    {
     "name": "stderr",
     "output_type": "stream",
     "text": [
      "\r",
      " 10%|███████▉                                                                         | 60/612 [00:30<04:42,  1.95it/s]"
     ]
    },
    {
     "name": "stdout",
     "output_type": "stream",
     "text": [
      "index: 60\n",
      "row: \n",
      "filename      EFAF2011A016.WAV\n",
      "start                  6687231\n",
      "duration                 55420\n",
      "type                    rumble\n",
      "background                   0\n",
      "Name: 60, dtype: object\n",
      "source filename: EFAF2011A016.WAV\n",
      ".\\adventureswithelephants_dataset\\wavs\\all\\efaf2011a016.wav\n",
      "x: \n",
      "[1747 1806 1474 ... -250 -146  -79]\n",
      "sr_orig: 44100\n",
      "y: \n",
      "[195 213 207 ... 140 276 382]\n"
     ]
    },
    {
     "name": "stderr",
     "output_type": "stream",
     "text": [
      "\r",
      " 10%|████████                                                                         | 61/612 [00:31<04:40,  1.96it/s]"
     ]
    },
    {
     "name": "stdout",
     "output_type": "stream",
     "text": [
      "index: 61\n",
      "row: \n",
      "filename      EFAF2011A016.WAV\n",
      "start                  6779810\n",
      "duration                 59835\n",
      "type                    rumble\n",
      "background                   0\n",
      "Name: 61, dtype: object\n",
      "source filename: EFAF2011A016.WAV\n",
      ".\\adventureswithelephants_dataset\\wavs\\all\\efaf2011a016.wav\n",
      "x: \n",
      "[1747 1806 1474 ... -250 -146  -79]\n",
      "sr_orig: 44100\n",
      "y: \n",
      "[ 212  209  184 ... -541 -594 -574]\n"
     ]
    },
    {
     "name": "stderr",
     "output_type": "stream",
     "text": [
      "\r",
      " 10%|████████▏                                                                        | 62/612 [00:31<04:39,  1.97it/s]"
     ]
    },
    {
     "name": "stdout",
     "output_type": "stream",
     "text": [
      "index: 62\n",
      "row: \n",
      "filename      EFAF2011A016.WAV\n",
      "start                  3219172\n",
      "duration                 82462\n",
      "type                    rumble\n",
      "background                   0\n",
      "Name: 62, dtype: object\n",
      "source filename: EFAF2011A016.WAV\n",
      ".\\adventureswithelephants_dataset\\wavs\\all\\efaf2011a016.wav\n",
      "x: \n",
      "[1747 1806 1474 ... -250 -146  -79]\n",
      "sr_orig: 44100\n",
      "y: \n",
      "[-2031 -2129 -1995 ...   234   263   248]\n"
     ]
    },
    {
     "name": "stderr",
     "output_type": "stream",
     "text": [
      "\r",
      " 10%|████████▎                                                                        | 63/612 [00:31<04:38,  1.97it/s]"
     ]
    },
    {
     "name": "stdout",
     "output_type": "stream",
     "text": [
      "index: 63\n",
      "row: \n",
      "filename      EFAF2011A016.WAV\n",
      "start                  6909640\n",
      "duration                 50058\n",
      "type                    rumble\n",
      "background                   1\n",
      "Name: 63, dtype: object\n",
      "source filename: EFAF2011A016.WAV\n",
      ".\\adventureswithelephants_dataset\\wavs\\all\\efaf2011a016.wav\n",
      "x: \n",
      "[1747 1806 1474 ... -250 -146  -79]\n",
      "sr_orig: 44100\n",
      "y: \n",
      "[-396 -382 -318 ...  154  201  222]\n",
      "yb class: [-1709 -1606 -1312 ...  -400  -437  -397]\n"
     ]
    },
    {
     "name": "stderr",
     "output_type": "stream",
     "text": [
      "\r",
      " 10%|████████▍                                                                        | 64/612 [00:32<04:39,  1.96it/s]"
     ]
    },
    {
     "name": "stdout",
     "output_type": "stream",
     "text": [
      "index: 64\n",
      "row: \n",
      "filename      EFAF2011A016.WAV\n",
      "start                  7017280\n",
      "duration                 26592\n",
      "type                    rumble\n",
      "background                   0\n",
      "Name: 64, dtype: object\n",
      "source filename: EFAF2011A016.WAV\n",
      ".\\adventureswithelephants_dataset\\wavs\\all\\efaf2011a016.wav\n",
      "x: \n",
      "[1747 1806 1474 ... -250 -146  -79]\n",
      "sr_orig: 44100\n",
      "y: \n",
      "[ 474  523  522 ... -397 -398 -358]\n"
     ]
    },
    {
     "name": "stderr",
     "output_type": "stream",
     "text": [
      "\r",
      " 11%|████████▌                                                                        | 65/612 [00:33<04:37,  1.97it/s]"
     ]
    },
    {
     "name": "stdout",
     "output_type": "stream",
     "text": [
      "index: 65\n",
      "row: \n",
      "filename      EFAF2011A016.WAV\n",
      "start                 15461265\n",
      "duration                159391\n",
      "type                    rumble\n",
      "background                   1\n",
      "Name: 65, dtype: object\n",
      "source filename: EFAF2011A016.WAV\n",
      ".\\adventureswithelephants_dataset\\wavs\\all\\efaf2011a016.wav\n",
      "x: \n",
      "[1747 1806 1474 ... -250 -146  -79]\n",
      "sr_orig: 44100\n",
      "y: \n",
      "[-534 -571 -536 ...  522  518  464]\n",
      "yb class: [-681 -690 -610 ... -526 -563 -536]\n"
     ]
    },
    {
     "name": "stderr",
     "output_type": "stream",
     "text": [
      "\r",
      " 11%|████████▋                                                                        | 66/612 [00:33<04:39,  1.95it/s]"
     ]
    },
    {
     "name": "stdout",
     "output_type": "stream",
     "text": [
      "index: 66\n",
      "row: \n",
      "filename      EFAF2011A017.WAV\n",
      "start                  9528144\n",
      "duration                151497\n",
      "type                    rumble\n",
      "background                   0\n",
      "Name: 66, dtype: object\n",
      "source filename: EFAF2011A017.WAV\n",
      ".\\adventureswithelephants_dataset\\wavs\\all\\efaf2011a017.wav\n",
      "x: \n",
      "[200 180 182 ... 504 463 418]\n",
      "sr_orig: 44100\n",
      "y: \n",
      "[1136 1189 1118 ...  489  552  560]\n"
     ]
    },
    {
     "name": "stderr",
     "output_type": "stream",
     "text": [
      "\r",
      " 11%|████████▊                                                                        | 67/612 [00:34<04:38,  1.96it/s]"
     ]
    },
    {
     "name": "stdout",
     "output_type": "stream",
     "text": [
      "index: 67\n",
      "row: \n",
      "filename      EFAF2011A017.WAV\n",
      "start                  1167353\n",
      "duration                160246\n",
      "type                    rumble\n",
      "background                   0\n",
      "Name: 67, dtype: object\n",
      "source filename: EFAF2011A017.WAV\n",
      ".\\adventureswithelephants_dataset\\wavs\\all\\efaf2011a017.wav\n",
      "x: \n",
      "[200 180 182 ... 504 463 418]\n",
      "sr_orig: 44100\n",
      "y: \n",
      "[-617 -638 -590 ...  345  351  322]\n"
     ]
    },
    {
     "name": "stderr",
     "output_type": "stream",
     "text": [
      "\r",
      " 11%|█████████                                                                        | 68/612 [00:34<04:37,  1.96it/s]"
     ]
    },
    {
     "name": "stdout",
     "output_type": "stream",
     "text": [
      "index: 68\n",
      "row: \n",
      "filename      EFAF2011A017.WAV\n",
      "start                  2324815\n",
      "duration                 83384\n",
      "type                    rumble\n",
      "background                   1\n",
      "Name: 68, dtype: object\n",
      "source filename: EFAF2011A017.WAV\n",
      ".\\adventureswithelephants_dataset\\wavs\\all\\efaf2011a017.wav\n",
      "x: \n",
      "[200 180 182 ... 504 463 418]\n",
      "sr_orig: 44100\n",
      "y: \n",
      "[-3733 -3951 -3778 ...  -126  -127  -112]\n",
      "yb class: [    7     0    -1 ... -3722 -3944 -3734]\n"
     ]
    },
    {
     "name": "stderr",
     "output_type": "stream",
     "text": [
      "\r",
      " 11%|█████████▏                                                                       | 69/612 [00:35<04:38,  1.95it/s]"
     ]
    },
    {
     "name": "stdout",
     "output_type": "stream",
     "text": [
      "index: 69\n",
      "row: \n",
      "filename      EFAF2011A017.WAV\n",
      "start                  3878431\n",
      "duration                111917\n",
      "type                    rumble\n",
      "background                   1\n",
      "Name: 69, dtype: object\n",
      "source filename: EFAF2011A017.WAV\n",
      ".\\adventureswithelephants_dataset\\wavs\\all\\efaf2011a017.wav\n",
      "x: \n",
      "[200 180 182 ... 504 463 418]\n",
      "sr_orig: 44100\n",
      "y: \n",
      "[-55 -61 -53 ... 359 344 292]\n",
      "yb class: [-410 -426 -391 ...  -59  -57  -57]\n"
     ]
    },
    {
     "name": "stderr",
     "output_type": "stream",
     "text": [
      "\r",
      " 11%|█████████▎                                                                       | 70/612 [00:36<04:39,  1.94it/s]"
     ]
    },
    {
     "name": "stdout",
     "output_type": "stream",
     "text": [
      "index: 70\n",
      "row: \n",
      "filename      EFAF2011A017.WAV\n",
      "start                  3992540\n",
      "duration                179941\n",
      "type                    rumble\n",
      "background                   0\n",
      "Name: 70, dtype: object\n",
      "source filename: EFAF2011A017.WAV\n",
      ".\\adventureswithelephants_dataset\\wavs\\all\\efaf2011a017.wav\n",
      "x: \n",
      "[200 180 182 ... 504 463 418]\n",
      "sr_orig: 44100\n",
      "y: \n",
      "[ 44  40  30 ... 643 665 617]\n"
     ]
    },
    {
     "name": "stderr",
     "output_type": "stream",
     "text": [
      "\r",
      " 12%|█████████▍                                                                       | 71/612 [00:36<04:38,  1.94it/s]"
     ]
    },
    {
     "name": "stdout",
     "output_type": "stream",
     "text": [
      "index: 71\n",
      "row: \n",
      "filename      EFAF2011A017.WAV\n",
      "start                  4336123\n",
      "duration                200073\n",
      "type                    rumble\n",
      "background                   0\n",
      "Name: 71, dtype: object\n",
      "source filename: EFAF2011A017.WAV\n",
      ".\\adventureswithelephants_dataset\\wavs\\all\\efaf2011a017.wav\n",
      "x: \n",
      "[200 180 182 ... 504 463 418]\n",
      "sr_orig: 44100\n",
      "y: \n",
      "[-428 -463 -426 ...    0    0    0]\n"
     ]
    },
    {
     "name": "stderr",
     "output_type": "stream",
     "text": [
      "\r",
      " 12%|█████████▌                                                                       | 72/612 [00:36<04:36,  1.95it/s]"
     ]
    },
    {
     "name": "stdout",
     "output_type": "stream",
     "text": [
      "index: 72\n",
      "row: \n",
      "filename      EFAF2011A017.WAV\n",
      "start                  4556495\n",
      "duration                164577\n",
      "type                    rumble\n",
      "background                   0\n",
      "Name: 72, dtype: object\n",
      "source filename: EFAF2011A017.WAV\n",
      ".\\adventureswithelephants_dataset\\wavs\\all\\efaf2011a017.wav\n",
      "x: \n",
      "[200 180 182 ... 504 463 418]\n",
      "sr_orig: 44100\n",
      "y: \n",
      "[-22 -12   0 ... 410 432 405]\n"
     ]
    },
    {
     "name": "stderr",
     "output_type": "stream",
     "text": [
      "\r",
      " 12%|█████████▋                                                                       | 73/612 [00:37<04:35,  1.96it/s]"
     ]
    },
    {
     "name": "stdout",
     "output_type": "stream",
     "text": [
      "index: 73\n",
      "row: \n",
      "filename      EFAF2011A017.WAV\n",
      "start                  5901113\n",
      "duration                111150\n",
      "type                    rumble\n",
      "background                   1\n",
      "Name: 73, dtype: object\n",
      "source filename: EFAF2011A017.WAV\n",
      ".\\adventureswithelephants_dataset\\wavs\\all\\efaf2011a017.wav\n",
      "x: \n",
      "[200 180 182 ... 504 463 418]\n",
      "sr_orig: 44100\n",
      "y: \n",
      "[-1503 -1582 -1535 ...    73    94   109]\n",
      "yb class: [ -172  -281  -300 ... -1747 -1674 -1505]\n"
     ]
    },
    {
     "name": "stderr",
     "output_type": "stream",
     "text": [
      "\r",
      " 12%|█████████▊                                                                       | 74/612 [00:38<04:36,  1.95it/s]"
     ]
    },
    {
     "name": "stdout",
     "output_type": "stream",
     "text": [
      "index: 74\n",
      "row: \n",
      "filename      EFAF2011A017.WAV\n",
      "start                  7850682\n",
      "duration                 40016\n",
      "type                    rumble\n",
      "background                   1\n",
      "Name: 74, dtype: object\n",
      "source filename: EFAF2011A017.WAV\n",
      ".\\adventureswithelephants_dataset\\wavs\\all\\efaf2011a017.wav\n",
      "x: \n",
      "[200 180 182 ... 504 463 418]\n",
      "sr_orig: 44100\n",
      "y: \n",
      "[  61  110  147 ... -268 -371 -386]\n",
      "yb class: [-232 -215 -213 ...  112   64   60]\n"
     ]
    },
    {
     "name": "stderr",
     "output_type": "stream",
     "text": [
      "\r",
      " 12%|█████████▉                                                                       | 75/612 [00:38<04:37,  1.93it/s]"
     ]
    },
    {
     "name": "stdout",
     "output_type": "stream",
     "text": [
      "index: 75\n",
      "row: \n",
      "filename      EFAF2011A017.WAV\n",
      "start                  7928192\n",
      "duration                145389\n",
      "type                    rumble\n",
      "background                   0\n",
      "Name: 75, dtype: object\n",
      "source filename: EFAF2011A017.WAV\n",
      ".\\adventureswithelephants_dataset\\wavs\\all\\efaf2011a017.wav\n",
      "x: \n",
      "[200 180 182 ... 504 463 418]\n",
      "sr_orig: 44100\n",
      "y: \n",
      "[-685 -704 -648 ... -179 -184 -187]\n"
     ]
    },
    {
     "name": "stderr",
     "output_type": "stream",
     "text": [
      "\r",
      " 12%|██████████                                                                       | 76/612 [00:39<04:36,  1.94it/s]"
     ]
    },
    {
     "name": "stdout",
     "output_type": "stream",
     "text": [
      "index: 76\n",
      "row: \n",
      "filename      EFAF2011A017.WAV\n",
      "start                  9034356\n",
      "duration                175677\n",
      "type                    rumble\n",
      "background                   1\n",
      "Name: 76, dtype: object\n",
      "source filename: EFAF2011A017.WAV\n",
      ".\\adventureswithelephants_dataset\\wavs\\all\\efaf2011a017.wav\n",
      "x: \n",
      "[200 180 182 ... 504 463 418]\n",
      "sr_orig: 44100\n",
      "y: \n",
      "[-1002  -998  -893 ...  -256  -240  -207]\n",
      "yb class: [ -824  -856  -788 ... -1011 -1075 -1003]\n"
     ]
    },
    {
     "name": "stderr",
     "output_type": "stream",
     "text": [
      "\r",
      " 13%|██████████▏                                                                      | 77/612 [00:39<04:37,  1.93it/s]"
     ]
    },
    {
     "name": "stdout",
     "output_type": "stream",
     "text": [
      "index: 77\n",
      "row: \n",
      "filename      EFAF2011A017.WAV\n",
      "start                 10629171\n",
      "duration                169446\n",
      "type                    rumble\n",
      "background                   1\n",
      "Name: 77, dtype: object\n",
      "source filename: EFAF2011A017.WAV\n",
      ".\\adventureswithelephants_dataset\\wavs\\all\\efaf2011a017.wav\n",
      "x: \n",
      "[200 180 182 ... 504 463 418]\n",
      "sr_orig: 44100\n",
      "y: \n",
      "[  144   102    70 ... -1474 -1601 -1517]\n",
      "yb class: [129 136  95 ... 221 212 151]\n"
     ]
    },
    {
     "name": "stderr",
     "output_type": "stream",
     "text": [
      "\r",
      " 13%|██████████▎                                                                      | 78/612 [00:40<04:38,  1.92it/s]"
     ]
    },
    {
     "name": "stdout",
     "output_type": "stream",
     "text": [
      "index: 78\n",
      "row: \n",
      "filename      EFAF2011A017.WAV\n",
      "start                 10950382\n",
      "duration                171607\n",
      "type                    rumble\n",
      "background                   0\n",
      "Name: 78, dtype: object\n",
      "source filename: EFAF2011A017.WAV\n",
      ".\\adventureswithelephants_dataset\\wavs\\all\\efaf2011a017.wav\n",
      "x: \n",
      "[200 180 182 ... 504 463 418]\n",
      "sr_orig: 44100\n",
      "y: \n",
      "[ 818  941  929 ... -502 -517 -493]\n"
     ]
    },
    {
     "name": "stderr",
     "output_type": "stream",
     "text": [
      "\r",
      " 13%|██████████▍                                                                      | 79/612 [00:41<04:37,  1.92it/s]"
     ]
    },
    {
     "name": "stdout",
     "output_type": "stream",
     "text": [
      "index: 79\n",
      "row: \n",
      "filename      EFAF2011A017.WAV\n",
      "start                 11801640\n",
      "duration                119670\n",
      "type                    rumble\n",
      "background                   1\n",
      "Name: 79, dtype: object\n",
      "source filename: EFAF2011A017.WAV\n",
      ".\\adventureswithelephants_dataset\\wavs\\all\\efaf2011a017.wav\n",
      "x: \n",
      "[200 180 182 ... 504 463 418]\n",
      "sr_orig: 44100\n",
      "y: \n",
      "[-176 -169 -135 ... -562 -631 -578]\n",
      "yb class: [  -3  -27  -23 ... -185 -199 -176]\n"
     ]
    },
    {
     "name": "stderr",
     "output_type": "stream",
     "text": [
      "\r",
      " 13%|██████████▌                                                                      | 80/612 [00:41<04:38,  1.91it/s]"
     ]
    },
    {
     "name": "stdout",
     "output_type": "stream",
     "text": [
      "index: 80\n",
      "row: \n",
      "filename      EFAF2011A017.WAV\n",
      "start                 11921310\n",
      "duration                153543\n",
      "type                    rumble\n",
      "background                   0\n",
      "Name: 80, dtype: object\n",
      "source filename: EFAF2011A017.WAV\n",
      ".\\adventureswithelephants_dataset\\wavs\\all\\efaf2011a017.wav\n",
      "x: \n",
      "[200 180 182 ... 504 463 418]\n",
      "sr_orig: 44100\n",
      "y: \n",
      "[ -348  -357  -317 ... -4795 -5001 -4513]\n"
     ]
    },
    {
     "name": "stderr",
     "output_type": "stream",
     "text": [
      "\r",
      " 13%|██████████▋                                                                      | 81/612 [00:42<04:36,  1.92it/s]"
     ]
    },
    {
     "name": "stdout",
     "output_type": "stream",
     "text": [
      "index: 81\n",
      "row: \n",
      "filename      EFAF2011A018.WAV\n",
      "start                  5230656\n",
      "duration                 39496\n",
      "type                    rumble\n",
      "background                   0\n",
      "Name: 81, dtype: object\n",
      "source filename: EFAF2011A018.WAV\n",
      ".\\adventureswithelephants_dataset\\wavs\\all\\efaf2011a018.wav\n",
      "x: \n",
      "[1515 1513 1508 ... -506 -484 -480]\n",
      "sr_orig: 44100\n",
      "y: \n",
      "[-546 -569 -516 ... -188 -205 -199]\n"
     ]
    },
    {
     "name": "stderr",
     "output_type": "stream",
     "text": [
      "\r",
      " 13%|██████████▊                                                                      | 82/612 [00:42<04:35,  1.92it/s]"
     ]
    },
    {
     "name": "stdout",
     "output_type": "stream",
     "text": [
      "index: 82\n",
      "row: \n",
      "filename      EFAF2011A018.WAV\n",
      "start                  5620941\n",
      "duration                 28564\n",
      "type                    rumble\n",
      "background                   0\n",
      "Name: 82, dtype: object\n",
      "source filename: EFAF2011A018.WAV\n",
      ".\\adventureswithelephants_dataset\\wavs\\all\\efaf2011a018.wav\n",
      "x: \n",
      "[1515 1513 1508 ... -506 -484 -480]\n",
      "sr_orig: 44100\n",
      "y: \n",
      "[ 630  683  648 ... -750 -786 -736]\n"
     ]
    },
    {
     "name": "stderr",
     "output_type": "stream",
     "text": [
      "\r",
      " 14%|██████████▉                                                                      | 83/612 [00:43<04:34,  1.93it/s]"
     ]
    },
    {
     "name": "stdout",
     "output_type": "stream",
     "text": [
      "index: 83\n",
      "row: \n",
      "filename      EFAF2011A018.WAV\n",
      "start                  5294253\n",
      "duration                 28564\n",
      "type                    rumble\n",
      "background                   0\n",
      "Name: 83, dtype: object\n",
      "source filename: EFAF2011A018.WAV\n",
      ".\\adventureswithelephants_dataset\\wavs\\all\\efaf2011a018.wav\n",
      "x: \n",
      "[1515 1513 1508 ... -506 -484 -480]\n",
      "sr_orig: 44100\n",
      "y: \n",
      "[382 428 443 ...  31  15  13]\n"
     ]
    },
    {
     "name": "stderr",
     "output_type": "stream",
     "text": [
      "\r",
      " 14%|███████████                                                                      | 84/612 [00:43<04:33,  1.93it/s]"
     ]
    },
    {
     "name": "stdout",
     "output_type": "stream",
     "text": [
      "index: 84\n",
      "row: \n",
      "filename      EFAF2011A018.WAV\n",
      "start                  5783750\n",
      "duration                 29547\n",
      "type                    rumble\n",
      "background                   1\n",
      "Name: 84, dtype: object\n",
      "source filename: EFAF2011A018.WAV\n",
      ".\\adventureswithelephants_dataset\\wavs\\all\\efaf2011a018.wav\n",
      "x: \n",
      "[1515 1513 1508 ... -506 -484 -480]\n",
      "sr_orig: 44100\n",
      "y: \n",
      "[  389   411   388 ... -2213 -2372 -2288]\n",
      "yb class: [-375 -395 -385 ...  383  412  387]\n"
     ]
    },
    {
     "name": "stderr",
     "output_type": "stream",
     "text": [
      "\r",
      " 14%|███████████▎                                                                     | 85/612 [00:44<04:34,  1.92it/s]"
     ]
    },
    {
     "name": "stdout",
     "output_type": "stream",
     "text": [
      "index: 85\n",
      "row: \n",
      "filename      EFAF2011A018.WAV\n",
      "start                  6597276\n",
      "duration                 26764\n",
      "type                    rumble\n",
      "background                   1\n",
      "Name: 85, dtype: object\n",
      "source filename: EFAF2011A018.WAV\n",
      ".\\adventureswithelephants_dataset\\wavs\\all\\efaf2011a018.wav\n",
      "x: \n",
      "[1515 1513 1508 ... -506 -484 -480]\n",
      "sr_orig: 44100\n",
      "y: \n",
      "[  328   371   400 ... -1048 -1096 -1021]\n",
      "yb class: [609 635 578 ... 293 335 329]\n"
     ]
    },
    {
     "name": "stderr",
     "output_type": "stream",
     "text": [
      "\r",
      " 14%|███████████▍                                                                     | 86/612 [00:44<04:34,  1.91it/s]"
     ]
    },
    {
     "name": "stdout",
     "output_type": "stream",
     "text": [
      "index: 86\n",
      "row: \n",
      "filename      EFAF2011A018.WAV\n",
      "start                  1523240\n",
      "duration                206273\n",
      "type                    rumble\n",
      "background                   0\n",
      "Name: 86, dtype: object\n",
      "source filename: EFAF2011A018.WAV\n",
      ".\\adventureswithelephants_dataset\\wavs\\all\\efaf2011a018.wav\n",
      "x: \n",
      "[1515 1513 1508 ... -506 -484 -480]\n",
      "sr_orig: 44100\n",
      "y: \n",
      "[1158 1246 1203 ...  778  816  770]\n"
     ]
    },
    {
     "name": "stderr",
     "output_type": "stream",
     "text": [
      "\r",
      " 14%|███████████▌                                                                     | 87/612 [00:45<04:33,  1.92it/s]"
     ]
    },
    {
     "name": "stdout",
     "output_type": "stream",
     "text": [
      "index: 87\n",
      "row: \n",
      "filename      EFAF2011A018.WAV\n",
      "start                  4706903\n",
      "duration                 64924\n",
      "type                    rumble\n",
      "background                   1\n",
      "Name: 87, dtype: object\n",
      "source filename: EFAF2011A018.WAV\n",
      ".\\adventureswithelephants_dataset\\wavs\\all\\efaf2011a018.wav\n",
      "x: \n",
      "[1515 1513 1508 ... -506 -484 -480]\n",
      "sr_orig: 44100\n",
      "y: \n",
      "[-663 -684 -636 ... -423 -462 -455]\n",
      "yb class: [-757 -784 -733 ... -683 -721 -660]\n"
     ]
    },
    {
     "name": "stderr",
     "output_type": "stream",
     "text": [
      "\r",
      " 14%|███████████▋                                                                     | 88/612 [00:46<04:34,  1.91it/s]"
     ]
    },
    {
     "name": "stdout",
     "output_type": "stream",
     "text": [
      "index: 88\n",
      "row: \n",
      "filename      EFAF2011A018.WAV\n",
      "start                  5949292\n",
      "duration                 40361\n",
      "type                    rumble\n",
      "background                   1\n",
      "Name: 88, dtype: object\n",
      "source filename: EFAF2011A018.WAV\n",
      ".\\adventureswithelephants_dataset\\wavs\\all\\efaf2011a018.wav\n",
      "x: \n",
      "[1515 1513 1508 ... -506 -484 -480]\n",
      "sr_orig: 44100\n",
      "y: \n",
      "[-1015 -1056  -986 ...  -181  -175  -140]\n",
      "yb class: [  334   315   264 ... -1034 -1086 -1018]\n"
     ]
    },
    {
     "name": "stderr",
     "output_type": "stream",
     "text": [
      "\r",
      " 15%|███████████▊                                                                     | 89/612 [00:46<04:34,  1.90it/s]"
     ]
    },
    {
     "name": "stdout",
     "output_type": "stream",
     "text": [
      "index: 89\n",
      "row: \n",
      "filename      EFAF2011A018.WAV\n",
      "start                  6478038\n",
      "duration                 39747\n",
      "type                   snumble\n",
      "background                   1\n",
      "Name: 89, dtype: object\n",
      "source filename: EFAF2011A018.WAV\n",
      ".\\adventureswithelephants_dataset\\wavs\\all\\efaf2011a018.wav\n",
      "x: \n",
      "[1515 1513 1508 ... -506 -484 -480]\n",
      "sr_orig: 44100\n",
      "y: \n",
      "[-1048 -1122 -1081 ... -2464 -2612 -2482]\n",
      "yb class: [  438   470   448 ... -1006 -1085 -1045]\n"
     ]
    },
    {
     "name": "stderr",
     "output_type": "stream",
     "text": [
      "\r",
      " 15%|███████████▉                                                                     | 90/612 [00:47<04:35,  1.90it/s]"
     ]
    },
    {
     "name": "stdout",
     "output_type": "stream",
     "text": [
      "index: 90\n",
      "row: \n",
      "filename      EFAF2011A018.WAV\n",
      "start                  7000411\n",
      "duration                 40361\n",
      "type                   snumble\n",
      "background                   1\n",
      "Name: 90, dtype: object\n",
      "source filename: EFAF2011A018.WAV\n",
      ".\\adventureswithelephants_dataset\\wavs\\all\\efaf2011a018.wav\n",
      "x: \n",
      "[1515 1513 1508 ... -506 -484 -480]\n",
      "sr_orig: 44100\n",
      "y: \n",
      "[-512 -612 -555 ... 1548 1607 1513]\n",
      "yb class: [-1688 -1781 -1685 ...  -504  -540  -512]\n"
     ]
    },
    {
     "name": "stderr",
     "output_type": "stream",
     "text": [
      "\r",
      " 15%|████████████                                                                     | 91/612 [00:48<04:35,  1.89it/s]"
     ]
    },
    {
     "name": "stdout",
     "output_type": "stream",
     "text": [
      "index: 91\n",
      "row: \n",
      "filename      EFAF2011A018.WAV\n",
      "start                  7100435\n",
      "duration                 42115\n",
      "type                   snumble\n",
      "background                   0\n",
      "Name: 91, dtype: object\n",
      "source filename: EFAF2011A018.WAV\n",
      ".\\adventureswithelephants_dataset\\wavs\\all\\efaf2011a018.wav\n",
      "x: \n",
      "[1515 1513 1508 ... -506 -484 -480]\n",
      "sr_orig: 44100\n",
      "y: \n",
      "[787 837 792 ... 675 689 638]\n"
     ]
    },
    {
     "name": "stderr",
     "output_type": "stream",
     "text": [
      "\r",
      " 15%|████████████▏                                                                    | 92/612 [00:48<04:34,  1.89it/s]"
     ]
    },
    {
     "name": "stdout",
     "output_type": "stream",
     "text": [
      "index: 92\n",
      "row: \n",
      "filename      EFAF2011A019.WAV\n",
      "start                  2456965\n",
      "duration                 56016\n",
      "type                    rumble\n",
      "background                   0\n",
      "Name: 92, dtype: object\n",
      "source filename: EFAF2011A019.WAV\n",
      ".\\adventureswithelephants_dataset\\wavs\\all\\efaf2011a019.wav\n",
      "x: \n",
      "[ 3347  2912  2455 ... -3396 -3498 -3550]\n",
      "sr_orig: 44100\n",
      "y: \n",
      "[  26   29   28 ... -336 -341 -304]\n"
     ]
    },
    {
     "name": "stderr",
     "output_type": "stream",
     "text": [
      "\r",
      " 15%|████████████▎                                                                    | 93/612 [00:48<04:33,  1.90it/s]"
     ]
    },
    {
     "name": "stdout",
     "output_type": "stream",
     "text": [
      "index: 93\n",
      "row: \n",
      "filename      EFAF2011A019.WAV\n",
      "start                  3105120\n",
      "duration                128031\n",
      "type                    rumble\n",
      "background                   1\n",
      "Name: 93, dtype: object\n",
      "source filename: EFAF2011A019.WAV\n",
      ".\\adventureswithelephants_dataset\\wavs\\all\\efaf2011a019.wav\n",
      "x: \n",
      "[ 3347  2912  2455 ... -3396 -3498 -3550]\n",
      "sr_orig: 44100\n",
      "y: \n",
      "[311 319 290 ...   0  -1  -3]\n",
      "yb class: [ 19  15   9 ... 325 339 314]\n"
     ]
    },
    {
     "name": "stderr",
     "output_type": "stream",
     "text": [
      "\r",
      " 15%|████████████▍                                                                    | 94/612 [00:49<04:34,  1.89it/s]"
     ]
    },
    {
     "name": "stdout",
     "output_type": "stream",
     "text": [
      "index: 94\n",
      "row: \n",
      "filename      EFAF2011A019.WAV\n",
      "start                  3305167\n",
      "duration                136030\n",
      "type                    rumble\n",
      "background                   0\n",
      "Name: 94, dtype: object\n",
      "source filename: EFAF2011A019.WAV\n",
      ".\\adventureswithelephants_dataset\\wavs\\all\\efaf2011a019.wav\n",
      "x: \n",
      "[ 3347  2912  2455 ... -3396 -3498 -3550]\n",
      "sr_orig: 44100\n",
      "y: \n",
      "[513 536 500 ... 679 748 736]\n"
     ]
    },
    {
     "name": "stderr",
     "output_type": "stream",
     "text": [
      "\r",
      " 16%|████████████▌                                                                    | 95/612 [00:50<04:32,  1.89it/s]"
     ]
    },
    {
     "name": "stdout",
     "output_type": "stream",
     "text": [
      "index: 95\n",
      "row: \n",
      "filename      EFAF2011A019.WAV\n",
      "start                  5609714\n",
      "duration                128031\n",
      "type                    rumble\n",
      "background                   1\n",
      "Name: 95, dtype: object\n",
      "source filename: EFAF2011A019.WAV\n",
      ".\\adventureswithelephants_dataset\\wavs\\all\\efaf2011a019.wav\n",
      "x: \n",
      "[ 3347  2912  2455 ... -3396 -3498 -3550]\n",
      "sr_orig: 44100\n",
      "y: \n",
      "[37 33 32 ... 35 44 36]\n",
      "yb class: [-2126 -2232 -2110 ...    47    48    38]\n"
     ]
    },
    {
     "name": "stderr",
     "output_type": "stream",
     "text": [
      "\r",
      " 16%|████████████▋                                                                    | 96/612 [00:50<04:33,  1.89it/s]"
     ]
    },
    {
     "name": "stdout",
     "output_type": "stream",
     "text": [
      "index: 96\n",
      "row: \n",
      "filename      EFAF2011A019.WAV\n",
      "start                  8746877\n",
      "duration                140424\n",
      "type                    rumble\n",
      "background                   1\n",
      "Name: 96, dtype: object\n",
      "source filename: EFAF2011A019.WAV\n",
      ".\\adventureswithelephants_dataset\\wavs\\all\\efaf2011a019.wav\n",
      "x: \n",
      "[ 3347  2912  2455 ... -3396 -3498 -3550]\n",
      "sr_orig: 44100\n",
      "y: \n",
      "[ -90  -95  -81 ... -490 -529 -507]\n",
      "yb class: [-129 -127 -110 ... -100 -104  -91]\n"
     ]
    },
    {
     "name": "stderr",
     "output_type": "stream",
     "text": [
      "\r",
      " 16%|████████████▊                                                                    | 97/612 [00:51<04:34,  1.88it/s]"
     ]
    },
    {
     "name": "stdout",
     "output_type": "stream",
     "text": [
      "index: 97\n",
      "row: \n",
      "filename      EFAF2011A019.WAV\n",
      "start                 10916840\n",
      "duration                 95463\n",
      "type                    rumble\n",
      "background                   1\n",
      "Name: 97, dtype: object\n",
      "source filename: EFAF2011A019.WAV\n",
      ".\\adventureswithelephants_dataset\\wavs\\all\\efaf2011a019.wav\n",
      "x: \n",
      "[ 3347  2912  2455 ... -3396 -3498 -3550]\n",
      "sr_orig: 44100\n",
      "y: \n",
      "[68 74 65 ...  0  0  0]\n",
      "yb class: [ 0  0  0 ... 66 72 68]\n"
     ]
    },
    {
     "name": "stderr",
     "output_type": "stream",
     "text": [
      "\r",
      " 16%|████████████▉                                                                    | 98/612 [00:52<04:34,  1.87it/s]"
     ]
    },
    {
     "name": "stdout",
     "output_type": "stream",
     "text": [
      "index: 98\n",
      "row: \n",
      "filename      EFAF2011A019.WAV\n",
      "start                 11629134\n",
      "duration                 99137\n",
      "type                    rumble\n",
      "background                   1\n",
      "Name: 98, dtype: object\n",
      "source filename: EFAF2011A019.WAV\n",
      ".\\adventureswithelephants_dataset\\wavs\\all\\efaf2011a019.wav\n",
      "x: \n",
      "[ 3347  2912  2455 ... -3396 -3498 -3550]\n",
      "sr_orig: 44100\n",
      "y: \n",
      "[-33 -35 -32 ...  -9 -11  -7]\n",
      "yb class: [ 46  49  43 ... -35 -40 -33]\n"
     ]
    },
    {
     "name": "stderr",
     "output_type": "stream",
     "text": [
      "\r",
      " 16%|█████████████                                                                    | 99/612 [00:53<04:35,  1.86it/s]"
     ]
    },
    {
     "name": "stdout",
     "output_type": "stream",
     "text": [
      "index: 99\n",
      "row: \n",
      "filename      EFAF2011A019.WAV\n",
      "start                 12547045\n",
      "duration                113822\n",
      "type                    rumble\n",
      "background                   1\n",
      "Name: 99, dtype: object\n",
      "source filename: EFAF2011A019.WAV\n",
      ".\\adventureswithelephants_dataset\\wavs\\all\\efaf2011a019.wav\n",
      "x: \n",
      "[ 3347  2912  2455 ... -3396 -3498 -3550]\n",
      "sr_orig: 44100\n",
      "y: \n",
      "[-30 -34 -27 ...  -5 -12 -11]\n",
      "yb class: [ 12  10  10 ... -30 -34 -29]\n"
     ]
    },
    {
     "name": "stderr",
     "output_type": "stream",
     "text": [
      "\r",
      " 16%|█████████████                                                                   | 100/612 [00:53<04:36,  1.85it/s]"
     ]
    },
    {
     "name": "stdout",
     "output_type": "stream",
     "text": [
      "index: 100\n",
      "row: \n",
      "filename      EFAF2011A019.WAV\n",
      "start                 12712270\n",
      "duration                110148\n",
      "type                    rumble\n",
      "background                   0\n",
      "Name: 100, dtype: object\n",
      "source filename: EFAF2011A019.WAV\n",
      ".\\adventureswithelephants_dataset\\wavs\\all\\efaf2011a019.wav\n",
      "x: \n",
      "[ 3347  2912  2455 ... -3396 -3498 -3550]\n",
      "sr_orig: 44100\n",
      "y: \n",
      "[-74 -79 -73 ... -77 -83 -79]\n"
     ]
    },
    {
     "name": "stderr",
     "output_type": "stream",
     "text": [
      "\r",
      " 17%|█████████████▏                                                                  | 101/612 [00:54<04:35,  1.86it/s]"
     ]
    },
    {
     "name": "stdout",
     "output_type": "stream",
     "text": [
      "index: 101\n",
      "row: \n",
      "filename      EFAF2011A019.WAV\n",
      "start                 13174892\n",
      "duration                128508\n",
      "type                    rumble\n",
      "background                   0\n",
      "Name: 101, dtype: object\n",
      "source filename: EFAF2011A019.WAV\n",
      ".\\adventureswithelephants_dataset\\wavs\\all\\efaf2011a019.wav\n",
      "x: \n",
      "[ 3347  2912  2455 ... -3396 -3498 -3550]\n",
      "sr_orig: 44100\n",
      "y: \n",
      "[-18 -21 -19 ...   0  -1   0]\n"
     ]
    },
    {
     "name": "stderr",
     "output_type": "stream",
     "text": [
      "\r",
      " 17%|█████████████▎                                                                  | 102/612 [00:54<04:34,  1.86it/s]"
     ]
    },
    {
     "name": "stdout",
     "output_type": "stream",
     "text": [
      "index: 102\n",
      "row: \n",
      "filename      EFAF2011A019.WAV\n",
      "start                 14136863\n",
      "duration                146862\n",
      "type                    rumble\n",
      "background                   1\n",
      "Name: 102, dtype: object\n",
      "source filename: EFAF2011A019.WAV\n",
      ".\\adventureswithelephants_dataset\\wavs\\all\\efaf2011a019.wav\n",
      "x: \n",
      "[ 3347  2912  2455 ... -3396 -3498 -3550]\n",
      "sr_orig: 44100\n",
      "y: \n",
      "[ 0  0 -1 ... -1 -2 -3]\n",
      "yb class: [70 73 70 ...  0 -1  0]\n"
     ]
    },
    {
     "name": "stderr",
     "output_type": "stream",
     "text": [
      "\r",
      " 17%|█████████████▍                                                                  | 103/612 [00:55<04:34,  1.85it/s]"
     ]
    },
    {
     "name": "stdout",
     "output_type": "stream",
     "text": [
      "index: 103\n",
      "row: \n",
      "filename      EFAF2011A019.WAV\n",
      "start                 14540740\n",
      "duration                 99137\n",
      "type                    rumble\n",
      "background                   0\n",
      "Name: 103, dtype: object\n",
      "source filename: EFAF2011A019.WAV\n",
      ".\\adventureswithelephants_dataset\\wavs\\all\\efaf2011a019.wav\n",
      "x: \n",
      "[ 3347  2912  2455 ... -3396 -3498 -3550]\n",
      "sr_orig: 44100\n",
      "y: \n",
      "[-351 -377 -358 ...  430  351  268]\n"
     ]
    },
    {
     "name": "stderr",
     "output_type": "stream",
     "text": [
      "\r",
      " 17%|█████████████▌                                                                  | 104/612 [00:55<04:33,  1.86it/s]"
     ]
    },
    {
     "name": "stdout",
     "output_type": "stream",
     "text": [
      "index: 104\n",
      "row: \n",
      "filename      EFAF2011A019.WAV\n",
      "start                 14985008\n",
      "duration                165225\n",
      "type                    rumble\n",
      "background                   0\n",
      "Name: 104, dtype: object\n",
      "source filename: EFAF2011A019.WAV\n",
      ".\\adventureswithelephants_dataset\\wavs\\all\\efaf2011a019.wav\n",
      "x: \n",
      "[ 3347  2912  2455 ... -3396 -3498 -3550]\n",
      "sr_orig: 44100\n",
      "y: \n",
      "[ 479  511  487 ... -143 -153 -143]\n"
     ]
    },
    {
     "name": "stderr",
     "output_type": "stream",
     "text": [
      "\r",
      " 17%|█████████████▋                                                                  | 105/612 [00:56<04:32,  1.86it/s]"
     ]
    },
    {
     "name": "stdout",
     "output_type": "stream",
     "text": [
      "index: 105\n",
      "row: \n",
      "filename      EFAF2011A019.WAV\n",
      "start                 16735306\n",
      "duration                144930\n",
      "type                    rumble\n",
      "background                   1\n",
      "Name: 105, dtype: object\n",
      "source filename: EFAF2011A019.WAV\n",
      ".\\adventureswithelephants_dataset\\wavs\\all\\efaf2011a019.wav\n",
      "x: \n",
      "[ 3347  2912  2455 ... -3396 -3498 -3550]\n",
      "sr_orig: 44100\n",
      "y: \n",
      "[431 460 439 ... 234 251 236]\n",
      "yb class: [ 49  56  60 ... 419 449 429]\n"
     ]
    },
    {
     "name": "stderr",
     "output_type": "stream",
     "text": [
      "\r",
      " 17%|█████████████▊                                                                  | 106/612 [00:57<04:32,  1.86it/s]"
     ]
    },
    {
     "name": "stdout",
     "output_type": "stream",
     "text": [
      "index: 106\n",
      "row: \n",
      "filename      EFAF2011A019.WAV\n",
      "start                 18057675\n",
      "duration                138584\n",
      "type                    rumble\n",
      "background                   1\n",
      "Name: 106, dtype: object\n",
      "source filename: EFAF2011A019.WAV\n",
      ".\\adventureswithelephants_dataset\\wavs\\all\\efaf2011a019.wav\n",
      "x: \n",
      "[ 3347  2912  2455 ... -3396 -3498 -3550]\n",
      "sr_orig: 44100\n",
      "y: \n",
      "[ -32  -38  -25 ... -180 -198 -187]\n",
      "yb class: [118 133 124 ... -36 -40 -34]\n"
     ]
    },
    {
     "name": "stderr",
     "output_type": "stream",
     "text": [
      "\r",
      " 17%|█████████████▉                                                                  | 107/612 [00:57<04:33,  1.85it/s]"
     ]
    },
    {
     "name": "stdout",
     "output_type": "stream",
     "text": [
      "index: 107\n",
      "row: \n",
      "filename      EFAF2011A019.WAV\n",
      "start                 18961425\n",
      "duration                187236\n",
      "type                    rumble\n",
      "background                   1\n",
      "Name: 107, dtype: object\n",
      "source filename: EFAF2011A019.WAV\n",
      ".\\adventureswithelephants_dataset\\wavs\\all\\efaf2011a019.wav\n",
      "x: \n",
      "[ 3347  2912  2455 ... -3396 -3498 -3550]\n",
      "sr_orig: 44100\n",
      "y: \n",
      "[ -99 -105 -101 ...  111   90   66]\n",
      "yb class: [   0    0    0 ...  -93 -104  -98]\n"
     ]
    },
    {
     "name": "stderr",
     "output_type": "stream",
     "text": [
      "\r",
      " 18%|██████████████                                                                  | 108/612 [00:58<04:33,  1.84it/s]"
     ]
    },
    {
     "name": "stdout",
     "output_type": "stream",
     "text": [
      "index: 108\n",
      "row: \n",
      "filename      EFAF2011A019.WAV\n",
      "start                 21597608\n",
      "duration                202622\n",
      "type                    rumble\n",
      "background                   1\n",
      "Name: 108, dtype: object\n",
      "source filename: EFAF2011A019.WAV\n",
      ".\\adventureswithelephants_dataset\\wavs\\all\\efaf2011a019.wav\n",
      "x: \n",
      "[ 3347  2912  2455 ... -3396 -3498 -3550]\n",
      "sr_orig: 44100\n",
      "y: \n",
      "[198 205 191 ...  25  28  25]\n",
      "yb class: [-100 -103  -90 ...  203  216  199]\n"
     ]
    },
    {
     "name": "stderr",
     "output_type": "stream",
     "text": [
      "\r",
      " 18%|██████████████▏                                                                 | 109/612 [00:59<04:33,  1.84it/s]"
     ]
    },
    {
     "name": "stdout",
     "output_type": "stream",
     "text": [
      "index: 109\n",
      "row: \n",
      "filename      EFAF2011A019.WAV\n",
      "start                 21838566\n",
      "duration                142382\n",
      "type                    rumble\n",
      "background                   0\n",
      "Name: 109, dtype: object\n",
      "source filename: EFAF2011A019.WAV\n",
      ".\\adventureswithelephants_dataset\\wavs\\all\\efaf2011a019.wav\n",
      "x: \n",
      "[ 3347  2912  2455 ... -3396 -3498 -3550]\n",
      "sr_orig: 44100\n",
      "y: \n",
      "[  0   0   0 ... -48 -55 -50]\n"
     ]
    },
    {
     "name": "stderr",
     "output_type": "stream",
     "text": [
      "\r",
      " 18%|██████████████▍                                                                 | 110/612 [00:59<04:32,  1.84it/s]"
     ]
    },
    {
     "name": "stdout",
     "output_type": "stream",
     "text": [
      "index: 110\n",
      "row: \n",
      "filename      EFAF2011A019.WAV\n",
      "start                 22539536\n",
      "duration                104050\n",
      "type                    rumble\n",
      "background                   1\n",
      "Name: 110, dtype: object\n",
      "source filename: EFAF2011A019.WAV\n",
      ".\\adventureswithelephants_dataset\\wavs\\all\\efaf2011a019.wav\n",
      "x: \n",
      "[ 3347  2912  2455 ... -3396 -3498 -3550]\n",
      "sr_orig: 44100\n",
      "y: \n",
      "[ 7  7  3 ... 76 82 75]\n",
      "yb class: [315 329 314 ...   5   6   7]\n"
     ]
    },
    {
     "name": "stderr",
     "output_type": "stream",
     "text": [
      "\r",
      " 18%|██████████████▌                                                                 | 111/612 [01:00<04:33,  1.83it/s]"
     ]
    },
    {
     "name": "stdout",
     "output_type": "stream",
     "text": [
      "index: 111\n",
      "row: \n",
      "filename      EFAF2011A019.WAV\n",
      "start                 22769540\n",
      "duration                142385\n",
      "type                    rumble\n",
      "background                   0\n",
      "Name: 111, dtype: object\n",
      "source filename: EFAF2011A019.WAV\n",
      ".\\adventureswithelephants_dataset\\wavs\\all\\efaf2011a019.wav\n",
      "x: \n",
      "[ 3347  2912  2455 ... -3396 -3498 -3550]\n",
      "sr_orig: 44100\n",
      "y: \n",
      "[-127 -138 -131 ...    0    0    0]\n"
     ]
    },
    {
     "name": "stderr",
     "output_type": "stream",
     "text": [
      "\r",
      " 18%|██████████████▋                                                                 | 112/612 [01:00<04:32,  1.84it/s]"
     ]
    },
    {
     "name": "stdout",
     "output_type": "stream",
     "text": [
      "index: 112\n",
      "row: \n",
      "filename      EFAF2011A019.WAV\n",
      "start                 25376273\n",
      "duration                147863\n",
      "type                    rumble\n",
      "background                   1\n",
      "Name: 112, dtype: object\n",
      "source filename: EFAF2011A019.WAV\n",
      ".\\adventureswithelephants_dataset\\wavs\\all\\efaf2011a019.wav\n",
      "x: \n",
      "[ 3347  2912  2455 ... -3396 -3498 -3550]\n",
      "sr_orig: 44100\n",
      "y: \n",
      "[ 80  91  90 ... 243 266 261]\n",
      "yb class: [64 72 64 ... 67 79 82]\n"
     ]
    },
    {
     "name": "stderr",
     "output_type": "stream",
     "text": [
      "\r",
      " 18%|██████████████▊                                                                 | 113/612 [01:01<04:33,  1.83it/s]"
     ]
    },
    {
     "name": "stdout",
     "output_type": "stream",
     "text": [
      "index: 113\n",
      "row: \n",
      "filename      EFAF2011A019.WAV\n",
      "start                 25524136\n",
      "duration                175240\n",
      "type                    rumble\n",
      "background                   0\n",
      "Name: 113, dtype: object\n",
      "source filename: EFAF2011A019.WAV\n",
      ".\\adventureswithelephants_dataset\\wavs\\all\\efaf2011a019.wav\n",
      "x: \n",
      "[ 3347  2912  2455 ... -3396 -3498 -3550]\n",
      "sr_orig: 44100\n",
      "y: \n",
      "[-102 -116 -119 ... -708 -747 -711]\n"
     ]
    },
    {
     "name": "stderr",
     "output_type": "stream",
     "text": [
      "\r",
      " 19%|██████████████▉                                                                 | 114/612 [01:02<04:32,  1.83it/s]"
     ]
    },
    {
     "name": "stdout",
     "output_type": "stream",
     "text": [
      "index: 114\n",
      "row: \n",
      "filename      EFAF2011A019.WAV\n",
      "start                 25699376\n",
      "duration                147863\n",
      "type                    rumble\n",
      "background                   0\n",
      "Name: 114, dtype: object\n",
      "source filename: EFAF2011A019.WAV\n",
      ".\\adventureswithelephants_dataset\\wavs\\all\\efaf2011a019.wav\n",
      "x: \n",
      "[ 3347  2912  2455 ... -3396 -3498 -3550]\n",
      "sr_orig: 44100\n",
      "y: \n",
      "[  0   0   0 ... -47 -61 -61]\n"
     ]
    },
    {
     "name": "stderr",
     "output_type": "stream",
     "text": [
      "\r",
      " 19%|███████████████                                                                 | 115/612 [01:02<04:30,  1.83it/s]"
     ]
    },
    {
     "name": "stdout",
     "output_type": "stream",
     "text": [
      "index: 115\n",
      "row: \n",
      "filename      EFAF2011A019.WAV\n",
      "start                 25847239\n",
      "duration                268340\n",
      "type                    rumble\n",
      "background                   0\n",
      "Name: 115, dtype: object\n",
      "source filename: EFAF2011A019.WAV\n",
      ".\\adventureswithelephants_dataset\\wavs\\all\\efaf2011a019.wav\n",
      "x: \n",
      "[ 3347  2912  2455 ... -3396 -3498 -3550]\n",
      "sr_orig: 44100\n",
      "y: \n",
      "[-111 -121 -104 ...   75   85   82]\n"
     ]
    },
    {
     "name": "stderr",
     "output_type": "stream",
     "text": [
      "\r",
      " 19%|███████████████▏                                                                | 116/612 [01:03<04:29,  1.84it/s]"
     ]
    },
    {
     "name": "stdout",
     "output_type": "stream",
     "text": [
      "index: 116\n",
      "row: \n",
      "filename      EFAF2011A019.WAV\n",
      "start                 25847239\n",
      "duration                191672\n",
      "type                    rumble\n",
      "background                   0\n",
      "Name: 116, dtype: object\n",
      "source filename: EFAF2011A019.WAV\n",
      ".\\adventureswithelephants_dataset\\wavs\\all\\efaf2011a019.wav\n",
      "x: \n",
      "[ 3347  2912  2455 ... -3396 -3498 -3550]\n",
      "sr_orig: 44100\n",
      "y: \n",
      "[-111 -121 -104 ...   75   85   82]\n"
     ]
    },
    {
     "name": "stderr",
     "output_type": "stream",
     "text": [
      "\r",
      " 19%|███████████████▎                                                                | 117/612 [01:03<04:28,  1.84it/s]"
     ]
    },
    {
     "name": "stdout",
     "output_type": "stream",
     "text": [
      "index: 117\n",
      "row: \n",
      "filename      EFAF2011A019.WAV\n",
      "start                 25934861\n",
      "duration                186195\n",
      "type                    rumble\n",
      "background                   0\n",
      "Name: 117, dtype: object\n",
      "source filename: EFAF2011A019.WAV\n",
      ".\\adventureswithelephants_dataset\\wavs\\all\\efaf2011a019.wav\n",
      "x: \n",
      "[ 3347  2912  2455 ... -3396 -3498 -3550]\n",
      "sr_orig: 44100\n",
      "y: \n",
      "[579 626 603 ...   1  -6 -16]\n"
     ]
    },
    {
     "name": "stderr",
     "output_type": "stream",
     "text": [
      "\r",
      " 19%|███████████████▍                                                                | 118/612 [01:03<04:27,  1.85it/s]"
     ]
    },
    {
     "name": "stdout",
     "output_type": "stream",
     "text": [
      "index: 118\n",
      "row: \n",
      "filename      EFAF2011A019.WAV\n",
      "start                 30412277\n",
      "duration                285093\n",
      "type                    rumble\n",
      "background                   1\n",
      "Name: 118, dtype: object\n",
      "source filename: EFAF2011A019.WAV\n",
      ".\\adventureswithelephants_dataset\\wavs\\all\\efaf2011a019.wav\n",
      "x: \n",
      "[ 3347  2912  2455 ... -3396 -3498 -3550]\n",
      "sr_orig: 44100\n",
      "y: \n",
      "[103 110  99 ... -28 -39 -40]\n",
      "yb class: [-38 -36 -28 ... 104 115 106]\n"
     ]
    },
    {
     "name": "stderr",
     "output_type": "stream",
     "text": [
      "\r",
      " 19%|███████████████▌                                                                | 119/612 [01:04<04:27,  1.84it/s]"
     ]
    },
    {
     "name": "stdout",
     "output_type": "stream",
     "text": [
      "index: 119\n",
      "row: \n",
      "filename      EFAF2011A019.WAV\n",
      "start                 30494638\n",
      "duration                202732\n",
      "type                    rumble\n",
      "background                   0\n",
      "Name: 119, dtype: object\n",
      "source filename: EFAF2011A019.WAV\n",
      ".\\adventureswithelephants_dataset\\wavs\\all\\efaf2011a019.wav\n",
      "x: \n",
      "[ 3347  2912  2455 ... -3396 -3498 -3550]\n",
      "sr_orig: 44100\n",
      "y: \n",
      "[44 44 36 ...  3  0  0]\n"
     ]
    },
    {
     "name": "stderr",
     "output_type": "stream",
     "text": [
      "\r",
      " 20%|███████████████▋                                                                | 120/612 [01:05<04:26,  1.84it/s]"
     ]
    },
    {
     "name": "stdout",
     "output_type": "stream",
     "text": [
      "index: 120\n",
      "row: \n",
      "filename      EFAF2011A019.WAV\n",
      "start                 30695258\n",
      "duration                175280\n",
      "type                    rumble\n",
      "background                   0\n",
      "Name: 120, dtype: object\n",
      "source filename: EFAF2011A019.WAV\n",
      ".\\adventureswithelephants_dataset\\wavs\\all\\efaf2011a019.wav\n",
      "x: \n",
      "[ 3347  2912  2455 ... -3396 -3498 -3550]\n",
      "sr_orig: 44100\n",
      "y: \n",
      "[286 299 283 ... -46 -72 -83]\n"
     ]
    },
    {
     "name": "stderr",
     "output_type": "stream",
     "text": [
      "\r",
      " 20%|███████████████▊                                                                | 121/612 [01:05<04:25,  1.85it/s]"
     ]
    },
    {
     "name": "stdout",
     "output_type": "stream",
     "text": [
      "index: 121\n",
      "row: \n",
      "filename      EFAF2011A019.WAV\n",
      "start                 31202086\n",
      "duration                 63354\n",
      "type                    rumble\n",
      "background                   0\n",
      "Name: 121, dtype: object\n",
      "source filename: EFAF2011A019.WAV\n",
      ".\\adventureswithelephants_dataset\\wavs\\all\\efaf2011a019.wav\n",
      "x: \n",
      "[ 3347  2912  2455 ... -3396 -3498 -3550]\n",
      "sr_orig: 44100\n",
      "y: \n",
      "[ -78  870 1904 ...  137  153  150]\n"
     ]
    },
    {
     "name": "stderr",
     "output_type": "stream",
     "text": [
      "\r",
      " 20%|███████████████▉                                                                | 122/612 [01:05<04:24,  1.85it/s]"
     ]
    },
    {
     "name": "stdout",
     "output_type": "stream",
     "text": [
      "index: 122\n",
      "row: \n",
      "filename      EFAF2011A019.WAV\n",
      "start                 37001805\n",
      "duration                264295\n",
      "type                    rumble\n",
      "background                   1\n",
      "Name: 122, dtype: object\n",
      "source filename: EFAF2011A019.WAV\n",
      ".\\adventureswithelephants_dataset\\wavs\\all\\efaf2011a019.wav\n",
      "x: \n",
      "[ 3347  2912  2455 ... -3396 -3498 -3550]\n",
      "sr_orig: 44100\n",
      "y: \n",
      "[-632 -669 -630 ... -553 -575 -539]\n",
      "yb class: [ -21  -13  -10 ... -638 -671 -630]\n"
     ]
    },
    {
     "name": "stderr",
     "output_type": "stream",
     "text": [
      "\r",
      " 20%|████████████████                                                                | 123/612 [01:06<04:24,  1.85it/s]"
     ]
    },
    {
     "name": "stdout",
     "output_type": "stream",
     "text": [
      "index: 123\n",
      "row: \n",
      "filename      EFAF2011A019.WAV\n",
      "start                 37573596\n",
      "duration                 43205\n",
      "type                   snumble\n",
      "background                   0\n",
      "Name: 123, dtype: object\n",
      "source filename: EFAF2011A019.WAV\n",
      ".\\adventureswithelephants_dataset\\wavs\\all\\efaf2011a019.wav\n",
      "x: \n",
      "[ 3347  2912  2455 ... -3396 -3498 -3550]\n",
      "sr_orig: 44100\n",
      "y: \n",
      "[ 207  219  210 ... -633 -668 -630]\n"
     ]
    },
    {
     "name": "stderr",
     "output_type": "stream",
     "text": [
      "\r",
      " 20%|████████████████▏                                                               | 124/612 [01:07<04:23,  1.85it/s]"
     ]
    },
    {
     "name": "stdout",
     "output_type": "stream",
     "text": [
      "index: 124\n",
      "row: \n",
      "filename      EFAF2011A019.WAV\n",
      "start                 37614261\n",
      "duration                152476\n",
      "type                    rumble\n",
      "background                   0\n",
      "Name: 124, dtype: object\n",
      "source filename: EFAF2011A019.WAV\n",
      ".\\adventureswithelephants_dataset\\wavs\\all\\efaf2011a019.wav\n",
      "x: \n",
      "[ 3347  2912  2455 ... -3396 -3498 -3550]\n",
      "sr_orig: 44100\n",
      "y: \n",
      "[ 379  402  381 ... -104 -100  -87]\n"
     ]
    },
    {
     "name": "stderr",
     "output_type": "stream",
     "text": [
      "\r",
      " 20%|████████████████▎                                                               | 125/612 [01:07<04:22,  1.85it/s]"
     ]
    },
    {
     "name": "stdout",
     "output_type": "stream",
     "text": [
      "index: 125\n",
      "row: \n",
      "filename      EFAF2011A019.WAV\n",
      "start                 37985288\n",
      "duration                332910\n",
      "type                    rumble\n",
      "background                   0\n",
      "Name: 125, dtype: object\n",
      "source filename: EFAF2011A019.WAV\n",
      ".\\adventureswithelephants_dataset\\wavs\\all\\efaf2011a019.wav\n",
      "x: \n",
      "[ 3347  2912  2455 ... -3396 -3498 -3550]\n",
      "sr_orig: 44100\n",
      "y: \n",
      "[182 174 143 ... 141 152 141]\n"
     ]
    },
    {
     "name": "stderr",
     "output_type": "stream",
     "text": [
      "\r",
      " 21%|████████████████▍                                                               | 126/612 [01:07<04:22,  1.85it/s]"
     ]
    },
    {
     "name": "stdout",
     "output_type": "stream",
     "text": [
      "index: 126\n",
      "row: \n",
      "filename      EFAF2011A019.WAV\n",
      "start                 37985288\n",
      "duration                277005\n",
      "type                    rumble\n",
      "background                   0\n",
      "Name: 126, dtype: object\n",
      "source filename: EFAF2011A019.WAV\n",
      ".\\adventureswithelephants_dataset\\wavs\\all\\efaf2011a019.wav\n",
      "x: \n",
      "[ 3347  2912  2455 ... -3396 -3498 -3550]\n",
      "sr_orig: 44100\n",
      "y: \n",
      "[182 174 143 ... 141 152 141]\n"
     ]
    },
    {
     "name": "stderr",
     "output_type": "stream",
     "text": [
      "\r",
      " 21%|████████████████▌                                                               | 127/612 [01:08<04:21,  1.86it/s]"
     ]
    },
    {
     "name": "stdout",
     "output_type": "stream",
     "text": [
      "index: 127\n",
      "row: \n",
      "filename      EFAF2011A019.WAV\n",
      "start                 38186053\n",
      "duration                139770\n",
      "type                    rumble\n",
      "background                   0\n",
      "Name: 127, dtype: object\n",
      "source filename: EFAF2011A019.WAV\n",
      ".\\adventureswithelephants_dataset\\wavs\\all\\efaf2011a019.wav\n",
      "x: \n",
      "[ 3347  2912  2455 ... -3396 -3498 -3550]\n",
      "sr_orig: 44100\n",
      "y: \n",
      "[ -59  -61  -60 ... -420 -473 -471]\n"
     ]
    },
    {
     "name": "stderr",
     "output_type": "stream",
     "text": [
      "\r",
      " 21%|████████████████▋                                                               | 128/612 [01:08<04:20,  1.86it/s]"
     ]
    },
    {
     "name": "stdout",
     "output_type": "stream",
     "text": [
      "index: 128\n",
      "row: \n",
      "filename      EFAF2011A019.WAV\n",
      "start                 42161937\n",
      "duration                249121\n",
      "type                    rumble\n",
      "background                   1\n",
      "Name: 128, dtype: object\n",
      "source filename: EFAF2011A019.WAV\n",
      ".\\adventureswithelephants_dataset\\wavs\\all\\efaf2011a019.wav\n",
      "x: \n",
      "[ 3347  2912  2455 ... -3396 -3498 -3550]\n",
      "sr_orig: 44100\n",
      "y: \n",
      "[  0   0   0 ... -59 -62 -52]\n",
      "yb class: [-46 -48 -45 ...   0  -1   0]\n"
     ]
    },
    {
     "name": "stderr",
     "output_type": "stream",
     "text": [
      "\r",
      " 21%|████████████████▊                                                               | 129/612 [01:09<04:20,  1.86it/s]"
     ]
    },
    {
     "name": "stdout",
     "output_type": "stream",
     "text": [
      "index: 129\n",
      "row: \n",
      "filename      EFAF2011A019.WAV\n",
      "start                 42739056\n",
      "duration                 83247\n",
      "type                    rumble\n",
      "background                   0\n",
      "Name: 129, dtype: object\n",
      "source filename: EFAF2011A019.WAV\n",
      ".\\adventureswithelephants_dataset\\wavs\\all\\efaf2011a019.wav\n",
      "x: \n",
      "[ 3347  2912  2455 ... -3396 -3498 -3550]\n",
      "sr_orig: 44100\n",
      "y: \n",
      "[  0   0   0 ... 159 164 149]\n"
     ]
    },
    {
     "name": "stderr",
     "output_type": "stream",
     "text": [
      "\r",
      " 21%|████████████████▉                                                               | 130/612 [01:09<04:19,  1.86it/s]"
     ]
    },
    {
     "name": "stdout",
     "output_type": "stream",
     "text": [
      "index: 130\n",
      "row: \n",
      "filename      EFAF2011A019.WAV\n",
      "start                 42822303\n",
      "duration                429605\n",
      "type                    rumble\n",
      "background                   0\n",
      "Name: 130, dtype: object\n",
      "source filename: EFAF2011A019.WAV\n",
      ".\\adventureswithelephants_dataset\\wavs\\all\\efaf2011a019.wav\n",
      "x: \n",
      "[ 3347  2912  2455 ... -3396 -3498 -3550]\n",
      "sr_orig: 44100\n",
      "y: \n",
      "[335 353 334 ... -54 -59 -58]\n"
     ]
    },
    {
     "name": "stderr",
     "output_type": "stream",
     "text": [
      "\r",
      " 21%|█████████████████                                                               | 131/612 [01:10<04:18,  1.86it/s]"
     ]
    },
    {
     "name": "stdout",
     "output_type": "stream",
     "text": [
      "index: 131\n",
      "row: \n",
      "filename      EFAF2011A019.WAV\n",
      "start                 42822303\n",
      "duration                196347\n",
      "type                    rumble\n",
      "background                   0\n",
      "Name: 131, dtype: object\n",
      "source filename: EFAF2011A019.WAV\n",
      ".\\adventureswithelephants_dataset\\wavs\\all\\efaf2011a019.wav\n",
      "x: \n",
      "[ 3347  2912  2455 ... -3396 -3498 -3550]\n",
      "sr_orig: 44100\n",
      "y: \n",
      "[335 353 334 ... -54 -59 -58]\n"
     ]
    },
    {
     "name": "stderr",
     "output_type": "stream",
     "text": [
      "\r",
      " 22%|█████████████████▎                                                              | 132/612 [01:10<04:17,  1.87it/s]"
     ]
    },
    {
     "name": "stdout",
     "output_type": "stream",
     "text": [
      "index: 132\n",
      "row: \n",
      "filename      EFAF2011A019.WAV\n",
      "start                 42984093\n",
      "duration                249752\n",
      "type                    rumble\n",
      "background                   0\n",
      "Name: 132, dtype: object\n",
      "source filename: EFAF2011A019.WAV\n",
      ".\\adventureswithelephants_dataset\\wavs\\all\\efaf2011a019.wav\n",
      "x: \n",
      "[ 3347  2912  2455 ... -3396 -3498 -3550]\n",
      "sr_orig: 44100\n",
      "y: \n",
      "[3404 3722 3684 ... 6017 6396 6107]\n"
     ]
    },
    {
     "name": "stderr",
     "output_type": "stream",
     "text": [
      "\r",
      " 22%|█████████████████▍                                                              | 133/612 [01:11<04:16,  1.87it/s]"
     ]
    },
    {
     "name": "stdout",
     "output_type": "stream",
     "text": [
      "index: 133\n",
      "row: \n",
      "filename      EFAF2011A019.WAV\n",
      "start                 43079124\n",
      "duration                171999\n",
      "type                    rumble\n",
      "background                   0\n",
      "Name: 133, dtype: object\n",
      "source filename: EFAF2011A019.WAV\n",
      ".\\adventureswithelephants_dataset\\wavs\\all\\efaf2011a019.wav\n",
      "x: \n",
      "[ 3347  2912  2455 ... -3396 -3498 -3550]\n",
      "sr_orig: 44100\n",
      "y: \n",
      "[  0   2   6 ... -63 -68 -61]\n"
     ]
    },
    {
     "name": "stderr",
     "output_type": "stream",
     "text": [
      "\r",
      " 22%|█████████████████▌                                                              | 134/612 [01:11<04:15,  1.87it/s]"
     ]
    },
    {
     "name": "stdout",
     "output_type": "stream",
     "text": [
      "index: 134\n",
      "row: \n",
      "filename      EFAF2011A019.WAV\n",
      "start                 43286465\n",
      "duration                150010\n",
      "type                    rumble\n",
      "background                   0\n",
      "Name: 134, dtype: object\n",
      "source filename: EFAF2011A019.WAV\n",
      ".\\adventureswithelephants_dataset\\wavs\\all\\efaf2011a019.wav\n",
      "x: \n",
      "[ 3347  2912  2455 ... -3396 -3498 -3550]\n",
      "sr_orig: 44100\n",
      "y: \n",
      "[195 209 189 ...   0   0   0]\n"
     ]
    },
    {
     "name": "stderr",
     "output_type": "stream",
     "text": [
      "\r",
      " 22%|█████████████████▋                                                              | 135/612 [01:11<04:14,  1.88it/s]"
     ]
    },
    {
     "name": "stdout",
     "output_type": "stream",
     "text": [
      "index: 135\n",
      "row: \n",
      "filename      EFAF2011A019.WAV\n",
      "start                 44245093\n",
      "duration                137442\n",
      "type                    rumble\n",
      "background                   1\n",
      "Name: 135, dtype: object\n",
      "source filename: EFAF2011A019.WAV\n",
      ".\\adventureswithelephants_dataset\\wavs\\all\\efaf2011a019.wav\n",
      "x: \n",
      "[ 3347  2912  2455 ... -3396 -3498 -3550]\n",
      "sr_orig: 44100\n",
      "y: \n",
      "[14 13 14 ...  3  1  0]\n",
      "yb class: [ 0  0  0 ...  7 17 16]\n"
     ]
    },
    {
     "name": "stderr",
     "output_type": "stream",
     "text": [
      "\r",
      " 22%|█████████████████▊                                                              | 136/612 [01:12<04:14,  1.87it/s]"
     ]
    },
    {
     "name": "stdout",
     "output_type": "stream",
     "text": [
      "index: 136\n",
      "row: \n",
      "filename      EFAF2011A020.WAV\n",
      "start                  6702626\n",
      "duration                129315\n",
      "type                    rumble\n",
      "background                   0\n",
      "Name: 136, dtype: object\n",
      "source filename: EFAF2011A020.WAV\n",
      ".\\adventureswithelephants_dataset\\wavs\\all\\efaf2011a020.wav\n",
      "x: \n",
      "[326 328 325 ... -59 -62 -57]\n",
      "sr_orig: 44100\n",
      "y: \n",
      "[13 14 11 ... 43 45 45]\n"
     ]
    },
    {
     "name": "stderr",
     "output_type": "stream",
     "text": [
      "\r",
      " 22%|█████████████████▉                                                              | 137/612 [01:13<04:13,  1.87it/s]"
     ]
    },
    {
     "name": "stdout",
     "output_type": "stream",
     "text": [
      "index: 137\n",
      "row: \n",
      "filename      EFAF2011A020.WAV\n",
      "start                  8620346\n",
      "duration                178843\n",
      "type                    rumble\n",
      "background                   1\n",
      "Name: 137, dtype: object\n",
      "source filename: EFAF2011A020.WAV\n",
      ".\\adventureswithelephants_dataset\\wavs\\all\\efaf2011a020.wav\n",
      "x: \n",
      "[326 328 325 ... -59 -62 -57]\n",
      "sr_orig: 44100\n",
      "y: \n",
      "[-217 -232 -221 ...  224  244  231]\n",
      "yb class: [   0    0    0 ... -216 -230 -218]\n"
     ]
    },
    {
     "name": "stderr",
     "output_type": "stream",
     "text": [
      "\r",
      " 23%|██████████████████                                                              | 138/612 [01:13<04:13,  1.87it/s]"
     ]
    },
    {
     "name": "stdout",
     "output_type": "stream",
     "text": [
      "index: 138\n",
      "row: \n",
      "filename      EFAF2011A020.WAV\n",
      "start                  9423755\n",
      "duration                231115\n",
      "type                    rumble\n",
      "background                   1\n",
      "Name: 138, dtype: object\n",
      "source filename: EFAF2011A020.WAV\n",
      ".\\adventureswithelephants_dataset\\wavs\\all\\efaf2011a020.wav\n",
      "x: \n",
      "[326 328 325 ... -59 -62 -57]\n",
      "sr_orig: 44100\n",
      "y: \n",
      "[  58   64   60 ... -141 -145 -130]\n",
      "yb class: [-157 -162 -150 ...   48   56   60]\n"
     ]
    },
    {
     "name": "stderr",
     "output_type": "stream",
     "text": [
      "\r",
      " 23%|██████████████████▏                                                             | 139/612 [01:14<04:13,  1.87it/s]"
     ]
    },
    {
     "name": "stdout",
     "output_type": "stream",
     "text": [
      "index: 139\n",
      "row: \n",
      "filename      EFAF2011A020.WAV\n",
      "start                 11656256\n",
      "duration                125910\n",
      "type                    rumble\n",
      "background                   1\n",
      "Name: 139, dtype: object\n",
      "source filename: EFAF2011A020.WAV\n",
      ".\\adventureswithelephants_dataset\\wavs\\all\\efaf2011a020.wav\n",
      "x: \n",
      "[326 328 325 ... -59 -62 -57]\n",
      "sr_orig: 44100\n",
      "y: \n",
      "[-41 -44 -38 ...  99 105  98]\n",
      "yb class: [ 82  81  73 ... -42 -44 -42]\n"
     ]
    },
    {
     "name": "stderr",
     "output_type": "stream",
     "text": [
      "\r",
      " 23%|██████████████████▎                                                             | 140/612 [01:15<04:13,  1.86it/s]"
     ]
    },
    {
     "name": "stdout",
     "output_type": "stream",
     "text": [
      "index: 140\n",
      "row: \n",
      "filename      EFAF2011A020.WAV\n",
      "start                 11969635\n",
      "duration                176272\n",
      "type                    rumble\n",
      "background                   0\n",
      "Name: 140, dtype: object\n",
      "source filename: EFAF2011A020.WAV\n",
      ".\\adventureswithelephants_dataset\\wavs\\all\\efaf2011a020.wav\n",
      "x: \n",
      "[326 328 325 ... -59 -62 -57]\n",
      "sr_orig: 44100\n",
      "y: \n",
      "[-142 -150 -142 ...    0    0    0]\n"
     ]
    },
    {
     "name": "stderr",
     "output_type": "stream",
     "text": [
      "\r",
      " 23%|██████████████████▍                                                             | 141/612 [01:15<04:12,  1.86it/s]"
     ]
    },
    {
     "name": "stdout",
     "output_type": "stream",
     "text": [
      "index: 141\n",
      "row: \n",
      "filename      EFAF2011A020.WAV\n",
      "start                 12140315\n",
      "duration                195861\n",
      "type                    rumble\n",
      "background                   0\n",
      "Name: 141, dtype: object\n",
      "source filename: EFAF2011A020.WAV\n",
      ".\\adventureswithelephants_dataset\\wavs\\all\\efaf2011a020.wav\n",
      "x: \n",
      "[326 328 325 ... -59 -62 -57]\n",
      "sr_orig: 44100\n",
      "y: \n",
      "[  37   39   33 ... -121 -128 -122]\n"
     ]
    },
    {
     "name": "stderr",
     "output_type": "stream",
     "text": [
      "\r",
      " 23%|██████████████████▌                                                             | 142/612 [01:16<04:12,  1.86it/s]"
     ]
    },
    {
     "name": "stdout",
     "output_type": "stream",
     "text": [
      "index: 142\n",
      "row: \n",
      "filename      EFAF2011A020.WAV\n",
      "start                 13181176\n",
      "duration                198662\n",
      "type                    rumble\n",
      "background                   1\n",
      "Name: 142, dtype: object\n",
      "source filename: EFAF2011A020.WAV\n",
      ".\\adventureswithelephants_dataset\\wavs\\all\\efaf2011a020.wav\n",
      "x: \n",
      "[326 328 325 ... -59 -62 -57]\n",
      "sr_orig: 44100\n",
      "y: \n",
      "[61 66 70 ...  0  1  0]\n",
      "yb class: [166 168 157 ...  59  66  61]\n"
     ]
    },
    {
     "name": "stderr",
     "output_type": "stream",
     "text": [
      "\r",
      " 23%|██████████████████▋                                                             | 143/612 [01:16<04:12,  1.86it/s]"
     ]
    },
    {
     "name": "stdout",
     "output_type": "stream",
     "text": [
      "index: 143\n",
      "row: \n",
      "filename      EFAF2011A020.WAV\n",
      "start                 14423500\n",
      "duration                207054\n",
      "type                    rumble\n",
      "background                   1\n",
      "Name: 143, dtype: object\n",
      "source filename: EFAF2011A020.WAV\n",
      ".\\adventureswithelephants_dataset\\wavs\\all\\efaf2011a020.wav\n",
      "x: \n",
      "[326 328 325 ... -59 -62 -57]\n",
      "sr_orig: 44100\n",
      "y: \n",
      "[137 152 149 ... -18 -19 -13]\n",
      "yb class: [ 68  75  66 ... 123 141 138]\n"
     ]
    },
    {
     "name": "stderr",
     "output_type": "stream",
     "text": [
      "\r",
      " 24%|██████████████████▊                                                             | 144/612 [01:17<04:12,  1.85it/s]"
     ]
    },
    {
     "name": "stdout",
     "output_type": "stream",
     "text": [
      "index: 144\n",
      "row: \n",
      "filename      EFAF2011A020.WAV\n",
      "start                 17562282\n",
      "duration                172078\n",
      "type                    rumble\n",
      "background                   1\n",
      "Name: 144, dtype: object\n",
      "source filename: EFAF2011A020.WAV\n",
      ".\\adventureswithelephants_dataset\\wavs\\all\\efaf2011a020.wav\n",
      "x: \n",
      "[326 328 325 ... -59 -62 -57]\n",
      "sr_orig: 44100\n",
      "y: \n",
      "[58 66 60 ... 53 61 58]\n",
      "yb class: [ 98 116 120 ...  55  57  56]\n"
     ]
    },
    {
     "name": "stderr",
     "output_type": "stream",
     "text": [
      "\r",
      " 24%|██████████████████▉                                                             | 145/612 [01:18<04:12,  1.85it/s]"
     ]
    },
    {
     "name": "stdout",
     "output_type": "stream",
     "text": [
      "index: 145\n",
      "row: \n",
      "filename      EFAF2011A020.WAV\n",
      "start                 20319736\n",
      "duration                167884\n",
      "type                    rumble\n",
      "background                   1\n",
      "Name: 145, dtype: object\n",
      "source filename: EFAF2011A020.WAV\n",
      ".\\adventureswithelephants_dataset\\wavs\\all\\efaf2011a020.wav\n",
      "x: \n",
      "[326 328 325 ... -59 -62 -57]\n",
      "sr_orig: 44100\n",
      "y: \n",
      "[-13  -7   0 ...  14  11   3]\n",
      "yb class: [-712 -754 -714 ...  -31  -26  -15]\n"
     ]
    },
    {
     "name": "stderr",
     "output_type": "stream",
     "text": [
      "\r",
      " 24%|███████████████████                                                             | 146/612 [01:19<04:12,  1.84it/s]"
     ]
    },
    {
     "name": "stdout",
     "output_type": "stream",
     "text": [
      "index: 146\n",
      "row: \n",
      "filename      EFAF2011A020.WAV\n",
      "start                 22338515\n",
      "duration                193065\n",
      "type                    rumble\n",
      "background                   1\n",
      "Name: 146, dtype: object\n",
      "source filename: EFAF2011A020.WAV\n",
      ".\\adventureswithelephants_dataset\\wavs\\all\\efaf2011a020.wav\n",
      "x: \n",
      "[326 328 325 ... -59 -62 -57]\n",
      "sr_orig: 44100\n",
      "y: \n",
      "[0 0 0 ... 0 0 0]\n",
      "yb class: [-11 -14 -12 ...   0   0   0]\n"
     ]
    },
    {
     "name": "stderr",
     "output_type": "stream",
     "text": [
      "\r",
      " 24%|███████████████████▏                                                            | 147/612 [01:19<04:12,  1.84it/s]"
     ]
    },
    {
     "name": "stdout",
     "output_type": "stream",
     "text": [
      "index: 147\n",
      "row: \n",
      "filename      EFAF2011A020.WAV\n",
      "start                 25689057\n",
      "duration                214423\n",
      "type                    rumble\n",
      "background                   1\n",
      "Name: 147, dtype: object\n",
      "source filename: EFAF2011A020.WAV\n",
      ".\\adventureswithelephants_dataset\\wavs\\all\\efaf2011a020.wav\n",
      "x: \n",
      "[326 328 325 ... -59 -62 -57]\n",
      "sr_orig: 44100\n",
      "y: \n",
      "[ 0  0  0 ... 49 67 68]\n",
      "yb class: [ 0 -1  0 ...  0  0  0]\n"
     ]
    },
    {
     "name": "stderr",
     "output_type": "stream",
     "text": [
      "\r",
      " 24%|███████████████████▎                                                            | 148/612 [01:20<04:12,  1.83it/s]"
     ]
    },
    {
     "name": "stdout",
     "output_type": "stream",
     "text": [
      "index: 148\n",
      "row: \n",
      "filename      EFAF2011A020.WAV\n",
      "start                 27582181\n",
      "duration                203134\n",
      "type                    rumble\n",
      "background                   1\n",
      "Name: 148, dtype: object\n",
      "source filename: EFAF2011A020.WAV\n",
      ".\\adventureswithelephants_dataset\\wavs\\all\\efaf2011a020.wav\n",
      "x: \n",
      "[326 328 325 ... -59 -62 -57]\n",
      "sr_orig: 44100\n",
      "y: \n",
      "[ 0  0  0 ... 63 68 60]\n",
      "yb class: [11 10  1 ...  0  0  0]\n"
     ]
    },
    {
     "name": "stderr",
     "output_type": "stream",
     "text": [
      "\r",
      " 24%|███████████████████▍                                                            | 149/612 [01:21<04:12,  1.83it/s]"
     ]
    },
    {
     "name": "stdout",
     "output_type": "stream",
     "text": [
      "index: 149\n",
      "row: \n",
      "filename      EFAF2011A020.WAV\n",
      "start                 28042061\n",
      "duration                211600\n",
      "type                    rumble\n",
      "background                   0\n",
      "Name: 149, dtype: object\n",
      "source filename: EFAF2011A020.WAV\n",
      ".\\adventureswithelephants_dataset\\wavs\\all\\efaf2011a020.wav\n",
      "x: \n",
      "[326 328 325 ... -59 -62 -57]\n",
      "sr_orig: 44100\n",
      "y: \n",
      "[0 0 0 ... 0 0 0]\n"
     ]
    },
    {
     "name": "stderr",
     "output_type": "stream",
     "text": [
      "\r",
      " 25%|███████████████████▌                                                            | 150/612 [01:21<04:12,  1.83it/s]"
     ]
    },
    {
     "name": "stdout",
     "output_type": "stream",
     "text": [
      "index: 150\n",
      "row: \n",
      "filename      EFAF2011A020.WAV\n",
      "start                 28626077\n",
      "duration                290601\n",
      "type                    rumble\n",
      "background                   0\n",
      "Name: 150, dtype: object\n",
      "source filename: EFAF2011A020.WAV\n",
      ".\\adventureswithelephants_dataset\\wavs\\all\\efaf2011a020.wav\n",
      "x: \n",
      "[326 328 325 ... -59 -62 -57]\n",
      "sr_orig: 44100\n",
      "y: \n",
      "[-4 -7 -1 ... 18 26 21]\n"
     ]
    },
    {
     "name": "stderr",
     "output_type": "stream",
     "text": [
      "\r",
      " 25%|███████████████████▋                                                            | 151/612 [01:22<04:11,  1.84it/s]"
     ]
    },
    {
     "name": "stdout",
     "output_type": "stream",
     "text": [
      "index: 151\n",
      "row: \n",
      "filename      EFAF2011A021.WAV\n",
      "start                  7317971\n",
      "duration                141843\n",
      "type                    rumble\n",
      "background                   0\n",
      "Name: 151, dtype: object\n",
      "source filename: EFAF2011A021.WAV\n",
      ".\\adventureswithelephants_dataset\\wavs\\all\\efaf2011a021.wav\n",
      "x: \n",
      "[517 529 538 ...  54  45  46]\n",
      "sr_orig: 44100\n",
      "y: \n",
      "[ 0  0  0 ...  0 -1  0]\n"
     ]
    },
    {
     "name": "stderr",
     "output_type": "stream",
     "text": [
      "\r",
      " 25%|███████████████████▊                                                            | 152/612 [01:22<04:10,  1.84it/s]"
     ]
    },
    {
     "name": "stdout",
     "output_type": "stream",
     "text": [
      "index: 152\n",
      "row: \n",
      "filename      EFAF2011A021.WAV\n",
      "start                 11227299\n",
      "duration                137231\n",
      "type                    rumble\n",
      "background                   1\n",
      "Name: 152, dtype: object\n",
      "source filename: EFAF2011A021.WAV\n",
      ".\\adventureswithelephants_dataset\\wavs\\all\\efaf2011a021.wav\n",
      "x: \n",
      "[517 529 538 ...  54  45  46]\n",
      "sr_orig: 44100\n",
      "y: \n",
      "[-91 -79 -71 ... 159 148 112]\n",
      "yb class: [  19   25   11 ...  -86 -102  -92]\n"
     ]
    },
    {
     "name": "stderr",
     "output_type": "stream",
     "text": [
      "\r",
      " 25%|████████████████████                                                            | 153/612 [01:23<04:10,  1.83it/s]"
     ]
    },
    {
     "name": "stdout",
     "output_type": "stream",
     "text": [
      "index: 153\n",
      "row: \n",
      "filename      EFAF2011A021.WAV\n",
      "start                 51711633\n",
      "duration                 66304\n",
      "type                    rumble\n",
      "background                   1\n",
      "Name: 153, dtype: object\n",
      "source filename: EFAF2011A021.WAV\n",
      ".\\adventureswithelephants_dataset\\wavs\\all\\efaf2011a021.wav\n",
      "x: \n",
      "[517 529 538 ...  54  45  46]\n",
      "sr_orig: 44100\n",
      "y: \n",
      "[ 59  83  97 ... -32 -28   0]\n",
      "yb class: [ 7  0  0 ... 82 75 60]\n"
     ]
    },
    {
     "name": "stderr",
     "output_type": "stream",
     "text": [
      "\r",
      " 25%|████████████████████▏                                                           | 154/612 [01:24<04:10,  1.83it/s]"
     ]
    },
    {
     "name": "stdout",
     "output_type": "stream",
     "text": [
      "index: 154\n",
      "row: \n",
      "filename      EFAF2011A021.WAV\n",
      "start                 52503484\n",
      "duration                110938\n",
      "type                    rumble\n",
      "background                   1\n",
      "Name: 154, dtype: object\n",
      "source filename: EFAF2011A021.WAV\n",
      ".\\adventureswithelephants_dataset\\wavs\\all\\efaf2011a021.wav\n",
      "x: \n",
      "[517 529 538 ...  54  45  46]\n",
      "sr_orig: 44100\n",
      "y: \n",
      "[178 183 175 ... 162 176 128]\n",
      "yb class: [ 29   6   0 ... 174 192 177]\n"
     ]
    },
    {
     "name": "stderr",
     "output_type": "stream",
     "text": [
      "\r",
      " 25%|████████████████████▎                                                           | 155/612 [01:25<04:10,  1.82it/s]"
     ]
    },
    {
     "name": "stdout",
     "output_type": "stream",
     "text": [
      "index: 155\n",
      "row: \n",
      "filename      EFAF2011A021.WAV\n",
      "start                 53730205\n",
      "duration                127343\n",
      "type                    rumble\n",
      "background                   1\n",
      "Name: 155, dtype: object\n",
      "source filename: EFAF2011A021.WAV\n",
      ".\\adventureswithelephants_dataset\\wavs\\all\\efaf2011a021.wav\n",
      "x: \n",
      "[517 529 538 ...  54  45  46]\n",
      "sr_orig: 44100\n",
      "y: \n",
      "[-298 -348 -307 ...  346  361  373]\n",
      "yb class: [  12   35   32 ... -317 -314 -295]\n"
     ]
    },
    {
     "name": "stderr",
     "output_type": "stream",
     "text": [
      "\r",
      " 25%|████████████████████▍                                                           | 156/612 [01:25<04:11,  1.82it/s]"
     ]
    },
    {
     "name": "stdout",
     "output_type": "stream",
     "text": [
      "index: 156\n",
      "row: \n",
      "filename      EFAF2011A021.WAV\n",
      "start                 54314636\n",
      "duration                231926\n",
      "type                    rumble\n",
      "background                   1\n",
      "Name: 156, dtype: object\n",
      "source filename: EFAF2011A021.WAV\n",
      ".\\adventureswithelephants_dataset\\wavs\\all\\efaf2011a021.wav\n",
      "x: \n",
      "[517 529 538 ...  54  45  46]\n",
      "sr_orig: 44100\n",
      "y: \n",
      "[ -52  -72  -65 ... -375 -400 -427]\n",
      "yb class: [ -70 -100  -68 ...  -53  -50  -55]\n"
     ]
    },
    {
     "name": "stderr",
     "output_type": "stream",
     "text": [
      "\r",
      " 26%|████████████████████▌                                                           | 157/612 [01:26<04:11,  1.81it/s]"
     ]
    },
    {
     "name": "stdout",
     "output_type": "stream",
     "text": [
      "index: 157\n",
      "row: \n",
      "filename      EFAF2011A021.WAV\n",
      "start                 55757724\n",
      "duration                206155\n",
      "type                    rumble\n",
      "background                   1\n",
      "Name: 157, dtype: object\n",
      "source filename: EFAF2011A021.WAV\n",
      ".\\adventureswithelephants_dataset\\wavs\\all\\efaf2011a021.wav\n",
      "x: \n",
      "[517 529 538 ...  54  45  46]\n",
      "sr_orig: 44100\n",
      "y: \n",
      "[-203 -195 -194 ... -487 -498 -503]\n",
      "yb class: [   0    1    0 ... -175 -221 -202]\n"
     ]
    },
    {
     "name": "stderr",
     "output_type": "stream",
     "text": [
      "\r",
      " 26%|████████████████████▋                                                           | 158/612 [01:27<04:11,  1.81it/s]"
     ]
    },
    {
     "name": "stdout",
     "output_type": "stream",
     "text": [
      "index: 158\n",
      "row: \n",
      "filename      EFAF2011A021.WAV\n",
      "start                 58600953\n",
      "duration                197568\n",
      "type                    rumble\n",
      "background                   1\n",
      "Name: 158, dtype: object\n",
      "source filename: EFAF2011A021.WAV\n",
      ".\\adventureswithelephants_dataset\\wavs\\all\\efaf2011a021.wav\n",
      "x: \n",
      "[517 529 538 ...  54  45  46]\n",
      "sr_orig: 44100\n",
      "y: \n",
      "[-74 -29 -84 ...   0   0   0]\n",
      "yb class: [  25   22   15 ...  -39 -112  -80]\n"
     ]
    },
    {
     "name": "stderr",
     "output_type": "stream",
     "text": [
      "\r",
      " 26%|████████████████████▊                                                           | 159/612 [01:28<04:11,  1.80it/s]"
     ]
    },
    {
     "name": "stdout",
     "output_type": "stream",
     "text": [
      "index: 159\n",
      "row: \n",
      "filename      EFAF2011A021.WAV\n",
      "start                 59571603\n",
      "duration                206154\n",
      "type                    rumble\n",
      "background                   1\n",
      "Name: 159, dtype: object\n",
      "source filename: EFAF2011A021.WAV\n",
      ".\\adventureswithelephants_dataset\\wavs\\all\\efaf2011a021.wav\n",
      "x: \n",
      "[517 529 538 ...  54  45  46]\n",
      "sr_orig: 44100\n",
      "y: \n",
      "[   6    3    0 ... -127 -121  -94]\n",
      "yb class: [-523 -557 -509 ...   -1    2    8]\n"
     ]
    },
    {
     "name": "stderr",
     "output_type": "stream",
     "text": [
      "\r",
      " 26%|████████████████████▉                                                           | 160/612 [01:29<04:11,  1.80it/s]"
     ]
    },
    {
     "name": "stdout",
     "output_type": "stream",
     "text": [
      "index: 160\n",
      "row: \n",
      "filename      EFAF2011A021.WAV\n",
      "start                 60972924\n",
      "duration                205462\n",
      "type                    rumble\n",
      "background                   1\n",
      "Name: 160, dtype: object\n",
      "source filename: EFAF2011A021.WAV\n",
      ".\\adventureswithelephants_dataset\\wavs\\all\\efaf2011a021.wav\n",
      "x: \n",
      "[517 529 538 ...  54  45  46]\n",
      "sr_orig: 44100\n",
      "y: \n",
      "[44 32 58 ...  0  0  0]\n",
      "yb class: [ 0  0  0 ... 46 62 45]\n"
     ]
    },
    {
     "name": "stderr",
     "output_type": "stream",
     "text": [
      "\r",
      " 26%|█████████████████████                                                           | 161/612 [01:29<04:11,  1.79it/s]"
     ]
    },
    {
     "name": "stdout",
     "output_type": "stream",
     "text": [
      "index: 161\n",
      "row: \n",
      "filename      EFAF2011A021.WAV\n",
      "start                 62131369\n",
      "duration                188973\n",
      "type                    rumble\n",
      "background                   1\n",
      "Name: 161, dtype: object\n",
      "source filename: EFAF2011A021.WAV\n",
      ".\\adventureswithelephants_dataset\\wavs\\all\\efaf2011a021.wav\n",
      "x: \n",
      "[517 529 538 ...  54  45  46]\n",
      "sr_orig: 44100\n",
      "y: \n",
      "[ -61  -69 -117 ...   67   71   54]\n",
      "yb class: [  24   49   73 ... -106 -123  -63]\n"
     ]
    },
    {
     "name": "stderr",
     "output_type": "stream",
     "text": [
      "\r",
      " 26%|█████████████████████▏                                                          | 162/612 [01:30<04:11,  1.79it/s]"
     ]
    },
    {
     "name": "stdout",
     "output_type": "stream",
     "text": [
      "index: 162\n",
      "row: \n",
      "filename      EFAF2011A021.WAV\n",
      "start                 63937608\n",
      "duration                166513\n",
      "type                    rumble\n",
      "background                   1\n",
      "Name: 162, dtype: object\n",
      "source filename: EFAF2011A021.WAV\n",
      ".\\adventureswithelephants_dataset\\wavs\\all\\efaf2011a021.wav\n",
      "x: \n",
      "[517 529 538 ...  54  45  46]\n",
      "sr_orig: 44100\n",
      "y: \n",
      "[  6  47  50 ... 109  92  75]\n",
      "yb class: [-71 -71 -72 ...  63  38   8]\n"
     ]
    },
    {
     "name": "stderr",
     "output_type": "stream",
     "text": [
      "\r",
      " 27%|█████████████████████▎                                                          | 163/612 [01:31<04:11,  1.78it/s]"
     ]
    },
    {
     "name": "stdout",
     "output_type": "stream",
     "text": [
      "index: 163\n",
      "row: \n",
      "filename      EFAF2011A021.WAV\n",
      "start                 64908148\n",
      "duration                176029\n",
      "type                    rumble\n",
      "background                   1\n",
      "Name: 163, dtype: object\n",
      "source filename: EFAF2011A021.WAV\n",
      ".\\adventureswithelephants_dataset\\wavs\\all\\efaf2011a021.wav\n",
      "x: \n",
      "[517 529 538 ...  54  45  46]\n",
      "sr_orig: 44100\n",
      "y: \n",
      "[234 250 215 ...  85  85  51]\n",
      "yb class: [-59 -78 -51 ... 225 238 232]\n"
     ]
    },
    {
     "name": "stderr",
     "output_type": "stream",
     "text": [
      "\r",
      " 27%|█████████████████████▍                                                          | 164/612 [01:32<04:11,  1.78it/s]"
     ]
    },
    {
     "name": "stdout",
     "output_type": "stream",
     "text": [
      "index: 164\n",
      "row: \n",
      "filename      EFAF2011A021.WAV\n",
      "start                 66254539\n",
      "duration                185541\n",
      "type                    rumble\n",
      "background                   1\n",
      "Name: 164, dtype: object\n",
      "source filename: EFAF2011A021.WAV\n",
      ".\\adventureswithelephants_dataset\\wavs\\all\\efaf2011a021.wav\n",
      "x: \n",
      "[517 529 538 ...  54  45  46]\n",
      "sr_orig: 44100\n",
      "y: \n",
      "[31  0  0 ...  0 11 23]\n",
      "yb class: [104  87  69 ...  27  19  34]\n"
     ]
    },
    {
     "name": "stderr",
     "output_type": "stream",
     "text": [
      "\r",
      " 27%|█████████████████████▌                                                          | 165/612 [01:33<04:11,  1.77it/s]"
     ]
    },
    {
     "name": "stdout",
     "output_type": "stream",
     "text": [
      "index: 165\n",
      "row: \n",
      "filename      EFAF2011A021.WAV\n",
      "start                 68214647\n",
      "duration                123696\n",
      "type                    rumble\n",
      "background                   1\n",
      "Name: 165, dtype: object\n",
      "source filename: EFAF2011A021.WAV\n",
      ".\\adventureswithelephants_dataset\\wavs\\all\\efaf2011a021.wav\n",
      "x: \n",
      "[517 529 538 ...  54  45  46]\n",
      "sr_orig: 44100\n",
      "y: \n",
      "[-38 -52 -60 ... -17  -4   0]\n",
      "yb class: [  8   8   0 ... -39 -53 -33]\n"
     ]
    },
    {
     "name": "stderr",
     "output_type": "stream",
     "text": [
      "\r",
      " 27%|█████████████████████▋                                                          | 166/612 [01:33<04:12,  1.77it/s]"
     ]
    },
    {
     "name": "stdout",
     "output_type": "stream",
     "text": [
      "index: 166\n",
      "row: \n",
      "filename      EFAF2011A021.WAV\n",
      "start                 69437337\n",
      "duration                 95150\n",
      "type                    rumble\n",
      "background                   1\n",
      "Name: 166, dtype: object\n",
      "source filename: EFAF2011A021.WAV\n",
      ".\\adventureswithelephants_dataset\\wavs\\all\\efaf2011a021.wav\n",
      "x: \n",
      "[517 529 538 ...  54  45  46]\n",
      "sr_orig: 44100\n",
      "y: \n",
      "[  0   0   0 ... -67 -19 -11]\n",
      "yb class: [-10   0   0 ...  31   4   0]\n"
     ]
    },
    {
     "name": "stderr",
     "output_type": "stream",
     "text": [
      "\r",
      " 27%|█████████████████████▊                                                          | 167/612 [01:34<04:12,  1.76it/s]"
     ]
    },
    {
     "name": "stdout",
     "output_type": "stream",
     "text": [
      "index: 167\n",
      "row: \n",
      "filename      EFAF2011A021.WAV\n",
      "start                 71654623\n",
      "duration                 88156\n",
      "type                    rumble\n",
      "background                   1\n",
      "Name: 167, dtype: object\n",
      "source filename: EFAF2011A021.WAV\n",
      ".\\adventureswithelephants_dataset\\wavs\\all\\efaf2011a021.wav\n",
      "x: \n",
      "[517 529 538 ...  54  45  46]\n",
      "sr_orig: 44100\n",
      "y: \n",
      "[  18    0    0 ... -105  -86  -79]\n",
      "yb class: [72 86 91 ...  0 14 21]\n"
     ]
    },
    {
     "name": "stderr",
     "output_type": "stream",
     "text": [
      "\r",
      " 27%|█████████████████████▉                                                          | 168/612 [01:35<04:12,  1.76it/s]"
     ]
    },
    {
     "name": "stdout",
     "output_type": "stream",
     "text": [
      "index: 168\n",
      "row: \n",
      "filename      EFAF2011A021.WAV\n",
      "start                 72715528\n",
      "duration                155034\n",
      "type                    rumble\n",
      "background                   1\n",
      "Name: 168, dtype: object\n",
      "source filename: EFAF2011A021.WAV\n",
      ".\\adventureswithelephants_dataset\\wavs\\all\\efaf2011a021.wav\n",
      "x: \n",
      "[517 529 538 ...  54  45  46]\n",
      "sr_orig: 44100\n",
      "y: \n",
      "[ 0  0  0 ... -1 19 38]\n",
      "yb class: [56 57 46 ... -1  1  0]\n"
     ]
    },
    {
     "name": "stderr",
     "output_type": "stream",
     "text": [
      "\r",
      " 28%|██████████████████████                                                          | 169/612 [01:36<04:12,  1.75it/s]"
     ]
    },
    {
     "name": "stdout",
     "output_type": "stream",
     "text": [
      "index: 169\n",
      "row: \n",
      "filename      EFAF2011A021.WAV\n",
      "start                 75165640\n",
      "duration                130713\n",
      "type                    rumble\n",
      "background                   1\n",
      "Name: 169, dtype: object\n",
      "source filename: EFAF2011A021.WAV\n",
      ".\\adventureswithelephants_dataset\\wavs\\all\\efaf2011a021.wav\n",
      "x: \n",
      "[517 529 538 ...  54  45  46]\n",
      "sr_orig: 44100\n",
      "y: \n",
      "[ 55  43  67 ...  -2 -24   0]\n",
      "yb class: [  0 -17   0 ...  40  92  57]\n"
     ]
    },
    {
     "name": "stderr",
     "output_type": "stream",
     "text": [
      "\r",
      " 28%|██████████████████████▏                                                         | 170/612 [01:37<04:12,  1.75it/s]"
     ]
    },
    {
     "name": "stdout",
     "output_type": "stream",
     "text": [
      "index: 170\n",
      "row: \n",
      "filename      EFAF2011A021.WAV\n",
      "start                 76051905\n",
      "duration                117248\n",
      "type                    rumble\n",
      "background                   1\n",
      "Name: 170, dtype: object\n",
      "source filename: EFAF2011A021.WAV\n",
      ".\\adventureswithelephants_dataset\\wavs\\all\\efaf2011a021.wav\n",
      "x: \n",
      "[517 529 538 ...  54  45  46]\n",
      "sr_orig: 44100\n",
      "y: \n",
      "[29  0 -1 ...  0 -4  0]\n",
      "yb class: [ 21  18  44 ... -18   3  30]\n"
     ]
    },
    {
     "name": "stderr",
     "output_type": "stream",
     "text": [
      "\r",
      " 28%|██████████████████████▎                                                         | 171/612 [01:37<04:12,  1.75it/s]"
     ]
    },
    {
     "name": "stdout",
     "output_type": "stream",
     "text": [
      "index: 171\n",
      "row: \n",
      "filename      EFAF2011A021.WAV\n",
      "start                 77785758\n",
      "duration                124181\n",
      "type                    rumble\n",
      "background                   1\n",
      "Name: 171, dtype: object\n",
      "source filename: EFAF2011A021.WAV\n",
      ".\\adventureswithelephants_dataset\\wavs\\all\\efaf2011a021.wav\n",
      "x: \n",
      "[517 529 538 ...  54  45  46]\n",
      "sr_orig: 44100\n",
      "y: \n",
      "[ 0  0  0 ... 42 20 50]\n",
      "yb class: [16 39 32 ...  0  0  0]\n"
     ]
    },
    {
     "name": "stderr",
     "output_type": "stream",
     "text": [
      "\r",
      " 28%|██████████████████████▍                                                         | 172/612 [01:38<04:12,  1.74it/s]"
     ]
    },
    {
     "name": "stdout",
     "output_type": "stream",
     "text": [
      "index: 172\n",
      "row: \n",
      "filename      EFAF2011A021.WAV\n",
      "start                 78380050\n",
      "duration                159659\n",
      "type                    rumble\n",
      "background                   1\n",
      "Name: 172, dtype: object\n",
      "source filename: EFAF2011A021.WAV\n",
      ".\\adventureswithelephants_dataset\\wavs\\all\\efaf2011a021.wav\n",
      "x: \n",
      "[517 529 538 ...  54  45  46]\n",
      "sr_orig: 44100\n",
      "y: \n",
      "[-60 -51 -46 ... 100  66  36]\n",
      "yb class: [ -7 -21 -46 ... -46 -60 -60]\n"
     ]
    },
    {
     "name": "stderr",
     "output_type": "stream",
     "text": [
      "\r",
      " 28%|██████████████████████▌                                                         | 173/612 [01:39<04:12,  1.74it/s]"
     ]
    },
    {
     "name": "stdout",
     "output_type": "stream",
     "text": [
      "index: 173\n",
      "row: \n",
      "filename      EFAF2011A021.WAV\n",
      "start                 79109300\n",
      "duration                 38760\n",
      "type                   snumble\n",
      "background                   1\n",
      "Name: 173, dtype: object\n",
      "source filename: EFAF2011A021.WAV\n",
      ".\\adventureswithelephants_dataset\\wavs\\all\\efaf2011a021.wav\n",
      "x: \n",
      "[517 529 538 ...  54  45  46]\n",
      "sr_orig: 44100\n",
      "y: \n",
      "[  46   50   81 ... -139 -134 -120]\n",
      "yb class: [ -9   0   0 ... 178 113  48]\n"
     ]
    },
    {
     "name": "stderr",
     "output_type": "stream",
     "text": [
      "\r",
      " 28%|██████████████████████▋                                                         | 174/612 [01:40<04:12,  1.74it/s]"
     ]
    },
    {
     "name": "stdout",
     "output_type": "stream",
     "text": [
      "index: 174\n",
      "row: \n",
      "filename      EFAF2011A021.WAV\n",
      "start                 79276828\n",
      "duration                 54176\n",
      "type                   snumble\n",
      "background                   0\n",
      "Name: 174, dtype: object\n",
      "source filename: EFAF2011A021.WAV\n",
      ".\\adventureswithelephants_dataset\\wavs\\all\\efaf2011a021.wav\n",
      "x: \n",
      "[517 529 538 ...  54  45  46]\n",
      "sr_orig: 44100\n",
      "y: \n",
      "[277 330 306 ... 380 460 493]\n"
     ]
    },
    {
     "name": "stderr",
     "output_type": "stream",
     "text": [
      "\r",
      " 29%|██████████████████████▉                                                         | 175/612 [01:40<04:11,  1.74it/s]"
     ]
    },
    {
     "name": "stdout",
     "output_type": "stream",
     "text": [
      "index: 175\n",
      "row: \n",
      "filename      EFAF2011A021.WAV\n",
      "start                 79548528\n",
      "duration                 50635\n",
      "type                    rumble\n",
      "background                   0\n",
      "Name: 175, dtype: object\n",
      "source filename: EFAF2011A021.WAV\n",
      ".\\adventureswithelephants_dataset\\wavs\\all\\efaf2011a021.wav\n",
      "x: \n",
      "[517 529 538 ...  54  45  46]\n",
      "sr_orig: 44100\n",
      "y: \n",
      "[   43    31    11 ... -1045 -1074  -976]\n"
     ]
    },
    {
     "name": "stderr",
     "output_type": "stream",
     "text": [
      "\r",
      " 29%|███████████████████████                                                         | 176/612 [01:41<04:10,  1.74it/s]"
     ]
    },
    {
     "name": "stdout",
     "output_type": "stream",
     "text": [
      "index: 176\n",
      "row: \n",
      "filename      EFAF2011A021.WAV\n",
      "start                 79685066\n",
      "duration                 53802\n",
      "type                    rumble\n",
      "background                   0\n",
      "Name: 176, dtype: object\n",
      "source filename: EFAF2011A021.WAV\n",
      ".\\adventureswithelephants_dataset\\wavs\\all\\efaf2011a021.wav\n",
      "x: \n",
      "[517 529 538 ...  54  45  46]\n",
      "sr_orig: 44100\n",
      "y: \n",
      "[-1383 -1453 -1378 ... -3362 -2179  -928]\n"
     ]
    },
    {
     "name": "stderr",
     "output_type": "stream",
     "text": [
      "\r",
      " 29%|███████████████████████▏                                                        | 177/612 [01:41<04:09,  1.74it/s]"
     ]
    },
    {
     "name": "stdout",
     "output_type": "stream",
     "text": [
      "index: 177\n",
      "row: \n",
      "filename      EFAF2011A021.WAV\n",
      "start                 80003582\n",
      "duration                 67601\n",
      "type                    rumble\n",
      "background                   0\n",
      "Name: 177, dtype: object\n",
      "source filename: EFAF2011A021.WAV\n",
      ".\\adventureswithelephants_dataset\\wavs\\all\\efaf2011a021.wav\n",
      "x: \n",
      "[517 529 538 ...  54  45  46]\n",
      "sr_orig: 44100\n",
      "y: \n",
      "[ -357  -394  -380 ...  -989 -1378 -1609]\n"
     ]
    },
    {
     "name": "stderr",
     "output_type": "stream",
     "text": [
      "\r",
      " 29%|███████████████████████▎                                                        | 178/612 [01:42<04:08,  1.74it/s]"
     ]
    },
    {
     "name": "stdout",
     "output_type": "stream",
     "text": [
      "index: 178\n",
      "row: \n",
      "filename      EFAF2011A021.WAV\n",
      "start                 80126776\n",
      "duration                 47143\n",
      "type                    rumble\n",
      "background                   0\n",
      "Name: 178, dtype: object\n",
      "source filename: EFAF2011A021.WAV\n",
      ".\\adventureswithelephants_dataset\\wavs\\all\\efaf2011a021.wav\n",
      "x: \n",
      "[517 529 538 ...  54  45  46]\n",
      "sr_orig: 44100\n",
      "y: \n",
      "[-1119 -1452 -1672 ...   229   268   269]\n"
     ]
    },
    {
     "name": "stderr",
     "output_type": "stream",
     "text": [
      "\r",
      " 29%|███████████████████████▍                                                        | 179/612 [01:42<04:07,  1.75it/s]"
     ]
    },
    {
     "name": "stdout",
     "output_type": "stream",
     "text": [
      "index: 179\n",
      "row: \n",
      "filename      EFAF2011A021.WAV\n",
      "start                 80133726\n",
      "duration                207914\n",
      "type                    rumble\n",
      "background                   0\n",
      "Name: 179, dtype: object\n",
      "source filename: EFAF2011A021.WAV\n",
      ".\\adventureswithelephants_dataset\\wavs\\all\\efaf2011a021.wav\n",
      "x: \n",
      "[517 529 538 ...  54  45  46]\n",
      "sr_orig: 44100\n",
      "y: \n",
      "[-7421 -7641 -7110 ...     0   -17    -4]\n"
     ]
    },
    {
     "name": "stderr",
     "output_type": "stream",
     "text": [
      "\r",
      " 29%|███████████████████████▌                                                        | 180/612 [01:42<04:06,  1.75it/s]"
     ]
    },
    {
     "name": "stdout",
     "output_type": "stream",
     "text": [
      "index: 180\n",
      "row: \n",
      "filename      EFAF2011A021.WAV\n",
      "start                 80313367\n",
      "duration                 92103\n",
      "type                    rumble\n",
      "background                   0\n",
      "Name: 180, dtype: object\n",
      "source filename: EFAF2011A021.WAV\n",
      ".\\adventureswithelephants_dataset\\wavs\\all\\efaf2011a021.wav\n",
      "x: \n",
      "[517 529 538 ...  54  45  46]\n",
      "sr_orig: 44100\n",
      "y: \n",
      "[10088 10576 10051 ...   359   395   385]\n"
     ]
    },
    {
     "name": "stderr",
     "output_type": "stream",
     "text": [
      "\r",
      " 30%|███████████████████████▋                                                        | 181/612 [01:43<04:06,  1.75it/s]"
     ]
    },
    {
     "name": "stdout",
     "output_type": "stream",
     "text": [
      "index: 181\n",
      "row: \n",
      "filename      EFAF2011A021.WAV\n",
      "start                 80381762\n",
      "duration                167792\n",
      "type                    rumble\n",
      "background                   0\n",
      "Name: 181, dtype: object\n",
      "source filename: EFAF2011A021.WAV\n",
      ".\\adventureswithelephants_dataset\\wavs\\all\\efaf2011a021.wav\n",
      "x: \n",
      "[517 529 538 ...  54  45  46]\n",
      "sr_orig: 44100\n",
      "y: \n",
      "[-2089 -2052 -1766 ...   498   519   483]\n"
     ]
    },
    {
     "name": "stderr",
     "output_type": "stream",
     "text": [
      "\r",
      " 30%|███████████████████████▊                                                        | 182/612 [01:43<04:05,  1.75it/s]"
     ]
    },
    {
     "name": "stdout",
     "output_type": "stream",
     "text": [
      "index: 182\n",
      "row: \n",
      "filename      EFAF2011A021.WAV\n",
      "start                 80586942\n",
      "duration                115811\n",
      "type                    rumble\n",
      "background                   0\n",
      "Name: 182, dtype: object\n",
      "source filename: EFAF2011A021.WAV\n",
      ".\\adventureswithelephants_dataset\\wavs\\all\\efaf2011a021.wav\n",
      "x: \n",
      "[517 529 538 ...  54  45  46]\n",
      "sr_orig: 44100\n",
      "y: \n",
      "[218 203 186 ...  64  79  77]\n"
     ]
    },
    {
     "name": "stderr",
     "output_type": "stream",
     "text": [
      "\r",
      " 30%|███████████████████████▉                                                        | 183/612 [01:44<04:04,  1.76it/s]"
     ]
    },
    {
     "name": "stdout",
     "output_type": "stream",
     "text": [
      "index: 183\n",
      "row: \n",
      "filename      EFAF2011A021.WAV\n",
      "start                 80704490\n",
      "duration                 64726\n",
      "type                    rumble\n",
      "background                   0\n",
      "Name: 183, dtype: object\n",
      "source filename: EFAF2011A021.WAV\n",
      ".\\adventureswithelephants_dataset\\wavs\\all\\efaf2011a021.wav\n",
      "x: \n",
      "[517 529 538 ...  54  45  46]\n",
      "sr_orig: 44100\n",
      "y: \n",
      "[-251 -280 -267 ...  -47  -66  -74]\n"
     ]
    },
    {
     "name": "stderr",
     "output_type": "stream",
     "text": [
      "\r",
      " 30%|████████████████████████                                                        | 184/612 [01:44<04:03,  1.76it/s]"
     ]
    },
    {
     "name": "stdout",
     "output_type": "stream",
     "text": [
      "index: 184\n",
      "row: \n",
      "filename      EFAF2011A021.WAV\n",
      "start                 80806202\n",
      "duration                 60528\n",
      "type                    rumble\n",
      "background                   0\n",
      "Name: 184, dtype: object\n",
      "source filename: EFAF2011A021.WAV\n",
      ".\\adventureswithelephants_dataset\\wavs\\all\\efaf2011a021.wav\n",
      "x: \n",
      "[517 529 538 ...  54  45  46]\n",
      "sr_orig: 44100\n",
      "y: \n",
      "[ 96 251 433 ... -85 -92 -89]\n"
     ]
    },
    {
     "name": "stderr",
     "output_type": "stream",
     "text": [
      "\r",
      " 30%|████████████████████████▏                                                       | 185/612 [01:45<04:02,  1.76it/s]"
     ]
    },
    {
     "name": "stdout",
     "output_type": "stream",
     "text": [
      "index: 185\n",
      "row: \n",
      "filename      EFAF2011A021.WAV\n",
      "start                 80866730\n",
      "duration                158036\n",
      "type                    rumble\n",
      "background                   0\n",
      "Name: 185, dtype: object\n",
      "source filename: EFAF2011A021.WAV\n",
      ".\\adventureswithelephants_dataset\\wavs\\all\\efaf2011a021.wav\n",
      "x: \n",
      "[517 529 538 ...  54  45  46]\n",
      "sr_orig: 44100\n",
      "y: \n",
      "[-226 -240 -219 ...    0    1    0]\n"
     ]
    },
    {
     "name": "stderr",
     "output_type": "stream",
     "text": [
      "\r",
      " 30%|████████████████████████▎                                                       | 186/612 [01:45<04:02,  1.76it/s]"
     ]
    },
    {
     "name": "stdout",
     "output_type": "stream",
     "text": [
      "index: 186\n",
      "row: \n",
      "filename      EFAF2011A021.WAV\n",
      "start                 80833946\n",
      "duration                174005\n",
      "type                    rumble\n",
      "background                   0\n",
      "Name: 186, dtype: object\n",
      "source filename: EFAF2011A021.WAV\n",
      ".\\adventureswithelephants_dataset\\wavs\\all\\efaf2011a021.wav\n",
      "x: \n",
      "[517 529 538 ...  54  45  46]\n",
      "sr_orig: 44100\n",
      "y: \n",
      "[ 993 1043  979 ...   -9  -15  -16]\n"
     ]
    },
    {
     "name": "stderr",
     "output_type": "stream",
     "text": [
      "\r",
      " 31%|████████████████████████▍                                                       | 187/612 [01:46<04:01,  1.76it/s]"
     ]
    },
    {
     "name": "stdout",
     "output_type": "stream",
     "text": [
      "index: 187\n",
      "row: \n",
      "filename      EFAF2011A021.WAV\n",
      "start                 81023924\n",
      "duration                222762\n",
      "type                    rumble\n",
      "background                   0\n",
      "Name: 187, dtype: object\n",
      "source filename: EFAF2011A021.WAV\n",
      ".\\adventureswithelephants_dataset\\wavs\\all\\efaf2011a021.wav\n",
      "x: \n",
      "[517 529 538 ...  54  45  46]\n",
      "sr_orig: 44100\n",
      "y: \n",
      "[-46 -46 -31 ... -82 -87 -74]\n"
     ]
    },
    {
     "name": "stderr",
     "output_type": "stream",
     "text": [
      "\r",
      " 31%|████████████████████████▌                                                       | 188/612 [01:46<04:00,  1.76it/s]"
     ]
    },
    {
     "name": "stdout",
     "output_type": "stream",
     "text": [
      "index: 188\n",
      "row: \n",
      "filename      EFAF2011A021.WAV\n",
      "start                 81696083\n",
      "duration                256040\n",
      "type                    rumble\n",
      "background                   1\n",
      "Name: 188, dtype: object\n",
      "source filename: EFAF2011A021.WAV\n",
      ".\\adventureswithelephants_dataset\\wavs\\all\\efaf2011a021.wav\n",
      "x: \n",
      "[517 529 538 ...  54  45  46]\n",
      "sr_orig: 44100\n",
      "y: \n",
      "[23 32 35 ... 53 51 44]\n",
      "yb class: [-236 -252 -240 ...   20   20   23]\n"
     ]
    },
    {
     "name": "stderr",
     "output_type": "stream",
     "text": [
      "\r",
      " 31%|████████████████████████▋                                                       | 189/612 [01:47<04:00,  1.76it/s]"
     ]
    },
    {
     "name": "stdout",
     "output_type": "stream",
     "text": [
      "index: 189\n",
      "row: \n",
      "filename      EFAF2011A021.WAV\n",
      "start                 82700024\n",
      "duration                181921\n",
      "type                    rumble\n",
      "background                   1\n",
      "Name: 189, dtype: object\n",
      "source filename: EFAF2011A021.WAV\n",
      ".\\adventureswithelephants_dataset\\wavs\\all\\efaf2011a021.wav\n",
      "x: \n",
      "[517 529 538 ...  54  45  46]\n",
      "sr_orig: 44100\n",
      "y: \n",
      "[-209 -221 -215 ...   35   43   37]\n",
      "yb class: [   0    0    0 ... -204 -217 -207]\n"
     ]
    },
    {
     "name": "stderr",
     "output_type": "stream",
     "text": [
      "\r",
      " 31%|████████████████████████▊                                                       | 190/612 [01:48<04:00,  1.75it/s]"
     ]
    },
    {
     "name": "stdout",
     "output_type": "stream",
     "text": [
      "index: 190\n",
      "row: \n",
      "filename      EFAF2011A021.WAV\n",
      "start                 86756611\n",
      "duration                406655\n",
      "type                    rumble\n",
      "background                   1\n",
      "Name: 190, dtype: object\n",
      "source filename: EFAF2011A021.WAV\n",
      ".\\adventureswithelephants_dataset\\wavs\\all\\efaf2011a021.wav\n",
      "x: \n",
      "[517 529 538 ...  54  45  46]\n",
      "sr_orig: 44100\n",
      "y: \n",
      "[115 121 116 ... -17 -16 -11]\n",
      "yb class: [  0   0   0 ... 106 118 115]\n"
     ]
    },
    {
     "name": "stderr",
     "output_type": "stream",
     "text": [
      "\r",
      " 31%|████████████████████████▉                                                       | 191/612 [01:49<04:00,  1.75it/s]"
     ]
    },
    {
     "name": "stdout",
     "output_type": "stream",
     "text": [
      "index: 191\n",
      "row: \n",
      "filename      EFAF2011A021.WAV\n",
      "start                 87438031\n",
      "duration                274769\n",
      "type                    rumble\n",
      "background                   0\n",
      "Name: 191, dtype: object\n",
      "source filename: EFAF2011A021.WAV\n",
      ".\\adventureswithelephants_dataset\\wavs\\all\\efaf2011a021.wav\n",
      "x: \n",
      "[517 529 538 ...  54  45  46]\n",
      "sr_orig: 44100\n",
      "y: \n",
      "[  53   56   49 ... -247 -258 -247]\n"
     ]
    },
    {
     "name": "stderr",
     "output_type": "stream",
     "text": [
      "\r",
      " 31%|█████████████████████████                                                       | 192/612 [01:49<03:59,  1.75it/s]"
     ]
    },
    {
     "name": "stdout",
     "output_type": "stream",
     "text": [
      "index: 192\n",
      "row: \n",
      "filename      EFAF2011A021.WAV\n",
      "start                 44400466\n",
      "duration                107511\n",
      "type                    rumble\n",
      "background                   0\n",
      "Name: 192, dtype: object\n",
      "source filename: EFAF2011A021.WAV\n",
      ".\\adventureswithelephants_dataset\\wavs\\all\\efaf2011a021.wav\n",
      "x: \n",
      "[517 529 538 ...  54  45  46]\n",
      "sr_orig: 44100\n",
      "y: \n",
      "[113 121 136 ...  31  20  21]\n"
     ]
    },
    {
     "name": "stderr",
     "output_type": "stream",
     "text": [
      "\r",
      " 32%|█████████████████████████▏                                                      | 193/612 [01:50<03:59,  1.75it/s]"
     ]
    },
    {
     "name": "stdout",
     "output_type": "stream",
     "text": [
      "index: 193\n",
      "row: \n",
      "filename      EFAF2011A021.WAV\n",
      "start                 56903844\n",
      "duration                 78392\n",
      "type                    rumble\n",
      "background                   1\n",
      "Name: 193, dtype: object\n",
      "source filename: EFAF2011A021.WAV\n",
      ".\\adventureswithelephants_dataset\\wavs\\all\\efaf2011a021.wav\n",
      "x: \n",
      "[517 529 538 ...  54  45  46]\n",
      "sr_orig: 44100\n",
      "y: \n",
      "[ -64  -42  -62 ... -181 -212 -229]\n",
      "yb class: [ 194  207  223 ...  -74 -102  -64]\n"
     ]
    },
    {
     "name": "stderr",
     "output_type": "stream",
     "text": [
      "\r",
      " 32%|█████████████████████████▎                                                      | 194/612 [01:50<03:59,  1.75it/s]"
     ]
    },
    {
     "name": "stdout",
     "output_type": "stream",
     "text": [
      "index: 194\n",
      "row: \n",
      "filename      EFAF2011A022.WAV\n",
      "start                  4741742\n",
      "duration                123740\n",
      "type                    rumble\n",
      "background                   0\n",
      "Name: 194, dtype: object\n",
      "source filename: EFAF2011A022.WAV\n",
      ".\\adventureswithelephants_dataset\\wavs\\all\\efaf2011a022.wav\n",
      "x: \n",
      "[49 64 81 ... 58 56 55]\n",
      "sr_orig: 44100\n",
      "y: \n",
      "[ 0  0  0 ...  0 -1  0]\n"
     ]
    },
    {
     "name": "stderr",
     "output_type": "stream",
     "text": [
      "\r",
      " 32%|█████████████████████████▍                                                      | 195/612 [01:51<03:58,  1.75it/s]"
     ]
    },
    {
     "name": "stdout",
     "output_type": "stream",
     "text": [
      "index: 195\n",
      "row: \n",
      "filename      EFAF2011A022.WAV\n",
      "start                  5660036\n",
      "duration                143281\n",
      "type                    rumble\n",
      "background                   1\n",
      "Name: 195, dtype: object\n",
      "source filename: EFAF2011A022.WAV\n",
      ".\\adventureswithelephants_dataset\\wavs\\all\\efaf2011a022.wav\n",
      "x: \n",
      "[49 64 81 ... 58 56 55]\n",
      "sr_orig: 44100\n",
      "y: \n",
      "[106 117 112 ... -40 -46 -45]\n",
      "yb class: [ 43  51  45 ... 103 110 102]\n"
     ]
    },
    {
     "name": "stderr",
     "output_type": "stream",
     "text": [
      "\r",
      " 32%|█████████████████████████▌                                                      | 196/612 [01:52<03:57,  1.75it/s]"
     ]
    },
    {
     "name": "stdout",
     "output_type": "stream",
     "text": [
      "index: 196\n",
      "row: \n",
      "filename      EFAF2011A022.WAV\n",
      "start                  7203554\n",
      "duration                130253\n",
      "type                    rumble\n",
      "background                   1\n",
      "Name: 196, dtype: object\n",
      "source filename: EFAF2011A022.WAV\n",
      ".\\adventureswithelephants_dataset\\wavs\\all\\efaf2011a022.wav\n",
      "x: \n",
      "[49 64 81 ... 58 56 55]\n",
      "sr_orig: 44100\n",
      "y: \n",
      "[-26 -32 -26 ... -52 -54 -52]\n",
      "yb class: [ -4   0   0 ... -31 -35 -28]\n"
     ]
    },
    {
     "name": "stderr",
     "output_type": "stream",
     "text": [
      "\r",
      " 32%|█████████████████████████▊                                                      | 197/612 [01:52<03:57,  1.75it/s]"
     ]
    },
    {
     "name": "stdout",
     "output_type": "stream",
     "text": [
      "index: 197\n",
      "row: \n",
      "filename      EFAF2011A022.WAV\n",
      "start                  9157369\n",
      "duration                143281\n",
      "type                    rumble\n",
      "background                   1\n",
      "Name: 197, dtype: object\n",
      "source filename: EFAF2011A022.WAV\n",
      ".\\adventureswithelephants_dataset\\wavs\\all\\efaf2011a022.wav\n",
      "x: \n",
      "[49 64 81 ... 58 56 55]\n",
      "sr_orig: 44100\n",
      "y: \n",
      "[-128 -134 -127 ...  -14  -21  -18]\n",
      "yb class: [   0    0    0 ... -128 -138 -126]\n"
     ]
    },
    {
     "name": "stderr",
     "output_type": "stream",
     "text": [
      "\r",
      " 32%|█████████████████████████▉                                                      | 198/612 [01:53<03:57,  1.74it/s]"
     ]
    },
    {
     "name": "stdout",
     "output_type": "stream",
     "text": [
      "index: 198\n",
      "row: \n",
      "filename      EFAF2011A022.WAV\n",
      "start                 10192894\n",
      "duration                149790\n",
      "type                    rumble\n",
      "background                   1\n",
      "Name: 198, dtype: object\n",
      "source filename: EFAF2011A022.WAV\n",
      ".\\adventureswithelephants_dataset\\wavs\\all\\efaf2011a022.wav\n",
      "x: \n",
      "[49 64 81 ... 58 56 55]\n",
      "sr_orig: 44100\n",
      "y: \n",
      "[191 204 197 ...  36  41  41]\n",
      "yb class: [-62 -66 -62 ... 187 198 190]\n"
     ]
    },
    {
     "name": "stderr",
     "output_type": "stream",
     "text": [
      "\r",
      " 33%|██████████████████████████                                                      | 199/612 [01:54<03:57,  1.74it/s]"
     ]
    },
    {
     "name": "stdout",
     "output_type": "stream",
     "text": [
      "index: 199\n",
      "row: \n",
      "filename      EFAF2011A022.WAV\n",
      "start                 10935344\n",
      "duration                175845\n",
      "type                    rumble\n",
      "background                   1\n",
      "Name: 199, dtype: object\n",
      "source filename: EFAF2011A022.WAV\n",
      ".\\adventureswithelephants_dataset\\wavs\\all\\efaf2011a022.wav\n",
      "x: \n",
      "[49 64 81 ... 58 56 55]\n",
      "sr_orig: 44100\n",
      "y: \n",
      "[ 0  0  0 ... 40 44 39]\n",
      "yb class: [65 69 58 ...  0 -1  0]\n"
     ]
    },
    {
     "name": "stderr",
     "output_type": "stream",
     "text": [
      "\r",
      " 33%|██████████████████████████▏                                                     | 200/612 [01:55<03:57,  1.73it/s]"
     ]
    },
    {
     "name": "stdout",
     "output_type": "stream",
     "text": [
      "index: 200\n",
      "row: \n",
      "filename      EFAF2011A022.WAV\n",
      "start                 12452808\n",
      "duration                182357\n",
      "type                    rumble\n",
      "background                   1\n",
      "Name: 200, dtype: object\n",
      "source filename: EFAF2011A022.WAV\n",
      ".\\adventureswithelephants_dataset\\wavs\\all\\efaf2011a022.wav\n",
      "x: \n",
      "[49 64 81 ... 58 56 55]\n",
      "sr_orig: 44100\n",
      "y: \n",
      "[13 21 19 ... 67 74 72]\n",
      "yb class: [ 8  7  7 ...  2 11 12]\n"
     ]
    },
    {
     "name": "stderr",
     "output_type": "stream",
     "text": [
      "\r",
      " 33%|██████████████████████████▎                                                     | 201/612 [01:56<03:58,  1.73it/s]"
     ]
    },
    {
     "name": "stdout",
     "output_type": "stream",
     "text": [
      "index: 201\n",
      "row: \n",
      "filename      EFAF2011A022.WAV\n",
      "start                 15315343\n",
      "duration                166217\n",
      "type                    rumble\n",
      "background                   1\n",
      "Name: 201, dtype: object\n",
      "source filename: EFAF2011A022.WAV\n",
      ".\\adventureswithelephants_dataset\\wavs\\all\\efaf2011a022.wav\n",
      "x: \n",
      "[49 64 81 ... 58 56 55]\n",
      "sr_orig: 44100\n",
      "y: \n",
      "[ 86  95  91 ... -24 -27 -25]\n",
      "yb class: [32 36 35 ... 82 92 87]\n"
     ]
    },
    {
     "name": "stderr",
     "output_type": "stream",
     "text": [
      "\r",
      " 33%|██████████████████████████▍                                                     | 202/612 [01:57<03:57,  1.72it/s]"
     ]
    },
    {
     "name": "stdout",
     "output_type": "stream",
     "text": [
      "index: 202\n",
      "row: \n",
      "filename      EFAF2011A022.WAV\n",
      "start                 17108497\n",
      "duration                 72373\n",
      "type                    rumble\n",
      "background                   1\n",
      "Name: 202, dtype: object\n",
      "source filename: EFAF2011A022.WAV\n",
      ".\\adventureswithelephants_dataset\\wavs\\all\\efaf2011a022.wav\n",
      "x: \n",
      "[49 64 81 ... 58 56 55]\n",
      "sr_orig: 44100\n",
      "y: \n",
      "[ 0  0  0 ... 11 13 12]\n",
      "yb class: [-24 -10  -3 ...   0   0   0]\n"
     ]
    },
    {
     "name": "stderr",
     "output_type": "stream",
     "text": [
      "\r",
      " 33%|██████████████████████████▌                                                     | 203/612 [01:58<03:57,  1.72it/s]"
     ]
    },
    {
     "name": "stdout",
     "output_type": "stream",
     "text": [
      "index: 203\n",
      "row: \n",
      "filename      EFAF2011A022.WAV\n",
      "start                 18984926\n",
      "duration                166217\n",
      "type                    rumble\n",
      "background                   1\n",
      "Name: 203, dtype: object\n",
      "source filename: EFAF2011A022.WAV\n",
      ".\\adventureswithelephants_dataset\\wavs\\all\\efaf2011a022.wav\n",
      "x: \n",
      "[49 64 81 ... 58 56 55]\n",
      "sr_orig: 44100\n",
      "y: \n",
      "[-21 -29 -34 ...  52  54  45]\n",
      "yb class: [  3   4   0 ...  -3 -11 -18]\n"
     ]
    },
    {
     "name": "stderr",
     "output_type": "stream",
     "text": [
      "\r",
      " 33%|██████████████████████████▋                                                     | 204/612 [01:58<03:57,  1.72it/s]"
     ]
    },
    {
     "name": "stdout",
     "output_type": "stream",
     "text": [
      "index: 204\n",
      "row: \n",
      "filename      EFAF2011A022.WAV\n",
      "start                 19995019\n",
      "duration                217364\n",
      "type                    rumble\n",
      "background                   1\n",
      "Name: 204, dtype: object\n",
      "source filename: EFAF2011A022.WAV\n",
      ".\\adventureswithelephants_dataset\\wavs\\all\\efaf2011a022.wav\n",
      "x: \n",
      "[49 64 81 ... 58 56 55]\n",
      "sr_orig: 44100\n",
      "y: \n",
      "[  0   0   0 ...  93 107  98]\n",
      "yb class: [-19 -19 -16 ...   0   0   0]\n"
     ]
    },
    {
     "name": "stderr",
     "output_type": "stream",
     "text": [
      "\r",
      " 33%|██████████████████████████▊                                                     | 205/612 [01:59<03:57,  1.71it/s]"
     ]
    },
    {
     "name": "stdout",
     "output_type": "stream",
     "text": [
      "index: 205\n",
      "row: \n",
      "filename      EFAF2011A022.WAV\n",
      "start                 21145760\n",
      "duration                166217\n",
      "type                    rumble\n",
      "background                   1\n",
      "Name: 205, dtype: object\n",
      "source filename: EFAF2011A022.WAV\n",
      ".\\adventureswithelephants_dataset\\wavs\\all\\efaf2011a022.wav\n",
      "x: \n",
      "[49 64 81 ... 58 56 55]\n",
      "sr_orig: 44100\n",
      "y: \n",
      "[4 0 0 ... 0 0 0]\n",
      "yb class: [-5 -5 -2 ... 17 13  6]\n"
     ]
    },
    {
     "name": "stderr",
     "output_type": "stream",
     "text": [
      "\r",
      " 34%|██████████████████████████▉                                                     | 206/612 [02:00<03:57,  1.71it/s]"
     ]
    },
    {
     "name": "stdout",
     "output_type": "stream",
     "text": [
      "index: 206\n",
      "row: \n",
      "filename      EFAF2011A022.WAV\n",
      "start                 23240082\n",
      "duration                161622\n",
      "type                    rumble\n",
      "background                   1\n",
      "Name: 206, dtype: object\n",
      "source filename: EFAF2011A022.WAV\n",
      ".\\adventureswithelephants_dataset\\wavs\\all\\efaf2011a022.wav\n",
      "x: \n",
      "[49 64 81 ... 58 56 55]\n",
      "sr_orig: 44100\n",
      "y: \n",
      "[-259 -276 -260 ...  294  319  311]\n",
      "yb class: [-279 -274 -227 ... -262 -277 -261]\n"
     ]
    },
    {
     "name": "stderr",
     "output_type": "stream",
     "text": [
      "\r",
      " 34%|███████████████████████████                                                     | 207/612 [02:01<03:57,  1.71it/s]"
     ]
    },
    {
     "name": "stdout",
     "output_type": "stream",
     "text": [
      "index: 207\n",
      "row: \n",
      "filename      EFAF2011A022.WAV\n",
      "start                 24231357\n",
      "duration                150845\n",
      "type                    rumble\n",
      "background                   1\n",
      "Name: 207, dtype: object\n",
      "source filename: EFAF2011A022.WAV\n",
      ".\\adventureswithelephants_dataset\\wavs\\all\\efaf2011a022.wav\n",
      "x: \n",
      "[49 64 81 ... 58 56 55]\n",
      "sr_orig: 44100\n",
      "y: \n",
      "[-153 -163 -151 ... -141 -152 -144]\n",
      "yb class: [ -53  -72  -88 ... -151 -160 -151]\n"
     ]
    },
    {
     "name": "stderr",
     "output_type": "stream",
     "text": [
      "\r",
      " 34%|███████████████████████████▏                                                    | 208/612 [02:01<03:56,  1.71it/s]"
     ]
    },
    {
     "name": "stdout",
     "output_type": "stream",
     "text": [
      "index: 208\n",
      "row: \n",
      "filename      EFAF2011A022.WAV\n",
      "start                 27773368\n",
      "duration                147497\n",
      "type                    rumble\n",
      "background                   1\n",
      "Name: 208, dtype: object\n",
      "source filename: EFAF2011A022.WAV\n",
      ".\\adventureswithelephants_dataset\\wavs\\all\\efaf2011a022.wav\n",
      "x: \n",
      "[49 64 81 ... 58 56 55]\n",
      "sr_orig: 44100\n",
      "y: \n",
      "[  0   0   0 ... 119 146 150]\n",
      "yb class: [0 0 0 ... 0 0 0]\n"
     ]
    },
    {
     "name": "stderr",
     "output_type": "stream",
     "text": [
      "\r",
      " 34%|███████████████████████████▎                                                    | 209/612 [02:02<03:56,  1.70it/s]"
     ]
    },
    {
     "name": "stdout",
     "output_type": "stream",
     "text": [
      "index: 209\n",
      "row: \n",
      "filename      EFAF2011A022.WAV\n",
      "start                 33112105\n",
      "duration                128186\n",
      "type                    rumble\n",
      "background                   1\n",
      "Name: 209, dtype: object\n",
      "source filename: EFAF2011A022.WAV\n",
      ".\\adventureswithelephants_dataset\\wavs\\all\\efaf2011a022.wav\n",
      "x: \n",
      "[49 64 81 ... 58 56 55]\n",
      "sr_orig: 44100\n",
      "y: \n",
      "[117  84  32 ...   0   1   0]\n",
      "yb class: [  6   8   8 ... 236 181 121]\n"
     ]
    },
    {
     "name": "stderr",
     "output_type": "stream",
     "text": [
      "\r",
      " 34%|███████████████████████████▍                                                    | 210/612 [02:03<03:56,  1.70it/s]"
     ]
    },
    {
     "name": "stdout",
     "output_type": "stream",
     "text": [
      "index: 210\n",
      "row: \n",
      "filename      EFAF2011A022.WAV\n",
      "start                 33176566\n",
      "duration                213885\n",
      "type                    rumble\n",
      "background                   0\n",
      "Name: 210, dtype: object\n",
      "source filename: EFAF2011A022.WAV\n",
      ".\\adventureswithelephants_dataset\\wavs\\all\\efaf2011a022.wav\n",
      "x: \n",
      "[49 64 81 ... 58 56 55]\n",
      "sr_orig: 44100\n",
      "y: \n",
      "[4938 5635 5875 ...  -62  -72  -70]\n"
     ]
    },
    {
     "name": "stderr",
     "output_type": "stream",
     "text": [
      "\r",
      " 34%|███████████████████████████▌                                                    | 211/612 [02:03<03:55,  1.70it/s]"
     ]
    },
    {
     "name": "stdout",
     "output_type": "stream",
     "text": [
      "index: 211\n",
      "row: \n",
      "filename      EFAF2011A022.WAV\n",
      "start                 33398508\n",
      "duration                 97422\n",
      "type                    rumble\n",
      "background                   0\n",
      "Name: 211, dtype: object\n",
      "source filename: EFAF2011A022.WAV\n",
      ".\\adventureswithelephants_dataset\\wavs\\all\\efaf2011a022.wav\n",
      "x: \n",
      "[49 64 81 ... 58 56 55]\n",
      "sr_orig: 44100\n",
      "y: \n",
      "[-46 -49 -52 ...   0   0   0]\n"
     ]
    },
    {
     "name": "stderr",
     "output_type": "stream",
     "text": [
      "\r",
      " 35%|███████████████████████████▋                                                    | 212/612 [02:04<03:54,  1.71it/s]"
     ]
    },
    {
     "name": "stdout",
     "output_type": "stream",
     "text": [
      "index: 212\n",
      "row: \n",
      "filename      EFAF2011A023.WAV\n",
      "start                   219626\n",
      "duration                102431\n",
      "type                    rumble\n",
      "background                   0\n",
      "Name: 212, dtype: object\n",
      "source filename: EFAF2011A023.WAV\n",
      ".\\adventureswithelephants_dataset\\wavs\\all\\efaf2011a023.wav\n",
      "x: \n",
      "[  29   27   27 ... -343 -365 -328]\n",
      "sr_orig: 44100\n",
      "y: \n",
      "[ 57  63  60 ... -25 -28 -24]\n"
     ]
    },
    {
     "name": "stderr",
     "output_type": "stream",
     "text": [
      "\r",
      " 35%|███████████████████████████▊                                                    | 213/612 [02:04<03:53,  1.71it/s]"
     ]
    },
    {
     "name": "stdout",
     "output_type": "stream",
     "text": [
      "index: 213\n",
      "row: \n",
      "filename      EFAF2011A023.WAV\n",
      "start                  1575366\n",
      "duration                120512\n",
      "type                    rumble\n",
      "background                   1\n",
      "Name: 213, dtype: object\n",
      "source filename: EFAF2011A023.WAV\n",
      ".\\adventureswithelephants_dataset\\wavs\\all\\efaf2011a023.wav\n",
      "x: \n",
      "[  29   27   27 ... -343 -365 -328]\n",
      "sr_orig: 44100\n",
      "y: \n",
      "[203 217 206 ...   0   0   0]\n",
      "yb class: [ 52  54  50 ... 198 211 205]\n"
     ]
    },
    {
     "name": "stderr",
     "output_type": "stream",
     "text": [
      "\r",
      " 35%|███████████████████████████▉                                                    | 214/612 [02:05<03:53,  1.71it/s]"
     ]
    },
    {
     "name": "stdout",
     "output_type": "stream",
     "text": [
      "index: 214\n",
      "row: \n",
      "filename      EFAF2011A023.WAV\n",
      "start                  2015228\n",
      "duration                174742\n",
      "type                    rumble\n",
      "background                   0\n",
      "Name: 214, dtype: object\n",
      "source filename: EFAF2011A023.WAV\n",
      ".\\adventureswithelephants_dataset\\wavs\\all\\efaf2011a023.wav\n",
      "x: \n",
      "[  29   27   27 ... -343 -365 -328]\n",
      "sr_orig: 44100\n",
      "y: \n",
      "[ 47  52  46 ... -29 -37 -33]\n"
     ]
    },
    {
     "name": "stderr",
     "output_type": "stream",
     "text": [
      "\r",
      " 35%|████████████████████████████                                                    | 215/612 [02:05<03:52,  1.71it/s]"
     ]
    },
    {
     "name": "stdout",
     "output_type": "stream",
     "text": [
      "index: 215\n",
      "row: \n",
      "filename      EFAF2011A023.WAV\n",
      "start                  2394837\n",
      "duration                102435\n",
      "type                    rumble\n",
      "background                   0\n",
      "Name: 215, dtype: object\n",
      "source filename: EFAF2011A023.WAV\n",
      ".\\adventureswithelephants_dataset\\wavs\\all\\efaf2011a023.wav\n",
      "x: \n",
      "[  29   27   27 ... -343 -365 -328]\n",
      "sr_orig: 44100\n",
      "y: \n",
      "[ 0  0  0 ...  0 -1  0]\n"
     ]
    },
    {
     "name": "stderr",
     "output_type": "stream",
     "text": [
      "\r",
      " 35%|████████████████████████████▏                                                   | 216/612 [02:06<03:51,  1.71it/s]"
     ]
    },
    {
     "name": "stdout",
     "output_type": "stream",
     "text": [
      "index: 216\n",
      "row: \n",
      "filename      EFAF2011A023.WAV\n",
      "start                  3129953\n",
      "duration                 90383\n",
      "type                    rumble\n",
      "background                   1\n",
      "Name: 216, dtype: object\n",
      "source filename: EFAF2011A023.WAV\n",
      ".\\adventureswithelephants_dataset\\wavs\\all\\efaf2011a023.wav\n",
      "x: \n",
      "[  29   27   27 ... -343 -365 -328]\n",
      "sr_orig: 44100\n",
      "y: \n",
      "[ 0  0  0 ... -8 -8 -8]\n",
      "yb class: [117 125 115 ...   0   0   0]\n"
     ]
    },
    {
     "name": "stderr",
     "output_type": "stream",
     "text": [
      "\r",
      " 35%|████████████████████████████▎                                                   | 217/612 [02:07<03:51,  1.71it/s]"
     ]
    },
    {
     "name": "stdout",
     "output_type": "stream",
     "text": [
      "index: 217\n",
      "row: \n",
      "filename      EFAF2011A023.WAV\n",
      "start                  5202732\n",
      "duration                120508\n",
      "type                    rumble\n",
      "background                   1\n",
      "Name: 217, dtype: object\n",
      "source filename: EFAF2011A023.WAV\n",
      ".\\adventureswithelephants_dataset\\wavs\\all\\efaf2011a023.wav\n",
      "x: \n",
      "[  29   27   27 ... -343 -365 -328]\n",
      "sr_orig: 44100\n",
      "y: \n",
      "[167 176 164 ...   0   0   0]\n",
      "yb class: [-11 -21 -14 ... 175 184 170]\n"
     ]
    },
    {
     "name": "stderr",
     "output_type": "stream",
     "text": [
      "\r",
      " 36%|████████████████████████████▍                                                   | 218/612 [02:07<03:51,  1.70it/s]"
     ]
    },
    {
     "name": "stdout",
     "output_type": "stream",
     "text": [
      "index: 218\n",
      "row: \n",
      "filename      EFAF2011A023.WAV\n",
      "start                  7118846\n",
      "duration                132561\n",
      "type                    rumble\n",
      "background                   1\n",
      "Name: 218, dtype: object\n",
      "source filename: EFAF2011A023.WAV\n",
      ".\\adventureswithelephants_dataset\\wavs\\all\\efaf2011a023.wav\n",
      "x: \n",
      "[  29   27   27 ... -343 -365 -328]\n",
      "sr_orig: 44100\n",
      "y: \n",
      "[ -8 -10  -4 ...  38  46  46]\n",
      "yb class: [-186 -196 -187 ...  -11  -11   -9]\n"
     ]
    },
    {
     "name": "stderr",
     "output_type": "stream",
     "text": [
      "\r",
      " 36%|████████████████████████████▋                                                   | 219/612 [02:08<03:50,  1.70it/s]"
     ]
    },
    {
     "name": "stdout",
     "output_type": "stream",
     "text": [
      "index: 219\n",
      "row: \n",
      "filename      EFAF2011A023.WAV\n",
      "start                  9731379\n",
      "duration                100923\n",
      "type                    rumble\n",
      "background                   1\n",
      "Name: 219, dtype: object\n",
      "source filename: EFAF2011A023.WAV\n",
      ".\\adventureswithelephants_dataset\\wavs\\all\\efaf2011a023.wav\n",
      "x: \n",
      "[  29   27   27 ... -343 -365 -328]\n",
      "sr_orig: 44100\n",
      "y: \n",
      "[ 9 11  9 ... 42 52 55]\n",
      "yb class: [0 0 0 ... 8 8 8]\n"
     ]
    },
    {
     "name": "stderr",
     "output_type": "stream",
     "text": [
      "\r",
      " 36%|████████████████████████████▊                                                   | 220/612 [02:09<03:50,  1.70it/s]"
     ]
    },
    {
     "name": "stdout",
     "output_type": "stream",
     "text": [
      "index: 220\n",
      "row: \n",
      "filename      EFAF2011A023.WAV\n",
      "start                 11144334\n",
      "duration                106237\n",
      "type                    rumble\n",
      "background                   1\n",
      "Name: 220, dtype: object\n",
      "source filename: EFAF2011A023.WAV\n",
      ".\\adventureswithelephants_dataset\\wavs\\all\\efaf2011a023.wav\n",
      "x: \n",
      "[  29   27   27 ... -343 -365 -328]\n",
      "sr_orig: 44100\n",
      "y: \n",
      "[  0   0   0 ... -17 -21 -21]\n",
      "yb class: [ 0  0  0 ...  0 -1  0]\n"
     ]
    },
    {
     "name": "stderr",
     "output_type": "stream",
     "text": [
      "\r",
      " 36%|████████████████████████████▉                                                   | 221/612 [02:10<03:50,  1.70it/s]"
     ]
    },
    {
     "name": "stdout",
     "output_type": "stream",
     "text": [
      "index: 221\n",
      "row: \n",
      "filename      EFAF2011A023.WAV\n",
      "start                 12783046\n",
      "duration                177948\n",
      "type                    rumble\n",
      "background                   1\n",
      "Name: 221, dtype: object\n",
      "source filename: EFAF2011A023.WAV\n",
      ".\\adventureswithelephants_dataset\\wavs\\all\\efaf2011a023.wav\n",
      "x: \n",
      "[  29   27   27 ... -343 -365 -328]\n",
      "sr_orig: 44100\n",
      "y: \n",
      "[ 0  0  0 ... 38 49 44]\n",
      "yb class: [0 0 0 ... 0 1 0]\n"
     ]
    },
    {
     "name": "stderr",
     "output_type": "stream",
     "text": [
      "\r",
      " 36%|█████████████████████████████                                                   | 222/612 [02:11<03:50,  1.69it/s]"
     ]
    },
    {
     "name": "stdout",
     "output_type": "stream",
     "text": [
      "index: 222\n",
      "row: \n",
      "filename      EFAF2011A023.WAV\n",
      "start                 14523069\n",
      "duration                163245\n",
      "type                    rumble\n",
      "background                   1\n",
      "Name: 222, dtype: object\n",
      "source filename: EFAF2011A023.WAV\n",
      ".\\adventureswithelephants_dataset\\wavs\\all\\efaf2011a023.wav\n",
      "x: \n",
      "[  29   27   27 ... -343 -365 -328]\n",
      "sr_orig: 44100\n",
      "y: \n",
      "[-129 -138 -130 ...   24   27   23]\n",
      "yb class: [   0    0    0 ... -117 -132 -129]\n"
     ]
    },
    {
     "name": "stderr",
     "output_type": "stream",
     "text": [
      "\r",
      " 36%|█████████████████████████████▏                                                  | 223/612 [02:11<03:49,  1.69it/s]"
     ]
    },
    {
     "name": "stdout",
     "output_type": "stream",
     "text": [
      "index: 223\n",
      "row: \n",
      "filename      EFAF2011A023.WAV\n",
      "start                 15930728\n",
      "duration                112402\n",
      "type                    rumble\n",
      "background                   1\n",
      "Name: 223, dtype: object\n",
      "source filename: EFAF2011A023.WAV\n",
      ".\\adventureswithelephants_dataset\\wavs\\all\\efaf2011a023.wav\n",
      "x: \n",
      "[  29   27   27 ... -343 -365 -328]\n",
      "sr_orig: 44100\n",
      "y: \n",
      "[ -72  -82  -70 ... -641 -670 -635]\n",
      "yb class: [ 34  41  37 ... -79 -79 -70]\n"
     ]
    },
    {
     "name": "stderr",
     "output_type": "stream",
     "text": [
      "\r",
      " 37%|█████████████████████████████▎                                                  | 224/612 [02:12<03:49,  1.69it/s]"
     ]
    },
    {
     "name": "stdout",
     "output_type": "stream",
     "text": [
      "index: 224\n",
      "row: \n",
      "filename      EFAF2011A023.WAV\n",
      "start                 17555156\n",
      "duration                133808\n",
      "type                    rumble\n",
      "background                   1\n",
      "Name: 224, dtype: object\n",
      "source filename: EFAF2011A023.WAV\n",
      ".\\adventureswithelephants_dataset\\wavs\\all\\efaf2011a023.wav\n",
      "x: \n",
      "[  29   27   27 ... -343 -365 -328]\n",
      "sr_orig: 44100\n",
      "y: \n",
      "[179 188 174 ...   0   0   0]\n",
      "yb class: [-35 -40 -37 ... 182 195 180]\n"
     ]
    },
    {
     "name": "stderr",
     "output_type": "stream",
     "text": [
      "\r",
      " 37%|█████████████████████████████▍                                                  | 225/612 [02:13<03:49,  1.69it/s]"
     ]
    },
    {
     "name": "stdout",
     "output_type": "stream",
     "text": [
      "index: 225\n",
      "row: \n",
      "filename      EFAF2011A023.WAV\n",
      "start                 19408070\n",
      "duration                112539\n",
      "type                    rumble\n",
      "background                   1\n",
      "Name: 225, dtype: object\n",
      "source filename: EFAF2011A023.WAV\n",
      ".\\adventureswithelephants_dataset\\wavs\\all\\efaf2011a023.wav\n",
      "x: \n",
      "[  29   27   27 ... -343 -365 -328]\n",
      "sr_orig: 44100\n",
      "y: \n",
      "[  0   0   0 ... 171 188 189]\n",
      "yb class: [16 19 17 ...  0  1  0]\n"
     ]
    },
    {
     "name": "stderr",
     "output_type": "stream",
     "text": [
      "\r",
      " 37%|█████████████████████████████▌                                                  | 226/612 [02:14<03:48,  1.69it/s]"
     ]
    },
    {
     "name": "stdout",
     "output_type": "stream",
     "text": [
      "index: 226\n",
      "row: \n",
      "filename      EFAF2011A023.WAV\n",
      "start                 20843582\n",
      "duration                115040\n",
      "type                    rumble\n",
      "background                   1\n",
      "Name: 226, dtype: object\n",
      "source filename: EFAF2011A023.WAV\n",
      ".\\adventureswithelephants_dataset\\wavs\\all\\efaf2011a023.wav\n",
      "x: \n",
      "[  29   27   27 ... -343 -365 -328]\n",
      "sr_orig: 44100\n",
      "y: \n",
      "[89 95 86 ... 10 13  9]\n",
      "yb class: [ 0  0  0 ... 89 96 90]\n"
     ]
    },
    {
     "name": "stderr",
     "output_type": "stream",
     "text": [
      "\r",
      " 37%|█████████████████████████████▋                                                  | 227/612 [02:14<03:48,  1.68it/s]"
     ]
    },
    {
     "name": "stdout",
     "output_type": "stream",
     "text": [
      "index: 227\n",
      "row: \n",
      "filename      EFAF2011A023.WAV\n",
      "start                 23456243\n",
      "duration                156052\n",
      "type                    rumble\n",
      "background                   1\n",
      "Name: 227, dtype: object\n",
      "source filename: EFAF2011A023.WAV\n",
      ".\\adventureswithelephants_dataset\\wavs\\all\\efaf2011a023.wav\n",
      "x: \n",
      "[  29   27   27 ... -343 -365 -328]\n",
      "sr_orig: 44100\n",
      "y: \n",
      "[ 0  0  0 ... 87 92 84]\n",
      "yb class: [-85 -99 -94 ...   0   0   0]\n"
     ]
    },
    {
     "name": "stderr",
     "output_type": "stream",
     "text": [
      "\r",
      " 37%|█████████████████████████████▊                                                  | 228/612 [02:15<03:48,  1.68it/s]"
     ]
    },
    {
     "name": "stdout",
     "output_type": "stream",
     "text": [
      "index: 228\n",
      "row: \n",
      "filename      EFAF2011A023.WAV\n",
      "start                 23635412\n",
      "duration                115591\n",
      "type                    rumble\n",
      "background                   0\n",
      "Name: 228, dtype: object\n",
      "source filename: EFAF2011A023.WAV\n",
      ".\\adventureswithelephants_dataset\\wavs\\all\\efaf2011a023.wav\n",
      "x: \n",
      "[  29   27   27 ... -343 -365 -328]\n",
      "sr_orig: 44100\n",
      "y: \n",
      "[  0   0   0 ... 271 298 290]\n"
     ]
    },
    {
     "name": "stderr",
     "output_type": "stream",
     "text": [
      "\r",
      " 37%|█████████████████████████████▉                                                  | 229/612 [02:16<03:47,  1.68it/s]"
     ]
    },
    {
     "name": "stdout",
     "output_type": "stream",
     "text": [
      "index: 229\n",
      "row: \n",
      "filename      EFAF2011A023.WAV\n",
      "start                 23745226\n",
      "duration                144489\n",
      "type                    rumble\n",
      "background                   0\n",
      "Name: 229, dtype: object\n",
      "source filename: EFAF2011A023.WAV\n",
      ".\\adventureswithelephants_dataset\\wavs\\all\\efaf2011a023.wav\n",
      "x: \n",
      "[  29   27   27 ... -343 -365 -328]\n",
      "sr_orig: 44100\n",
      "y: \n",
      "[ 0  0  0 ...  1 -1  0]\n"
     ]
    },
    {
     "name": "stderr",
     "output_type": "stream",
     "text": [
      "\r",
      " 38%|██████████████████████████████                                                  | 230/612 [02:16<03:46,  1.69it/s]"
     ]
    },
    {
     "name": "stdout",
     "output_type": "stream",
     "text": [
      "index: 230\n",
      "row: \n",
      "filename      EFAF2011A023.WAV\n",
      "start                 23967737\n",
      "duration                222515\n",
      "type                    rumble\n",
      "background                   0\n",
      "Name: 230, dtype: object\n",
      "source filename: EFAF2011A023.WAV\n",
      ".\\adventureswithelephants_dataset\\wavs\\all\\efaf2011a023.wav\n",
      "x: \n",
      "[  29   27   27 ... -343 -365 -328]\n",
      "sr_orig: 44100\n",
      "y: \n",
      "[   0    0    0 ... -311 -327 -310]\n"
     ]
    },
    {
     "name": "stderr",
     "output_type": "stream",
     "text": [
      "\r",
      " 38%|██████████████████████████████▏                                                 | 231/612 [02:16<03:45,  1.69it/s]"
     ]
    },
    {
     "name": "stdout",
     "output_type": "stream",
     "text": [
      "index: 231\n",
      "row: \n",
      "filename      EFAF2011A023.WAV\n",
      "start                 24232491\n",
      "duration                241672\n",
      "type                    rumble\n",
      "background                   0\n",
      "Name: 231, dtype: object\n",
      "source filename: EFAF2011A023.WAV\n",
      ".\\adventureswithelephants_dataset\\wavs\\all\\efaf2011a023.wav\n",
      "x: \n",
      "[  29   27   27 ... -343 -365 -328]\n",
      "sr_orig: 44100\n",
      "y: \n",
      "[164 175 166 ... 154 161 148]\n"
     ]
    },
    {
     "name": "stderr",
     "output_type": "stream",
     "text": [
      "\r",
      " 38%|██████████████████████████████▎                                                 | 232/612 [02:17<03:44,  1.69it/s]"
     ]
    },
    {
     "name": "stdout",
     "output_type": "stream",
     "text": [
      "index: 232\n",
      "row: \n",
      "filename      EFAF2011A023.WAV\n",
      "start                 24297172\n",
      "duration                141601\n",
      "type                    rumble\n",
      "background                   0\n",
      "Name: 232, dtype: object\n",
      "source filename: EFAF2011A023.WAV\n",
      ".\\adventureswithelephants_dataset\\wavs\\all\\efaf2011a023.wav\n",
      "x: \n",
      "[  29   27   27 ... -343 -365 -328]\n",
      "sr_orig: 44100\n",
      "y: \n",
      "[-311 -326 -306 ...  -22  -26  -22]\n"
     ]
    },
    {
     "name": "stderr",
     "output_type": "stream",
     "text": [
      "\r",
      " 38%|██████████████████████████████▍                                                 | 233/612 [02:17<03:44,  1.69it/s]"
     ]
    },
    {
     "name": "stdout",
     "output_type": "stream",
     "text": [
      "index: 233\n",
      "row: \n",
      "filename      EFAF2011A023.WAV\n",
      "start                 24522576\n",
      "duration                184947\n",
      "type                    rumble\n",
      "background                   0\n",
      "Name: 233, dtype: object\n",
      "source filename: EFAF2011A023.WAV\n",
      ".\\adventureswithelephants_dataset\\wavs\\all\\efaf2011a023.wav\n",
      "x: \n",
      "[  29   27   27 ... -343 -365 -328]\n",
      "sr_orig: 44100\n",
      "y: \n",
      "[   0    0    0 ... -158 -165 -150]\n"
     ]
    },
    {
     "name": "stderr",
     "output_type": "stream",
     "text": [
      "\r",
      " 38%|██████████████████████████████▌                                                 | 234/612 [02:18<03:43,  1.69it/s]"
     ]
    },
    {
     "name": "stdout",
     "output_type": "stream",
     "text": [
      "index: 234\n",
      "row: \n",
      "filename      EFAF2011A023.WAV\n",
      "start                 24756650\n",
      "duration                528834\n",
      "type                    rumble\n",
      "background                   0\n",
      "Name: 234, dtype: object\n",
      "source filename: EFAF2011A023.WAV\n",
      ".\\adventureswithelephants_dataset\\wavs\\all\\efaf2011a023.wav\n",
      "x: \n",
      "[  29   27   27 ... -343 -365 -328]\n",
      "sr_orig: 44100\n",
      "y: \n",
      "[   0    0    0 ... -252 -260 -238]\n"
     ]
    },
    {
     "name": "stderr",
     "output_type": "stream",
     "text": [
      "\r",
      " 38%|██████████████████████████████▋                                                 | 235/612 [02:18<03:42,  1.70it/s]"
     ]
    },
    {
     "name": "stdout",
     "output_type": "stream",
     "text": [
      "index: 235\n",
      "row: \n",
      "filename      EFAF2011A023.WAV\n",
      "start                 25343277\n",
      "duration                228297\n",
      "type                    rumble\n",
      "background                   0\n",
      "Name: 235, dtype: object\n",
      "source filename: EFAF2011A023.WAV\n",
      ".\\adventureswithelephants_dataset\\wavs\\all\\efaf2011a023.wav\n",
      "x: \n",
      "[  29   27   27 ... -343 -365 -328]\n",
      "sr_orig: 44100\n",
      "y: \n",
      "[0 0 0 ... 0 0 0]\n"
     ]
    },
    {
     "name": "stderr",
     "output_type": "stream",
     "text": [
      "\r",
      " 39%|██████████████████████████████▊                                                 | 236/612 [02:18<03:41,  1.70it/s]"
     ]
    },
    {
     "name": "stdout",
     "output_type": "stream",
     "text": [
      "index: 236\n",
      "row: \n",
      "filename      EFAF2011A023.WAV\n",
      "start                 25854771\n",
      "duration                124261\n",
      "type                    rumble\n",
      "background                   0\n",
      "Name: 236, dtype: object\n",
      "source filename: EFAF2011A023.WAV\n",
      ".\\adventureswithelephants_dataset\\wavs\\all\\efaf2011a023.wav\n",
      "x: \n",
      "[  29   27   27 ... -343 -365 -328]\n",
      "sr_orig: 44100\n",
      "y: \n",
      "[ 0  0  0 ... 41 49 51]\n"
     ]
    },
    {
     "name": "stderr",
     "output_type": "stream",
     "text": [
      "\r",
      " 39%|██████████████████████████████▉                                                 | 237/612 [02:19<03:40,  1.70it/s]"
     ]
    },
    {
     "name": "stdout",
     "output_type": "stream",
     "text": [
      "index: 237\n",
      "row: \n",
      "filename      EFAF2011A023.WAV\n",
      "start                 27478004\n",
      "duration                358149\n",
      "type                    rumble\n",
      "background                   1\n",
      "Name: 237, dtype: object\n",
      "source filename: EFAF2011A023.WAV\n",
      ".\\adventureswithelephants_dataset\\wavs\\all\\efaf2011a023.wav\n",
      "x: \n",
      "[  29   27   27 ... -343 -365 -328]\n",
      "sr_orig: 44100\n",
      "y: \n",
      "[-24 -15   0 ...   0   0   0]\n",
      "yb class: [-14 -10   0 ... -54 -42 -24]\n"
     ]
    },
    {
     "name": "stderr",
     "output_type": "stream",
     "text": [
      "\r",
      " 39%|███████████████████████████████                                                 | 238/612 [02:20<03:40,  1.70it/s]"
     ]
    },
    {
     "name": "stdout",
     "output_type": "stream",
     "text": [
      "index: 238\n",
      "row: \n",
      "filename      EFAF2011A023.WAV\n",
      "start                 29304569\n",
      "duration                100283\n",
      "type                    rumble\n",
      "background                   1\n",
      "Name: 238, dtype: object\n",
      "source filename: EFAF2011A023.WAV\n",
      ".\\adventureswithelephants_dataset\\wavs\\all\\efaf2011a023.wav\n",
      "x: \n",
      "[  29   27   27 ... -343 -365 -328]\n",
      "sr_orig: 44100\n",
      "y: \n",
      "[24 24 22 ... 53 57 59]\n",
      "yb class: [-6  0  0 ... 20 22 21]\n"
     ]
    },
    {
     "name": "stderr",
     "output_type": "stream",
     "text": [
      "\r",
      " 39%|███████████████████████████████▏                                                | 239/612 [02:20<03:39,  1.70it/s]"
     ]
    },
    {
     "name": "stdout",
     "output_type": "stream",
     "text": [
      "index: 239\n",
      "row: \n",
      "filename      EFAF2011A023.WAV\n",
      "start                 29891932\n",
      "duration                214891\n",
      "type                    rumble\n",
      "background                   1\n",
      "Name: 239, dtype: object\n",
      "source filename: EFAF2011A023.WAV\n",
      ".\\adventureswithelephants_dataset\\wavs\\all\\efaf2011a023.wav\n",
      "x: \n",
      "[  29   27   27 ... -343 -365 -328]\n",
      "sr_orig: 44100\n",
      "y: \n",
      "[ 86  91  90 ...  -5  -9 -11]\n",
      "yb class: [ 0  0  0 ... 75 87 83]\n"
     ]
    },
    {
     "name": "stderr",
     "output_type": "stream",
     "text": [
      "\r",
      " 39%|███████████████████████████████▎                                                | 240/612 [02:21<03:39,  1.69it/s]"
     ]
    },
    {
     "name": "stdout",
     "output_type": "stream",
     "text": [
      "index: 240\n",
      "row: \n",
      "filename      EFAF2011A023.WAV\n",
      "start                 34533554\n",
      "duration                 85955\n",
      "type                    rumble\n",
      "background                   1\n",
      "Name: 240, dtype: object\n",
      "source filename: EFAF2011A023.WAV\n",
      ".\\adventureswithelephants_dataset\\wavs\\all\\efaf2011a023.wav\n",
      "x: \n",
      "[  29   27   27 ... -343 -365 -328]\n",
      "sr_orig: 44100\n",
      "y: \n",
      "[ 0  0  0 ... -1  2 10]\n",
      "yb class: [-17 -22 -19 ...   0   0   0]\n"
     ]
    },
    {
     "name": "stderr",
     "output_type": "stream",
     "text": [
      "\r",
      " 39%|███████████████████████████████▌                                                | 241/612 [02:22<03:39,  1.69it/s]"
     ]
    },
    {
     "name": "stdout",
     "output_type": "stream",
     "text": [
      "index: 241\n",
      "row: \n",
      "filename      EFAF2011A023.WAV\n",
      "start                 35317255\n",
      "duration                355040\n",
      "type                    rumble\n",
      "background                   1\n",
      "Name: 241, dtype: object\n",
      "source filename: EFAF2011A023.WAV\n",
      ".\\adventureswithelephants_dataset\\wavs\\all\\efaf2011a023.wav\n",
      "x: \n",
      "[  29   27   27 ... -343 -365 -328]\n",
      "sr_orig: 44100\n",
      "y: \n",
      "[-74 -78 -73 ...   0   1   5]\n",
      "yb class: [ 24  27  25 ... -72 -81 -73]\n"
     ]
    },
    {
     "name": "stderr",
     "output_type": "stream",
     "text": [
      "\r",
      " 40%|███████████████████████████████▋                                                | 242/612 [02:23<03:38,  1.69it/s]"
     ]
    },
    {
     "name": "stdout",
     "output_type": "stream",
     "text": [
      "index: 242\n",
      "row: \n",
      "filename      EFAF2011A023.WAV\n",
      "start                 35837573\n",
      "duration                122426\n",
      "type                    rumble\n",
      "background                   0\n",
      "Name: 242, dtype: object\n",
      "source filename: EFAF2011A023.WAV\n",
      ".\\adventureswithelephants_dataset\\wavs\\all\\efaf2011a023.wav\n",
      "x: \n",
      "[  29   27   27 ... -343 -365 -328]\n",
      "sr_orig: 44100\n",
      "y: \n",
      "[ 31  20   2 ... -67 -67 -64]\n"
     ]
    },
    {
     "name": "stderr",
     "output_type": "stream",
     "text": [
      "\r",
      " 40%|███████████████████████████████▊                                                | 243/612 [02:23<03:38,  1.69it/s]"
     ]
    },
    {
     "name": "stdout",
     "output_type": "stream",
     "text": [
      "index: 243\n",
      "row: \n",
      "filename      EFAF2011A023.WAV\n",
      "start                 36168125\n",
      "duration                140794\n",
      "type                    rumble\n",
      "background                   0\n",
      "Name: 243, dtype: object\n",
      "source filename: EFAF2011A023.WAV\n",
      ".\\adventureswithelephants_dataset\\wavs\\all\\efaf2011a023.wav\n",
      "x: \n",
      "[  29   27   27 ... -343 -365 -328]\n",
      "sr_orig: 44100\n",
      "y: \n",
      "[52 45 62 ... 63 65 39]\n"
     ]
    },
    {
     "name": "stderr",
     "output_type": "stream",
     "text": [
      "\r",
      " 40%|███████████████████████████████▉                                                | 244/612 [02:23<03:37,  1.69it/s]"
     ]
    },
    {
     "name": "stdout",
     "output_type": "stream",
     "text": [
      "index: 244\n",
      "row: \n",
      "filename      EFAF2011A023.WAV\n",
      "start                  1740455\n",
      "duration                159492\n",
      "type                    rumble\n",
      "background                   0\n",
      "Name: 244, dtype: object\n",
      "source filename: EFAF2011A023.WAV\n",
      ".\\adventureswithelephants_dataset\\wavs\\all\\efaf2011a023.wav\n",
      "x: \n",
      "[  29   27   27 ... -343 -365 -328]\n",
      "sr_orig: 44100\n",
      "y: \n",
      "[ 0  0  0 ... 46 48 42]\n"
     ]
    },
    {
     "name": "stderr",
     "output_type": "stream",
     "text": [
      "\r",
      " 40%|████████████████████████████████                                                | 245/612 [02:24<03:36,  1.70it/s]"
     ]
    },
    {
     "name": "stdout",
     "output_type": "stream",
     "text": [
      "index: 245\n",
      "row: \n",
      "filename      EFAF2011A024.WAV\n",
      "start                 15026708\n",
      "duration                 33724\n",
      "type                    rumble\n",
      "background                   0\n",
      "Name: 245, dtype: object\n",
      "source filename: EFAF2011A024.WAV\n",
      ".\\adventureswithelephants_dataset\\wavs\\all\\efaf2011a024.wav\n",
      "x: \n",
      "[ 214 -130 -371 ...   82  128  -29]\n",
      "sr_orig: 44100\n",
      "y: \n",
      "[  -7   16   29 ... -229 -183  133]\n"
     ]
    },
    {
     "name": "stderr",
     "output_type": "stream",
     "text": [
      "\r",
      " 40%|████████████████████████████████▏                                               | 246/612 [02:24<03:35,  1.70it/s]"
     ]
    },
    {
     "name": "stdout",
     "output_type": "stream",
     "text": [
      "index: 246\n",
      "row: \n",
      "filename      EFAF2011A024.WAV\n",
      "start                 15134343\n",
      "duration                 59756\n",
      "type                    rumble\n",
      "background                   0\n",
      "Name: 246, dtype: object\n",
      "source filename: EFAF2011A024.WAV\n",
      ".\\adventureswithelephants_dataset\\wavs\\all\\efaf2011a024.wav\n",
      "x: \n",
      "[ 214 -130 -371 ...   82  128  -29]\n",
      "sr_orig: 44100\n",
      "y: \n",
      "[ -63 -144   47 ...   76  -32  -39]\n"
     ]
    },
    {
     "name": "stderr",
     "output_type": "stream",
     "text": [
      "\r",
      " 40%|████████████████████████████████▎                                               | 247/612 [02:25<03:34,  1.70it/s]"
     ]
    },
    {
     "name": "stdout",
     "output_type": "stream",
     "text": [
      "index: 247\n",
      "row: \n",
      "filename      EFAF2011A024.WAV\n",
      "start                 15892612\n",
      "duration                 43959\n",
      "type                    rumble\n",
      "background                   1\n",
      "Name: 247, dtype: object\n",
      "source filename: EFAF2011A024.WAV\n",
      ".\\adventureswithelephants_dataset\\wavs\\all\\efaf2011a024.wav\n",
      "x: \n",
      "[ 214 -130 -371 ...   82  128  -29]\n",
      "sr_orig: 44100\n",
      "y: \n",
      "[-144  -46  188 ...   25   -5  -67]\n",
      "yb class: [ -75 -142  161 ...  180   20 -136]\n"
     ]
    },
    {
     "name": "stderr",
     "output_type": "stream",
     "text": [
      "\r",
      " 41%|████████████████████████████████▍                                               | 248/612 [02:26<03:34,  1.70it/s]"
     ]
    },
    {
     "name": "stdout",
     "output_type": "stream",
     "text": [
      "index: 248\n",
      "row: \n",
      "filename      EFAF2011A024.WAV\n",
      "start                 22947973\n",
      "duration                130694\n",
      "type                    rumble\n",
      "background                   1\n",
      "Name: 248, dtype: object\n",
      "source filename: EFAF2011A024.WAV\n",
      ".\\adventureswithelephants_dataset\\wavs\\all\\efaf2011a024.wav\n",
      "x: \n",
      "[ 214 -130 -371 ...   82  128  -29]\n",
      "sr_orig: 44100\n",
      "y: \n",
      "[-63   0  88 ... 104 262 272]\n",
      "yb class: [  0 -59   0 ...  15  28 -62]\n"
     ]
    },
    {
     "name": "stderr",
     "output_type": "stream",
     "text": [
      "\r",
      " 41%|████████████████████████████████▌                                               | 249/612 [02:26<03:34,  1.69it/s]"
     ]
    },
    {
     "name": "stdout",
     "output_type": "stream",
     "text": [
      "index: 249\n",
      "row: \n",
      "filename      EFAF2011A024.WAV\n",
      "start                 23329164\n",
      "duration                 98021\n",
      "type                    rumble\n",
      "background                   0\n",
      "Name: 249, dtype: object\n",
      "source filename: EFAF2011A024.WAV\n",
      ".\\adventureswithelephants_dataset\\wavs\\all\\efaf2011a024.wav\n",
      "x: \n",
      "[ 214 -130 -371 ...   82  128  -29]\n",
      "sr_orig: 44100\n",
      "y: \n",
      "[ 108    0   57 ...  203    8 -291]\n"
     ]
    },
    {
     "name": "stderr",
     "output_type": "stream",
     "text": [
      "\r",
      " 41%|████████████████████████████████▋                                               | 250/612 [02:27<03:33,  1.70it/s]"
     ]
    },
    {
     "name": "stdout",
     "output_type": "stream",
     "text": [
      "index: 250\n",
      "row: \n",
      "filename      EFAF2011A024.WAV\n",
      "start                 23672240\n",
      "duration                 98021\n",
      "type                    rumble\n",
      "background                   0\n",
      "Name: 250, dtype: object\n",
      "source filename: EFAF2011A024.WAV\n",
      ".\\adventureswithelephants_dataset\\wavs\\all\\efaf2011a024.wav\n",
      "x: \n",
      "[ 214 -130 -371 ...   82  128  -29]\n",
      "sr_orig: 44100\n",
      "y: \n",
      "[ -29    0 -104 ...  -11  -87   61]\n"
     ]
    },
    {
     "name": "stderr",
     "output_type": "stream",
     "text": [
      "\r",
      " 41%|████████████████████████████████▊                                               | 251/612 [02:27<03:32,  1.70it/s]"
     ]
    },
    {
     "name": "stdout",
     "output_type": "stream",
     "text": [
      "index: 251\n",
      "row: \n",
      "filename      EFAF2011A024.WAV\n",
      "start                 24282147\n",
      "duration                174262\n",
      "type                    rumble\n",
      "background                   1\n",
      "Name: 251, dtype: object\n",
      "source filename: EFAF2011A024.WAV\n",
      ".\\adventureswithelephants_dataset\\wavs\\all\\efaf2011a024.wav\n",
      "x: \n",
      "[ 214 -130 -371 ...   82  128  -29]\n",
      "sr_orig: 44100\n",
      "y: \n",
      "[  61  117 -109 ...  128   93  -97]\n",
      "yb class: [-222  106  265 ... -113  -88   57]\n"
     ]
    },
    {
     "name": "stderr",
     "output_type": "stream",
     "text": [
      "\r",
      " 41%|████████████████████████████████▉                                               | 252/612 [02:28<03:32,  1.70it/s]"
     ]
    },
    {
     "name": "stdout",
     "output_type": "stream",
     "text": [
      "index: 252\n",
      "row: \n",
      "filename      EFAF2011A024.WAV\n",
      "start                 25011861\n",
      "duration                168815\n",
      "type                    rumble\n",
      "background                   1\n",
      "Name: 252, dtype: object\n",
      "source filename: EFAF2011A024.WAV\n",
      ".\\adventureswithelephants_dataset\\wavs\\all\\efaf2011a024.wav\n",
      "x: \n",
      "[ 214 -130 -371 ...   82  128  -29]\n",
      "sr_orig: 44100\n",
      "y: \n",
      "[ 74 -60 -79 ... -62 -53  71]\n",
      "yb class: [-20  47   0 ...  89 192  82]\n"
     ]
    },
    {
     "name": "stderr",
     "output_type": "stream",
     "text": [
      "\r",
      " 41%|█████████████████████████████████                                               | 253/612 [02:29<03:31,  1.69it/s]"
     ]
    },
    {
     "name": "stdout",
     "output_type": "stream",
     "text": [
      "index: 253\n",
      "row: \n",
      "filename      EFAF2011A024.WAV\n",
      "start                 25981184\n",
      "duration                 76235\n",
      "type                    rumble\n",
      "background                   1\n",
      "Name: 253, dtype: object\n",
      "source filename: EFAF2011A024.WAV\n",
      ".\\adventureswithelephants_dataset\\wavs\\all\\efaf2011a024.wav\n",
      "x: \n",
      "[ 214 -130 -371 ...   82  128  -29]\n",
      "sr_orig: 44100\n",
      "y: \n",
      "[-125 -120   78 ...    0   79   85]\n",
      "yb class: [  54 -139 -228 ...  212   63 -118]\n"
     ]
    },
    {
     "name": "stderr",
     "output_type": "stream",
     "text": [
      "\r",
      " 42%|█████████████████████████████████▏                                              | 254/612 [02:30<03:31,  1.69it/s]"
     ]
    },
    {
     "name": "stdout",
     "output_type": "stream",
     "text": [
      "index: 254\n",
      "row: \n",
      "filename      EFAF2011A024.WAV\n",
      "start                 26226234\n",
      "duration                 54459\n",
      "type                    rumble\n",
      "background                   0\n",
      "Name: 254, dtype: object\n",
      "source filename: EFAF2011A024.WAV\n",
      ".\\adventureswithelephants_dataset\\wavs\\all\\efaf2011a024.wav\n",
      "x: \n",
      "[ 214 -130 -371 ...   82  128  -29]\n",
      "sr_orig: 44100\n",
      "y: \n",
      "[   0  180   51 ...  246  127 -250]\n"
     ]
    },
    {
     "name": "stderr",
     "output_type": "stream",
     "text": [
      "\r",
      " 42%|█████████████████████████████████▎                                              | 255/612 [02:30<03:30,  1.69it/s]"
     ]
    },
    {
     "name": "stdout",
     "output_type": "stream",
     "text": [
      "index: 255\n",
      "row: \n",
      "filename      EFAF2011A024.WAV\n",
      "start                 26384156\n",
      "duration                 38120\n",
      "type                    rumble\n",
      "background                   0\n",
      "Name: 255, dtype: object\n",
      "source filename: EFAF2011A024.WAV\n",
      ".\\adventureswithelephants_dataset\\wavs\\all\\efaf2011a024.wav\n",
      "x: \n",
      "[ 214 -130 -371 ...   82  128  -29]\n",
      "sr_orig: 44100\n",
      "y: \n",
      "[-87  34 103 ...  84  35 -80]\n"
     ]
    },
    {
     "name": "stderr",
     "output_type": "stream",
     "text": [
      "\r",
      " 42%|█████████████████████████████████▍                                              | 256/612 [02:31<03:30,  1.69it/s]"
     ]
    },
    {
     "name": "stdout",
     "output_type": "stream",
     "text": [
      "index: 256\n",
      "row: \n",
      "filename      EFAF2011A024.WAV\n",
      "start                 27751009\n",
      "duration                174262\n",
      "type                    rumble\n",
      "background                   1\n",
      "Name: 256, dtype: object\n",
      "source filename: EFAF2011A024.WAV\n",
      ".\\adventureswithelephants_dataset\\wavs\\all\\efaf2011a024.wav\n",
      "x: \n",
      "[ 214 -130 -371 ...   82  128  -29]\n",
      "sr_orig: 44100\n",
      "y: \n",
      "[-172    0  180 ...   46  178   58]\n",
      "yb class: [   2  115   56 ...   49  -66 -174]\n"
     ]
    },
    {
     "name": "stderr",
     "output_type": "stream",
     "text": [
      "\r",
      " 42%|█████████████████████████████████▌                                              | 257/612 [02:31<03:29,  1.69it/s]"
     ]
    },
    {
     "name": "stdout",
     "output_type": "stream",
     "text": [
      "index: 257\n",
      "row: \n",
      "filename      EFAF2011A024.WAV\n",
      "start                 28627753\n",
      "duration                119806\n",
      "type                    rumble\n",
      "background                   1\n",
      "Name: 257, dtype: object\n",
      "source filename: EFAF2011A024.WAV\n",
      ".\\adventureswithelephants_dataset\\wavs\\all\\efaf2011a024.wav\n",
      "x: \n",
      "[ 214 -130 -371 ...   82  128  -29]\n",
      "sr_orig: 44100\n",
      "y: \n",
      "[  0 -18   0 ... -13 135 241]\n",
      "yb class: [190 168   0 ... -23   0   0]\n"
     ]
    },
    {
     "name": "stderr",
     "output_type": "stream",
     "text": [
      "\r",
      " 42%|█████████████████████████████████▋                                              | 258/612 [02:32<03:29,  1.69it/s]"
     ]
    },
    {
     "name": "stdout",
     "output_type": "stream",
     "text": [
      "index: 258\n",
      "row: \n",
      "filename      EFAF2011A024.WAV\n",
      "start                 31056754\n",
      "duration                122369\n",
      "type                    rumble\n",
      "background                   1\n",
      "Name: 258, dtype: object\n",
      "source filename: EFAF2011A024.WAV\n",
      ".\\adventureswithelephants_dataset\\wavs\\all\\efaf2011a024.wav\n",
      "x: \n",
      "[ 214 -130 -371 ...   82  128  -29]\n",
      "sr_orig: 44100\n",
      "y: \n",
      "[   8 -151    0 ...  126  285  479]\n",
      "yb class: [-98   0  67 ...  40 207  21]\n"
     ]
    },
    {
     "name": "stderr",
     "output_type": "stream",
     "text": [
      "\r",
      " 42%|█████████████████████████████████▊                                              | 259/612 [02:33<03:29,  1.69it/s]"
     ]
    },
    {
     "name": "stdout",
     "output_type": "stream",
     "text": [
      "index: 259\n",
      "row: \n",
      "filename      EFAF2011A024.WAV\n",
      "start                 33173034\n",
      "duration                169159\n",
      "type                    rumble\n",
      "background                   1\n",
      "Name: 259, dtype: object\n",
      "source filename: EFAF2011A024.WAV\n",
      ".\\adventureswithelephants_dataset\\wavs\\all\\efaf2011a024.wav\n",
      "x: \n",
      "[ 214 -130 -371 ...   82  128  -29]\n",
      "sr_orig: 44100\n",
      "y: \n",
      "[  -3  108   12 ...  -47 -161  -86]\n",
      "yb class: [ 274  143 -277 ...  -16 -135  -14]\n"
     ]
    },
    {
     "name": "stderr",
     "output_type": "stream",
     "text": [
      "\r",
      " 42%|█████████████████████████████████▉                                              | 260/612 [02:34<03:28,  1.69it/s]"
     ]
    },
    {
     "name": "stdout",
     "output_type": "stream",
     "text": [
      "index: 260\n",
      "row: \n",
      "filename      EFAF2011A024.WAV\n",
      "start                 42764612\n",
      "duration                 97293\n",
      "type                    rumble\n",
      "background                   1\n",
      "Name: 260, dtype: object\n",
      "source filename: EFAF2011A024.WAV\n",
      ".\\adventureswithelephants_dataset\\wavs\\all\\efaf2011a024.wav\n",
      "x: \n",
      "[ 214 -130 -371 ...   82  128  -29]\n",
      "sr_orig: 44100\n",
      "y: \n",
      "[-98 -51 -67 ... 127 229 183]\n",
      "yb class: [ 242   94    0 ... -124  -94 -105]\n"
     ]
    },
    {
     "name": "stderr",
     "output_type": "stream",
     "text": [
      "\r",
      " 43%|██████████████████████████████████                                              | 261/612 [02:35<03:28,  1.68it/s]"
     ]
    },
    {
     "name": "stdout",
     "output_type": "stream",
     "text": [
      "index: 261\n",
      "row: \n",
      "filename      EFAF2011A024.WAV\n",
      "start                 42963767\n",
      "duration                 60078\n",
      "type                    rumble\n",
      "background                   0\n",
      "Name: 261, dtype: object\n",
      "source filename: EFAF2011A024.WAV\n",
      ".\\adventureswithelephants_dataset\\wavs\\all\\efaf2011a024.wav\n",
      "x: \n",
      "[ 214 -130 -371 ...   82  128  -29]\n",
      "sr_orig: 44100\n",
      "y: \n",
      "[-154  -84   70 ...    1   20    0]\n"
     ]
    },
    {
     "name": "stderr",
     "output_type": "stream",
     "text": [
      "\r",
      " 43%|██████████████████████████████████▏                                             | 262/612 [02:35<03:27,  1.68it/s]"
     ]
    },
    {
     "name": "stdout",
     "output_type": "stream",
     "text": [
      "index: 262\n",
      "row: \n",
      "filename      EFAF2011A024.WAV\n",
      "start                 42983357\n",
      "duration                100561\n",
      "type                    rumble\n",
      "background                   0\n",
      "Name: 262, dtype: object\n",
      "source filename: EFAF2011A024.WAV\n",
      ".\\adventureswithelephants_dataset\\wavs\\all\\efaf2011a024.wav\n",
      "x: \n",
      "[ 214 -130 -371 ...   82  128  -29]\n",
      "sr_orig: 44100\n",
      "y: \n",
      "[-285 -325 -146 ...    2   -4  -42]\n"
     ]
    },
    {
     "name": "stderr",
     "output_type": "stream",
     "text": [
      "\r",
      " 43%|██████████████████████████████████▍                                             | 263/612 [02:35<03:26,  1.69it/s]"
     ]
    },
    {
     "name": "stdout",
     "output_type": "stream",
     "text": [
      "index: 263\n",
      "row: \n",
      "filename      EFAF2011A024.WAV\n",
      "start                 43048656\n",
      "duration                 39831\n",
      "type                    rumble\n",
      "background                   0\n",
      "Name: 263, dtype: object\n",
      "source filename: EFAF2011A024.WAV\n",
      ".\\adventureswithelephants_dataset\\wavs\\all\\efaf2011a024.wav\n",
      "x: \n",
      "[ 214 -130 -371 ...   82  128  -29]\n",
      "sr_orig: 44100\n",
      "y: \n",
      "[-2287 -2395 -2221 ...     2     0     0]\n"
     ]
    },
    {
     "name": "stderr",
     "output_type": "stream",
     "text": [
      "\r",
      " 43%|██████████████████████████████████▌                                             | 264/612 [02:36<03:26,  1.69it/s]"
     ]
    },
    {
     "name": "stdout",
     "output_type": "stream",
     "text": [
      "index: 264\n",
      "row: \n",
      "filename      EFAF2011A024.WAV\n",
      "start                 43149865\n",
      "duration                 48973\n",
      "type                    rumble\n",
      "background                   0\n",
      "Name: 264, dtype: object\n",
      "source filename: EFAF2011A024.WAV\n",
      ".\\adventureswithelephants_dataset\\wavs\\all\\efaf2011a024.wav\n",
      "x: \n",
      "[ 214 -130 -371 ...   82  128  -29]\n",
      "sr_orig: 44100\n",
      "y: \n",
      "[1523 1639 1487 ... -245 -273 -162]\n"
     ]
    },
    {
     "name": "stderr",
     "output_type": "stream",
     "text": [
      "\r",
      " 43%|██████████████████████████████████▋                                             | 265/612 [02:36<03:25,  1.69it/s]"
     ]
    },
    {
     "name": "stdout",
     "output_type": "stream",
     "text": [
      "index: 265\n",
      "row: \n",
      "filename      EFAF2011A024.WAV\n",
      "start                 43204717\n",
      "duration                199155\n",
      "type                    rumble\n",
      "background                   0\n",
      "Name: 265, dtype: object\n",
      "source filename: EFAF2011A024.WAV\n",
      ".\\adventureswithelephants_dataset\\wavs\\all\\efaf2011a024.wav\n",
      "x: \n",
      "[ 214 -130 -371 ...   82  128  -29]\n",
      "sr_orig: 44100\n",
      "y: \n",
      "[-251 -279 -160 ...  -89  146  215]\n"
     ]
    },
    {
     "name": "stderr",
     "output_type": "stream",
     "text": [
      "\r",
      " 43%|██████████████████████████████████▊                                             | 266/612 [02:37<03:24,  1.69it/s]"
     ]
    },
    {
     "name": "stdout",
     "output_type": "stream",
     "text": [
      "index: 266\n",
      "row: \n",
      "filename      EFAF2011A024.WAV\n",
      "start                 43204717\n",
      "duration                135819\n",
      "type                    rumble\n",
      "background                   0\n",
      "Name: 266, dtype: object\n",
      "source filename: EFAF2011A024.WAV\n",
      ".\\adventureswithelephants_dataset\\wavs\\all\\efaf2011a024.wav\n",
      "x: \n",
      "[ 214 -130 -371 ...   82  128  -29]\n",
      "sr_orig: 44100\n",
      "y: \n",
      "[-251 -279 -160 ...  -89  146  215]\n"
     ]
    },
    {
     "name": "stderr",
     "output_type": "stream",
     "text": [
      "\r",
      " 44%|██████████████████████████████████▉                                             | 267/612 [02:37<03:23,  1.69it/s]"
     ]
    },
    {
     "name": "stdout",
     "output_type": "stream",
     "text": [
      "index: 267\n",
      "row: \n",
      "filename      EFAF2011A024.WAV\n",
      "start                 44293404\n",
      "duration                 73431\n",
      "type                    rumble\n",
      "background                   1\n",
      "Name: 267, dtype: object\n",
      "source filename: EFAF2011A024.WAV\n",
      ".\\adventureswithelephants_dataset\\wavs\\all\\efaf2011a024.wav\n",
      "x: \n",
      "[ 214 -130 -371 ...   82  128  -29]\n",
      "sr_orig: 44100\n",
      "y: \n",
      "[ -51 -253 -170 ... -329 -325 -333]\n",
      "yb class: [   0  -49 -142 ... -201   -3  -37]\n"
     ]
    },
    {
     "name": "stderr",
     "output_type": "stream",
     "text": [
      "\r",
      " 44%|███████████████████████████████████                                             | 268/612 [02:38<03:23,  1.69it/s]"
     ]
    },
    {
     "name": "stdout",
     "output_type": "stream",
     "text": [
      "index: 268\n",
      "row: \n",
      "filename      EFAF2011A024.WAV\n",
      "start                 44354920\n",
      "duration                 56355\n",
      "type                    rumble\n",
      "background                   0\n",
      "Name: 268, dtype: object\n",
      "source filename: EFAF2011A024.WAV\n",
      ".\\adventureswithelephants_dataset\\wavs\\all\\efaf2011a024.wav\n",
      "x: \n",
      "[ 214 -130 -371 ...   82  128  -29]\n",
      "sr_orig: 44100\n",
      "y: \n",
      "[ -70  -41 -115 ...   -2 -119  -65]\n"
     ]
    },
    {
     "name": "stderr",
     "output_type": "stream",
     "text": [
      "\r",
      " 44%|███████████████████████████████████▏                                            | 269/612 [02:38<03:22,  1.69it/s]"
     ]
    },
    {
     "name": "stdout",
     "output_type": "stream",
     "text": [
      "index: 269\n",
      "row: \n",
      "filename      EFAF2011A024.WAV\n",
      "start                 44359427\n",
      "duration                 70851\n",
      "type                    rumble\n",
      "background                   0\n",
      "Name: 269, dtype: object\n",
      "source filename: EFAF2011A024.WAV\n",
      ".\\adventureswithelephants_dataset\\wavs\\all\\efaf2011a024.wav\n",
      "x: \n",
      "[ 214 -130 -371 ...   82  128  -29]\n",
      "sr_orig: 44100\n",
      "y: \n",
      "[-696 -557 -406 ... -108 -214 -170]\n"
     ]
    },
    {
     "name": "stderr",
     "output_type": "stream",
     "text": [
      "\r",
      " 44%|███████████████████████████████████▎                                            | 270/612 [02:39<03:21,  1.70it/s]"
     ]
    },
    {
     "name": "stdout",
     "output_type": "stream",
     "text": [
      "index: 270\n",
      "row: \n",
      "filename      EFAF2011A024.WAV\n",
      "start                 44513688\n",
      "duration                240570\n",
      "type                    rumble\n",
      "background                   0\n",
      "Name: 270, dtype: object\n",
      "source filename: EFAF2011A024.WAV\n",
      ".\\adventureswithelephants_dataset\\wavs\\all\\efaf2011a024.wav\n",
      "x: \n",
      "[ 214 -130 -371 ...   82  128  -29]\n",
      "sr_orig: 44100\n",
      "y: \n",
      "[ 42  13 162 ... 157  58   0]\n"
     ]
    },
    {
     "name": "stderr",
     "output_type": "stream",
     "text": [
      "\r",
      " 44%|███████████████████████████████████▍                                            | 271/612 [02:39<03:20,  1.70it/s]"
     ]
    },
    {
     "name": "stdout",
     "output_type": "stream",
     "text": [
      "index: 271\n",
      "row: \n",
      "filename      EFAF2011A024.WAV\n",
      "start                 44569964\n",
      "duration                146845\n",
      "type                    rumble\n",
      "background                   0\n",
      "Name: 271, dtype: object\n",
      "source filename: EFAF2011A024.WAV\n",
      ".\\adventureswithelephants_dataset\\wavs\\all\\efaf2011a024.wav\n",
      "x: \n",
      "[ 214 -130 -371 ...   82  128  -29]\n",
      "sr_orig: 44100\n",
      "y: \n",
      "[102 108 105 ... -16 -36  70]\n"
     ]
    },
    {
     "name": "stderr",
     "output_type": "stream",
     "text": [
      "\r",
      " 44%|███████████████████████████████████▌                                            | 272/612 [02:40<03:20,  1.70it/s]"
     ]
    },
    {
     "name": "stdout",
     "output_type": "stream",
     "text": [
      "index: 272\n",
      "row: \n",
      "filename      EFAF2011A024.WAV\n",
      "start                 46918986\n",
      "duration                203747\n",
      "type                    rumble\n",
      "background                   1\n",
      "Name: 272, dtype: object\n",
      "source filename: EFAF2011A024.WAV\n",
      ".\\adventureswithelephants_dataset\\wavs\\all\\efaf2011a024.wav\n",
      "x: \n",
      "[ 214 -130 -371 ...   82  128  -29]\n",
      "sr_orig: 44100\n",
      "y: \n",
      "[-31  58 176 ...   6 -45 -60]\n",
      "yb class: [ 206 -133 -284 ...   96   -3  -39]\n"
     ]
    },
    {
     "name": "stderr",
     "output_type": "stream",
     "text": [
      "\r",
      " 45%|███████████████████████████████████▋                                            | 273/612 [02:40<03:19,  1.70it/s]"
     ]
    },
    {
     "name": "stdout",
     "output_type": "stream",
     "text": [
      "index: 273\n",
      "row: \n",
      "filename      EFAF2011A024.WAV\n",
      "start                 47105754\n",
      "duration                130977\n",
      "type                    rumble\n",
      "background                   0\n",
      "Name: 273, dtype: object\n",
      "source filename: EFAF2011A024.WAV\n",
      ".\\adventureswithelephants_dataset\\wavs\\all\\efaf2011a024.wav\n",
      "x: \n",
      "[ 214 -130 -371 ...   82  128  -29]\n",
      "sr_orig: 44100\n",
      "y: \n",
      "[219 263 249 ...  55 178   0]\n"
     ]
    },
    {
     "name": "stderr",
     "output_type": "stream",
     "text": [
      "\r",
      " 45%|███████████████████████████████████▊                                            | 274/612 [02:41<03:18,  1.70it/s]"
     ]
    },
    {
     "name": "stdout",
     "output_type": "stream",
     "text": [
      "index: 274\n",
      "row: \n",
      "filename      EFAF2011A025.WAV\n",
      "start                  2014845\n",
      "duration                132339\n",
      "type                   snumble\n",
      "background                   0\n",
      "Name: 274, dtype: object\n",
      "source filename: EFAF2011A025.WAV\n",
      ".\\adventureswithelephants_dataset\\wavs\\all\\efaf2011a025.wav\n",
      "x: \n",
      "[ 240  -25 -170 ...  -13  -60  -78]\n",
      "sr_orig: 44100\n",
      "y: \n",
      "[-109  -88   60 ...   30   -7    0]\n"
     ]
    },
    {
     "name": "stderr",
     "output_type": "stream",
     "text": [
      "\r",
      " 45%|███████████████████████████████████▉                                            | 275/612 [02:41<03:18,  1.70it/s]"
     ]
    },
    {
     "name": "stdout",
     "output_type": "stream",
     "text": [
      "index: 275\n",
      "row: \n",
      "filename      EFAF2011A025.WAV\n",
      "start                  4926375\n",
      "duration                 78048\n",
      "type                   snumble\n",
      "background                   1\n",
      "Name: 275, dtype: object\n",
      "source filename: EFAF2011A025.WAV\n",
      ".\\adventureswithelephants_dataset\\wavs\\all\\efaf2011a025.wav\n",
      "x: \n",
      "[ 240  -25 -170 ...  -13  -60  -78]\n",
      "sr_orig: 44100\n",
      "y: \n",
      "[ 34  96 -25 ... -93   5  63]\n",
      "yb class: [  -5  -12  -44 ...  -70 -145   23]\n"
     ]
    },
    {
     "name": "stderr",
     "output_type": "stream",
     "text": [
      "\r",
      " 45%|████████████████████████████████████                                            | 276/612 [02:42<03:17,  1.70it/s]"
     ]
    },
    {
     "name": "stdout",
     "output_type": "stream",
     "text": [
      "index: 276\n",
      "row: \n",
      "filename      EFAF2011A025.WAV\n",
      "start                  8157851\n",
      "duration                171527\n",
      "type                    rumble\n",
      "background                   1\n",
      "Name: 276, dtype: object\n",
      "source filename: EFAF2011A025.WAV\n",
      ".\\adventureswithelephants_dataset\\wavs\\all\\efaf2011a025.wav\n",
      "x: \n",
      "[ 240  -25 -170 ...  -13  -60  -78]\n",
      "sr_orig: 44100\n",
      "y: \n",
      "[ -84 -163 -100 ... -171 -111  -80]\n",
      "yb class: [ -44    0  -16 ... -117  -54  -84]\n"
     ]
    },
    {
     "name": "stderr",
     "output_type": "stream",
     "text": [
      "\r",
      " 45%|████████████████████████████████████▏                                           | 277/612 [02:43<03:17,  1.70it/s]"
     ]
    },
    {
     "name": "stdout",
     "output_type": "stream",
     "text": [
      "index: 277\n",
      "row: \n",
      "filename      EFAF2011A025.WAV\n",
      "start                  8880068\n",
      "duration                 90277\n",
      "type                    rumble\n",
      "background                   1\n",
      "Name: 277, dtype: object\n",
      "source filename: EFAF2011A025.WAV\n",
      ".\\adventureswithelephants_dataset\\wavs\\all\\efaf2011a025.wav\n",
      "x: \n",
      "[ 240  -25 -170 ...  -13  -60  -78]\n",
      "sr_orig: 44100\n",
      "y: \n",
      "[242 304 200 ... 118  97   0]\n",
      "yb class: [  78   62 -128 ...  -11   44  237]\n"
     ]
    },
    {
     "name": "stderr",
     "output_type": "stream",
     "text": [
      "\r",
      " 45%|████████████████████████████████████▎                                           | 278/612 [02:44<03:17,  1.70it/s]"
     ]
    },
    {
     "name": "stdout",
     "output_type": "stream",
     "text": [
      "index: 278\n",
      "row: \n",
      "filename      EFAF2011A025.WAV\n",
      "start                 13086979\n",
      "duration                 85765\n",
      "type                    rumble\n",
      "background                   1\n",
      "Name: 278, dtype: object\n",
      "source filename: EFAF2011A025.WAV\n",
      ".\\adventureswithelephants_dataset\\wavs\\all\\efaf2011a025.wav\n",
      "x: \n",
      "[ 240  -25 -170 ...  -13  -60  -78]\n",
      "sr_orig: 44100\n",
      "y: \n",
      "[-55  -1 -78 ...  -1 -90 -55]\n",
      "yb class: [  -7  -32 -183 ... -158 -132  -59]\n"
     ]
    },
    {
     "name": "stderr",
     "output_type": "stream",
     "text": [
      "\r",
      " 46%|████████████████████████████████████▍                                           | 279/612 [02:44<03:16,  1.69it/s]"
     ]
    },
    {
     "name": "stdout",
     "output_type": "stream",
     "text": [
      "index: 279\n",
      "row: \n",
      "filename      EFAF2011A025.WAV\n",
      "start                 13222397\n",
      "duration                171527\n",
      "type                    rumble\n",
      "background                   0\n",
      "Name: 279, dtype: object\n",
      "source filename: EFAF2011A025.WAV\n",
      ".\\adventureswithelephants_dataset\\wavs\\all\\efaf2011a025.wav\n",
      "x: \n",
      "[ 240  -25 -170 ...  -13  -60  -78]\n",
      "sr_orig: 44100\n",
      "y: \n",
      "[ 37 -82   0 ...   2   7   0]\n"
     ]
    },
    {
     "name": "stderr",
     "output_type": "stream",
     "text": [
      "\r",
      " 46%|████████████████████████████████████▌                                           | 280/612 [02:45<03:16,  1.69it/s]"
     ]
    },
    {
     "name": "stdout",
     "output_type": "stream",
     "text": [
      "index: 280\n",
      "row: \n",
      "filename      EFAF2011A025.WAV\n",
      "start                 18323567\n",
      "duration                 87587\n",
      "type                    rumble\n",
      "background                   1\n",
      "Name: 280, dtype: object\n",
      "source filename: EFAF2011A025.WAV\n",
      ".\\adventureswithelephants_dataset\\wavs\\all\\efaf2011a025.wav\n",
      "x: \n",
      "[ 240  -25 -170 ...  -13  -60  -78]\n",
      "sr_orig: 44100\n",
      "y: \n",
      "[  0   0   0 ...  87  92 -51]\n",
      "yb class: [  0   0 -69 ...  -7 -56   0]\n"
     ]
    },
    {
     "name": "stderr",
     "output_type": "stream",
     "text": [
      "\r",
      " 46%|████████████████████████████████████▋                                           | 281/612 [02:46<03:15,  1.69it/s]"
     ]
    },
    {
     "name": "stdout",
     "output_type": "stream",
     "text": [
      "index: 281\n",
      "row: \n",
      "filename      EFAF2011A025.WAV\n",
      "start                 20111822\n",
      "duration                138681\n",
      "type                    rumble\n",
      "background                   1\n",
      "Name: 281, dtype: object\n",
      "source filename: EFAF2011A025.WAV\n",
      ".\\adventureswithelephants_dataset\\wavs\\all\\efaf2011a025.wav\n",
      "x: \n",
      "[ 240  -25 -170 ...  -13  -60  -78]\n",
      "sr_orig: 44100\n",
      "y: \n",
      "[   0    6    0 ...  -78 -166    0]\n",
      "yb class: [-126  -43  109 ...  -32   -2    0]\n"
     ]
    },
    {
     "name": "stderr",
     "output_type": "stream",
     "text": [
      "\r",
      " 46%|████████████████████████████████████▊                                           | 282/612 [02:46<03:15,  1.69it/s]"
     ]
    },
    {
     "name": "stdout",
     "output_type": "stream",
     "text": [
      "index: 282\n",
      "row: \n",
      "filename      EFAF2011A025.WAV\n",
      "start                 20268748\n",
      "duration                102188\n",
      "type                    rumble\n",
      "background                   0\n",
      "Name: 282, dtype: object\n",
      "source filename: EFAF2011A025.WAV\n",
      ".\\adventureswithelephants_dataset\\wavs\\all\\efaf2011a025.wav\n",
      "x: \n",
      "[ 240  -25 -170 ...  -13  -60  -78]\n",
      "sr_orig: 44100\n",
      "y: \n",
      "[ -57   -5  -13 ...  163  -10 -164]\n"
     ]
    },
    {
     "name": "stderr",
     "output_type": "stream",
     "text": [
      "\r",
      " 46%|████████████████████████████████████▉                                           | 283/612 [02:47<03:14,  1.69it/s]"
     ]
    },
    {
     "name": "stdout",
     "output_type": "stream",
     "text": [
      "index: 283\n",
      "row: \n",
      "filename      EFAF2011A025.WAV\n",
      "start                 22279624\n",
      "duration                164228\n",
      "type                    rumble\n",
      "background                   1\n",
      "Name: 283, dtype: object\n",
      "source filename: EFAF2011A025.WAV\n",
      ".\\adventureswithelephants_dataset\\wavs\\all\\efaf2011a025.wav\n",
      "x: \n",
      "[ 240  -25 -170 ...  -13  -60  -78]\n",
      "sr_orig: 44100\n",
      "y: \n",
      "[313 370 417 ...  -1   1   0]\n",
      "yb class: [  75    0 -100 ...  290  357  307]\n"
     ]
    },
    {
     "name": "stderr",
     "output_type": "stream",
     "text": [
      "\r",
      " 46%|█████████████████████████████████████                                           | 284/612 [02:48<03:14,  1.69it/s]"
     ]
    },
    {
     "name": "stdout",
     "output_type": "stream",
     "text": [
      "index: 284\n",
      "row: \n",
      "filename      EFAF2011A025.WAV\n",
      "start                 22505892\n",
      "duration                102189\n",
      "type                    rumble\n",
      "background                   0\n",
      "Name: 284, dtype: object\n",
      "source filename: EFAF2011A025.WAV\n",
      ".\\adventureswithelephants_dataset\\wavs\\all\\efaf2011a025.wav\n",
      "x: \n",
      "[ 240  -25 -170 ...  -13  -60  -78]\n",
      "sr_orig: 44100\n",
      "y: \n",
      "[-154 -238   66 ...  -12   -2  -19]\n"
     ]
    },
    {
     "name": "stderr",
     "output_type": "stream",
     "text": [
      "\r",
      " 47%|█████████████████████████████████████▎                                          | 285/612 [02:48<03:13,  1.69it/s]"
     ]
    },
    {
     "name": "stdout",
     "output_type": "stream",
     "text": [
      "index: 285\n",
      "row: \n",
      "filename      EFAF2011A025.WAV\n",
      "start                 22615379\n",
      "duration                 94886\n",
      "type                    rumble\n",
      "background                   0\n",
      "Name: 285, dtype: object\n",
      "source filename: EFAF2011A025.WAV\n",
      ".\\adventureswithelephants_dataset\\wavs\\all\\efaf2011a025.wav\n",
      "x: \n",
      "[ 240  -25 -170 ...  -13  -60  -78]\n",
      "sr_orig: 44100\n",
      "y: \n",
      "[ 10 178  26 ...   5  -5 -76]\n"
     ]
    },
    {
     "name": "stderr",
     "output_type": "stream",
     "text": [
      "\r",
      " 47%|█████████████████████████████████████▍                                          | 286/612 [02:48<03:12,  1.69it/s]"
     ]
    },
    {
     "name": "stdout",
     "output_type": "stream",
     "text": [
      "index: 286\n",
      "row: \n",
      "filename      EFAF2011A025.WAV\n",
      "start                 23172278\n",
      "duration                154399\n",
      "type                    rumble\n",
      "background                   1\n",
      "Name: 286, dtype: object\n",
      "source filename: EFAF2011A025.WAV\n",
      ".\\adventureswithelephants_dataset\\wavs\\all\\efaf2011a025.wav\n",
      "x: \n",
      "[ 240  -25 -170 ...  -13  -60  -78]\n",
      "sr_orig: 44100\n",
      "y: \n",
      "[ 0  0 33 ... 92 71 31]\n",
      "yb class: [ 0 60  4 ...  3 41  0]\n"
     ]
    },
    {
     "name": "stderr",
     "output_type": "stream",
     "text": [
      "\r",
      " 47%|█████████████████████████████████████▌                                          | 287/612 [02:49<03:12,  1.69it/s]"
     ]
    },
    {
     "name": "stdout",
     "output_type": "stream",
     "text": [
      "index: 287\n",
      "row: \n",
      "filename      EFAF2011A025.WAV\n",
      "start                 23324983\n",
      "duration                183240\n",
      "type                    rumble\n",
      "background                   0\n",
      "Name: 287, dtype: object\n",
      "source filename: EFAF2011A025.WAV\n",
      ".\\adventureswithelephants_dataset\\wavs\\all\\efaf2011a025.wav\n",
      "x: \n",
      "[ 240  -25 -170 ...  -13  -60  -78]\n",
      "sr_orig: 44100\n",
      "y: \n",
      "[-25 -29 -68 ... 161 105  55]\n"
     ]
    },
    {
     "name": "stderr",
     "output_type": "stream",
     "text": [
      "\r",
      " 47%|█████████████████████████████████████▋                                          | 288/612 [02:50<03:11,  1.69it/s]"
     ]
    },
    {
     "name": "stdout",
     "output_type": "stream",
     "text": [
      "index: 288\n",
      "row: \n",
      "filename      EFAF2011A025.WAV\n",
      "start                 23526547\n",
      "duration                123894\n",
      "type                    rumble\n",
      "background                   0\n",
      "Name: 288, dtype: object\n",
      "source filename: EFAF2011A025.WAV\n",
      ".\\adventureswithelephants_dataset\\wavs\\all\\efaf2011a025.wav\n",
      "x: \n",
      "[ 240  -25 -170 ...  -13  -60  -78]\n",
      "sr_orig: 44100\n",
      "y: \n",
      "[ 16 -10  43 ... 198 137 156]\n"
     ]
    },
    {
     "name": "stderr",
     "output_type": "stream",
     "text": [
      "\r",
      " 47%|█████████████████████████████████████▊                                          | 289/612 [02:50<03:10,  1.69it/s]"
     ]
    },
    {
     "name": "stdout",
     "output_type": "stream",
     "text": [
      "index: 289\n",
      "row: \n",
      "filename      EFAF2011A025.WAV\n",
      "start                 23526547\n",
      "duration                123894\n",
      "type                    rumble\n",
      "background                   0\n",
      "Name: 289, dtype: object\n",
      "source filename: EFAF2011A025.WAV\n",
      ".\\adventureswithelephants_dataset\\wavs\\all\\efaf2011a025.wav\n",
      "x: \n",
      "[ 240  -25 -170 ...  -13  -60  -78]\n",
      "sr_orig: 44100\n",
      "y: \n",
      "[ 16 -10  43 ... 198 137 156]\n"
     ]
    },
    {
     "name": "stderr",
     "output_type": "stream",
     "text": [
      "\r",
      " 47%|█████████████████████████████████████▉                                          | 290/612 [02:50<03:09,  1.70it/s]"
     ]
    },
    {
     "name": "stdout",
     "output_type": "stream",
     "text": [
      "index: 290\n",
      "row: \n",
      "filename      EFAF2011A025.WAV\n",
      "start                 23765000\n",
      "duration                172674\n",
      "type                    rumble\n",
      "background                   0\n",
      "Name: 290, dtype: object\n",
      "source filename: EFAF2011A025.WAV\n",
      ".\\adventureswithelephants_dataset\\wavs\\all\\efaf2011a025.wav\n",
      "x: \n",
      "[ 240  -25 -170 ...  -13  -60  -78]\n",
      "sr_orig: 44100\n",
      "y: \n",
      "[  0   0   0 ... 224 188 169]\n"
     ]
    },
    {
     "name": "stderr",
     "output_type": "stream",
     "text": [
      "\r",
      " 48%|██████████████████████████████████████                                          | 291/612 [02:51<03:08,  1.70it/s]"
     ]
    },
    {
     "name": "stdout",
     "output_type": "stream",
     "text": [
      "index: 291\n",
      "row: \n",
      "filename      EFAF2011A025.WAV\n",
      "start                 23766751\n",
      "duration                278130\n",
      "type                    rumble\n",
      "background                   0\n",
      "Name: 291, dtype: object\n",
      "source filename: EFAF2011A025.WAV\n",
      ".\\adventureswithelephants_dataset\\wavs\\all\\efaf2011a025.wav\n",
      "x: \n",
      "[ 240  -25 -170 ...  -13  -60  -78]\n",
      "sr_orig: 44100\n",
      "y: \n",
      "[  21    9    0 ...  -80 -101  -98]\n"
     ]
    },
    {
     "name": "stderr",
     "output_type": "stream",
     "text": [
      "\r",
      " 48%|██████████████████████████████████████▏                                         | 292/612 [02:51<03:08,  1.70it/s]"
     ]
    },
    {
     "name": "stdout",
     "output_type": "stream",
     "text": [
      "index: 292\n",
      "row: \n",
      "filename      EFAF2011A025.WAV\n",
      "start                 23993050\n",
      "duration                155497\n",
      "type                    rumble\n",
      "background                   0\n",
      "Name: 292, dtype: object\n",
      "source filename: EFAF2011A025.WAV\n",
      ".\\adventureswithelephants_dataset\\wavs\\all\\efaf2011a025.wav\n",
      "x: \n",
      "[ 240  -25 -170 ...  -13  -60  -78]\n",
      "sr_orig: 44100\n",
      "y: \n",
      "[217 176 189 ...   0   0   0]\n"
     ]
    },
    {
     "name": "stderr",
     "output_type": "stream",
     "text": [
      "\r",
      " 48%|██████████████████████████████████████▎                                         | 293/612 [02:52<03:07,  1.70it/s]"
     ]
    },
    {
     "name": "stdout",
     "output_type": "stream",
     "text": [
      "index: 293\n",
      "row: \n",
      "filename      EFAF2011A025.WAV\n",
      "start                 24033503\n",
      "duration                348928\n",
      "type                    rumble\n",
      "background                   0\n",
      "Name: 293, dtype: object\n",
      "source filename: EFAF2011A025.WAV\n",
      ".\\adventureswithelephants_dataset\\wavs\\all\\efaf2011a025.wav\n",
      "x: \n",
      "[ 240  -25 -170 ...  -13  -60  -78]\n",
      "sr_orig: 44100\n",
      "y: \n",
      "[-178 -127 -142 ...   25    8   57]\n"
     ]
    },
    {
     "name": "stderr",
     "output_type": "stream",
     "text": [
      "\r",
      " 48%|██████████████████████████████████████▍                                         | 294/612 [02:52<03:06,  1.70it/s]"
     ]
    },
    {
     "name": "stdout",
     "output_type": "stream",
     "text": [
      "index: 294\n",
      "row: \n",
      "filename      EFAF2011A025.WAV\n",
      "start                 25990877\n",
      "duration                 30636\n",
      "type                    rumble\n",
      "background                   1\n",
      "Name: 294, dtype: object\n",
      "source filename: EFAF2011A025.WAV\n",
      ".\\adventureswithelephants_dataset\\wavs\\all\\efaf2011a025.wav\n",
      "x: \n",
      "[ 240  -25 -170 ...  -13  -60  -78]\n",
      "sr_orig: 44100\n",
      "y: \n",
      "[ -40 -111  -20 ...    8    0    0]\n",
      "yb class: [ 21   0   0 ...   5  13 -37]\n"
     ]
    },
    {
     "name": "stderr",
     "output_type": "stream",
     "text": [
      "\r",
      " 48%|██████████████████████████████████████▌                                         | 295/612 [02:53<03:06,  1.70it/s]"
     ]
    },
    {
     "name": "stdout",
     "output_type": "stream",
     "text": [
      "index: 295\n",
      "row: \n",
      "filename      EFAF2011A025.WAV\n",
      "start                 26067007\n",
      "duration                 34349\n",
      "type                    rumble\n",
      "background                   0\n",
      "Name: 295, dtype: object\n",
      "source filename: EFAF2011A025.WAV\n",
      ".\\adventureswithelephants_dataset\\wavs\\all\\efaf2011a025.wav\n",
      "x: \n",
      "[ 240  -25 -170 ...  -13  -60  -78]\n",
      "sr_orig: 44100\n",
      "y: \n",
      "[-46   0   0 ...  99 105   0]\n"
     ]
    },
    {
     "name": "stderr",
     "output_type": "stream",
     "text": [
      "\r",
      " 48%|██████████████████████████████████████▋                                         | 296/612 [02:53<03:05,  1.70it/s]"
     ]
    },
    {
     "name": "stdout",
     "output_type": "stream",
     "text": [
      "index: 296\n",
      "row: \n",
      "filename      EFAF2011A025.WAV\n",
      "start                 26481062\n",
      "duration                 61272\n",
      "type                    rumble\n",
      "background                   0\n",
      "Name: 296, dtype: object\n",
      "source filename: EFAF2011A025.WAV\n",
      ".\\adventureswithelephants_dataset\\wavs\\all\\efaf2011a025.wav\n",
      "x: \n",
      "[ 240  -25 -170 ...  -13  -60  -78]\n",
      "sr_orig: 44100\n",
      "y: \n",
      "[ 30 -20 -20 ...   0  17  23]\n"
     ]
    },
    {
     "name": "stderr",
     "output_type": "stream",
     "text": [
      "\r",
      " 49%|██████████████████████████████████████▊                                         | 297/612 [02:54<03:04,  1.70it/s]"
     ]
    },
    {
     "name": "stdout",
     "output_type": "stream",
     "text": [
      "index: 297\n",
      "row: \n",
      "filename      EFAF2011A025.WAV\n",
      "start                 31558705\n",
      "duration                152992\n",
      "type                    rumble\n",
      "background                   1\n",
      "Name: 297, dtype: object\n",
      "source filename: EFAF2011A025.WAV\n",
      ".\\adventureswithelephants_dataset\\wavs\\all\\efaf2011a025.wav\n",
      "x: \n",
      "[ 240  -25 -170 ...  -13  -60  -78]\n",
      "sr_orig: 44100\n",
      "y: \n",
      "[  0 125   0 ...  58  17 -46]\n",
      "yb class: [   0   47   63 ...  -11 -223    0]\n"
     ]
    },
    {
     "name": "stderr",
     "output_type": "stream",
     "text": [
      "\r",
      " 49%|██████████████████████████████████████▉                                         | 298/612 [02:55<03:04,  1.70it/s]"
     ]
    },
    {
     "name": "stdout",
     "output_type": "stream",
     "text": [
      "index: 298\n",
      "row: \n",
      "filename      EFAF2011A025.WAV\n",
      "start                 32635309\n",
      "duration                152988\n",
      "type                    rumble\n",
      "background                   1\n",
      "Name: 298, dtype: object\n",
      "source filename: EFAF2011A025.WAV\n",
      ".\\adventureswithelephants_dataset\\wavs\\all\\efaf2011a025.wav\n",
      "x: \n",
      "[ 240  -25 -170 ...  -13  -60  -78]\n",
      "sr_orig: 44100\n",
      "y: \n",
      "[  12  -33 -111 ...   27  -70    5]\n",
      "yb class: [-4 -6  0 ...  0 39 10]\n"
     ]
    },
    {
     "name": "stderr",
     "output_type": "stream",
     "text": [
      "\r",
      " 49%|███████████████████████████████████████                                         | 299/612 [02:55<03:04,  1.70it/s]"
     ]
    },
    {
     "name": "stdout",
     "output_type": "stream",
     "text": [
      "index: 299\n",
      "row: \n",
      "filename      EFAF2011A025.WAV\n",
      "start                 33201941\n",
      "duration                232319\n",
      "type                   snumble\n",
      "background                   0\n",
      "Name: 299, dtype: object\n",
      "source filename: EFAF2011A025.WAV\n",
      ".\\adventureswithelephants_dataset\\wavs\\all\\efaf2011a025.wav\n",
      "x: \n",
      "[ 240  -25 -170 ...  -13  -60  -78]\n",
      "sr_orig: 44100\n",
      "y: \n",
      "[   0   20   76 ...  114  -11 -181]\n"
     ]
    },
    {
     "name": "stderr",
     "output_type": "stream",
     "text": [
      "\r",
      " 49%|███████████████████████████████████████▏                                        | 300/612 [02:56<03:03,  1.70it/s]"
     ]
    },
    {
     "name": "stdout",
     "output_type": "stream",
     "text": [
      "index: 300\n",
      "row: \n",
      "filename      EFAF2011A025.WAV\n",
      "start                 34074552\n",
      "duration                215323\n",
      "type                    rumble\n",
      "background                   1\n",
      "Name: 300, dtype: object\n",
      "source filename: EFAF2011A025.WAV\n",
      ".\\adventureswithelephants_dataset\\wavs\\all\\efaf2011a025.wav\n",
      "x: \n",
      "[ 240  -25 -170 ...  -13  -60  -78]\n",
      "sr_orig: 44100\n",
      "y: \n",
      "[ 9  0 14 ... 35 -1  0]\n",
      "yb class: [73 88  0 ...  4 86 16]\n"
     ]
    },
    {
     "name": "stderr",
     "output_type": "stream",
     "text": [
      "\r",
      " 49%|███████████████████████████████████████▎                                        | 301/612 [02:57<03:02,  1.70it/s]"
     ]
    },
    {
     "name": "stdout",
     "output_type": "stream",
     "text": [
      "index: 301\n",
      "row: \n",
      "filename      EFAF2011A025.WAV\n",
      "start                 34760180\n",
      "duration                130324\n",
      "type                    rumble\n",
      "background                   1\n",
      "Name: 301, dtype: object\n",
      "source filename: EFAF2011A025.WAV\n",
      ".\\adventureswithelephants_dataset\\wavs\\all\\efaf2011a025.wav\n",
      "x: \n",
      "[ 240  -25 -170 ...  -13  -60  -78]\n",
      "sr_orig: 44100\n",
      "y: \n",
      "[ -15 -142   57 ...    4    1    2]\n",
      "yb class: [-87   0  88 ...  83 107  -2]\n"
     ]
    },
    {
     "name": "stderr",
     "output_type": "stream",
     "text": [
      "\r",
      " 49%|███████████████████████████████████████▍                                        | 302/612 [02:57<03:02,  1.70it/s]"
     ]
    },
    {
     "name": "stdout",
     "output_type": "stream",
     "text": [
      "index: 302\n",
      "row: \n",
      "filename      EFAF2011A025.WAV\n",
      "start                 35117160\n",
      "duration                124658\n",
      "type                    rumble\n",
      "background                   0\n",
      "Name: 302, dtype: object\n",
      "source filename: EFAF2011A025.WAV\n",
      ".\\adventureswithelephants_dataset\\wavs\\all\\efaf2011a025.wav\n",
      "x: \n",
      "[ 240  -25 -170 ...  -13  -60  -78]\n",
      "sr_orig: 44100\n",
      "y: \n",
      "[ -9  15 162 ...  -1 -64 -12]\n"
     ]
    },
    {
     "name": "stderr",
     "output_type": "stream",
     "text": [
      "\r",
      " 50%|███████████████████████████████████████▌                                        | 303/612 [02:58<03:01,  1.70it/s]"
     ]
    },
    {
     "name": "stdout",
     "output_type": "stream",
     "text": [
      "index: 303\n",
      "row: \n",
      "filename      EFAF2011A025.WAV\n",
      "start                 35734790\n",
      "duration                 84994\n",
      "type                    rumble\n",
      "background                   1\n",
      "Name: 303, dtype: object\n",
      "source filename: EFAF2011A025.WAV\n",
      ".\\adventureswithelephants_dataset\\wavs\\all\\efaf2011a025.wav\n",
      "x: \n",
      "[ 240  -25 -170 ...  -13  -60  -78]\n",
      "sr_orig: 44100\n",
      "y: \n",
      "[  64  146    0 ...   42 -228  -80]\n",
      "yb class: [-73 -63   0 ...  -7 -26  58]\n"
     ]
    },
    {
     "name": "stderr",
     "output_type": "stream",
     "text": [
      "\r",
      " 50%|███████████████████████████████████████▋                                        | 304/612 [02:59<03:01,  1.70it/s]"
     ]
    },
    {
     "name": "stdout",
     "output_type": "stream",
     "text": [
      "index: 304\n",
      "row: \n",
      "filename      EFAF2011A025.WAV\n",
      "start                 36148430\n",
      "duration                 96328\n",
      "type                    rumble\n",
      "background                   0\n",
      "Name: 304, dtype: object\n",
      "source filename: EFAF2011A025.WAV\n",
      ".\\adventureswithelephants_dataset\\wavs\\all\\efaf2011a025.wav\n",
      "x: \n",
      "[ 240  -25 -170 ...  -13  -60  -78]\n",
      "sr_orig: 44100\n",
      "y: \n",
      "[   0   95   82 ... -100   -8  130]\n"
     ]
    },
    {
     "name": "stderr",
     "output_type": "stream",
     "text": [
      "\r",
      " 50%|███████████████████████████████████████▊                                        | 305/612 [02:59<03:00,  1.70it/s]"
     ]
    },
    {
     "name": "stdout",
     "output_type": "stream",
     "text": [
      "index: 305\n",
      "row: \n",
      "filename      EFAF2011A025.WAV\n",
      "start                 36556408\n",
      "duration                107657\n",
      "type                    rumble\n",
      "background                   0\n",
      "Name: 305, dtype: object\n",
      "source filename: EFAF2011A025.WAV\n",
      ".\\adventureswithelephants_dataset\\wavs\\all\\efaf2011a025.wav\n",
      "x: \n",
      "[ 240  -25 -170 ...  -13  -60  -78]\n",
      "sr_orig: 44100\n",
      "y: \n",
      "[  6  48   0 ...  77   1 -35]\n"
     ]
    },
    {
     "name": "stderr",
     "output_type": "stream",
     "text": [
      "\r",
      " 50%|████████████████████████████████████████                                        | 306/612 [02:59<02:59,  1.70it/s]"
     ]
    },
    {
     "name": "stdout",
     "output_type": "stream",
     "text": [
      "index: 306\n",
      "row: \n",
      "filename      EFAF2011A025.WAV\n",
      "start                 38392295\n",
      "duration                254986\n",
      "type                    rumble\n",
      "background                   1\n",
      "Name: 306, dtype: object\n",
      "source filename: EFAF2011A025.WAV\n",
      ".\\adventureswithelephants_dataset\\wavs\\all\\efaf2011a025.wav\n",
      "x: \n",
      "[ 240  -25 -170 ...  -13  -60  -78]\n",
      "sr_orig: 44100\n",
      "y: \n",
      "[  0   0   0 ...  10 -36   0]\n",
      "yb class: [  0 -20   6 ...  27  27   0]\n"
     ]
    },
    {
     "name": "stderr",
     "output_type": "stream",
     "text": [
      "\r",
      " 50%|████████████████████████████████████████▏                                       | 307/612 [03:00<02:59,  1.70it/s]"
     ]
    },
    {
     "name": "stdout",
     "output_type": "stream",
     "text": [
      "index: 307\n",
      "row: \n",
      "filename      EFAF2011A025.WAV\n",
      "start                 40736012\n",
      "duration                106925\n",
      "type                    rumble\n",
      "background                   1\n",
      "Name: 307, dtype: object\n",
      "source filename: EFAF2011A025.WAV\n",
      ".\\adventureswithelephants_dataset\\wavs\\all\\efaf2011a025.wav\n",
      "x: \n",
      "[ 240  -25 -170 ...  -13  -60  -78]\n",
      "sr_orig: 44100\n",
      "y: \n",
      "[  4  84  77 ...  32 131  31]\n",
      "yb class: [ 54 -27 -66 ...  -1   1   0]\n"
     ]
    },
    {
     "name": "stderr",
     "output_type": "stream",
     "text": [
      "\r",
      " 50%|████████████████████████████████████████▎                                       | 308/612 [03:01<02:59,  1.70it/s]"
     ]
    },
    {
     "name": "stdout",
     "output_type": "stream",
     "text": [
      "index: 308\n",
      "row: \n",
      "filename      EFAF2011A025.WAV\n",
      "start                 43221999\n",
      "duration                203156\n",
      "type                    rumble\n",
      "background                   1\n",
      "Name: 308, dtype: object\n",
      "source filename: EFAF2011A025.WAV\n",
      ".\\adventureswithelephants_dataset\\wavs\\all\\efaf2011a025.wav\n",
      "x: \n",
      "[ 240  -25 -170 ...  -13  -60  -78]\n",
      "sr_orig: 44100\n",
      "y: \n",
      "[  0 -65 -10 ...  -3 -28   0]\n",
      "yb class: [ 55 148  19 ... -22  -1   0]\n"
     ]
    },
    {
     "name": "stderr",
     "output_type": "stream",
     "text": [
      "\r",
      " 50%|████████████████████████████████████████▍                                       | 309/612 [03:02<02:58,  1.70it/s]"
     ]
    },
    {
     "name": "stdout",
     "output_type": "stream",
     "text": [
      "index: 309\n",
      "row: \n",
      "filename      EFAF2011A025.WAV\n",
      "start                 43419806\n",
      "duration                181771\n",
      "type                    rumble\n",
      "background                   0\n",
      "Name: 309, dtype: object\n",
      "source filename: EFAF2011A025.WAV\n",
      ".\\adventureswithelephants_dataset\\wavs\\all\\efaf2011a025.wav\n",
      "x: \n",
      "[ 240  -25 -170 ...  -13  -60  -78]\n",
      "sr_orig: 44100\n",
      "y: \n",
      "[  91  112   44 ...   60  -10 -155]\n"
     ]
    },
    {
     "name": "stderr",
     "output_type": "stream",
     "text": [
      "\r",
      " 51%|████████████████████████████████████████▌                                       | 310/612 [03:02<02:57,  1.70it/s]"
     ]
    },
    {
     "name": "stdout",
     "output_type": "stream",
     "text": [
      "index: 310\n",
      "row: \n",
      "filename      EFAF2011A025.WAV\n",
      "start                 43735231\n",
      "duration                117619\n",
      "type                    rumble\n",
      "background                   0\n",
      "Name: 310, dtype: object\n",
      "source filename: EFAF2011A025.WAV\n",
      ".\\adventureswithelephants_dataset\\wavs\\all\\efaf2011a025.wav\n",
      "x: \n",
      "[ 240  -25 -170 ...  -13  -60  -78]\n",
      "sr_orig: 44100\n",
      "y: \n",
      "[ 102   17 -178 ...   44   51   16]\n"
     ]
    },
    {
     "name": "stderr",
     "output_type": "stream",
     "text": [
      "\r",
      " 51%|████████████████████████████████████████▋                                       | 311/612 [03:03<02:57,  1.70it/s]"
     ]
    },
    {
     "name": "stdout",
     "output_type": "stream",
     "text": [
      "index: 311\n",
      "row: \n",
      "filename      EFAF2011A025.WAV\n",
      "start                 43874234\n",
      "duration                187116\n",
      "type                    rumble\n",
      "background                   0\n",
      "Name: 311, dtype: object\n",
      "source filename: EFAF2011A025.WAV\n",
      ".\\adventureswithelephants_dataset\\wavs\\all\\efaf2011a025.wav\n",
      "x: \n",
      "[ 240  -25 -170 ...  -13  -60  -78]\n",
      "sr_orig: 44100\n",
      "y: \n",
      "[   0  -19  -57 ... -186    3   35]\n"
     ]
    },
    {
     "name": "stderr",
     "output_type": "stream",
     "text": [
      "\r",
      " 51%|████████████████████████████████████████▊                                       | 312/612 [03:03<02:56,  1.70it/s]"
     ]
    },
    {
     "name": "stdout",
     "output_type": "stream",
     "text": [
      "index: 312\n",
      "row: \n",
      "filename      EFAF2011A025.WAV\n",
      "start                 44232432\n",
      "duration                267308\n",
      "type                    rumble\n",
      "background                   0\n",
      "Name: 312, dtype: object\n",
      "source filename: EFAF2011A025.WAV\n",
      ".\\adventureswithelephants_dataset\\wavs\\all\\efaf2011a025.wav\n",
      "x: \n",
      "[ 240  -25 -170 ...  -13  -60  -78]\n",
      "sr_orig: 44100\n",
      "y: \n",
      "[ 80   0  -4 ... -11   2 151]\n"
     ]
    },
    {
     "name": "stderr",
     "output_type": "stream",
     "text": [
      "\r",
      " 51%|████████████████████████████████████████▉                                       | 313/612 [03:04<02:55,  1.70it/s]"
     ]
    },
    {
     "name": "stdout",
     "output_type": "stream",
     "text": [
      "index: 313\n",
      "row: \n",
      "filename      EFAF2011A025.WAV\n",
      "start                 44505084\n",
      "duration                272658\n",
      "type                    rumble\n",
      "background                   0\n",
      "Name: 313, dtype: object\n",
      "source filename: EFAF2011A025.WAV\n",
      ".\\adventureswithelephants_dataset\\wavs\\all\\efaf2011a025.wav\n",
      "x: \n",
      "[ 240  -25 -170 ...  -13  -60  -78]\n",
      "sr_orig: 44100\n",
      "y: \n",
      "[  10    0  -30 ... -277  -68 -130]\n"
     ]
    },
    {
     "name": "stderr",
     "output_type": "stream",
     "text": [
      "\r",
      " 51%|█████████████████████████████████████████                                       | 314/612 [03:04<02:55,  1.70it/s]"
     ]
    },
    {
     "name": "stdout",
     "output_type": "stream",
     "text": [
      "index: 314\n",
      "row: \n",
      "filename      EFAF2011A025.WAV\n",
      "start                 44890011\n",
      "duration                208505\n",
      "type                    rumble\n",
      "background                   0\n",
      "Name: 314, dtype: object\n",
      "source filename: EFAF2011A025.WAV\n",
      ".\\adventureswithelephants_dataset\\wavs\\all\\efaf2011a025.wav\n",
      "x: \n",
      "[ 240  -25 -170 ...  -13  -60  -78]\n",
      "sr_orig: 44100\n",
      "y: \n",
      "[114  38 -31 ...  30  13 -16]\n"
     ]
    },
    {
     "name": "stderr",
     "output_type": "stream",
     "text": [
      "\r",
      " 51%|█████████████████████████████████████████▏                                      | 315/612 [03:05<02:54,  1.70it/s]"
     ]
    },
    {
     "name": "stdout",
     "output_type": "stream",
     "text": [
      "index: 315\n",
      "row: \n",
      "filename      EFAF2011A025.WAV\n",
      "start                 45157892\n",
      "duration                233938\n",
      "type                    rumble\n",
      "background                   0\n",
      "Name: 315, dtype: object\n",
      "source filename: EFAF2011A025.WAV\n",
      ".\\adventureswithelephants_dataset\\wavs\\all\\efaf2011a025.wav\n",
      "x: \n",
      "[ 240  -25 -170 ...  -13  -60  -78]\n",
      "sr_orig: 44100\n",
      "y: \n",
      "[ 53 -14 -66 ...  -7  -8  19]\n"
     ]
    },
    {
     "name": "stderr",
     "output_type": "stream",
     "text": [
      "\r",
      " 52%|█████████████████████████████████████████▎                                      | 316/612 [03:05<02:53,  1.70it/s]"
     ]
    },
    {
     "name": "stdout",
     "output_type": "stream",
     "text": [
      "index: 316\n",
      "row: \n",
      "filename      EFAF2011A025.WAV\n",
      "start                 45303197\n",
      "duration                298456\n",
      "type                    rumble\n",
      "background                   0\n",
      "Name: 316, dtype: object\n",
      "source filename: EFAF2011A025.WAV\n",
      ".\\adventureswithelephants_dataset\\wavs\\all\\efaf2011a025.wav\n",
      "x: \n",
      "[ 240  -25 -170 ...  -13  -60  -78]\n",
      "sr_orig: 44100\n",
      "y: \n",
      "[269 300 273 ...  93  34   0]\n"
     ]
    },
    {
     "name": "stderr",
     "output_type": "stream",
     "text": [
      "\r",
      " 52%|█████████████████████████████████████████▍                                      | 317/612 [03:05<02:52,  1.71it/s]"
     ]
    },
    {
     "name": "stdout",
     "output_type": "stream",
     "text": [
      "index: 317\n",
      "row: \n",
      "filename      EFAF2011A025.WAV\n",
      "start                 13405689\n",
      "duration                126590\n",
      "type                    rumble\n",
      "background                   0\n",
      "Name: 317, dtype: object\n",
      "source filename: EFAF2011A025.WAV\n",
      ".\\adventureswithelephants_dataset\\wavs\\all\\efaf2011a025.wav\n",
      "x: \n",
      "[ 240  -25 -170 ...  -13  -60  -78]\n",
      "sr_orig: 44100\n",
      "y: \n",
      "[-266  -62   43 ...   13 -212  -61]\n"
     ]
    },
    {
     "name": "stderr",
     "output_type": "stream",
     "text": [
      "\r",
      " 52%|█████████████████████████████████████████▌                                      | 318/612 [03:06<02:52,  1.71it/s]"
     ]
    },
    {
     "name": "stdout",
     "output_type": "stream",
     "text": [
      "index: 318\n",
      "row: \n",
      "filename      EFAF2011A026.WAV\n",
      "start                  1150591\n",
      "duration                143069\n",
      "type                    rumble\n",
      "background                   0\n",
      "Name: 318, dtype: object\n",
      "source filename: EFAF2011A026.WAV\n",
      ".\\adventureswithelephants_dataset\\wavs\\all\\efaf2011a026.wav\n",
      "x: \n",
      "[ -57  -50  -38 ... -225 -239 -273]\n",
      "sr_orig: 44100\n",
      "y: \n",
      "[   0    0    0 ... -123 -135 -131]\n"
     ]
    },
    {
     "name": "stderr",
     "output_type": "stream",
     "text": [
      "\r",
      " 52%|█████████████████████████████████████████▋                                      | 319/612 [03:06<02:51,  1.71it/s]"
     ]
    },
    {
     "name": "stdout",
     "output_type": "stream",
     "text": [
      "index: 319\n",
      "row: \n",
      "filename      EFAF2011A026.WAV\n",
      "start                  1933833\n",
      "duration                460735\n",
      "type                    rumble\n",
      "background                   1\n",
      "Name: 319, dtype: object\n",
      "source filename: EFAF2011A026.WAV\n",
      ".\\adventureswithelephants_dataset\\wavs\\all\\efaf2011a026.wav\n",
      "x: \n",
      "[ -57  -50  -38 ... -225 -239 -273]\n",
      "sr_orig: 44100\n",
      "y: \n",
      "[  46   47   37 ... -286 -303 -280]\n",
      "yb class: [ 0  0  0 ... 51 51 46]\n"
     ]
    },
    {
     "name": "stderr",
     "output_type": "stream",
     "text": [
      "\r",
      " 52%|█████████████████████████████████████████▊                                      | 320/612 [03:07<02:51,  1.71it/s]"
     ]
    },
    {
     "name": "stdout",
     "output_type": "stream",
     "text": [
      "index: 320\n",
      "row: \n",
      "filename      EFAF2011A026.WAV\n",
      "start                  1934927\n",
      "duration                401261\n",
      "type                    rumble\n",
      "background                   0\n",
      "Name: 320, dtype: object\n",
      "source filename: EFAF2011A026.WAV\n",
      ".\\adventureswithelephants_dataset\\wavs\\all\\efaf2011a026.wav\n",
      "x: \n",
      "[ -57  -50  -38 ... -225 -239 -273]\n",
      "sr_orig: 44100\n",
      "y: \n",
      "[-360 -362 -333 ... -836 -893 -861]\n"
     ]
    },
    {
     "name": "stderr",
     "output_type": "stream",
     "text": [
      "\r",
      " 52%|█████████████████████████████████████████▉                                      | 321/612 [03:07<02:50,  1.71it/s]"
     ]
    },
    {
     "name": "stdout",
     "output_type": "stream",
     "text": [
      "index: 321\n",
      "row: \n",
      "filename      EFAF2011A026.WAV\n",
      "start                  2083866\n",
      "duration                309269\n",
      "type                    rumble\n",
      "background                   0\n",
      "Name: 321, dtype: object\n",
      "source filename: EFAF2011A026.WAV\n",
      ".\\adventureswithelephants_dataset\\wavs\\all\\efaf2011a026.wav\n",
      "x: \n",
      "[ -57  -50  -38 ... -225 -239 -273]\n",
      "sr_orig: 44100\n",
      "y: \n",
      "[-1382 -1394 -1233 ...  -184  -209  -205]\n"
     ]
    },
    {
     "name": "stderr",
     "output_type": "stream",
     "text": [
      "\r",
      " 53%|██████████████████████████████████████████                                      | 322/612 [03:08<02:49,  1.71it/s]"
     ]
    },
    {
     "name": "stdout",
     "output_type": "stream",
     "text": [
      "index: 322\n",
      "row: \n",
      "filename      EFAF2011A026.WAV\n",
      "start                  2223874\n",
      "duration                111957\n",
      "type                    rumble\n",
      "background                   0\n",
      "Name: 322, dtype: object\n",
      "source filename: EFAF2011A026.WAV\n",
      ".\\adventureswithelephants_dataset\\wavs\\all\\efaf2011a026.wav\n",
      "x: \n",
      "[ -57  -50  -38 ... -225 -239 -273]\n",
      "sr_orig: 44100\n",
      "y: \n",
      "[-941 -986 -927 ... -365 -396 -384]\n"
     ]
    },
    {
     "name": "stderr",
     "output_type": "stream",
     "text": [
      "\r",
      " 53%|██████████████████████████████████████████▏                                     | 323/612 [03:08<02:48,  1.71it/s]"
     ]
    },
    {
     "name": "stdout",
     "output_type": "stream",
     "text": [
      "index: 323\n",
      "row: \n",
      "filename      EFAF2011A026.WAV\n",
      "start                  2445490\n",
      "duration                191570\n",
      "type                    rumble\n",
      "background                   0\n",
      "Name: 323, dtype: object\n",
      "source filename: EFAF2011A026.WAV\n",
      ".\\adventureswithelephants_dataset\\wavs\\all\\efaf2011a026.wav\n",
      "x: \n",
      "[ -57  -50  -38 ... -225 -239 -273]\n",
      "sr_orig: 44100\n",
      "y: \n",
      "[  135   141   131 ... -3832 -4053 -3853]\n"
     ]
    },
    {
     "name": "stderr",
     "output_type": "stream",
     "text": [
      "\r",
      " 53%|██████████████████████████████████████████▎                                     | 324/612 [03:09<02:48,  1.71it/s]"
     ]
    },
    {
     "name": "stdout",
     "output_type": "stream",
     "text": [
      "index: 324\n",
      "row: \n",
      "filename      EFAF2011A026.WAV\n",
      "start                  2544913\n",
      "duration                203694\n",
      "type                    rumble\n",
      "background                   0\n",
      "Name: 324, dtype: object\n",
      "source filename: EFAF2011A026.WAV\n",
      ".\\adventureswithelephants_dataset\\wavs\\all\\efaf2011a026.wav\n",
      "x: \n",
      "[ -57  -50  -38 ... -225 -239 -273]\n",
      "sr_orig: 44100\n",
      "y: \n",
      "[ -224  -245  -236 ...  -973 -1055 -1027]\n"
     ]
    },
    {
     "name": "stderr",
     "output_type": "stream",
     "text": [
      "\r",
      " 53%|██████████████████████████████████████████▍                                     | 325/612 [03:09<02:47,  1.71it/s]"
     ]
    },
    {
     "name": "stdout",
     "output_type": "stream",
     "text": [
      "index: 325\n",
      "row: \n",
      "filename      EFAF2011A026.WAV\n",
      "start                  2781254\n",
      "duration                134042\n",
      "type                    rumble\n",
      "background                   0\n",
      "Name: 325, dtype: object\n",
      "source filename: EFAF2011A026.WAV\n",
      ".\\adventureswithelephants_dataset\\wavs\\all\\efaf2011a026.wav\n",
      "x: \n",
      "[ -57  -50  -38 ... -225 -239 -273]\n",
      "sr_orig: 44100\n",
      "y: \n",
      "[158 164 159 ... 763 818 787]\n"
     ]
    },
    {
     "name": "stderr",
     "output_type": "stream",
     "text": [
      "\r",
      " 53%|██████████████████████████████████████████▌                                     | 326/612 [03:09<02:46,  1.72it/s]"
     ]
    },
    {
     "name": "stdout",
     "output_type": "stream",
     "text": [
      "index: 326\n",
      "row: \n",
      "filename      EFAF2011A026.WAV\n",
      "start                  2791208\n",
      "duration                236005\n",
      "type                    rumble\n",
      "background                   0\n",
      "Name: 326, dtype: object\n",
      "source filename: EFAF2011A026.WAV\n",
      ".\\adventureswithelephants_dataset\\wavs\\all\\efaf2011a026.wav\n",
      "x: \n",
      "[ -57  -50  -38 ... -225 -239 -273]\n",
      "sr_orig: 44100\n",
      "y: \n",
      "[   0    3   22 ... -234 -237 -218]\n"
     ]
    },
    {
     "name": "stderr",
     "output_type": "stream",
     "text": [
      "\r",
      " 53%|██████████████████████████████████████████▋                                     | 327/612 [03:10<02:45,  1.72it/s]"
     ]
    },
    {
     "name": "stdout",
     "output_type": "stream",
     "text": [
      "index: 327\n",
      "row: \n",
      "filename      EFAF2011A026.WAV\n",
      "start                  2953085\n",
      "duration                133130\n",
      "type                    rumble\n",
      "background                   0\n",
      "Name: 327, dtype: object\n",
      "source filename: EFAF2011A026.WAV\n",
      ".\\adventureswithelephants_dataset\\wavs\\all\\efaf2011a026.wav\n",
      "x: \n",
      "[ -57  -50  -38 ... -225 -239 -273]\n",
      "sr_orig: 44100\n",
      "y: \n",
      "[146 158 140 ...   0   0   0]\n"
     ]
    },
    {
     "name": "stderr",
     "output_type": "stream",
     "text": [
      "\r",
      " 54%|██████████████████████████████████████████▉                                     | 328/612 [03:10<02:45,  1.72it/s]"
     ]
    },
    {
     "name": "stdout",
     "output_type": "stream",
     "text": [
      "index: 328\n",
      "row: \n",
      "filename      EFAF2011A026.WAV\n",
      "start                  2953085\n",
      "duration                311651\n",
      "type                    rumble\n",
      "background                   0\n",
      "Name: 328, dtype: object\n",
      "source filename: EFAF2011A026.WAV\n",
      ".\\adventureswithelephants_dataset\\wavs\\all\\efaf2011a026.wav\n",
      "x: \n",
      "[ -57  -50  -38 ... -225 -239 -273]\n",
      "sr_orig: 44100\n",
      "y: \n",
      "[146 158 140 ...   0   0   0]\n"
     ]
    },
    {
     "name": "stderr",
     "output_type": "stream",
     "text": [
      "\r",
      " 54%|███████████████████████████████████████████                                     | 329/612 [03:11<02:44,  1.72it/s]"
     ]
    },
    {
     "name": "stdout",
     "output_type": "stream",
     "text": [
      "index: 329\n",
      "row: \n",
      "filename      EFAF2011A026.WAV\n",
      "start                  7665925\n",
      "duration                153728\n",
      "type                    rumble\n",
      "background                   1\n",
      "Name: 329, dtype: object\n",
      "source filename: EFAF2011A026.WAV\n",
      ".\\adventureswithelephants_dataset\\wavs\\all\\efaf2011a026.wav\n",
      "x: \n",
      "[ -57  -50  -38 ... -225 -239 -273]\n",
      "sr_orig: 44100\n",
      "y: \n",
      "[ 39  44  41 ... -89 -97 -89]\n",
      "yb class: [ -98 -111 -112 ...   37   41   41]\n"
     ]
    },
    {
     "name": "stderr",
     "output_type": "stream",
     "text": [
      "\r",
      " 54%|███████████████████████████████████████████▏                                    | 330/612 [03:11<02:44,  1.72it/s]"
     ]
    },
    {
     "name": "stdout",
     "output_type": "stream",
     "text": [
      "index: 330\n",
      "row: \n",
      "filename      EFAF2011A026.WAV\n",
      "start                  8879848\n",
      "duration                153728\n",
      "type                    rumble\n",
      "background                   1\n",
      "Name: 330, dtype: object\n",
      "source filename: EFAF2011A026.WAV\n",
      ".\\adventureswithelephants_dataset\\wavs\\all\\efaf2011a026.wav\n",
      "x: \n",
      "[ -57  -50  -38 ... -225 -239 -273]\n",
      "sr_orig: 44100\n",
      "y: \n",
      "[ 112  140  132 ... -573 -605 -568]\n",
      "yb class: [-90 -93 -82 ...  77  96 112]\n"
     ]
    },
    {
     "name": "stderr",
     "output_type": "stream",
     "text": [
      "\r",
      " 54%|███████████████████████████████████████████▎                                    | 331/612 [03:12<02:43,  1.72it/s]"
     ]
    },
    {
     "name": "stdout",
     "output_type": "stream",
     "text": [
      "index: 331\n",
      "row: \n",
      "filename      EFAF2011A026.WAV\n",
      "start                 10321706\n",
      "duration                164330\n",
      "type                    rumble\n",
      "background                   1\n",
      "Name: 331, dtype: object\n",
      "source filename: EFAF2011A026.WAV\n",
      ".\\adventureswithelephants_dataset\\wavs\\all\\efaf2011a026.wav\n",
      "x: \n",
      "[ -57  -50  -38 ... -225 -239 -273]\n",
      "sr_orig: 44100\n",
      "y: \n",
      "[-40 -51 -59 ... 650 695 666]\n",
      "yb class: [122 142 141 ... -34 -38 -39]\n"
     ]
    },
    {
     "name": "stderr",
     "output_type": "stream",
     "text": [
      "\r",
      " 54%|███████████████████████████████████████████▍                                    | 332/612 [03:13<02:43,  1.71it/s]"
     ]
    },
    {
     "name": "stdout",
     "output_type": "stream",
     "text": [
      "index: 332\n",
      "row: \n",
      "filename      EFAF2011A026.WAV\n",
      "start                 12081627\n",
      "duration                174931\n",
      "type                    rumble\n",
      "background                   1\n",
      "Name: 332, dtype: object\n",
      "source filename: EFAF2011A026.WAV\n",
      ".\\adventureswithelephants_dataset\\wavs\\all\\efaf2011a026.wav\n",
      "x: \n",
      "[ -57  -50  -38 ... -225 -239 -273]\n",
      "sr_orig: 44100\n",
      "y: \n",
      "[-54 -61 -56 ... -68 -72 -62]\n",
      "yb class: [ 40  46  40 ... -57 -59 -55]\n"
     ]
    },
    {
     "name": "stderr",
     "output_type": "stream",
     "text": [
      "\r",
      " 54%|███████████████████████████████████████████▌                                    | 333/612 [03:14<02:42,  1.71it/s]"
     ]
    },
    {
     "name": "stdout",
     "output_type": "stream",
     "text": [
      "index: 333\n",
      "row: \n",
      "filename      EFAF2011A026.WAV\n",
      "start                 14111898\n",
      "duration                174932\n",
      "type                    rumble\n",
      "background                   1\n",
      "Name: 333, dtype: object\n",
      "source filename: EFAF2011A026.WAV\n",
      ".\\adventureswithelephants_dataset\\wavs\\all\\efaf2011a026.wav\n",
      "x: \n",
      "[ -57  -50  -38 ... -225 -239 -273]\n",
      "sr_orig: 44100\n",
      "y: \n",
      "[101 115 111 ...   0   1   0]\n",
      "yb class: [263 274 253 ...  87  98  98]\n"
     ]
    },
    {
     "name": "stderr",
     "output_type": "stream",
     "text": [
      "\r",
      " 55%|███████████████████████████████████████████▋                                    | 334/612 [03:15<02:42,  1.71it/s]"
     ]
    },
    {
     "name": "stdout",
     "output_type": "stream",
     "text": [
      "index: 334\n",
      "row: \n",
      "filename      EFAF2011A026.WAV\n",
      "start                 16127872\n",
      "duration                128662\n",
      "type                    rumble\n",
      "background                   1\n",
      "Name: 334, dtype: object\n",
      "source filename: EFAF2011A026.WAV\n",
      ".\\adventureswithelephants_dataset\\wavs\\all\\efaf2011a026.wav\n",
      "x: \n",
      "[ -57  -50  -38 ... -225 -239 -273]\n",
      "sr_orig: 44100\n",
      "y: \n",
      "[ -99 -103  -97 ...  -43  -46  -38]\n",
      "yb class: [   5    8    7 ... -104 -106  -95]\n"
     ]
    },
    {
     "name": "stderr",
     "output_type": "stream",
     "text": [
      "\r",
      " 55%|███████████████████████████████████████████▊                                    | 335/612 [03:16<02:42,  1.71it/s]"
     ]
    },
    {
     "name": "stdout",
     "output_type": "stream",
     "text": [
      "index: 335\n",
      "row: \n",
      "filename      EFAF2011A026.WAV\n",
      "start                 16723527\n",
      "duration                123894\n",
      "type                    rumble\n",
      "background                   1\n",
      "Name: 335, dtype: object\n",
      "source filename: EFAF2011A026.WAV\n",
      ".\\adventureswithelephants_dataset\\wavs\\all\\efaf2011a026.wav\n",
      "x: \n",
      "[ -57  -50  -38 ... -225 -239 -273]\n",
      "sr_orig: 44100\n",
      "y: \n",
      "[188 199 186 ...   0   0   0]\n",
      "yb class: [ 42  44  36 ... 180 196 184]\n"
     ]
    },
    {
     "name": "stderr",
     "output_type": "stream",
     "text": [
      "\r",
      " 55%|███████████████████████████████████████████▉                                    | 336/612 [03:16<02:41,  1.71it/s]"
     ]
    },
    {
     "name": "stdout",
     "output_type": "stream",
     "text": [
      "index: 336\n",
      "row: \n",
      "filename      EFAF2011A026.WAV\n",
      "start                 17328711\n",
      "duration                176312\n",
      "type                    rumble\n",
      "background                   1\n",
      "Name: 336, dtype: object\n",
      "source filename: EFAF2011A026.WAV\n",
      ".\\adventureswithelephants_dataset\\wavs\\all\\efaf2011a026.wav\n",
      "x: \n",
      "[ -57  -50  -38 ... -225 -239 -273]\n",
      "sr_orig: 44100\n",
      "y: \n",
      "[  0   0   0 ...  -4 -13 -17]\n",
      "yb class: [195 210 193 ...   0   0   0]\n"
     ]
    },
    {
     "name": "stderr",
     "output_type": "stream",
     "text": [
      "\r",
      " 55%|████████████████████████████████████████████                                    | 337/612 [03:17<02:41,  1.71it/s]"
     ]
    },
    {
     "name": "stdout",
     "output_type": "stream",
     "text": [
      "index: 337\n",
      "row: \n",
      "filename      EFAF2011A026.WAV\n",
      "start                 18367530\n",
      "duration                204902\n",
      "type                    rumble\n",
      "background                   1\n",
      "Name: 337, dtype: object\n",
      "source filename: EFAF2011A026.WAV\n",
      ".\\adventureswithelephants_dataset\\wavs\\all\\efaf2011a026.wav\n",
      "x: \n",
      "[ -57  -50  -38 ... -225 -239 -273]\n",
      "sr_orig: 44100\n",
      "y: \n",
      "[-139 -146 -130 ...  -27  -45  -51]\n",
      "yb class: [ 184  195  181 ... -142 -148 -138]\n"
     ]
    },
    {
     "name": "stderr",
     "output_type": "stream",
     "text": [
      "\r",
      " 55%|████████████████████████████████████████████▏                                   | 338/612 [03:18<02:40,  1.70it/s]"
     ]
    },
    {
     "name": "stdout",
     "output_type": "stream",
     "text": [
      "index: 338\n",
      "row: \n",
      "filename      EFAF2011A026.WAV\n",
      "start                 19830455\n",
      "duration                176312\n",
      "type                    rumble\n",
      "background                   1\n",
      "Name: 338, dtype: object\n",
      "source filename: EFAF2011A026.WAV\n",
      ".\\adventureswithelephants_dataset\\wavs\\all\\efaf2011a026.wav\n",
      "x: \n",
      "[ -57  -50  -38 ... -225 -239 -273]\n",
      "sr_orig: 44100\n",
      "y: \n",
      "[   0    0    0 ... -104 -112 -107]\n",
      "yb class: [127 124 114 ...   0  -1   0]\n"
     ]
    },
    {
     "name": "stderr",
     "output_type": "stream",
     "text": [
      "\r",
      " 55%|████████████████████████████████████████████▎                                   | 339/612 [03:19<02:40,  1.70it/s]"
     ]
    },
    {
     "name": "stdout",
     "output_type": "stream",
     "text": [
      "index: 339\n",
      "row: \n",
      "filename      EFAF2011A026.WAV\n",
      "start                 24881317\n",
      "duration                 89214\n",
      "type                   snumble\n",
      "background                   1\n",
      "Name: 339, dtype: object\n",
      "source filename: EFAF2011A026.WAV\n",
      ".\\adventureswithelephants_dataset\\wavs\\all\\efaf2011a026.wav\n",
      "x: \n",
      "[ -57  -50  -38 ... -225 -239 -273]\n",
      "sr_orig: 44100\n",
      "y: \n",
      "[130 145 139 ... 133 142 138]\n",
      "yb class: [ 83  92  92 ... 112 129 128]\n"
     ]
    },
    {
     "name": "stderr",
     "output_type": "stream",
     "text": [
      "\r",
      " 56%|████████████████████████████████████████████▍                                   | 340/612 [03:19<02:39,  1.70it/s]"
     ]
    },
    {
     "name": "stdout",
     "output_type": "stream",
     "text": [
      "index: 340\n",
      "row: \n",
      "filename      EFAF2011A026.WAV\n",
      "start                 26075245\n",
      "duration                212765\n",
      "type                    rumble\n",
      "background                   1\n",
      "Name: 340, dtype: object\n",
      "source filename: EFAF2011A026.WAV\n",
      ".\\adventureswithelephants_dataset\\wavs\\all\\efaf2011a026.wav\n",
      "x: \n",
      "[ -57  -50  -38 ... -225 -239 -273]\n",
      "sr_orig: 44100\n",
      "y: \n",
      "[-121 -133 -129 ... -116 -123 -107]\n",
      "yb class: [  20   18   18 ... -102 -121 -119]\n"
     ]
    },
    {
     "name": "stderr",
     "output_type": "stream",
     "text": [
      "\r",
      " 56%|████████████████████████████████████████████▌                                   | 341/612 [03:20<02:39,  1.70it/s]"
     ]
    },
    {
     "name": "stdout",
     "output_type": "stream",
     "text": [
      "index: 341\n",
      "row: \n",
      "filename      EFAF2011A026.WAV\n",
      "start                 26155418\n",
      "duration                185013\n",
      "type                    rumble\n",
      "background                   0\n",
      "Name: 341, dtype: object\n",
      "source filename: EFAF2011A026.WAV\n",
      ".\\adventureswithelephants_dataset\\wavs\\all\\efaf2011a026.wav\n",
      "x: \n",
      "[ -57  -50  -38 ... -225 -239 -273]\n",
      "sr_orig: 44100\n",
      "y: \n",
      "[1012 1083 1039 ... -162 -169 -157]\n"
     ]
    },
    {
     "name": "stderr",
     "output_type": "stream",
     "text": [
      "\r",
      " 56%|████████████████████████████████████████████▋                                   | 342/612 [03:21<02:38,  1.70it/s]"
     ]
    },
    {
     "name": "stdout",
     "output_type": "stream",
     "text": [
      "index: 342\n",
      "row: \n",
      "filename      EFAF2011A026.WAV\n",
      "start                 28570956\n",
      "duration                121077\n",
      "type                    rumble\n",
      "background                   1\n",
      "Name: 342, dtype: object\n",
      "source filename: EFAF2011A026.WAV\n",
      ".\\adventureswithelephants_dataset\\wavs\\all\\efaf2011a026.wav\n",
      "x: \n",
      "[ -57  -50  -38 ... -225 -239 -273]\n",
      "sr_orig: 44100\n",
      "y: \n",
      "[268 281 254 ...  18  25  31]\n",
      "yb class: [198 225 226 ... 275 291 271]\n"
     ]
    },
    {
     "name": "stderr",
     "output_type": "stream",
     "text": [
      "\r",
      " 56%|████████████████████████████████████████████▊                                   | 343/612 [03:21<02:38,  1.70it/s]"
     ]
    },
    {
     "name": "stdout",
     "output_type": "stream",
     "text": [
      "index: 343\n",
      "row: \n",
      "filename      EFAF2011A026.WAV\n",
      "start                 34404103\n",
      "duration                147356\n",
      "type                    rumble\n",
      "background                   1\n",
      "Name: 343, dtype: object\n",
      "source filename: EFAF2011A026.WAV\n",
      ".\\adventureswithelephants_dataset\\wavs\\all\\efaf2011a026.wav\n",
      "x: \n",
      "[ -57  -50  -38 ... -225 -239 -273]\n",
      "sr_orig: 44100\n",
      "y: \n",
      "[-37 -45 -42 ... -39 -57 -59]\n",
      "yb class: [  0   3   0 ... -36 -39 -38]\n"
     ]
    },
    {
     "name": "stderr",
     "output_type": "stream",
     "text": [
      "\r",
      " 56%|████████████████████████████████████████████▉                                   | 344/612 [03:22<02:37,  1.70it/s]"
     ]
    },
    {
     "name": "stdout",
     "output_type": "stream",
     "text": [
      "index: 344\n",
      "row: \n",
      "filename      EFAF2011A026.WAV\n",
      "start                 34791499\n",
      "duration                 83239\n",
      "type                    rumble\n",
      "background                   0\n",
      "Name: 344, dtype: object\n",
      "source filename: EFAF2011A026.WAV\n",
      ".\\adventureswithelephants_dataset\\wavs\\all\\efaf2011a026.wav\n",
      "x: \n",
      "[ -57  -50  -38 ... -225 -239 -273]\n",
      "sr_orig: 44100\n",
      "y: \n",
      "[  0 -30 -91 ...  62  67  60]\n"
     ]
    },
    {
     "name": "stderr",
     "output_type": "stream",
     "text": [
      "\r",
      " 56%|█████████████████████████████████████████████                                   | 345/612 [03:23<02:37,  1.70it/s]"
     ]
    },
    {
     "name": "stdout",
     "output_type": "stream",
     "text": [
      "index: 345\n",
      "row: \n",
      "filename      EFAF2011A026.WAV\n",
      "start                 34874738\n",
      "duration                121544\n",
      "type                    rumble\n",
      "background                   0\n",
      "Name: 345, dtype: object\n",
      "source filename: EFAF2011A026.WAV\n",
      ".\\adventureswithelephants_dataset\\wavs\\all\\efaf2011a026.wav\n",
      "x: \n",
      "[ -57  -50  -38 ... -225 -239 -273]\n",
      "sr_orig: 44100\n",
      "y: \n",
      "[-48 -47 -37 ...   0   0   0]\n"
     ]
    },
    {
     "name": "stderr",
     "output_type": "stream",
     "text": [
      "\r",
      " 57%|█████████████████████████████████████████████▏                                  | 346/612 [03:23<02:36,  1.70it/s]"
     ]
    },
    {
     "name": "stdout",
     "output_type": "stream",
     "text": [
      "index: 346\n",
      "row: \n",
      "filename      EFAF2011A026.WAV\n",
      "start                 34959450\n",
      "duration                121544\n",
      "type                    rumble\n",
      "background                   0\n",
      "Name: 346, dtype: object\n",
      "source filename: EFAF2011A026.WAV\n",
      ".\\adventureswithelephants_dataset\\wavs\\all\\efaf2011a026.wav\n",
      "x: \n",
      "[ -57  -50  -38 ... -225 -239 -273]\n",
      "sr_orig: 44100\n",
      "y: \n",
      "[-375 -356 -293 ...  294  338  340]\n"
     ]
    },
    {
     "name": "stderr",
     "output_type": "stream",
     "text": [
      "\r",
      " 57%|█████████████████████████████████████████████▎                                  | 347/612 [03:24<02:35,  1.70it/s]"
     ]
    },
    {
     "name": "stdout",
     "output_type": "stream",
     "text": [
      "index: 347\n",
      "row: \n",
      "filename      EFAF2011A026.WAV\n",
      "start                 35083203\n",
      "duration                100919\n",
      "type                    rumble\n",
      "background                   0\n",
      "Name: 347, dtype: object\n",
      "source filename: EFAF2011A026.WAV\n",
      ".\\adventureswithelephants_dataset\\wavs\\all\\efaf2011a026.wav\n",
      "x: \n",
      "[ -57  -50  -38 ... -225 -239 -273]\n",
      "sr_orig: 44100\n",
      "y: \n",
      "[-11 -18 -22 ... 213 226 215]\n"
     ]
    },
    {
     "name": "stderr",
     "output_type": "stream",
     "text": [
      "\r",
      " 57%|█████████████████████████████████████████████▍                                  | 348/612 [03:24<02:35,  1.70it/s]"
     ]
    },
    {
     "name": "stdout",
     "output_type": "stream",
     "text": [
      "index: 348\n",
      "row: \n",
      "filename      EFAF2011A026.WAV\n",
      "start                 35347605\n",
      "duration                114307\n",
      "type                    rumble\n",
      "background                   0\n",
      "Name: 348, dtype: object\n",
      "source filename: EFAF2011A026.WAV\n",
      ".\\adventureswithelephants_dataset\\wavs\\all\\efaf2011a026.wav\n",
      "x: \n",
      "[ -57  -50  -38 ... -225 -239 -273]\n",
      "sr_orig: 44100\n",
      "y: \n",
      "[ -12  -21  -28 ... -132 -141 -136]\n"
     ]
    },
    {
     "name": "stderr",
     "output_type": "stream",
     "text": [
      "\r",
      " 57%|█████████████████████████████████████████████▌                                  | 349/612 [03:25<02:34,  1.70it/s]"
     ]
    },
    {
     "name": "stdout",
     "output_type": "stream",
     "text": [
      "index: 349\n",
      "row: \n",
      "filename      EFAF2011A026.WAV\n",
      "start                 35425331\n",
      "duration                226326\n",
      "type                    rumble\n",
      "background                   0\n",
      "Name: 349, dtype: object\n",
      "source filename: EFAF2011A026.WAV\n",
      ".\\adventureswithelephants_dataset\\wavs\\all\\efaf2011a026.wav\n",
      "x: \n",
      "[ -57  -50  -38 ... -225 -239 -273]\n",
      "sr_orig: 44100\n",
      "y: \n",
      "[-1659 -1727 -1622 ...   -29   -32   -30]\n"
     ]
    },
    {
     "name": "stderr",
     "output_type": "stream",
     "text": [
      "\r",
      " 57%|█████████████████████████████████████████████▊                                  | 350/612 [03:25<02:33,  1.70it/s]"
     ]
    },
    {
     "name": "stdout",
     "output_type": "stream",
     "text": [
      "index: 350\n",
      "row: \n",
      "filename      EFAF2011A026.WAV\n",
      "start                 35710508\n",
      "duration                109968\n",
      "type                    rumble\n",
      "background                   0\n",
      "Name: 350, dtype: object\n",
      "source filename: EFAF2011A026.WAV\n",
      ".\\adventureswithelephants_dataset\\wavs\\all\\efaf2011a026.wav\n",
      "x: \n",
      "[ -57  -50  -38 ... -225 -239 -273]\n",
      "sr_orig: 44100\n",
      "y: \n",
      "[  -9  -11   -4 ... -248 -248 -218]\n"
     ]
    },
    {
     "name": "stderr",
     "output_type": "stream",
     "text": [
      "\r",
      " 57%|█████████████████████████████████████████████▉                                  | 351/612 [03:25<02:33,  1.70it/s]"
     ]
    },
    {
     "name": "stdout",
     "output_type": "stream",
     "text": [
      "index: 351\n",
      "row: \n",
      "filename      EFAF2011A026.WAV\n",
      "start                 21812790\n",
      "duration                281151\n",
      "type                   snumble\n",
      "background                   0\n",
      "Name: 351, dtype: object\n",
      "source filename: EFAF2011A026.WAV\n",
      ".\\adventureswithelephants_dataset\\wavs\\all\\efaf2011a026.wav\n",
      "x: \n",
      "[ -57  -50  -38 ... -225 -239 -273]\n",
      "sr_orig: 44100\n",
      "y: \n",
      "[426 430 386 ...  33  38  35]\n"
     ]
    },
    {
     "name": "stderr",
     "output_type": "stream",
     "text": [
      "\r",
      " 58%|██████████████████████████████████████████████                                  | 352/612 [03:26<02:32,  1.71it/s]"
     ]
    },
    {
     "name": "stdout",
     "output_type": "stream",
     "text": [
      "index: 352\n",
      "row: \n",
      "filename      EFAF2011A026.WAV\n",
      "start                 36104189\n",
      "duration                 39588\n",
      "type                    rumble\n",
      "background                   1\n",
      "Name: 352, dtype: object\n",
      "source filename: EFAF2011A026.WAV\n",
      ".\\adventureswithelephants_dataset\\wavs\\all\\efaf2011a026.wav\n",
      "x: \n",
      "[ -57  -50  -38 ... -225 -239 -273]\n",
      "sr_orig: 44100\n",
      "y: \n",
      "[ 27  18   2 ... -33 -35 -29]\n",
      "yb class: [142 151 139 ...  42  40  25]\n"
     ]
    },
    {
     "name": "stderr",
     "output_type": "stream",
     "text": [
      "\r",
      " 58%|██████████████████████████████████████████████▏                                 | 353/612 [03:27<02:31,  1.70it/s]"
     ]
    },
    {
     "name": "stdout",
     "output_type": "stream",
     "text": [
      "index: 353\n",
      "row: \n",
      "filename      EFAF2011A026.WAV\n",
      "start                 36185567\n",
      "duration                118761\n",
      "type                    rumble\n",
      "background                   0\n",
      "Name: 353, dtype: object\n",
      "source filename: EFAF2011A026.WAV\n",
      ".\\adventureswithelephants_dataset\\wavs\\all\\efaf2011a026.wav\n",
      "x: \n",
      "[ -57  -50  -38 ... -225 -239 -273]\n",
      "sr_orig: 44100\n",
      "y: \n",
      "[-437 -461 -433 ...  292  288  259]\n"
     ]
    },
    {
     "name": "stderr",
     "output_type": "stream",
     "text": [
      "\r",
      " 58%|██████████████████████████████████████████████▎                                 | 354/612 [03:27<02:31,  1.71it/s]"
     ]
    },
    {
     "name": "stdout",
     "output_type": "stream",
     "text": [
      "index: 354\n",
      "row: \n",
      "filename      EFAF2011A026.WAV\n",
      "start                 36414296\n",
      "duration                 79177\n",
      "type                    rumble\n",
      "background                   0\n",
      "Name: 354, dtype: object\n",
      "source filename: EFAF2011A026.WAV\n",
      ".\\adventureswithelephants_dataset\\wavs\\all\\efaf2011a026.wav\n",
      "x: \n",
      "[ -57  -50  -38 ... -225 -239 -273]\n",
      "sr_orig: 44100\n",
      "y: \n",
      "[0 0 0 ... 6 9 7]\n"
     ]
    },
    {
     "name": "stderr",
     "output_type": "stream",
     "text": [
      "\r",
      " 58%|██████████████████████████████████████████████▍                                 | 355/612 [03:27<02:30,  1.71it/s]"
     ]
    },
    {
     "name": "stdout",
     "output_type": "stream",
     "text": [
      "index: 355\n",
      "row: \n",
      "filename      EFAF2011A026.WAV\n",
      "start                 36546256\n",
      "duration                 68179\n",
      "type                    rumble\n",
      "background                   0\n",
      "Name: 355, dtype: object\n",
      "source filename: EFAF2011A026.WAV\n",
      ".\\adventureswithelephants_dataset\\wavs\\all\\efaf2011a026.wav\n",
      "x: \n",
      "[ -57  -50  -38 ... -225 -239 -273]\n",
      "sr_orig: 44100\n",
      "y: \n",
      "[  0   0   0 ... -71 -79 -80]\n"
     ]
    },
    {
     "name": "stderr",
     "output_type": "stream",
     "text": [
      "\r",
      " 58%|██████████████████████████████████████████████▌                                 | 356/612 [03:28<02:29,  1.71it/s]"
     ]
    },
    {
     "name": "stdout",
     "output_type": "stream",
     "text": [
      "index: 356\n",
      "row: \n",
      "filename      EFAF2011A026.WAV\n",
      "start                 36618836\n",
      "duration                 68178\n",
      "type                    rumble\n",
      "background                   0\n",
      "Name: 356, dtype: object\n",
      "source filename: EFAF2011A026.WAV\n",
      ".\\adventureswithelephants_dataset\\wavs\\all\\efaf2011a026.wav\n",
      "x: \n",
      "[ -57  -50  -38 ... -225 -239 -273]\n",
      "sr_orig: 44100\n",
      "y: \n",
      "[ -80  -94  -95 ... -131 -144 -137]\n"
     ]
    },
    {
     "name": "stderr",
     "output_type": "stream",
     "text": [
      "\r",
      " 58%|██████████████████████████████████████████████▋                                 | 357/612 [03:28<02:29,  1.71it/s]"
     ]
    },
    {
     "name": "stdout",
     "output_type": "stream",
     "text": [
      "index: 357\n",
      "row: \n",
      "filename      EFAF2011A026.WAV\n",
      "start                  1308169\n",
      "duration                 74251\n",
      "type                    rumble\n",
      "background                   0\n",
      "Name: 357, dtype: object\n",
      "source filename: EFAF2011A026.WAV\n",
      ".\\adventureswithelephants_dataset\\wavs\\all\\efaf2011a026.wav\n",
      "x: \n",
      "[ -57  -50  -38 ... -225 -239 -273]\n",
      "sr_orig: 44100\n",
      "y: \n",
      "[ 0  0  0 ... 26 26 20]\n"
     ]
    },
    {
     "name": "stderr",
     "output_type": "stream",
     "text": [
      "\r",
      " 58%|██████████████████████████████████████████████▊                                 | 358/612 [03:29<02:28,  1.71it/s]"
     ]
    },
    {
     "name": "stdout",
     "output_type": "stream",
     "text": [
      "index: 358\n",
      "row: \n",
      "filename      EFAF2011A026.WAV\n",
      "start                  5801791\n",
      "duration                 91732\n",
      "type                    rumble\n",
      "background                   1\n",
      "Name: 358, dtype: object\n",
      "source filename: EFAF2011A026.WAV\n",
      ".\\adventureswithelephants_dataset\\wavs\\all\\efaf2011a026.wav\n",
      "x: \n",
      "[ -57  -50  -38 ... -225 -239 -273]\n",
      "sr_orig: 44100\n",
      "y: \n",
      "[575 602 568 ... 168 191 188]\n",
      "yb class: [-116 -126 -124 ...  583  614  573]\n"
     ]
    },
    {
     "name": "stderr",
     "output_type": "stream",
     "text": [
      "\r",
      " 59%|██████████████████████████████████████████████▉                                 | 359/612 [03:30<02:28,  1.71it/s]"
     ]
    },
    {
     "name": "stdout",
     "output_type": "stream",
     "text": [
      "index: 359\n",
      "row: \n",
      "filename      EFAF2011A026.WAV\n",
      "start                  8148484\n",
      "duration                145830\n",
      "type                    rumble\n",
      "background                   1\n",
      "Name: 359, dtype: object\n",
      "source filename: EFAF2011A026.WAV\n",
      ".\\adventureswithelephants_dataset\\wavs\\all\\efaf2011a026.wav\n",
      "x: \n",
      "[ -57  -50  -38 ... -225 -239 -273]\n",
      "sr_orig: 44100\n",
      "y: \n",
      "[44 45 39 ...  0 -2  0]\n",
      "yb class: [-46 -51 -51 ...  54  50  45]\n"
     ]
    },
    {
     "name": "stderr",
     "output_type": "stream",
     "text": [
      "\r",
      " 59%|███████████████████████████████████████████████                                 | 360/612 [03:30<02:27,  1.71it/s]"
     ]
    },
    {
     "name": "stdout",
     "output_type": "stream",
     "text": [
      "index: 360\n",
      "row: \n",
      "filename      EFAF2011A026.WAV\n",
      "start                  8363035\n",
      "duration                 95543\n",
      "type                    rumble\n",
      "background                   0\n",
      "Name: 360, dtype: object\n",
      "source filename: EFAF2011A026.WAV\n",
      ".\\adventureswithelephants_dataset\\wavs\\all\\efaf2011a026.wav\n",
      "x: \n",
      "[ -57  -50  -38 ... -225 -239 -273]\n",
      "sr_orig: 44100\n",
      "y: \n",
      "[  95  102   95 ... -291 -310 -293]\n"
     ]
    },
    {
     "name": "stderr",
     "output_type": "stream",
     "text": [
      "\r",
      " 59%|███████████████████████████████████████████████▏                                | 361/612 [03:31<02:26,  1.71it/s]"
     ]
    },
    {
     "name": "stdout",
     "output_type": "stream",
     "text": [
      "index: 361\n",
      "row: \n",
      "filename      EFAF2011A027.WAV\n",
      "start                  5229029\n",
      "duration                 96733\n",
      "type                    rumble\n",
      "background                   0\n",
      "Name: 361, dtype: object\n",
      "source filename: EFAF2011A027.WAV\n",
      ".\\adventureswithelephants_dataset\\wavs\\all\\efaf2011a027.wav\n",
      "x: \n",
      "[  -7   -7   -8 ... -713 -722 -680]\n",
      "sr_orig: 44100\n",
      "y: \n",
      "[ 0  0  0 ...  0 -1  0]\n"
     ]
    },
    {
     "name": "stderr",
     "output_type": "stream",
     "text": [
      "\r",
      " 59%|███████████████████████████████████████████████▎                                | 362/612 [03:31<02:26,  1.71it/s]"
     ]
    },
    {
     "name": "stdout",
     "output_type": "stream",
     "text": [
      "index: 362\n",
      "row: \n",
      "filename      EFAF2011A027.WAV\n",
      "start                  5798047\n",
      "duration                 96729\n",
      "type                    rumble\n",
      "background                   1\n",
      "Name: 362, dtype: object\n",
      "source filename: EFAF2011A027.WAV\n",
      ".\\adventureswithelephants_dataset\\wavs\\all\\efaf2011a027.wav\n",
      "x: \n",
      "[  -7   -7   -8 ... -713 -722 -680]\n",
      "sr_orig: 44100\n",
      "y: \n",
      "[-26 -19  -6 ...   0   0   0]\n",
      "yb class: [  0   0   0 ...  -6 -27 -27]\n"
     ]
    },
    {
     "name": "stderr",
     "output_type": "stream",
     "text": [
      "\r",
      " 59%|███████████████████████████████████████████████▍                                | 363/612 [03:32<02:25,  1.71it/s]"
     ]
    },
    {
     "name": "stdout",
     "output_type": "stream",
     "text": [
      "index: 363\n",
      "row: \n",
      "filename      EFAF2011A027.WAV\n",
      "start                  9456826\n",
      "duration                159324\n",
      "type                    rumble\n",
      "background                   1\n",
      "Name: 363, dtype: object\n",
      "source filename: EFAF2011A027.WAV\n",
      ".\\adventureswithelephants_dataset\\wavs\\all\\efaf2011a027.wav\n",
      "x: \n",
      "[  -7   -7   -8 ... -713 -722 -680]\n",
      "sr_orig: 44100\n",
      "y: \n",
      "[24  0  0 ...  1 -1  0]\n",
      "yb class: [-63 -47 -55 ...   0  29  28]\n"
     ]
    },
    {
     "name": "stderr",
     "output_type": "stream",
     "text": [
      "\r",
      " 59%|███████████████████████████████████████████████▌                                | 364/612 [03:33<02:25,  1.70it/s]"
     ]
    },
    {
     "name": "stdout",
     "output_type": "stream",
     "text": [
      "index: 364\n",
      "row: \n",
      "filename      EFAF2011A027.WAV\n",
      "start                 13583562\n",
      "duration                 71853\n",
      "type                    rumble\n",
      "background                   1\n",
      "Name: 364, dtype: object\n",
      "source filename: EFAF2011A027.WAV\n",
      ".\\adventureswithelephants_dataset\\wavs\\all\\efaf2011a027.wav\n",
      "x: \n",
      "[  -7   -7   -8 ... -713 -722 -680]\n",
      "sr_orig: 44100\n",
      "y: \n",
      "[-13 -20 -20 ...  -8  -6   0]\n",
      "yb class: [  0   0   0 ... -12 -16 -14]\n"
     ]
    },
    {
     "name": "stderr",
     "output_type": "stream",
     "text": [
      "\r",
      " 60%|███████████████████████████████████████████████▋                                | 365/612 [03:34<02:25,  1.70it/s]"
     ]
    },
    {
     "name": "stdout",
     "output_type": "stream",
     "text": [
      "index: 365\n",
      "row: \n",
      "filename      EFAF2011A027.WAV\n",
      "start                 14674354\n",
      "duration                 84914\n",
      "type                    rumble\n",
      "background                   1\n",
      "Name: 365, dtype: object\n",
      "source filename: EFAF2011A027.WAV\n",
      ".\\adventureswithelephants_dataset\\wavs\\all\\efaf2011a027.wav\n",
      "x: \n",
      "[  -7   -7   -8 ... -713 -722 -680]\n",
      "sr_orig: 44100\n",
      "y: \n",
      "[0 3 0 ... 0 0 0]\n",
      "yb class: [ -2 -46 -61 ...  -1   1   0]\n"
     ]
    },
    {
     "name": "stderr",
     "output_type": "stream",
     "text": [
      "\r",
      " 60%|███████████████████████████████████████████████▊                                | 366/612 [03:35<02:24,  1.70it/s]"
     ]
    },
    {
     "name": "stdout",
     "output_type": "stream",
     "text": [
      "index: 366\n",
      "row: \n",
      "filename      EFAF2011A027.WAV\n",
      "start                 16882062\n",
      "duration                169824\n",
      "type                    rumble\n",
      "background                   1\n",
      "Name: 366, dtype: object\n",
      "source filename: EFAF2011A027.WAV\n",
      ".\\adventureswithelephants_dataset\\wavs\\all\\efaf2011a027.wav\n",
      "x: \n",
      "[  -7   -7   -8 ... -713 -722 -680]\n",
      "sr_orig: 44100\n",
      "y: \n",
      "[ 1  8 27 ...  0  0  0]\n",
      "yb class: [ 0  0  0 ... 41 23  1]\n"
     ]
    },
    {
     "name": "stderr",
     "output_type": "stream",
     "text": [
      "\r",
      " 60%|███████████████████████████████████████████████▉                                | 367/612 [03:36<02:24,  1.70it/s]"
     ]
    },
    {
     "name": "stdout",
     "output_type": "stream",
     "text": [
      "index: 367\n",
      "row: \n",
      "filename      EFAF2011A027.WAV\n",
      "start                 18201463\n",
      "duration                150227\n",
      "type                    rumble\n",
      "background                   1\n",
      "Name: 367, dtype: object\n",
      "source filename: EFAF2011A027.WAV\n",
      ".\\adventureswithelephants_dataset\\wavs\\all\\efaf2011a027.wav\n",
      "x: \n",
      "[  -7   -7   -8 ... -713 -722 -680]\n",
      "sr_orig: 44100\n",
      "y: \n",
      "[-10 -23  -5 ...   0   0   0]\n",
      "yb class: [ 9 27 30 ...  0 -2 -9]\n"
     ]
    },
    {
     "name": "stderr",
     "output_type": "stream",
     "text": [
      "\r",
      " 60%|████████████████████████████████████████████████                                | 368/612 [03:36<02:23,  1.70it/s]"
     ]
    },
    {
     "name": "stdout",
     "output_type": "stream",
     "text": [
      "index: 368\n",
      "row: \n",
      "filename      EFAF2011A027.WAV\n",
      "start                 19880103\n",
      "duration                 84910\n",
      "type                    rumble\n",
      "background                   1\n",
      "Name: 368, dtype: object\n",
      "source filename: EFAF2011A027.WAV\n",
      ".\\adventureswithelephants_dataset\\wavs\\all\\efaf2011a027.wav\n",
      "x: \n",
      "[  -7   -7   -8 ... -713 -722 -680]\n",
      "sr_orig: 44100\n",
      "y: \n",
      "[ 7  0 23 ...  0  0  0]\n",
      "yb class: [-72 -83 -55 ...  14  22   9]\n"
     ]
    },
    {
     "name": "stderr",
     "output_type": "stream",
     "text": [
      "\r",
      " 60%|████████████████████████████████████████████████▏                               | 369/612 [03:37<02:23,  1.69it/s]"
     ]
    },
    {
     "name": "stdout",
     "output_type": "stream",
     "text": [
      "index: 369\n",
      "row: \n",
      "filename      EFAF2011A027.WAV\n",
      "start                 20258940\n",
      "duration                 71847\n",
      "type                    rumble\n",
      "background                   0\n",
      "Name: 369, dtype: object\n",
      "source filename: EFAF2011A027.WAV\n",
      ".\\adventureswithelephants_dataset\\wavs\\all\\efaf2011a027.wav\n",
      "x: \n",
      "[  -7   -7   -8 ... -713 -722 -680]\n",
      "sr_orig: 44100\n",
      "y: \n",
      "[353 375 364 ...   1  -3 -19]\n"
     ]
    },
    {
     "name": "stderr",
     "output_type": "stream",
     "text": [
      "\r",
      " 60%|████████████████████████████████████████████████▎                               | 370/612 [03:38<02:22,  1.70it/s]"
     ]
    },
    {
     "name": "stdout",
     "output_type": "stream",
     "text": [
      "index: 370\n",
      "row: \n",
      "filename      EFAF2011A027.WAV\n",
      "start                 24916627\n",
      "duration                141372\n",
      "type                    rumble\n",
      "background                   1\n",
      "Name: 370, dtype: object\n",
      "source filename: EFAF2011A027.WAV\n",
      ".\\adventureswithelephants_dataset\\wavs\\all\\efaf2011a027.wav\n",
      "x: \n",
      "[  -7   -7   -8 ... -713 -722 -680]\n",
      "sr_orig: 44100\n",
      "y: \n",
      "[-112 -128 -126 ...    0   -6    0]\n",
      "yb class: [ -15   -3    0 ... -126 -123 -112]\n"
     ]
    },
    {
     "name": "stderr",
     "output_type": "stream",
     "text": [
      "\r",
      " 61%|████████████████████████████████████████████████▍                               | 371/612 [03:39<02:22,  1.69it/s]"
     ]
    },
    {
     "name": "stdout",
     "output_type": "stream",
     "text": [
      "index: 371\n",
      "row: \n",
      "filename      EFAF2011A027.WAV\n",
      "start                 27580827\n",
      "duration                 93047\n",
      "type                    rumble\n",
      "background                   1\n",
      "Name: 371, dtype: object\n",
      "source filename: EFAF2011A027.WAV\n",
      ".\\adventureswithelephants_dataset\\wavs\\all\\efaf2011a027.wav\n",
      "x: \n",
      "[  -7   -7   -8 ... -713 -722 -680]\n",
      "sr_orig: 44100\n",
      "y: \n",
      "[  -6  -16  -28 ... -115 -139 -129]\n",
      "yb class: [  0   0   0 ... -30 -22  -5]\n"
     ]
    },
    {
     "name": "stderr",
     "output_type": "stream",
     "text": [
      "\r",
      " 61%|████████████████████████████████████████████████▋                               | 372/612 [03:39<02:21,  1.69it/s]"
     ]
    },
    {
     "name": "stdout",
     "output_type": "stream",
     "text": [
      "index: 372\n",
      "row: \n",
      "filename      EFAF2011A027.WAV\n",
      "start                 27663537\n",
      "duration                155078\n",
      "type                    rumble\n",
      "background                   0\n",
      "Name: 372, dtype: object\n",
      "source filename: EFAF2011A027.WAV\n",
      ".\\adventureswithelephants_dataset\\wavs\\all\\efaf2011a027.wav\n",
      "x: \n",
      "[  -7   -7   -8 ... -713 -722 -680]\n",
      "sr_orig: 44100\n",
      "y: \n",
      "[ 250  260  225 ... -184 -184 -195]\n"
     ]
    },
    {
     "name": "stderr",
     "output_type": "stream",
     "text": [
      "\r",
      " 61%|████████████████████████████████████████████████▊                               | 373/612 [03:40<02:21,  1.69it/s]"
     ]
    },
    {
     "name": "stdout",
     "output_type": "stream",
     "text": [
      "index: 373\n",
      "row: \n",
      "filename      EFAF2011A027.WAV\n",
      "start                 30129265\n",
      "duration                118894\n",
      "type                    rumble\n",
      "background                   1\n",
      "Name: 373, dtype: object\n",
      "source filename: EFAF2011A027.WAV\n",
      ".\\adventureswithelephants_dataset\\wavs\\all\\efaf2011a027.wav\n",
      "x: \n",
      "[  -7   -7   -8 ... -713 -722 -680]\n",
      "sr_orig: 44100\n",
      "y: \n",
      "[   1    0  -19 ... -540 -562 -536]\n",
      "yb class: [-57 -71 -82 ... -14   1   1]\n"
     ]
    },
    {
     "name": "stderr",
     "output_type": "stream",
     "text": [
      "\r",
      " 61%|████████████████████████████████████████████████▉                               | 374/612 [03:41<02:20,  1.69it/s]"
     ]
    },
    {
     "name": "stdout",
     "output_type": "stream",
     "text": [
      "index: 374\n",
      "row: \n",
      "filename      EFAF2011A027.WAV\n",
      "start                 31261405\n",
      "duration                167835\n",
      "type                    rumble\n",
      "background                   1\n",
      "Name: 374, dtype: object\n",
      "source filename: EFAF2011A027.WAV\n",
      ".\\adventureswithelephants_dataset\\wavs\\all\\efaf2011a027.wav\n",
      "x: \n",
      "[  -7   -7   -8 ... -713 -722 -680]\n",
      "sr_orig: 44100\n",
      "y: \n",
      "[ 0  0  3 ... 26  0  0]\n",
      "yb class: [255 258 212 ...   0   0   0]\n"
     ]
    },
    {
     "name": "stderr",
     "output_type": "stream",
     "text": [
      "\r",
      " 61%|█████████████████████████████████████████████████                               | 375/612 [03:42<02:20,  1.69it/s]"
     ]
    },
    {
     "name": "stdout",
     "output_type": "stream",
     "text": [
      "index: 375\n",
      "row: \n",
      "filename      EFAF2011A027.WAV\n",
      "start                 31386097\n",
      "duration                128486\n",
      "type                    rumble\n",
      "background                   0\n",
      "Name: 375, dtype: object\n",
      "source filename: EFAF2011A027.WAV\n",
      ".\\adventureswithelephants_dataset\\wavs\\all\\efaf2011a027.wav\n",
      "x: \n",
      "[  -7   -7   -8 ... -713 -722 -680]\n",
      "sr_orig: 44100\n",
      "y: \n",
      "[ -58  -59  -55 ... -103 -100  -82]\n"
     ]
    },
    {
     "name": "stderr",
     "output_type": "stream",
     "text": [
      "\r",
      " 61%|█████████████████████████████████████████████████▏                              | 376/612 [03:42<02:19,  1.69it/s]"
     ]
    },
    {
     "name": "stdout",
     "output_type": "stream",
     "text": [
      "index: 376\n",
      "row: \n",
      "filename      EFAF2011A027.WAV\n",
      "start                 32522625\n",
      "duration                201603\n",
      "type                    rumble\n",
      "background                   1\n",
      "Name: 376, dtype: object\n",
      "source filename: EFAF2011A027.WAV\n",
      ".\\adventureswithelephants_dataset\\wavs\\all\\efaf2011a027.wav\n",
      "x: \n",
      "[  -7   -7   -8 ... -713 -722 -680]\n",
      "sr_orig: 44100\n",
      "y: \n",
      "[  0  12  27 ...  71 110 134]\n",
      "yb class: [-175 -189 -221 ...   23    5    0]\n"
     ]
    },
    {
     "name": "stderr",
     "output_type": "stream",
     "text": [
      "\r",
      " 62%|█████████████████████████████████████████████████▎                              | 377/612 [03:43<02:19,  1.69it/s]"
     ]
    },
    {
     "name": "stdout",
     "output_type": "stream",
     "text": [
      "index: 377\n",
      "row: \n",
      "filename      EFAF2011A027.WAV\n",
      "start                 36017713\n",
      "duration                140613\n",
      "type                    rumble\n",
      "background                   1\n",
      "Name: 377, dtype: object\n",
      "source filename: EFAF2011A027.WAV\n",
      ".\\adventureswithelephants_dataset\\wavs\\all\\efaf2011a027.wav\n",
      "x: \n",
      "[  -7   -7   -8 ... -713 -722 -680]\n",
      "sr_orig: 44100\n",
      "y: \n",
      "[-257 -257 -222 ...   10    0    0]\n",
      "yb class: [  49   70   64 ... -235 -257 -256]\n"
     ]
    },
    {
     "name": "stderr",
     "output_type": "stream",
     "text": [
      "\r",
      " 62%|█████████████████████████████████████████████████▍                              | 378/612 [03:44<02:18,  1.69it/s]"
     ]
    },
    {
     "name": "stdout",
     "output_type": "stream",
     "text": [
      "index: 378\n",
      "row: \n",
      "filename      EFAF2011A027.WAV\n",
      "start                 41659880\n",
      "duration                167223\n",
      "type                    rumble\n",
      "background                   1\n",
      "Name: 378, dtype: object\n",
      "source filename: EFAF2011A027.WAV\n",
      ".\\adventureswithelephants_dataset\\wavs\\all\\efaf2011a027.wav\n",
      "x: \n",
      "[  -7   -7   -8 ... -713 -722 -680]\n",
      "sr_orig: 44100\n",
      "y: \n",
      "[-14 -25 -20 ...   7   2   2]\n",
      "yb class: [-32 -58 -48 ...  -1 -15 -13]\n"
     ]
    },
    {
     "name": "stderr",
     "output_type": "stream",
     "text": [
      "\r",
      " 62%|█████████████████████████████████████████████████▌                              | 379/612 [03:45<02:18,  1.68it/s]"
     ]
    },
    {
     "name": "stdout",
     "output_type": "stream",
     "text": [
      "index: 379\n",
      "row: \n",
      "filename      EFAF2011A027.WAV\n",
      "start                 42964786\n",
      "duration                221448\n",
      "type                    rumble\n",
      "background                   1\n",
      "Name: 379, dtype: object\n",
      "source filename: EFAF2011A027.WAV\n",
      ".\\adventureswithelephants_dataset\\wavs\\all\\efaf2011a027.wav\n",
      "x: \n",
      "[  -7   -7   -8 ... -713 -722 -680]\n",
      "sr_orig: 44100\n",
      "y: \n",
      "[383 450 443 ...   0   0   0]\n",
      "yb class: [ -4   0  -7 ... 403 404 378]\n"
     ]
    },
    {
     "name": "stderr",
     "output_type": "stream",
     "text": [
      "\r",
      " 62%|█████████████████████████████████████████████████▋                              | 380/612 [03:45<02:17,  1.68it/s]"
     ]
    },
    {
     "name": "stdout",
     "output_type": "stream",
     "text": [
      "index: 380\n",
      "row: \n",
      "filename      EFAF2011A027.WAV\n",
      "start                 43249968\n",
      "duration                787489\n",
      "type                    rumble\n",
      "background                   0\n",
      "Name: 380, dtype: object\n",
      "source filename: EFAF2011A027.WAV\n",
      ".\\adventureswithelephants_dataset\\wavs\\all\\efaf2011a027.wav\n",
      "x: \n",
      "[  -7   -7   -8 ... -713 -722 -680]\n",
      "sr_orig: 44100\n",
      "y: \n",
      "[  0   0   0 ... 217 215 200]\n"
     ]
    },
    {
     "name": "stderr",
     "output_type": "stream",
     "text": [
      "\r",
      " 62%|█████████████████████████████████████████████████▊                              | 381/612 [03:46<02:17,  1.68it/s]"
     ]
    },
    {
     "name": "stdout",
     "output_type": "stream",
     "text": [
      "index: 381\n",
      "row: \n",
      "filename      EFAF2011A027.WAV\n",
      "start                 45029447\n",
      "duration                255017\n",
      "type                    rumble\n",
      "background                   1\n",
      "Name: 381, dtype: object\n",
      "source filename: EFAF2011A027.WAV\n",
      ".\\adventureswithelephants_dataset\\wavs\\all\\efaf2011a027.wav\n",
      "x: \n",
      "[  -7   -7   -8 ... -713 -722 -680]\n",
      "sr_orig: 44100\n",
      "y: \n",
      "[ 0 -7 -4 ... 35 25 13]\n",
      "yb class: [-21 -26 -26 ...   0   0   0]\n"
     ]
    },
    {
     "name": "stderr",
     "output_type": "stream",
     "text": [
      "\r",
      " 62%|█████████████████████████████████████████████████▉                              | 382/612 [03:47<02:16,  1.68it/s]"
     ]
    },
    {
     "name": "stdout",
     "output_type": "stream",
     "text": [
      "index: 382\n",
      "row: \n",
      "filename      EFAF2011A027.WAV\n",
      "start                 45857208\n",
      "duration                142139\n",
      "type                    rumble\n",
      "background                   1\n",
      "Name: 382, dtype: object\n",
      "source filename: EFAF2011A027.WAV\n",
      ".\\adventureswithelephants_dataset\\wavs\\all\\efaf2011a027.wav\n",
      "x: \n",
      "[  -7   -7   -8 ... -713 -722 -680]\n",
      "sr_orig: 44100\n",
      "y: \n",
      "[ 0 -5 -2 ...  0  0  0]\n",
      "yb class: [43 25  0 ...  0  0  0]\n"
     ]
    },
    {
     "name": "stderr",
     "output_type": "stream",
     "text": [
      "\r",
      " 63%|██████████████████████████████████████████████████                              | 383/612 [03:47<02:16,  1.68it/s]"
     ]
    },
    {
     "name": "stdout",
     "output_type": "stream",
     "text": [
      "index: 383\n",
      "row: \n",
      "filename      EFAF2011A027.WAV\n",
      "start                 58130860\n",
      "duration                176373\n",
      "type                    rumble\n",
      "background                   1\n",
      "Name: 383, dtype: object\n",
      "source filename: EFAF2011A027.WAV\n",
      ".\\adventureswithelephants_dataset\\wavs\\all\\efaf2011a027.wav\n",
      "x: \n",
      "[  -7   -7   -8 ... -713 -722 -680]\n",
      "sr_orig: 44100\n",
      "y: \n",
      "[-751 -841 -827 ...  -88  -74  -46]\n",
      "yb class: [   0    0    0 ... -650 -728 -746]\n"
     ]
    },
    {
     "name": "stderr",
     "output_type": "stream",
     "text": [
      "\r",
      " 63%|██████████████████████████████████████████████████▏                             | 384/612 [03:48<02:15,  1.68it/s]"
     ]
    },
    {
     "name": "stdout",
     "output_type": "stream",
     "text": [
      "index: 384\n",
      "row: \n",
      "filename      EFAF2011A027.WAV\n",
      "start                 58205036\n",
      "duration                150002\n",
      "type                    rumble\n",
      "background                   0\n",
      "Name: 384, dtype: object\n",
      "source filename: EFAF2011A027.WAV\n",
      ".\\adventureswithelephants_dataset\\wavs\\all\\efaf2011a027.wav\n",
      "x: \n",
      "[  -7   -7   -8 ... -713 -722 -680]\n",
      "sr_orig: 44100\n",
      "y: \n",
      "[ -13  -36  -16 ... -459 -480 -436]\n"
     ]
    },
    {
     "name": "stderr",
     "output_type": "stream",
     "text": [
      "\r",
      " 63%|██████████████████████████████████████████████████▎                             | 385/612 [03:49<02:15,  1.68it/s]"
     ]
    },
    {
     "name": "stdout",
     "output_type": "stream",
     "text": [
      "index: 385\n",
      "row: \n",
      "filename      EFAF2011A027.WAV\n",
      "start                 58345146\n",
      "duration                156595\n",
      "type                    rumble\n",
      "background                   0\n",
      "Name: 385, dtype: object\n",
      "source filename: EFAF2011A027.WAV\n",
      ".\\adventureswithelephants_dataset\\wavs\\all\\efaf2011a027.wav\n",
      "x: \n",
      "[  -7   -7   -8 ... -713 -722 -680]\n",
      "sr_orig: 44100\n",
      "y: \n",
      "[1245 1298 1226 ...    4   10    1]\n"
     ]
    },
    {
     "name": "stderr",
     "output_type": "stream",
     "text": [
      "\r",
      " 63%|██████████████████████████████████████████████████▍                             | 386/612 [03:49<02:14,  1.68it/s]"
     ]
    },
    {
     "name": "stdout",
     "output_type": "stream",
     "text": [
      "index: 386\n",
      "row: \n",
      "filename      EFAF2011A027.WAV\n",
      "start                 58448993\n",
      "duration                133517\n",
      "type                    rumble\n",
      "background                   0\n",
      "Name: 386, dtype: object\n",
      "source filename: EFAF2011A027.WAV\n",
      ".\\adventureswithelephants_dataset\\wavs\\all\\efaf2011a027.wav\n",
      "x: \n",
      "[  -7   -7   -8 ... -713 -722 -680]\n",
      "sr_orig: 44100\n",
      "y: \n",
      "[-165 -185 -164 ...  -85 -121 -117]\n"
     ]
    },
    {
     "name": "stderr",
     "output_type": "stream",
     "text": [
      "\r",
      " 63%|██████████████████████████████████████████████████▌                             | 387/612 [03:49<02:13,  1.68it/s]"
     ]
    },
    {
     "name": "stdout",
     "output_type": "stream",
     "text": [
      "index: 387\n",
      "row: \n",
      "filename      EFAF2011A027.WAV\n",
      "start                 58539649\n",
      "duration                222529\n",
      "type                    rumble\n",
      "background                   0\n",
      "Name: 387, dtype: object\n",
      "source filename: EFAF2011A027.WAV\n",
      ".\\adventureswithelephants_dataset\\wavs\\all\\efaf2011a027.wav\n",
      "x: \n",
      "[  -7   -7   -8 ... -713 -722 -680]\n",
      "sr_orig: 44100\n",
      "y: \n",
      "[  0 -13 -23 ... -84 -80 -59]\n"
     ]
    },
    {
     "name": "stderr",
     "output_type": "stream",
     "text": [
      "\r",
      " 63%|██████████████████████████████████████████████████▋                             | 388/612 [03:50<02:13,  1.68it/s]"
     ]
    },
    {
     "name": "stdout",
     "output_type": "stream",
     "text": [
      "index: 388\n",
      "row: \n",
      "filename      EFAF2011A027.WAV\n",
      "start                 59112680\n",
      "duration                198371\n",
      "type                    rumble\n",
      "background                   0\n",
      "Name: 388, dtype: object\n",
      "source filename: EFAF2011A027.WAV\n",
      ".\\adventureswithelephants_dataset\\wavs\\all\\efaf2011a027.wav\n",
      "x: \n",
      "[  -7   -7   -8 ... -713 -722 -680]\n",
      "sr_orig: 44100\n",
      "y: \n",
      "[258 263 228 ... -41 -49 -43]\n"
     ]
    },
    {
     "name": "stderr",
     "output_type": "stream",
     "text": [
      "\r",
      " 64%|██████████████████████████████████████████████████▊                             | 389/612 [03:50<02:12,  1.69it/s]"
     ]
    },
    {
     "name": "stdout",
     "output_type": "stream",
     "text": [
      "index: 389\n",
      "row: \n",
      "filename      EFAF2011A027.WAV\n",
      "start                 59023722\n",
      "duration                285283\n",
      "type                    rumble\n",
      "background                   0\n",
      "Name: 389, dtype: object\n",
      "source filename: EFAF2011A027.WAV\n",
      ".\\adventureswithelephants_dataset\\wavs\\all\\efaf2011a027.wav\n",
      "x: \n",
      "[  -7   -7   -8 ... -713 -722 -680]\n",
      "sr_orig: 44100\n",
      "y: \n",
      "[-107 -109  -96 ...    0  -25  -13]\n"
     ]
    },
    {
     "name": "stderr",
     "output_type": "stream",
     "text": [
      "\r",
      " 64%|██████████████████████████████████████████████████▉                             | 390/612 [03:51<02:11,  1.69it/s]"
     ]
    },
    {
     "name": "stdout",
     "output_type": "stream",
     "text": [
      "index: 390\n",
      "row: \n",
      "filename      EFAF2011A027.WAV\n",
      "start                 59318292\n",
      "duration                164092\n",
      "type                    rumble\n",
      "background                   0\n",
      "Name: 390, dtype: object\n",
      "source filename: EFAF2011A027.WAV\n",
      ".\\adventureswithelephants_dataset\\wavs\\all\\efaf2011a027.wav\n",
      "x: \n",
      "[  -7   -7   -8 ... -713 -722 -680]\n",
      "sr_orig: 44100\n",
      "y: \n",
      "[140 152 133 ... 430 479 473]\n"
     ]
    },
    {
     "name": "stderr",
     "output_type": "stream",
     "text": [
      "\r",
      " 64%|███████████████████████████████████████████████████                             | 391/612 [03:51<02:10,  1.69it/s]"
     ]
    },
    {
     "name": "stdout",
     "output_type": "stream",
     "text": [
      "index: 391\n",
      "row: \n",
      "filename      EFAF2011A027.WAV\n",
      "start                 59555431\n",
      "duration                111454\n",
      "type                    rumble\n",
      "background                   0\n",
      "Name: 391, dtype: object\n",
      "source filename: EFAF2011A027.WAV\n",
      ".\\adventureswithelephants_dataset\\wavs\\all\\efaf2011a027.wav\n",
      "x: \n",
      "[  -7   -7   -8 ... -713 -722 -680]\n",
      "sr_orig: 44100\n",
      "y: \n",
      "[-13 -24 -26 ... 113 105  99]\n"
     ]
    },
    {
     "name": "stderr",
     "output_type": "stream",
     "text": [
      "\r",
      " 64%|███████████████████████████████████████████████████▏                            | 392/612 [03:52<02:10,  1.69it/s]"
     ]
    },
    {
     "name": "stdout",
     "output_type": "stream",
     "text": [
      "index: 392\n",
      "row: \n",
      "filename      EFAF2011A027.WAV\n",
      "start                 59600422\n",
      "duration                207570\n",
      "type                    rumble\n",
      "background                   0\n",
      "Name: 392, dtype: object\n",
      "source filename: EFAF2011A027.WAV\n",
      ".\\adventureswithelephants_dataset\\wavs\\all\\efaf2011a027.wav\n",
      "x: \n",
      "[  -7   -7   -8 ... -713 -722 -680]\n",
      "sr_orig: 44100\n",
      "y: \n",
      "[-55 -72 -65 ... 176 192 202]\n"
     ]
    },
    {
     "name": "stderr",
     "output_type": "stream",
     "text": [
      "\r",
      " 64%|███████████████████████████████████████████████████▎                            | 393/612 [03:52<02:09,  1.69it/s]"
     ]
    },
    {
     "name": "stdout",
     "output_type": "stream",
     "text": [
      "index: 393\n",
      "row: \n",
      "filename      EFAF2011A027.WAV\n",
      "start                 59861622\n",
      "duration                196915\n",
      "type                    rumble\n",
      "background                   0\n",
      "Name: 393, dtype: object\n",
      "source filename: EFAF2011A027.WAV\n",
      ".\\adventureswithelephants_dataset\\wavs\\all\\efaf2011a027.wav\n",
      "x: \n",
      "[  -7   -7   -8 ... -713 -722 -680]\n",
      "sr_orig: 44100\n",
      "y: \n",
      "[ 11  23  11 ... 137 148 155]\n"
     ]
    },
    {
     "name": "stderr",
     "output_type": "stream",
     "text": [
      "\r",
      " 64%|███████████████████████████████████████████████████▌                            | 394/612 [03:53<02:09,  1.69it/s]"
     ]
    },
    {
     "name": "stdout",
     "output_type": "stream",
     "text": [
      "index: 394\n",
      "row: \n",
      "filename      EFAF2011A027.WAV\n",
      "start                 60280312\n",
      "duration                118920\n",
      "type                    rumble\n",
      "background                   0\n",
      "Name: 394, dtype: object\n",
      "source filename: EFAF2011A027.WAV\n",
      ".\\adventureswithelephants_dataset\\wavs\\all\\efaf2011a027.wav\n",
      "x: \n",
      "[  -7   -7   -8 ... -713 -722 -680]\n",
      "sr_orig: 44100\n",
      "y: \n",
      "[-130 -157 -157 ... -115 -110 -106]\n"
     ]
    },
    {
     "name": "stderr",
     "output_type": "stream",
     "text": [
      "\r",
      " 65%|███████████████████████████████████████████████████▋                            | 395/612 [03:53<02:08,  1.69it/s]"
     ]
    },
    {
     "name": "stdout",
     "output_type": "stream",
     "text": [
      "index: 395\n",
      "row: \n",
      "filename      EFAF2011A027.WAV\n",
      "start                 60499374\n",
      "duration                147087\n",
      "type                    rumble\n",
      "background                   0\n",
      "Name: 395, dtype: object\n",
      "source filename: EFAF2011A027.WAV\n",
      ".\\adventureswithelephants_dataset\\wavs\\all\\efaf2011a027.wav\n",
      "x: \n",
      "[  -7   -7   -8 ... -713 -722 -680]\n",
      "sr_orig: 44100\n",
      "y: \n",
      "[ -9 -22 -29 ...  -1 -27 -34]\n"
     ]
    },
    {
     "name": "stderr",
     "output_type": "stream",
     "text": [
      "\r",
      " 65%|███████████████████████████████████████████████████▊                            | 396/612 [03:54<02:07,  1.69it/s]"
     ]
    },
    {
     "name": "stdout",
     "output_type": "stream",
     "text": [
      "index: 396\n",
      "row: \n",
      "filename      EFAF2011A027.WAV\n",
      "start                 60712178\n",
      "duration                118921\n",
      "type                    rumble\n",
      "background                   0\n",
      "Name: 396, dtype: object\n",
      "source filename: EFAF2011A027.WAV\n",
      ".\\adventureswithelephants_dataset\\wavs\\all\\efaf2011a027.wav\n",
      "x: \n",
      "[  -7   -7   -8 ... -713 -722 -680]\n",
      "sr_orig: 44100\n",
      "y: \n",
      "[ 9  0  0 ... -1  1  0]\n"
     ]
    },
    {
     "name": "stderr",
     "output_type": "stream",
     "text": [
      "\r",
      " 65%|███████████████████████████████████████████████████▉                            | 397/612 [03:54<02:07,  1.69it/s]"
     ]
    },
    {
     "name": "stdout",
     "output_type": "stream",
     "text": [
      "index: 397\n",
      "row: \n",
      "filename      EFAF2011A027.WAV\n",
      "start                 12893120\n",
      "duration                134408\n",
      "type                    rumble\n",
      "background                   0\n",
      "Name: 397, dtype: object\n",
      "source filename: EFAF2011A027.WAV\n",
      ".\\adventureswithelephants_dataset\\wavs\\all\\efaf2011a027.wav\n",
      "x: \n",
      "[  -7   -7   -8 ... -713 -722 -680]\n",
      "sr_orig: 44100\n",
      "y: \n",
      "[174 175 184 ...  63  71  41]\n"
     ]
    },
    {
     "name": "stderr",
     "output_type": "stream",
     "text": [
      "\r",
      " 65%|████████████████████████████████████████████████████                            | 398/612 [03:55<02:06,  1.69it/s]"
     ]
    },
    {
     "name": "stdout",
     "output_type": "stream",
     "text": [
      "index: 398\n",
      "row: \n",
      "filename      EFAF2011A027.WAV\n",
      "start                 60830022\n",
      "duration                123869\n",
      "type                    rumble\n",
      "background                   1\n",
      "Name: 398, dtype: object\n",
      "source filename: EFAF2011A027.WAV\n",
      ".\\adventureswithelephants_dataset\\wavs\\all\\efaf2011a027.wav\n",
      "x: \n",
      "[  -7   -7   -8 ... -713 -722 -680]\n",
      "sr_orig: 44100\n",
      "y: \n",
      "[64 68 55 ... 74 78 90]\n",
      "yb class: [-12   0   0 ...  42  63  65]\n"
     ]
    },
    {
     "name": "stderr",
     "output_type": "stream",
     "text": [
      "\r",
      " 65%|████████████████████████████████████████████████████▏                           | 399/612 [03:55<02:05,  1.69it/s]"
     ]
    },
    {
     "name": "stdout",
     "output_type": "stream",
     "text": [
      "index: 399\n",
      "row: \n",
      "filename      EFAF2011A027.WAV\n",
      "start                 61535124\n",
      "duration                173891\n",
      "type                    rumble\n",
      "background                   1\n",
      "Name: 399, dtype: object\n",
      "source filename: EFAF2011A027.WAV\n",
      ".\\adventureswithelephants_dataset\\wavs\\all\\efaf2011a027.wav\n",
      "x: \n",
      "[  -7   -7   -8 ... -713 -722 -680]\n",
      "sr_orig: 44100\n",
      "y: \n",
      "[ -7 -26 -17 ...  13   0   0]\n",
      "yb class: [ 0  0  0 ...  1 -2 -3]\n"
     ]
    },
    {
     "name": "stderr",
     "output_type": "stream",
     "text": [
      "\r",
      " 65%|████████████████████████████████████████████████████▎                           | 400/612 [03:56<02:05,  1.69it/s]"
     ]
    },
    {
     "name": "stdout",
     "output_type": "stream",
     "text": [
      "index: 400\n",
      "row: \n",
      "filename      EFAF2011A028.WAV\n",
      "start                  1668470\n",
      "duration                125178\n",
      "type                    rumble\n",
      "background                   0\n",
      "Name: 400, dtype: object\n",
      "source filename: EFAF2011A028.WAV\n",
      ".\\adventureswithelephants_dataset\\wavs\\all\\efaf2011a028.wav\n",
      "x: \n",
      "[860 861 583 ...   3  -6 -11]\n",
      "sr_orig: 44100\n",
      "y: \n",
      "[ -59  -58  -43 ... -494 -515 -484]\n"
     ]
    },
    {
     "name": "stderr",
     "output_type": "stream",
     "text": [
      "\r",
      " 66%|████████████████████████████████████████████████████▍                           | 401/612 [03:57<02:04,  1.69it/s]"
     ]
    },
    {
     "name": "stdout",
     "output_type": "stream",
     "text": [
      "index: 401\n",
      "row: \n",
      "filename      EFAF2011A028.WAV\n",
      "start                  2070830\n",
      "duration                147527\n",
      "type                    rumble\n",
      "background                   0\n",
      "Name: 401, dtype: object\n",
      "source filename: EFAF2011A028.WAV\n",
      ".\\adventureswithelephants_dataset\\wavs\\all\\efaf2011a028.wav\n",
      "x: \n",
      "[860 861 583 ...   3  -6 -11]\n",
      "sr_orig: 44100\n",
      "y: \n",
      "[3742 3936 3723 ...    0   -1    0]\n"
     ]
    },
    {
     "name": "stderr",
     "output_type": "stream",
     "text": [
      "\r",
      " 66%|████████████████████████████████████████████████████▌                           | 402/612 [03:57<02:04,  1.69it/s]"
     ]
    },
    {
     "name": "stdout",
     "output_type": "stream",
     "text": [
      "index: 402\n",
      "row: \n",
      "filename      EFAF2011A028.WAV\n",
      "start                  3005785\n",
      "duration                136093\n",
      "type                    rumble\n",
      "background                   1\n",
      "Name: 402, dtype: object\n",
      "source filename: EFAF2011A028.WAV\n",
      ".\\adventureswithelephants_dataset\\wavs\\all\\efaf2011a028.wav\n",
      "x: \n",
      "[860 861 583 ...   3  -6 -11]\n",
      "sr_orig: 44100\n",
      "y: \n",
      "[ 0  0  0 ... 68 74 57]\n",
      "yb class: [1083 1231 1247 ...    0    0    0]\n"
     ]
    },
    {
     "name": "stderr",
     "output_type": "stream",
     "text": [
      "\r",
      " 66%|████████████████████████████████████████████████████▋                           | 403/612 [03:58<02:03,  1.69it/s]"
     ]
    },
    {
     "name": "stdout",
     "output_type": "stream",
     "text": [
      "index: 403\n",
      "row: \n",
      "filename      EFAF2011A028.WAV\n",
      "start                  3434477\n",
      "duration                149706\n",
      "type                    rumble\n",
      "background                   0\n",
      "Name: 403, dtype: object\n",
      "source filename: EFAF2011A028.WAV\n",
      ".\\adventureswithelephants_dataset\\wavs\\all\\efaf2011a028.wav\n",
      "x: \n",
      "[860 861 583 ...   3  -6 -11]\n",
      "sr_orig: 44100\n",
      "y: \n",
      "[-4 -2 -6 ...  0  0  0]\n"
     ]
    },
    {
     "name": "stderr",
     "output_type": "stream",
     "text": [
      "\r",
      " 66%|████████████████████████████████████████████████████▊                           | 404/612 [03:58<02:02,  1.69it/s]"
     ]
    },
    {
     "name": "stdout",
     "output_type": "stream",
     "text": [
      "index: 404\n",
      "row: \n",
      "filename      EFAF2011A028.WAV\n",
      "start                  4890676\n",
      "duration                149702\n",
      "type                    rumble\n",
      "background                   1\n",
      "Name: 404, dtype: object\n",
      "source filename: EFAF2011A028.WAV\n",
      ".\\adventureswithelephants_dataset\\wavs\\all\\efaf2011a028.wav\n",
      "x: \n",
      "[860 861 583 ...   3  -6 -11]\n",
      "sr_orig: 44100\n",
      "y: \n",
      "[0 0 0 ... 0 0 0]\n",
      "yb class: [7 0 0 ... 0 0 0]\n"
     ]
    },
    {
     "name": "stderr",
     "output_type": "stream",
     "text": [
      "\r",
      " 66%|████████████████████████████████████████████████████▉                           | 405/612 [03:59<02:02,  1.69it/s]"
     ]
    },
    {
     "name": "stdout",
     "output_type": "stream",
     "text": [
      "index: 405\n",
      "row: \n",
      "filename      EFAF2011A028.WAV\n",
      "start                  5598362\n",
      "duration                170116\n",
      "type                    rumble\n",
      "background                   1\n",
      "Name: 405, dtype: object\n",
      "source filename: EFAF2011A028.WAV\n",
      ".\\adventureswithelephants_dataset\\wavs\\all\\efaf2011a028.wav\n",
      "x: \n",
      "[860 861 583 ...   3  -6 -11]\n",
      "sr_orig: 44100\n",
      "y: \n",
      "[-82 -89 -94 ...   0   0   0]\n",
      "yb class: [-22 -28 -20 ... -75 -87 -83]\n"
     ]
    },
    {
     "name": "stderr",
     "output_type": "stream",
     "text": [
      "\r",
      " 66%|█████████████████████████████████████████████████████                           | 406/612 [04:00<02:01,  1.69it/s]"
     ]
    },
    {
     "name": "stdout",
     "output_type": "stream",
     "text": [
      "index: 406\n",
      "row: \n",
      "filename      EFAF2011A028.WAV\n",
      "start                  6877637\n",
      "duration                142897\n",
      "type                    rumble\n",
      "background                   1\n",
      "Name: 406, dtype: object\n",
      "source filename: EFAF2011A028.WAV\n",
      ".\\adventureswithelephants_dataset\\wavs\\all\\efaf2011a028.wav\n",
      "x: \n",
      "[860 861 583 ...   3  -6 -11]\n",
      "sr_orig: 44100\n",
      "y: \n",
      "[0 0 0 ... 3 0 0]\n",
      "yb class: [0 2 0 ... 0 0 0]\n"
     ]
    },
    {
     "name": "stderr",
     "output_type": "stream",
     "text": [
      "\r",
      " 67%|█████████████████████████████████████████████████████▏                          | 407/612 [04:01<02:01,  1.69it/s]"
     ]
    },
    {
     "name": "stdout",
     "output_type": "stream",
     "text": [
      "index: 407\n",
      "row: \n",
      "filename      EFAF2011A028.WAV\n",
      "start                  7415203\n",
      "duration                197339\n",
      "type                    rumble\n",
      "background                   0\n",
      "Name: 407, dtype: object\n",
      "source filename: EFAF2011A028.WAV\n",
      ".\\adventureswithelephants_dataset\\wavs\\all\\efaf2011a028.wav\n",
      "x: \n",
      "[860 861 583 ...   3  -6 -11]\n",
      "sr_orig: 44100\n",
      "y: \n",
      "[-113  -95  -52 ...  116  125  120]\n"
     ]
    },
    {
     "name": "stderr",
     "output_type": "stream",
     "text": [
      "\r",
      " 67%|█████████████████████████████████████████████████████▎                          | 408/612 [04:01<02:00,  1.69it/s]"
     ]
    },
    {
     "name": "stdout",
     "output_type": "stream",
     "text": [
      "index: 408\n",
      "row: \n",
      "filename      EFAF2011A028.WAV\n",
      "start                  8626436\n",
      "duration                129288\n",
      "type                    rumble\n",
      "background                   1\n",
      "Name: 408, dtype: object\n",
      "source filename: EFAF2011A028.WAV\n",
      ".\\adventureswithelephants_dataset\\wavs\\all\\efaf2011a028.wav\n",
      "x: \n",
      "[860 861 583 ...   3  -6 -11]\n",
      "sr_orig: 44100\n",
      "y: \n",
      "[ -7 -13  -9 ... -33 -34 -25]\n",
      "yb class: [ 0  0  0 ... -2 -9 -8]\n"
     ]
    },
    {
     "name": "stderr",
     "output_type": "stream",
     "text": [
      "\r",
      " 67%|█████████████████████████████████████████████████████▍                          | 409/612 [04:02<02:00,  1.69it/s]"
     ]
    },
    {
     "name": "stdout",
     "output_type": "stream",
     "text": [
      "index: 409\n",
      "row: \n",
      "filename      EFAF2011A028.WAV\n",
      "start                 10714769\n",
      "duration                172202\n",
      "type                    rumble\n",
      "background                   1\n",
      "Name: 409, dtype: object\n",
      "source filename: EFAF2011A028.WAV\n",
      ".\\adventureswithelephants_dataset\\wavs\\all\\efaf2011a028.wav\n",
      "x: \n",
      "[860 861 583 ...   3  -6 -11]\n",
      "sr_orig: 44100\n",
      "y: \n",
      "[83 90 88 ...  0  0  0]\n",
      "yb class: [ 0  0  0 ... 67 81 80]\n"
     ]
    },
    {
     "name": "stderr",
     "output_type": "stream",
     "text": [
      "\r",
      " 67%|█████████████████████████████████████████████████████▌                          | 410/612 [04:03<01:59,  1.68it/s]"
     ]
    },
    {
     "name": "stdout",
     "output_type": "stream",
     "text": [
      "index: 410\n",
      "row: \n",
      "filename      EFAF2011A028.WAV\n",
      "start                 11548863\n",
      "duration                145292\n",
      "type                    rumble\n",
      "background                   1\n",
      "Name: 410, dtype: object\n",
      "source filename: EFAF2011A028.WAV\n",
      ".\\adventureswithelephants_dataset\\wavs\\all\\efaf2011a028.wav\n",
      "x: \n",
      "[860 861 583 ...   3  -6 -11]\n",
      "sr_orig: 44100\n",
      "y: \n",
      "[ 0  0  0 ... 70 87 86]\n",
      "yb class: [  0   0   0 ... -27 -25  -4]\n"
     ]
    },
    {
     "name": "stderr",
     "output_type": "stream",
     "text": [
      "\r",
      " 67%|█████████████████████████████████████████████████████▋                          | 411/612 [04:04<01:59,  1.68it/s]"
     ]
    },
    {
     "name": "stdout",
     "output_type": "stream",
     "text": [
      "index: 411\n",
      "row: \n",
      "filename      EFAF2011A028.WAV\n",
      "start                 12339903\n",
      "duration                134531\n",
      "type                    rumble\n",
      "background                   1\n",
      "Name: 411, dtype: object\n",
      "source filename: EFAF2011A028.WAV\n",
      ".\\adventureswithelephants_dataset\\wavs\\all\\efaf2011a028.wav\n",
      "x: \n",
      "[860 861 583 ...   3  -6 -11]\n",
      "sr_orig: 44100\n",
      "y: \n",
      "[-63 -77 -74 ...  11  16   3]\n",
      "yb class: [-12 -14  -9 ... -40 -51 -56]\n"
     ]
    },
    {
     "name": "stderr",
     "output_type": "stream",
     "text": [
      "\r",
      " 67%|█████████████████████████████████████████████████████▊                          | 412/612 [04:04<01:58,  1.68it/s]"
     ]
    },
    {
     "name": "stdout",
     "output_type": "stream",
     "text": [
      "index: 412\n",
      "row: \n",
      "filename      EFAF2011A028.WAV\n",
      "start                 13792839\n",
      "duration                123767\n",
      "type                    rumble\n",
      "background                   1\n",
      "Name: 412, dtype: object\n",
      "source filename: EFAF2011A028.WAV\n",
      ".\\adventureswithelephants_dataset\\wavs\\all\\efaf2011a028.wav\n",
      "x: \n",
      "[860 861 583 ...   3  -6 -11]\n",
      "sr_orig: 44100\n",
      "y: \n",
      "[ -7 -12  -6 ...   0   1   0]\n",
      "yb class: [42 49 48 ... -8 -5 -7]\n"
     ]
    },
    {
     "name": "stderr",
     "output_type": "stream",
     "text": [
      "\r",
      " 67%|█████████████████████████████████████████████████████▉                          | 413/612 [04:05<01:58,  1.68it/s]"
     ]
    },
    {
     "name": "stdout",
     "output_type": "stream",
     "text": [
      "index: 413\n",
      "row: \n",
      "filename      EFAF2011A028.WAV\n",
      "start                 15627840\n",
      "duration                134531\n",
      "type                    rumble\n",
      "background                   1\n",
      "Name: 413, dtype: object\n",
      "source filename: EFAF2011A028.WAV\n",
      ".\\adventureswithelephants_dataset\\wavs\\all\\efaf2011a028.wav\n",
      "x: \n",
      "[860 861 583 ...   3  -6 -11]\n",
      "sr_orig: 44100\n",
      "y: \n",
      "[ 0  0  0 ... 51 56 47]\n",
      "yb class: [-2 -2 -2 ...  0 -1  0]\n"
     ]
    },
    {
     "name": "stderr",
     "output_type": "stream",
     "text": [
      "\r",
      " 68%|██████████████████████████████████████████████████████                          | 414/612 [04:06<01:57,  1.68it/s]"
     ]
    },
    {
     "name": "stdout",
     "output_type": "stream",
     "text": [
      "index: 414\n",
      "row: \n",
      "filename      EFAF2011A028.WAV\n",
      "start                 16387983\n",
      "duration                112486\n",
      "type                    rumble\n",
      "background                   1\n",
      "Name: 414, dtype: object\n",
      "source filename: EFAF2011A028.WAV\n",
      ".\\adventureswithelephants_dataset\\wavs\\all\\efaf2011a028.wav\n",
      "x: \n",
      "[860 861 583 ...   3  -6 -11]\n",
      "sr_orig: 44100\n",
      "y: \n",
      "[-10 -14 -11 ...   0  -1   0]\n",
      "yb class: [-13 -16   0 ...  -8  -7  -8]\n"
     ]
    },
    {
     "name": "stderr",
     "output_type": "stream",
     "text": [
      "\r",
      " 68%|██████████████████████████████████████████████████████▏                         | 415/612 [04:07<01:57,  1.68it/s]"
     ]
    },
    {
     "name": "stdout",
     "output_type": "stream",
     "text": [
      "index: 415\n",
      "row: \n",
      "filename      EFAF2011A028.WAV\n",
      "start                 17417224\n",
      "duration                163104\n",
      "type                    rumble\n",
      "background                   1\n",
      "Name: 415, dtype: object\n",
      "source filename: EFAF2011A028.WAV\n",
      ".\\adventureswithelephants_dataset\\wavs\\all\\efaf2011a028.wav\n",
      "x: \n",
      "[860 861 583 ...   3  -6 -11]\n",
      "sr_orig: 44100\n",
      "y: \n",
      "[137 161 163 ...   0   0   0]\n",
      "yb class: [  0   0   0 ... 115 141 138]\n"
     ]
    },
    {
     "name": "stderr",
     "output_type": "stream",
     "text": [
      "\r",
      " 68%|██████████████████████████████████████████████████████▍                         | 416/612 [04:08<01:56,  1.68it/s]"
     ]
    },
    {
     "name": "stdout",
     "output_type": "stream",
     "text": [
      "index: 416\n",
      "row: \n",
      "filename      EFAF2011A028.WAV\n",
      "start                 18682682\n",
      "duration                118109\n",
      "type                    rumble\n",
      "background                   1\n",
      "Name: 416, dtype: object\n",
      "source filename: EFAF2011A028.WAV\n",
      ".\\adventureswithelephants_dataset\\wavs\\all\\efaf2011a028.wav\n",
      "x: \n",
      "[860 861 583 ...   3  -6 -11]\n",
      "sr_orig: 44100\n",
      "y: \n",
      "[-105  -98  -82 ...  -71  -69  -59]\n",
      "yb class: [   0    0    0 ...  -83  -99 -102]\n"
     ]
    },
    {
     "name": "stderr",
     "output_type": "stream",
     "text": [
      "\r",
      " 68%|██████████████████████████████████████████████████████▌                         | 417/612 [04:08<01:56,  1.68it/s]"
     ]
    },
    {
     "name": "stdout",
     "output_type": "stream",
     "text": [
      "index: 417\n",
      "row: \n",
      "filename      EFAF2011A028.WAV\n",
      "start                 21680411\n",
      "duration                134985\n",
      "type                    rumble\n",
      "background                   1\n",
      "Name: 417, dtype: object\n",
      "source filename: EFAF2011A028.WAV\n",
      ".\\adventureswithelephants_dataset\\wavs\\all\\efaf2011a028.wav\n",
      "x: \n",
      "[860 861 583 ...   3  -6 -11]\n",
      "sr_orig: 44100\n",
      "y: \n",
      "[-16 -26 -21 ... -33 -42 -38]\n",
      "yb class: [  0   0   0 ...  -2  -6 -15]\n"
     ]
    },
    {
     "name": "stderr",
     "output_type": "stream",
     "text": [
      "\r",
      " 68%|██████████████████████████████████████████████████████▋                         | 418/612 [04:09<01:55,  1.67it/s]"
     ]
    },
    {
     "name": "stdout",
     "output_type": "stream",
     "text": [
      "index: 418\n",
      "row: \n",
      "filename      EFAF2011A028.WAV\n",
      "start                 23159498\n",
      "duration                154712\n",
      "type                    rumble\n",
      "background                   1\n",
      "Name: 418, dtype: object\n",
      "source filename: EFAF2011A028.WAV\n",
      ".\\adventureswithelephants_dataset\\wavs\\all\\efaf2011a028.wav\n",
      "x: \n",
      "[860 861 583 ...   3  -6 -11]\n",
      "sr_orig: 44100\n",
      "y: \n",
      "[ 0  0  0 ... 75 81 80]\n",
      "yb class: [0 0 0 ... 0 0 0]\n"
     ]
    },
    {
     "name": "stderr",
     "output_type": "stream",
     "text": [
      "\r",
      " 68%|██████████████████████████████████████████████████████▊                         | 419/612 [04:10<01:55,  1.67it/s]"
     ]
    },
    {
     "name": "stdout",
     "output_type": "stream",
     "text": [
      "index: 419\n",
      "row: \n",
      "filename      EFAF2011A028.WAV\n",
      "start                 24451011\n",
      "duration                114355\n",
      "type                    rumble\n",
      "background                   1\n",
      "Name: 419, dtype: object\n",
      "source filename: EFAF2011A028.WAV\n",
      ".\\adventureswithelephants_dataset\\wavs\\all\\efaf2011a028.wav\n",
      "x: \n",
      "[860 861 583 ...   3  -6 -11]\n",
      "sr_orig: 44100\n",
      "y: \n",
      "[ 0  0  0 ... 59 71 67]\n",
      "yb class: [-54 -53 -45 ...   0   0   0]\n"
     ]
    },
    {
     "name": "stderr",
     "output_type": "stream",
     "text": [
      "\r",
      " 69%|██████████████████████████████████████████████████████▉                         | 420/612 [04:11<01:54,  1.67it/s]"
     ]
    },
    {
     "name": "stdout",
     "output_type": "stream",
     "text": [
      "index: 420\n",
      "row: \n",
      "filename      EFAF2011A028.WAV\n",
      "start                 26043660\n",
      "duration                108460\n",
      "type                    rumble\n",
      "background                   1\n",
      "Name: 420, dtype: object\n",
      "source filename: EFAF2011A028.WAV\n",
      ".\\adventureswithelephants_dataset\\wavs\\all\\efaf2011a028.wav\n",
      "x: \n",
      "[860 861 583 ...   3  -6 -11]\n",
      "sr_orig: 44100\n",
      "y: \n",
      "[41 38 31 ... 27 28 14]\n",
      "yb class: [-35 -42 -58 ...  38  45  43]\n"
     ]
    },
    {
     "name": "stderr",
     "output_type": "stream",
     "text": [
      "\r",
      " 69%|███████████████████████████████████████████████████████                         | 421/612 [04:12<01:54,  1.67it/s]"
     ]
    },
    {
     "name": "stdout",
     "output_type": "stream",
     "text": [
      "index: 421\n",
      "row: \n",
      "filename      EFAF2011A028.WAV\n",
      "start                 27039500\n",
      "duration                142968\n",
      "type                    rumble\n",
      "background                   1\n",
      "Name: 421, dtype: object\n",
      "source filename: EFAF2011A028.WAV\n",
      ".\\adventureswithelephants_dataset\\wavs\\all\\efaf2011a028.wav\n",
      "x: \n",
      "[860 861 583 ...   3  -6 -11]\n",
      "sr_orig: 44100\n",
      "y: \n",
      "[ 47  51  44 ... -48 -60 -52]\n",
      "yb class: [ 0  0  0 ... 39 47 45]\n"
     ]
    },
    {
     "name": "stderr",
     "output_type": "stream",
     "text": [
      "\r",
      " 69%|███████████████████████████████████████████████████████▏                        | 422/612 [04:13<01:53,  1.67it/s]"
     ]
    },
    {
     "name": "stdout",
     "output_type": "stream",
     "text": [
      "index: 422\n",
      "row: \n",
      "filename      EFAF2011A028.WAV\n",
      "start                 27902237\n",
      "duration                167615\n",
      "type                    rumble\n",
      "background                   1\n",
      "Name: 422, dtype: object\n",
      "source filename: EFAF2011A028.WAV\n",
      ".\\adventureswithelephants_dataset\\wavs\\all\\efaf2011a028.wav\n",
      "x: \n",
      "[860 861 583 ...   3  -6 -11]\n",
      "sr_orig: 44100\n",
      "y: \n",
      "[  0   0   0 ... -11 -11 -10]\n",
      "yb class: [ 0  0  0 ... 12  6  0]\n"
     ]
    },
    {
     "name": "stderr",
     "output_type": "stream",
     "text": [
      "\r",
      " 69%|███████████████████████████████████████████████████████▎                        | 423/612 [04:13<01:53,  1.67it/s]"
     ]
    },
    {
     "name": "stdout",
     "output_type": "stream",
     "text": [
      "index: 423\n",
      "row: \n",
      "filename      EFAF2011A028.WAV\n",
      "start                 28725531\n",
      "duration                147898\n",
      "type                    rumble\n",
      "background                   1\n",
      "Name: 423, dtype: object\n",
      "source filename: EFAF2011A028.WAV\n",
      ".\\adventureswithelephants_dataset\\wavs\\all\\efaf2011a028.wav\n",
      "x: \n",
      "[860 861 583 ...   3  -6 -11]\n",
      "sr_orig: 44100\n",
      "y: \n",
      "[   0    0   -1 ... -348 -305 -225]\n",
      "yb class: [ 46  41  34 ...  -7 -13   0]\n"
     ]
    },
    {
     "name": "stderr",
     "output_type": "stream",
     "text": [
      "\r",
      " 69%|███████████████████████████████████████████████████████▍                        | 424/612 [04:14<01:52,  1.66it/s]"
     ]
    },
    {
     "name": "stdout",
     "output_type": "stream",
     "text": [
      "index: 424\n",
      "row: \n",
      "filename      EFAF2011A028.WAV\n",
      "start                 29632633\n",
      "duration                138037\n",
      "type                    rumble\n",
      "background                   1\n",
      "Name: 424, dtype: object\n",
      "source filename: EFAF2011A028.WAV\n",
      ".\\adventureswithelephants_dataset\\wavs\\all\\efaf2011a028.wav\n",
      "x: \n",
      "[860 861 583 ...   3  -6 -11]\n",
      "sr_orig: 44100\n",
      "y: \n",
      "[ -1 -14 -16 ...   2   7   7]\n",
      "yb class: [  0   0   0 ... -16  -6   0]\n"
     ]
    },
    {
     "name": "stderr",
     "output_type": "stream",
     "text": [
      "\r",
      " 69%|███████████████████████████████████████████████████████▌                        | 425/612 [04:15<01:52,  1.66it/s]"
     ]
    },
    {
     "name": "stdout",
     "output_type": "stream",
     "text": [
      "index: 425\n",
      "row: \n",
      "filename      EFAF2011A028.WAV\n",
      "start                 31088899\n",
      "duration                 70476\n",
      "type                    rumble\n",
      "background                   1\n",
      "Name: 425, dtype: object\n",
      "source filename: EFAF2011A028.WAV\n",
      ".\\adventureswithelephants_dataset\\wavs\\all\\efaf2011a028.wav\n",
      "x: \n",
      "[860 861 583 ...   3  -6 -11]\n",
      "sr_orig: 44100\n",
      "y: \n",
      "[    0     0     0 ... -5938 -5420 -4410]\n",
      "yb class: [14 13 14 ...  0  0  0]\n"
     ]
    },
    {
     "name": "stderr",
     "output_type": "stream",
     "text": [
      "\r",
      " 70%|███████████████████████████████████████████████████████▋                        | 426/612 [04:16<01:51,  1.66it/s]"
     ]
    },
    {
     "name": "stdout",
     "output_type": "stream",
     "text": [
      "index: 426\n",
      "row: \n",
      "filename      EFAF2011A028.WAV\n",
      "start                 31232016\n",
      "duration                 38001\n",
      "type                    rumble\n",
      "background                   0\n",
      "Name: 426, dtype: object\n",
      "source filename: EFAF2011A028.WAV\n",
      ".\\adventureswithelephants_dataset\\wavs\\all\\efaf2011a028.wav\n",
      "x: \n",
      "[860 861 583 ...   3  -6 -11]\n",
      "sr_orig: 44100\n",
      "y: \n",
      "[  240   222   169 ... -2983 -3190 -3067]\n"
     ]
    },
    {
     "name": "stderr",
     "output_type": "stream",
     "text": [
      "\r",
      " 70%|███████████████████████████████████████████████████████▊                        | 427/612 [04:16<01:51,  1.66it/s]"
     ]
    },
    {
     "name": "stdout",
     "output_type": "stream",
     "text": [
      "index: 427\n",
      "row: \n",
      "filename      EFAF2011A028.WAV\n",
      "start                 31828844\n",
      "duration                 69294\n",
      "type                    rumble\n",
      "background                   1\n",
      "Name: 427, dtype: object\n",
      "source filename: EFAF2011A028.WAV\n",
      ".\\adventureswithelephants_dataset\\wavs\\all\\efaf2011a028.wav\n",
      "x: \n",
      "[860 861 583 ...   3  -6 -11]\n",
      "sr_orig: 44100\n",
      "y: \n",
      "[-71 126 414 ...   0   0   0]\n",
      "yb class: [-5409 -5730 -5468 ...  -628  -347   -85]\n"
     ]
    },
    {
     "name": "stderr",
     "output_type": "stream",
     "text": [
      "\r",
      " 70%|███████████████████████████████████████████████████████▉                        | 428/612 [04:17<01:50,  1.66it/s]"
     ]
    },
    {
     "name": "stdout",
     "output_type": "stream",
     "text": [
      "index: 428\n",
      "row: \n",
      "filename      EFAF2011A028.WAV\n",
      "start                 31895902\n",
      "duration                121826\n",
      "type                    rumble\n",
      "background                   0\n",
      "Name: 428, dtype: object\n",
      "source filename: EFAF2011A028.WAV\n",
      ".\\adventureswithelephants_dataset\\wavs\\all\\efaf2011a028.wav\n",
      "x: \n",
      "[860 861 583 ...   3  -6 -11]\n",
      "sr_orig: 44100\n",
      "y: \n",
      "[1539 1641 1570 ...   -1    1    0]\n"
     ]
    },
    {
     "name": "stderr",
     "output_type": "stream",
     "text": [
      "\r",
      " 70%|████████████████████████████████████████████████████████                        | 429/612 [04:17<01:50,  1.66it/s]"
     ]
    },
    {
     "name": "stdout",
     "output_type": "stream",
     "text": [
      "index: 429\n",
      "row: \n",
      "filename      EFAF2011A028.WAV\n",
      "start                 31952654\n",
      "duration                106634\n",
      "type                    rumble\n",
      "background                   0\n",
      "Name: 429, dtype: object\n",
      "source filename: EFAF2011A028.WAV\n",
      ".\\adventureswithelephants_dataset\\wavs\\all\\efaf2011a028.wav\n",
      "x: \n",
      "[860 861 583 ...   3  -6 -11]\n",
      "sr_orig: 44100\n",
      "y: \n",
      "[4908 5242 5046 ...   -5  -13  -19]\n"
     ]
    },
    {
     "name": "stderr",
     "output_type": "stream",
     "text": [
      "\r",
      " 70%|████████████████████████████████████████████████████████▏                       | 430/612 [04:18<01:49,  1.66it/s]"
     ]
    },
    {
     "name": "stdout",
     "output_type": "stream",
     "text": [
      "index: 430\n",
      "row: \n",
      "filename      EFAF2011A028.WAV\n",
      "start                 31328132\n",
      "duration                 32414\n",
      "type                    rumble\n",
      "background                   0\n",
      "Name: 430, dtype: object\n",
      "source filename: EFAF2011A028.WAV\n",
      ".\\adventureswithelephants_dataset\\wavs\\all\\efaf2011a028.wav\n",
      "x: \n",
      "[860 861 583 ...   3  -6 -11]\n",
      "sr_orig: 44100\n",
      "y: \n",
      "[-142 -172 -176 ... 4783 6048 6486]\n"
     ]
    },
    {
     "name": "stderr",
     "output_type": "stream",
     "text": [
      "\r",
      " 70%|████████████████████████████████████████████████████████▎                       | 431/612 [04:18<01:48,  1.66it/s]"
     ]
    },
    {
     "name": "stdout",
     "output_type": "stream",
     "text": [
      "index: 431\n",
      "row: \n",
      "filename      EFAF2011A028.WAV\n",
      "start                 31418665\n",
      "duration                 61471\n",
      "type                    rumble\n",
      "background                   0\n",
      "Name: 431, dtype: object\n",
      "source filename: EFAF2011A028.WAV\n",
      ".\\adventureswithelephants_dataset\\wavs\\all\\efaf2011a028.wav\n",
      "x: \n",
      "[860 861 583 ...   3  -6 -11]\n",
      "sr_orig: 44100\n",
      "y: \n",
      "[-10161 -10873 -10491 ...   1344   1438   1381]\n"
     ]
    },
    {
     "name": "stderr",
     "output_type": "stream",
     "text": [
      "\r",
      " 71%|████████████████████████████████████████████████████████▍                       | 432/612 [04:19<01:48,  1.67it/s]"
     ]
    },
    {
     "name": "stdout",
     "output_type": "stream",
     "text": [
      "index: 432\n",
      "row: \n",
      "filename      EFAF2011A028.WAV\n",
      "start                 31633256\n",
      "duration                 86057\n",
      "type                    rumble\n",
      "background                   0\n",
      "Name: 432, dtype: object\n",
      "source filename: EFAF2011A028.WAV\n",
      ".\\adventureswithelephants_dataset\\wavs\\all\\efaf2011a028.wav\n",
      "x: \n",
      "[860 861 583 ...   3  -6 -11]\n",
      "sr_orig: 44100\n",
      "y: \n",
      "[-1234 -1370 -1406 ...     0     0     0]\n"
     ]
    },
    {
     "name": "stderr",
     "output_type": "stream",
     "text": [
      "\r",
      " 71%|████████████████████████████████████████████████████████▌                       | 433/612 [04:19<01:47,  1.67it/s]"
     ]
    },
    {
     "name": "stdout",
     "output_type": "stream",
     "text": [
      "index: 433\n",
      "row: \n",
      "filename      EFAF2011A028.WAV\n",
      "start                 31789727\n",
      "duration                 48060\n",
      "type                    rumble\n",
      "background                   0\n",
      "Name: 433, dtype: object\n",
      "source filename: EFAF2011A028.WAV\n",
      ".\\adventureswithelephants_dataset\\wavs\\all\\efaf2011a028.wav\n",
      "x: \n",
      "[860 861 583 ...   3  -6 -11]\n",
      "sr_orig: 44100\n",
      "y: \n",
      "[6705 6262 5042 ...   -3  -14  -10]\n"
     ]
    },
    {
     "name": "stderr",
     "output_type": "stream",
     "text": [
      "\r",
      " 71%|████████████████████████████████████████████████████████▋                       | 434/612 [04:20<01:46,  1.67it/s]"
     ]
    },
    {
     "name": "stdout",
     "output_type": "stream",
     "text": [
      "index: 434\n",
      "row: \n",
      "filename      EFAF2011A028.WAV\n",
      "start                 32070715\n",
      "duration                138522\n",
      "type                    rumble\n",
      "background                   0\n",
      "Name: 434, dtype: object\n",
      "source filename: EFAF2011A028.WAV\n",
      ".\\adventureswithelephants_dataset\\wavs\\all\\efaf2011a028.wav\n",
      "x: \n",
      "[860 861 583 ...   3  -6 -11]\n",
      "sr_orig: 44100\n",
      "y: \n",
      "[-110 -113 -117 ...    0    0    0]\n"
     ]
    },
    {
     "name": "stderr",
     "output_type": "stream",
     "text": [
      "\r",
      " 71%|████████████████████████████████████████████████████████▊                       | 435/612 [04:20<01:46,  1.67it/s]"
     ]
    },
    {
     "name": "stdout",
     "output_type": "stream",
     "text": [
      "index: 435\n",
      "row: \n",
      "filename      EFAF2011A028.WAV\n",
      "start                 32685566\n",
      "duration                145812\n",
      "type                    rumble\n",
      "background                   1\n",
      "Name: 435, dtype: object\n",
      "source filename: EFAF2011A028.WAV\n",
      ".\\adventureswithelephants_dataset\\wavs\\all\\efaf2011a028.wav\n",
      "x: \n",
      "[860 861 583 ...   3  -6 -11]\n",
      "sr_orig: 44100\n",
      "y: \n",
      "[0 0 0 ... 0 0 0]\n",
      "yb class: [0 0 6 ... 0 0 0]\n"
     ]
    },
    {
     "name": "stderr",
     "output_type": "stream",
     "text": [
      "\r",
      " 71%|████████████████████████████████████████████████████████▉                       | 436/612 [04:21<01:45,  1.67it/s]"
     ]
    },
    {
     "name": "stdout",
     "output_type": "stream",
     "text": [
      "index: 436\n",
      "row: \n",
      "filename      EFAF2011A028.WAV\n",
      "start                 32763332\n",
      "duration                136092\n",
      "type                    rumble\n",
      "background                   0\n",
      "Name: 436, dtype: object\n",
      "source filename: EFAF2011A028.WAV\n",
      ".\\adventureswithelephants_dataset\\wavs\\all\\efaf2011a028.wav\n",
      "x: \n",
      "[860 861 583 ...   3  -6 -11]\n",
      "sr_orig: 44100\n",
      "y: \n",
      "[116 132 142 ...   3   1   6]\n"
     ]
    },
    {
     "name": "stderr",
     "output_type": "stream",
     "text": [
      "\r",
      " 71%|█████████████████████████████████████████████████████████                       | 437/612 [04:22<01:44,  1.67it/s]"
     ]
    },
    {
     "name": "stdout",
     "output_type": "stream",
     "text": [
      "index: 437\n",
      "row: \n",
      "filename      EFAF2011A028.WAV\n",
      "start                 33793093\n",
      "duration                136926\n",
      "type                    rumble\n",
      "background                   1\n",
      "Name: 437, dtype: object\n",
      "source filename: EFAF2011A028.WAV\n",
      ".\\adventureswithelephants_dataset\\wavs\\all\\efaf2011a028.wav\n",
      "x: \n",
      "[860 861 583 ...   3  -6 -11]\n",
      "sr_orig: 44100\n",
      "y: \n",
      "[  0   0   0 ... -41 -51 -40]\n",
      "yb class: [0 0 0 ... 0 0 0]\n"
     ]
    },
    {
     "name": "stderr",
     "output_type": "stream",
     "text": [
      "\r",
      " 72%|█████████████████████████████████████████████████████████▎                      | 438/612 [04:23<01:44,  1.66it/s]"
     ]
    },
    {
     "name": "stdout",
     "output_type": "stream",
     "text": [
      "index: 438\n",
      "row: \n",
      "filename      EFAF2011A028.WAV\n",
      "start                 34050372\n",
      "duration                268922\n",
      "type                    rumble\n",
      "background                   0\n",
      "Name: 438, dtype: object\n",
      "source filename: EFAF2011A028.WAV\n",
      ".\\adventureswithelephants_dataset\\wavs\\all\\efaf2011a028.wav\n",
      "x: \n",
      "[860 861 583 ...   3  -6 -11]\n",
      "sr_orig: 44100\n",
      "y: \n",
      "[ 1  8 12 ...  0  0  0]\n"
     ]
    },
    {
     "name": "stderr",
     "output_type": "stream",
     "text": [
      "\r",
      " 72%|█████████████████████████████████████████████████████████▍                      | 439/612 [04:23<01:43,  1.66it/s]"
     ]
    },
    {
     "name": "stdout",
     "output_type": "stream",
     "text": [
      "index: 439\n",
      "row: \n",
      "filename      EFAF2011A028.WAV\n",
      "start                 34489736\n",
      "duration                313397\n",
      "type                    rumble\n",
      "background                   0\n",
      "Name: 439, dtype: object\n",
      "source filename: EFAF2011A028.WAV\n",
      ".\\adventureswithelephants_dataset\\wavs\\all\\efaf2011a028.wav\n",
      "x: \n",
      "[860 861 583 ...   3  -6 -11]\n",
      "sr_orig: 44100\n",
      "y: \n",
      "[22 25 27 ...  0  0  0]\n"
     ]
    },
    {
     "name": "stderr",
     "output_type": "stream",
     "text": [
      "\r",
      " 72%|█████████████████████████████████████████████████████████▌                      | 440/612 [04:24<01:43,  1.67it/s]"
     ]
    },
    {
     "name": "stdout",
     "output_type": "stream",
     "text": [
      "index: 440\n",
      "row: \n",
      "filename      EFAF2011A028.WAV\n",
      "start                 36455106\n",
      "duration                201850\n",
      "type                    rumble\n",
      "background                   1\n",
      "Name: 440, dtype: object\n",
      "source filename: EFAF2011A028.WAV\n",
      ".\\adventureswithelephants_dataset\\wavs\\all\\efaf2011a028.wav\n",
      "x: \n",
      "[860 861 583 ...   3  -6 -11]\n",
      "sr_orig: 44100\n",
      "y: \n",
      "[-47 -36 -19 ... -27 -29 -12]\n",
      "yb class: [ 59  98 112 ... -50 -50 -45]\n"
     ]
    },
    {
     "name": "stderr",
     "output_type": "stream",
     "text": [
      "\r",
      " 72%|█████████████████████████████████████████████████████████▋                      | 441/612 [04:24<01:42,  1.66it/s]"
     ]
    },
    {
     "name": "stdout",
     "output_type": "stream",
     "text": [
      "index: 441\n",
      "row: \n",
      "filename      EFAF2011A028.WAV\n",
      "start                 39115249\n",
      "duration                102073\n",
      "type                    rumble\n",
      "background                   1\n",
      "Name: 441, dtype: object\n",
      "source filename: EFAF2011A028.WAV\n",
      ".\\adventureswithelephants_dataset\\wavs\\all\\efaf2011a028.wav\n",
      "x: \n",
      "[860 861 583 ...   3  -6 -11]\n",
      "sr_orig: 44100\n",
      "y: \n",
      "[-245 -247 -248 ...   26   53   65]\n",
      "yb class: [  29   29   12 ... -229 -263 -245]\n"
     ]
    },
    {
     "name": "stderr",
     "output_type": "stream",
     "text": [
      "\r",
      " 72%|█████████████████████████████████████████████████████████▊                      | 442/612 [04:25<01:42,  1.66it/s]"
     ]
    },
    {
     "name": "stdout",
     "output_type": "stream",
     "text": [
      "index: 442\n",
      "row: \n",
      "filename      EFAF2011A028.WAV\n",
      "start                 39219435\n",
      "duration                 94325\n",
      "type                    rumble\n",
      "background                   0\n",
      "Name: 442, dtype: object\n",
      "source filename: EFAF2011A028.WAV\n",
      ".\\adventureswithelephants_dataset\\wavs\\all\\efaf2011a028.wav\n",
      "x: \n",
      "[860 861 583 ...   3  -6 -11]\n",
      "sr_orig: 44100\n",
      "y: \n",
      "[ 26  15  13 ... -93 -94 -81]\n"
     ]
    },
    {
     "name": "stderr",
     "output_type": "stream",
     "text": [
      "\r",
      " 72%|█████████████████████████████████████████████████████████▉                      | 443/612 [04:26<01:41,  1.66it/s]"
     ]
    },
    {
     "name": "stdout",
     "output_type": "stream",
     "text": [
      "index: 443\n",
      "row: \n",
      "filename      EFAF2011A028.WAV\n",
      "start                 39828103\n",
      "duration                233717\n",
      "type                    rumble\n",
      "background                   1\n",
      "Name: 443, dtype: object\n",
      "source filename: EFAF2011A028.WAV\n",
      ".\\adventureswithelephants_dataset\\wavs\\all\\efaf2011a028.wav\n",
      "x: \n",
      "[860 861 583 ...   3  -6 -11]\n",
      "sr_orig: 44100\n",
      "y: \n",
      "[268 279 256 ...  61  64  54]\n",
      "yb class: [ 38  38  46 ... 257 287 270]\n"
     ]
    },
    {
     "name": "stderr",
     "output_type": "stream",
     "text": [
      "\r",
      " 73%|██████████████████████████████████████████████████████████                      | 444/612 [04:27<01:41,  1.66it/s]"
     ]
    },
    {
     "name": "stdout",
     "output_type": "stream",
     "text": [
      "index: 444\n",
      "row: \n",
      "filename      EFAF2011A028.WAV\n",
      "start                 40609771\n",
      "duration                196430\n",
      "type                    rumble\n",
      "background                   1\n",
      "Name: 444, dtype: object\n",
      "source filename: EFAF2011A028.WAV\n",
      ".\\adventureswithelephants_dataset\\wavs\\all\\efaf2011a028.wav\n",
      "x: \n",
      "[860 861 583 ...   3  -6 -11]\n",
      "sr_orig: 44100\n",
      "y: \n",
      "[ -88  -84  -72 ... -102 -101  -72]\n",
      "yb class: [ -1   0   0 ... -79 -84 -90]\n"
     ]
    },
    {
     "name": "stderr",
     "output_type": "stream",
     "text": [
      "\r",
      " 73%|██████████████████████████████████████████████████████████▏                     | 445/612 [04:28<01:40,  1.66it/s]"
     ]
    },
    {
     "name": "stdout",
     "output_type": "stream",
     "text": [
      "index: 445\n",
      "row: \n",
      "filename      EFAF2011A028.WAV\n",
      "start                 41301555\n",
      "duration                239136\n",
      "type                    rumble\n",
      "background                   1\n",
      "Name: 445, dtype: object\n",
      "source filename: EFAF2011A028.WAV\n",
      ".\\adventureswithelephants_dataset\\wavs\\all\\efaf2011a028.wav\n",
      "x: \n",
      "[860 861 583 ...   3  -6 -11]\n",
      "sr_orig: 44100\n",
      "y: \n",
      "[ 0  0  0 ... 55 54 53]\n",
      "yb class: [0 0 0 ... 0 0 0]\n"
     ]
    },
    {
     "name": "stderr",
     "output_type": "stream",
     "text": [
      "\r",
      " 73%|██████████████████████████████████████████████████████████▎                     | 446/612 [04:29<01:40,  1.66it/s]"
     ]
    },
    {
     "name": "stdout",
     "output_type": "stream",
     "text": [
      "index: 446\n",
      "row: \n",
      "filename      EFAF2011A028.WAV\n",
      "start                 41775555\n",
      "duration                213514\n",
      "type                    rumble\n",
      "background                   0\n",
      "Name: 446, dtype: object\n",
      "source filename: EFAF2011A028.WAV\n",
      ".\\adventureswithelephants_dataset\\wavs\\all\\efaf2011a028.wav\n",
      "x: \n",
      "[860 861 583 ...   3  -6 -11]\n",
      "sr_orig: 44100\n",
      "y: \n",
      "[0 0 0 ... 0 0 0]\n"
     ]
    },
    {
     "name": "stderr",
     "output_type": "stream",
     "text": [
      "\r",
      " 73%|██████████████████████████████████████████████████████████▍                     | 447/612 [04:29<01:39,  1.66it/s]"
     ]
    },
    {
     "name": "stdout",
     "output_type": "stream",
     "text": [
      "index: 447\n",
      "row: \n",
      "filename      EFAF2011A028.WAV\n",
      "start                 41775555\n",
      "duration                162270\n",
      "type                    rumble\n",
      "background                   0\n",
      "Name: 447, dtype: object\n",
      "source filename: EFAF2011A028.WAV\n",
      ".\\adventureswithelephants_dataset\\wavs\\all\\efaf2011a028.wav\n",
      "x: \n",
      "[860 861 583 ...   3  -6 -11]\n",
      "sr_orig: 44100\n",
      "y: \n",
      "[0 0 0 ... 0 0 0]\n"
     ]
    },
    {
     "name": "stderr",
     "output_type": "stream",
     "text": [
      "\r",
      " 73%|██████████████████████████████████████████████████████████▌                     | 448/612 [04:30<01:38,  1.66it/s]"
     ]
    },
    {
     "name": "stdout",
     "output_type": "stream",
     "text": [
      "index: 448\n",
      "row: \n",
      "filename      EFAF2011A028.WAV\n",
      "start                 41826799\n",
      "duration                153728\n",
      "type                    rumble\n",
      "background                   0\n",
      "Name: 448, dtype: object\n",
      "source filename: EFAF2011A028.WAV\n",
      ".\\adventureswithelephants_dataset\\wavs\\all\\efaf2011a028.wav\n",
      "x: \n",
      "[860 861 583 ...   3  -6 -11]\n",
      "sr_orig: 44100\n",
      "y: \n",
      "[-56 -65 -53 ...   0   0   0]\n"
     ]
    },
    {
     "name": "stderr",
     "output_type": "stream",
     "text": [
      "\r",
      " 73%|██████████████████████████████████████████████████████████▋                     | 449/612 [04:30<01:38,  1.66it/s]"
     ]
    },
    {
     "name": "stdout",
     "output_type": "stream",
     "text": [
      "index: 449\n",
      "row: \n",
      "filename      EFAF2011A028.WAV\n",
      "start                 42010418\n",
      "duration                136648\n",
      "type                    rumble\n",
      "background                   0\n",
      "Name: 449, dtype: object\n",
      "source filename: EFAF2011A028.WAV\n",
      ".\\adventureswithelephants_dataset\\wavs\\all\\efaf2011a028.wav\n",
      "x: \n",
      "[860 861 583 ...   3  -6 -11]\n",
      "sr_orig: 44100\n",
      "y: \n",
      "[-159 -176 -143 ...    0    0    0]\n"
     ]
    },
    {
     "name": "stderr",
     "output_type": "stream",
     "text": [
      "\r",
      " 74%|██████████████████████████████████████████████████████████▊                     | 450/612 [04:31<01:37,  1.66it/s]"
     ]
    },
    {
     "name": "stdout",
     "output_type": "stream",
     "text": [
      "index: 450\n",
      "row: \n",
      "filename      EFAF2011A028.WAV\n",
      "start                 42659499\n",
      "duration                286108\n",
      "type                    rumble\n",
      "background                   1\n",
      "Name: 450, dtype: object\n",
      "source filename: EFAF2011A028.WAV\n",
      ".\\adventureswithelephants_dataset\\wavs\\all\\efaf2011a028.wav\n",
      "x: \n",
      "[860 861 583 ...   3  -6 -11]\n",
      "sr_orig: 44100\n",
      "y: \n",
      "[ 0  0  0 ... 62 68 64]\n",
      "yb class: [0 0 0 ... 0 0 0]\n"
     ]
    },
    {
     "name": "stderr",
     "output_type": "stream",
     "text": [
      "\r",
      " 74%|██████████████████████████████████████████████████████████▉                     | 451/612 [04:31<01:37,  1.66it/s]"
     ]
    },
    {
     "name": "stdout",
     "output_type": "stream",
     "text": [
      "index: 451\n",
      "row: \n",
      "filename      EFAF2011A028.WAV\n",
      "start                 42659499\n",
      "duration                187893\n",
      "type                    rumble\n",
      "background                   0\n",
      "Name: 451, dtype: object\n",
      "source filename: EFAF2011A028.WAV\n",
      ".\\adventureswithelephants_dataset\\wavs\\all\\efaf2011a028.wav\n",
      "x: \n",
      "[860 861 583 ...   3  -6 -11]\n",
      "sr_orig: 44100\n",
      "y: \n",
      "[ 0  0  0 ... 62 68 64]\n"
     ]
    },
    {
     "name": "stderr",
     "output_type": "stream",
     "text": [
      "\r",
      " 74%|███████████████████████████████████████████████████████████                     | 452/612 [04:32<01:36,  1.66it/s]"
     ]
    },
    {
     "name": "stdout",
     "output_type": "stream",
     "text": [
      "index: 452\n",
      "row: \n",
      "filename      EFAF2011A028.WAV\n",
      "start                 42744908\n",
      "duration                204972\n",
      "type                    rumble\n",
      "background                   0\n",
      "Name: 452, dtype: object\n",
      "source filename: EFAF2011A028.WAV\n",
      ".\\adventureswithelephants_dataset\\wavs\\all\\efaf2011a028.wav\n",
      "x: \n",
      "[860 861 583 ...   3  -6 -11]\n",
      "sr_orig: 44100\n",
      "y: \n",
      "[ 64  74  68 ... -33 -33 -22]\n"
     ]
    },
    {
     "name": "stderr",
     "output_type": "stream",
     "text": [
      "\r",
      " 74%|███████████████████████████████████████████████████████████▏                    | 453/612 [04:32<01:35,  1.66it/s]"
     ]
    },
    {
     "name": "stdout",
     "output_type": "stream",
     "text": [
      "index: 453\n",
      "row: \n",
      "filename      EFAF2011A028.WAV\n",
      "start                 43718530\n",
      "duration                230595\n",
      "type                    rumble\n",
      "background                   1\n",
      "Name: 453, dtype: object\n",
      "source filename: EFAF2011A028.WAV\n",
      ".\\adventureswithelephants_dataset\\wavs\\all\\efaf2011a028.wav\n",
      "x: \n",
      "[860 861 583 ...   3  -6 -11]\n",
      "sr_orig: 44100\n",
      "y: \n",
      "[ 0  0  0 ... 70 75 61]\n",
      "yb class: [0 0 0 ... 0 0 0]\n"
     ]
    },
    {
     "name": "stderr",
     "output_type": "stream",
     "text": [
      "\r",
      " 74%|███████████████████████████████████████████████████████████▎                    | 454/612 [04:34<01:35,  1.66it/s]"
     ]
    },
    {
     "name": "stdout",
     "output_type": "stream",
     "text": [
      "index: 454\n",
      "row: \n",
      "filename      EFAF2011A028.WAV\n",
      "start                 44513640\n",
      "duration                230145\n",
      "type                    rumble\n",
      "background                   1\n",
      "Name: 454, dtype: object\n",
      "source filename: EFAF2011A028.WAV\n",
      ".\\adventureswithelephants_dataset\\wavs\\all\\efaf2011a028.wav\n",
      "x: \n",
      "[860 861 583 ...   3  -6 -11]\n",
      "sr_orig: 44100\n",
      "y: \n",
      "[ 0  0  0 ...  0 -1  0]\n",
      "yb class: [ 0 -5 -8 ...  0  0  0]\n"
     ]
    },
    {
     "name": "stderr",
     "output_type": "stream",
     "text": [
      "\r",
      " 74%|███████████████████████████████████████████████████████████▍                    | 455/612 [04:34<01:34,  1.65it/s]"
     ]
    },
    {
     "name": "stdout",
     "output_type": "stream",
     "text": [
      "index: 455\n",
      "row: \n",
      "filename      EFAF2011A028.WAV\n",
      "start                 45085017\n",
      "duration                281839\n",
      "type                    rumble\n",
      "background                   0\n",
      "Name: 455, dtype: object\n",
      "source filename: EFAF2011A028.WAV\n",
      ".\\adventureswithelephants_dataset\\wavs\\all\\efaf2011a028.wav\n",
      "x: \n",
      "[860 861 583 ...   3  -6 -11]\n",
      "sr_orig: 44100\n",
      "y: \n",
      "[-12  -8 -10 ...   0   0   0]\n"
     ]
    },
    {
     "name": "stderr",
     "output_type": "stream",
     "text": [
      "\r",
      " 75%|███████████████████████████████████████████████████████████▌                    | 456/612 [04:35<01:34,  1.66it/s]"
     ]
    },
    {
     "name": "stdout",
     "output_type": "stream",
     "text": [
      "index: 456\n",
      "row: \n",
      "filename      EFAF2011A028.WAV\n",
      "start                 47956324\n",
      "duration                194305\n",
      "type                    rumble\n",
      "background                   1\n",
      "Name: 456, dtype: object\n",
      "source filename: EFAF2011A028.WAV\n",
      ".\\adventureswithelephants_dataset\\wavs\\all\\efaf2011a028.wav\n",
      "x: \n",
      "[860 861 583 ...   3  -6 -11]\n",
      "sr_orig: 44100\n",
      "y: \n",
      "[  0   0   0 ... 104 109 101]\n",
      "yb class: [0 0 0 ... 0 0 0]\n"
     ]
    },
    {
     "name": "stderr",
     "output_type": "stream",
     "text": [
      "\r",
      " 75%|███████████████████████████████████████████████████████████▋                    | 457/612 [04:36<01:33,  1.65it/s]"
     ]
    },
    {
     "name": "stdout",
     "output_type": "stream",
     "text": [
      "index: 457\n",
      "row: \n",
      "filename      EFAF2011A028.WAV\n",
      "start                 48090154\n",
      "duration                137800\n",
      "type                    rumble\n",
      "background                   0\n",
      "Name: 457, dtype: object\n",
      "source filename: EFAF2011A028.WAV\n",
      ".\\adventureswithelephants_dataset\\wavs\\all\\efaf2011a028.wav\n",
      "x: \n",
      "[860 861 583 ...   3  -6 -11]\n",
      "sr_orig: 44100\n",
      "y: \n",
      "[  0   0   0 ... 478 520 500]\n"
     ]
    },
    {
     "name": "stderr",
     "output_type": "stream",
     "text": [
      "\r",
      " 75%|███████████████████████████████████████████████████████████▊                    | 458/612 [04:37<01:33,  1.65it/s]"
     ]
    },
    {
     "name": "stdout",
     "output_type": "stream",
     "text": [
      "index: 458\n",
      "row: \n",
      "filename      EFAF2011A028.WAV\n",
      "start                 48210666\n",
      "duration                194794\n",
      "type                    rumble\n",
      "background                   0\n",
      "Name: 458, dtype: object\n",
      "source filename: EFAF2011A028.WAV\n",
      ".\\adventureswithelephants_dataset\\wavs\\all\\efaf2011a028.wav\n",
      "x: \n",
      "[860 861 583 ...   3  -6 -11]\n",
      "sr_orig: 44100\n",
      "y: \n",
      "[-168 -162 -144 ...    0    0    0]\n"
     ]
    },
    {
     "name": "stderr",
     "output_type": "stream",
     "text": [
      "\r",
      " 75%|████████████████████████████████████████████████████████████                    | 459/612 [04:37<01:32,  1.65it/s]"
     ]
    },
    {
     "name": "stdout",
     "output_type": "stream",
     "text": [
      "index: 459\n",
      "row: \n",
      "filename      EFAF2011A028.WAV\n",
      "start                 48210666\n",
      "duration                148287\n",
      "type                    rumble\n",
      "background                   0\n",
      "Name: 459, dtype: object\n",
      "source filename: EFAF2011A028.WAV\n",
      ".\\adventureswithelephants_dataset\\wavs\\all\\efaf2011a028.wav\n",
      "x: \n",
      "[860 861 583 ...   3  -6 -11]\n",
      "sr_orig: 44100\n",
      "y: \n",
      "[-168 -162 -144 ...    0    0    0]\n"
     ]
    },
    {
     "name": "stderr",
     "output_type": "stream",
     "text": [
      "\r",
      " 75%|████████████████████████████████████████████████████████████▏                   | 460/612 [04:38<01:31,  1.65it/s]"
     ]
    },
    {
     "name": "stdout",
     "output_type": "stream",
     "text": [
      "index: 460\n",
      "row: \n",
      "filename      EFAF2011A028.WAV\n",
      "start                 48432423\n",
      "duration                211645\n",
      "type                    rumble\n",
      "background                   0\n",
      "Name: 460, dtype: object\n",
      "source filename: EFAF2011A028.WAV\n",
      ".\\adventureswithelephants_dataset\\wavs\\all\\efaf2011a028.wav\n",
      "x: \n",
      "[860 861 583 ...   3  -6 -11]\n",
      "sr_orig: 44100\n",
      "y: \n",
      "[151 153 136 ... -68 -78 -69]\n"
     ]
    },
    {
     "name": "stderr",
     "output_type": "stream",
     "text": [
      "\r",
      " 75%|████████████████████████████████████████████████████████████▎                   | 461/612 [04:38<01:31,  1.65it/s]"
     ]
    },
    {
     "name": "stdout",
     "output_type": "stream",
     "text": [
      "index: 461\n",
      "row: \n",
      "filename      EFAF2011A028.WAV\n",
      "start                 48408155\n",
      "duration                401050\n",
      "type                    rumble\n",
      "background                   0\n",
      "Name: 461, dtype: object\n",
      "source filename: EFAF2011A028.WAV\n",
      ".\\adventureswithelephants_dataset\\wavs\\all\\efaf2011a028.wav\n",
      "x: \n",
      "[860 861 583 ...   3  -6 -11]\n",
      "sr_orig: 44100\n",
      "y: \n",
      "[ 0  0  0 ... 84 94 85]\n"
     ]
    },
    {
     "name": "stderr",
     "output_type": "stream",
     "text": [
      "\r",
      " 75%|████████████████████████████████████████████████████████████▍                   | 462/612 [04:39<01:30,  1.66it/s]"
     ]
    },
    {
     "name": "stdout",
     "output_type": "stream",
     "text": [
      "index: 462\n",
      "row: \n",
      "filename      EFAF2011A028.WAV\n",
      "start                 48751910\n",
      "duration                241302\n",
      "type                    rumble\n",
      "background                   0\n",
      "Name: 462, dtype: object\n",
      "source filename: EFAF2011A028.WAV\n",
      ".\\adventureswithelephants_dataset\\wavs\\all\\efaf2011a028.wav\n",
      "x: \n",
      "[860 861 583 ...   3  -6 -11]\n",
      "sr_orig: 44100\n",
      "y: \n",
      "[-29 -34 -40 ...   0   0   0]\n"
     ]
    },
    {
     "name": "stderr",
     "output_type": "stream",
     "text": [
      "\r",
      " 76%|████████████████████████████████████████████████████████████▌                   | 463/612 [04:39<01:29,  1.66it/s]"
     ]
    },
    {
     "name": "stdout",
     "output_type": "stream",
     "text": [
      "index: 463\n",
      "row: \n",
      "filename      EFAF2011A028.WAV\n",
      "start                 49708470\n",
      "duration                282668\n",
      "type                    rumble\n",
      "background                   1\n",
      "Name: 463, dtype: object\n",
      "source filename: EFAF2011A028.WAV\n",
      ".\\adventureswithelephants_dataset\\wavs\\all\\efaf2011a028.wav\n",
      "x: \n",
      "[860 861 583 ...   3  -6 -11]\n",
      "sr_orig: 44100\n",
      "y: \n",
      "[ 0  0  0 ... 13  9  6]\n",
      "yb class: [0 0 0 ... 0 0 0]\n"
     ]
    },
    {
     "name": "stderr",
     "output_type": "stream",
     "text": [
      "\r",
      " 76%|████████████████████████████████████████████████████████████▋                   | 464/612 [04:40<01:29,  1.65it/s]"
     ]
    },
    {
     "name": "stdout",
     "output_type": "stream",
     "text": [
      "index: 464\n",
      "row: \n",
      "filename      EFAF2011A028.WAV\n",
      "start                 50034153\n",
      "duration                337978\n",
      "type                    rumble\n",
      "background                   0\n",
      "Name: 464, dtype: object\n",
      "source filename: EFAF2011A028.WAV\n",
      ".\\adventureswithelephants_dataset\\wavs\\all\\efaf2011a028.wav\n",
      "x: \n",
      "[860 861 583 ...   3  -6 -11]\n",
      "sr_orig: 44100\n",
      "y: \n",
      "[-61 -56 -56 ...  -2  -1   0]\n"
     ]
    },
    {
     "name": "stderr",
     "output_type": "stream",
     "text": [
      "\r",
      " 76%|████████████████████████████████████████████████████████████▊                   | 465/612 [04:41<01:28,  1.65it/s]"
     ]
    },
    {
     "name": "stdout",
     "output_type": "stream",
     "text": [
      "index: 465\n",
      "row: \n",
      "filename      EFAF2011A028.WAV\n",
      "start                 51644151\n",
      "duration                221219\n",
      "type                    rumble\n",
      "background                   1\n",
      "Name: 465, dtype: object\n",
      "source filename: EFAF2011A028.WAV\n",
      ".\\adventureswithelephants_dataset\\wavs\\all\\efaf2011a028.wav\n",
      "x: \n",
      "[860 861 583 ...   3  -6 -11]\n",
      "sr_orig: 44100\n",
      "y: \n",
      "[0 0 0 ... 0 0 0]\n",
      "yb class: [0 0 0 ... 0 0 0]\n"
     ]
    },
    {
     "name": "stderr",
     "output_type": "stream",
     "text": [
      "\r",
      " 76%|████████████████████████████████████████████████████████████▉                   | 466/612 [04:42<01:28,  1.65it/s]"
     ]
    },
    {
     "name": "stdout",
     "output_type": "stream",
     "text": [
      "index: 466\n",
      "row: \n",
      "filename      EFAF2011A028.WAV\n",
      "start                 53266436\n",
      "duration                516182\n",
      "type                    rumble\n",
      "background                   1\n",
      "Name: 466, dtype: object\n",
      "source filename: EFAF2011A028.WAV\n",
      ".\\adventureswithelephants_dataset\\wavs\\all\\efaf2011a028.wav\n",
      "x: \n",
      "[860 861 583 ...   3  -6 -11]\n",
      "sr_orig: 44100\n",
      "y: \n",
      "[  0   0   0 ... -50 -66 -62]\n",
      "yb class: [0 0 0 ... 0 0 0]\n"
     ]
    },
    {
     "name": "stderr",
     "output_type": "stream",
     "text": [
      "\r",
      " 76%|█████████████████████████████████████████████████████████████                   | 467/612 [04:43<01:27,  1.65it/s]"
     ]
    },
    {
     "name": "stdout",
     "output_type": "stream",
     "text": [
      "index: 467\n",
      "row: \n",
      "filename      EFAF2011A028.WAV\n",
      "start                  9557246\n",
      "duration                 69982\n",
      "type                    rumble\n",
      "background                   0\n",
      "Name: 467, dtype: object\n",
      "source filename: EFAF2011A028.WAV\n",
      ".\\adventureswithelephants_dataset\\wavs\\all\\efaf2011a028.wav\n",
      "x: \n",
      "[860 861 583 ...   3  -6 -11]\n",
      "sr_orig: 44100\n",
      "y: \n",
      "[ 123  128  122 ... -341 -386 -379]\n"
     ]
    },
    {
     "name": "stderr",
     "output_type": "stream",
     "text": [
      "\r",
      " 76%|█████████████████████████████████████████████████████████████▏                  | 468/612 [04:43<01:27,  1.65it/s]"
     ]
    },
    {
     "name": "stdout",
     "output_type": "stream",
     "text": [
      "index: 468\n",
      "row: \n",
      "filename      EFAF2011A028.WAV\n",
      "start                 20958577\n",
      "duration                142951\n",
      "type                    rumble\n",
      "background                   1\n",
      "Name: 468, dtype: object\n",
      "source filename: EFAF2011A028.WAV\n",
      ".\\adventureswithelephants_dataset\\wavs\\all\\efaf2011a028.wav\n",
      "x: \n",
      "[860 861 583 ...   3  -6 -11]\n",
      "sr_orig: 44100\n",
      "y: \n",
      "[-36 -37 -27 ... -57 -61 -55]\n",
      "yb class: [-73 -75 -69 ... -44 -41 -36]\n"
     ]
    },
    {
     "name": "stderr",
     "output_type": "stream",
     "text": [
      "\r",
      " 77%|█████████████████████████████████████████████████████████████▎                  | 469/612 [04:44<01:26,  1.65it/s]"
     ]
    },
    {
     "name": "stdout",
     "output_type": "stream",
     "text": [
      "index: 469\n",
      "row: \n",
      "filename      EFAF2011A028.WAV\n",
      "start                 37266259\n",
      "duration                232795\n",
      "type                    rumble\n",
      "background                   1\n",
      "Name: 469, dtype: object\n",
      "source filename: EFAF2011A028.WAV\n",
      ".\\adventureswithelephants_dataset\\wavs\\all\\efaf2011a028.wav\n",
      "x: \n",
      "[860 861 583 ...   3  -6 -11]\n",
      "sr_orig: 44100\n",
      "y: \n",
      "[ 0  0  0 ... 21 25 16]\n",
      "yb class: [-65 -76 -71 ...   0   0   0]\n"
     ]
    },
    {
     "name": "stderr",
     "output_type": "stream",
     "text": [
      "\r",
      " 77%|█████████████████████████████████████████████████████████████▍                  | 470/612 [04:45<01:26,  1.65it/s]"
     ]
    },
    {
     "name": "stdout",
     "output_type": "stream",
     "text": [
      "index: 470\n",
      "row: \n",
      "filename      EFAF2011A028.WAV\n",
      "start                 44427332\n",
      "duration                 44594\n",
      "type                    rumble\n",
      "background                   1\n",
      "Name: 470, dtype: object\n",
      "source filename: EFAF2011A028.WAV\n",
      ".\\adventureswithelephants_dataset\\wavs\\all\\efaf2011a028.wav\n",
      "x: \n",
      "[860 861 583 ...   3  -6 -11]\n",
      "sr_orig: 44100\n",
      "y: \n",
      "[-23 -34 -29 ...   0   1   0]\n",
      "yb class: [  0   0   0 ... -16 -17 -20]\n"
     ]
    },
    {
     "name": "stderr",
     "output_type": "stream",
     "text": [
      "\r",
      " 77%|█████████████████████████████████████████████████████████████▌                  | 471/612 [04:46<01:25,  1.64it/s]"
     ]
    },
    {
     "name": "stdout",
     "output_type": "stream",
     "text": [
      "index: 471\n",
      "row: \n",
      "filename      EFAF2011A028.WAV\n",
      "start                 47359651\n",
      "duration                154160\n",
      "type                    rumble\n",
      "background                   1\n",
      "Name: 471, dtype: object\n",
      "source filename: EFAF2011A028.WAV\n",
      ".\\adventureswithelephants_dataset\\wavs\\all\\efaf2011a028.wav\n",
      "x: \n",
      "[860 861 583 ...   3  -6 -11]\n",
      "sr_orig: 44100\n",
      "y: \n",
      "[ 0  0  0 ... 18 25 21]\n",
      "yb class: [-26 -20  -9 ...   0   1   0]\n"
     ]
    },
    {
     "name": "stderr",
     "output_type": "stream",
     "text": [
      "\r",
      " 77%|█████████████████████████████████████████████████████████████▋                  | 472/612 [04:47<01:25,  1.64it/s]"
     ]
    },
    {
     "name": "stdout",
     "output_type": "stream",
     "text": [
      "index: 472\n",
      "row: \n",
      "filename      EFAF2011A029.WAV\n",
      "start                 12856345\n",
      "duration                 82943\n",
      "type                    rumble\n",
      "background                   0\n",
      "Name: 472, dtype: object\n",
      "source filename: EFAF2011A029.WAV\n",
      ".\\adventureswithelephants_dataset\\wavs\\all\\efaf2011a029.wav\n",
      "x: \n",
      "[ 17  18  16 ... -57 -60 -57]\n",
      "sr_orig: 44100\n",
      "y: \n",
      "[0 0 0 ... 0 0 0]\n"
     ]
    },
    {
     "name": "stderr",
     "output_type": "stream",
     "text": [
      "\r",
      " 77%|█████████████████████████████████████████████████████████████▊                  | 473/612 [04:47<01:24,  1.64it/s]"
     ]
    },
    {
     "name": "stdout",
     "output_type": "stream",
     "text": [
      "index: 473\n",
      "row: \n",
      "filename      EFAF2011A029.WAV\n",
      "start                 12939288\n",
      "duration                100402\n",
      "type                    rumble\n",
      "background                   0\n",
      "Name: 473, dtype: object\n",
      "source filename: EFAF2011A029.WAV\n",
      ".\\adventureswithelephants_dataset\\wavs\\all\\efaf2011a029.wav\n",
      "x: \n",
      "[ 17  18  16 ... -57 -60 -57]\n",
      "sr_orig: 44100\n",
      "y: \n",
      "[0 0 0 ... 0 0 0]\n"
     ]
    },
    {
     "name": "stderr",
     "output_type": "stream",
     "text": [
      "\r",
      " 77%|█████████████████████████████████████████████████████████████▉                  | 474/612 [04:48<01:23,  1.65it/s]"
     ]
    },
    {
     "name": "stdout",
     "output_type": "stream",
     "text": [
      "index: 474\n",
      "row: \n",
      "filename      EFAF2011A029.WAV\n",
      "start                 13030963\n",
      "duration                109134\n",
      "type                    rumble\n",
      "background                   0\n",
      "Name: 474, dtype: object\n",
      "source filename: EFAF2011A029.WAV\n",
      ".\\adventureswithelephants_dataset\\wavs\\all\\efaf2011a029.wav\n",
      "x: \n",
      "[ 17  18  16 ... -57 -60 -57]\n",
      "sr_orig: 44100\n",
      "y: \n",
      "[5 0 0 ... 0 3 6]\n"
     ]
    },
    {
     "name": "stderr",
     "output_type": "stream",
     "text": [
      "\r",
      " 78%|██████████████████████████████████████████████████████████████                  | 475/612 [04:48<01:23,  1.65it/s]"
     ]
    },
    {
     "name": "stdout",
     "output_type": "stream",
     "text": [
      "index: 475\n",
      "row: \n",
      "filename      EFAF2011A029.WAV\n",
      "start                 13559171\n",
      "duration               1178656\n",
      "type                    rumble\n",
      "background                   0\n",
      "Name: 475, dtype: object\n",
      "source filename: EFAF2011A029.WAV\n",
      ".\\adventureswithelephants_dataset\\wavs\\all\\efaf2011a029.wav\n",
      "x: \n",
      "[ 17  18  16 ... -57 -60 -57]\n",
      "sr_orig: 44100\n",
      "y: \n",
      "[ 8 11 19 ... 83 85 72]\n"
     ]
    },
    {
     "name": "stderr",
     "output_type": "stream",
     "text": [
      "\r",
      " 78%|██████████████████████████████████████████████████████████████▏                 | 476/612 [04:48<01:22,  1.65it/s]"
     ]
    },
    {
     "name": "stdout",
     "output_type": "stream",
     "text": [
      "index: 476\n",
      "row: \n",
      "filename      EFAF2011A029.WAV\n",
      "start                 14008806\n",
      "duration                170252\n",
      "type                    rumble\n",
      "background                   0\n",
      "Name: 476, dtype: object\n",
      "source filename: EFAF2011A029.WAV\n",
      ".\\adventureswithelephants_dataset\\wavs\\all\\efaf2011a029.wav\n",
      "x: \n",
      "[ 17  18  16 ... -57 -60 -57]\n",
      "sr_orig: 44100\n",
      "y: \n",
      "[-125 -140 -128 ...    8    5   15]\n"
     ]
    },
    {
     "name": "stderr",
     "output_type": "stream",
     "text": [
      "\r",
      " 78%|██████████████████████████████████████████████████████████████▎                 | 477/612 [04:49<01:21,  1.65it/s]"
     ]
    },
    {
     "name": "stdout",
     "output_type": "stream",
     "text": [
      "index: 477\n",
      "row: \n",
      "filename      EFAF2011A029.WAV\n",
      "start                 14139769\n",
      "duration                275017\n",
      "type                    rumble\n",
      "background                   0\n",
      "Name: 477, dtype: object\n",
      "source filename: EFAF2011A029.WAV\n",
      ".\\adventureswithelephants_dataset\\wavs\\all\\efaf2011a029.wav\n",
      "x: \n",
      "[ 17  18  16 ... -57 -60 -57]\n",
      "sr_orig: 44100\n",
      "y: \n",
      "[-30 -37 -29 ... -20 -22 -21]\n"
     ]
    },
    {
     "name": "stderr",
     "output_type": "stream",
     "text": [
      "\r",
      " 78%|██████████████████████████████████████████████████████████████▍                 | 478/612 [04:49<01:21,  1.65it/s]"
     ]
    },
    {
     "name": "stdout",
     "output_type": "stream",
     "text": [
      "index: 478\n",
      "row: \n",
      "filename      EFAF2011A029.WAV\n",
      "start                 14454074\n",
      "duration                283753\n",
      "type                    rumble\n",
      "background                   0\n",
      "Name: 478, dtype: object\n",
      "source filename: EFAF2011A029.WAV\n",
      ".\\adventureswithelephants_dataset\\wavs\\all\\efaf2011a029.wav\n",
      "x: \n",
      "[ 17  18  16 ... -57 -60 -57]\n",
      "sr_orig: 44100\n",
      "y: \n",
      "[  0   0   0 ... -54 -58 -51]\n"
     ]
    },
    {
     "name": "stderr",
     "output_type": "stream",
     "text": [
      "\r",
      " 78%|██████████████████████████████████████████████████████████████▌                 | 479/612 [04:50<01:20,  1.65it/s]"
     ]
    },
    {
     "name": "stdout",
     "output_type": "stream",
     "text": [
      "index: 479\n",
      "row: \n",
      "filename      EFAF2011A029.WAV\n",
      "start                 14868786\n",
      "duration                205176\n",
      "type                    rumble\n",
      "background                   0\n",
      "Name: 479, dtype: object\n",
      "source filename: EFAF2011A029.WAV\n",
      ".\\adventureswithelephants_dataset\\wavs\\all\\efaf2011a029.wav\n",
      "x: \n",
      "[ 17  18  16 ... -57 -60 -57]\n",
      "sr_orig: 44100\n",
      "y: \n",
      "[  0   0   0 ... -58 -71 -69]\n"
     ]
    },
    {
     "name": "stderr",
     "output_type": "stream",
     "text": [
      "\r",
      " 78%|██████████████████████████████████████████████████████████████▋                 | 480/612 [04:50<01:19,  1.65it/s]"
     ]
    },
    {
     "name": "stdout",
     "output_type": "stream",
     "text": [
      "index: 480\n",
      "row: \n",
      "filename      EFAF2011A029.WAV\n",
      "start                 15248576\n",
      "duration                235732\n",
      "type                    rumble\n",
      "background                   0\n",
      "Name: 480, dtype: object\n",
      "source filename: EFAF2011A029.WAV\n",
      ".\\adventureswithelephants_dataset\\wavs\\all\\efaf2011a029.wav\n",
      "x: \n",
      "[ 17  18  16 ... -57 -60 -57]\n",
      "sr_orig: 44100\n",
      "y: \n",
      "[  0   0   0 ... -12 -22 -15]\n"
     ]
    },
    {
     "name": "stderr",
     "output_type": "stream",
     "text": [
      "\r",
      " 79%|██████████████████████████████████████████████████████████████▉                 | 481/612 [04:50<01:19,  1.65it/s]"
     ]
    },
    {
     "name": "stdout",
     "output_type": "stream",
     "text": [
      "index: 481\n",
      "row: \n",
      "filename      EFAF2011A029.WAV\n",
      "start                 16514188\n",
      "duration                163673\n",
      "type                    rumble\n",
      "background                   1\n",
      "Name: 481, dtype: object\n",
      "source filename: EFAF2011A029.WAV\n",
      ".\\adventureswithelephants_dataset\\wavs\\all\\efaf2011a029.wav\n",
      "x: \n",
      "[ 17  18  16 ... -57 -60 -57]\n",
      "sr_orig: 44100\n",
      "y: \n",
      "[-13 -10 -11 ...   0   0   0]\n",
      "yb class: [ -7  -6  -4 ... -14 -19 -10]\n"
     ]
    },
    {
     "name": "stderr",
     "output_type": "stream",
     "text": [
      "\r",
      " 79%|███████████████████████████████████████████████████████████████                 | 482/612 [04:51<01:18,  1.65it/s]"
     ]
    },
    {
     "name": "stdout",
     "output_type": "stream",
     "text": [
      "index: 482\n",
      "row: \n",
      "filename      EFAF2011A029.WAV\n",
      "start                 17058775\n",
      "duration                124984\n",
      "type                    rumble\n",
      "background                   0\n",
      "Name: 482, dtype: object\n",
      "source filename: EFAF2011A029.WAV\n",
      ".\\adventureswithelephants_dataset\\wavs\\all\\efaf2011a029.wav\n",
      "x: \n",
      "[ 17  18  16 ... -57 -60 -57]\n",
      "sr_orig: 44100\n",
      "y: \n",
      "[0 0 0 ... 0 1 0]\n"
     ]
    },
    {
     "name": "stderr",
     "output_type": "stream",
     "text": [
      "\r",
      " 79%|███████████████████████████████████████████████████████████████▏                | 483/612 [04:52<01:18,  1.65it/s]"
     ]
    },
    {
     "name": "stdout",
     "output_type": "stream",
     "text": [
      "index: 483\n",
      "row: \n",
      "filename      EFAF2011A029.WAV\n",
      "start                 17169342\n",
      "duration                209537\n",
      "type                    rumble\n",
      "background                   0\n",
      "Name: 483, dtype: object\n",
      "source filename: EFAF2011A029.WAV\n",
      ".\\adventureswithelephants_dataset\\wavs\\all\\efaf2011a029.wav\n",
      "x: \n",
      "[ 17  18  16 ... -57 -60 -57]\n",
      "sr_orig: 44100\n",
      "y: \n",
      "[ 0  0  0 ... -2 -1  0]\n"
     ]
    },
    {
     "name": "stderr",
     "output_type": "stream",
     "text": [
      "\r",
      " 79%|███████████████████████████████████████████████████████████████▎                | 484/612 [04:52<01:17,  1.65it/s]"
     ]
    },
    {
     "name": "stdout",
     "output_type": "stream",
     "text": [
      "index: 484\n",
      "row: \n",
      "filename      EFAF2011A030.WAV\n",
      "start                   513249\n",
      "duration                142222\n",
      "type                    rumble\n",
      "background                   0\n",
      "Name: 484, dtype: object\n",
      "source filename: EFAF2011A030.WAV\n",
      ".\\adventureswithelephants_dataset\\wavs\\all\\efaf2011a030.wav\n",
      "x: \n",
      "[151 151 150 ... 218 222 235]\n",
      "sr_orig: 44100\n",
      "y: \n",
      "[-21 -20 -18 ...  83  94  92]\n"
     ]
    },
    {
     "name": "stderr",
     "output_type": "stream",
     "text": [
      "\r",
      " 79%|███████████████████████████████████████████████████████████████▍                | 485/612 [04:53<01:16,  1.65it/s]"
     ]
    },
    {
     "name": "stdout",
     "output_type": "stream",
     "text": [
      "index: 485\n",
      "row: \n",
      "filename      EFAF2011A030.WAV\n",
      "start                  1150167\n",
      "duration                173146\n",
      "type                    rumble\n",
      "background                   1\n",
      "Name: 485, dtype: object\n",
      "source filename: EFAF2011A030.WAV\n",
      ".\\adventureswithelephants_dataset\\wavs\\all\\efaf2011a030.wav\n",
      "x: \n",
      "[151 151 150 ... 218 222 235]\n",
      "sr_orig: 44100\n",
      "y: \n",
      "[   0    0    0 ... -112 -122 -116]\n",
      "yb class: [-102 -107  -95 ...    0   -1    0]\n"
     ]
    },
    {
     "name": "stderr",
     "output_type": "stream",
     "text": [
      "\r",
      " 79%|███████████████████████████████████████████████████████████████▌                | 486/612 [04:53<01:16,  1.65it/s]"
     ]
    },
    {
     "name": "stdout",
     "output_type": "stream",
     "text": [
      "index: 486\n",
      "row: \n",
      "filename      EFAF2011A030.WAV\n",
      "start                  1991150\n",
      "duration                166962\n",
      "type                    rumble\n",
      "background                   1\n",
      "Name: 486, dtype: object\n",
      "source filename: EFAF2011A030.WAV\n",
      ".\\adventureswithelephants_dataset\\wavs\\all\\efaf2011a030.wav\n",
      "x: \n",
      "[151 151 150 ... 218 222 235]\n",
      "sr_orig: 44100\n",
      "y: \n",
      "[ -4 -18 -20 ...  60  61  59]\n",
      "yb class: [ 96 107 102 ... -26 -15  -5]\n"
     ]
    },
    {
     "name": "stderr",
     "output_type": "stream",
     "text": [
      "\r",
      " 80%|███████████████████████████████████████████████████████████████▋                | 487/612 [04:54<01:15,  1.65it/s]"
     ]
    },
    {
     "name": "stdout",
     "output_type": "stream",
     "text": [
      "index: 487\n",
      "row: \n",
      "filename      EFAF2011A030.WAV\n",
      "start                  2420935\n",
      "duration                198159\n",
      "type                    rumble\n",
      "background                   0\n",
      "Name: 487, dtype: object\n",
      "source filename: EFAF2011A030.WAV\n",
      ".\\adventureswithelephants_dataset\\wavs\\all\\efaf2011a030.wav\n",
      "x: \n",
      "[151 151 150 ... 218 222 235]\n",
      "sr_orig: 44100\n",
      "y: \n",
      "[69 69 52 ... 57 54 53]\n"
     ]
    },
    {
     "name": "stderr",
     "output_type": "stream",
     "text": [
      "\r",
      " 80%|███████████████████████████████████████████████████████████████▊                | 488/612 [04:55<01:15,  1.65it/s]"
     ]
    },
    {
     "name": "stdout",
     "output_type": "stream",
     "text": [
      "index: 488\n",
      "row: \n",
      "filename      EFAF2011A030.WAV\n",
      "start                  4136897\n",
      "duration                142227\n",
      "type                    rumble\n",
      "background                   1\n",
      "Name: 488, dtype: object\n",
      "source filename: EFAF2011A030.WAV\n",
      ".\\adventureswithelephants_dataset\\wavs\\all\\efaf2011a030.wav\n",
      "x: \n",
      "[151 151 150 ... 218 222 235]\n",
      "sr_orig: 44100\n",
      "y: \n",
      "[0 1 0 ... 0 0 0]\n",
      "yb class: [-29 -31 -20 ...   2   1   0]\n"
     ]
    },
    {
     "name": "stderr",
     "output_type": "stream",
     "text": [
      "\r",
      " 80%|███████████████████████████████████████████████████████████████▉                | 489/612 [04:56<01:14,  1.65it/s]"
     ]
    },
    {
     "name": "stdout",
     "output_type": "stream",
     "text": [
      "index: 489\n",
      "row: \n",
      "filename      EFAF2011A030.WAV\n",
      "start                  4940778\n",
      "duration                142227\n",
      "type                    rumble\n",
      "background                   1\n",
      "Name: 489, dtype: object\n",
      "source filename: EFAF2011A030.WAV\n",
      ".\\adventureswithelephants_dataset\\wavs\\all\\efaf2011a030.wav\n",
      "x: \n",
      "[151 151 150 ... 218 222 235]\n",
      "sr_orig: 44100\n",
      "y: \n",
      "[0 3 0 ... 0 0 0]\n",
      "yb class: [11  9  5 ...  3  1  0]\n"
     ]
    },
    {
     "name": "stderr",
     "output_type": "stream",
     "text": [
      "\r",
      " 80%|████████████████████████████████████████████████████████████████                | 490/612 [04:57<01:13,  1.65it/s]"
     ]
    },
    {
     "name": "stdout",
     "output_type": "stream",
     "text": [
      "index: 490\n",
      "row: \n",
      "filename      EFAF2011A030.WAV\n",
      "start                  5893069\n",
      "duration                142223\n",
      "type                    rumble\n",
      "background                   1\n",
      "Name: 490, dtype: object\n",
      "source filename: EFAF2011A030.WAV\n",
      ".\\adventureswithelephants_dataset\\wavs\\all\\efaf2011a030.wav\n",
      "x: \n",
      "[151 151 150 ... 218 222 235]\n",
      "sr_orig: 44100\n",
      "y: \n",
      "[  1   1   0 ... -12  -4  -6]\n",
      "yb class: [0 0 0 ... 0 1 4]\n"
     ]
    },
    {
     "name": "stderr",
     "output_type": "stream",
     "text": [
      "\r",
      " 80%|████████████████████████████████████████████████████████████████▏               | 491/612 [04:58<01:13,  1.65it/s]"
     ]
    },
    {
     "name": "stdout",
     "output_type": "stream",
     "text": [
      "index: 491\n",
      "row: \n",
      "filename      EFAF2011A030.WAV\n",
      "start                  7129810\n",
      "duration                166958\n",
      "type                    rumble\n",
      "background                   1\n",
      "Name: 491, dtype: object\n",
      "source filename: EFAF2011A030.WAV\n",
      ".\\adventureswithelephants_dataset\\wavs\\all\\efaf2011a030.wav\n",
      "x: \n",
      "[151 151 150 ... 218 222 235]\n",
      "sr_orig: 44100\n",
      "y: \n",
      "[-58 -60 -55 ...   0   0   0]\n",
      "yb class: [ 24  23  16 ... -53 -57 -58]\n"
     ]
    },
    {
     "name": "stderr",
     "output_type": "stream",
     "text": [
      "\r",
      " 80%|████████████████████████████████████████████████████████████████▎               | 492/612 [04:58<01:12,  1.65it/s]"
     ]
    },
    {
     "name": "stdout",
     "output_type": "stream",
     "text": [
      "index: 492\n",
      "row: \n",
      "filename      EFAF2011A030.WAV\n",
      "start                  7791177\n",
      "duration                195275\n",
      "type                    rumble\n",
      "background                   1\n",
      "Name: 492, dtype: object\n",
      "source filename: EFAF2011A030.WAV\n",
      ".\\adventureswithelephants_dataset\\wavs\\all\\efaf2011a030.wav\n",
      "x: \n",
      "[151 151 150 ... 218 222 235]\n",
      "sr_orig: 44100\n",
      "y: \n",
      "[ 0  0  0 ... 49 47 47]\n",
      "yb class: [0 0 0 ... 0 0 0]\n"
     ]
    },
    {
     "name": "stderr",
     "output_type": "stream",
     "text": [
      "\r",
      " 81%|████████████████████████████████████████████████████████████████▍               | 493/612 [04:59<01:12,  1.65it/s]"
     ]
    },
    {
     "name": "stdout",
     "output_type": "stream",
     "text": [
      "index: 493\n",
      "row: \n",
      "filename      EFAF2011A030.WAV\n",
      "start                  8626520\n",
      "duration                168153\n",
      "type                    rumble\n",
      "background                   1\n",
      "Name: 493, dtype: object\n",
      "source filename: EFAF2011A030.WAV\n",
      ".\\adventureswithelephants_dataset\\wavs\\all\\efaf2011a030.wav\n",
      "x: \n",
      "[151 151 150 ... 218 222 235]\n",
      "sr_orig: 44100\n",
      "y: \n",
      "[-39 -42 -43 ...   7   1   0]\n",
      "yb class: [ 57  62  46 ... -40 -44 -39]\n"
     ]
    },
    {
     "name": "stderr",
     "output_type": "stream",
     "text": [
      "\r",
      " 81%|████████████████████████████████████████████████████████████████▌               | 494/612 [05:00<01:11,  1.64it/s]"
     ]
    },
    {
     "name": "stdout",
     "output_type": "stream",
     "text": [
      "index: 494\n",
      "row: \n",
      "filename      EFAF2011A030.WAV\n",
      "start                  9418467\n",
      "duration                162729\n",
      "type                    rumble\n",
      "background                   1\n",
      "Name: 494, dtype: object\n",
      "source filename: EFAF2011A030.WAV\n",
      ".\\adventureswithelephants_dataset\\wavs\\all\\efaf2011a030.wav\n",
      "x: \n",
      "[151 151 150 ... 218 222 235]\n",
      "sr_orig: 44100\n",
      "y: \n",
      "[0 0 0 ... 0 0 0]\n",
      "yb class: [0 0 0 ... 0 0 0]\n"
     ]
    },
    {
     "name": "stderr",
     "output_type": "stream",
     "text": [
      "\r",
      " 81%|████████████████████████████████████████████████████████████████▋               | 495/612 [05:01<01:11,  1.64it/s]"
     ]
    },
    {
     "name": "stdout",
     "output_type": "stream",
     "text": [
      "index: 495\n",
      "row: \n",
      "filename      EFAF2011A030.WAV\n",
      "start                 10291780\n",
      "duration                151880\n",
      "type                    rumble\n",
      "background                   1\n",
      "Name: 495, dtype: object\n",
      "source filename: EFAF2011A030.WAV\n",
      ".\\adventureswithelephants_dataset\\wavs\\all\\efaf2011a030.wav\n",
      "x: \n",
      "[151 151 150 ... 218 222 235]\n",
      "sr_orig: 44100\n",
      "y: \n",
      "[ 0  0  0 ... 45 50 44]\n",
      "yb class: [42 45 38 ...  0  0  0]\n"
     ]
    },
    {
     "name": "stderr",
     "output_type": "stream",
     "text": [
      "\r",
      " 81%|████████████████████████████████████████████████████████████████▊               | 496/612 [05:02<01:10,  1.64it/s]"
     ]
    },
    {
     "name": "stdout",
     "output_type": "stream",
     "text": [
      "index: 496\n",
      "row: \n",
      "filename      EFAF2011A030.WAV\n",
      "start                 11642430\n",
      "duration                135608\n",
      "type                    rumble\n",
      "background                   1\n",
      "Name: 496, dtype: object\n",
      "source filename: EFAF2011A030.WAV\n",
      ".\\adventureswithelephants_dataset\\wavs\\all\\efaf2011a030.wav\n",
      "x: \n",
      "[151 151 150 ... 218 222 235]\n",
      "sr_orig: 44100\n",
      "y: \n",
      "[26 36 31 ...  0  0  0]\n",
      "yb class: [80 69 40 ... 21 27 29]\n"
     ]
    },
    {
     "name": "stderr",
     "output_type": "stream",
     "text": [
      "\r",
      " 81%|████████████████████████████████████████████████████████████████▉               | 497/612 [05:03<01:10,  1.64it/s]"
     ]
    },
    {
     "name": "stdout",
     "output_type": "stream",
     "text": [
      "index: 497\n",
      "row: \n",
      "filename      EFAF2011A030.WAV\n",
      "start                 12472348\n",
      "duration                130183\n",
      "type                    rumble\n",
      "background                   1\n",
      "Name: 497, dtype: object\n",
      "source filename: EFAF2011A030.WAV\n",
      ".\\adventureswithelephants_dataset\\wavs\\all\\efaf2011a030.wav\n",
      "x: \n",
      "[151 151 150 ... 218 222 235]\n",
      "sr_orig: 44100\n",
      "y: \n",
      "[-446 -478 -472 ...    0    0    0]\n",
      "yb class: [   0    0    0 ... -432 -472 -443]\n"
     ]
    },
    {
     "name": "stderr",
     "output_type": "stream",
     "text": [
      "\r",
      " 81%|█████████████████████████████████████████████████████████████████               | 498/612 [05:03<01:09,  1.64it/s]"
     ]
    },
    {
     "name": "stdout",
     "output_type": "stream",
     "text": [
      "index: 498\n",
      "row: \n",
      "filename      EFAF2011A030.WAV\n",
      "start                 13262814\n",
      "duration                133981\n",
      "type                    rumble\n",
      "background                   1\n",
      "Name: 498, dtype: object\n",
      "source filename: EFAF2011A030.WAV\n",
      ".\\adventureswithelephants_dataset\\wavs\\all\\efaf2011a030.wav\n",
      "x: \n",
      "[151 151 150 ... 218 222 235]\n",
      "sr_orig: 44100\n",
      "y: \n",
      "[0 0 0 ... 0 0 0]\n",
      "yb class: [0 0 0 ... 0 1 0]\n"
     ]
    },
    {
     "name": "stderr",
     "output_type": "stream",
     "text": [
      "\r",
      " 82%|█████████████████████████████████████████████████████████████████▏              | 499/612 [05:04<01:09,  1.64it/s]"
     ]
    },
    {
     "name": "stdout",
     "output_type": "stream",
     "text": [
      "index: 499\n",
      "row: \n",
      "filename      EFAF2011A030.WAV\n",
      "start                 13269720\n",
      "duration                130184\n",
      "type                    rumble\n",
      "background                   0\n",
      "Name: 499, dtype: object\n",
      "source filename: EFAF2011A030.WAV\n",
      ".\\adventureswithelephants_dataset\\wavs\\all\\efaf2011a030.wav\n",
      "x: \n",
      "[151 151 150 ... 218 222 235]\n",
      "sr_orig: 44100\n",
      "y: \n",
      "[0 0 0 ... 0 0 0]\n"
     ]
    },
    {
     "name": "stderr",
     "output_type": "stream",
     "text": [
      "\r",
      " 82%|█████████████████████████████████████████████████████████████████▎              | 500/612 [05:05<01:08,  1.64it/s]"
     ]
    },
    {
     "name": "stdout",
     "output_type": "stream",
     "text": [
      "index: 500\n",
      "row: \n",
      "filename      EFAF2011A030.WAV\n",
      "start                 14986692\n",
      "duration                187571\n",
      "type                    rumble\n",
      "background                   1\n",
      "Name: 500, dtype: object\n",
      "source filename: EFAF2011A030.WAV\n",
      ".\\adventureswithelephants_dataset\\wavs\\all\\efaf2011a030.wav\n",
      "x: \n",
      "[151 151 150 ... 218 222 235]\n",
      "sr_orig: 44100\n",
      "y: \n",
      "[14 10  5 ...  0  0  0]\n",
      "yb class: [ 0  0  0 ...  5 10 15]\n"
     ]
    },
    {
     "name": "stderr",
     "output_type": "stream",
     "text": [
      "\r",
      " 82%|█████████████████████████████████████████████████████████████████▍              | 501/612 [05:06<01:07,  1.64it/s]"
     ]
    },
    {
     "name": "stdout",
     "output_type": "stream",
     "text": [
      "index: 501\n",
      "row: \n",
      "filename      EFAF2011A030.WAV\n",
      "start                 16103194\n",
      "duration                151845\n",
      "type                    rumble\n",
      "background                   1\n",
      "Name: 501, dtype: object\n",
      "source filename: EFAF2011A030.WAV\n",
      ".\\adventureswithelephants_dataset\\wavs\\all\\efaf2011a030.wav\n",
      "x: \n",
      "[151 151 150 ... 218 222 235]\n",
      "sr_orig: 44100\n",
      "y: \n",
      "[0 0 0 ... 0 0 0]\n",
      "yb class: [0 0 0 ... 0 0 0]\n"
     ]
    },
    {
     "name": "stderr",
     "output_type": "stream",
     "text": [
      "\r",
      " 82%|█████████████████████████████████████████████████████████████████▌              | 502/612 [05:07<01:07,  1.64it/s]"
     ]
    },
    {
     "name": "stdout",
     "output_type": "stream",
     "text": [
      "index: 502\n",
      "row: \n",
      "filename      EFAF2011A030.WAV\n",
      "start                 17398336\n",
      "duration                169710\n",
      "type                    rumble\n",
      "background                   1\n",
      "Name: 502, dtype: object\n",
      "source filename: EFAF2011A030.WAV\n",
      ".\\adventureswithelephants_dataset\\wavs\\all\\efaf2011a030.wav\n",
      "x: \n",
      "[151 151 150 ... 218 222 235]\n",
      "sr_orig: 44100\n",
      "y: \n",
      "[13 19 13 ... 33 40 32]\n",
      "yb class: [-11  -9  -5 ...  12  17  12]\n"
     ]
    },
    {
     "name": "stderr",
     "output_type": "stream",
     "text": [
      "\r",
      " 82%|█████████████████████████████████████████████████████████████████▊              | 503/612 [05:07<01:06,  1.63it/s]"
     ]
    },
    {
     "name": "stdout",
     "output_type": "stream",
     "text": [
      "index: 503\n",
      "row: \n",
      "filename      EFAF2011A030.WAV\n",
      "start                 18505907\n",
      "duration                169710\n",
      "type                    rumble\n",
      "background                   1\n",
      "Name: 503, dtype: object\n",
      "source filename: EFAF2011A030.WAV\n",
      ".\\adventureswithelephants_dataset\\wavs\\all\\efaf2011a030.wav\n",
      "x: \n",
      "[151 151 150 ... 218 222 235]\n",
      "sr_orig: 44100\n",
      "y: \n",
      "[379 368 314 ...  18  19  22]\n",
      "yb class: [  0   6  32 ... 439 435 379]\n"
     ]
    },
    {
     "name": "stderr",
     "output_type": "stream",
     "text": [
      "\r",
      " 82%|█████████████████████████████████████████████████████████████████▉              | 504/612 [05:08<01:06,  1.63it/s]"
     ]
    },
    {
     "name": "stdout",
     "output_type": "stream",
     "text": [
      "index: 504\n",
      "row: \n",
      "filename      EFAF2011A030.WAV\n",
      "start                 19952895\n",
      "duration                133980\n",
      "type                    rumble\n",
      "background                   1\n",
      "Name: 504, dtype: object\n",
      "source filename: EFAF2011A030.WAV\n",
      ".\\adventureswithelephants_dataset\\wavs\\all\\efaf2011a030.wav\n",
      "x: \n",
      "[151 151 150 ... 218 222 235]\n",
      "sr_orig: 44100\n",
      "y: \n",
      "[  0   0   0 ... -27 -29 -25]\n",
      "yb class: [0 0 0 ... 0 0 0]\n"
     ]
    },
    {
     "name": "stderr",
     "output_type": "stream",
     "text": [
      "\r",
      " 83%|██████████████████████████████████████████████████████████████████              | 505/612 [05:09<01:05,  1.63it/s]"
     ]
    },
    {
     "name": "stdout",
     "output_type": "stream",
     "text": [
      "index: 505\n",
      "row: \n",
      "filename      EFAF2011A030.WAV\n",
      "start                 20819301\n",
      "duration                151845\n",
      "type                    rumble\n",
      "background                   1\n",
      "Name: 505, dtype: object\n",
      "source filename: EFAF2011A030.WAV\n",
      ".\\adventureswithelephants_dataset\\wavs\\all\\efaf2011a030.wav\n",
      "x: \n",
      "[151 151 150 ... 218 222 235]\n",
      "sr_orig: 44100\n",
      "y: \n",
      "[0 2 1 ... 0 0 0]\n",
      "yb class: [0 0 0 ... 0 2 0]\n"
     ]
    },
    {
     "name": "stderr",
     "output_type": "stream",
     "text": [
      "\r",
      " 83%|██████████████████████████████████████████████████████████████████▏             | 506/612 [05:10<01:05,  1.63it/s]"
     ]
    },
    {
     "name": "stdout",
     "output_type": "stream",
     "text": [
      "index: 506\n",
      "row: \n",
      "filename      EFAF2011A030.WAV\n",
      "start                 22538588\n",
      "duration                112680\n",
      "type                    rumble\n",
      "background                   1\n",
      "Name: 506, dtype: object\n",
      "source filename: EFAF2011A030.WAV\n",
      ".\\adventureswithelephants_dataset\\wavs\\all\\efaf2011a030.wav\n",
      "x: \n",
      "[151 151 150 ... 218 222 235]\n",
      "sr_orig: 44100\n",
      "y: \n",
      "[   0    0    0 ...  -89 -102 -103]\n",
      "yb class: [-25 -27 -20 ...   0   0   0]\n"
     ]
    },
    {
     "name": "stderr",
     "output_type": "stream",
     "text": [
      "\r",
      " 83%|██████████████████████████████████████████████████████████████████▎             | 507/612 [05:11<01:04,  1.63it/s]"
     ]
    },
    {
     "name": "stdout",
     "output_type": "stream",
     "text": [
      "index: 507\n",
      "row: \n",
      "filename      EFAF2011A030.WAV\n",
      "start                 22784706\n",
      "duration                143818\n",
      "type                    rumble\n",
      "background                   0\n",
      "Name: 507, dtype: object\n",
      "source filename: EFAF2011A030.WAV\n",
      ".\\adventureswithelephants_dataset\\wavs\\all\\efaf2011a030.wav\n",
      "x: \n",
      "[151 151 150 ... 218 222 235]\n",
      "sr_orig: 44100\n",
      "y: \n",
      "[   13    13    14 ... -1704 -1817 -1714]\n"
     ]
    },
    {
     "name": "stderr",
     "output_type": "stream",
     "text": [
      "\r",
      " 83%|██████████████████████████████████████████████████████████████████▍             | 508/612 [05:11<01:03,  1.63it/s]"
     ]
    },
    {
     "name": "stdout",
     "output_type": "stream",
     "text": [
      "index: 508\n",
      "row: \n",
      "filename      EFAF2011A030.WAV\n",
      "start                 23005620\n",
      "duration                117130\n",
      "type                    rumble\n",
      "background                   0\n",
      "Name: 508, dtype: object\n",
      "source filename: EFAF2011A030.WAV\n",
      ".\\adventureswithelephants_dataset\\wavs\\all\\efaf2011a030.wav\n",
      "x: \n",
      "[151 151 150 ... 218 222 235]\n",
      "sr_orig: 44100\n",
      "y: \n",
      "[    0     0     0 ... -5717 -6014 -5672]\n"
     ]
    },
    {
     "name": "stderr",
     "output_type": "stream",
     "text": [
      "\r",
      " 83%|██████████████████████████████████████████████████████████████████▌             | 509/612 [05:12<01:03,  1.63it/s]"
     ]
    },
    {
     "name": "stdout",
     "output_type": "stream",
     "text": [
      "index: 509\n",
      "row: \n",
      "filename      EFAF2011A030.WAV\n",
      "start                 23179092\n",
      "duration                152709\n",
      "type                    rumble\n",
      "background                   0\n",
      "Name: 509, dtype: object\n",
      "source filename: EFAF2011A030.WAV\n",
      ".\\adventureswithelephants_dataset\\wavs\\all\\efaf2011a030.wav\n",
      "x: \n",
      "[151 151 150 ... 218 222 235]\n",
      "sr_orig: 44100\n",
      "y: \n",
      "[  0   0   0 ... 339 366 359]\n"
     ]
    },
    {
     "name": "stderr",
     "output_type": "stream",
     "text": [
      "\r",
      " 83%|██████████████████████████████████████████████████████████████████▋             | 510/612 [05:12<01:02,  1.63it/s]"
     ]
    },
    {
     "name": "stdout",
     "output_type": "stream",
     "text": [
      "index: 510\n",
      "row: \n",
      "filename      EFAF2011A030.WAV\n",
      "start                 23377762\n",
      "duration                166059\n",
      "type                    rumble\n",
      "background                   0\n",
      "Name: 510, dtype: object\n",
      "source filename: EFAF2011A030.WAV\n",
      ".\\adventureswithelephants_dataset\\wavs\\all\\efaf2011a030.wav\n",
      "x: \n",
      "[151 151 150 ... 218 222 235]\n",
      "sr_orig: 44100\n",
      "y: \n",
      "[  0   0   0 ... -82 -93 -76]\n"
     ]
    },
    {
     "name": "stderr",
     "output_type": "stream",
     "text": [
      "\r",
      " 83%|██████████████████████████████████████████████████████████████████▊             | 511/612 [05:12<01:01,  1.63it/s]"
     ]
    },
    {
     "name": "stdout",
     "output_type": "stream",
     "text": [
      "index: 511\n",
      "row: \n",
      "filename      EFAF2011A030.WAV\n",
      "start                 23612022\n",
      "duration                146782\n",
      "type                    rumble\n",
      "background                   0\n",
      "Name: 511, dtype: object\n",
      "source filename: EFAF2011A030.WAV\n",
      ".\\adventureswithelephants_dataset\\wavs\\all\\efaf2011a030.wav\n",
      "x: \n",
      "[151 151 150 ... 218 222 235]\n",
      "sr_orig: 44100\n",
      "y: \n",
      "[305 325 307 ...   0  -1   0]\n"
     ]
    },
    {
     "name": "stderr",
     "output_type": "stream",
     "text": [
      "\r",
      " 84%|██████████████████████████████████████████████████████████████████▉             | 512/612 [05:13<01:01,  1.63it/s]"
     ]
    },
    {
     "name": "stdout",
     "output_type": "stream",
     "text": [
      "index: 512\n",
      "row: \n",
      "filename      EFAF2011A030.WAV\n",
      "start                 23846281\n",
      "duration                232773\n",
      "type                    rumble\n",
      "background                   0\n",
      "Name: 512, dtype: object\n",
      "source filename: EFAF2011A030.WAV\n",
      ".\\adventureswithelephants_dataset\\wavs\\all\\efaf2011a030.wav\n",
      "x: \n",
      "[151 151 150 ... 218 222 235]\n",
      "sr_orig: 44100\n",
      "y: \n",
      "[767 639 380 ...   0   0   0]\n"
     ]
    },
    {
     "name": "stderr",
     "output_type": "stream",
     "text": [
      "\r",
      " 84%|███████████████████████████████████████████████████████████████████             | 513/612 [05:13<01:00,  1.64it/s]"
     ]
    },
    {
     "name": "stdout",
     "output_type": "stream",
     "text": [
      "index: 513\n",
      "row: \n",
      "filename      EFAF2011A030.WAV\n",
      "start                 23846281\n",
      "duration                134919\n",
      "type                    rumble\n",
      "background                   0\n",
      "Name: 513, dtype: object\n",
      "source filename: EFAF2011A030.WAV\n",
      ".\\adventureswithelephants_dataset\\wavs\\all\\efaf2011a030.wav\n",
      "x: \n",
      "[151 151 150 ... 218 222 235]\n",
      "sr_orig: 44100\n",
      "y: \n",
      "[767 639 380 ...   0   0   0]\n"
     ]
    },
    {
     "name": "stderr",
     "output_type": "stream",
     "text": [
      "\r",
      " 84%|███████████████████████████████████████████████████████████████████▏            | 514/612 [05:14<00:59,  1.64it/s]"
     ]
    },
    {
     "name": "stdout",
     "output_type": "stream",
     "text": [
      "index: 514\n",
      "row: \n",
      "filename      EFAF2011A030.WAV\n",
      "start                 23930790\n",
      "duration                149745\n",
      "type                    rumble\n",
      "background                   0\n",
      "Name: 514, dtype: object\n",
      "source filename: EFAF2011A030.WAV\n",
      ".\\adventureswithelephants_dataset\\wavs\\all\\efaf2011a030.wav\n",
      "x: \n",
      "[151 151 150 ... 218 222 235]\n",
      "sr_orig: 44100\n",
      "y: \n",
      "[ 59  99 130 ...   6   2   2]\n"
     ]
    },
    {
     "name": "stderr",
     "output_type": "stream",
     "text": [
      "\r",
      " 84%|███████████████████████████████████████████████████████████████████▎            | 515/612 [05:14<00:59,  1.64it/s]"
     ]
    },
    {
     "name": "stdout",
     "output_type": "stream",
     "text": [
      "index: 515\n",
      "row: \n",
      "filename      EFAF2011A030.WAV\n",
      "start                 24575774\n",
      "duration                235490\n",
      "type                    rumble\n",
      "background                   1\n",
      "Name: 515, dtype: object\n",
      "source filename: EFAF2011A030.WAV\n",
      ".\\adventureswithelephants_dataset\\wavs\\all\\efaf2011a030.wav\n",
      "x: \n",
      "[151 151 150 ... 218 222 235]\n",
      "sr_orig: 44100\n",
      "y: \n",
      "[0 0 0 ... 0 0 0]\n",
      "yb class: [0 0 0 ... 0 0 0]\n"
     ]
    },
    {
     "name": "stderr",
     "output_type": "stream",
     "text": [
      "\r",
      " 84%|███████████████████████████████████████████████████████████████████▍            | 516/612 [05:15<00:58,  1.64it/s]"
     ]
    },
    {
     "name": "stdout",
     "output_type": "stream",
     "text": [
      "index: 516\n",
      "row: \n",
      "filename      EFAF2011A030.WAV\n",
      "start                 24731707\n",
      "duration                162293\n",
      "type                    rumble\n",
      "background                   0\n",
      "Name: 516, dtype: object\n",
      "source filename: EFAF2011A030.WAV\n",
      ".\\adventureswithelephants_dataset\\wavs\\all\\efaf2011a030.wav\n",
      "x: \n",
      "[151 151 150 ... 218 222 235]\n",
      "sr_orig: 44100\n",
      "y: \n",
      "[73 76 71 ...  0  0  0]\n"
     ]
    },
    {
     "name": "stderr",
     "output_type": "stream",
     "text": [
      "\r",
      " 84%|███████████████████████████████████████████████████████████████████▌            | 517/612 [05:16<00:58,  1.64it/s]"
     ]
    },
    {
     "name": "stdout",
     "output_type": "stream",
     "text": [
      "index: 517\n",
      "row: \n",
      "filename      EFAF2011A030.WAV\n",
      "start                 25587732\n",
      "duration                232306\n",
      "type                    rumble\n",
      "background                   1\n",
      "Name: 517, dtype: object\n",
      "source filename: EFAF2011A030.WAV\n",
      ".\\adventureswithelephants_dataset\\wavs\\all\\efaf2011a030.wav\n",
      "x: \n",
      "[151 151 150 ... 218 222 235]\n",
      "sr_orig: 44100\n",
      "y: \n",
      "[-14 -16 -18 ...   0   0   0]\n",
      "yb class: [-22 -15 -16 ...  -6 -11 -15]\n"
     ]
    },
    {
     "name": "stderr",
     "output_type": "stream",
     "text": [
      "\r",
      " 85%|███████████████████████████████████████████████████████████████████▋            | 518/612 [05:16<00:57,  1.63it/s]"
     ]
    },
    {
     "name": "stdout",
     "output_type": "stream",
     "text": [
      "index: 518\n",
      "row: \n",
      "filename      EFAF2011A030.WAV\n",
      "start                 25587732\n",
      "duration                175024\n",
      "type                    rumble\n",
      "background                   0\n",
      "Name: 518, dtype: object\n",
      "source filename: EFAF2011A030.WAV\n",
      ".\\adventureswithelephants_dataset\\wavs\\all\\efaf2011a030.wav\n",
      "x: \n",
      "[151 151 150 ... 218 222 235]\n",
      "sr_orig: 44100\n",
      "y: \n",
      "[-14 -16 -18 ...   0   0   0]\n"
     ]
    },
    {
     "name": "stderr",
     "output_type": "stream",
     "text": [
      "\r",
      " 85%|███████████████████████████████████████████████████████████████████▊            | 519/612 [05:17<00:56,  1.64it/s]"
     ]
    },
    {
     "name": "stdout",
     "output_type": "stream",
     "text": [
      "index: 519\n",
      "row: \n",
      "filename      EFAF2011A030.WAV\n",
      "start                 25676836\n",
      "duration                136838\n",
      "type                    rumble\n",
      "background                   0\n",
      "Name: 519, dtype: object\n",
      "source filename: EFAF2011A030.WAV\n",
      ".\\adventureswithelephants_dataset\\wavs\\all\\efaf2011a030.wav\n",
      "x: \n",
      "[151 151 150 ... 218 222 235]\n",
      "sr_orig: 44100\n",
      "y: \n",
      "[185 194 180 ...   0  -1   0]\n"
     ]
    },
    {
     "name": "stderr",
     "output_type": "stream",
     "text": [
      "\r",
      " 85%|███████████████████████████████████████████████████████████████████▉            | 520/612 [05:17<00:56,  1.64it/s]"
     ]
    },
    {
     "name": "stdout",
     "output_type": "stream",
     "text": [
      "index: 520\n",
      "row: \n",
      "filename      EFAF2011A030.WAV\n",
      "start                 26446941\n",
      "duration                241854\n",
      "type                    rumble\n",
      "background                   1\n",
      "Name: 520, dtype: object\n",
      "source filename: EFAF2011A030.WAV\n",
      ".\\adventureswithelephants_dataset\\wavs\\all\\efaf2011a030.wav\n",
      "x: \n",
      "[151 151 150 ... 218 222 235]\n",
      "sr_orig: 44100\n",
      "y: \n",
      "[ 0 -2  0 ...  0  0  0]\n",
      "yb class: [ 0  0  0 ...  0 -1  0]\n"
     ]
    },
    {
     "name": "stderr",
     "output_type": "stream",
     "text": [
      "\r",
      " 85%|████████████████████████████████████████████████████████████████████            | 521/612 [05:18<00:55,  1.64it/s]"
     ]
    },
    {
     "name": "stdout",
     "output_type": "stream",
     "text": [
      "index: 521\n",
      "row: \n",
      "filename      EFAF2011A030.WAV\n",
      "start                 27407986\n",
      "duration                101832\n",
      "type                    rumble\n",
      "background                   1\n",
      "Name: 521, dtype: object\n",
      "source filename: EFAF2011A030.WAV\n",
      ".\\adventureswithelephants_dataset\\wavs\\all\\efaf2011a030.wav\n",
      "x: \n",
      "[151 151 150 ... 218 222 235]\n",
      "sr_orig: 44100\n",
      "y: \n",
      "[0 0 0 ... 0 1 0]\n",
      "yb class: [0 0 0 ... 0 1 0]\n"
     ]
    },
    {
     "name": "stderr",
     "output_type": "stream",
     "text": [
      "\r",
      " 85%|████████████████████████████████████████████████████████████████████▏           | 522/612 [05:19<00:55,  1.63it/s]"
     ]
    },
    {
     "name": "stdout",
     "output_type": "stream",
     "text": [
      "index: 522\n",
      "row: \n",
      "filename      EFAF2011A030.WAV\n",
      "start                 28602849\n",
      "duration                114704\n",
      "type                    rumble\n",
      "background                   1\n",
      "Name: 522, dtype: object\n",
      "source filename: EFAF2011A030.WAV\n",
      ".\\adventureswithelephants_dataset\\wavs\\all\\efaf2011a030.wav\n",
      "x: \n",
      "[151 151 150 ... 218 222 235]\n",
      "sr_orig: 44100\n",
      "y: \n",
      "[1036 1068  972 ...   -1   -5   -6]\n",
      "yb class: [-5238 -5276 -4719 ...  1051  1108  1037]\n"
     ]
    },
    {
     "name": "stderr",
     "output_type": "stream",
     "text": [
      "\r",
      " 85%|████████████████████████████████████████████████████████████████████▎           | 523/612 [05:20<00:54,  1.63it/s]"
     ]
    },
    {
     "name": "stdout",
     "output_type": "stream",
     "text": [
      "index: 523\n",
      "row: \n",
      "filename      EFAF2011A030.WAV\n",
      "start                 30041259\n",
      "duration                 97607\n",
      "type                    rumble\n",
      "background                   1\n",
      "Name: 523, dtype: object\n",
      "source filename: EFAF2011A030.WAV\n",
      ".\\adventureswithelephants_dataset\\wavs\\all\\efaf2011a030.wav\n",
      "x: \n",
      "[151 151 150 ... 218 222 235]\n",
      "sr_orig: 44100\n",
      "y: \n",
      "[-66 -79 -79 ...  71  74  72]\n",
      "yb class: [-32 -34 -32 ... -51 -65 -65]\n"
     ]
    },
    {
     "name": "stderr",
     "output_type": "stream",
     "text": [
      "\r",
      " 86%|████████████████████████████████████████████████████████████████████▍           | 524/612 [05:21<00:53,  1.63it/s]"
     ]
    },
    {
     "name": "stdout",
     "output_type": "stream",
     "text": [
      "index: 524\n",
      "row: \n",
      "filename      EFAF2011A030.WAV\n",
      "start                 30138866\n",
      "duration                 94894\n",
      "type                    rumble\n",
      "background                   0\n",
      "Name: 524, dtype: object\n",
      "source filename: EFAF2011A030.WAV\n",
      ".\\adventureswithelephants_dataset\\wavs\\all\\efaf2011a030.wav\n",
      "x: \n",
      "[151 151 150 ... 218 222 235]\n",
      "sr_orig: 44100\n",
      "y: \n",
      "[ -4 -10 -12 ...   0   1   0]\n"
     ]
    },
    {
     "name": "stderr",
     "output_type": "stream",
     "text": [
      "\r",
      " 86%|████████████████████████████████████████████████████████████████████▋           | 525/612 [05:21<00:53,  1.63it/s]"
     ]
    },
    {
     "name": "stdout",
     "output_type": "stream",
     "text": [
      "index: 525\n",
      "row: \n",
      "filename      EFAF2011A030.WAV\n",
      "start                 31317791\n",
      "duration                193568\n",
      "type                    rumble\n",
      "background                   1\n",
      "Name: 525, dtype: object\n",
      "source filename: EFAF2011A030.WAV\n",
      ".\\adventureswithelephants_dataset\\wavs\\all\\efaf2011a030.wav\n",
      "x: \n",
      "[151 151 150 ... 218 222 235]\n",
      "sr_orig: 44100\n",
      "y: \n",
      "[ -6 -12 -11 ... 249 231 195]\n",
      "yb class: [-381 -412 -403 ...  -11  -12   -9]\n"
     ]
    },
    {
     "name": "stderr",
     "output_type": "stream",
     "text": [
      "\r",
      " 86%|████████████████████████████████████████████████████████████████████▊           | 526/612 [05:22<00:52,  1.63it/s]"
     ]
    },
    {
     "name": "stdout",
     "output_type": "stream",
     "text": [
      "index: 526\n",
      "row: \n",
      "filename      EFAF2011A030.WAV\n",
      "start                 31320962\n",
      "duration                186693\n",
      "type                    rumble\n",
      "background                   0\n",
      "Name: 526, dtype: object\n",
      "source filename: EFAF2011A030.WAV\n",
      ".\\adventureswithelephants_dataset\\wavs\\all\\efaf2011a030.wav\n",
      "x: \n",
      "[151 151 150 ... 218 222 235]\n",
      "sr_orig: 44100\n",
      "y: \n",
      "[ 0  0  0 ...  1 -1  0]\n"
     ]
    },
    {
     "name": "stderr",
     "output_type": "stream",
     "text": [
      "\r",
      " 86%|████████████████████████████████████████████████████████████████████▉           | 527/612 [05:22<00:52,  1.63it/s]"
     ]
    },
    {
     "name": "stdout",
     "output_type": "stream",
     "text": [
      "index: 527\n",
      "row: \n",
      "filename      EFAF2011A030.WAV\n",
      "start                 31376497\n",
      "duration                 97840\n",
      "type                    rumble\n",
      "background                   0\n",
      "Name: 527, dtype: object\n",
      "source filename: EFAF2011A030.WAV\n",
      ".\\adventureswithelephants_dataset\\wavs\\all\\efaf2011a030.wav\n",
      "x: \n",
      "[151 151 150 ... 218 222 235]\n",
      "sr_orig: 44100\n",
      "y: \n",
      "[81 87 90 ... 32 32 30]\n"
     ]
    },
    {
     "name": "stderr",
     "output_type": "stream",
     "text": [
      "\r",
      " 86%|█████████████████████████████████████████████████████████████████████           | 528/612 [05:23<00:51,  1.63it/s]"
     ]
    },
    {
     "name": "stdout",
     "output_type": "stream",
     "text": [
      "index: 528\n",
      "row: \n",
      "filename      EFAF2011A030.WAV\n",
      "start                 33010600\n",
      "duration                131934\n",
      "type                    rumble\n",
      "background                   1\n",
      "Name: 528, dtype: object\n",
      "source filename: EFAF2011A030.WAV\n",
      ".\\adventureswithelephants_dataset\\wavs\\all\\efaf2011a030.wav\n",
      "x: \n",
      "[151 151 150 ... 218 222 235]\n",
      "sr_orig: 44100\n",
      "y: \n",
      "[0 0 0 ... 0 0 0]\n",
      "yb class: [4 8 7 ... 0 0 0]\n"
     ]
    },
    {
     "name": "stderr",
     "output_type": "stream",
     "text": [
      "\r",
      " 86%|█████████████████████████████████████████████████████████████████████▏          | 529/612 [05:24<00:50,  1.63it/s]"
     ]
    },
    {
     "name": "stdout",
     "output_type": "stream",
     "text": [
      "index: 529\n",
      "row: \n",
      "filename      EFAF2011A030.WAV\n",
      "start                 41581096\n",
      "duration                175699\n",
      "type                    rumble\n",
      "background                   1\n",
      "Name: 529, dtype: object\n",
      "source filename: EFAF2011A030.WAV\n",
      ".\\adventureswithelephants_dataset\\wavs\\all\\efaf2011a030.wav\n",
      "x: \n",
      "[151 151 150 ... 218 222 235]\n",
      "sr_orig: 44100\n",
      "y: \n",
      "[695 732 683 ...   0  -1   0]\n",
      "yb class: [  0   0   0 ... 710 742 698]\n"
     ]
    },
    {
     "name": "stderr",
     "output_type": "stream",
     "text": [
      "\r",
      " 87%|█████████████████████████████████████████████████████████████████████▎          | 530/612 [05:24<00:50,  1.63it/s]"
     ]
    },
    {
     "name": "stdout",
     "output_type": "stream",
     "text": [
      "index: 530\n",
      "row: \n",
      "filename      EFAF2011A030.WAV\n",
      "start                 41628468\n",
      "duration                167884\n",
      "type                    rumble\n",
      "background                   0\n",
      "Name: 530, dtype: object\n",
      "source filename: EFAF2011A030.WAV\n",
      ".\\adventureswithelephants_dataset\\wavs\\all\\efaf2011a030.wav\n",
      "x: \n",
      "[151 151 150 ... 218 222 235]\n",
      "sr_orig: 44100\n",
      "y: \n",
      "[-132 -138 -125 ...    0    0    0]\n"
     ]
    },
    {
     "name": "stderr",
     "output_type": "stream",
     "text": [
      "\r",
      " 87%|█████████████████████████████████████████████████████████████████████▍          | 531/612 [05:25<00:49,  1.63it/s]"
     ]
    },
    {
     "name": "stdout",
     "output_type": "stream",
     "text": [
      "index: 531\n",
      "row: \n",
      "filename      EFAF2011A030.WAV\n",
      "start                 42993376\n",
      "duration                171840\n",
      "type                    rumble\n",
      "background                   1\n",
      "Name: 531, dtype: object\n",
      "source filename: EFAF2011A030.WAV\n",
      ".\\adventureswithelephants_dataset\\wavs\\all\\efaf2011a030.wav\n",
      "x: \n",
      "[151 151 150 ... 218 222 235]\n",
      "sr_orig: 44100\n",
      "y: \n",
      "[0 0 0 ... 0 0 0]\n",
      "yb class: [0 0 0 ... 0 0 0]\n"
     ]
    },
    {
     "name": "stderr",
     "output_type": "stream",
     "text": [
      "\r",
      " 87%|█████████████████████████████████████████████████████████████████████▌          | 532/612 [05:26<00:49,  1.63it/s]"
     ]
    },
    {
     "name": "stdout",
     "output_type": "stream",
     "text": [
      "index: 532\n",
      "row: \n",
      "filename      EFAF2011A030.WAV\n",
      "start                 44659289\n",
      "duration                152749\n",
      "type                    rumble\n",
      "background                   1\n",
      "Name: 532, dtype: object\n",
      "source filename: EFAF2011A030.WAV\n",
      ".\\adventureswithelephants_dataset\\wavs\\all\\efaf2011a030.wav\n",
      "x: \n",
      "[151 151 150 ... 218 222 235]\n",
      "sr_orig: 44100\n",
      "y: \n",
      "[0 0 0 ... 0 0 0]\n",
      "yb class: [0 0 0 ... 0 0 0]\n"
     ]
    },
    {
     "name": "stderr",
     "output_type": "stream",
     "text": [
      "\r",
      " 87%|█████████████████████████████████████████████████████████████████████▋          | 533/612 [05:27<00:48,  1.63it/s]"
     ]
    },
    {
     "name": "stdout",
     "output_type": "stream",
     "text": [
      "index: 533\n",
      "row: \n",
      "filename      EFAF2011A030.WAV\n",
      "start                 46855046\n",
      "duration                152749\n",
      "type                    rumble\n",
      "background                   1\n",
      "Name: 533, dtype: object\n",
      "source filename: EFAF2011A030.WAV\n",
      ".\\adventureswithelephants_dataset\\wavs\\all\\efaf2011a030.wav\n",
      "x: \n",
      "[151 151 150 ... 218 222 235]\n",
      "sr_orig: 44100\n",
      "y: \n",
      "[0 0 0 ... 0 0 0]\n",
      "yb class: [0 0 0 ... 0 0 0]\n"
     ]
    },
    {
     "name": "stderr",
     "output_type": "stream",
     "text": [
      "\r",
      " 87%|█████████████████████████████████████████████████████████████████████▊          | 534/612 [05:28<00:47,  1.63it/s]"
     ]
    },
    {
     "name": "stdout",
     "output_type": "stream",
     "text": [
      "index: 534\n",
      "row: \n",
      "filename      EFAF2011A030.WAV\n",
      "start                 50535089\n",
      "duration                155131\n",
      "type                    rumble\n",
      "background                   1\n",
      "Name: 534, dtype: object\n",
      "source filename: EFAF2011A030.WAV\n",
      ".\\adventureswithelephants_dataset\\wavs\\all\\efaf2011a030.wav\n",
      "x: \n",
      "[151 151 150 ... 218 222 235]\n",
      "sr_orig: 44100\n",
      "y: \n",
      "[0 0 0 ... 0 0 0]\n",
      "yb class: [0 0 0 ... 0 1 0]\n"
     ]
    },
    {
     "name": "stderr",
     "output_type": "stream",
     "text": [
      "\r",
      " 87%|█████████████████████████████████████████████████████████████████████▉          | 535/612 [05:28<00:47,  1.63it/s]"
     ]
    },
    {
     "name": "stdout",
     "output_type": "stream",
     "text": [
      "index: 535\n",
      "row: \n",
      "filename      EFAF2011A030.WAV\n",
      "start                 50713430\n",
      "duration                176505\n",
      "type                    rumble\n",
      "background                   0\n",
      "Name: 535, dtype: object\n",
      "source filename: EFAF2011A030.WAV\n",
      ".\\adventureswithelephants_dataset\\wavs\\all\\efaf2011a030.wav\n",
      "x: \n",
      "[151 151 150 ... 218 222 235]\n",
      "sr_orig: 44100\n",
      "y: \n",
      "[0 0 0 ... 0 0 0]\n"
     ]
    },
    {
     "name": "stderr",
     "output_type": "stream",
     "text": [
      "\r",
      " 88%|██████████████████████████████████████████████████████████████████████          | 536/612 [05:29<00:46,  1.63it/s]"
     ]
    },
    {
     "name": "stdout",
     "output_type": "stream",
     "text": [
      "index: 536\n",
      "row: \n",
      "filename      EFAF2011A030.WAV\n",
      "start                 53416685\n",
      "duration                129561\n",
      "type                    rumble\n",
      "background                   1\n",
      "Name: 536, dtype: object\n",
      "source filename: EFAF2011A030.WAV\n",
      ".\\adventureswithelephants_dataset\\wavs\\all\\efaf2011a030.wav\n",
      "x: \n",
      "[151 151 150 ... 218 222 235]\n",
      "sr_orig: 44100\n",
      "y: \n",
      "[ 0  0  0 ... -2 -7 -6]\n",
      "yb class: [0 0 0 ... 0 5 0]\n"
     ]
    },
    {
     "name": "stderr",
     "output_type": "stream",
     "text": [
      "\r",
      " 88%|██████████████████████████████████████████████████████████████████████▏         | 537/612 [05:30<00:46,  1.63it/s]"
     ]
    },
    {
     "name": "stdout",
     "output_type": "stream",
     "text": [
      "index: 537\n",
      "row: \n",
      "filename      EFAF2011A030.WAV\n",
      "start                 53847930\n",
      "duration                164647\n",
      "type                    rumble\n",
      "background                   0\n",
      "Name: 537, dtype: object\n",
      "source filename: EFAF2011A030.WAV\n",
      ".\\adventureswithelephants_dataset\\wavs\\all\\efaf2011a030.wav\n",
      "x: \n",
      "[151 151 150 ... 218 222 235]\n",
      "sr_orig: 44100\n",
      "y: \n",
      "[0 0 0 ... 0 0 0]\n"
     ]
    },
    {
     "name": "stderr",
     "output_type": "stream",
     "text": [
      "\r",
      " 88%|██████████████████████████████████████████████████████████████████████▎         | 538/612 [05:30<00:45,  1.63it/s]"
     ]
    },
    {
     "name": "stdout",
     "output_type": "stream",
     "text": [
      "index: 538\n",
      "row: \n",
      "filename      EFAF2011A030.WAV\n",
      "start                 54196721\n",
      "duration                320633\n",
      "type                    rumble\n",
      "background                   0\n",
      "Name: 538, dtype: object\n",
      "source filename: EFAF2011A030.WAV\n",
      ".\\adventureswithelephants_dataset\\wavs\\all\\efaf2011a030.wav\n",
      "x: \n",
      "[151 151 150 ... 218 222 235]\n",
      "sr_orig: 44100\n",
      "y: \n",
      "[ 0  0  0 ... 22 25 22]\n"
     ]
    },
    {
     "name": "stderr",
     "output_type": "stream",
     "text": [
      "\r",
      " 88%|██████████████████████████████████████████████████████████████████████▍         | 539/612 [05:30<00:44,  1.63it/s]"
     ]
    },
    {
     "name": "stdout",
     "output_type": "stream",
     "text": [
      "index: 539\n",
      "row: \n",
      "filename      EFAF2011A030.WAV\n",
      "start                 55583397\n",
      "duration                182256\n",
      "type                    rumble\n",
      "background                   1\n",
      "Name: 539, dtype: object\n",
      "source filename: EFAF2011A030.WAV\n",
      ".\\adventureswithelephants_dataset\\wavs\\all\\efaf2011a030.wav\n",
      "x: \n",
      "[151 151 150 ... 218 222 235]\n",
      "sr_orig: 44100\n",
      "y: \n",
      "[0 0 0 ... 0 0 0]\n",
      "yb class: [0 0 0 ... 0 0 0]\n"
     ]
    },
    {
     "name": "stderr",
     "output_type": "stream",
     "text": [
      "\r",
      " 88%|██████████████████████████████████████████████████████████████████████▌         | 540/612 [05:31<00:44,  1.63it/s]"
     ]
    },
    {
     "name": "stdout",
     "output_type": "stream",
     "text": [
      "index: 540\n",
      "row: \n",
      "filename      EFAF2011A030.WAV\n",
      "start                 56882495\n",
      "duration                241350\n",
      "type                    rumble\n",
      "background                   1\n",
      "Name: 540, dtype: object\n",
      "source filename: EFAF2011A030.WAV\n",
      ".\\adventureswithelephants_dataset\\wavs\\all\\efaf2011a030.wav\n",
      "x: \n",
      "[151 151 150 ... 218 222 235]\n",
      "sr_orig: 44100\n",
      "y: \n",
      "[0 0 0 ... 0 0 0]\n",
      "yb class: [0 0 0 ... 0 0 0]\n"
     ]
    },
    {
     "name": "stderr",
     "output_type": "stream",
     "text": [
      "\r",
      " 88%|██████████████████████████████████████████████████████████████████████▋         | 541/612 [05:32<00:43,  1.63it/s]"
     ]
    },
    {
     "name": "stdout",
     "output_type": "stream",
     "text": [
      "index: 541\n",
      "row: \n",
      "filename      EFAF2011A030.WAV\n",
      "start                 23532249\n",
      "duration                566539\n",
      "type                    rumble\n",
      "background                   0\n",
      "Name: 541, dtype: object\n",
      "source filename: EFAF2011A030.WAV\n",
      ".\\adventureswithelephants_dataset\\wavs\\all\\efaf2011a030.wav\n",
      "x: \n",
      "[151 151 150 ... 218 222 235]\n",
      "sr_orig: 44100\n",
      "y: \n",
      "[77 75 66 ... 60 63 66]\n"
     ]
    },
    {
     "name": "stderr",
     "output_type": "stream",
     "text": [
      "\r",
      " 89%|██████████████████████████████████████████████████████████████████████▊         | 542/612 [05:32<00:42,  1.63it/s]"
     ]
    },
    {
     "name": "stdout",
     "output_type": "stream",
     "text": [
      "index: 542\n",
      "row: \n",
      "filename      EFAF2011A030.WAV\n",
      "start                 54529045\n",
      "duration                188003\n",
      "type                    rumble\n",
      "background                   1\n",
      "Name: 542, dtype: object\n",
      "source filename: EFAF2011A030.WAV\n",
      ".\\adventureswithelephants_dataset\\wavs\\all\\efaf2011a030.wav\n",
      "x: \n",
      "[151 151 150 ... 218 222 235]\n",
      "sr_orig: 44100\n",
      "y: \n",
      "[0 0 0 ... 0 0 0]\n",
      "yb class: [0 0 0 ... 0 0 0]\n"
     ]
    },
    {
     "name": "stderr",
     "output_type": "stream",
     "text": [
      "\r",
      " 89%|██████████████████████████████████████████████████████████████████████▉         | 543/612 [05:33<00:42,  1.63it/s]"
     ]
    },
    {
     "name": "stdout",
     "output_type": "stream",
     "text": [
      "index: 543\n",
      "row: \n",
      "filename      EFAF2011A031.WAV\n",
      "start                  7075681\n",
      "duration                 71650\n",
      "type                    rumble\n",
      "background                   0\n",
      "Name: 543, dtype: object\n",
      "source filename: EFAF2011A031.WAV\n",
      ".\\adventureswithelephants_dataset\\wavs\\all\\efaf2011a031.wav\n",
      "x: \n",
      "[-118 -129 -147 ...  -39  -25  -25]\n",
      "sr_orig: 44100\n",
      "y: \n",
      "[ 0  0  0 ... 12 23 10]\n"
     ]
    },
    {
     "name": "stderr",
     "output_type": "stream",
     "text": [
      "\r",
      " 89%|███████████████████████████████████████████████████████████████████████         | 544/612 [05:34<00:41,  1.63it/s]"
     ]
    },
    {
     "name": "stdout",
     "output_type": "stream",
     "text": [
      "index: 544\n",
      "row: \n",
      "filename      EFAF2011A031.WAV\n",
      "start                  7143560\n",
      "duration                105580\n",
      "type                    rumble\n",
      "background                   0\n",
      "Name: 544, dtype: object\n",
      "source filename: EFAF2011A031.WAV\n",
      ".\\adventureswithelephants_dataset\\wavs\\all\\efaf2011a031.wav\n",
      "x: \n",
      "[-118 -129 -147 ...  -39  -25  -25]\n",
      "sr_orig: 44100\n",
      "y: \n",
      "[ 0  0  0 ...  0 -1  0]\n"
     ]
    },
    {
     "name": "stderr",
     "output_type": "stream",
     "text": [
      "\r",
      " 89%|███████████████████████████████████████████████████████████████████████▏        | 545/612 [05:34<00:41,  1.63it/s]"
     ]
    },
    {
     "name": "stdout",
     "output_type": "stream",
     "text": [
      "index: 545\n",
      "row: \n",
      "filename      EFAF2011A031.WAV\n",
      "start                  7426373\n",
      "duration                145178\n",
      "type                    rumble\n",
      "background                   0\n",
      "Name: 545, dtype: object\n",
      "source filename: EFAF2011A031.WAV\n",
      ".\\adventureswithelephants_dataset\\wavs\\all\\efaf2011a031.wav\n",
      "x: \n",
      "[-118 -129 -147 ...  -39  -25  -25]\n",
      "sr_orig: 44100\n",
      "y: \n",
      "[0 0 0 ... 0 0 0]\n"
     ]
    },
    {
     "name": "stderr",
     "output_type": "stream",
     "text": [
      "\r",
      " 89%|███████████████████████████████████████████████████████████████████████▎        | 546/612 [05:34<00:40,  1.63it/s]"
     ]
    },
    {
     "name": "stdout",
     "output_type": "stream",
     "text": [
      "index: 546\n",
      "row: \n",
      "filename      EFAF2011A031.WAV\n",
      "start                  7954290\n",
      "duration                884267\n",
      "type                    rumble\n",
      "background                   0\n",
      "Name: 546, dtype: object\n",
      "source filename: EFAF2011A031.WAV\n",
      ".\\adventureswithelephants_dataset\\wavs\\all\\efaf2011a031.wav\n",
      "x: \n",
      "[-118 -129 -147 ...  -39  -25  -25]\n",
      "sr_orig: 44100\n",
      "y: \n",
      "[ 8 13 16 ...  0  0  0]\n"
     ]
    },
    {
     "name": "stderr",
     "output_type": "stream",
     "text": [
      "\r",
      " 89%|███████████████████████████████████████████████████████████████████████▌        | 547/612 [05:35<00:39,  1.63it/s]"
     ]
    },
    {
     "name": "stdout",
     "output_type": "stream",
     "text": [
      "index: 547\n",
      "row: \n",
      "filename      EFAF2011A031.WAV\n",
      "start                  8883808\n",
      "duration                363887\n",
      "type                    rumble\n",
      "background                   0\n",
      "Name: 547, dtype: object\n",
      "source filename: EFAF2011A031.WAV\n",
      ".\\adventureswithelephants_dataset\\wavs\\all\\efaf2011a031.wav\n",
      "x: \n",
      "[-118 -129 -147 ...  -39  -25  -25]\n",
      "sr_orig: 44100\n",
      "y: \n",
      "[0 0 0 ... 0 0 0]\n"
     ]
    },
    {
     "name": "stderr",
     "output_type": "stream",
     "text": [
      "\r",
      " 90%|███████████████████████████████████████████████████████████████████████▋        | 548/612 [05:35<00:39,  1.63it/s]"
     ]
    },
    {
     "name": "stdout",
     "output_type": "stream",
     "text": [
      "index: 548\n",
      "row: \n",
      "filename      EFAF2011A032.WAV\n",
      "start                  1807535\n",
      "duration                148454\n",
      "type                    rumble\n",
      "background                   0\n",
      "Name: 548, dtype: object\n",
      "source filename: EFAF2011A032.WAV\n",
      ".\\adventureswithelephants_dataset\\wavs\\all\\efaf2011a032.wav\n",
      "x: \n",
      "[269 265 261 ... 261 238 218]\n",
      "sr_orig: 44100\n",
      "y: \n",
      "[-156 -135  -99 ... -316 -340 -323]\n"
     ]
    },
    {
     "name": "stderr",
     "output_type": "stream",
     "text": [
      "\r",
      " 90%|███████████████████████████████████████████████████████████████████████▊        | 549/612 [05:36<00:38,  1.63it/s]"
     ]
    },
    {
     "name": "stdout",
     "output_type": "stream",
     "text": [
      "index: 549\n",
      "row: \n",
      "filename      EFAF2011A032.WAV\n",
      "start                  3118703\n",
      "duration                133460\n",
      "type                    rumble\n",
      "background                   1\n",
      "Name: 549, dtype: object\n",
      "source filename: EFAF2011A032.WAV\n",
      ".\\adventureswithelephants_dataset\\wavs\\all\\efaf2011a032.wav\n",
      "x: \n",
      "[269 265 261 ... 261 238 218]\n",
      "sr_orig: 44100\n",
      "y: \n",
      "[ 0  0  0 ...  1 -1  0]\n",
      "yb class: [92 94 95 ...  0  1  0]\n"
     ]
    },
    {
     "name": "stderr",
     "output_type": "stream",
     "text": [
      "\r",
      " 90%|███████████████████████████████████████████████████████████████████████▉        | 550/612 [05:37<00:37,  1.63it/s]"
     ]
    },
    {
     "name": "stdout",
     "output_type": "stream",
     "text": [
      "index: 550\n",
      "row: \n",
      "filename      EFAF2011A032.WAV\n",
      "start                  4448649\n",
      "duration                182979\n",
      "type                    rumble\n",
      "background                   1\n",
      "Name: 550, dtype: object\n",
      "source filename: EFAF2011A032.WAV\n",
      ".\\adventureswithelephants_dataset\\wavs\\all\\efaf2011a032.wav\n",
      "x: \n",
      "[269 265 261 ... 261 238 218]\n",
      "sr_orig: 44100\n",
      "y: \n",
      "[-14 -13 -15 ... -38 -43 -43]\n",
      "yb class: [-176 -185 -180 ...  -10  -21  -17]\n"
     ]
    },
    {
     "name": "stderr",
     "output_type": "stream",
     "text": [
      "\r",
      " 90%|████████████████████████████████████████████████████████████████████████        | 551/612 [05:37<00:37,  1.63it/s]"
     ]
    },
    {
     "name": "stdout",
     "output_type": "stream",
     "text": [
      "index: 551\n",
      "row: \n",
      "filename      EFAF2011A032.WAV\n",
      "start                  5625929\n",
      "duration                176074\n",
      "type                    rumble\n",
      "background                   1\n",
      "Name: 551, dtype: object\n",
      "source filename: EFAF2011A032.WAV\n",
      ".\\adventureswithelephants_dataset\\wavs\\all\\efaf2011a032.wav\n",
      "x: \n",
      "[269 265 261 ... 261 238 218]\n",
      "sr_orig: 44100\n",
      "y: \n",
      "[-25 -24 -24 ... 100 107 103]\n",
      "yb class: [ 42  47  40 ... -17 -24 -22]\n"
     ]
    },
    {
     "name": "stderr",
     "output_type": "stream",
     "text": [
      "\r",
      " 90%|████████████████████████████████████████████████████████████████████████▏       | 552/612 [05:38<00:36,  1.63it/s]"
     ]
    },
    {
     "name": "stdout",
     "output_type": "stream",
     "text": [
      "index: 552\n",
      "row: \n",
      "filename      EFAF2011A032.WAV\n",
      "start                  6967341\n",
      "duration                130236\n",
      "type                    rumble\n",
      "background                   1\n",
      "Name: 552, dtype: object\n",
      "source filename: EFAF2011A032.WAV\n",
      ".\\adventureswithelephants_dataset\\wavs\\all\\efaf2011a032.wav\n",
      "x: \n",
      "[269 265 261 ... 261 238 218]\n",
      "sr_orig: 44100\n",
      "y: \n",
      "[-89 -97 -96 ...   0   0   0]\n",
      "yb class: [ 31  33  36 ... -79 -92 -88]\n"
     ]
    },
    {
     "name": "stderr",
     "output_type": "stream",
     "text": [
      "\r",
      " 90%|████████████████████████████████████████████████████████████████████████▎       | 553/612 [05:39<00:36,  1.63it/s]"
     ]
    },
    {
     "name": "stdout",
     "output_type": "stream",
     "text": [
      "index: 553\n",
      "row: \n",
      "filename      EFAF2011A032.WAV\n",
      "start                  8248375\n",
      "duration                196426\n",
      "type                    rumble\n",
      "background                   1\n",
      "Name: 553, dtype: object\n",
      "source filename: EFAF2011A032.WAV\n",
      ".\\adventureswithelephants_dataset\\wavs\\all\\efaf2011a032.wav\n",
      "x: \n",
      "[269 265 261 ... 261 238 218]\n",
      "sr_orig: 44100\n",
      "y: \n",
      "[-19 -21 -18 ...   0  -6  -1]\n",
      "yb class: [ 22  27  17 ... -20 -16 -19]\n"
     ]
    },
    {
     "name": "stderr",
     "output_type": "stream",
     "text": [
      "\r",
      " 91%|████████████████████████████████████████████████████████████████████████▍       | 554/612 [05:40<00:35,  1.63it/s]"
     ]
    },
    {
     "name": "stdout",
     "output_type": "stream",
     "text": [
      "index: 554\n",
      "row: \n",
      "filename      EFAF2011A032.WAV\n",
      "start                 11612191\n",
      "duration                173622\n",
      "type                    rumble\n",
      "background                   1\n",
      "Name: 554, dtype: object\n",
      "source filename: EFAF2011A032.WAV\n",
      ".\\adventureswithelephants_dataset\\wavs\\all\\efaf2011a032.wav\n",
      "x: \n",
      "[269 265 261 ... 261 238 218]\n",
      "sr_orig: 44100\n",
      "y: \n",
      "[0 0 0 ... 0 0 0]\n",
      "yb class: [-24 -25 -17 ...   0   0   0]\n"
     ]
    },
    {
     "name": "stderr",
     "output_type": "stream",
     "text": [
      "\r",
      " 91%|████████████████████████████████████████████████████████████████████████▌       | 555/612 [05:40<00:34,  1.63it/s]"
     ]
    },
    {
     "name": "stdout",
     "output_type": "stream",
     "text": [
      "index: 555\n",
      "row: \n",
      "filename      EFAF2011A032.WAV\n",
      "start                 13143621\n",
      "duration                129103\n",
      "type                    rumble\n",
      "background                   1\n",
      "Name: 555, dtype: object\n",
      "source filename: EFAF2011A032.WAV\n",
      ".\\adventureswithelephants_dataset\\wavs\\all\\efaf2011a032.wav\n",
      "x: \n",
      "[269 265 261 ... 261 238 218]\n",
      "sr_orig: 44100\n",
      "y: \n",
      "[-15  -9 -14 ...   0   0   0]\n",
      "yb class: [  0   0   0 ... -15 -24 -13]\n"
     ]
    },
    {
     "name": "stderr",
     "output_type": "stream",
     "text": [
      "\r",
      " 91%|████████████████████████████████████████████████████████████████████████▋       | 556/612 [05:41<00:34,  1.63it/s]"
     ]
    },
    {
     "name": "stdout",
     "output_type": "stream",
     "text": [
      "index: 556\n",
      "row: \n",
      "filename      EFAF2011A032.WAV\n",
      "start                 14345615\n",
      "duration                200333\n",
      "type                    rumble\n",
      "background                   1\n",
      "Name: 556, dtype: object\n",
      "source filename: EFAF2011A032.WAV\n",
      ".\\adventureswithelephants_dataset\\wavs\\all\\efaf2011a032.wav\n",
      "x: \n",
      "[269 265 261 ... 261 238 218]\n",
      "sr_orig: 44100\n",
      "y: \n",
      "[0 0 0 ... 0 0 0]\n",
      "yb class: [0 0 2 ... 0 0 0]\n"
     ]
    },
    {
     "name": "stderr",
     "output_type": "stream",
     "text": [
      "\r",
      " 91%|████████████████████████████████████████████████████████████████████████▊       | 557/612 [05:42<00:33,  1.63it/s]"
     ]
    },
    {
     "name": "stdout",
     "output_type": "stream",
     "text": [
      "index: 557\n",
      "row: \n",
      "filename      EFAF2011A032.WAV\n",
      "start                 15770199\n",
      "duration                142461\n",
      "type                    rumble\n",
      "background                   1\n",
      "Name: 557, dtype: object\n",
      "source filename: EFAF2011A032.WAV\n",
      ".\\adventureswithelephants_dataset\\wavs\\all\\efaf2011a032.wav\n",
      "x: \n",
      "[269 265 261 ... 261 238 218]\n",
      "sr_orig: 44100\n",
      "y: \n",
      "[0 0 0 ... 0 0 0]\n",
      "yb class: [0 0 0 ... 0 0 0]\n"
     ]
    },
    {
     "name": "stderr",
     "output_type": "stream",
     "text": [
      "\r",
      " 91%|████████████████████████████████████████████████████████████████████████▉       | 558/612 [05:43<00:33,  1.63it/s]"
     ]
    },
    {
     "name": "stdout",
     "output_type": "stream",
     "text": [
      "index: 558\n",
      "row: \n",
      "filename      EFAF2011A032.WAV\n",
      "start                 16784354\n",
      "duration                144727\n",
      "type                    rumble\n",
      "background                   1\n",
      "Name: 558, dtype: object\n",
      "source filename: EFAF2011A032.WAV\n",
      ".\\adventureswithelephants_dataset\\wavs\\all\\efaf2011a032.wav\n",
      "x: \n",
      "[269 265 261 ... 261 238 218]\n",
      "sr_orig: 44100\n",
      "y: \n",
      "[0 0 0 ... 0 0 0]\n",
      "yb class: [0 0 0 ... 0 0 0]\n"
     ]
    },
    {
     "name": "stderr",
     "output_type": "stream",
     "text": [
      "\r",
      " 91%|█████████████████████████████████████████████████████████████████████████       | 559/612 [05:43<00:32,  1.63it/s]"
     ]
    },
    {
     "name": "stdout",
     "output_type": "stream",
     "text": [
      "index: 559\n",
      "row: \n",
      "filename      EFAF2011A032.WAV\n",
      "start                 18521113\n",
      "duration                134007\n",
      "type                    rumble\n",
      "background                   1\n",
      "Name: 559, dtype: object\n",
      "source filename: EFAF2011A032.WAV\n",
      ".\\adventureswithelephants_dataset\\wavs\\all\\efaf2011a032.wav\n",
      "x: \n",
      "[269 265 261 ... 261 238 218]\n",
      "sr_orig: 44100\n",
      "y: \n",
      "[0 0 0 ... 0 0 0]\n",
      "yb class: [0 0 0 ... 0 0 0]\n"
     ]
    },
    {
     "name": "stderr",
     "output_type": "stream",
     "text": [
      "\r",
      " 92%|█████████████████████████████████████████████████████████████████████████▏      | 560/612 [05:44<00:32,  1.62it/s]"
     ]
    },
    {
     "name": "stdout",
     "output_type": "stream",
     "text": [
      "index: 560\n",
      "row: \n",
      "filename      EFAF2011A032.WAV\n",
      "start                 19582468\n",
      "duration                123286\n",
      "type                    rumble\n",
      "background                   1\n",
      "Name: 560, dtype: object\n",
      "source filename: EFAF2011A032.WAV\n",
      ".\\adventureswithelephants_dataset\\wavs\\all\\efaf2011a032.wav\n",
      "x: \n",
      "[269 265 261 ... 261 238 218]\n",
      "sr_orig: 44100\n",
      "y: \n",
      "[ 0  0  0 ... 56 61 55]\n",
      "yb class: [0 0 0 ... 0 0 0]\n"
     ]
    },
    {
     "name": "stderr",
     "output_type": "stream",
     "text": [
      "\r",
      " 92%|█████████████████████████████████████████████████████████████████████████▎      | 561/612 [05:45<00:31,  1.62it/s]"
     ]
    },
    {
     "name": "stdout",
     "output_type": "stream",
     "text": [
      "index: 561\n",
      "row: \n",
      "filename      EFAF2011A032.WAV\n",
      "start                 20584856\n",
      "duration                160811\n",
      "type                    rumble\n",
      "background                   1\n",
      "Name: 561, dtype: object\n",
      "source filename: EFAF2011A032.WAV\n",
      ".\\adventureswithelephants_dataset\\wavs\\all\\efaf2011a032.wav\n",
      "x: \n",
      "[269 265 261 ... 261 238 218]\n",
      "sr_orig: 44100\n",
      "y: \n",
      "[  0   0   0 ... -14 -17 -20]\n",
      "yb class: [0 0 0 ... 0 0 0]\n"
     ]
    },
    {
     "name": "stderr",
     "output_type": "stream",
     "text": [
      "\r",
      " 92%|█████████████████████████████████████████████████████████████████████████▍      | 562/612 [05:46<00:30,  1.62it/s]"
     ]
    },
    {
     "name": "stdout",
     "output_type": "stream",
     "text": [
      "index: 562\n",
      "row: \n",
      "filename      EFAF2011A032.WAV\n",
      "start                 22026794\n",
      "duration                123290\n",
      "type                    rumble\n",
      "background                   1\n",
      "Name: 562, dtype: object\n",
      "source filename: EFAF2011A032.WAV\n",
      ".\\adventureswithelephants_dataset\\wavs\\all\\efaf2011a032.wav\n",
      "x: \n",
      "[269 265 261 ... 261 238 218]\n",
      "sr_orig: 44100\n",
      "y: \n",
      "[ 0  0  0 ...  0 -1  0]\n",
      "yb class: [0 0 0 ... 0 0 0]\n"
     ]
    },
    {
     "name": "stderr",
     "output_type": "stream",
     "text": [
      "\r",
      " 92%|█████████████████████████████████████████████████████████████████████████▌      | 563/612 [05:47<00:30,  1.62it/s]"
     ]
    },
    {
     "name": "stdout",
     "output_type": "stream",
     "text": [
      "index: 563\n",
      "row: \n",
      "filename      EFAF2011A032.WAV\n",
      "start                 23170867\n",
      "duration                158085\n",
      "type                    rumble\n",
      "background                   1\n",
      "Name: 563, dtype: object\n",
      "source filename: EFAF2011A032.WAV\n",
      ".\\adventureswithelephants_dataset\\wavs\\all\\efaf2011a032.wav\n",
      "x: \n",
      "[269 265 261 ... 261 238 218]\n",
      "sr_orig: 44100\n",
      "y: \n",
      "[0 0 0 ... 4 7 7]\n",
      "yb class: [-21 -19 -28 ...   0   0   0]\n"
     ]
    },
    {
     "name": "stderr",
     "output_type": "stream",
     "text": [
      "\r",
      " 92%|█████████████████████████████████████████████████████████████████████████▋      | 564/612 [05:47<00:29,  1.62it/s]"
     ]
    },
    {
     "name": "stdout",
     "output_type": "stream",
     "text": [
      "index: 564\n",
      "row: \n",
      "filename      EFAF2011A032.WAV\n",
      "start                 24359234\n",
      "duration                163536\n",
      "type                    rumble\n",
      "background                   1\n",
      "Name: 564, dtype: object\n",
      "source filename: EFAF2011A032.WAV\n",
      ".\\adventureswithelephants_dataset\\wavs\\all\\efaf2011a032.wav\n",
      "x: \n",
      "[269 265 261 ... 261 238 218]\n",
      "sr_orig: 44100\n",
      "y: \n",
      "[0 0 0 ... 0 0 0]\n",
      "yb class: [0 0 0 ... 0 0 0]\n"
     ]
    },
    {
     "name": "stderr",
     "output_type": "stream",
     "text": [
      "\r",
      " 92%|█████████████████████████████████████████████████████████████████████████▊      | 565/612 [05:48<00:29,  1.62it/s]"
     ]
    },
    {
     "name": "stdout",
     "output_type": "stream",
     "text": [
      "index: 565\n",
      "row: \n",
      "filename      EFAF2011A032.WAV\n",
      "start                 25683879\n",
      "duration                201696\n",
      "type                    rumble\n",
      "background                   1\n",
      "Name: 565, dtype: object\n",
      "source filename: EFAF2011A032.WAV\n",
      ".\\adventureswithelephants_dataset\\wavs\\all\\efaf2011a032.wav\n",
      "x: \n",
      "[269 265 261 ... 261 238 218]\n",
      "sr_orig: 44100\n",
      "y: \n",
      "[0 0 0 ... 0 0 0]\n",
      "yb class: [0 0 0 ... 0 0 0]\n"
     ]
    },
    {
     "name": "stderr",
     "output_type": "stream",
     "text": [
      "\r",
      " 92%|█████████████████████████████████████████████████████████████████████████▉      | 566/612 [05:49<00:28,  1.62it/s]"
     ]
    },
    {
     "name": "stdout",
     "output_type": "stream",
     "text": [
      "index: 566\n",
      "row: \n",
      "filename      EFAF2011A032.WAV\n",
      "start                 27553649\n",
      "duration                136282\n",
      "type                    rumble\n",
      "background                   1\n",
      "Name: 566, dtype: object\n",
      "source filename: EFAF2011A032.WAV\n",
      ".\\adventureswithelephants_dataset\\wavs\\all\\efaf2011a032.wav\n",
      "x: \n",
      "[269 265 261 ... 261 238 218]\n",
      "sr_orig: 44100\n",
      "y: \n",
      "[  0   0   0 ... -23 -28 -25]\n",
      "yb class: [6 3 5 ... 0 0 0]\n"
     ]
    },
    {
     "name": "stderr",
     "output_type": "stream",
     "text": [
      "\r",
      " 93%|██████████████████████████████████████████████████████████████████████████      | 567/612 [05:50<00:27,  1.62it/s]"
     ]
    },
    {
     "name": "stdout",
     "output_type": "stream",
     "text": [
      "index: 567\n",
      "row: \n",
      "filename      EFAF2011A032.WAV\n",
      "start                 28289563\n",
      "duration                119930\n",
      "type                    rumble\n",
      "background                   1\n",
      "Name: 567, dtype: object\n",
      "source filename: EFAF2011A032.WAV\n",
      ".\\adventureswithelephants_dataset\\wavs\\all\\efaf2011a032.wav\n",
      "x: \n",
      "[269 265 261 ... 261 238 218]\n",
      "sr_orig: 44100\n",
      "y: \n",
      "[38 45 37 ... 10 16 16]\n",
      "yb class: [ 0  0  0 ... 40 41 38]\n"
     ]
    },
    {
     "name": "stderr",
     "output_type": "stream",
     "text": [
      "\r",
      " 93%|██████████████████████████████████████████████████████████████████████████▏     | 568/612 [05:51<00:27,  1.62it/s]"
     ]
    },
    {
     "name": "stdout",
     "output_type": "stream",
     "text": [
      "index: 568\n",
      "row: \n",
      "filename      EFAF2011A032.WAV\n",
      "start                 29343787\n",
      "duration                188540\n",
      "type                    rumble\n",
      "background                   1\n",
      "Name: 568, dtype: object\n",
      "source filename: EFAF2011A032.WAV\n",
      ".\\adventureswithelephants_dataset\\wavs\\all\\efaf2011a032.wav\n",
      "x: \n",
      "[269 265 261 ... 261 238 218]\n",
      "sr_orig: 44100\n",
      "y: \n",
      "[13 14  7 ...  0  0  0]\n",
      "yb class: [ 0 -1  0 ... 10 14 13]\n"
     ]
    },
    {
     "name": "stderr",
     "output_type": "stream",
     "text": [
      "\r",
      " 93%|██████████████████████████████████████████████████████████████████████████▍     | 569/612 [05:52<00:26,  1.62it/s]"
     ]
    },
    {
     "name": "stdout",
     "output_type": "stream",
     "text": [
      "index: 569\n",
      "row: \n",
      "filename      EFAF2011A032.WAV\n",
      "start                 29976569\n",
      "duration                156828\n",
      "type                    rumble\n",
      "background                   1\n",
      "Name: 569, dtype: object\n",
      "source filename: EFAF2011A032.WAV\n",
      ".\\adventureswithelephants_dataset\\wavs\\all\\efaf2011a032.wav\n",
      "x: \n",
      "[269 265 261 ... 261 238 218]\n",
      "sr_orig: 44100\n",
      "y: \n",
      "[-155 -162 -151 ...  164  175  165]\n",
      "yb class: [ -36  -43  -36 ... -152 -160 -152]\n"
     ]
    },
    {
     "name": "stderr",
     "output_type": "stream",
     "text": [
      "\r",
      " 93%|██████████████████████████████████████████████████████████████████████████▌     | 570/612 [05:52<00:26,  1.61it/s]"
     ]
    },
    {
     "name": "stdout",
     "output_type": "stream",
     "text": [
      "index: 570\n",
      "row: \n",
      "filename      EFAF2011A032.WAV\n",
      "start                 30700281\n",
      "duration                210008\n",
      "type                    rumble\n",
      "background                   1\n",
      "Name: 570, dtype: object\n",
      "source filename: EFAF2011A032.WAV\n",
      ".\\adventureswithelephants_dataset\\wavs\\all\\efaf2011a032.wav\n",
      "x: \n",
      "[269 265 261 ... 261 238 218]\n",
      "sr_orig: 44100\n",
      "y: \n",
      "[  40   40   36 ... -410 -434 -401]\n",
      "yb class: [-3 -3 -5 ... 36 41 40]\n"
     ]
    },
    {
     "name": "stderr",
     "output_type": "stream",
     "text": [
      "\r",
      " 93%|██████████████████████████████████████████████████████████████████████████▋     | 571/612 [05:53<00:25,  1.61it/s]"
     ]
    },
    {
     "name": "stdout",
     "output_type": "stream",
     "text": [
      "index: 571\n",
      "row: \n",
      "filename      EFAF2011A032.WAV\n",
      "start                 31153779\n",
      "duration                197832\n",
      "type                    rumble\n",
      "background                   0\n",
      "Name: 571, dtype: object\n",
      "source filename: EFAF2011A032.WAV\n",
      ".\\adventureswithelephants_dataset\\wavs\\all\\efaf2011a032.wav\n",
      "x: \n",
      "[269 265 261 ... 261 238 218]\n",
      "sr_orig: 44100\n",
      "y: \n",
      "[-398 -422 -400 ...  184  203  204]\n"
     ]
    },
    {
     "name": "stderr",
     "output_type": "stream",
     "text": [
      "\r",
      " 93%|██████████████████████████████████████████████████████████████████████████▊     | 572/612 [05:54<00:24,  1.61it/s]"
     ]
    },
    {
     "name": "stdout",
     "output_type": "stream",
     "text": [
      "index: 572\n",
      "row: \n",
      "filename      EFAF2011A032.WAV\n",
      "start                 31354654\n",
      "duration                143047\n",
      "type                    rumble\n",
      "background                   0\n",
      "Name: 572, dtype: object\n",
      "source filename: EFAF2011A032.WAV\n",
      ".\\adventureswithelephants_dataset\\wavs\\all\\efaf2011a032.wav\n",
      "x: \n",
      "[269 265 261 ... 261 238 218]\n",
      "sr_orig: 44100\n",
      "y: \n",
      "[102 107  95 ...   0   0   0]\n"
     ]
    },
    {
     "name": "stderr",
     "output_type": "stream",
     "text": [
      "\r",
      " 94%|██████████████████████████████████████████████████████████████████████████▉     | 573/612 [05:54<00:24,  1.62it/s]"
     ]
    },
    {
     "name": "stdout",
     "output_type": "stream",
     "text": [
      "index: 573\n",
      "row: \n",
      "filename      EFAF2011A032.WAV\n",
      "start                 31497701\n",
      "duration                127833\n",
      "type                    rumble\n",
      "background                   0\n",
      "Name: 573, dtype: object\n",
      "source filename: EFAF2011A032.WAV\n",
      ".\\adventureswithelephants_dataset\\wavs\\all\\efaf2011a032.wav\n",
      "x: \n",
      "[269 265 261 ... 261 238 218]\n",
      "sr_orig: 44100\n",
      "y: \n",
      "[-40 -42 -45 ...  53  54  46]\n"
     ]
    },
    {
     "name": "stderr",
     "output_type": "stream",
     "text": [
      "\r",
      " 94%|███████████████████████████████████████████████████████████████████████████     | 574/612 [05:55<00:23,  1.62it/s]"
     ]
    },
    {
     "name": "stdout",
     "output_type": "stream",
     "text": [
      "index: 574\n",
      "row: \n",
      "filename      EFAF2011A032.WAV\n",
      "start                 31625534\n",
      "duration                149137\n",
      "type                    rumble\n",
      "background                   0\n",
      "Name: 574, dtype: object\n",
      "source filename: EFAF2011A032.WAV\n",
      ".\\adventureswithelephants_dataset\\wavs\\all\\efaf2011a032.wav\n",
      "x: \n",
      "[269 265 261 ... 261 238 218]\n",
      "sr_orig: 44100\n",
      "y: \n",
      "[-144 -154 -145 ...   22   20   16]\n"
     ]
    },
    {
     "name": "stderr",
     "output_type": "stream",
     "text": [
      "\r",
      " 94%|███████████████████████████████████████████████████████████████████████████▏    | 575/612 [05:55<00:22,  1.62it/s]"
     ]
    },
    {
     "name": "stdout",
     "output_type": "stream",
     "text": [
      "index: 575\n",
      "row: \n",
      "filename      EFAF2011A032.WAV\n",
      "start                     3805\n",
      "duration                102740\n",
      "type                    rumble\n",
      "background                   0\n",
      "Name: 575, dtype: object\n",
      "source filename: EFAF2011A032.WAV\n",
      ".\\adventureswithelephants_dataset\\wavs\\all\\efaf2011a032.wav\n",
      "x: \n",
      "[269 265 261 ... 261 238 218]\n",
      "sr_orig: 44100\n",
      "y: \n",
      "[-163 -157 -133 ...  508  528  480]\n"
     ]
    },
    {
     "name": "stderr",
     "output_type": "stream",
     "text": [
      "\r",
      " 94%|███████████████████████████████████████████████████████████████████████████▎    | 576/612 [05:55<00:22,  1.62it/s]"
     ]
    },
    {
     "name": "stdout",
     "output_type": "stream",
     "text": [
      "index: 576\n",
      "row: \n",
      "filename      EFAF2011A032.WAV\n",
      "start                 10058072\n",
      "duration                123727\n",
      "type                    rumble\n",
      "background                   1\n",
      "Name: 576, dtype: object\n",
      "source filename: EFAF2011A032.WAV\n",
      ".\\adventureswithelephants_dataset\\wavs\\all\\efaf2011a032.wav\n",
      "x: \n",
      "[269 265 261 ... 261 238 218]\n",
      "sr_orig: 44100\n",
      "y: \n",
      "[404 420 399 ...  -6  -6  -8]\n",
      "yb class: [-26 -29 -30 ... 398 426 402]\n"
     ]
    },
    {
     "name": "stderr",
     "output_type": "stream",
     "text": [
      "\r",
      " 94%|███████████████████████████████████████████████████████████████████████████▍    | 577/612 [05:56<00:21,  1.62it/s]"
     ]
    },
    {
     "name": "stdout",
     "output_type": "stream",
     "text": [
      "index: 577\n",
      "row: \n",
      "filename      EFAF2011A032.WAV\n",
      "start                 32413014\n",
      "duration                 85457\n",
      "type                    rumble\n",
      "background                   1\n",
      "Name: 577, dtype: object\n",
      "source filename: EFAF2011A032.WAV\n",
      ".\\adventureswithelephants_dataset\\wavs\\all\\efaf2011a032.wav\n",
      "x: \n",
      "[269 265 261 ... 261 238 218]\n",
      "sr_orig: 44100\n",
      "y: \n",
      "[ 0  0  0 ... 60 61 58]\n",
      "yb class: [ 0  0  0 ...  0 -1  0]\n"
     ]
    },
    {
     "name": "stderr",
     "output_type": "stream",
     "text": [
      "\r",
      " 94%|███████████████████████████████████████████████████████████████████████████▌    | 578/612 [05:57<00:21,  1.62it/s]"
     ]
    },
    {
     "name": "stdout",
     "output_type": "stream",
     "text": [
      "index: 578\n",
      "row: \n",
      "filename      EFAF2011A032.WAV\n",
      "start                 33685979\n",
      "duration                229364\n",
      "type                    rumble\n",
      "background                   1\n",
      "Name: 578, dtype: object\n",
      "source filename: EFAF2011A032.WAV\n",
      ".\\adventureswithelephants_dataset\\wavs\\all\\efaf2011a032.wav\n",
      "x: \n",
      "[269 265 261 ... 261 238 218]\n",
      "sr_orig: 44100\n",
      "y: \n",
      "[34 37 32 ...  0  0  0]\n",
      "yb class: [-17 -22 -21 ...  34  42  36]\n"
     ]
    },
    {
     "name": "stderr",
     "output_type": "stream",
     "text": [
      "\r",
      " 95%|███████████████████████████████████████████████████████████████████████████▋    | 579/612 [05:58<00:20,  1.62it/s]"
     ]
    },
    {
     "name": "stdout",
     "output_type": "stream",
     "text": [
      "index: 579\n",
      "row: \n",
      "filename      EFAF2011A033.WAV\n",
      "start                 31944130\n",
      "duration                198318\n",
      "type                    rumble\n",
      "background                   0\n",
      "Name: 579, dtype: object\n",
      "source filename: EFAF2011A033.WAV\n",
      ".\\adventureswithelephants_dataset\\wavs\\all\\efaf2011a033.wav\n",
      "x: \n",
      "[ 19  22  25 ...  56 -23 -79]\n",
      "sr_orig: 44100\n",
      "y: \n",
      "[-4 -7 -4 ...  0  0  0]\n"
     ]
    },
    {
     "name": "stderr",
     "output_type": "stream",
     "text": [
      "\r",
      " 95%|███████████████████████████████████████████████████████████████████████████▊    | 580/612 [05:58<00:19,  1.62it/s]"
     ]
    },
    {
     "name": "stdout",
     "output_type": "stream",
     "text": [
      "index: 580\n",
      "row: \n",
      "filename      EFAF2011A033.WAV\n",
      "start                 33238469\n",
      "duration                336788\n",
      "type                    rumble\n",
      "background                   1\n",
      "Name: 580, dtype: object\n",
      "source filename: EFAF2011A033.WAV\n",
      ".\\adventureswithelephants_dataset\\wavs\\all\\efaf2011a033.wav\n",
      "x: \n",
      "[ 19  22  25 ...  56 -23 -79]\n",
      "sr_orig: 44100\n",
      "y: \n",
      "[ 0  0  0 ... 13 15 14]\n",
      "yb class: [-101 -104  -95 ...    0   -1    0]\n"
     ]
    },
    {
     "name": "stderr",
     "output_type": "stream",
     "text": [
      "\r",
      " 95%|███████████████████████████████████████████████████████████████████████████▉    | 581/612 [05:59<00:19,  1.62it/s]"
     ]
    },
    {
     "name": "stdout",
     "output_type": "stream",
     "text": [
      "index: 581\n",
      "row: \n",
      "filename      EFAF2011A033.WAV\n",
      "start                 33610462\n",
      "duration                 99745\n",
      "type                    rumble\n",
      "background                   0\n",
      "Name: 581, dtype: object\n",
      "source filename: EFAF2011A033.WAV\n",
      ".\\adventureswithelephants_dataset\\wavs\\all\\efaf2011a033.wav\n",
      "x: \n",
      "[ 19  22  25 ...  56 -23 -79]\n",
      "sr_orig: 44100\n",
      "y: \n",
      "[0 0 0 ... 0 0 0]\n"
     ]
    },
    {
     "name": "stderr",
     "output_type": "stream",
     "text": [
      "\r",
      " 95%|████████████████████████████████████████████████████████████████████████████    | 582/612 [05:59<00:18,  1.62it/s]"
     ]
    },
    {
     "name": "stdout",
     "output_type": "stream",
     "text": [
      "index: 582\n",
      "row: \n",
      "filename      EFAF2011A033.WAV\n",
      "start                 32052091\n",
      "duration                366123\n",
      "type                    rumble\n",
      "background                   0\n",
      "Name: 582, dtype: object\n",
      "source filename: EFAF2011A033.WAV\n",
      ".\\adventureswithelephants_dataset\\wavs\\all\\efaf2011a033.wav\n",
      "x: \n",
      "[ 19  22  25 ...  56 -23 -79]\n",
      "sr_orig: 44100\n",
      "y: \n",
      "[-201 -215 -195 ... -596 -634 -606]\n"
     ]
    },
    {
     "name": "stderr",
     "output_type": "stream",
     "text": [
      "\r",
      " 95%|████████████████████████████████████████████████████████████████████████████▏   | 583/612 [06:00<00:17,  1.62it/s]"
     ]
    },
    {
     "name": "stdout",
     "output_type": "stream",
     "text": [
      "index: 583\n",
      "row: \n",
      "filename      EFAF2011A033.WAV\n",
      "start                 32405306\n",
      "duration                113826\n",
      "type                    rumble\n",
      "background                   0\n",
      "Name: 583, dtype: object\n",
      "source filename: EFAF2011A033.WAV\n",
      ".\\adventureswithelephants_dataset\\wavs\\all\\efaf2011a033.wav\n",
      "x: \n",
      "[ 19  22  25 ...  56 -23 -79]\n",
      "sr_orig: 44100\n",
      "y: \n",
      "[ 0  0  0 ... 46 52 52]\n"
     ]
    },
    {
     "name": "stderr",
     "output_type": "stream",
     "text": [
      "\r",
      " 95%|████████████████████████████████████████████████████████████████████████████▎   | 584/612 [06:00<00:17,  1.62it/s]"
     ]
    },
    {
     "name": "stdout",
     "output_type": "stream",
     "text": [
      "index: 584\n",
      "row: \n",
      "filename      EFAF2011A033.WAV\n",
      "start                 32519132\n",
      "duration                251123\n",
      "type                    rumble\n",
      "background                   0\n",
      "Name: 584, dtype: object\n",
      "source filename: EFAF2011A033.WAV\n",
      ".\\adventureswithelephants_dataset\\wavs\\all\\efaf2011a033.wav\n",
      "x: \n",
      "[ 19  22  25 ...  56 -23 -79]\n",
      "sr_orig: 44100\n",
      "y: \n",
      "[-126 -125 -110 ...  164  168  153]\n"
     ]
    },
    {
     "name": "stderr",
     "output_type": "stream",
     "text": [
      "\r",
      " 96%|████████████████████████████████████████████████████████████████████████████▍   | 585/612 [06:01<00:16,  1.62it/s]"
     ]
    },
    {
     "name": "stdout",
     "output_type": "stream",
     "text": [
      "index: 585\n",
      "row: \n",
      "filename      EFAF2011A033.WAV\n",
      "start                 32740920\n",
      "duration                173670\n",
      "type                    rumble\n",
      "background                   0\n",
      "Name: 585, dtype: object\n",
      "source filename: EFAF2011A033.WAV\n",
      ".\\adventureswithelephants_dataset\\wavs\\all\\efaf2011a033.wav\n",
      "x: \n",
      "[ 19  22  25 ...  56 -23 -79]\n",
      "sr_orig: 44100\n",
      "y: \n",
      "[-77 -81 -69 ...   0   0   0]\n"
     ]
    },
    {
     "name": "stderr",
     "output_type": "stream",
     "text": [
      "\r",
      " 96%|████████████████████████████████████████████████████████████████████████████▌   | 586/612 [06:01<00:16,  1.62it/s]"
     ]
    },
    {
     "name": "stdout",
     "output_type": "stream",
     "text": [
      "index: 586\n",
      "row: \n",
      "filename      EFAF2011A033.WAV\n",
      "start                 32855920\n",
      "duration                303928\n",
      "type                    rumble\n",
      "background                   0\n",
      "Name: 586, dtype: object\n",
      "source filename: EFAF2011A033.WAV\n",
      ".\\adventureswithelephants_dataset\\wavs\\all\\efaf2011a033.wav\n",
      "x: \n",
      "[ 19  22  25 ...  56 -23 -79]\n",
      "sr_orig: 44100\n",
      "y: \n",
      "[-27 -28 -21 ...   0   1   0]\n"
     ]
    },
    {
     "name": "stderr",
     "output_type": "stream",
     "text": [
      "\r",
      " 96%|████████████████████████████████████████████████████████████████████████████▋   | 587/612 [06:01<00:15,  1.62it/s]"
     ]
    },
    {
     "name": "stdout",
     "output_type": "stream",
     "text": [
      "index: 587\n",
      "row: \n",
      "filename      EFAF2011A033.WAV\n",
      "start                  1232286\n",
      "duration                164149\n",
      "type                    rumble\n",
      "background                   0\n",
      "Name: 587, dtype: object\n",
      "source filename: EFAF2011A033.WAV\n",
      ".\\adventureswithelephants_dataset\\wavs\\all\\efaf2011a033.wav\n",
      "x: \n",
      "[ 19  22  25 ...  56 -23 -79]\n",
      "sr_orig: 44100\n",
      "y: \n",
      "[   0    0   -2 ... -939 -989 -937]\n"
     ]
    },
    {
     "name": "stderr",
     "output_type": "stream",
     "text": [
      "\r",
      " 96%|████████████████████████████████████████████████████████████████████████████▊   | 588/612 [06:02<00:14,  1.62it/s]"
     ]
    },
    {
     "name": "stdout",
     "output_type": "stream",
     "text": [
      "index: 588\n",
      "row: \n",
      "filename      EFAF2011A033.WAV\n",
      "start                  6293515\n",
      "duration                136789\n",
      "type                    rumble\n",
      "background                   1\n",
      "Name: 588, dtype: object\n",
      "source filename: EFAF2011A033.WAV\n",
      ".\\adventureswithelephants_dataset\\wavs\\all\\efaf2011a033.wav\n",
      "x: \n",
      "[ 19  22  25 ...  56 -23 -79]\n",
      "sr_orig: 44100\n",
      "y: \n",
      "[-163 -177 -161 ...    0    1    0]\n",
      "yb class: [   0    0    0 ... -172 -182 -165]\n"
     ]
    },
    {
     "name": "stderr",
     "output_type": "stream",
     "text": [
      "\r",
      " 96%|████████████████████████████████████████████████████████████████████████████▉   | 589/612 [06:02<00:14,  1.62it/s]"
     ]
    },
    {
     "name": "stdout",
     "output_type": "stream",
     "text": [
      "index: 589\n",
      "row: \n",
      "filename      EFAF2011A033.WAV\n",
      "start                  9433100\n",
      "duration                142006\n",
      "type                    rumble\n",
      "background                   1\n",
      "Name: 589, dtype: object\n",
      "source filename: EFAF2011A033.WAV\n",
      ".\\adventureswithelephants_dataset\\wavs\\all\\efaf2011a033.wav\n",
      "x: \n",
      "[ 19  22  25 ...  56 -23 -79]\n",
      "sr_orig: 44100\n",
      "y: \n",
      "[0 0 0 ... 0 0 0]\n",
      "yb class: [-11 -17  -2 ...   0   0   0]\n"
     ]
    },
    {
     "name": "stderr",
     "output_type": "stream",
     "text": [
      "\r",
      " 96%|█████████████████████████████████████████████████████████████████████████████   | 590/612 [06:03<00:13,  1.62it/s]"
     ]
    },
    {
     "name": "stdout",
     "output_type": "stream",
     "text": [
      "index: 590\n",
      "row: \n",
      "filename      EFAF2011A033.WAV\n",
      "start                 10995183\n",
      "duration                251864\n",
      "type                    rumble\n",
      "background                   1\n",
      "Name: 590, dtype: object\n",
      "source filename: EFAF2011A033.WAV\n",
      ".\\adventureswithelephants_dataset\\wavs\\all\\efaf2011a033.wav\n",
      "x: \n",
      "[ 19  22  25 ...  56 -23 -79]\n",
      "sr_orig: 44100\n",
      "y: \n",
      "[ -8 -10 -12 ...   0   0   0]\n",
      "yb class: [ -2   0  -3 ... -10 -13  -9]\n"
     ]
    },
    {
     "name": "stderr",
     "output_type": "stream",
     "text": [
      "\r",
      " 97%|█████████████████████████████████████████████████████████████████████████████▎  | 591/612 [06:04<00:12,  1.62it/s]"
     ]
    },
    {
     "name": "stdout",
     "output_type": "stream",
     "text": [
      "index: 591\n",
      "row: \n",
      "filename      EFAF2011A033.WAV\n",
      "start                 12396505\n",
      "duration                128613\n",
      "type                    rumble\n",
      "background                   1\n",
      "Name: 591, dtype: object\n",
      "source filename: EFAF2011A033.WAV\n",
      ".\\adventureswithelephants_dataset\\wavs\\all\\efaf2011a033.wav\n",
      "x: \n",
      "[ 19  22  25 ...  56 -23 -79]\n",
      "sr_orig: 44100\n",
      "y: \n",
      "[   0    0    0 ... -102 -161 -188]\n",
      "yb class: [13  6  0 ...  0 -1  0]\n"
     ]
    },
    {
     "name": "stderr",
     "output_type": "stream",
     "text": [
      "\r",
      " 97%|█████████████████████████████████████████████████████████████████████████████▍  | 592/612 [06:05<00:12,  1.62it/s]"
     ]
    },
    {
     "name": "stdout",
     "output_type": "stream",
     "text": [
      "index: 592\n",
      "row: \n",
      "filename      EFAF2011A033.WAV\n",
      "start                 12794186\n",
      "duration                 94766\n",
      "type                    rumble\n",
      "background                   0\n",
      "Name: 592, dtype: object\n",
      "source filename: EFAF2011A033.WAV\n",
      ".\\adventureswithelephants_dataset\\wavs\\all\\efaf2011a033.wav\n",
      "x: \n",
      "[ 19  22  25 ...  56 -23 -79]\n",
      "sr_orig: 44100\n",
      "y: \n",
      "[    0     0     0 ... -1590 -1600 -1453]\n"
     ]
    },
    {
     "name": "stderr",
     "output_type": "stream",
     "text": [
      "\r",
      " 97%|█████████████████████████████████████████████████████████████████████████████▌  | 593/612 [06:05<00:11,  1.62it/s]"
     ]
    },
    {
     "name": "stdout",
     "output_type": "stream",
     "text": [
      "index: 593\n",
      "row: \n",
      "filename      EFAF2011A033.WAV\n",
      "start                 13865282\n",
      "duration                 92491\n",
      "type                    rumble\n",
      "background                   1\n",
      "Name: 593, dtype: object\n",
      "source filename: EFAF2011A033.WAV\n",
      ".\\adventureswithelephants_dataset\\wavs\\all\\efaf2011a033.wav\n",
      "x: \n",
      "[ 19  22  25 ...  56 -23 -79]\n",
      "sr_orig: 44100\n",
      "y: \n",
      "[  0   0   0 ... 262 278 258]\n",
      "yb class: [310 389 433 ...   0   0   0]\n"
     ]
    },
    {
     "name": "stderr",
     "output_type": "stream",
     "text": [
      "\r",
      " 97%|█████████████████████████████████████████████████████████████████████████████▋  | 594/612 [06:06<00:11,  1.62it/s]"
     ]
    },
    {
     "name": "stdout",
     "output_type": "stream",
     "text": [
      "index: 594\n",
      "row: \n",
      "filename      EFAF2011A033.WAV\n",
      "start                 14260943\n",
      "duration                283872\n",
      "type                    rumble\n",
      "background                   0\n",
      "Name: 594, dtype: object\n",
      "source filename: EFAF2011A033.WAV\n",
      ".\\adventureswithelephants_dataset\\wavs\\all\\efaf2011a033.wav\n",
      "x: \n",
      "[ 19  22  25 ...  56 -23 -79]\n",
      "sr_orig: 44100\n",
      "y: \n",
      "[ 18  16  13 ... -30 -35 -29]\n"
     ]
    },
    {
     "name": "stderr",
     "output_type": "stream",
     "text": [
      "\r",
      " 97%|█████████████████████████████████████████████████████████████████████████████▊  | 595/612 [06:06<00:10,  1.62it/s]"
     ]
    },
    {
     "name": "stdout",
     "output_type": "stream",
     "text": [
      "index: 595\n",
      "row: \n",
      "filename      EFAF2011A033.WAV\n",
      "start                 14969850\n",
      "duration                262157\n",
      "type                    rumble\n",
      "background                   0\n",
      "Name: 595, dtype: object\n",
      "source filename: EFAF2011A033.WAV\n",
      ".\\adventureswithelephants_dataset\\wavs\\all\\efaf2011a033.wav\n",
      "x: \n",
      "[ 19  22  25 ...  56 -23 -79]\n",
      "sr_orig: 44100\n",
      "y: \n",
      "[0 0 0 ... 0 1 0]\n"
     ]
    },
    {
     "name": "stderr",
     "output_type": "stream",
     "text": [
      "\r",
      " 97%|█████████████████████████████████████████████████████████████████████████████▉  | 596/612 [06:07<00:09,  1.62it/s]"
     ]
    },
    {
     "name": "stdout",
     "output_type": "stream",
     "text": [
      "index: 596\n",
      "row: \n",
      "filename      EFAF2011A033.WAV\n",
      "start                 15456392\n",
      "duration                204408\n",
      "type                    rumble\n",
      "background                   0\n",
      "Name: 596, dtype: object\n",
      "source filename: EFAF2011A033.WAV\n",
      ".\\adventureswithelephants_dataset\\wavs\\all\\efaf2011a033.wav\n",
      "x: \n",
      "[ 19  22  25 ...  56 -23 -79]\n",
      "sr_orig: 44100\n",
      "y: \n",
      "[ 6 15 25 ...  0 -1  0]\n"
     ]
    },
    {
     "name": "stderr",
     "output_type": "stream",
     "text": [
      "\r",
      " 98%|██████████████████████████████████████████████████████████████████████████████  | 597/612 [06:07<00:09,  1.62it/s]"
     ]
    },
    {
     "name": "stdout",
     "output_type": "stream",
     "text": [
      "index: 597\n",
      "row: \n",
      "filename      EFAF2011A033.WAV\n",
      "start                 15785868\n",
      "duration                106457\n",
      "type                    rumble\n",
      "background                   0\n",
      "Name: 597, dtype: object\n",
      "source filename: EFAF2011A033.WAV\n",
      ".\\adventureswithelephants_dataset\\wavs\\all\\efaf2011a033.wav\n",
      "x: \n",
      "[ 19  22  25 ...  56 -23 -79]\n",
      "sr_orig: 44100\n",
      "y: \n",
      "[78 78 68 ...  0  0  0]\n"
     ]
    },
    {
     "name": "stderr",
     "output_type": "stream",
     "text": [
      "\r",
      " 98%|██████████████████████████████████████████████████████████████████████████████▏ | 598/612 [06:08<00:08,  1.62it/s]"
     ]
    },
    {
     "name": "stdout",
     "output_type": "stream",
     "text": [
      "index: 598\n",
      "row: \n",
      "filename      EFAF2011A033.WAV\n",
      "start                 28390905\n",
      "duration                109041\n",
      "type                    rumble\n",
      "background                   1\n",
      "Name: 598, dtype: object\n",
      "source filename: EFAF2011A033.WAV\n",
      ".\\adventureswithelephants_dataset\\wavs\\all\\efaf2011a033.wav\n",
      "x: \n",
      "[ 19  22  25 ...  56 -23 -79]\n",
      "sr_orig: 44100\n",
      "y: \n",
      "[57 60 57 ...  0  0  0]\n",
      "yb class: [ 0 -1 -3 ... 58 61 59]\n"
     ]
    },
    {
     "name": "stderr",
     "output_type": "stream",
     "text": [
      "\r",
      " 98%|██████████████████████████████████████████████████████████████████████████████▎ | 599/612 [06:08<00:08,  1.62it/s]"
     ]
    },
    {
     "name": "stdout",
     "output_type": "stream",
     "text": [
      "index: 599\n",
      "row: \n",
      "filename      EFAF2011A033.WAV\n",
      "start                 30422076\n",
      "duration                153944\n",
      "type                    rumble\n",
      "background                   1\n",
      "Name: 599, dtype: object\n",
      "source filename: EFAF2011A033.WAV\n",
      ".\\adventureswithelephants_dataset\\wavs\\all\\efaf2011a033.wav\n",
      "x: \n",
      "[ 19  22  25 ...  56 -23 -79]\n",
      "sr_orig: 44100\n",
      "y: \n",
      "[-16 -16 -13 ...   0  -1   0]\n",
      "yb class: [  0   0   0 ... -20 -20 -14]\n"
     ]
    },
    {
     "name": "stderr",
     "output_type": "stream",
     "text": [
      "\r",
      " 98%|██████████████████████████████████████████████████████████████████████████████▍ | 600/612 [06:09<00:07,  1.62it/s]"
     ]
    },
    {
     "name": "stdout",
     "output_type": "stream",
     "text": [
      "index: 600\n",
      "row: \n",
      "filename      EFAF2011A033.WAV\n",
      "start                 30982732\n",
      "duration                238198\n",
      "type                    rumble\n",
      "background                   0\n",
      "Name: 600, dtype: object\n",
      "source filename: EFAF2011A033.WAV\n",
      ".\\adventureswithelephants_dataset\\wavs\\all\\efaf2011a033.wav\n",
      "x: \n",
      "[ 19  22  25 ...  56 -23 -79]\n",
      "sr_orig: 44100\n",
      "y: \n",
      "[0 0 0 ... 0 0 0]\n"
     ]
    },
    {
     "name": "stderr",
     "output_type": "stream",
     "text": [
      "\r",
      " 98%|██████████████████████████████████████████████████████████████████████████████▌ | 601/612 [06:10<00:06,  1.62it/s]"
     ]
    },
    {
     "name": "stdout",
     "output_type": "stream",
     "text": [
      "index: 601\n",
      "row: \n",
      "filename      EFAF2011A033.WAV\n",
      "start                 31015291\n",
      "duration                171364\n",
      "type                    rumble\n",
      "background                   0\n",
      "Name: 601, dtype: object\n",
      "source filename: EFAF2011A033.WAV\n",
      ".\\adventureswithelephants_dataset\\wavs\\all\\efaf2011a033.wav\n",
      "x: \n",
      "[ 19  22  25 ...  56 -23 -79]\n",
      "sr_orig: 44100\n",
      "y: \n",
      "[59 62 57 ...  0  0  0]\n"
     ]
    },
    {
     "name": "stderr",
     "output_type": "stream",
     "text": [
      "\r",
      " 98%|██████████████████████████████████████████████████████████████████████████████▋ | 602/612 [06:10<00:06,  1.62it/s]"
     ]
    },
    {
     "name": "stdout",
     "output_type": "stream",
     "text": [
      "index: 602\n",
      "row: \n",
      "filename      EFAF2011A033.WAV\n",
      "start                 13187664\n",
      "duration                601210\n",
      "type                    rumble\n",
      "background                   0\n",
      "Name: 602, dtype: object\n",
      "source filename: EFAF2011A033.WAV\n",
      ".\\adventureswithelephants_dataset\\wavs\\all\\efaf2011a033.wav\n",
      "x: \n",
      "[ 19  22  25 ...  56 -23 -79]\n",
      "sr_orig: 44100\n",
      "y: \n",
      "[10145  9740  8162 ...   490   571   592]\n"
     ]
    },
    {
     "name": "stderr",
     "output_type": "stream",
     "text": [
      "\r",
      " 99%|██████████████████████████████████████████████████████████████████████████████▊ | 603/612 [06:11<00:05,  1.62it/s]"
     ]
    },
    {
     "name": "stdout",
     "output_type": "stream",
     "text": [
      "index: 603\n",
      "row: \n",
      "filename      EFAF2011A033.WAV\n",
      "start                 31127693\n",
      "duration                167664\n",
      "type                    rumble\n",
      "background                   1\n",
      "Name: 603, dtype: object\n",
      "source filename: EFAF2011A033.WAV\n",
      ".\\adventureswithelephants_dataset\\wavs\\all\\efaf2011a033.wav\n",
      "x: \n",
      "[ 19  22  25 ...  56 -23 -79]\n",
      "sr_orig: 44100\n",
      "y: \n",
      "[-167 -179 -167 ...    0    0    0]\n",
      "yb class: [  17   18   18 ... -166 -176 -167]\n"
     ]
    },
    {
     "name": "stderr",
     "output_type": "stream",
     "text": [
      "\r",
      " 99%|██████████████████████████████████████████████████████████████████████████████▉ | 604/612 [06:11<00:04,  1.62it/s]"
     ]
    },
    {
     "name": "stdout",
     "output_type": "stream",
     "text": [
      "index: 604\n",
      "row: \n",
      "filename      EFAF2011A033.WAV\n",
      "start                 14184826\n",
      "duration                 90185\n",
      "type                    rumble\n",
      "background                   0\n",
      "Name: 604, dtype: object\n",
      "source filename: EFAF2011A033.WAV\n",
      ".\\adventureswithelephants_dataset\\wavs\\all\\efaf2011a033.wav\n",
      "x: \n",
      "[ 19  22  25 ...  56 -23 -79]\n",
      "sr_orig: 44100\n",
      "y: \n",
      "[46 47 42 ...  0 -1  0]\n"
     ]
    },
    {
     "name": "stderr",
     "output_type": "stream",
     "text": [
      "\r",
      " 99%|███████████████████████████████████████████████████████████████████████████████ | 605/612 [06:12<00:04,  1.62it/s]"
     ]
    },
    {
     "name": "stdout",
     "output_type": "stream",
     "text": [
      "index: 605\n",
      "row: \n",
      "filename      EFAF2011A033.WAV\n",
      "start                 14855177\n",
      "duration                177357\n",
      "type                    rumble\n",
      "background                   1\n",
      "Name: 605, dtype: object\n",
      "source filename: EFAF2011A033.WAV\n",
      ".\\adventureswithelephants_dataset\\wavs\\all\\efaf2011a033.wav\n",
      "x: \n",
      "[ 19  22  25 ...  56 -23 -79]\n",
      "sr_orig: 44100\n",
      "y: \n",
      "[105 108  99 ... -40 -44 -38]\n",
      "yb class: [  0   0   0 ... 102 112 102]\n"
     ]
    },
    {
     "name": "stderr",
     "output_type": "stream",
     "text": [
      "\r",
      " 99%|███████████████████████████████████████████████████████████████████████████████▏| 606/612 [06:13<00:03,  1.62it/s]"
     ]
    },
    {
     "name": "stdout",
     "output_type": "stream",
     "text": [
      "index: 606\n",
      "row: \n",
      "filename      EFAF2011A033.WAV\n",
      "start                 17029237\n",
      "duration                307381\n",
      "type                    rumble\n",
      "background                   1\n",
      "Name: 606, dtype: object\n",
      "source filename: EFAF2011A033.WAV\n",
      ".\\adventureswithelephants_dataset\\wavs\\all\\efaf2011a033.wav\n",
      "x: \n",
      "[ 19  22  25 ...  56 -23 -79]\n",
      "sr_orig: 44100\n",
      "y: \n",
      "[-17 -18 -15 ...  20  28  26]\n",
      "yb class: [ 58  63  55 ... -26 -27 -14]\n"
     ]
    },
    {
     "name": "stderr",
     "output_type": "stream",
     "text": [
      "\r",
      " 99%|███████████████████████████████████████████████████████████████████████████████▎| 607/612 [06:14<00:03,  1.62it/s]"
     ]
    },
    {
     "name": "stdout",
     "output_type": "stream",
     "text": [
      "index: 607\n",
      "row: \n",
      "filename      EFAF2011A033.WAV\n",
      "start                 17463635\n",
      "duration                154958\n",
      "type                    rumble\n",
      "background                   0\n",
      "Name: 607, dtype: object\n",
      "source filename: EFAF2011A033.WAV\n",
      ".\\adventureswithelephants_dataset\\wavs\\all\\efaf2011a033.wav\n",
      "x: \n",
      "[ 19  22  25 ...  56 -23 -79]\n",
      "sr_orig: 44100\n",
      "y: \n",
      "[  2   8  11 ... 159 181 177]\n"
     ]
    },
    {
     "name": "stderr",
     "output_type": "stream",
     "text": [
      "\r",
      " 99%|███████████████████████████████████████████████████████████████████████████████▍| 608/612 [06:14<00:02,  1.62it/s]"
     ]
    },
    {
     "name": "stdout",
     "output_type": "stream",
     "text": [
      "index: 608\n",
      "row: \n",
      "filename      EFAF2011A033.WAV\n",
      "start                 17885328\n",
      "duration                109236\n",
      "type                    rumble\n",
      "background                   0\n",
      "Name: 608, dtype: object\n",
      "source filename: EFAF2011A033.WAV\n",
      ".\\adventureswithelephants_dataset\\wavs\\all\\efaf2011a033.wav\n",
      "x: \n",
      "[ 19  22  25 ...  56 -23 -79]\n",
      "sr_orig: 44100\n",
      "y: \n",
      "[ 0  0  0 ... 23 25 25]\n"
     ]
    },
    {
     "name": "stderr",
     "output_type": "stream",
     "text": [
      "\r",
      "100%|███████████████████████████████████████████████████████████████████████████████▌| 609/612 [06:15<00:01,  1.62it/s]"
     ]
    },
    {
     "name": "stdout",
     "output_type": "stream",
     "text": [
      "index: 609\n",
      "row: \n",
      "filename      EFAF2011A033.WAV\n",
      "start                 18852644\n",
      "duration                256573\n",
      "type                    rumble\n",
      "background                   1\n",
      "Name: 609, dtype: object\n",
      "source filename: EFAF2011A033.WAV\n",
      ".\\adventureswithelephants_dataset\\wavs\\all\\efaf2011a033.wav\n",
      "x: \n",
      "[ 19  22  25 ...  56 -23 -79]\n",
      "sr_orig: 44100\n",
      "y: \n",
      "[-41 -20   0 ...  79  80  74]\n",
      "yb class: [202 213 200 ... -81 -65 -41]\n"
     ]
    },
    {
     "name": "stderr",
     "output_type": "stream",
     "text": [
      "\r",
      "100%|███████████████████████████████████████████████████████████████████████████████▋| 610/612 [06:16<00:01,  1.62it/s]"
     ]
    },
    {
     "name": "stdout",
     "output_type": "stream",
     "text": [
      "index: 610\n",
      "row: \n",
      "filename      EFAF2011A033.WAV\n",
      "start                 28492211\n",
      "duration                112274\n",
      "type                    rumble\n",
      "background                   1\n",
      "Name: 610, dtype: object\n",
      "source filename: EFAF2011A033.WAV\n",
      ".\\adventureswithelephants_dataset\\wavs\\all\\efaf2011a033.wav\n",
      "x: \n",
      "[ 19  22  25 ...  56 -23 -79]\n",
      "sr_orig: 44100\n",
      "y: \n",
      "[-50 -48 -44 ...  30  36  32]\n",
      "yb class: [ 25  31  28 ... -42 -50 -50]\n"
     ]
    },
    {
     "name": "stderr",
     "output_type": "stream",
     "text": [
      "\r",
      "100%|███████████████████████████████████████████████████████████████████████████████▊| 611/612 [06:17<00:00,  1.62it/s]"
     ]
    },
    {
     "name": "stdout",
     "output_type": "stream",
     "text": [
      "index: 611\n",
      "row: \n",
      "filename      EFAF2011A033.WAV\n",
      "start                 28575662\n",
      "duration                 95582\n",
      "type                    rumble\n",
      "background                   0\n",
      "Name: 611, dtype: object\n",
      "source filename: EFAF2011A033.WAV\n",
      ".\\adventureswithelephants_dataset\\wavs\\all\\efaf2011a033.wav\n",
      "x: \n",
      "[ 19  22  25 ...  56 -23 -79]\n",
      "sr_orig: 44100\n",
      "y: \n",
      "[16 20 18 ...  0  0  0]\n"
     ]
    },
    {
     "name": "stderr",
     "output_type": "stream",
     "text": [
      "100%|████████████████████████████████████████████████████████████████████████████████| 612/612 [06:18<00:00,  1.62it/s]\n"
     ]
    }
   ],
   "source": [
    "# now we open the source file, cut out the piece that is annotated and save that as a 5 second sample\n",
    "import sys, csv, os, shutil\n",
    "import numpy as np\n",
    "\n",
    "# we will also resample the original recordings\n",
    "#import librosa\n",
    "import soundfile as sf\n",
    "import resampy\n",
    "\n",
    "from tqdm import tqdm\n",
    "\n",
    "# this is the sample reate we want\n",
    "sr_target = 44100\n",
    "\n",
    "# source dataset location\n",
    "source_path = './AdventuresWithElephants_Dataset/wavs/all'\n",
    "dest_path = \"./AdventuresWithElephants_Dataset/wavs/samples/\"\n",
    "\n",
    "fileList = []\n",
    "\n",
    "# for each annotation do\n",
    "for index,row in tqdm(df.iterrows(), total=len(df)):\n",
    "    print(\"index: \" + str(index))\n",
    "    print(\"row: \")\n",
    "    print(row)\n",
    "    # map mat file contents\n",
    "    source_filename = row.filename\n",
    "    start = row.start\n",
    "    duration = row.duration\n",
    "    category = row.type\n",
    "    print(\"source filename: \" + source_filename)\n",
    "    # read source wav \n",
    "    src_file_path = os.path.normcase(\"%s/%s\" % (source_path,source_filename))\n",
    "    print(src_file_path)\n",
    "    # check if sourcefile exists\n",
    "    if os.path.exists(src_file_path):\n",
    "        # resample\n",
    "        # Load audio file at its native sampling rate\n",
    "        #x, sr_orig = librosa.load(src_file_path, mono=True, sr=None, dtype=np.int16)\n",
    "        x, sr_orig = sf.read(src_file_path, dtype='int16')\n",
    "        print(\"x: \")\n",
    "        print(x)\n",
    "        print(\"sr_orig: \" + str(sr_orig))\n",
    "        # We can resample this to any sampling rate we like, say 16000 Hz\n",
    "        # define 5 seconds\n",
    "        s5 = 10 * sr_orig\n",
    "        # clip from start to next 5 seconds resample in target sample rate\n",
    "        y = resampy.resample(x[start:start+s5+1], sr_orig, sr_target)\n",
    "        print(\"y: \")\n",
    "        print(y)\n",
    "        # check if previous 5 secs is background\n",
    "        # if so create a background sample\n",
    "        if (row.background == 1):\n",
    "            # clip from start to next 5 seconds resample in target sample rate\n",
    "            yb = np.int16(resampy.resample(x[start-s5:start+1], sr_orig, sr_target))\n",
    "            print(\"yb class: \" + str(yb))\n",
    "            # make destination path\n",
    "            b_dst_fname = \"Background\" + source_filename.split('.')[0] + '-' + str(round((start-s5)/sr_orig)) + '.' + source_filename.split('.')[1]\n",
    "            # add meta data to list\n",
    "            fileList.append([b_dst_fname,'background'])\n",
    "            # path\n",
    "            b_dst_file_path = \"%s/%s\" % (dest_path,b_dst_fname)\n",
    "            # write it back\n",
    "            #librosa.output.write_wav(b_dst_file_path, yb, sr_target)\n",
    "            sf.write(b_dst_file_path, yb, sr_target)\n",
    "        # make destination path\n",
    "        dest_filename = \"Elephant\" + source_filename.split('.')[0] + '-' + str(round(start/sr_orig)) + '.' + source_filename.split('.')[1]\n",
    "        dst_file_path = \"%s/%s\" % (dest_path,dest_filename)\n",
    "\n",
    "        # create meta data file\n",
    "        fileList.append([dest_filename,category])\n",
    "\n",
    "        # write it back\n",
    "        #librosa.output.write_wav(dst_file_path, y, sr_target)\n",
    "        sf.write(dst_file_path, y, sr_target)\n",
    "        #break;\n",
    "    else:\n",
    "        print('File %s not found.' % source_filename)\n",
    "        break;"
   ]
  },
  {
   "cell_type": "code",
   "execution_count": 11,
   "metadata": {},
   "outputs": [],
   "source": [
    "# save the metadata for later\n",
    "fileList\n",
    "md = pd.DataFrame(fileList, columns=[\"filename\", \"category\"])  \n",
    "md.to_csv('./dataset/meta-data-elephant-adventures.csv',index=False)"
   ]
  },
  {
   "cell_type": "code",
   "execution_count": 12,
   "metadata": {},
   "outputs": [
    {
     "data": {
      "text/html": [
       "<div>\n",
       "<style scoped>\n",
       "    .dataframe tbody tr th:only-of-type {\n",
       "        vertical-align: middle;\n",
       "    }\n",
       "\n",
       "    .dataframe tbody tr th {\n",
       "        vertical-align: top;\n",
       "    }\n",
       "\n",
       "    .dataframe thead th {\n",
       "        text-align: right;\n",
       "    }\n",
       "</style>\n",
       "<table border=\"1\" class=\"dataframe\">\n",
       "  <thead>\n",
       "    <tr style=\"text-align: right;\">\n",
       "      <th></th>\n",
       "      <th>filename</th>\n",
       "      <th>category</th>\n",
       "    </tr>\n",
       "  </thead>\n",
       "  <tbody>\n",
       "    <tr>\n",
       "      <th>912</th>\n",
       "      <td>BackgroundEFAF2011A033-417.WAV</td>\n",
       "      <td>background</td>\n",
       "    </tr>\n",
       "    <tr>\n",
       "      <th>913</th>\n",
       "      <td>ElephantEFAF2011A033-427.WAV</td>\n",
       "      <td>rumble</td>\n",
       "    </tr>\n",
       "    <tr>\n",
       "      <th>914</th>\n",
       "      <td>BackgroundEFAF2011A033-636.WAV</td>\n",
       "      <td>background</td>\n",
       "    </tr>\n",
       "    <tr>\n",
       "      <th>915</th>\n",
       "      <td>ElephantEFAF2011A033-646.WAV</td>\n",
       "      <td>rumble</td>\n",
       "    </tr>\n",
       "    <tr>\n",
       "      <th>916</th>\n",
       "      <td>ElephantEFAF2011A033-648.WAV</td>\n",
       "      <td>rumble</td>\n",
       "    </tr>\n",
       "  </tbody>\n",
       "</table>\n",
       "</div>"
      ],
      "text/plain": [
       "                           filename    category\n",
       "912  BackgroundEFAF2011A033-417.WAV  background\n",
       "913    ElephantEFAF2011A033-427.WAV      rumble\n",
       "914  BackgroundEFAF2011A033-636.WAV  background\n",
       "915    ElephantEFAF2011A033-646.WAV      rumble\n",
       "916    ElephantEFAF2011A033-648.WAV      rumble"
      ]
     },
     "execution_count": 12,
     "metadata": {},
     "output_type": "execute_result"
    }
   ],
   "source": [
    "md.tail()"
   ]
  },
  {
   "cell_type": "code",
   "execution_count": 13,
   "metadata": {},
   "outputs": [],
   "source": [
    "# copy all wavs to audio dir in serval\n",
    "import glob\n",
    "import shutil\n",
    "import os\n",
    "\n",
    "src_dir = \"../../data/AdventuresWithElephants_Dataset/wavs/samples/\"\n",
    "dst_dir = \"./dataset/audio/\"\n",
    "for jpgfile in glob.iglob(os.path.join(src_dir, \"*.WAV\")):\n",
    "    shutil.copy(jpgfile, dst_dir)\n"
   ]
  },
  {
   "cell_type": "code",
   "execution_count": null,
   "metadata": {},
   "outputs": [],
   "source": []
  }
 ],
 "metadata": {
  "kernelspec": {
   "display_name": "Python 3",
   "language": "python",
   "name": "python3"
  },
  "language_info": {
   "codemirror_mode": {
    "name": "ipython",
    "version": 3
   },
   "file_extension": ".py",
   "mimetype": "text/x-python",
   "name": "python",
   "nbconvert_exporter": "python",
   "pygments_lexer": "ipython3",
   "version": "3.6.4"
  }
 },
 "nbformat": 4,
 "nbformat_minor": 2
}
