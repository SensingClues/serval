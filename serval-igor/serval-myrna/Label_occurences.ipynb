{
 "cells": [
  {
   "cell_type": "code",
   "execution_count": 1,
   "metadata": {},
   "outputs": [
    {
     "name": "stderr",
     "output_type": "stream",
     "text": [
      "C:\\ProgramData\\Anaconda3\\lib\\site-packages\\h5py\\__init__.py:36: FutureWarning: Conversion of the second argument of issubdtype from `float` to `np.floating` is deprecated. In future, it will be treated as `np.float64 == np.dtype(float).type`.\n",
      "  from ._conv import register_converters as _register_converters\n"
     ]
    }
   ],
   "source": [
    "import numpy as np\n",
    "import pandas as pd\n",
    "\n",
    "import tensorflow as tf\n",
    "from tensorflow import gfile\n",
    "\n",
    "from collections import Counter\n",
    "from itertools import combinations"
   ]
  },
  {
   "cell_type": "code",
   "execution_count": 2,
   "metadata": {},
   "outputs": [],
   "source": [
    "## Lees csv-files in\n",
    "csv_path = 'csv_files/'\n",
    "mid_to_label_new = pd.read_csv(str(csv_path) + 'class_labels_indices_amsterdam.csv', quotechar = '\"')\n",
    "balanced_train_segments = pd.read_csv(str(csv_path) + 'balanced_train_segments.csv', sep = \";\")\n",
    "unbalanced_train_segments = pd.read_csv(str(csv_path) + 'unbalanced_train_segments.csv', sep = \";\")"
   ]
  },
  {
   "cell_type": "code",
   "execution_count": 3,
   "metadata": {},
   "outputs": [],
   "source": [
    "## Verkrijg alle labels en labelcombinaties (uit csv-file)\n",
    "def getLabelOccurences(segments_file):\n",
    "    \n",
    "    ## Houd labels bij en label-combinaties (elke combi uit een example)\n",
    "    labels = []\n",
    "    label_combinations = []\n",
    "\n",
    "    # for each row\n",
    "    for i in range(segments_file.shape[0]):\n",
    "\n",
    "        # labels uit de example\n",
    "        label_combination = []\n",
    "        mids = segments_file.loc[i, 'positive_labels'].split(\",\")\n",
    "        \n",
    "        # for each m-id in a string\n",
    "        for mid in mids:\n",
    "            new_label = mid_to_label_new.loc[mid_to_label_new['mid']==str(mid), 'index']\n",
    "            \n",
    "            if(new_label.shape[0]>0):\n",
    "                labels.extend(new_label)\n",
    "                new_label_combi = str(new_label.values[0])\n",
    "                label_combination.extend(new_label_combi)\n",
    "    \n",
    "        if len(label_combination)>0:\n",
    "            label_combinations.append(label_combination)\n",
    "    \n",
    "    return(labels, label_combinations)"
   ]
  },
  {
   "cell_type": "code",
   "execution_count": 5,
   "metadata": {},
   "outputs": [],
   "source": [
    "## Kies of je de balanced of unbalanced set wilt lezen\n",
    "#bal_labels, bal_label_combinations = getLabelOccurences(balanced_train_segments)\n",
    "unbal_labels, unbal_label_combinations = getLabelOccurences(unbalanced_train_segments)"
   ]
  },
  {
   "cell_type": "code",
   "execution_count": 6,
   "metadata": {
    "scrolled": true
   },
   "outputs": [
    {
     "name": "stdout",
     "output_type": "stream",
     "text": [
      "Speech  :  999421\n",
      "Music  :  999366\n",
      "Vehicle  :  126411\n",
      "Musical instrument  :  116405\n",
      "Car  :  40978\n",
      "Animal  :  39326\n",
      "Domestic animals, pets  :  19082\n",
      "Boat, Water vehicle  :  13090\n",
      "Accelerating, revving, vroom  :  11827\n",
      "Motor vehicle (road)  :  8891\n",
      "Motor vehicle (road)  :  8891\n",
      "Rail transport  :  8691\n",
      "Tools  :  7906\n",
      "Motorcycle  :  7140\n",
      "Idling  :  6089\n",
      "Medium engine (mid frequency)  :  6012\n",
      "Emergency vehicle  :  5445\n",
      "Aircraft  :  5254\n",
      "Bus  :  5171\n",
      "Heavy engine (low frequency)  :  4113\n",
      "Gunshot, gunfire  :  3869\n",
      "Car passing by  :  3684\n",
      "Vehicle horn, car horn, honking  :  3587\n",
      "Police car (siren)  :  3538\n",
      "Power tool  :  3141\n",
      "Fire engine, fire truck (siren)  :  3078\n",
      "Conversation  :  2144\n",
      "Ambulance (siren)  :  1805\n",
      "Machine gun  :  1737\n",
      "Chainsaw  :  1667\n",
      "Traffic noise, roadway noise  :  1566\n",
      "Engine starting  :  988\n",
      "Hammer  :  385\n",
      "Train wheels squealing  :  382\n",
      "Jackhammer  :  161\n"
     ]
    }
   ],
   "source": [
    "## Houd totale aantal bij\n",
    "sum_occur = 0\n",
    "all_labels = unbal_labels # bal_labels\n",
    "\n",
    "## Laat # voorkomens per label zien\n",
    "cnt_labels = Counter(all_labels)\n",
    "for i in cnt_labels.most_common(len(all_labels)):\n",
    "    sum_occur = sum_occur + i[1]\n",
    "    print(mid_to_label_new.loc[np.int(i[0])]['display_name'], ' : ', str(i[1]))"
   ]
  },
  {
   "cell_type": "code",
   "execution_count": 7,
   "metadata": {},
   "outputs": [],
   "source": [
    "label_combinations = unbal_label_combinations\n",
    "\n",
    "## Bereken aantal voorkomens per combinatie\n",
    "## Tellen van lijsten in lijsten is lastig, vandaar dat ik er strings van maak: [0,4] wordt [\"0_4\"]\n",
    "str_combis = []\n",
    "\n",
    "for combi in label_combinations:\n",
    "    str_combi = [str(i) for i in combi]\n",
    "    str_combi = \"_\".join(str_combi)\n",
    "    str_combis.append(str_combi)"
   ]
  },
  {
   "cell_type": "code",
   "execution_count": null,
   "metadata": {},
   "outputs": [],
   "source": [
    "## Geef meest voorkomende combinaties\n",
    "\n",
    "cnt_label_combinations = Counter(str_combis)\n",
    "for label_combination in cnt_label_combinations.most_common(20):\n",
    "    label_names = []\n",
    "    label_list = label_combination[0].split(\"_\")\n",
    "    for i in label_list:\n",
    "        label_names.append(str(mid_to_label_new.loc[np.int(i)]['display_name']))\n",
    "    label_names = ', '.join(label_names)\n",
    "    print(label_names,': ', label_combination[1])"
   ]
  },
  {
   "cell_type": "code",
   "execution_count": null,
   "metadata": {},
   "outputs": [],
   "source": [
    "## Code die kolom toevoegt aan label-csv (proportion) en deze in de forloop vult\n",
    "\n",
    "mid_to_label_new[\"proportion\"] = 0\n",
    "\n",
    "for i in range(mid_to_label_new.shape[0]):\n",
    "    nr_occur = cnt_labels[i]\n",
    "    mid_to_label_new.loc[i,\"proportion\"] = round(nr_occur/sum_occur,8)"
   ]
  },
  {
   "cell_type": "code",
   "execution_count": null,
   "metadata": {},
   "outputs": [],
   "source": [
    "## Schrijf bestandje weg\n",
    "mid_to_label_new.to_csv(str(csv_path) + \"class_labels_indices_proportions.csv\", sep = \";\")"
   ]
  },
  {
   "cell_type": "code",
   "execution_count": null,
   "metadata": {},
   "outputs": [],
   "source": [
    "###############################################################################\n",
    "####\n",
    "###############################################################################\n",
    "#### Hieronder staat andere code (deze code telt de labels vanuit tf-records)"
   ]
  },
  {
   "cell_type": "code",
   "execution_count": 11,
   "metadata": {},
   "outputs": [],
   "source": [
    "## Folder met tf-records\n",
    "train_data_pattern = 'tfrecords/train_all_data_new_temp/*.tfrecord'\n",
    "test_data_pattern = 'tfrecords/test_data_new/*.tfrecord'"
   ]
  },
  {
   "cell_type": "code",
   "execution_count": 16,
   "metadata": {},
   "outputs": [],
   "source": [
    "## Hieronder worden labels geteld door het lezen van tf-records\n",
    "all_labels = []\n",
    "label_combinations = []"
   ]
  },
  {
   "cell_type": "code",
   "execution_count": 17,
   "metadata": {},
   "outputs": [],
   "source": [
    "def getLabelsFromTfRecord(tfrecords_filename):\n",
    "    \n",
    "    ## Iterator that goes through all examples of tf-record\n",
    "    record_iterator = tf.python_io.tf_record_iterator(path=tfrecords_filename)\n",
    "    \n",
    "    for string_record in record_iterator:\n",
    "        \n",
    "        ## Take one example\n",
    "        example = tf.train.SequenceExample()\n",
    "        example.ParseFromString(string_record)\n",
    " \n",
    "        ## Get labels\n",
    "        new_labels = example.context.feature['labels'].int64_list.value\n",
    "       \n",
    "        for label in new_labels:\n",
    "            all_labels.append(int(label))\n",
    "        label_combinations.append(new_labels)"
   ]
  },
  {
   "cell_type": "code",
   "execution_count": 18,
   "metadata": {
    "scrolled": true
   },
   "outputs": [],
   "source": [
    "## Labels uit tf-records\n",
    "files = gfile.Glob(train_data_pattern)\n",
    "\n",
    "for file in files:\n",
    "   \n",
    "    getLabelsFromTfRecord(file)"
   ]
  },
  {
   "cell_type": "code",
   "execution_count": 19,
   "metadata": {},
   "outputs": [
    {
     "name": "stdout",
     "output_type": "stream",
     "text": [
      "Music  :  383247\n",
      "Speech  :  382078\n",
      "Vehicle  :  48564\n",
      "Musical instrument  :  45706\n",
      "Car  :  16007\n",
      "Animal  :  14847\n",
      "Domestic animals, pets  :  7582\n",
      "Boat, Water vehicle  :  4891\n",
      "Accelerating, revving, vroom  :  4677\n",
      "Motor vehicle (road)  :  3580\n",
      "Rail transport  :  3136\n",
      "Tools  :  2879\n",
      "Medium engine (mid frequency)  :  2754\n",
      "Idling  :  2718\n",
      "Motorcycle  :  2497\n",
      "Aircraft  :  1947\n",
      "Emergency vehicle  :  1911\n",
      "Bus  :  1852\n",
      "Gunshot, gunfire  :  1639\n",
      "Heavy engine (low frequency)  :  1607\n",
      "Car passing by  :  1564\n",
      "Vehicle horn, car horn, honking  :  1322\n",
      "Police car (siren)  :  1202\n",
      "Power tool  :  1154\n",
      "Fire engine, fire truck (siren)  :  1096\n",
      "Conversation  :  861\n",
      "Ambulance (siren)  :  641\n",
      "Machine gun  :  579\n",
      "Chainsaw  :  576\n",
      "Traffic noise, roadway noise  :  568\n",
      "Engine starting  :  443\n",
      "Gunshot SC9mm  :  206\n",
      "Hammer  :  135\n",
      "Train wheels squealing  :  128\n",
      "Gunshot SC556  :  77\n",
      "Jackhammer  :  60\n"
     ]
    }
   ],
   "source": [
    "## Houd totale aantal bij\n",
    "sum_occur = 0\n",
    "\n",
    "## Laat # voorkomens per label zien\n",
    "cnt_labels = Counter(all_labels)\n",
    "for i in cnt_labels.most_common(len(all_labels)):\n",
    "    sum_occur = sum_occur + i[1]\n",
    "    print(mid_to_label_new.loc[np.int(i[0])]['display_name'], ' : ', str(i[1]))"
   ]
  },
  {
   "cell_type": "code",
   "execution_count": 20,
   "metadata": {},
   "outputs": [],
   "source": [
    "#label_combinations = getLabelCombinations(balanced_train_segments)\n",
    "#label_combinations = getLabelCombinations(unbalanced_train_segments)\n",
    "\n",
    "## Bereken aantal voorkomens per combinatie\n",
    "## Tellen van lijsten in lijsten is lastig, vandaar dat ik er strings van maak: [0,4] wordt [\"0_4\"]\n",
    "str_combis = []\n",
    "\n",
    "for combi in label_combinations:\n",
    "    str_combi = [str(i) for i in combi]\n",
    "    str_combi = \"_\".join(str_combi)\n",
    "    str_combis.append(str_combi)"
   ]
  },
  {
   "cell_type": "code",
   "execution_count": 21,
   "metadata": {},
   "outputs": [
    {
     "name": "stdout",
     "output_type": "stream",
     "text": [
      "Speech :  235200\n",
      "Music :  219667\n",
      "Speech, Music :  112806\n",
      "Music, Musical instrument :  39481\n",
      "Vehicle :  10143\n",
      "Speech, Vehicle :  6463\n",
      "Speech, Music, Musical instrument :  5332\n",
      "Vehicle, Car :  5072\n",
      "Animal :  3951\n",
      "Speech, Animal :  3695\n",
      "Animal, Domestic animals, pets :  3041\n",
      "Speech, Vehicle, Car :  2808\n",
      "Speech, Animal, Domestic animals, pets :  2623\n",
      "Vehicle, Boat, Water vehicle :  1467\n",
      "Vehicle, Car, Accelerating, revving, vroom :  1442\n",
      "Speech, Vehicle, Boat, Water vehicle :  1375\n",
      "Rail transport :  1308\n",
      "Boat, Water vehicle :  1298\n",
      "Vehicle, Motorcycle :  1274\n",
      "Vehicle, Rail transport :  1270\n"
     ]
    }
   ],
   "source": [
    "## Geef meest voorkomende combinaties\n",
    "\n",
    "cnt_label_combinations = Counter(str_combis)\n",
    "for label_combination in cnt_label_combinations.most_common(20):\n",
    "    label_names = []\n",
    "    label_list = label_combination[0].split(\"_\")\n",
    "    for i in label_list:\n",
    "        label_names.append(str(mid_to_label_new.loc[np.int(i)]['display_name']))\n",
    "    label_names = ', '.join(label_names)\n",
    "    print(label_names,': ', label_combination[1])"
   ]
  },
  {
   "cell_type": "code",
   "execution_count": 22,
   "metadata": {},
   "outputs": [
    {
     "data": {
      "text/plain": [
       "944731"
      ]
     },
     "execution_count": 22,
     "metadata": {},
     "output_type": "execute_result"
    }
   ],
   "source": [
    "sum_occur"
   ]
  },
  {
   "cell_type": "code",
   "execution_count": null,
   "metadata": {},
   "outputs": [],
   "source": []
  }
 ],
 "metadata": {
  "kernelspec": {
   "display_name": "Python 3",
   "language": "python",
   "name": "python3"
  },
  "language_info": {
   "codemirror_mode": {
    "name": "ipython",
    "version": 3
   },
   "file_extension": ".py",
   "mimetype": "text/x-python",
   "name": "python",
   "nbconvert_exporter": "python",
   "pygments_lexer": "ipython3",
   "version": "3.6.4"
  }
 },
 "nbformat": 4,
 "nbformat_minor": 2
}
