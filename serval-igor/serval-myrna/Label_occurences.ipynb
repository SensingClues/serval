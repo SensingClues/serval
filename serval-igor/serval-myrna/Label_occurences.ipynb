{
 "cells": [
  {
   "cell_type": "code",
   "execution_count": 1,
   "metadata": {},
   "outputs": [],
   "source": [
    "import numpy as np\n",
    "import pandas as pd\n",
    "\n",
    "from collections import Counter\n",
    "from itertools import combinations"
   ]
  },
  {
   "cell_type": "code",
   "execution_count": 140,
   "metadata": {},
   "outputs": [],
   "source": [
    "## Lees csv-files in\n",
    "csv_path = 'csv_files/'\n",
    "mid_to_label_new = pd.read_csv(str(csv_path) + 'class_labels_indices_amsterdam.csv', quotechar = '\"')\n",
    "balanced_train_segments = pd.read_csv(str(csv_path) + 'balanced_train_segments.csv', sep = \";\")\n",
    "unbalanced_train_segments = pd.read_csv(str(csv_path) + 'unbalanced_train_segments.csv', sep = \";\")"
   ]
  },
  {
   "cell_type": "code",
   "execution_count": 99,
   "metadata": {},
   "outputs": [],
   "source": [
    "## Verkrijg alle labelcombinaties\n",
    "def getLabels(segments_file):\n",
    "    \n",
    "    labels = []\n",
    "\n",
    "    # for each row\n",
    "    for i in range(segments_file.shape[0]):\n",
    "\n",
    "        mids = segments_file.loc[i, 'positive_labels'].split(\",\")\n",
    "        \n",
    "        # for each m-id in a string\n",
    "        for mid in mids:\n",
    "            new_label = mid_to_label_new.loc[mid_to_label_new['mid']==str(mid), 'index']\n",
    "            \n",
    "            if(new_label.shape[0]>0):\n",
    "                labels.extend(new_label)\n",
    "\n",
    "    return(labels)"
   ]
  },
  {
   "cell_type": "code",
   "execution_count": 151,
   "metadata": {},
   "outputs": [],
   "source": [
    "#bal_labels = getLabels(balanced_train_segments)\n",
    "unbal_labels = getLabels(unbalanced_train_segments)"
   ]
  },
  {
   "cell_type": "code",
   "execution_count": 155,
   "metadata": {},
   "outputs": [
    {
     "data": {
      "text/plain": [
       "2471241"
      ]
     },
     "execution_count": 155,
     "metadata": {},
     "output_type": "execute_result"
    }
   ],
   "source": [
    "sum_occur"
   ]
  },
  {
   "cell_type": "code",
   "execution_count": 157,
   "metadata": {
    "scrolled": false
   },
   "outputs": [
    {
     "name": "stdout",
     "output_type": "stream",
     "text": [
      "Speech  :  999421\n",
      "Music  :  999366\n",
      "Vehicle  :  126411\n",
      "Musical instrument  :  116405\n",
      "Car  :  40978\n",
      "Animal  :  39326\n",
      "Domestic animals, pets  :  19082\n",
      "Boat, Water vehicle  :  13090\n",
      "Accelerating, revving, vroom  :  11827\n",
      "Motor vehicle (road)  :  8891\n",
      "Motor vehicle (road)  :  8891\n",
      "Rail transport  :  8691\n",
      "Tools  :  7906\n",
      "Motorcycle  :  7140\n",
      "Idling  :  6089\n",
      "Medium engine (mid frequency)  :  6012\n",
      "Emergency vehicle  :  5445\n",
      "Aircraft  :  5254\n",
      "Bus  :  5171\n",
      "Heavy engine (low frequency)  :  4113\n",
      "Gunshot, gunfire  :  3869\n",
      "Car passing by  :  3684\n",
      "Vehicle horn, car horn, honking  :  3587\n",
      "Police car (siren)  :  3538\n",
      "Power tool  :  3141\n",
      "Fire engine, fire truck (siren)  :  3078\n",
      "Conversation  :  2144\n",
      "Ambulance (siren)  :  1805\n",
      "Machine gun  :  1737\n",
      "Chainsaw  :  1667\n",
      "Traffic noise, roadway noise  :  1566\n",
      "Engine starting  :  988\n",
      "Hammer  :  385\n",
      "Train wheels squealing  :  382\n",
      "Jackhammer  :  161\n"
     ]
    }
   ],
   "source": [
    "## Houd totale aantal bij\n",
    "sum_occur = 0\n",
    "all_labels = unbal_labels\n",
    "\n",
    "## Laat # voorkomens per label zien\n",
    "cnt_labels = Counter(all_labels)\n",
    "for i in cnt_labels.most_common(len(all_labels)):\n",
    "    sum_occur = sum_occur + i[1]\n",
    "    print(mid_to_label_new.loc[np.int(i[0])]['display_name'], ' : ', str(i[1]))"
   ]
  },
  {
   "cell_type": "code",
   "execution_count": 153,
   "metadata": {},
   "outputs": [],
   "source": [
    "mid_to_label_new[\"proportion\"] = 0\n",
    "\n",
    "for i in range(mid_to_label_new.shape[0]):\n",
    "    nr_occur = cnt_labels[i]\n",
    "    mid_to_label_new.loc[i,\"proportion\"] = round(nr_occur/sum_occur,8)"
   ]
  },
  {
   "cell_type": "code",
   "execution_count": 154,
   "metadata": {},
   "outputs": [],
   "source": [
    "mid_to_label_new.to_csv(str(csv_path) + \"class_labels_indices_proportions.csv\", sep = \";\")"
   ]
  },
  {
   "cell_type": "code",
   "execution_count": null,
   "metadata": {},
   "outputs": [],
   "source": [
    "## Hierna komt de code om combinaties van labels te zien"
   ]
  },
  {
   "cell_type": "code",
   "execution_count": 72,
   "metadata": {},
   "outputs": [],
   "source": [
    "## Verkrijg alle labelcombinaties\n",
    "def getLabelCombinations(segments_file):\n",
    "    \n",
    "    label_combinations = []\n",
    "\n",
    "    # for each row\n",
    "    for i in range(segments_file.shape[0]):\n",
    "\n",
    "        label_combination = []\n",
    "        mids = segments_file.loc[i, 'positive_labels'].split(\",\")\n",
    "\n",
    "        # for each m-id in a string\n",
    "        for mid in mids:\n",
    "            new_label = mid_to_label_new.loc[mid_to_label_new['mid']==str(mid), 'index']\n",
    "\n",
    "            if(new_label.shape[0]>0):\n",
    "                new_labels = str(new_label.values[0])\n",
    "                label_combination.extend(new_label)\n",
    "\n",
    "        if len(label_combination)>0:\n",
    "            label_combinations.append(label_combination)\n",
    "\n",
    "    return(label_combinations)"
   ]
  },
  {
   "cell_type": "code",
   "execution_count": 73,
   "metadata": {},
   "outputs": [],
   "source": [
    "label_combinations = getLabelCombinations(balanced_train_segments)\n",
    "#label_combinations = getLabelCombinations(unbalanced_train_segments)"
   ]
  },
  {
   "cell_type": "code",
   "execution_count": 74,
   "metadata": {},
   "outputs": [],
   "source": [
    "## Bereken aantal voorkomens per combinatie\n",
    "cnt_label_combinations = Counter(seq[i:j]\n",
    "                   for seq in map(tuple, label_combinations)\n",
    "                   for i, j in combinations(range(len(seq) + 1), 2))"
   ]
  },
  {
   "cell_type": "code",
   "execution_count": 75,
   "metadata": {},
   "outputs": [
    {
     "name": "stdout",
     "output_type": "stream",
     "text": [
      "Music :  5146\n",
      "Speech :  2241\n",
      "Vehicle :  714\n",
      "Musical instrument :  497\n",
      "Music, Musical instrument :  482\n",
      "Domestic animals, pets :  410\n",
      "Music, Speech :  406\n",
      "Boat, Water vehicle :  242\n",
      "Rail transport :  186\n",
      "Gunshot, gunfire :  177\n",
      "Vehicle, Speech :  168\n",
      "Domestic animals, pets, Speech :  144\n",
      "Emergency vehicle :  141\n",
      "Animal :  123\n",
      "Car :  121\n",
      "Tools :  93\n",
      "Vehicle, Car :  79\n",
      "Music, Musical instrument, Speech :  77\n",
      "Musical instrument, Speech :  77\n",
      "Ambulance (siren) :  69\n",
      "Speech, Animal :  64\n",
      "Motor vehicle (road) :  63\n",
      "Motor vehicle (road), Motor vehicle (road) :  63\n",
      "Motor vehicle (road) :  63\n",
      "Fire engine, fire truck (siren) :  60\n",
      "Fire engine, fire truck (siren), Emergency vehicle :  60\n",
      "Motorcycle :  58\n",
      "Accelerating, revving, vroom :  57\n",
      "Ambulance (siren), Emergency vehicle :  56\n",
      "Idling :  55\n",
      "Bus :  54\n",
      "Music, Vehicle :  51\n",
      "Music, Domestic animals, pets :  47\n",
      "Domestic animals, pets, Animal :  47\n",
      "Conversation :  47\n",
      "Accelerating, revving, vroom, Vehicle :  42\n",
      "Motor vehicle (road), Motor vehicle (road), Vehicle :  39\n",
      "Motor vehicle (road), Vehicle :  39\n",
      "Domestic animals, pets, Speech, Animal :  38\n",
      "Chainsaw :  35\n",
      "Speech, Car :  35\n",
      "Vehicle horn, car horn, honking :  35\n",
      "Jackhammer :  33\n",
      "Vehicle, Speech, Car :  32\n",
      "Bus, Vehicle :  30\n",
      "Aircraft :  29\n",
      "Motorcycle, Vehicle :  25\n",
      "Traffic noise, roadway noise :  23\n",
      "Music, Domestic animals, pets, Speech :  22\n",
      "Idling, Vehicle :  20\n",
      "Vehicle, Aircraft :  17\n",
      "Accelerating, revving, vroom, Vehicle, Car :  16\n",
      "Motor vehicle (road), Motor vehicle (road), Vehicle, Speech :  15\n",
      "Motor vehicle (road), Vehicle, Speech :  15\n",
      "Vehicle, Vehicle horn, car horn, honking :  14\n",
      "Medium engine (mid frequency) :  13\n",
      "Vehicle horn, car horn, honking, Speech :  13\n",
      "Vehicle, Traffic noise, roadway noise :  13\n",
      "Music, Vehicle, Speech :  11\n",
      "Hammer :  10\n",
      "Ambulance (siren), Fire engine, fire truck (siren) :  10\n",
      "Ambulance (siren), Fire engine, fire truck (siren), Emergency vehicle :  10\n",
      "Conversation, Music :  9\n",
      "Machine gun :  9\n",
      "Vehicle, Speech, Aircraft :  9\n",
      "Speech, Aircraft :  9\n",
      "Idling, Accelerating, revving, vroom :  7\n",
      "Car, Medium engine (mid frequency) :  7\n",
      "Jackhammer, Speech :  7\n",
      "Music, Speech, Animal :  7\n",
      "Speech, Traffic noise, roadway noise :  7\n",
      "Motor vehicle (road), Motor vehicle (road), Accelerating, revving, vroom :  7\n",
      "Motor vehicle (road), Accelerating, revving, vroom :  7\n",
      "Chainsaw, Tools :  7\n",
      "Accelerating, revving, vroom, Vehicle, Speech :  7\n",
      "Gunshot, gunfire, Machine gun :  7\n",
      "Vehicle, Car, Medium engine (mid frequency) :  6\n",
      "Vehicle, Speech, Traffic noise, roadway noise :  6\n",
      "Rail transport, Vehicle :  6\n",
      "Music, Domestic animals, pets, Animal :  5\n",
      "Idling, Accelerating, revving, vroom, Vehicle :  5\n",
      "Motor vehicle (road), Motor vehicle (road), Music :  5\n",
      "Motor vehicle (road), Music :  5\n",
      "Motor vehicle (road), Motor vehicle (road), Accelerating, revving, vroom, Vehicle :  5\n",
      "Motor vehicle (road), Accelerating, revving, vroom, Vehicle :  5\n",
      "Motor vehicle (road), Motor vehicle (road), Motorcycle :  5\n",
      "Motor vehicle (road), Motorcycle :  5\n",
      "Vehicle, Vehicle horn, car horn, honking, Speech :  5\n",
      "Motorcycle, Vehicle, Speech :  5\n",
      "Vehicle, Medium engine (mid frequency) :  4\n",
      "Idling, Vehicle, Speech :  4\n",
      "Motorcycle, Idling :  4\n",
      "Police car (siren) :  4\n",
      "Music, Domestic animals, pets, Speech, Animal :  4\n",
      "Traffic noise, roadway noise, Car :  4\n",
      "Accelerating, revving, vroom, Vehicle, Speech, Car :  4\n",
      "Bus, Vehicle, Speech :  4\n",
      "Music, Vehicle, Car :  4\n",
      "Tools, Speech :  4\n",
      "Bus, Music :  4\n",
      "Motor vehicle (road), Motor vehicle (road), Bus :  4\n",
      "Motor vehicle (road), Bus :  4\n",
      "Motorcycle, Music :  4\n",
      "Motorcycle, Music, Vehicle :  4\n",
      "Boat, Water vehicle, Vehicle :  4\n",
      "Accelerating, revving, vroom, Vehicle, Car, Medium engine (mid frequency) :  3\n",
      "Music, Animal :  3\n",
      "Motor vehicle (road), Motor vehicle (road), Vehicle, Speech, Traffic noise, roadway noise :  3\n",
      "Motor vehicle (road), Vehicle, Speech, Traffic noise, roadway noise :  3\n",
      "Jackhammer, Music :  3\n",
      "Motor vehicle (road), Motor vehicle (road), Music, Vehicle :  3\n",
      "Motor vehicle (road), Music, Vehicle :  3\n",
      "Heavy engine (low frequency) :  3\n",
      "Emergency vehicle, Police car (siren) :  3\n",
      "Music, Vehicle, Vehicle horn, car horn, honking :  3\n",
      "Vehicle, Traffic noise, roadway noise, Car :  3\n",
      "Idling, Vehicle, Car :  3\n",
      "Motorcycle, Accelerating, revving, vroom :  3\n",
      "Emergency vehicle, Vehicle :  3\n",
      "Motor vehicle (road), Motor vehicle (road), Motorcycle, Vehicle :  3\n",
      "Motor vehicle (road), Motorcycle, Vehicle :  3\n",
      "Motor vehicle (road), Motor vehicle (road), Bus, Vehicle :  3\n",
      "Motor vehicle (road), Bus, Vehicle :  3\n",
      "Motor vehicle (road), Motor vehicle (road), Vehicle, Car :  3\n",
      "Motor vehicle (road), Vehicle, Car :  3\n",
      "Jackhammer, Vehicle :  3\n",
      "Idling, Speech :  2\n",
      "Jackhammer, Music, Speech :  2\n",
      "Bus, Vehicle, Traffic noise, roadway noise :  2\n",
      "Accelerating, revving, vroom, Car :  2\n",
      "Motorcycle, Accelerating, revving, vroom, Vehicle :  2\n",
      "Motor vehicle (road), Motor vehicle (road), Idling :  2\n",
      "Motor vehicle (road), Idling :  2\n",
      "Accelerating, revving, vroom, Vehicle, Traffic noise, roadway noise :  2\n",
      "Conversation, Speech :  2\n",
      "Chainsaw, Speech :  2\n",
      "Fire engine, fire truck (siren), Emergency vehicle, Vehicle :  2\n",
      "Chainsaw, Music :  2\n",
      "Jackhammer, Tools :  2\n",
      "Tools, Power tool :  2\n",
      "Power tool :  2\n",
      "Bus, Music, Vehicle :  2\n",
      "Boat, Water vehicle, Speech :  2\n",
      "Motor vehicle (road), Motor vehicle (road), Vehicle, Speech, Car :  2\n",
      "Motor vehicle (road), Vehicle, Speech, Car :  2\n"
     ]
    }
   ],
   "source": [
    "## Haal labelnaam op en print aantal voorkomens (met top x)\n",
    "for label_combination in cnt_label_combinations.most_common(1000):\n",
    "    \n",
    "    if(label_combination[1]<2): # vanaf 2x voorkomen\n",
    "        break;\n",
    "        \n",
    "    label_names = []\n",
    "    for i in label_combination[0]:\n",
    "        label_names.append(str(mid_to_label_new.loc[np.int(i)]['display_name']))\n",
    "    label_names = ', '.join(label_names)\n",
    "    print(label_names,': ', label_combination[1])"
   ]
  },
  {
   "cell_type": "code",
   "execution_count": null,
   "metadata": {},
   "outputs": [],
   "source": []
  }
 ],
 "metadata": {
  "kernelspec": {
   "display_name": "Python 3",
   "language": "python",
   "name": "python3"
  },
  "language_info": {
   "codemirror_mode": {
    "name": "ipython",
    "version": 3
   },
   "file_extension": ".py",
   "mimetype": "text/x-python",
   "name": "python",
   "nbconvert_exporter": "python",
   "pygments_lexer": "ipython3",
   "version": "3.6.4"
  }
 },
 "nbformat": 4,
 "nbformat_minor": 2
}
