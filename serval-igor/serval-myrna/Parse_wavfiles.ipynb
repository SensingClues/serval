{
 "cells": [
  {
   "cell_type": "code",
   "execution_count": null,
   "metadata": {},
   "outputs": [],
   "source": [
    "## Import packages\n",
    "import os\n",
    "import csv\n",
    "import numpy as np\n",
    "import pandas as pd\n",
    "from scipy.io import wavfile\n",
    "\n",
    "import tensorflow as tf\n",
    "from tensorflow import gfile\n",
    "\n",
    "import vggish_input\n",
    "import vggish_postprocess\n",
    "import vggish_params\n",
    "import vggish_slim"
   ]
  },
  {
   "cell_type": "code",
   "execution_count": null,
   "metadata": {},
   "outputs": [],
   "source": [
    "wavfile_path = 'elephants/angela_elephants'\n",
    "#wavfile_path = 'elephants/angela_background'\n",
    "\n",
    "labels_csv = \"models/class_labels_indices_jungle.csv\""
   ]
  },
  {
   "cell_type": "code",
   "execution_count": null,
   "metadata": {},
   "outputs": [],
   "source": [
    "flags = tf.app.flags\n",
    "FLAGS = flags.FLAGS\n",
    "tf.app.flags.DEFINE_string('f', '', 'kernel')\n",
    "\n",
    "flags.DEFINE_string(\n",
    "    'model_checkpoint', 'models/models_jungle/model.ckpt',\n",
    "    'Path to the VGGish checkpoint file.')"
   ]
  },
  {
   "cell_type": "code",
   "execution_count": null,
   "metadata": {},
   "outputs": [],
   "source": [
    "## Read csv-file with labels\n",
    "class_map = {}\n",
    "with open(labels_csv) as f:\n",
    "    next(f)  # skip header\n",
    "    reader = csv.reader(f)\n",
    "    for row in reader:\n",
    "        class_map[int(row[0])] = row[2]"
   ]
  },
  {
   "cell_type": "code",
   "execution_count": null,
   "metadata": {},
   "outputs": [],
   "source": [
    "class_map"
   ]
  },
  {
   "cell_type": "code",
   "execution_count": null,
   "metadata": {},
   "outputs": [],
   "source": [
    "## Ik verdeel het parsen van een wav-file naar embeddings in stappen:\n",
    "# Stap 1a: lezen van wav-file, input is array met samples die db aanduiden. Ook sample rate (per sec) wordt gelezen\n",
    "# Stap 1b: Bij 2d array (stereo, ipv mono) bereken gemiddelde, daarna normaliseren (delen door 32.768)\n",
    "# Stap 2: Bepaal examples in vorm [batch size, num frames, num bands].\n",
    "    # Hierbij worden voor verschillende batches (omdat alles tegelijk niet in 1x in NN kan),\n",
    "    # een log mel spectrogram gemaakt (in vorm [num_frames, num_bands])\n",
    "# Stap 3: Bepaal features: nu wordt de embedding laag gemaakt (PCA-components, discreet maken etc)\n",
    "    # Hiervoor worden model-parameters opgehaald die eerder zijn opgeslagen\n",
    "# Stap 4: Maken van predictions"
   ]
  },
  {
   "cell_type": "code",
   "execution_count": null,
   "metadata": {
    "scrolled": true
   },
   "outputs": [],
   "source": [
    "def getPredictions(examples_batch):    \n",
    "    ## Stap 3\n",
    "    with tf.Graph().as_default(), tf.Session() as sess:\n",
    "        # Define the model: load the checkpoint and locate input and output tensors\n",
    "        # Input: [batch_size, num_frames, num_bands] \n",
    "        # where [num_frames, num_bands] represents log-mel-scale spectrogram\n",
    "        # Output: embeddings\n",
    "        vggish_slim.define_vggish_slim(training=False)\n",
    "        vggish_slim.load_vggish_slim_checkpoint(sess, vggish_params.VGGISH_MODEL)\n",
    "\n",
    "        pca_params = np.load(vggish_params.VGGISH_PCA_PARAMS)\n",
    "        pca_matrix = pca_params[vggish_params.PCA_EIGEN_VECTORS_NAME]\n",
    "        pca_means = pca_params[vggish_params.PCA_MEANS_NAME].reshape(-1, 1)\n",
    "\n",
    "        features_tensor = sess.graph.get_tensor_by_name(\n",
    "            vggish_params.VGGISH_INPUT_TENSOR_NAME)\n",
    "        embedding_tensor = sess.graph.get_tensor_by_name(\n",
    "            vggish_params.VGGISH_OUTPUT_TENSOR_NAME)\n",
    "        vggish_slim.load_youtube_model(sess, FLAGS.model_checkpoint)\n",
    "\n",
    "        # Run inference and postprocessing\n",
    "        [embedding_batch] = sess.run([embedding_tensor],\n",
    "                                     feed_dict={features_tensor: examples_batch})\n",
    "\n",
    "        postprocessed_batch = np.dot(\n",
    "                pca_matrix, (embedding_batch.T - pca_means)\n",
    "            ).T\n",
    "        #print(postprocessed_batch)\n",
    "\n",
    "        num_frames = np.minimum(postprocessed_batch.shape[0], vggish_params.MAX_FRAMES)\n",
    "        data = vggish_postprocess.resize(postprocessed_batch, 0, vggish_params.MAX_FRAMES)\n",
    "        data = np.expand_dims(data, 0)\n",
    "        num_frames = np.expand_dims(num_frames, 0)\n",
    "\n",
    "        input_tensor = sess.graph.get_collection(\"input_batch_raw\")[0]\n",
    "        num_frames_tensor = sess.graph.get_collection(\"num_frames\")[0]\n",
    "        predictions_tensor = sess.graph.get_collection(\"predictions\")[0]\n",
    "\n",
    "        ## Stap 4\n",
    "        predictions_val, = sess.run(\n",
    "            [predictions_tensor],\n",
    "            feed_dict={\n",
    "                input_tensor: data,\n",
    "                num_frames_tensor: num_frames\n",
    "            })\n",
    "    return(predictions_val)"
   ]
  },
  {
   "cell_type": "code",
   "execution_count": null,
   "metadata": {},
   "outputs": [],
   "source": [
    "## Filter predictions (give top 20 where p>0.1)\n",
    "def filterPredictions(predictions_val):\n",
    "    count = vggish_params.PREDICTIONS_COUNT_LIMIT\n",
    "    hit = vggish_params.PREDICTIONS_HIT_LIMIT\n",
    "    top_indices = np.argpartition(predictions_val[0], -count)[-count:]\n",
    "    line = ((class_map[i], float(predictions_val[0][i])) for i in top_indices if predictions_val[0][i] > hit)\n",
    "    predictions = sorted(line, key=lambda p: -p[1])\n",
    "    print(predictions)\n",
    "    return(predictions)"
   ]
  },
  {
   "cell_type": "code",
   "execution_count": null,
   "metadata": {},
   "outputs": [],
   "source": [
    "all_predictions = []"
   ]
  },
  {
   "cell_type": "code",
   "execution_count": null,
   "metadata": {},
   "outputs": [],
   "source": [
    "## Read wav files\n",
    "files = gfile.Glob(str(wavfile_path + \"/*.wav\"))\n",
    "\n",
    "for file in files:\n",
    "    ## Stap 1 en 2\n",
    "    ## This function reads the wav file and converts the samples into np arrays of [batch size, num frames, num bands]\n",
    "    examples_batch = vggish_input.wavfile_to_examples(file)\n",
    "    print(examples_batch.shape)\n",
    "    predictions = getPredictions(examples_batch)\n",
    "    predictions = filterPredictions(predictions)\n",
    "    if(len(predictions)>0):\n",
    "        all_predictions.append(predictions[0][0])"
   ]
  },
  {
   "cell_type": "code",
   "execution_count": null,
   "metadata": {},
   "outputs": [],
   "source": [
    "from collections import Counter\n",
    "\n",
    "sum_occur = 0\n",
    "cnt_predictions = Counter(all_predictions)\n",
    "\n",
    "for i in cnt_predictions.most_common(10):\n",
    "    print(i)"
   ]
  },
  {
   "cell_type": "code",
   "execution_count": null,
   "metadata": {},
   "outputs": [],
   "source": []
  }
 ],
 "metadata": {
  "kernelspec": {
   "display_name": "Python 3",
   "language": "python",
   "name": "python3"
  },
  "language_info": {
   "codemirror_mode": {
    "name": "ipython",
    "version": 3
   },
   "file_extension": ".py",
   "mimetype": "text/x-python",
   "name": "python",
   "nbconvert_exporter": "python",
   "pygments_lexer": "ipython3",
   "version": "3.6.4"
  }
 },
 "nbformat": 4,
 "nbformat_minor": 2
}
