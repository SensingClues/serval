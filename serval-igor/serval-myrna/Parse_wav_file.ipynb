{
 "cells": [
  {
   "cell_type": "code",
   "execution_count": 1,
   "metadata": {
    "collapsed": true
   },
   "outputs": [],
   "source": [
    "## Import packages\n",
    "import os\n",
    "import csv\n",
    "import numpy as np\n",
    "from scipy.io import wavfile\n",
    "\n",
    "import tensorflow as tf\n",
    "from tensorflow import flags\n",
    "\n",
    "import vggish_input\n",
    "import vggish_postprocess\n",
    "import vggish_params\n",
    "import vggish_slim"
   ]
  },
  {
   "cell_type": "code",
   "execution_count": 2,
   "metadata": {
    "collapsed": true
   },
   "outputs": [],
   "source": [
    "FLAGS = flags.FLAGS\n",
    "\n",
    "flags.DEFINE_string(\n",
    "    'wav_file', 'wav_files/07063137_car.wav',\n",
    "    'Path to a wav file. Should contain signed 16-bit PCM samples.')\n",
    "\n",
    "flags.DEFINE_string(\n",
    "    'pca_params', 'models/vggish_pca_params.npz',\n",
    "    'Path to the VGGish PCA parameters file.')\n",
    "\n",
    "flags.DEFINE_string(\n",
    "    'checkpoint', 'models/vggish_model.ckpt',\n",
    "    'Path to the VGGish checkpoint file.')"
   ]
  },
  {
   "cell_type": "code",
   "execution_count": 3,
   "metadata": {
    "collapsed": true
   },
   "outputs": [],
   "source": [
    "## Ik verdeel het parsen van een wav-file naar embeddings in stappen:\n",
    "# Stap 1a: lezen van wav-file, input is array met samples die db aanduiden. Ook sample rate (per sec) wordt gelezen\n",
    "# Stap 1b: Bij 2d array (stereo, ipv mono) bereken gemiddelde, daarna normaliseren (delen door 32.768)\n",
    "# Stap 2: Bepaal examples in vorm [batch size, num frames, num bands].\n",
    "    # Hierbij worden voor verschillende batches (omdat alles tegelijk niet in 1x in NN kan),\n",
    "    # een log mel spectrogram gemaakt (in vorm [num_frames, num_bands])\n",
    "# Stap 3: Bepaal features: nu wordt de embedding laag gemaakt (PCA-components, discreet maken etc)\n",
    "    # Hiervoor worden model-parameters opgehaald die eerder zijn opgeslagen\n",
    "# Stap 4: Maken van predictions"
   ]
  },
  {
   "cell_type": "code",
   "execution_count": 4,
   "metadata": {
    "scrolled": false
   },
   "outputs": [
    {
     "name": "stderr",
     "output_type": "stream",
     "text": [
      "C:\\Users\\myrna\\Anaconda3\\lib\\site-packages\\scipy\\io\\wavfile.py:273: WavFileWarning: Chunk (non-data) not understood, skipping it.\n",
      "  WavFileWarning)\n"
     ]
    },
    {
     "name": "stdout",
     "output_type": "stream",
     "text": [
      "(31, 96, 64)\n"
     ]
    }
   ],
   "source": [
    "## Stap 1 en 2\n",
    "## This function reads the wav file and converts the samples into np arrays of [batch size, num frames, num bands]\n",
    "examples_batch = vggish_input.wavfile_to_examples(FLAGS.wav_file)\n",
    "print(examples_batch.shape)"
   ]
  },
  {
   "cell_type": "code",
   "execution_count": 5,
   "metadata": {
    "collapsed": true
   },
   "outputs": [],
   "source": [
    "## Read csv-file with labels\n",
    "class_map = {}\n",
    "with open(vggish_params.CLASS_LABELS_INDICES) as f:\n",
    "    next(f)  # skip header\n",
    "    reader = csv.reader(f)\n",
    "    for row in reader:\n",
    "        class_map[int(row[0])] = row[2]"
   ]
  },
  {
   "cell_type": "code",
   "execution_count": 6,
   "metadata": {
    "scrolled": true
   },
   "outputs": [
    {
     "name": "stdout",
     "output_type": "stream",
     "text": [
      "INFO:tensorflow:Restoring parameters from models/vggish_model.ckpt\n",
      "INFO:tensorflow:Restoring parameters from models/youtube_model.ckpt\n"
     ]
    }
   ],
   "source": [
    "## Stap 3\n",
    "with tf.Graph().as_default(), tf.Session() as sess:\n",
    "    # Define the model: load the checkpoint and locate input and output tensors\n",
    "    # Input: [batch_size, num_frames, num_bands] \n",
    "    # where [num_frames, num_bands] represents log-mel-scale spectrogram\n",
    "    # Output: embeddings\n",
    "    vggish_slim.define_vggish_slim(training=False)\n",
    "    vggish_slim.load_vggish_slim_checkpoint(sess, FLAGS.checkpoint)\n",
    "    \n",
    "    pca_params = np.load(vggish_params.VGGISH_PCA_PARAMS)\n",
    "    pca_matrix = pca_params[vggish_params.PCA_EIGEN_VECTORS_NAME]\n",
    "    pca_means = pca_params[vggish_params.PCA_MEANS_NAME].reshape(-1, 1)\n",
    "    \n",
    "    features_tensor = sess.graph.get_tensor_by_name(\n",
    "        vggish_params.VGGISH_INPUT_TENSOR_NAME)\n",
    "    embedding_tensor = sess.graph.get_tensor_by_name(\n",
    "        vggish_params.VGGISH_OUTPUT_TENSOR_NAME)\n",
    "    vggish_slim.load_youtube_model(sess, vggish_params.YOUTUBE_CHECKPOINT_FILE)\n",
    "    \n",
    "    # Run inference and postprocessing\n",
    "    [embedding_batch] = sess.run([embedding_tensor],\n",
    "                                 feed_dict={features_tensor: examples_batch})\n",
    "    \n",
    "    postprocessed_batch = np.dot(\n",
    "            pca_matrix, (embedding_batch.T - pca_means)\n",
    "        ).T\n",
    "    #print(postprocessed_batch)\n",
    "    \n",
    "    num_frames = np.minimum(postprocessed_batch.shape[0], vggish_params.MAX_FRAMES)\n",
    "    data = vggish_postprocess.resize(postprocessed_batch, 0, vggish_params.MAX_FRAMES)\n",
    "    data = np.expand_dims(data, 0)\n",
    "    num_frames = np.expand_dims(num_frames, 0)\n",
    "    \n",
    "    input_tensor = sess.graph.get_collection(\"input_batch_raw\")[0]\n",
    "    num_frames_tensor = sess.graph.get_collection(\"num_frames\")[0]\n",
    "    predictions_tensor = sess.graph.get_collection(\"predictions\")[0]\n",
    "    \n",
    "    ## Stap 4\n",
    "    predictions_val, = sess.run(\n",
    "        [predictions_tensor],\n",
    "        feed_dict={\n",
    "            input_tensor: data,\n",
    "            num_frames_tensor: num_frames\n",
    "        })"
   ]
  },
  {
   "cell_type": "code",
   "execution_count": 7,
   "metadata": {
    "collapsed": true
   },
   "outputs": [],
   "source": [
    "## Filter predictions (give top 20 where p>0.1)\n",
    "count = vggish_params.PREDICTIONS_COUNT_LIMIT\n",
    "hit = vggish_params.PREDICTIONS_HIT_LIMIT\n",
    "top_indices = np.argpartition(predictions_val[0], -count)[-count:]\n",
    "line = ((class_map[i], float(predictions_val[0][i])) for i in top_indices if predictions_val[0][i] > hit)\n",
    "predictions = sorted(line, key=lambda p: -p[1])"
   ]
  },
  {
   "cell_type": "code",
   "execution_count": 8,
   "metadata": {},
   "outputs": [
    {
     "name": "stdout",
     "output_type": "stream",
     "text": [
      "[('Vehicle', 0.9999919533729553), ('Music', 0.7836809158325195), ('Car', 0.7723241448402405), ('Bus', 0.7148009538650513), ('Toot', 0.4626094698905945)]\n"
     ]
    }
   ],
   "source": [
    "print(predictions)"
   ]
  },
  {
   "cell_type": "code",
   "execution_count": null,
   "metadata": {
    "collapsed": true
   },
   "outputs": [],
   "source": []
  }
 ],
 "metadata": {
  "kernelspec": {
   "display_name": "Python 3",
   "language": "python",
   "name": "python3"
  },
  "language_info": {
   "codemirror_mode": {
    "name": "ipython",
    "version": 3
   },
   "file_extension": ".py",
   "mimetype": "text/x-python",
   "name": "python",
   "nbconvert_exporter": "python",
   "pygments_lexer": "ipython3",
   "version": "3.6.3"
  }
 },
 "nbformat": 4,
 "nbformat_minor": 2
}
