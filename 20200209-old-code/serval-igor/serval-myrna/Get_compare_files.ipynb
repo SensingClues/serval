{
 "cells": [
  {
   "cell_type": "code",
   "execution_count": null,
   "metadata": {
    "scrolled": true
   },
   "outputs": [],
   "source": [
    "## De functie die tf-records leest en ze uiteindelijk weer wegschrijft (maar dan met minder labels) heet readTfRecord\n",
    "## Deze functie roept andere functies aan: getLabels en getLabelIndices\n",
    "\n",
    "import numpy as np\n",
    "import pandas as pd\n",
    "import re\n",
    "import os\n",
    "import random\n",
    "from collections import Counter\n",
    "\n",
    "import tensorflow as tf\n",
    "from tensorflow import gfile"
   ]
  },
  {
   "cell_type": "code",
   "execution_count": null,
   "metadata": {},
   "outputs": [],
   "source": [
    "## Paden naar originele tf-records: bal_train, unbal_train en eval\n",
    "bal_train_data_pattern = \"tfrecords/bal_train/*.tfrecord\"\n",
    "unbal_train_data_pattern = \"tfrecords/unbal_train/*.tfrecord\"\n",
    "eval_data_pattern = \"tfrecords/eval/*.tfrecord\""
   ]
  },
  {
   "cell_type": "code",
   "execution_count": null,
   "metadata": {},
   "outputs": [],
   "source": [
    "## Oorspronkelijke csv-file\n",
    "mid_to_label_old = pd.read_csv(\"csv_files/class_labels_indices.csv\", sep=\",\")\n",
    "target_label = 500 # silence"
   ]
  },
  {
   "cell_type": "code",
   "execution_count": null,
   "metadata": {},
   "outputs": [],
   "source": [
    "def findTfRecord(tfrecords_filename):\n",
    "    \n",
    "    ## Maak 2 writers (train en test) die nieuw tf-records schrijft\n",
    "    \n",
    "    record_name = tfrecords_filename.split('\\\\')[-1]\n",
    "  \n",
    "    ## Iterator that goes through all examples of tf-record\n",
    "    record_iterator = tf.python_io.tf_record_iterator(path=tfrecords_filename)\n",
    "\n",
    "    \n",
    "    for string_record in record_iterator:\n",
    "        \n",
    "        ## Take one example\n",
    "        example = tf.train.SequenceExample()\n",
    "        example.ParseFromString(string_record)\n",
    " \n",
    "        ## Get labels and find for each label the m-code in class_label_indices_old\n",
    "        labels = example.context.feature['labels'].int64_list.value\n",
    "        \n",
    "        if len(labels)==1 and label[0] == target_label:\n",
    "            print(record_name)\n",
    "            print(example)"
   ]
  },
  {
   "cell_type": "code",
   "execution_count": null,
   "metadata": {
    "scrolled": true
   },
   "outputs": [],
   "source": [
    "## Maak nieuwe tf-records van bal_train\n",
    "\n",
    "files = gfile.Glob(bal_train_data_pattern)\n",
    "\n",
    "for file in files:\n",
    "    ## Read a file and rewrite it\n",
    "    readWriteTfRecord(file, 'B')"
   ]
  },
  {
   "cell_type": "code",
   "execution_count": null,
   "metadata": {
    "scrolled": false
   },
   "outputs": [],
   "source": [
    "## Maak nieuwe tf-records van unbal_train\n",
    "\n",
    "files = gfile.Glob(unbal_train_data_pattern)\n",
    "\n",
    "for file in files:\n",
    "    ## Read a file and rewrite it\n",
    "    readWriteTfRecord(file, 'U')"
   ]
  },
  {
   "cell_type": "code",
   "execution_count": null,
   "metadata": {},
   "outputs": [],
   "source": [
    "## Maak nieuwe tf-records van eval\n",
    "\n",
    "files = gfile.Glob(eval_data_pattern)\n",
    "\n",
    "for file in files:\n",
    "    \n",
    "    ## Read a file and rewrite it\n",
    "    readWriteTfRecord(file, 'E')"
   ]
  },
  {
   "cell_type": "code",
   "execution_count": null,
   "metadata": {
    "scrolled": false
   },
   "outputs": [],
   "source": [
    "## Print voor alle labels het aantal voorkomens in de nieuwe tf-records\n",
    "\n",
    "sum_occur = 0\n",
    "cnt_labels = Counter(all_labels)\n",
    "\n",
    "for i in cnt_labels.most_common(100):\n",
    "    sum_occur = sum_occur + i[1]\n",
    "    print(label_proportions.loc[label_proportions['index']==i[0]]['display_name'].values[0], ' : ', str(i[1]))"
   ]
  },
  {
   "cell_type": "code",
   "execution_count": null,
   "metadata": {},
   "outputs": [],
   "source": [
    "## Tellen van lijsten in lijsten is lastig, vandaar dat ik er strings van maak: [0,4] wordt [\"0_4\"]\n",
    "str_combis = []\n",
    "\n",
    "for combi in label_combinations:\n",
    "    str_combi = [str(i) for i in combi]\n",
    "    str_combi = \"_\".join(str_combi)\n",
    "    str_combis.append(str_combi)"
   ]
  },
  {
   "cell_type": "code",
   "execution_count": null,
   "metadata": {
    "scrolled": true
   },
   "outputs": [],
   "source": [
    "## Houd individuele voorkomens bij (dus aantal keer dat label voorkomt zonder andere labels)\n",
    "ind_occur = [0 for x in range(label_proportions.shape[0])] \n",
    "\n",
    "## Geef meest voorkomende combinaties\n",
    "cnt_label_combinations = Counter(str_combis)\n",
    "for label_combination in cnt_label_combinations.most_common(20):\n",
    "    label_names = []\n",
    "    \n",
    "    ## Maak van string weer een lijst (zie vorige cel)\n",
    "    label_list = label_combination[0].split(\"_\")\n",
    "    \n",
    "    ## Code die alleen individuele labels telt\n",
    "    if(len(label_list)==1):\n",
    "        ind_occur[int(label_list[0])] = label_combination[1]\n",
    "    \n",
    "    for i in label_list:\n",
    "        label_names.append(str(label_proportions.loc[label_proportions['index']==i]['display_name']))\n",
    "    label_names = ', '.join(label_names)\n",
    "    print(label_names,': ', label_combination[1])"
   ]
  },
  {
   "cell_type": "code",
   "execution_count": null,
   "metadata": {
    "scrolled": true
   },
   "outputs": [],
   "source": [
    "print(\"sum occurences: \" + str(sum_occur))\n",
    "print(\"ind occ: \")\n",
    "print(ind_occur)"
   ]
  },
  {
   "cell_type": "code",
   "execution_count": null,
   "metadata": {},
   "outputs": [],
   "source": [
    "## UP-/DOWN-SAMPLEN\n",
    "\n",
    "## Alle code hierna is alleen om uit te rekenen wat de proporties zijn\n",
    "## Het werkt als volgt:\n",
    "## Van het totale aantal voorkomens van een label (bv 11.000), wordt het gewenste afgetrokken:\n",
    "## bv 11.000-2.000 = 9.000\n",
    "## Dit aantal examples moet geskipt worden, maar dan alleen als het label alleen voorkomt\n",
    "## Daarom wordt de target proportie van het totale individuutjes (target_ind) als volgt berekend:\n",
    "## Stel ind_occ (aantal keer alleen voorkomend) is 10.000, waarvan we er 9.000 niet willen hebben.\n",
    "## (10.000-9.000)/10.000 = 0.1 is dan de kans dat een example wordt geschreven."
   ]
  },
  {
   "cell_type": "code",
   "execution_count": null,
   "metadata": {},
   "outputs": [],
   "source": [
    "## Code die kolom toevoegt aan label-csv (proportion) en deze in de forloop vult\n",
    "\n",
    "## Aantal gewenste samples per label: 2500\n",
    "target = 2500\n",
    "\n",
    "## Aantal voorkomens en aantal voorkomens alleen\n",
    "label_proportions[\"total\"] = 0\n",
    "label_proportions[\"ind_total\"] = 0\n",
    "label_proportions[\"proportion\"] = 0\n",
    "label_proportions[\"target_ind\"] = 0\n",
    "\n",
    "for i in range(mid_to_label_new.shape[0]):\n",
    "    label_proportions.loc[i,\"total\"] = cnt_labels[i]\n",
    "    label_proportions.loc[i,\"ind_total\"] = ind_occur[i]   \n",
    "    label_proportions.loc[i,\"proportion\"] = cnt_labels[i]/sum_occur\n",
    "    label_proportions.loc[i,\"target_ind\"] = (ind_occur[i]-(cnt_labels[i]-target))/ind_occur[i]"
   ]
  },
  {
   "cell_type": "code",
   "execution_count": null,
   "metadata": {},
   "outputs": [],
   "source": [
    "## Schrijf bestandje weg\n",
    "label_proportions.to_csv(name_label_prop_file, sep = \";\")"
   ]
  },
  {
   "cell_type": "code",
   "execution_count": null,
   "metadata": {},
   "outputs": [],
   "source": [
    "label_proportions"
   ]
  },
  {
   "cell_type": "code",
   "execution_count": null,
   "metadata": {},
   "outputs": [],
   "source": []
  }
 ],
 "metadata": {
  "kernelspec": {
   "display_name": "Python 3",
   "language": "python",
   "name": "python3"
  },
  "language_info": {
   "codemirror_mode": {
    "name": "ipython",
    "version": 3
   },
   "file_extension": ".py",
   "mimetype": "text/x-python",
   "name": "python",
   "nbconvert_exporter": "python",
   "pygments_lexer": "ipython3",
   "version": "3.6.4"
  }
 },
 "nbformat": 4,
 "nbformat_minor": 2
}
