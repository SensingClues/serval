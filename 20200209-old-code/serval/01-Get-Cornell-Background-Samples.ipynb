{
 "cells": [
  {
   "cell_type": "markdown",
   "metadata": {},
   "source": [
    "## Cornell Elephant Listening Project BACKGROUND samples\n",
    "\n",
    "We use sound samples from [this](http://www.birds.cornell.edu/brp/elephant/) project.\n",
    "\n",
    "We have 24 hour recordings for several days. We use [Raven-lite](http://www.birds.cornell.edu/brp/raven/RavenOverview.html) to collect the annotated datasets and split them into 5 second samples.\n",
    "\n",
    "### BACKGROUND samples\n",
    "\n",
    "The annotation table from Raven is manipulated in a spreadsheet program to filter on samples that DO NOT hold  elephant rumbeles, these samples are used to learn the background environment.\n",
    "\n",
    "This gives us a list of selections, we presume you have this list of selections locally available."
   ]
  },
  {
   "cell_type": "code",
   "execution_count": 24,
   "metadata": {
    "collapsed": false
   },
   "outputs": [
    {
     "data": {
      "text/html": [
       "<div>\n",
       "<style>\n",
       "    .dataframe thead tr:only-child th {\n",
       "        text-align: right;\n",
       "    }\n",
       "\n",
       "    .dataframe thead th {\n",
       "        text-align: left;\n",
       "    }\n",
       "\n",
       "    .dataframe tbody tr th {\n",
       "        vertical-align: top;\n",
       "    }\n",
       "</style>\n",
       "<table border=\"1\" class=\"dataframe\">\n",
       "  <thead>\n",
       "    <tr style=\"text-align: right;\">\n",
       "      <th></th>\n",
       "      <th>filename</th>\n",
       "    </tr>\n",
       "  </thead>\n",
       "  <tbody>\n",
       "    <tr>\n",
       "      <th>0</th>\n",
       "      <td>sel-01-20170626-112953.75.wav</td>\n",
       "    </tr>\n",
       "    <tr>\n",
       "      <th>1</th>\n",
       "      <td>sel-02-20170626-113011.82.wav</td>\n",
       "    </tr>\n",
       "    <tr>\n",
       "      <th>2</th>\n",
       "      <td>sel-05-20170626-113405.20.wav</td>\n",
       "    </tr>\n",
       "    <tr>\n",
       "      <th>3</th>\n",
       "      <td>sel-06-20170626-113655.88.wav</td>\n",
       "    </tr>\n",
       "    <tr>\n",
       "      <th>4</th>\n",
       "      <td>sel-09-20170626-113737.82.wav</td>\n",
       "    </tr>\n",
       "  </tbody>\n",
       "</table>\n",
       "</div>"
      ],
      "text/plain": [
       "                        filename\n",
       "0  sel-01-20170626-112953.75.wav\n",
       "1  sel-02-20170626-113011.82.wav\n",
       "2  sel-05-20170626-113405.20.wav\n",
       "3  sel-06-20170626-113655.88.wav\n",
       "4  sel-09-20170626-113737.82.wav"
      ]
     },
     "execution_count": 24,
     "metadata": {},
     "output_type": "execute_result"
    }
   ],
   "source": [
    "# for the original elephant listening dataset there is a txt file in the folder with the wav filenames\n",
    "\n",
    "import pandas as pd\n",
    "\n",
    "# location of ESC-50 download\n",
    "df = pd.read_csv('../../data/cornell/elephant-listening/20151005-background/sel.170626.112846.txt',header=None)\n",
    "\n",
    "df.columns = ['filename']\n",
    "\n",
    "df.head(5)"
   ]
  },
  {
   "cell_type": "code",
   "execution_count": 25,
   "metadata": {
    "collapsed": false
   },
   "outputs": [
    {
     "data": {
      "text/plain": [
       "(1825, 2)"
      ]
     },
     "execution_count": 25,
     "metadata": {},
     "output_type": "execute_result"
    }
   ],
   "source": [
    "# add a column with the category\n",
    "df['category'] ='background'\n",
    "df.shape"
   ]
  },
  {
   "cell_type": "code",
   "execution_count": 26,
   "metadata": {
    "collapsed": false
   },
   "outputs": [],
   "source": [
    "# random seed\n",
    "import numpy\n",
    "numpy.random.seed(42)\n",
    "\n",
    "# sample \n",
    "df_sample = df.sample(n=1000)"
   ]
  },
  {
   "cell_type": "code",
   "execution_count": 27,
   "metadata": {
    "collapsed": false
   },
   "outputs": [
    {
     "name": "stderr",
     "output_type": "stream",
     "text": [
      "100%|██████████| 1000/1000 [04:21<00:00,  3.91it/s]\n"
     ]
    }
   ],
   "source": [
    "# now we copy these files over to our dataset location for training\n",
    "import sys, csv, os, shutil\n",
    "\n",
    "# we will also resample the original recordings\n",
    "import librosa\n",
    "import resampy\n",
    "\n",
    "from tqdm import tqdm\n",
    "\n",
    "# this is the sample reate we want\n",
    "sr_target = 44100\n",
    "\n",
    "# source dataset location\n",
    "source_path = '../../data/cornell/elephant-listening/20151005-background/'\n",
    "dest_path = \"./dataset/audio\"\n",
    "\n",
    "for index, row in tqdm(df_sample.iterrows(), total=len(df_sample)):\n",
    "    # lees wav check of die er is zo ja kopier naar destination\n",
    "    src_file_path = os.path.normcase(\"%s/%s\" % (source_path,row.filename))\n",
    "    # make destination path\n",
    "    dst_file_path = \"%s/%s\" % (dest_path,row.filename)\n",
    "    # copy file from to\n",
    "    #shutil.copyfile(src_file_path,dst_file_path)\n",
    "    \n",
    "    # resample\n",
    "    # Load audio file at its native sampling rate\n",
    "    x, sr_orig = librosa.load(src_file_path, mono=True, sr=None)\n",
    "\n",
    "    # We can resample this to any sampling rate we like, say 16000 Hz\n",
    "    y = resampy.resample(x, sr_orig, sr_target)\n",
    "\n",
    "    # write it back\n",
    "    librosa.output.write_wav(dst_file_path, y, sr_target)"
   ]
  },
  {
   "cell_type": "code",
   "execution_count": 28,
   "metadata": {
    "collapsed": true
   },
   "outputs": [],
   "source": [
    "# save the metadata for later\n",
    "df_sample.to_csv('./dataset/meta-data-elephant-background.csv',index=False)"
   ]
  }
 ],
 "metadata": {
  "kernelspec": {
   "display_name": "Python [conda env:py35]",
   "language": "python",
   "name": "conda-env-py35-py"
  },
  "language_info": {
   "codemirror_mode": {
    "name": "ipython",
    "version": 3
   },
   "file_extension": ".py",
   "mimetype": "text/x-python",
   "name": "python",
   "nbconvert_exporter": "python",
   "pygments_lexer": "ipython3",
   "version": "3.5.2"
  }
 },
 "nbformat": 4,
 "nbformat_minor": 2
}
