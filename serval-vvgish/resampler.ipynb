{
 "cells": [
  {
   "cell_type": "code",
   "execution_count": 14,
   "metadata": {
    "collapsed": true
   },
   "outputs": [],
   "source": [
    "# resampling a .wav file to a specific sample rate\n",
    "import os\n",
    "\n",
    "#import librosa\n",
    "from scipy.io import wavfile\n",
    "\n",
    "import resampy\n",
    "\n",
    "import numpy as np\n",
    "\n",
    "#from tqdm import tqdm\n",
    "\n",
    "# this is the sample reate we want\n",
    "sr_target = 16000\n",
    "\n",
    "#file_path = '/home/hugo/Documents/SensingClues/serval/cornell/test/sel-01-20151005-000057.21.wav'\n",
    "path = './wav_files'"
   ]
  },
  {
   "cell_type": "code",
   "execution_count": 29,
   "metadata": {},
   "outputs": [
    {
     "name": "stdout",
     "output_type": "stream",
     "text": [
      "07064107_footsteps.wav\n",
      "Original sample rate is :  44100\n"
     ]
    },
    {
     "name": "stderr",
     "output_type": "stream",
     "text": [
      "/home/hugo/anaconda3/lib/python3.6/site-packages/scipy/io/wavfile.py:273: WavFileWarning: Chunk (non-data) not understood, skipping it.\n",
      "  WavFileWarning)\n"
     ]
    },
    {
     "name": "stdout",
     "output_type": "stream",
     "text": [
      "07063137_car.wav\n",
      "Original sample rate is :  44100\n",
      "elephant1.wav\n",
      "Original sample rate is :  48000\n",
      "elephant4.wav\n",
      "Original sample rate is :  48000\n",
      "elephant3.wav\n",
      "Original sample rate is :  48000\n",
      "elephant2.wav\n",
      "Original sample rate is :  48000\n",
      "07058089_lorry.wav\n",
      "Original sample rate is :  44100\n"
     ]
    }
   ],
   "source": [
    "for filename in os.listdir(path):\n",
    "    if filename.endswith(\".wav\"):\n",
    "        print(filename)\n",
    "        # Load in librosa's example audio file at its native sampling rate\n",
    "        sr_orig, x = wavfile.read(os.path.join(path, filename))\n",
    "\n",
    "        print(\"Original sample rate is : \", sr_orig)\n",
    "        \n",
    "        # if stereo then average to mono\n",
    "        if len(x.shape) > 1 :\n",
    "            x = x.sum(axis=1) / 2\n",
    "        \n",
    "        # We can resample this to any sampling rate we like, say 16000 Hz\n",
    "        y = resampy.resample(x, sr_orig, 16000)\n",
    "        # write it back\n",
    "        wavfile.write(os.path.join('./wav_files/16khz/', filename), sr_target, y.astype(np.int16))\n"
   ]
  }
 ],
 "metadata": {
  "kernelspec": {
   "display_name": "Python [default]",
   "language": "python",
   "name": "python3"
  },
  "language_info": {
   "codemirror_mode": {
    "name": "ipython",
    "version": 3
   },
   "file_extension": ".py",
   "mimetype": "text/x-python",
   "name": "python",
   "nbconvert_exporter": "python",
   "pygments_lexer": "ipython3",
   "version": "3.6.1"
  }
 },
 "nbformat": 4,
 "nbformat_minor": 2
}
