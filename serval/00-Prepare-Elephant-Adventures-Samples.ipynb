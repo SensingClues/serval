{
 "cells": [
  {
   "cell_type": "markdown",
   "metadata": {},
   "source": [
    "## Adventures with Elephants\n",
    "\n",
    "Description of the dataset:\n",
    "---------------------------\n",
    "\n",
    "This dataset has been recorded Angela S. Stoeger (angela.stoeger-horwath@univie.ac.at) from Vienna University and colleagues. Acoustic recordings were collected from three female and two male African elephants (Loxodonta africana) aged between 9 and 17 years located at Adventures with Elephants, Bela Bela, South Africa in 2011. The elephants were fully habituated to human presence and free to roam around in a savannah reserve of 300 ha. Vocalizations were recorded during two social contexts: spatial separation and subsequent bondings, recording distances between the elephant and the microphone ranged from 10 to several hundreds of meters. \n",
    "In 359 minutes of recordings we annotated 635 rumbles by manually tagging the beginning and the end of each rumble."
   ]
  },
  {
   "cell_type": "code",
   "execution_count": 14,
   "metadata": {
    "collapsed": false
   },
   "outputs": [
    {
     "data": {
      "text/plain": [
       "array([array(['ds_ID'],\n",
       "      dtype='<U5'),\n",
       "       array(['P'],\n",
       "      dtype='<U1'), array(['L'],\n",
       "      dtype='<U1'),\n",
       "       array(['singleType'],\n",
       "      dtype='<U10')], dtype=object)"
      ]
     },
     "execution_count": 14,
     "metadata": {},
     "output_type": "execute_result"
    }
   ],
   "source": [
    "# annotations are in matlab file, which apparently is a hdf5 format\n",
    "import scipy.io as sio\n",
    "filepath = '../../data/AdventuresWithElephants_Dataset/anno/groundTruth.mat'\n",
    "\n",
    "annos = sio.loadmat(filepath)\n",
    "data = annos['variable']\n"
   ]
  },
  {
   "cell_type": "code",
   "execution_count": 86,
   "metadata": {
    "collapsed": false
   },
   "outputs": [],
   "source": [
    "# r=[(x['SHAPE@XY'][i][0],x['SHAPE@XY'][i][1],x['PrimeKey'][i]) for i in range(x.shape[0])]\n",
    "# unpack nd array\n",
    "u = [(data[i,0][0],data[i,1][0][0],data[i,2][0][0],data[i,3][0]) for i in range(1,data.shape[0])]"
   ]
  },
  {
   "cell_type": "code",
   "execution_count": 87,
   "metadata": {
    "collapsed": false
   },
   "outputs": [
    {
     "data": {
      "text/plain": [
       "list"
      ]
     },
     "execution_count": 87,
     "metadata": {},
     "output_type": "execute_result"
    }
   ],
   "source": [
    "# build dataframe from list\n",
    "import pandas as pd\n",
    "df = pd.DataFrame(data=u)  # 1st row as the column names\n",
    "df.columns=['filename','start','duration','type']"
   ]
  },
  {
   "cell_type": "markdown",
   "metadata": {
    "collapsed": false
   },
   "source": [
    "Data format:\n",
    "------------\n",
    "\n",
    "Folder \"wavs\" contains all recorded signals (sampled at 44100Hz, 16bit, mono)\n",
    "\n",
    "Folder \"anno\" contains the annotation in binary Matlab format (*.mat). The annotations include:\n",
    "\n",
    "- groundTruth.mat: a cell that contains one annotated rumble in each row. The first column provides the name of the wav-file. The second column gives the start position of the rumble in samples; the third column contains the length of the annotated rumble in samples. The fourth column contains the type of rumble. There are two types (the usual \"rumble\" and the \"snumble\", which is a mixture of snort and rumble)."
   ]
  },
  {
   "cell_type": "code",
   "execution_count": 128,
   "metadata": {
    "collapsed": false
   },
   "outputs": [
    {
     "data": {
      "text/html": [
       "<div>\n",
       "<style>\n",
       "    .dataframe thead tr:only-child th {\n",
       "        text-align: right;\n",
       "    }\n",
       "\n",
       "    .dataframe thead th {\n",
       "        text-align: left;\n",
       "    }\n",
       "\n",
       "    .dataframe tbody tr th {\n",
       "        vertical-align: top;\n",
       "    }\n",
       "</style>\n",
       "<table border=\"1\" class=\"dataframe\">\n",
       "  <thead>\n",
       "    <tr style=\"text-align: right;\">\n",
       "      <th></th>\n",
       "      <th>filename</th>\n",
       "      <th>start</th>\n",
       "      <th>duration</th>\n",
       "      <th>type</th>\n",
       "      <th>stop</th>\n",
       "    </tr>\n",
       "  </thead>\n",
       "  <tbody>\n",
       "    <tr>\n",
       "      <th>0</th>\n",
       "      <td>EFAF2011A008.WAV</td>\n",
       "      <td>1688633</td>\n",
       "      <td>51548</td>\n",
       "      <td>rumble</td>\n",
       "      <td>1740181</td>\n",
       "    </tr>\n",
       "    <tr>\n",
       "      <th>1</th>\n",
       "      <td>EFAF2011A008.WAV</td>\n",
       "      <td>1829197</td>\n",
       "      <td>24136</td>\n",
       "      <td>rumble</td>\n",
       "      <td>1853333</td>\n",
       "    </tr>\n",
       "    <tr>\n",
       "      <th>2</th>\n",
       "      <td>EFAF2011A008.WAV</td>\n",
       "      <td>4925581</td>\n",
       "      <td>41697</td>\n",
       "      <td>rumble</td>\n",
       "      <td>4967278</td>\n",
       "    </tr>\n",
       "    <tr>\n",
       "      <th>3</th>\n",
       "      <td>EFAF2011A008.WAV</td>\n",
       "      <td>7701919</td>\n",
       "      <td>41816</td>\n",
       "      <td>rumble</td>\n",
       "      <td>7743735</td>\n",
       "    </tr>\n",
       "    <tr>\n",
       "      <th>4</th>\n",
       "      <td>EFAF2011A008.WAV</td>\n",
       "      <td>7848265</td>\n",
       "      <td>44664</td>\n",
       "      <td>rumble</td>\n",
       "      <td>7892929</td>\n",
       "    </tr>\n",
       "    <tr>\n",
       "      <th>5</th>\n",
       "      <td>EFAF2011A008.WAV</td>\n",
       "      <td>7917705</td>\n",
       "      <td>30799</td>\n",
       "      <td>rumble</td>\n",
       "      <td>7948504</td>\n",
       "    </tr>\n",
       "    <tr>\n",
       "      <th>6</th>\n",
       "      <td>EFAF2011A008.WAV</td>\n",
       "      <td>8041171</td>\n",
       "      <td>57017</td>\n",
       "      <td>rumble</td>\n",
       "      <td>8098188</td>\n",
       "    </tr>\n",
       "    <tr>\n",
       "      <th>7</th>\n",
       "      <td>EFAF2011A008.WAV</td>\n",
       "      <td>10693742</td>\n",
       "      <td>76558</td>\n",
       "      <td>rumble</td>\n",
       "      <td>10770300</td>\n",
       "    </tr>\n",
       "    <tr>\n",
       "      <th>8</th>\n",
       "      <td>EFAF2011A008.WAV</td>\n",
       "      <td>10795225</td>\n",
       "      <td>65877</td>\n",
       "      <td>rumble</td>\n",
       "      <td>10861102</td>\n",
       "    </tr>\n",
       "    <tr>\n",
       "      <th>9</th>\n",
       "      <td>EFAF2011A008.WAV</td>\n",
       "      <td>10902049</td>\n",
       "      <td>35610</td>\n",
       "      <td>rumble</td>\n",
       "      <td>10937659</td>\n",
       "    </tr>\n",
       "  </tbody>\n",
       "</table>\n",
       "</div>"
      ],
      "text/plain": [
       "           filename     start  duration    type      stop\n",
       "0  EFAF2011A008.WAV   1688633     51548  rumble   1740181\n",
       "1  EFAF2011A008.WAV   1829197     24136  rumble   1853333\n",
       "2  EFAF2011A008.WAV   4925581     41697  rumble   4967278\n",
       "3  EFAF2011A008.WAV   7701919     41816  rumble   7743735\n",
       "4  EFAF2011A008.WAV   7848265     44664  rumble   7892929\n",
       "5  EFAF2011A008.WAV   7917705     30799  rumble   7948504\n",
       "6  EFAF2011A008.WAV   8041171     57017  rumble   8098188\n",
       "7  EFAF2011A008.WAV  10693742     76558  rumble  10770300\n",
       "8  EFAF2011A008.WAV  10795225     65877  rumble  10861102\n",
       "9  EFAF2011A008.WAV  10902049     35610  rumble  10937659"
      ]
     },
     "execution_count": 128,
     "metadata": {},
     "output_type": "execute_result"
    }
   ],
   "source": [
    "#df['stop'] = df.start + df.duration\n",
    "df.head(10)\n"
   ]
  },
  {
   "cell_type": "code",
   "execution_count": 124,
   "metadata": {
    "collapsed": false
   },
   "outputs": [],
   "source": [
    "# issue with EFAF2011A011.WAV\n",
    "df = df[df['filename'] != \"EFAF2011A011.WAV\"]\n"
   ]
  },
  {
   "cell_type": "code",
   "execution_count": 129,
   "metadata": {
    "collapsed": false
   },
   "outputs": [
    {
     "name": "stderr",
     "output_type": "stream",
     "text": [
      "  6%|▌         | 36/618 [00:34<08:52,  1.09it/s]"
     ]
    },
    {
     "name": "stdout",
     "output_type": "stream",
     "text": [
      "File EFAF2011A012.WAV not found.\n",
      "File EFAF2011A012.WAV not found.\n",
      "File EFAF2011A012.WAV not found.\n",
      "File EFAF2011A012.WAV not found.\n",
      "File EFAF2011A012.WAV not found.\n",
      "File EFAF2011A012.WAV not found.\n"
     ]
    },
    {
     "name": "stderr",
     "output_type": "stream",
     "text": [
      "100%|██████████| 618/618 [21:29<00:00,  1.73s/it]\n"
     ]
    }
   ],
   "source": [
    "# now we open the source file, cut out the piece that is annotated and save that as a 5 second sample\n",
    "import sys, csv, os, shutil\n",
    "\n",
    "# we will also resample the original recordings\n",
    "import librosa\n",
    "import resampy\n",
    "\n",
    "from tqdm import tqdm\n",
    "\n",
    "# this is the sample reate we want\n",
    "sr_target = 44100\n",
    "\n",
    "# source dataset location\n",
    "source_path = '../../data/AdventuresWithElephants_Dataset/wavs/all/'\n",
    "dest_path = \"../../data/AdventuresWithElephants_Dataset/wavs/samples/\"\n",
    "\n",
    "fileList = []\n",
    "\n",
    "# for each annotation do\n",
    "for index,row in tqdm(df.iterrows(), total=len(df)):\n",
    "    # map mat file contents\n",
    "    source_filename = row.filename\n",
    "    start = row.start\n",
    "    duration = row.duration\n",
    "    category = row.type\n",
    "    \n",
    "    # read source wav \n",
    "    src_file_path = os.path.normcase(\"%s/%s\" % (source_path,source_filename))\n",
    "    \n",
    "    # check if sourcefile exists\n",
    "    if os.path.exists(src_file_path):\n",
    "        # resample\n",
    "        # Load audio file at its native sampling rate\n",
    "        x, sr_orig = librosa.load(src_file_path, mono=True, sr=None)\n",
    "\n",
    "        # We can resample this to any sampling rate we like, say 16000 Hz\n",
    "        # define 5 seconds\n",
    "        s5 = 5 * sr_orig\n",
    "        # clip from start to next 5 seconds resample in target sample rate\n",
    "        y = resampy.resample(x[start:start+s5+1], sr_orig, sr_target)\n",
    "\n",
    "        # check if previous 5 secs is background\n",
    "        # if so create a background sample\n",
    "        if (start-s5 > 0):\n",
    "            # clip from start to next 5 seconds resample in target sample rate\n",
    "            yb = resampy.resample(x[start-s5:start+1], sr_orig, sr_target)\n",
    "            # make destination path\n",
    "            b_dst_fname = source_filename.split('.')[0] + '-' + str(round((start-s5)/sr_orig)) + '.' + source_filename.split('.')[1]\n",
    "            # add meta data to list\n",
    "            fileList.append([b_dst_fname,'background'])\n",
    "            # path\n",
    "            b_dst_file_path = \"%s/%s\" % (dest_path,b_dst_fname)\n",
    "            # write it back\n",
    "            librosa.output.write_wav(b_dst_file_path, yb, sr_target)\n",
    "            \n",
    "        # make destination path\n",
    "        dest_filename = source_filename.split('.')[0] + '-' + str(round(start/sr_orig)) + '.' + source_filename.split('.')[1]\n",
    "        dst_file_path = \"%s/%s\" % (dest_path,dest_filename)\n",
    "\n",
    "        # create meta data file\n",
    "        fileList.append([dest_filename,category])\n",
    "\n",
    "        # write it back\n",
    "        librosa.output.write_wav(dst_file_path, y, sr_target)\n",
    "    else:\n",
    "        print('File %s not found.' % source_filename)"
   ]
  },
  {
   "cell_type": "code",
   "execution_count": 130,
   "metadata": {
    "collapsed": true
   },
   "outputs": [],
   "source": [
    "# save the metadata for later\n",
    "fileList\n",
    "md = pd.DataFrame(fileList, columns=[\"filename\", \"category\"])  \n",
    "md.to_csv('./dataset/meta-data-elephant-adventures.csv',index=False)"
   ]
  },
  {
   "cell_type": "code",
   "execution_count": 132,
   "metadata": {
    "collapsed": false
   },
   "outputs": [
    {
     "data": {
      "text/html": [
       "<div>\n",
       "<style>\n",
       "    .dataframe thead tr:only-child th {\n",
       "        text-align: right;\n",
       "    }\n",
       "\n",
       "    .dataframe thead th {\n",
       "        text-align: left;\n",
       "    }\n",
       "\n",
       "    .dataframe tbody tr th {\n",
       "        vertical-align: top;\n",
       "    }\n",
       "</style>\n",
       "<table border=\"1\" class=\"dataframe\">\n",
       "  <thead>\n",
       "    <tr style=\"text-align: right;\">\n",
       "      <th></th>\n",
       "      <th>filename</th>\n",
       "      <th>category</th>\n",
       "    </tr>\n",
       "  </thead>\n",
       "  <tbody>\n",
       "    <tr>\n",
       "      <th>1217</th>\n",
       "      <td>EFAF2011A033-427.WAV</td>\n",
       "      <td>rumble</td>\n",
       "    </tr>\n",
       "    <tr>\n",
       "      <th>1218</th>\n",
       "      <td>EFAF2011A033-28492206.WAV</td>\n",
       "      <td>background</td>\n",
       "    </tr>\n",
       "    <tr>\n",
       "      <th>1219</th>\n",
       "      <td>EFAF2011A033-646.WAV</td>\n",
       "      <td>rumble</td>\n",
       "    </tr>\n",
       "    <tr>\n",
       "      <th>1220</th>\n",
       "      <td>EFAF2011A033-28575657.WAV</td>\n",
       "      <td>background</td>\n",
       "    </tr>\n",
       "    <tr>\n",
       "      <th>1221</th>\n",
       "      <td>EFAF2011A033-648.WAV</td>\n",
       "      <td>rumble</td>\n",
       "    </tr>\n",
       "  </tbody>\n",
       "</table>\n",
       "</div>"
      ],
      "text/plain": [
       "                       filename    category\n",
       "1217       EFAF2011A033-427.WAV      rumble\n",
       "1218  EFAF2011A033-28492206.WAV  background\n",
       "1219       EFAF2011A033-646.WAV      rumble\n",
       "1220  EFAF2011A033-28575657.WAV  background\n",
       "1221       EFAF2011A033-648.WAV      rumble"
      ]
     },
     "execution_count": 132,
     "metadata": {},
     "output_type": "execute_result"
    }
   ],
   "source": [
    "md.tail()"
   ]
  },
  {
   "cell_type": "code",
   "execution_count": 133,
   "metadata": {
    "collapsed": true
   },
   "outputs": [],
   "source": [
    "# copy all wavs to audio dir in serval\n",
    "import glob\n",
    "import shutil\n",
    "import os\n",
    "\n",
    "src_dir = \"../../data/AdventuresWithElephants_Dataset/wavs/samples/\"\n",
    "dst_dir = \"./dataset/audio/\"\n",
    "for jpgfile in glob.iglob(os.path.join(src_dir, \"*.WAV\")):\n",
    "    shutil.copy(jpgfile, dst_dir)\n"
   ]
  }
 ],
 "metadata": {
  "kernelspec": {
   "display_name": "Python [conda env:py35]",
   "language": "python",
   "name": "conda-env-py35-py"
  },
  "language_info": {
   "codemirror_mode": {
    "name": "ipython",
    "version": 3
   },
   "file_extension": ".py",
   "mimetype": "text/x-python",
   "name": "python",
   "nbconvert_exporter": "python",
   "pygments_lexer": "ipython3",
   "version": "3.5.2"
  }
 },
 "nbformat": 4,
 "nbformat_minor": 2
}
