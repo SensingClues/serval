{
 "cells": [
  {
   "cell_type": "markdown",
   "metadata": {},
   "source": [
    "## Train Serval\n",
    "\n",
    "We use the youtube8m for training Serval.\n",
    "\n",
    "We do what is decribed [here](https://github.com/igor-panteleev/youtube-8m#running-on-your-own-machine)\n",
    "\n",
    "The youtube8m dataset is updated, we are still on the older depreciated features from 2017. These are still available.\n",
    "\n",
    "We have to \n",
    "\n",
    "* download the features >  from [here](https://research.google.com/audioset/download.html)\n",
    "* define a subset of interesting classes\n",
    "* run de mapper to filter relevant examples\n",
    "* train a new model\n",
    "* evaluate model\n",
    "* deploy on serval sensor"
   ]
  },
  {
   "cell_type": "code",
   "execution_count": 1,
   "metadata": {
    "jupyter": {
     "outputs_hidden": true
    }
   },
   "outputs": [],
   "source": [
    "# from bash this works :\n",
    "# python ../serval-igor/youtube-8m-master/train.py --train_data_pattern='./features/train*.tfrecord' --model=LogisticModel --train_dir=$MODEL_DIR/video_level_logistic_model "
   ]
  },
  {
   "cell_type": "code",
   "execution_count": 2,
   "metadata": {},
   "outputs": [
    {
     "name": "stdout",
     "output_type": "stream",
     "text": [
      "WARNING:tensorflow:\n",
      "The TensorFlow contrib module will not be included in TensorFlow 2.0.\n",
      "For more information, please see:\n",
      "  * https://github.com/tensorflow/community/blob/master/rfcs/20180907-contrib-sunset.md\n",
      "  * https://github.com/tensorflow/addons\n",
      "  * https://github.com/tensorflow/io (for I/O related ops)\n",
      "If you depend on functionality not listed there, please file an issue.\n",
      "\n"
     ]
    }
   ],
   "source": [
    "# Copyright 2016 Google Inc. All Rights Reserved.\n",
    "#\n",
    "# Licensed under the Apache License, Version 2.0 (the \"License\");\n",
    "# you may not use this file except in compliance with the License.\n",
    "# You may obtain a copy of the License at\n",
    "#\n",
    "#      http://www.apache.org/licenses/LICENSE-2.0\n",
    "#\n",
    "# Unless required by applicable law or agreed to in writing, software\n",
    "# distributed under the License is distributed on an \"AS-IS\" BASIS,\n",
    "# WITHOUT WARRANTIES OR CONDITIONS OF ANY KIND, either express or implied.\n",
    "# See the License for the specific language governing permissions and\n",
    "# limitations under the License.\n",
    "\"\"\"Binary for training Tensorflow models on the YouTube-8M dataset.\"\"\"\n",
    "\n",
    "# import basc stuff\n",
    "import json\n",
    "import os\n",
    "import time\n",
    "\n",
    "# import modules from local files\n",
    "# modules in `vggish` folder\n",
    "import sys\n",
    "sys.path.append('./vggish')\n",
    "\n",
    "# import some adepted custom serval modules\n",
    "sys.path.append('./custom_serval_code')\n",
    "\n",
    "# we skip this one from vggish\n",
    "#import eval_util\n",
    "# and use this one\n",
    "import eval_util_serval as eval_util\n",
    "import export_model\n",
    "import losses\n",
    "import frame_level_models\n",
    "import video_level_models\n",
    "import readers\n"
   ]
  },
  {
   "cell_type": "code",
   "execution_count": 3,
   "metadata": {
    "jupyter": {
     "outputs_hidden": true
    }
   },
   "outputs": [],
   "source": [
    "# tensorflow stuff\n",
    "import tensorflow as tf\n",
    "import tensorflow.contrib.slim as slim\n",
    "from tensorflow import app\n",
    "from tensorflow import flags\n",
    "from tensorflow import gfile\n",
    "from tensorflow import logging\n",
    "from tensorflow.python.client import device_lib\n",
    "import utils\n"
   ]
  },
  {
   "cell_type": "code",
   "execution_count": 4,
   "metadata": {},
   "outputs": [],
   "source": [
    "# PARAMETERS TO ADJUST\n",
    "# inside docker goto right place \n",
    "os.chdir(\"/tf/serval/serval\")\n",
    "\n",
    "# parameters\n",
    "# trainings data directory\n",
    "tdp = \"./dataset/train_hugo_new/*.tfrecord\"\n",
    "\n",
    "# temp model directory\n",
    "tmd = \"./tmp/serval03hugo\"\n",
    "\n",
    "# number of outcome classes (see labels csv)\n",
    "# moet om een of andere reden > 20 zijn\n",
    "num_classes = 20\n"
   ]
  },
  {
   "cell_type": "markdown",
   "metadata": {},
   "source": [
    "now we load tensorflow and set the parameter flags"
   ]
  },
  {
   "cell_type": "code",
   "execution_count": 5,
   "metadata": {
    "jupyter": {
     "outputs_hidden": true
    }
   },
   "outputs": [],
   "source": [
    "# specific folder name that holds training data\n",
    "\n",
    "FLAGS = flags.FLAGS\n",
    "\n",
    "if __name__ == \"__main__\":\n",
    "    # Dataset flags.\n",
    "    flags.DEFINE_string(\"train_dir\", tmd,\"The directory to save the model files in.\")\n",
    "    flags.DEFINE_string(\n",
    "            \"train_data_pattern\", tdp ,\n",
    "            \"File glob for the training dataset. If the files refer to Frame Level \"\n",
    "            \"features (i.e. tensorflow.SequenceExample), then set --reader_type \"\n",
    "            \"format. The (Sequence)Examples are expected to have 'rgb' byte array \"\n",
    "            \"sequence feature as well as a 'labels' int64 context feature.\")\n",
    "    flags.DEFINE_string(\"feature_names\", \"audio_embedding\", \"Name of the feature \"\n",
    "                                            \"to use for training.\")\n",
    "    flags.DEFINE_string(\"feature_sizes\", \"128\", \"Length of the feature vectors.\")\n",
    "    flags.DEFINE_integer(\"num_classes\", num_classes, \"Number of classes in dataset.\") # 527 31\n",
    "\n",
    "    # Model flags.\n",
    "    flags.DEFINE_bool(\n",
    "            \"frame_features\", True,\n",
    "            \"If set, then --train_data_pattern must be frame-level features. \"\n",
    "            \"Otherwise, --train_data_pattern must be aggregated video-level \"\n",
    "            \"features. The model must also be set appropriately (i.e. to read 3D \"\n",
    "            \"batches VS 4D batches.\")\n",
    "    flags.DEFINE_string(\n",
    "            \"model\", \"FrameLevelLogisticModel\",\n",
    "            \"Which architecture to use for the model. Models are defined \"\n",
    "            \"in models.py.\")\n",
    "    flags.DEFINE_bool(\n",
    "            \"start_new_model\", False,\n",
    "            \"If set, this will not resume from a checkpoint and will instead create a\"\n",
    "            \" new model instance.\")\n",
    "\n",
    "    # Training flags.\n",
    "    flags.DEFINE_integer(\"batch_size\", 1024,\n",
    "                                             \"How many examples to process per batch for training.\")\n",
    "    flags.DEFINE_string(\"label_loss\", \"CrossEntropyLoss\",\n",
    "                                            \"Which loss function to use for training the model.\")\n",
    "    flags.DEFINE_float(\n",
    "            \"regularization_penalty\", 1.0,\n",
    "            \"How much weight to give to the regularization loss (the label loss has \"\n",
    "            \"a weight of 1).\")\n",
    "    flags.DEFINE_float(\"base_learning_rate\", 0.01,\n",
    "                                         \"Which learning rate to start with.\")\n",
    "    flags.DEFINE_float(\"learning_rate_decay\", 0.95,\n",
    "                                         \"Learning rate decay factor to be applied every \"\n",
    "                                         \"learning_rate_decay_examples.\")\n",
    "    flags.DEFINE_float(\"learning_rate_decay_examples\", 4000000,\n",
    "                                         \"Multiply current learning rate by learning_rate_decay \"\n",
    "                                         \"every learning_rate_decay_examples.\")\n",
    "    flags.DEFINE_integer(\"num_epochs\", 250,\n",
    "                                             \"How many passes to make over the dataset before \"\n",
    "                                             \"halting training.\")\n",
    "    flags.DEFINE_integer(\"max_steps\", None,\n",
    "                                             \"The maximum number of iterations of the training loop.\")\n",
    "    flags.DEFINE_integer(\"export_model_steps\", 10,\n",
    "                                             \"The period, in number of steps, with which the model \"\n",
    "                                             \"is exported for batch prediction.\")\n",
    "\n",
    "    # Other flags.\n",
    "    flags.DEFINE_integer(\"num_readers\", 8,\n",
    "                                             \"How many threads to use for reading input files.\")\n",
    "    flags.DEFINE_string(\"optimizer\", \"AdamOptimizer\",\n",
    "                                            \"What optimizer class to use.\")\n",
    "    flags.DEFINE_float(\"clip_gradient_norm\", 1.0, \"Norm to clip gradients to.\")\n",
    "    flags.DEFINE_bool(\n",
    "            \"log_device_placement\", False,\n",
    "            \"Whether to write the device on which every op will run into the \"\n",
    "            \"logs on startup.\")"
   ]
  },
  {
   "cell_type": "code",
   "execution_count": 6,
   "metadata": {
    "jupyter": {
     "outputs_hidden": true
    }
   },
   "outputs": [],
   "source": [
    "# empty firt time\n",
    "# so how does the FLAGS object look like?\n",
    "# print(tf.flags.FLAGS.__flags.items())\n",
    "\n",
    "#for key, value in tf.flags.FLAGS.__flags.items():\n",
    "#    print(key,' : ',value)"
   ]
  },
  {
   "cell_type": "code",
   "execution_count": 7,
   "metadata": {
    "jupyter": {
     "outputs_hidden": true
    }
   },
   "outputs": [],
   "source": [
    "# diverse functies\n",
    "\n",
    "def validate_class_name(flag_value, category, modules, expected_superclass):\n",
    "    \"\"\"Checks that the given string matches a class of the expected type.\n",
    "\n",
    "    Args:\n",
    "        flag_value: A string naming the class to instantiate.\n",
    "        category: A string used further describe the class in error messages\n",
    "                            (e.g. 'model', 'reader', 'loss').\n",
    "        modules: A list of modules to search for the given class.\n",
    "        expected_superclass: A class that the given class should inherit from.\n",
    "\n",
    "    Raises:\n",
    "        FlagsError: If the given class could not be found or if the first class\n",
    "        found with that name doesn't inherit from the expected superclass.\n",
    "\n",
    "    Returns:\n",
    "        True if a class was found that matches the given constraints.\n",
    "    \"\"\"\n",
    "    candidates = [getattr(module, flag_value, None) for module in modules]\n",
    "    for candidate in candidates:\n",
    "        if not candidate:\n",
    "            continue\n",
    "        if not issubclass(candidate, expected_superclass):\n",
    "            raise flags.FlagsError(\"%s '%s' doesn't inherit from %s.\" %\n",
    "                                                         (category, flag_value,\n",
    "                                                            expected_superclass.__name__))\n",
    "        return True\n",
    "    raise flags.FlagsError(\"Unable to find %s '%s'.\" % (category, flag_value))\n",
    "\n",
    "def get_input_data_tensors(reader,\n",
    "                                                     data_pattern,\n",
    "                                                     batch_size=1000,\n",
    "                                                     num_epochs=None,\n",
    "                                                     num_readers=1):\n",
    "    \"\"\"Creates the section of the graph which reads the training data.\n",
    "\n",
    "    Args:\n",
    "        reader: A class which parses the training data.\n",
    "        data_pattern: A 'glob' style path to the data files.\n",
    "        batch_size: How many examples to process at a time.\n",
    "        num_epochs: How many passes to make over the training data. Set to 'None'\n",
    "                                to run indefinitely.\n",
    "        num_readers: How many I/O threads to use.\n",
    "\n",
    "    Returns:\n",
    "        A tuple containing the features tensor, labels tensor, and optionally a\n",
    "        tensor containing the number of frames per video. The exact dimensions\n",
    "        depend on the reader being used.\n",
    "\n",
    "    Raises:\n",
    "        IOError: If no files matching the given pattern were found.\n",
    "    \"\"\"\n",
    "    logging.info(\"Using batch size of \" + str(batch_size) + \" for training.\")\n",
    "    with tf.name_scope(\"train_input\"):\n",
    "        files = gfile.Glob(data_pattern)\n",
    "        if not files:\n",
    "            raise IOError(\"Unable to find training files. data_pattern='\" +\n",
    "                                        data_pattern + \"'.\")\n",
    "        logging.info(\"Number of training files: %s.\", str(len(files)))\n",
    "        filename_queue = tf.train.string_input_producer(\n",
    "                files, num_epochs=num_epochs, shuffle=True)\n",
    "        training_data = [\n",
    "                reader.prepare_reader(filename_queue) for _ in range(num_readers)\n",
    "        ]\n",
    "\n",
    "        return tf.train.shuffle_batch_join(\n",
    "                training_data,\n",
    "                batch_size=batch_size,\n",
    "                capacity=batch_size * 5,\n",
    "                min_after_dequeue=batch_size,\n",
    "                allow_smaller_final_batch=True,\n",
    "                enqueue_many=True)\n",
    "\n",
    "\n",
    "def find_class_by_name(name, modules):\n",
    "    \"\"\"Searches the provided modules for the named class and returns it.\"\"\"\n",
    "    modules = [getattr(module, name, None) for module in modules]\n",
    "    return next(a for a in modules if a)\n",
    "\n",
    "def build_graph(reader,\n",
    "                                model,\n",
    "                                train_data_pattern,\n",
    "                                label_loss_fn=losses.CrossEntropyLoss(),\n",
    "                                batch_size=1000,\n",
    "                                base_learning_rate=0.01,\n",
    "                                learning_rate_decay_examples=1000000,\n",
    "                                learning_rate_decay=0.95,\n",
    "                                optimizer_class=tf.train.AdamOptimizer,\n",
    "                                clip_gradient_norm=1.0,\n",
    "                                regularization_penalty=1,\n",
    "                                num_readers=1,\n",
    "                                num_epochs=None):\n",
    "    \"\"\"Creates the Tensorflow graph.\n",
    "\n",
    "    This will only be called once in the life of\n",
    "    a training model, because after the graph is created the model will be\n",
    "    restored from a meta graph file rather than being recreated.\n",
    "\n",
    "    Args:\n",
    "        reader: The data file reader. It should inherit from BaseReader.\n",
    "        model: The core model (e.g. logistic or neural net). It should inherit\n",
    "                     from BaseModel.\n",
    "        train_data_pattern: glob path to the training data files.\n",
    "        label_loss_fn: What kind of loss to apply to the model. It should inherit\n",
    "                                from BaseLoss.\n",
    "        batch_size: How many examples to process at a time.\n",
    "        base_learning_rate: What learning rate to initialize the optimizer with.\n",
    "        optimizer_class: Which optimization algorithm to use.\n",
    "        clip_gradient_norm: Magnitude of the gradient to clip to.\n",
    "        regularization_penalty: How much weight to give the regularization loss\n",
    "                                                        compared to the label loss.\n",
    "        num_readers: How many threads to use for I/O operations.\n",
    "        num_epochs: How many passes to make over the data. 'None' means an\n",
    "                                unlimited number of passes.\n",
    "    \"\"\"\n",
    "\n",
    "    global_step = tf.Variable(0, trainable=False, name=\"global_step\")\n",
    "\n",
    "    local_device_protos = device_lib.list_local_devices()\n",
    "    gpus = [x.name for x in local_device_protos if x.device_type == 'GPU']\n",
    "    num_gpus = len(gpus)\n",
    "\n",
    "    if num_gpus > 0:\n",
    "        logging.info(\"Using the following GPUs to train: \" + str(gpus))\n",
    "        num_towers = num_gpus\n",
    "        device_string = '/gpu:%d'\n",
    "    else:\n",
    "        logging.info(\"No GPUs found. Training on CPU.\")\n",
    "        num_towers = 1\n",
    "        device_string = '/cpu:%d'\n",
    "\n",
    "    learning_rate = tf.train.exponential_decay(\n",
    "            base_learning_rate,\n",
    "            global_step * batch_size * num_towers,\n",
    "            learning_rate_decay_examples,\n",
    "            learning_rate_decay,\n",
    "            staircase=True)\n",
    "    # tensorboard stuff\n",
    "    tf.summary.scalar('learning_rate', learning_rate)\n",
    "\n",
    "    optimizer = optimizer_class(learning_rate)\n",
    "    unused_video_id, model_input_raw, labels_batch, num_frames = (\n",
    "            get_input_data_tensors(\n",
    "                    reader,\n",
    "                    train_data_pattern,\n",
    "                    batch_size=batch_size * num_towers,\n",
    "                    num_readers=num_readers,\n",
    "                    num_epochs=num_epochs))\n",
    "    # tensorboard stuff\n",
    "    tf.summary.histogram(\"model/input_raw\", model_input_raw)\n",
    "\n",
    "    feature_dim = len(model_input_raw.get_shape()) - 1\n",
    "\n",
    "    model_input = tf.nn.l2_normalize(model_input_raw, feature_dim)\n",
    "\n",
    "    tower_inputs = tf.split(model_input, num_towers)\n",
    "    tower_labels = tf.split(labels_batch, num_towers)\n",
    "    tower_num_frames = tf.split(num_frames, num_towers)\n",
    "    tower_gradients = []\n",
    "    tower_predictions = []\n",
    "    tower_label_losses = []\n",
    "    tower_reg_losses = []\n",
    "    for i in range(num_towers):\n",
    "        # For some reason these 'with' statements can't be combined onto the same\n",
    "        # line. They have to be nested.\n",
    "        with tf.device(device_string % i):\n",
    "            with (tf.variable_scope((\"tower\"), reuse=True if i > 0 else None)):\n",
    "                with (slim.arg_scope([slim.model_variable, slim.variable], device=\"/cpu:0\" if num_gpus!=1 else \"/gpu:0\")):\n",
    "                    result = model.create_model(\n",
    "                        tower_inputs[i],\n",
    "                        num_frames=tower_num_frames[i],\n",
    "                        vocab_size=reader.num_classes,\n",
    "                        labels=tower_labels[i])\n",
    "                    for variable in slim.get_model_variables():\n",
    "                        tf.summary.histogram(variable.op.name, variable)\n",
    "\n",
    "                    predictions = result[\"predictions\"]\n",
    "                    tower_predictions.append(predictions)\n",
    "\n",
    "                    if \"loss\" in result.keys():\n",
    "                        label_loss = result[\"loss\"]\n",
    "                    else:\n",
    "                        label_loss = label_loss_fn.calculate_loss(predictions, tower_labels[i])\n",
    "\n",
    "                    if \"regularization_loss\" in result.keys():\n",
    "                        reg_loss = result[\"regularization_loss\"]\n",
    "                    else:\n",
    "                        reg_loss = tf.constant(0.0)\n",
    "\n",
    "                    reg_losses = tf.losses.get_regularization_losses()\n",
    "                    if reg_losses:\n",
    "                        reg_loss += tf.add_n(reg_losses)\n",
    "\n",
    "                    tower_reg_losses.append(reg_loss)\n",
    "\n",
    "                    # Adds update_ops (e.g., moving average updates in batch normalization) as\n",
    "                    # a dependency to the train_op.\n",
    "                    update_ops = tf.get_collection(tf.GraphKeys.UPDATE_OPS)\n",
    "                    if \"update_ops\" in result.keys():\n",
    "                        update_ops += result[\"update_ops\"]\n",
    "                    if update_ops:\n",
    "                        with tf.control_dependencies(update_ops):\n",
    "                            barrier = tf.no_op(name=\"gradient_barrier\")\n",
    "                            with tf.control_dependencies([barrier]):\n",
    "                                label_loss = tf.identity(label_loss)\n",
    "\n",
    "                    tower_label_losses.append(label_loss)\n",
    "\n",
    "                    # Incorporate the L2 weight penalties etc.\n",
    "                    final_loss = regularization_penalty * reg_loss + label_loss\n",
    "                    gradients = optimizer.compute_gradients(final_loss,\n",
    "                            colocate_gradients_with_ops=False)\n",
    "                    tower_gradients.append(gradients)\n",
    "    label_loss = tf.reduce_mean(tf.stack(tower_label_losses))\n",
    "    # tensorboard\n",
    "    tf.summary.scalar(\"label_loss\", label_loss)\n",
    "    \n",
    "    if regularization_penalty != 0:\n",
    "        reg_loss = tf.reduce_mean(tf.stack(tower_reg_losses))\n",
    "        tf.summary.scalar(\"reg_loss\", reg_loss)\n",
    "    merged_gradients = utils.combine_gradients(tower_gradients)\n",
    "\n",
    "    if clip_gradient_norm > 0:\n",
    "        with tf.name_scope('clip_grads'):\n",
    "            merged_gradients = utils.clip_gradient_norms(merged_gradients, clip_gradient_norm)\n",
    "\n",
    "    train_op = optimizer.apply_gradients(merged_gradients, global_step=global_step)\n",
    "\n",
    "    tf.add_to_collection(\"global_step\", global_step)\n",
    "    tf.add_to_collection(\"loss\", label_loss)\n",
    "    tf.add_to_collection(\"predictions\", tf.concat(tower_predictions, 0))\n",
    "    tf.add_to_collection(\"input_batch_raw\", model_input_raw)\n",
    "    tf.add_to_collection(\"input_batch\", model_input)\n",
    "    tf.add_to_collection(\"num_frames\", num_frames)\n",
    "    tf.add_to_collection(\"labels\", tf.cast(labels_batch, tf.float32))\n",
    "    tf.add_to_collection(\"train_op\", train_op)\n",
    "\n",
    "\n",
    "class Trainer(object):\n",
    "    \"\"\"A Trainer to train a Tensorflow graph.\"\"\"\n",
    "\n",
    "    def __init__(self, cluster, task, train_dir, model, reader, model_exporter,\n",
    "                             log_device_placement=True, max_steps=None,\n",
    "                             export_model_steps=1000):\n",
    "        \"\"\"\"Creates a Trainer.\n",
    "\n",
    "        Args:\n",
    "            cluster: A tf.train.ClusterSpec if the execution is distributed.\n",
    "                None otherwise.\n",
    "            task: A TaskSpec describing the job type and the task index.\n",
    "        \"\"\"\n",
    "\n",
    "        self.cluster = cluster\n",
    "        self.task = task\n",
    "        self.is_master = (task.type == \"master\" and task.index == 0)\n",
    "        self.train_dir = train_dir\n",
    "        self.config = tf.ConfigProto(\n",
    "                allow_soft_placement=True,log_device_placement=log_device_placement)\n",
    "        self.model = model\n",
    "        self.reader = reader\n",
    "        self.model_exporter = model_exporter\n",
    "        self.max_steps = max_steps\n",
    "        self.max_steps_reached = False\n",
    "        self.export_model_steps = export_model_steps\n",
    "        self.last_model_export_step = 0\n",
    "\n",
    "#     if self.is_master and self.task.index > 0:\n",
    "#       raise StandardError(\"%s: Only one replica of master expected\",\n",
    "#                           task_as_string(self.task))\n",
    "\n",
    "    def run(self, start_new_model=False):\n",
    "        \"\"\"Performs training on the currently defined Tensorflow graph.\n",
    "\n",
    "        Returns:\n",
    "            A tuple of the training Hit@1 and the training PERR.\n",
    "        \"\"\"\n",
    "        if self.is_master and start_new_model:\n",
    "            self.remove_training_directory(self.train_dir)\n",
    "\n",
    "        target, device_fn = self.start_server_if_distributed()\n",
    "\n",
    "        meta_filename = self.get_meta_filename(start_new_model, self.train_dir)\n",
    "\n",
    "        with tf.Graph().as_default() as graph:\n",
    "\n",
    "            if meta_filename:\n",
    "                saver = self.recover_model(meta_filename)\n",
    "\n",
    "            with tf.device(device_fn):\n",
    "                if not meta_filename:\n",
    "                    saver = self.build_model(self.model, self.reader)\n",
    "\n",
    "                global_step = tf.get_collection(\"global_step\")[0]\n",
    "                loss = tf.get_collection(\"loss\")[0]\n",
    "                predictions = tf.get_collection(\"predictions\")[0]\n",
    "                labels = tf.get_collection(\"labels\")[0]\n",
    "                train_op = tf.get_collection(\"train_op\")[0]\n",
    "                init_op = tf.global_variables_initializer()\n",
    "\n",
    "        sv = tf.train.Supervisor(\n",
    "                graph,\n",
    "                logdir=self.train_dir,\n",
    "                init_op=init_op,\n",
    "                is_chief=self.is_master,\n",
    "                global_step=global_step,\n",
    "                save_model_secs=15 * 60,\n",
    "                save_summaries_secs=120,\n",
    "                saver=saver)\n",
    "\n",
    "        logging.info(\"%s: Starting managed session.\", task_as_string(self.task))\n",
    "        with sv.managed_session(target, config=self.config) as sess:\n",
    "            try:\n",
    "                logging.info(\"%s: Entering training loop.\", task_as_string(self.task))\n",
    "                while (not sv.should_stop()) and (not self.max_steps_reached):\n",
    "                    batch_start_time = time.time()\n",
    "                    _, global_step_val, loss_val, predictions_val, labels_val = sess.run(\n",
    "                            [train_op, global_step, loss, predictions, labels])\n",
    "                    seconds_per_batch = time.time() - batch_start_time\n",
    "                    examples_per_second = labels_val.shape[0] / seconds_per_batch\n",
    "\n",
    "                    if self.max_steps and self.max_steps <= global_step_val:\n",
    "                        self.max_steps_reached = True\n",
    "\n",
    "                    if self.is_master and global_step_val % 10 == 0 and self.train_dir:\n",
    "                        eval_start_time = time.time()\n",
    "                        hit_at_one = eval_util.calculate_hit_at_one(predictions_val, labels_val)\n",
    "                        perr = eval_util.calculate_precision_at_equal_recall_rate(predictions_val,\n",
    "                                                                                                                                            labels_val)\n",
    "                        gap = eval_util.calculate_gap(predictions_val, labels_val)\n",
    "                        eval_end_time = time.time()\n",
    "                        eval_time = eval_end_time - eval_start_time\n",
    "\n",
    "                        logging.info(\"training step \" + str(global_step_val) + \" | Loss: \" + (\"%.2f\" % loss_val) +\n",
    "                            \" Examples/sec: \" + (\"%.2f\" % examples_per_second) + \" | Hit@1: \" +\n",
    "                            (\"%.2f\" % hit_at_one) + \" PERR: \" + (\"%.2f\" % perr) +\n",
    "                            \" GAP: \" + (\"%.2f\" % gap))\n",
    "\n",
    "                        sv.summary_writer.add_summary(\n",
    "                                utils.MakeSummary(\"model/Training_Hit@1\", hit_at_one),\n",
    "                                global_step_val)\n",
    "                        sv.summary_writer.add_summary(\n",
    "                                utils.MakeSummary(\"model/Training_Perr\", perr), global_step_val)\n",
    "                        sv.summary_writer.add_summary(\n",
    "                                utils.MakeSummary(\"model/Training_GAP\", gap), global_step_val)\n",
    "                        sv.summary_writer.add_summary(\n",
    "                                utils.MakeSummary(\"global_step/Examples/Second\",\n",
    "                                                                    examples_per_second), global_step_val)\n",
    "                        sv.summary_writer.flush()\n",
    "\n",
    "                        # Exporting the model every x steps\n",
    "                        time_to_export = ((self.last_model_export_step == 0) or\n",
    "                                (global_step_val - self.last_model_export_step\n",
    "                                 >= self.export_model_steps))\n",
    "\n",
    "                        if self.is_master and time_to_export:\n",
    "                            self.export_model(global_step_val, sv.saver, sv.save_path, sess)\n",
    "                            self.last_model_export_step = global_step_val\n",
    "                    else:\n",
    "                        logging.info(\"training step \" + str(global_step_val) + \" | Loss: \" +\n",
    "                            (\"%.2f\" % loss_val) + \" Examples/sec: \" + (\"%.2f\" % examples_per_second))\n",
    "            except tf.errors.OutOfRangeError:\n",
    "                logging.info(\"%s: Done training -- epoch limit reached.\",\n",
    "                                         task_as_string(self.task))\n",
    "\n",
    "        logging.info(\"%s: Exited training loop.\", task_as_string(self.task))\n",
    "        sv.Stop()\n",
    "\n",
    "    def export_model(self, global_step_val, saver, save_path, session):\n",
    "\n",
    "        # If the model has already been exported at this step, return.\n",
    "        if global_step_val == self.last_model_export_step:\n",
    "            return\n",
    "\n",
    "        last_checkpoint = saver.save(session, save_path, global_step_val)\n",
    "\n",
    "        model_dir = \"{0}/export/step_{1}\".format(self.train_dir, global_step_val)\n",
    "        logging.info(\"%s: Exporting the model at step %s to %s.\",\n",
    "                                 task_as_string(self.task), global_step_val, model_dir)\n",
    "\n",
    "        self.model_exporter.export_model(\n",
    "                model_dir=model_dir,\n",
    "                global_step_val=global_step_val,\n",
    "                last_checkpoint=last_checkpoint)\n",
    "\n",
    "    def start_server_if_distributed(self):\n",
    "        \"\"\"Starts a server if the execution is distributed.\"\"\"\n",
    "\n",
    "        if self.cluster:\n",
    "            logging.info(\"%s: Starting trainer within cluster %s.\",\n",
    "                                     task_as_string(self.task), self.cluster.as_dict())\n",
    "            server = start_server(self.cluster, self.task)\n",
    "            target = server.target\n",
    "            device_fn = tf.train.replica_device_setter(\n",
    "                    ps_device=\"/job:ps\",\n",
    "                    worker_device=\"/job:%s/task:%d\" % (self.task.type, self.task.index),\n",
    "                    cluster=self.cluster)\n",
    "        else:\n",
    "            target = \"\"\n",
    "            device_fn = \"\"\n",
    "        return (target, device_fn)\n",
    "\n",
    "    def remove_training_directory(self, train_dir):\n",
    "        \"\"\"Removes the training directory.\"\"\"\n",
    "        try:\n",
    "            logging.info(\n",
    "                    \"%s: Removing existing train directory.\",\n",
    "                    task_as_string(self.task))\n",
    "            gfile.DeleteRecursively(train_dir)\n",
    "        except:\n",
    "            logging.error(\n",
    "                    \"%s: Failed to delete directory \" + train_dir +\n",
    "                    \" when starting a new model. Please delete it manually and\" +\n",
    "                    \" try again.\", task_as_string(self.task))\n",
    "\n",
    "    def get_meta_filename(self, start_new_model, train_dir):\n",
    "        if start_new_model:\n",
    "            logging.info(\"%s: Flag 'start_new_model' is set. Building a new model.\",\n",
    "                                     task_as_string(self.task))\n",
    "            return None\n",
    "\n",
    "        latest_checkpoint = tf.train.latest_checkpoint(train_dir)\n",
    "        if not latest_checkpoint:\n",
    "            logging.info(\"%s: No checkpoint file found. Building a new model.\",\n",
    "                                     task_as_string(self.task))\n",
    "            return None\n",
    "\n",
    "        meta_filename = latest_checkpoint + \".meta\"\n",
    "        if not gfile.Exists(meta_filename):\n",
    "            logging.info(\"%s: No meta graph file found. Building a new model.\",\n",
    "                                         task_as_string(self.task))\n",
    "            return None\n",
    "        else:\n",
    "            return meta_filename\n",
    "\n",
    "    def recover_model(self, meta_filename):\n",
    "        logging.info(\"%s: Restoring from meta graph file %s\",\n",
    "                                 task_as_string(self.task), meta_filename)\n",
    "        return tf.train.import_meta_graph(meta_filename)\n",
    "\n",
    "    def build_model(self, model, reader):\n",
    "        \"\"\"Find the model and build the graph.\"\"\"\n",
    "\n",
    "        label_loss_fn = find_class_by_name(FLAGS.label_loss, [losses])()\n",
    "        optimizer_class = find_class_by_name(FLAGS.optimizer, [tf.train])\n",
    "\n",
    "        build_graph(reader=reader,\n",
    "                                 model=model,\n",
    "                                 optimizer_class=optimizer_class,\n",
    "                                 clip_gradient_norm=FLAGS.clip_gradient_norm,\n",
    "                                 train_data_pattern=FLAGS.train_data_pattern,\n",
    "                                 label_loss_fn=label_loss_fn,\n",
    "                                 base_learning_rate=FLAGS.base_learning_rate,\n",
    "                                 learning_rate_decay=FLAGS.learning_rate_decay,\n",
    "                                 learning_rate_decay_examples=FLAGS.learning_rate_decay_examples,\n",
    "                                 regularization_penalty=FLAGS.regularization_penalty,\n",
    "                                 num_readers=FLAGS.num_readers,\n",
    "                                 batch_size=FLAGS.batch_size,\n",
    "                                 num_epochs=FLAGS.num_epochs)\n",
    "\n",
    "        return tf.train.Saver(max_to_keep=0, keep_checkpoint_every_n_hours=0.25)\n",
    "\n",
    "\n",
    "def get_reader():\n",
    "    # Convert feature_names and feature_sizes to lists of values.\n",
    "    feature_names, feature_sizes = utils.GetListOfFeatureNamesAndSizes(\n",
    "            FLAGS.feature_names, FLAGS.feature_sizes)\n",
    "    num_classes = FLAGS.num_classes\n",
    "\n",
    "    if FLAGS.frame_features:\n",
    "        reader = readers.YT8MFrameFeatureReader(\n",
    "                num_classes=num_classes,\n",
    "                feature_names=feature_names, feature_sizes=feature_sizes)\n",
    "    else:\n",
    "        reader = readers.YT8MAggregatedFeatureReader(\n",
    "                num_classes=num_classes,\n",
    "                feature_names=feature_names, feature_sizes=feature_sizes)\n",
    "\n",
    "    return reader\n",
    "\n",
    "\n",
    "class ParameterServer(object):\n",
    "    \"\"\"A parameter server to serve variables in a distributed execution.\"\"\"\n",
    "\n",
    "    def __init__(self, cluster, task):\n",
    "        \"\"\"Creates a ParameterServer.\n",
    "\n",
    "        Args:\n",
    "            cluster: A tf.train.ClusterSpec if the execution is distributed.\n",
    "                None otherwise.\n",
    "            task: A TaskSpec describing the job type and the task index.\n",
    "        \"\"\"\n",
    "\n",
    "        self.cluster = cluster\n",
    "        self.task = task\n",
    "\n",
    "    def run(self):\n",
    "        \"\"\"Starts the parameter server.\"\"\"\n",
    "\n",
    "        logging.info(\"%s: Starting parameter server within cluster %s.\",\n",
    "                                 task_as_string(self.task), self.cluster.as_dict())\n",
    "        server = start_server(self.cluster, self.task)\n",
    "        server.join()\n",
    "\n",
    "\n",
    "def start_server(cluster, task):\n",
    "    \"\"\"Creates a Server.\n",
    "\n",
    "    Args:\n",
    "        cluster: A tf.train.ClusterSpec if the execution is distributed.\n",
    "            None otherwise.\n",
    "        task: A TaskSpec describing the job type and the task index.\n",
    "    \"\"\"\n",
    "\n",
    "    if not task.type:\n",
    "        raise ValueError(\"%s: The task type must be specified.\" %\n",
    "                                         task_as_string(task))\n",
    "    if task.index is None:\n",
    "        raise ValueError(\"%s: The task index must be specified.\" %\n",
    "                                         task_as_string(task))\n",
    "\n",
    "    # Create and start a server.\n",
    "    return tf.train.Server(\n",
    "            tf.train.ClusterSpec(cluster),\n",
    "            protocol=\"grpc\",\n",
    "            job_name=task.type,\n",
    "            task_index=task.index)\n",
    "\n",
    "def task_as_string(task):\n",
    "    return \"/job:%s/task:%s\" % (task.type, task.index)\n",
    "\n"
   ]
  },
  {
   "cell_type": "code",
   "execution_count": 8,
   "metadata": {
    "jupyter": {
     "outputs_hidden": true
    }
   },
   "outputs": [],
   "source": [
    "def main(unused_argv):\n",
    "    # Load the environment.\n",
    "    env = json.loads(os.environ.get(\"TF_CONFIG\", \"{}\"))\n",
    "\n",
    "    # Load the cluster data from the environment.\n",
    "    cluster_data = env.get(\"cluster\", None)\n",
    "    cluster = tf.train.ClusterSpec(cluster_data) if cluster_data else None\n",
    "\n",
    "    # Load the task data from the environment.\n",
    "    task_data = env.get(\"task\", None) or {\"type\": \"master\", \"index\": 0}\n",
    "    task = type(\"TaskSpec\", (object,), task_data)\n",
    "\n",
    "    # Logging the version.\n",
    "    logging.set_verbosity(tf.logging.INFO)\n",
    "    logging.info(\"%s: Tensorflow version: %s.\",\n",
    "                             task_as_string(task), tf.__version__)\n",
    "\n",
    "    # Dispatch to a master, a worker, or a parameter server.\n",
    "    if not cluster or task.type == \"master\" or task.type == \"worker\":\n",
    "        model = find_class_by_name(FLAGS.model,\n",
    "                [frame_level_models, video_level_models])()\n",
    "\n",
    "        reader = get_reader()\n",
    "\n",
    "        model_exporter = export_model.ModelExporter(\n",
    "                frame_features=FLAGS.frame_features,\n",
    "                model=model,\n",
    "                reader=reader)\n",
    "\n",
    "        Trainer(cluster, task, FLAGS.train_dir, model, reader, model_exporter,\n",
    "                        FLAGS.log_device_placement, FLAGS.max_steps,\n",
    "                        FLAGS.export_model_steps).run(start_new_model=FLAGS.start_new_model)\n",
    "\n",
    "    elif task.type == \"ps\":\n",
    "        ParameterServer(cluster, task).run()\n",
    "    else:\n",
    "        raise ValueError(\"%s: Invalid task_type: %s.\" %\n",
    "                                         (task_as_string(task), task.type))\n",
    "\n",
    "\n",
    "\n",
    "    "
   ]
  },
  {
   "cell_type": "code",
   "execution_count": 9,
   "metadata": {},
   "outputs": [
    {
     "name": "stdout",
     "output_type": "stream",
     "text": [
      "INFO:tensorflow:/job:master/task:0: Tensorflow version: 1.15.2.\n"
     ]
    },
    {
     "name": "stderr",
     "output_type": "stream",
     "text": [
      "I0320 11:18:49.476936 140413923567424 <ipython-input-8-a439d4f2db1e>:16] /job:master/task:0: Tensorflow version: 1.15.2.\n"
     ]
    },
    {
     "name": "stdout",
     "output_type": "stream",
     "text": [
      "WARNING:tensorflow:From ./vggish/export_model.py:64: The name tf.placeholder is deprecated. Please use tf.compat.v1.placeholder instead.\n",
      "\n"
     ]
    },
    {
     "name": "stderr",
     "output_type": "stream",
     "text": [
      "W0320 11:18:49.478618 140413923567424 module_wrapper.py:139] From ./vggish/export_model.py:64: The name tf.placeholder is deprecated. Please use tf.compat.v1.placeholder instead.\n",
      "\n"
     ]
    },
    {
     "name": "stdout",
     "output_type": "stream",
     "text": [
      "WARNING:tensorflow:From ./vggish/readers.py:216: The name tf.parse_single_sequence_example is deprecated. Please use tf.io.parse_single_sequence_example instead.\n",
      "\n"
     ]
    },
    {
     "name": "stderr",
     "output_type": "stream",
     "text": [
      "W0320 11:18:49.504431 140413923567424 module_wrapper.py:139] From ./vggish/readers.py:216: The name tf.parse_single_sequence_example is deprecated. Please use tf.io.parse_single_sequence_example instead.\n",
      "\n"
     ]
    },
    {
     "name": "stdout",
     "output_type": "stream",
     "text": [
      "WARNING:tensorflow:From ./vggish/readers.py:218: The name tf.FixedLenFeature is deprecated. Please use tf.io.FixedLenFeature instead.\n",
      "\n"
     ]
    },
    {
     "name": "stderr",
     "output_type": "stream",
     "text": [
      "W0320 11:18:49.505456 140413923567424 module_wrapper.py:139] From ./vggish/readers.py:218: The name tf.FixedLenFeature is deprecated. Please use tf.io.FixedLenFeature instead.\n",
      "\n"
     ]
    },
    {
     "name": "stdout",
     "output_type": "stream",
     "text": [
      "WARNING:tensorflow:From ./vggish/readers.py:220: The name tf.VarLenFeature is deprecated. Please use tf.io.VarLenFeature instead.\n",
      "\n"
     ]
    },
    {
     "name": "stderr",
     "output_type": "stream",
     "text": [
      "W0320 11:18:49.506119 140413923567424 module_wrapper.py:139] From ./vggish/readers.py:220: The name tf.VarLenFeature is deprecated. Please use tf.io.VarLenFeature instead.\n",
      "\n"
     ]
    },
    {
     "name": "stdout",
     "output_type": "stream",
     "text": [
      "WARNING:tensorflow:From ./vggish/readers.py:223: The name tf.FixedLenSequenceFeature is deprecated. Please use tf.io.FixedLenSequenceFeature instead.\n",
      "\n"
     ]
    },
    {
     "name": "stderr",
     "output_type": "stream",
     "text": [
      "W0320 11:18:49.506850 140413923567424 module_wrapper.py:139] From ./vggish/readers.py:223: The name tf.FixedLenSequenceFeature is deprecated. Please use tf.io.FixedLenSequenceFeature instead.\n",
      "\n"
     ]
    },
    {
     "name": "stdout",
     "output_type": "stream",
     "text": [
      "WARNING:tensorflow:From ./vggish/readers.py:229: sparse_to_dense (from tensorflow.python.ops.sparse_ops) is deprecated and will be removed in a future version.\n",
      "Instructions for updating:\n",
      "Create a `tf.sparse.SparseTensor` and use `tf.sparse.to_dense` instead.\n"
     ]
    },
    {
     "name": "stderr",
     "output_type": "stream",
     "text": [
      "W0320 11:18:49.511258 140413923567424 deprecation.py:323] From ./vggish/readers.py:229: sparse_to_dense (from tensorflow.python.ops.sparse_ops) is deprecated and will be removed in a future version.\n",
      "Instructions for updating:\n",
      "Create a `tf.sparse.SparseTensor` and use `tf.sparse.to_dense` instead.\n"
     ]
    },
    {
     "name": "stdout",
     "output_type": "stream",
     "text": [
      "WARNING:tensorflow:From ./vggish/export_model.py:94: The name tf.variable_scope is deprecated. Please use tf.compat.v1.variable_scope instead.\n",
      "\n"
     ]
    },
    {
     "name": "stderr",
     "output_type": "stream",
     "text": [
      "W0320 11:18:49.534933 140413923567424 module_wrapper.py:139] From ./vggish/export_model.py:94: The name tf.variable_scope is deprecated. Please use tf.compat.v1.variable_scope instead.\n",
      "\n"
     ]
    },
    {
     "name": "stdout",
     "output_type": "stream",
     "text": [
      "WARNING:tensorflow:From /usr/local/lib/python3.6/dist-packages/tensorflow_core/contrib/layers/python/layers/layers.py:1866: Layer.apply (from tensorflow.python.keras.engine.base_layer) is deprecated and will be removed in a future version.\n",
      "Instructions for updating:\n",
      "Please use `layer.__call__` method instead.\n"
     ]
    },
    {
     "name": "stderr",
     "output_type": "stream",
     "text": [
      "W0320 11:18:49.541054 140413923567424 deprecation.py:323] From /usr/local/lib/python3.6/dist-packages/tensorflow_core/contrib/layers/python/layers/layers.py:1866: Layer.apply (from tensorflow.python.keras.engine.base_layer) is deprecated and will be removed in a future version.\n",
      "Instructions for updating:\n",
      "Please use `layer.__call__` method instead.\n"
     ]
    },
    {
     "name": "stdout",
     "output_type": "stream",
     "text": [
      "WARNING:tensorflow:From ./vggish/export_model.py:103: The name tf.summary.histogram is deprecated. Please use tf.compat.v1.summary.histogram instead.\n",
      "\n"
     ]
    },
    {
     "name": "stderr",
     "output_type": "stream",
     "text": [
      "W0320 11:18:49.552185 140413923567424 module_wrapper.py:139] From ./vggish/export_model.py:103: The name tf.summary.histogram is deprecated. Please use tf.compat.v1.summary.histogram instead.\n",
      "\n"
     ]
    },
    {
     "name": "stdout",
     "output_type": "stream",
     "text": [
      "WARNING:tensorflow:From ./vggish/export_model.py:78: build_tensor_info (from tensorflow.python.saved_model.utils_impl) is deprecated and will be removed in a future version.\n",
      "Instructions for updating:\n",
      "This function will only be available through the v1 compatibility library as tf.compat.v1.saved_model.utils.build_tensor_info or tf.compat.v1.saved_model.build_tensor_info.\n"
     ]
    },
    {
     "name": "stderr",
     "output_type": "stream",
     "text": [
      "W0320 11:18:49.568907 140413923567424 deprecation.py:323] From ./vggish/export_model.py:78: build_tensor_info (from tensorflow.python.saved_model.utils_impl) is deprecated and will be removed in a future version.\n",
      "Instructions for updating:\n",
      "This function will only be available through the v1 compatibility library as tf.compat.v1.saved_model.utils.build_tensor_info or tf.compat.v1.saved_model.build_tensor_info.\n"
     ]
    },
    {
     "name": "stdout",
     "output_type": "stream",
     "text": [
      "WARNING:tensorflow:From ./vggish/export_model.py:37: The name tf.train.Saver is deprecated. Please use tf.compat.v1.train.Saver instead.\n",
      "\n"
     ]
    },
    {
     "name": "stderr",
     "output_type": "stream",
     "text": [
      "W0320 11:18:49.570464 140413923567424 module_wrapper.py:139] From ./vggish/export_model.py:37: The name tf.train.Saver is deprecated. Please use tf.compat.v1.train.Saver instead.\n",
      "\n"
     ]
    },
    {
     "name": "stdout",
     "output_type": "stream",
     "text": [
      "WARNING:tensorflow:From ./vggish/export_model.py:37: The name tf.trainable_variables is deprecated. Please use tf.compat.v1.trainable_variables instead.\n",
      "\n"
     ]
    },
    {
     "name": "stderr",
     "output_type": "stream",
     "text": [
      "W0320 11:18:49.571330 140413923567424 module_wrapper.py:139] From ./vggish/export_model.py:37: The name tf.trainable_variables is deprecated. Please use tf.compat.v1.trainable_variables instead.\n",
      "\n"
     ]
    },
    {
     "name": "stdout",
     "output_type": "stream",
     "text": [
      "INFO:tensorflow:/job:master/task:0: Restoring from meta graph file ./tmp/serval03hugo/model.ckpt-310.meta\n"
     ]
    },
    {
     "name": "stderr",
     "output_type": "stream",
     "text": [
      "I0320 11:18:49.585425 140413923567424 <ipython-input-7-e1062270148e>:438] /job:master/task:0: Restoring from meta graph file ./tmp/serval03hugo/model.ckpt-310.meta\n"
     ]
    },
    {
     "name": "stdout",
     "output_type": "stream",
     "text": [
      "WARNING:tensorflow:From /usr/local/lib/python3.6/dist-packages/tensorflow_core/python/training/queue_runner_impl.py:391: QueueRunner.__init__ (from tensorflow.python.training.queue_runner_impl) is deprecated and will be removed in a future version.\n",
      "Instructions for updating:\n",
      "To construct input pipelines, use the `tf.data` module.\n"
     ]
    },
    {
     "name": "stderr",
     "output_type": "stream",
     "text": [
      "W0320 11:18:49.678023 140413923567424 deprecation.py:323] From /usr/local/lib/python3.6/dist-packages/tensorflow_core/python/training/queue_runner_impl.py:391: QueueRunner.__init__ (from tensorflow.python.training.queue_runner_impl) is deprecated and will be removed in a future version.\n",
      "Instructions for updating:\n",
      "To construct input pipelines, use the `tf.data` module.\n"
     ]
    },
    {
     "name": "stdout",
     "output_type": "stream",
     "text": [
      "WARNING:tensorflow:From <ipython-input-7-e1062270148e>:309: Supervisor.__init__ (from tensorflow.python.training.supervisor) is deprecated and will be removed in a future version.\n",
      "Instructions for updating:\n",
      "Please switch to tf.train.MonitoredTrainingSession\n"
     ]
    },
    {
     "name": "stderr",
     "output_type": "stream",
     "text": [
      "W0320 11:18:49.680846 140413923567424 deprecation.py:323] From <ipython-input-7-e1062270148e>:309: Supervisor.__init__ (from tensorflow.python.training.supervisor) is deprecated and will be removed in a future version.\n",
      "Instructions for updating:\n",
      "Please switch to tf.train.MonitoredTrainingSession\n"
     ]
    },
    {
     "name": "stdout",
     "output_type": "stream",
     "text": [
      "INFO:tensorflow:/job:master/task:0: Starting managed session.\n"
     ]
    },
    {
     "name": "stderr",
     "output_type": "stream",
     "text": [
      "I0320 11:18:49.713610 140413923567424 <ipython-input-7-e1062270148e>:311] /job:master/task:0: Starting managed session.\n"
     ]
    },
    {
     "name": "stdout",
     "output_type": "stream",
     "text": [
      "INFO:tensorflow:Restoring parameters from ./tmp/serval03hugo/model.ckpt-310\n"
     ]
    },
    {
     "name": "stderr",
     "output_type": "stream",
     "text": [
      "I0320 11:18:49.824766 140413923567424 saver.py:1284] Restoring parameters from ./tmp/serval03hugo/model.ckpt-310\n"
     ]
    },
    {
     "name": "stdout",
     "output_type": "stream",
     "text": [
      "WARNING:tensorflow:From /usr/local/lib/python3.6/dist-packages/tensorflow_core/python/training/saver.py:1069: get_checkpoint_mtimes (from tensorflow.python.training.checkpoint_management) is deprecated and will be removed in a future version.\n",
      "Instructions for updating:\n",
      "Use standard file utilities to get mtimes.\n"
     ]
    },
    {
     "name": "stderr",
     "output_type": "stream",
     "text": [
      "W0320 11:18:50.152713 140413923567424 deprecation.py:323] From /usr/local/lib/python3.6/dist-packages/tensorflow_core/python/training/saver.py:1069: get_checkpoint_mtimes (from tensorflow.python.training.checkpoint_management) is deprecated and will be removed in a future version.\n",
      "Instructions for updating:\n",
      "Use standard file utilities to get mtimes.\n"
     ]
    },
    {
     "name": "stdout",
     "output_type": "stream",
     "text": [
      "INFO:tensorflow:Running local_init_op.\n"
     ]
    },
    {
     "name": "stderr",
     "output_type": "stream",
     "text": [
      "I0320 11:18:50.154989 140413923567424 session_manager.py:500] Running local_init_op.\n"
     ]
    },
    {
     "name": "stdout",
     "output_type": "stream",
     "text": [
      "INFO:tensorflow:Done running local_init_op.\n"
     ]
    },
    {
     "name": "stderr",
     "output_type": "stream",
     "text": [
      "I0320 11:18:50.167600 140413923567424 session_manager.py:502] Done running local_init_op.\n"
     ]
    },
    {
     "name": "stdout",
     "output_type": "stream",
     "text": [
      "INFO:tensorflow:Starting standard services.\n"
     ]
    },
    {
     "name": "stderr",
     "output_type": "stream",
     "text": [
      "I0320 11:18:50.442441 140413923567424 supervisor.py:737] Starting standard services.\n"
     ]
    },
    {
     "name": "stdout",
     "output_type": "stream",
     "text": [
      "INFO:tensorflow:Saving checkpoint to path ./tmp/serval03hugo/model.ckpt\n"
     ]
    },
    {
     "name": "stderr",
     "output_type": "stream",
     "text": [
      "I0320 11:18:50.452313 140402908702464 supervisor.py:1117] Saving checkpoint to path ./tmp/serval03hugo/model.ckpt\n"
     ]
    },
    {
     "name": "stdout",
     "output_type": "stream",
     "text": [
      "INFO:tensorflow:Starting queue runners.\n"
     ]
    },
    {
     "name": "stderr",
     "output_type": "stream",
     "text": [
      "I0320 11:18:50.452597 140413923567424 supervisor.py:743] Starting queue runners.\n"
     ]
    },
    {
     "name": "stdout",
     "output_type": "stream",
     "text": [
      "INFO:tensorflow:/job:master/task:0: Entering training loop.\n"
     ]
    },
    {
     "name": "stderr",
     "output_type": "stream",
     "text": [
      "I0320 11:18:50.457856 140413923567424 <ipython-input-7-e1062270148e>:314] /job:master/task:0: Entering training loop.\n"
     ]
    },
    {
     "name": "stdout",
     "output_type": "stream",
     "text": [
      "INFO:tensorflow:global_step/sec: 0\n"
     ]
    },
    {
     "name": "stderr",
     "output_type": "stream",
     "text": [
      "I0320 11:18:50.588297 140402900309760 supervisor.py:1099] global_step/sec: 0\n"
     ]
    },
    {
     "name": "stdout",
     "output_type": "stream",
     "text": [
      "INFO:tensorflow:training step 311 | Loss: 2.25 Examples/sec: 1395.91\n"
     ]
    },
    {
     "name": "stderr",
     "output_type": "stream",
     "text": [
      "I0320 11:18:51.192476 140413923567424 <ipython-input-7-e1062270148e>:361] training step 311 | Loss: 2.25 Examples/sec: 1395.91\n"
     ]
    },
    {
     "name": "stdout",
     "output_type": "stream",
     "text": [
      "INFO:tensorflow:training step 312 | Loss: 2.21 Examples/sec: 6177.68\n"
     ]
    },
    {
     "name": "stderr",
     "output_type": "stream",
     "text": [
      "I0320 11:18:51.360166 140413923567424 <ipython-input-7-e1062270148e>:361] training step 312 | Loss: 2.21 Examples/sec: 6177.68\n"
     ]
    },
    {
     "name": "stdout",
     "output_type": "stream",
     "text": [
      "INFO:tensorflow:Recording summary at step 312.\n"
     ]
    },
    {
     "name": "stderr",
     "output_type": "stream",
     "text": [
      "I0320 11:18:51.413785 140402615121664 supervisor.py:1050] Recording summary at step 312.\n"
     ]
    },
    {
     "name": "stdout",
     "output_type": "stream",
     "text": [
      "INFO:tensorflow:training step 313 | Loss: 2.17 Examples/sec: 6206.68\n"
     ]
    },
    {
     "name": "stderr",
     "output_type": "stream",
     "text": [
      "I0320 11:18:51.526849 140413923567424 <ipython-input-7-e1062270148e>:361] training step 313 | Loss: 2.17 Examples/sec: 6206.68\n"
     ]
    },
    {
     "name": "stdout",
     "output_type": "stream",
     "text": [
      "INFO:tensorflow:training step 314 | Loss: 2.24 Examples/sec: 6277.02\n"
     ]
    },
    {
     "name": "stderr",
     "output_type": "stream",
     "text": [
      "I0320 11:18:51.691093 140413923567424 <ipython-input-7-e1062270148e>:361] training step 314 | Loss: 2.24 Examples/sec: 6277.02\n"
     ]
    },
    {
     "name": "stdout",
     "output_type": "stream",
     "text": [
      "INFO:tensorflow:training step 315 | Loss: 2.23 Examples/sec: 6519.48\n"
     ]
    },
    {
     "name": "stderr",
     "output_type": "stream",
     "text": [
      "I0320 11:18:51.849579 140413923567424 <ipython-input-7-e1062270148e>:361] training step 315 | Loss: 2.23 Examples/sec: 6519.48\n"
     ]
    },
    {
     "name": "stdout",
     "output_type": "stream",
     "text": [
      "INFO:tensorflow:training step 316 | Loss: 2.29 Examples/sec: 6549.41\n"
     ]
    },
    {
     "name": "stderr",
     "output_type": "stream",
     "text": [
      "I0320 11:18:52.007703 140413923567424 <ipython-input-7-e1062270148e>:361] training step 316 | Loss: 2.29 Examples/sec: 6549.41\n"
     ]
    },
    {
     "name": "stdout",
     "output_type": "stream",
     "text": [
      "INFO:tensorflow:training step 317 | Loss: 2.19 Examples/sec: 6573.45\n"
     ]
    },
    {
     "name": "stderr",
     "output_type": "stream",
     "text": [
      "I0320 11:18:52.165177 140413923567424 <ipython-input-7-e1062270148e>:361] training step 317 | Loss: 2.19 Examples/sec: 6573.45\n"
     ]
    },
    {
     "name": "stdout",
     "output_type": "stream",
     "text": [
      "INFO:tensorflow:training step 318 | Loss: 2.21 Examples/sec: 6578.17\n"
     ]
    },
    {
     "name": "stderr",
     "output_type": "stream",
     "text": [
      "I0320 11:18:52.322790 140413923567424 <ipython-input-7-e1062270148e>:361] training step 318 | Loss: 2.21 Examples/sec: 6578.17\n"
     ]
    },
    {
     "name": "stdout",
     "output_type": "stream",
     "text": [
      "INFO:tensorflow:training step 319 | Loss: 2.18 Examples/sec: 6082.59\n"
     ]
    },
    {
     "name": "stderr",
     "output_type": "stream",
     "text": [
      "I0320 11:18:52.493052 140413923567424 <ipython-input-7-e1062270148e>:361] training step 319 | Loss: 2.18 Examples/sec: 6082.59\n"
     ]
    },
    {
     "name": "stdout",
     "output_type": "stream",
     "text": [
      "INFO:tensorflow:training step 320 | Loss: 2.20 Examples/sec: 6580.62 | Hit@1: 0.72 PERR: 0.72 GAP: 0.77\n"
     ]
    },
    {
     "name": "stderr",
     "output_type": "stream",
     "text": [
      "I0320 11:18:52.778117 140413923567424 <ipython-input-7-e1062270148e>:337] training step 320 | Loss: 2.20 Examples/sec: 6580.62 | Hit@1: 0.72 PERR: 0.72 GAP: 0.77\n"
     ]
    },
    {
     "name": "stdout",
     "output_type": "stream",
     "text": [
      "INFO:tensorflow:./tmp/serval03hugo/model.ckpt-320 is not in all_model_checkpoint_paths. Manually adding it.\n"
     ]
    },
    {
     "name": "stderr",
     "output_type": "stream",
     "text": [
      "I0320 11:18:52.785096 140413923567424 checkpoint_management.py:95] ./tmp/serval03hugo/model.ckpt-320 is not in all_model_checkpoint_paths. Manually adding it.\n"
     ]
    },
    {
     "name": "stdout",
     "output_type": "stream",
     "text": [
      "INFO:tensorflow:/job:master/task:0: Exporting the model at step 320 to ./tmp/serval03hugo/export/step_320.\n"
     ]
    },
    {
     "name": "stderr",
     "output_type": "stream",
     "text": [
      "I0320 11:18:52.889667 140413923567424 <ipython-input-7-e1062270148e>:379] /job:master/task:0: Exporting the model at step 320 to ./tmp/serval03hugo/export/step_320.\n"
     ]
    },
    {
     "name": "stdout",
     "output_type": "stream",
     "text": [
      "WARNING:tensorflow:From ./vggish/export_model.py:43: The name tf.Session is deprecated. Please use tf.compat.v1.Session instead.\n",
      "\n"
     ]
    },
    {
     "name": "stderr",
     "output_type": "stream",
     "text": [
      "W0320 11:18:52.891189 140413923567424 module_wrapper.py:139] From ./vggish/export_model.py:43: The name tf.Session is deprecated. Please use tf.compat.v1.Session instead.\n",
      "\n"
     ]
    },
    {
     "name": "stdout",
     "output_type": "stream",
     "text": [
      "INFO:tensorflow:Restoring parameters from ./tmp/serval03hugo/model.ckpt-320\n"
     ]
    },
    {
     "name": "stderr",
     "output_type": "stream",
     "text": [
      "I0320 11:18:52.911983 140413923567424 saver.py:1284] Restoring parameters from ./tmp/serval03hugo/model.ckpt-320\n"
     ]
    },
    {
     "name": "stdout",
     "output_type": "stream",
     "text": [
      "INFO:tensorflow:No assets to save.\n"
     ]
    },
    {
     "name": "stderr",
     "output_type": "stream",
     "text": [
      "I0320 11:18:52.921472 140413923567424 builder_impl.py:640] No assets to save.\n"
     ]
    },
    {
     "name": "stdout",
     "output_type": "stream",
     "text": [
      "INFO:tensorflow:No assets to write.\n"
     ]
    },
    {
     "name": "stderr",
     "output_type": "stream",
     "text": [
      "I0320 11:18:52.922607 140413923567424 builder_impl.py:460] No assets to write.\n"
     ]
    },
    {
     "name": "stdout",
     "output_type": "stream",
     "text": [
      "INFO:tensorflow:SavedModel written to: ./tmp/serval03hugo/export/step_320/saved_model.pb\n"
     ]
    },
    {
     "name": "stderr",
     "output_type": "stream",
     "text": [
      "I0320 11:18:52.975056 140413923567424 builder_impl.py:425] SavedModel written to: ./tmp/serval03hugo/export/step_320/saved_model.pb\n"
     ]
    },
    {
     "name": "stdout",
     "output_type": "stream",
     "text": [
      "INFO:tensorflow:training step 321 | Loss: 2.20 Examples/sec: 14389.95\n"
     ]
    },
    {
     "name": "stderr",
     "output_type": "stream",
     "text": [
      "I0320 11:18:53.049055 140413923567424 <ipython-input-7-e1062270148e>:361] training step 321 | Loss: 2.20 Examples/sec: 14389.95\n"
     ]
    },
    {
     "name": "stdout",
     "output_type": "stream",
     "text": [
      "INFO:tensorflow:training step 322 | Loss: 2.17 Examples/sec: 6746.57\n"
     ]
    },
    {
     "name": "stderr",
     "output_type": "stream",
     "text": [
      "I0320 11:18:53.202738 140413923567424 <ipython-input-7-e1062270148e>:361] training step 322 | Loss: 2.17 Examples/sec: 6746.57\n"
     ]
    },
    {
     "name": "stdout",
     "output_type": "stream",
     "text": [
      "INFO:tensorflow:training step 323 | Loss: 2.20 Examples/sec: 6167.32\n"
     ]
    },
    {
     "name": "stderr",
     "output_type": "stream",
     "text": [
      "I0320 11:18:53.370322 140413923567424 <ipython-input-7-e1062270148e>:361] training step 323 | Loss: 2.20 Examples/sec: 6167.32\n"
     ]
    },
    {
     "name": "stdout",
     "output_type": "stream",
     "text": [
      "INFO:tensorflow:training step 324 | Loss: 2.15 Examples/sec: 6328.45\n"
     ]
    },
    {
     "name": "stderr",
     "output_type": "stream",
     "text": [
      "I0320 11:18:53.534034 140413923567424 <ipython-input-7-e1062270148e>:361] training step 324 | Loss: 2.15 Examples/sec: 6328.45\n"
     ]
    },
    {
     "name": "stdout",
     "output_type": "stream",
     "text": [
      "INFO:tensorflow:training step 325 | Loss: 2.25 Examples/sec: 6553.06\n"
     ]
    },
    {
     "name": "stderr",
     "output_type": "stream",
     "text": [
      "I0320 11:18:53.692270 140413923567424 <ipython-input-7-e1062270148e>:361] training step 325 | Loss: 2.25 Examples/sec: 6553.06\n"
     ]
    },
    {
     "name": "stdout",
     "output_type": "stream",
     "text": [
      "INFO:tensorflow:training step 326 | Loss: 2.17 Examples/sec: 6562.61\n"
     ]
    },
    {
     "name": "stderr",
     "output_type": "stream",
     "text": [
      "I0320 11:18:53.849684 140413923567424 <ipython-input-7-e1062270148e>:361] training step 326 | Loss: 2.17 Examples/sec: 6562.61\n"
     ]
    },
    {
     "name": "stdout",
     "output_type": "stream",
     "text": [
      "INFO:tensorflow:training step 327 | Loss: 2.21 Examples/sec: 6311.38\n"
     ]
    },
    {
     "name": "stderr",
     "output_type": "stream",
     "text": [
      "I0320 11:18:54.013745 140413923567424 <ipython-input-7-e1062270148e>:361] training step 327 | Loss: 2.21 Examples/sec: 6311.38\n"
     ]
    },
    {
     "name": "stdout",
     "output_type": "stream",
     "text": [
      "INFO:tensorflow:training step 328 | Loss: 2.14 Examples/sec: 6259.53\n"
     ]
    },
    {
     "name": "stderr",
     "output_type": "stream",
     "text": [
      "I0320 11:18:54.179112 140413923567424 <ipython-input-7-e1062270148e>:361] training step 328 | Loss: 2.14 Examples/sec: 6259.53\n"
     ]
    },
    {
     "name": "stdout",
     "output_type": "stream",
     "text": [
      "INFO:tensorflow:training step 329 | Loss: 2.16 Examples/sec: 6254.12\n"
     ]
    },
    {
     "name": "stderr",
     "output_type": "stream",
     "text": [
      "I0320 11:18:54.344408 140413923567424 <ipython-input-7-e1062270148e>:361] training step 329 | Loss: 2.16 Examples/sec: 6254.12\n"
     ]
    },
    {
     "name": "stdout",
     "output_type": "stream",
     "text": [
      "INFO:tensorflow:training step 330 | Loss: 2.17 Examples/sec: 6270.24 | Hit@1: 0.72 PERR: 0.72 GAP: 0.78\n"
     ]
    },
    {
     "name": "stderr",
     "output_type": "stream",
     "text": [
      "I0320 11:18:54.633692 140413923567424 <ipython-input-7-e1062270148e>:337] training step 330 | Loss: 2.17 Examples/sec: 6270.24 | Hit@1: 0.72 PERR: 0.72 GAP: 0.78\n"
     ]
    },
    {
     "name": "stdout",
     "output_type": "stream",
     "text": [
      "INFO:tensorflow:./tmp/serval03hugo/model.ckpt-330 is not in all_model_checkpoint_paths. Manually adding it.\n"
     ]
    },
    {
     "name": "stderr",
     "output_type": "stream",
     "text": [
      "I0320 11:18:54.640911 140413923567424 checkpoint_management.py:95] ./tmp/serval03hugo/model.ckpt-330 is not in all_model_checkpoint_paths. Manually adding it.\n"
     ]
    },
    {
     "name": "stdout",
     "output_type": "stream",
     "text": [
      "INFO:tensorflow:/job:master/task:0: Exporting the model at step 330 to ./tmp/serval03hugo/export/step_330.\n"
     ]
    },
    {
     "name": "stderr",
     "output_type": "stream",
     "text": [
      "I0320 11:18:54.690754 140413923567424 <ipython-input-7-e1062270148e>:379] /job:master/task:0: Exporting the model at step 330 to ./tmp/serval03hugo/export/step_330.\n"
     ]
    },
    {
     "name": "stdout",
     "output_type": "stream",
     "text": [
      "INFO:tensorflow:Restoring parameters from ./tmp/serval03hugo/model.ckpt-330\n"
     ]
    },
    {
     "name": "stderr",
     "output_type": "stream",
     "text": [
      "I0320 11:18:54.712852 140413923567424 saver.py:1284] Restoring parameters from ./tmp/serval03hugo/model.ckpt-330\n"
     ]
    },
    {
     "name": "stdout",
     "output_type": "stream",
     "text": [
      "INFO:tensorflow:No assets to save.\n"
     ]
    },
    {
     "name": "stderr",
     "output_type": "stream",
     "text": [
      "I0320 11:18:54.725543 140413923567424 builder_impl.py:640] No assets to save.\n"
     ]
    },
    {
     "name": "stdout",
     "output_type": "stream",
     "text": [
      "INFO:tensorflow:No assets to write.\n"
     ]
    },
    {
     "name": "stderr",
     "output_type": "stream",
     "text": [
      "I0320 11:18:54.726966 140413923567424 builder_impl.py:460] No assets to write.\n"
     ]
    },
    {
     "name": "stdout",
     "output_type": "stream",
     "text": [
      "INFO:tensorflow:SavedModel written to: ./tmp/serval03hugo/export/step_330/saved_model.pb\n"
     ]
    },
    {
     "name": "stderr",
     "output_type": "stream",
     "text": [
      "I0320 11:18:54.783382 140413923567424 builder_impl.py:425] SavedModel written to: ./tmp/serval03hugo/export/step_330/saved_model.pb\n"
     ]
    },
    {
     "name": "stdout",
     "output_type": "stream",
     "text": [
      "INFO:tensorflow:training step 331 | Loss: 2.18 Examples/sec: 11622.12\n"
     ]
    },
    {
     "name": "stderr",
     "output_type": "stream",
     "text": [
      "I0320 11:18:54.873913 140413923567424 <ipython-input-7-e1062270148e>:361] training step 331 | Loss: 2.18 Examples/sec: 11622.12\n"
     ]
    },
    {
     "name": "stdout",
     "output_type": "stream",
     "text": [
      "INFO:tensorflow:training step 332 | Loss: 2.19 Examples/sec: 6252.50\n"
     ]
    },
    {
     "name": "stderr",
     "output_type": "stream",
     "text": [
      "I0320 11:18:55.039276 140413923567424 <ipython-input-7-e1062270148e>:361] training step 332 | Loss: 2.19 Examples/sec: 6252.50\n"
     ]
    },
    {
     "name": "stdout",
     "output_type": "stream",
     "text": [
      "INFO:tensorflow:training step 333 | Loss: 2.14 Examples/sec: 6617.54\n"
     ]
    },
    {
     "name": "stderr",
     "output_type": "stream",
     "text": [
      "I0320 11:18:55.196229 140413923567424 <ipython-input-7-e1062270148e>:361] training step 333 | Loss: 2.14 Examples/sec: 6617.54\n"
     ]
    },
    {
     "name": "stdout",
     "output_type": "stream",
     "text": [
      "INFO:tensorflow:training step 334 | Loss: 2.13 Examples/sec: 6457.34\n"
     ]
    },
    {
     "name": "stderr",
     "output_type": "stream",
     "text": [
      "I0320 11:18:55.356812 140413923567424 <ipython-input-7-e1062270148e>:361] training step 334 | Loss: 2.13 Examples/sec: 6457.34\n"
     ]
    },
    {
     "name": "stdout",
     "output_type": "stream",
     "text": [
      "INFO:tensorflow:training step 335 | Loss: 2.14 Examples/sec: 6146.43\n"
     ]
    },
    {
     "name": "stderr",
     "output_type": "stream",
     "text": [
      "I0320 11:18:55.525033 140413923567424 <ipython-input-7-e1062270148e>:361] training step 335 | Loss: 2.14 Examples/sec: 6146.43\n"
     ]
    },
    {
     "name": "stdout",
     "output_type": "stream",
     "text": [
      "INFO:tensorflow:training step 336 | Loss: 2.14 Examples/sec: 6295.58\n"
     ]
    },
    {
     "name": "stderr",
     "output_type": "stream",
     "text": [
      "I0320 11:18:55.689489 140413923567424 <ipython-input-7-e1062270148e>:361] training step 336 | Loss: 2.14 Examples/sec: 6295.58\n"
     ]
    },
    {
     "name": "stdout",
     "output_type": "stream",
     "text": [
      "INFO:tensorflow:training step 337 | Loss: 2.17 Examples/sec: 6078.96\n"
     ]
    },
    {
     "name": "stderr",
     "output_type": "stream",
     "text": [
      "I0320 11:18:55.859164 140413923567424 <ipython-input-7-e1062270148e>:361] training step 337 | Loss: 2.17 Examples/sec: 6078.96\n"
     ]
    },
    {
     "name": "stdout",
     "output_type": "stream",
     "text": [
      "INFO:tensorflow:training step 338 | Loss: 2.11 Examples/sec: 6285.51\n"
     ]
    },
    {
     "name": "stderr",
     "output_type": "stream",
     "text": [
      "I0320 11:18:56.023807 140413923567424 <ipython-input-7-e1062270148e>:361] training step 338 | Loss: 2.11 Examples/sec: 6285.51\n"
     ]
    },
    {
     "name": "stdout",
     "output_type": "stream",
     "text": [
      "INFO:tensorflow:training step 339 | Loss: 2.14 Examples/sec: 6385.80\n"
     ]
    },
    {
     "name": "stderr",
     "output_type": "stream",
     "text": [
      "I0320 11:18:56.185878 140413923567424 <ipython-input-7-e1062270148e>:361] training step 339 | Loss: 2.14 Examples/sec: 6385.80\n"
     ]
    },
    {
     "name": "stdout",
     "output_type": "stream",
     "text": [
      "INFO:tensorflow:training step 340 | Loss: 2.14 Examples/sec: 6394.05 | Hit@1: 0.75 PERR: 0.75 GAP: 0.79\n"
     ]
    },
    {
     "name": "stderr",
     "output_type": "stream",
     "text": [
      "I0320 11:18:56.556245 140413923567424 <ipython-input-7-e1062270148e>:337] training step 340 | Loss: 2.14 Examples/sec: 6394.05 | Hit@1: 0.75 PERR: 0.75 GAP: 0.79\n"
     ]
    },
    {
     "name": "stdout",
     "output_type": "stream",
     "text": [
      "INFO:tensorflow:./tmp/serval03hugo/model.ckpt-340 is not in all_model_checkpoint_paths. Manually adding it.\n"
     ]
    },
    {
     "name": "stderr",
     "output_type": "stream",
     "text": [
      "I0320 11:18:56.563597 140413923567424 checkpoint_management.py:95] ./tmp/serval03hugo/model.ckpt-340 is not in all_model_checkpoint_paths. Manually adding it.\n"
     ]
    },
    {
     "name": "stdout",
     "output_type": "stream",
     "text": [
      "INFO:tensorflow:/job:master/task:0: Exporting the model at step 340 to ./tmp/serval03hugo/export/step_340.\n"
     ]
    },
    {
     "name": "stderr",
     "output_type": "stream",
     "text": [
      "I0320 11:18:56.667073 140413923567424 <ipython-input-7-e1062270148e>:379] /job:master/task:0: Exporting the model at step 340 to ./tmp/serval03hugo/export/step_340.\n"
     ]
    },
    {
     "name": "stdout",
     "output_type": "stream",
     "text": [
      "INFO:tensorflow:Restoring parameters from ./tmp/serval03hugo/model.ckpt-340\n"
     ]
    },
    {
     "name": "stderr",
     "output_type": "stream",
     "text": [
      "I0320 11:18:56.689851 140413923567424 saver.py:1284] Restoring parameters from ./tmp/serval03hugo/model.ckpt-340\n"
     ]
    },
    {
     "name": "stdout",
     "output_type": "stream",
     "text": [
      "INFO:tensorflow:No assets to save.\n"
     ]
    },
    {
     "name": "stderr",
     "output_type": "stream",
     "text": [
      "I0320 11:18:56.702848 140413923567424 builder_impl.py:640] No assets to save.\n"
     ]
    },
    {
     "name": "stdout",
     "output_type": "stream",
     "text": [
      "INFO:tensorflow:No assets to write.\n"
     ]
    },
    {
     "name": "stderr",
     "output_type": "stream",
     "text": [
      "I0320 11:18:56.704070 140413923567424 builder_impl.py:460] No assets to write.\n"
     ]
    },
    {
     "name": "stdout",
     "output_type": "stream",
     "text": [
      "INFO:tensorflow:SavedModel written to: ./tmp/serval03hugo/export/step_340/saved_model.pb\n"
     ]
    },
    {
     "name": "stderr",
     "output_type": "stream",
     "text": [
      "I0320 11:18:56.765841 140413923567424 builder_impl.py:425] SavedModel written to: ./tmp/serval03hugo/export/step_340/saved_model.pb\n"
     ]
    },
    {
     "name": "stdout",
     "output_type": "stream",
     "text": [
      "INFO:tensorflow:training step 341 | Loss: 2.13 Examples/sec: 15831.76\n"
     ]
    },
    {
     "name": "stderr",
     "output_type": "stream",
     "text": [
      "I0320 11:18:56.833481 140413923567424 <ipython-input-7-e1062270148e>:361] training step 341 | Loss: 2.13 Examples/sec: 15831.76\n"
     ]
    },
    {
     "name": "stdout",
     "output_type": "stream",
     "text": [
      "INFO:tensorflow:training step 342 | Loss: 2.13 Examples/sec: 7197.44\n"
     ]
    },
    {
     "name": "stderr",
     "output_type": "stream",
     "text": [
      "I0320 11:18:56.977400 140413923567424 <ipython-input-7-e1062270148e>:361] training step 342 | Loss: 2.13 Examples/sec: 7197.44\n"
     ]
    },
    {
     "name": "stdout",
     "output_type": "stream",
     "text": [
      "INFO:tensorflow:training step 343 | Loss: 2.05 Examples/sec: 6315.16\n"
     ]
    },
    {
     "name": "stderr",
     "output_type": "stream",
     "text": [
      "I0320 11:18:57.140713 140413923567424 <ipython-input-7-e1062270148e>:361] training step 343 | Loss: 2.05 Examples/sec: 6315.16\n"
     ]
    },
    {
     "name": "stdout",
     "output_type": "stream",
     "text": [
      "INFO:tensorflow:training step 344 | Loss: 2.10 Examples/sec: 6546.91\n"
     ]
    },
    {
     "name": "stderr",
     "output_type": "stream",
     "text": [
      "I0320 11:18:57.298482 140413923567424 <ipython-input-7-e1062270148e>:361] training step 344 | Loss: 2.10 Examples/sec: 6546.91\n"
     ]
    },
    {
     "name": "stdout",
     "output_type": "stream",
     "text": [
      "INFO:tensorflow:training step 345 | Loss: 2.11 Examples/sec: 6194.90\n"
     ]
    },
    {
     "name": "stderr",
     "output_type": "stream",
     "text": [
      "I0320 11:18:57.465274 140413923567424 <ipython-input-7-e1062270148e>:361] training step 345 | Loss: 2.11 Examples/sec: 6194.90\n"
     ]
    },
    {
     "name": "stdout",
     "output_type": "stream",
     "text": [
      "INFO:tensorflow:training step 346 | Loss: 2.18 Examples/sec: 6625.44\n"
     ]
    },
    {
     "name": "stderr",
     "output_type": "stream",
     "text": [
      "I0320 11:18:57.621345 140413923567424 <ipython-input-7-e1062270148e>:361] training step 346 | Loss: 2.18 Examples/sec: 6625.44\n"
     ]
    },
    {
     "name": "stdout",
     "output_type": "stream",
     "text": [
      "INFO:tensorflow:training step 347 | Loss: 2.09 Examples/sec: 6462.96\n"
     ]
    },
    {
     "name": "stderr",
     "output_type": "stream",
     "text": [
      "I0320 11:18:57.781163 140413923567424 <ipython-input-7-e1062270148e>:361] training step 347 | Loss: 2.09 Examples/sec: 6462.96\n"
     ]
    },
    {
     "name": "stdout",
     "output_type": "stream",
     "text": [
      "INFO:tensorflow:training step 348 | Loss: 2.12 Examples/sec: 6588.14\n"
     ]
    },
    {
     "name": "stderr",
     "output_type": "stream",
     "text": [
      "I0320 11:18:57.937954 140413923567424 <ipython-input-7-e1062270148e>:361] training step 348 | Loss: 2.12 Examples/sec: 6588.14\n"
     ]
    },
    {
     "name": "stdout",
     "output_type": "stream",
     "text": [
      "INFO:tensorflow:training step 349 | Loss: 2.03 Examples/sec: 6512.90\n"
     ]
    },
    {
     "name": "stderr",
     "output_type": "stream",
     "text": [
      "I0320 11:18:58.096570 140413923567424 <ipython-input-7-e1062270148e>:361] training step 349 | Loss: 2.03 Examples/sec: 6512.90\n"
     ]
    },
    {
     "name": "stdout",
     "output_type": "stream",
     "text": [
      "INFO:tensorflow:training step 350 | Loss: 2.11 Examples/sec: 6510.08 | Hit@1: 0.74 PERR: 0.74 GAP: 0.79\n"
     ]
    },
    {
     "name": "stderr",
     "output_type": "stream",
     "text": [
      "I0320 11:18:58.395539 140413923567424 <ipython-input-7-e1062270148e>:337] training step 350 | Loss: 2.11 Examples/sec: 6510.08 | Hit@1: 0.74 PERR: 0.74 GAP: 0.79\n"
     ]
    },
    {
     "name": "stdout",
     "output_type": "stream",
     "text": [
      "INFO:tensorflow:./tmp/serval03hugo/model.ckpt-350 is not in all_model_checkpoint_paths. Manually adding it.\n"
     ]
    },
    {
     "name": "stderr",
     "output_type": "stream",
     "text": [
      "I0320 11:18:58.402251 140413923567424 checkpoint_management.py:95] ./tmp/serval03hugo/model.ckpt-350 is not in all_model_checkpoint_paths. Manually adding it.\n"
     ]
    },
    {
     "name": "stdout",
     "output_type": "stream",
     "text": [
      "INFO:tensorflow:/job:master/task:0: Exporting the model at step 350 to ./tmp/serval03hugo/export/step_350.\n"
     ]
    },
    {
     "name": "stderr",
     "output_type": "stream",
     "text": [
      "I0320 11:18:58.514480 140413923567424 <ipython-input-7-e1062270148e>:379] /job:master/task:0: Exporting the model at step 350 to ./tmp/serval03hugo/export/step_350.\n"
     ]
    },
    {
     "name": "stdout",
     "output_type": "stream",
     "text": [
      "INFO:tensorflow:Restoring parameters from ./tmp/serval03hugo/model.ckpt-350\n"
     ]
    },
    {
     "name": "stderr",
     "output_type": "stream",
     "text": [
      "I0320 11:18:58.533981 140413923567424 saver.py:1284] Restoring parameters from ./tmp/serval03hugo/model.ckpt-350\n"
     ]
    },
    {
     "name": "stdout",
     "output_type": "stream",
     "text": [
      "INFO:tensorflow:No assets to save.\n"
     ]
    },
    {
     "name": "stderr",
     "output_type": "stream",
     "text": [
      "I0320 11:18:58.545122 140413923567424 builder_impl.py:640] No assets to save.\n"
     ]
    },
    {
     "name": "stdout",
     "output_type": "stream",
     "text": [
      "INFO:tensorflow:No assets to write.\n"
     ]
    },
    {
     "name": "stderr",
     "output_type": "stream",
     "text": [
      "I0320 11:18:58.546587 140413923567424 builder_impl.py:460] No assets to write.\n"
     ]
    },
    {
     "name": "stdout",
     "output_type": "stream",
     "text": [
      "INFO:tensorflow:SavedModel written to: ./tmp/serval03hugo/export/step_350/saved_model.pb\n"
     ]
    },
    {
     "name": "stderr",
     "output_type": "stream",
     "text": [
      "I0320 11:18:58.597336 140413923567424 builder_impl.py:425] SavedModel written to: ./tmp/serval03hugo/export/step_350/saved_model.pb\n"
     ]
    },
    {
     "name": "stdout",
     "output_type": "stream",
     "text": [
      "INFO:tensorflow:training step 351 | Loss: 2.08 Examples/sec: 16011.66\n"
     ]
    },
    {
     "name": "stderr",
     "output_type": "stream",
     "text": [
      "I0320 11:18:58.664695 140413923567424 <ipython-input-7-e1062270148e>:361] training step 351 | Loss: 2.08 Examples/sec: 16011.66\n"
     ]
    },
    {
     "name": "stdout",
     "output_type": "stream",
     "text": [
      "INFO:tensorflow:training step 352 | Loss: 2.11 Examples/sec: 7129.62\n"
     ]
    },
    {
     "name": "stderr",
     "output_type": "stream",
     "text": [
      "I0320 11:18:58.810065 140413923567424 <ipython-input-7-e1062270148e>:361] training step 352 | Loss: 2.11 Examples/sec: 7129.62\n"
     ]
    },
    {
     "name": "stdout",
     "output_type": "stream",
     "text": [
      "INFO:tensorflow:training step 353 | Loss: 2.10 Examples/sec: 6534.11\n"
     ]
    },
    {
     "name": "stderr",
     "output_type": "stream",
     "text": [
      "I0320 11:18:58.968341 140413923567424 <ipython-input-7-e1062270148e>:361] training step 353 | Loss: 2.10 Examples/sec: 6534.11\n"
     ]
    },
    {
     "name": "stdout",
     "output_type": "stream",
     "text": [
      "INFO:tensorflow:training step 354 | Loss: 2.07 Examples/sec: 6342.59\n"
     ]
    },
    {
     "name": "stderr",
     "output_type": "stream",
     "text": [
      "I0320 11:18:59.131687 140413923567424 <ipython-input-7-e1062270148e>:361] training step 354 | Loss: 2.07 Examples/sec: 6342.59\n"
     ]
    },
    {
     "name": "stdout",
     "output_type": "stream",
     "text": [
      "INFO:tensorflow:training step 355 | Loss: 2.10 Examples/sec: 6507.90\n"
     ]
    },
    {
     "name": "stderr",
     "output_type": "stream",
     "text": [
      "I0320 11:18:59.290466 140413923567424 <ipython-input-7-e1062270148e>:361] training step 355 | Loss: 2.10 Examples/sec: 6507.90\n"
     ]
    },
    {
     "name": "stdout",
     "output_type": "stream",
     "text": [
      "INFO:tensorflow:training step 356 | Loss: 2.05 Examples/sec: 6520.07\n"
     ]
    },
    {
     "name": "stderr",
     "output_type": "stream",
     "text": [
      "I0320 11:18:59.449138 140413923567424 <ipython-input-7-e1062270148e>:361] training step 356 | Loss: 2.05 Examples/sec: 6520.07\n"
     ]
    },
    {
     "name": "stdout",
     "output_type": "stream",
     "text": [
      "INFO:tensorflow:training step 357 | Loss: 2.04 Examples/sec: 6570.59\n"
     ]
    },
    {
     "name": "stderr",
     "output_type": "stream",
     "text": [
      "I0320 11:18:59.606560 140413923567424 <ipython-input-7-e1062270148e>:361] training step 357 | Loss: 2.04 Examples/sec: 6570.59\n"
     ]
    },
    {
     "name": "stdout",
     "output_type": "stream",
     "text": [
      "INFO:tensorflow:training step 358 | Loss: 2.11 Examples/sec: 6471.62\n"
     ]
    },
    {
     "name": "stderr",
     "output_type": "stream",
     "text": [
      "I0320 11:18:59.766608 140413923567424 <ipython-input-7-e1062270148e>:361] training step 358 | Loss: 2.11 Examples/sec: 6471.62\n"
     ]
    },
    {
     "name": "stdout",
     "output_type": "stream",
     "text": [
      "INFO:tensorflow:training step 359 | Loss: 2.03 Examples/sec: 6513.20\n"
     ]
    },
    {
     "name": "stderr",
     "output_type": "stream",
     "text": [
      "I0320 11:18:59.925359 140413923567424 <ipython-input-7-e1062270148e>:361] training step 359 | Loss: 2.03 Examples/sec: 6513.20\n"
     ]
    },
    {
     "name": "stdout",
     "output_type": "stream",
     "text": [
      "INFO:tensorflow:training step 360 | Loss: 2.06 Examples/sec: 6566.91 | Hit@1: 0.73 PERR: 0.73 GAP: 0.78\n"
     ]
    },
    {
     "name": "stderr",
     "output_type": "stream",
     "text": [
      "I0320 11:19:00.217435 140413923567424 <ipython-input-7-e1062270148e>:337] training step 360 | Loss: 2.06 Examples/sec: 6566.91 | Hit@1: 0.73 PERR: 0.73 GAP: 0.78\n"
     ]
    },
    {
     "name": "stdout",
     "output_type": "stream",
     "text": [
      "INFO:tensorflow:./tmp/serval03hugo/model.ckpt-360 is not in all_model_checkpoint_paths. Manually adding it.\n"
     ]
    },
    {
     "name": "stderr",
     "output_type": "stream",
     "text": [
      "I0320 11:19:00.225088 140413923567424 checkpoint_management.py:95] ./tmp/serval03hugo/model.ckpt-360 is not in all_model_checkpoint_paths. Manually adding it.\n"
     ]
    },
    {
     "name": "stdout",
     "output_type": "stream",
     "text": [
      "INFO:tensorflow:/job:master/task:0: Exporting the model at step 360 to ./tmp/serval03hugo/export/step_360.\n"
     ]
    },
    {
     "name": "stderr",
     "output_type": "stream",
     "text": [
      "I0320 11:19:00.262707 140413923567424 <ipython-input-7-e1062270148e>:379] /job:master/task:0: Exporting the model at step 360 to ./tmp/serval03hugo/export/step_360.\n"
     ]
    },
    {
     "name": "stdout",
     "output_type": "stream",
     "text": [
      "INFO:tensorflow:Restoring parameters from ./tmp/serval03hugo/model.ckpt-360\n"
     ]
    },
    {
     "name": "stderr",
     "output_type": "stream",
     "text": [
      "I0320 11:19:00.281398 140413923567424 saver.py:1284] Restoring parameters from ./tmp/serval03hugo/model.ckpt-360\n"
     ]
    },
    {
     "name": "stdout",
     "output_type": "stream",
     "text": [
      "INFO:tensorflow:No assets to save.\n"
     ]
    },
    {
     "name": "stderr",
     "output_type": "stream",
     "text": [
      "I0320 11:19:00.291921 140413923567424 builder_impl.py:640] No assets to save.\n"
     ]
    },
    {
     "name": "stdout",
     "output_type": "stream",
     "text": [
      "INFO:tensorflow:No assets to write.\n"
     ]
    },
    {
     "name": "stderr",
     "output_type": "stream",
     "text": [
      "I0320 11:19:00.293094 140413923567424 builder_impl.py:460] No assets to write.\n"
     ]
    },
    {
     "name": "stdout",
     "output_type": "stream",
     "text": [
      "INFO:tensorflow:SavedModel written to: ./tmp/serval03hugo/export/step_360/saved_model.pb\n"
     ]
    },
    {
     "name": "stderr",
     "output_type": "stream",
     "text": [
      "I0320 11:19:00.357767 140413923567424 builder_impl.py:425] SavedModel written to: ./tmp/serval03hugo/export/step_360/saved_model.pb\n"
     ]
    },
    {
     "name": "stdout",
     "output_type": "stream",
     "text": [
      "INFO:tensorflow:training step 361 | Loss: 2.08 Examples/sec: 11401.32\n"
     ]
    },
    {
     "name": "stderr",
     "output_type": "stream",
     "text": [
      "I0320 11:19:00.450384 140413923567424 <ipython-input-7-e1062270148e>:361] training step 361 | Loss: 2.08 Examples/sec: 11401.32\n"
     ]
    },
    {
     "name": "stdout",
     "output_type": "stream",
     "text": [
      "INFO:tensorflow:training step 362 | Loss: 2.03 Examples/sec: 6595.26\n"
     ]
    },
    {
     "name": "stderr",
     "output_type": "stream",
     "text": [
      "I0320 11:19:00.607074 140413923567424 <ipython-input-7-e1062270148e>:361] training step 362 | Loss: 2.03 Examples/sec: 6595.26\n"
     ]
    },
    {
     "name": "stdout",
     "output_type": "stream",
     "text": [
      "INFO:tensorflow:training step 363 | Loss: 2.05 Examples/sec: 6344.01\n"
     ]
    },
    {
     "name": "stderr",
     "output_type": "stream",
     "text": [
      "I0320 11:19:00.770348 140413923567424 <ipython-input-7-e1062270148e>:361] training step 363 | Loss: 2.05 Examples/sec: 6344.01\n"
     ]
    },
    {
     "name": "stdout",
     "output_type": "stream",
     "text": [
      "INFO:tensorflow:training step 364 | Loss: 2.10 Examples/sec: 6454.81\n"
     ]
    },
    {
     "name": "stderr",
     "output_type": "stream",
     "text": [
      "I0320 11:19:00.930477 140413923567424 <ipython-input-7-e1062270148e>:361] training step 364 | Loss: 2.10 Examples/sec: 6454.81\n"
     ]
    },
    {
     "name": "stdout",
     "output_type": "stream",
     "text": [
      "INFO:tensorflow:training step 365 | Loss: 2.01 Examples/sec: 6662.98\n"
     ]
    },
    {
     "name": "stderr",
     "output_type": "stream",
     "text": [
      "I0320 11:19:01.085892 140413923567424 <ipython-input-7-e1062270148e>:361] training step 365 | Loss: 2.01 Examples/sec: 6662.98\n"
     ]
    },
    {
     "name": "stdout",
     "output_type": "stream",
     "text": [
      "INFO:tensorflow:training step 366 | Loss: 2.09 Examples/sec: 6376.88\n"
     ]
    },
    {
     "name": "stderr",
     "output_type": "stream",
     "text": [
      "I0320 11:19:01.248117 140413923567424 <ipython-input-7-e1062270148e>:361] training step 366 | Loss: 2.09 Examples/sec: 6376.88\n"
     ]
    },
    {
     "name": "stdout",
     "output_type": "stream",
     "text": [
      "INFO:tensorflow:training step 367 | Loss: 2.00 Examples/sec: 6576.22\n"
     ]
    },
    {
     "name": "stderr",
     "output_type": "stream",
     "text": [
      "I0320 11:19:01.405352 140413923567424 <ipython-input-7-e1062270148e>:361] training step 367 | Loss: 2.00 Examples/sec: 6576.22\n"
     ]
    },
    {
     "name": "stdout",
     "output_type": "stream",
     "text": [
      "INFO:tensorflow:training step 368 | Loss: 2.03 Examples/sec: 6345.03\n"
     ]
    },
    {
     "name": "stderr",
     "output_type": "stream",
     "text": [
      "I0320 11:19:01.568268 140413923567424 <ipython-input-7-e1062270148e>:361] training step 368 | Loss: 2.03 Examples/sec: 6345.03\n"
     ]
    },
    {
     "name": "stdout",
     "output_type": "stream",
     "text": [
      "INFO:tensorflow:training step 369 | Loss: 2.05 Examples/sec: 6315.03\n"
     ]
    },
    {
     "name": "stderr",
     "output_type": "stream",
     "text": [
      "I0320 11:19:01.732027 140413923567424 <ipython-input-7-e1062270148e>:361] training step 369 | Loss: 2.05 Examples/sec: 6315.03\n"
     ]
    },
    {
     "name": "stdout",
     "output_type": "stream",
     "text": [
      "INFO:tensorflow:training step 370 | Loss: 2.00 Examples/sec: 6509.58 | Hit@1: 0.75 PERR: 0.75 GAP: 0.80\n"
     ]
    },
    {
     "name": "stderr",
     "output_type": "stream",
     "text": [
      "I0320 11:19:02.024371 140413923567424 <ipython-input-7-e1062270148e>:337] training step 370 | Loss: 2.00 Examples/sec: 6509.58 | Hit@1: 0.75 PERR: 0.75 GAP: 0.80\n"
     ]
    },
    {
     "name": "stdout",
     "output_type": "stream",
     "text": [
      "INFO:tensorflow:./tmp/serval03hugo/model.ckpt-370 is not in all_model_checkpoint_paths. Manually adding it.\n"
     ]
    },
    {
     "name": "stderr",
     "output_type": "stream",
     "text": [
      "I0320 11:19:02.032269 140413923567424 checkpoint_management.py:95] ./tmp/serval03hugo/model.ckpt-370 is not in all_model_checkpoint_paths. Manually adding it.\n"
     ]
    },
    {
     "name": "stdout",
     "output_type": "stream",
     "text": [
      "INFO:tensorflow:/job:master/task:0: Exporting the model at step 370 to ./tmp/serval03hugo/export/step_370.\n"
     ]
    },
    {
     "name": "stderr",
     "output_type": "stream",
     "text": [
      "I0320 11:19:02.127756 140413923567424 <ipython-input-7-e1062270148e>:379] /job:master/task:0: Exporting the model at step 370 to ./tmp/serval03hugo/export/step_370.\n"
     ]
    },
    {
     "name": "stdout",
     "output_type": "stream",
     "text": [
      "INFO:tensorflow:Restoring parameters from ./tmp/serval03hugo/model.ckpt-370\n"
     ]
    },
    {
     "name": "stderr",
     "output_type": "stream",
     "text": [
      "I0320 11:19:02.149505 140413923567424 saver.py:1284] Restoring parameters from ./tmp/serval03hugo/model.ckpt-370\n"
     ]
    },
    {
     "name": "stdout",
     "output_type": "stream",
     "text": [
      "INFO:tensorflow:No assets to save.\n"
     ]
    },
    {
     "name": "stderr",
     "output_type": "stream",
     "text": [
      "I0320 11:19:02.164624 140413923567424 builder_impl.py:640] No assets to save.\n"
     ]
    },
    {
     "name": "stdout",
     "output_type": "stream",
     "text": [
      "INFO:tensorflow:No assets to write.\n"
     ]
    },
    {
     "name": "stderr",
     "output_type": "stream",
     "text": [
      "I0320 11:19:02.165812 140413923567424 builder_impl.py:460] No assets to write.\n"
     ]
    },
    {
     "name": "stdout",
     "output_type": "stream",
     "text": [
      "INFO:tensorflow:SavedModel written to: ./tmp/serval03hugo/export/step_370/saved_model.pb\n"
     ]
    },
    {
     "name": "stderr",
     "output_type": "stream",
     "text": [
      "I0320 11:19:02.230635 140413923567424 builder_impl.py:425] SavedModel written to: ./tmp/serval03hugo/export/step_370/saved_model.pb\n"
     ]
    },
    {
     "name": "stdout",
     "output_type": "stream",
     "text": [
      "INFO:tensorflow:training step 371 | Loss: 2.02 Examples/sec: 15630.97\n"
     ]
    },
    {
     "name": "stderr",
     "output_type": "stream",
     "text": [
      "I0320 11:19:02.299173 140413923567424 <ipython-input-7-e1062270148e>:361] training step 371 | Loss: 2.02 Examples/sec: 15630.97\n"
     ]
    },
    {
     "name": "stdout",
     "output_type": "stream",
     "text": [
      "INFO:tensorflow:training step 372 | Loss: 2.04 Examples/sec: 7012.11\n"
     ]
    },
    {
     "name": "stderr",
     "output_type": "stream",
     "text": [
      "I0320 11:19:02.446508 140413923567424 <ipython-input-7-e1062270148e>:361] training step 372 | Loss: 2.04 Examples/sec: 7012.11\n"
     ]
    },
    {
     "name": "stdout",
     "output_type": "stream",
     "text": [
      "INFO:tensorflow:training step 373 | Loss: 2.03 Examples/sec: 6619.62\n"
     ]
    },
    {
     "name": "stderr",
     "output_type": "stream",
     "text": [
      "I0320 11:19:02.602684 140413923567424 <ipython-input-7-e1062270148e>:361] training step 373 | Loss: 2.03 Examples/sec: 6619.62\n"
     ]
    },
    {
     "name": "stdout",
     "output_type": "stream",
     "text": [
      "INFO:tensorflow:training step 374 | Loss: 2.04 Examples/sec: 6634.47\n"
     ]
    },
    {
     "name": "stderr",
     "output_type": "stream",
     "text": [
      "I0320 11:19:02.758557 140413923567424 <ipython-input-7-e1062270148e>:361] training step 374 | Loss: 2.04 Examples/sec: 6634.47\n"
     ]
    },
    {
     "name": "stdout",
     "output_type": "stream",
     "text": [
      "INFO:tensorflow:training step 375 | Loss: 2.07 Examples/sec: 6334.08\n"
     ]
    },
    {
     "name": "stderr",
     "output_type": "stream",
     "text": [
      "I0320 11:19:02.921902 140413923567424 <ipython-input-7-e1062270148e>:361] training step 375 | Loss: 2.07 Examples/sec: 6334.08\n"
     ]
    },
    {
     "name": "stdout",
     "output_type": "stream",
     "text": [
      "INFO:tensorflow:training step 376 | Loss: 1.94 Examples/sec: 6515.74\n"
     ]
    },
    {
     "name": "stderr",
     "output_type": "stream",
     "text": [
      "I0320 11:19:03.081023 140413923567424 <ipython-input-7-e1062270148e>:361] training step 376 | Loss: 1.94 Examples/sec: 6515.74\n"
     ]
    },
    {
     "name": "stdout",
     "output_type": "stream",
     "text": [
      "INFO:tensorflow:training step 377 | Loss: 2.02 Examples/sec: 6624.40\n"
     ]
    },
    {
     "name": "stderr",
     "output_type": "stream",
     "text": [
      "I0320 11:19:03.237087 140413923567424 <ipython-input-7-e1062270148e>:361] training step 377 | Loss: 2.02 Examples/sec: 6624.40\n"
     ]
    },
    {
     "name": "stdout",
     "output_type": "stream",
     "text": [
      "INFO:tensorflow:training step 378 | Loss: 2.01 Examples/sec: 6624.59\n"
     ]
    },
    {
     "name": "stderr",
     "output_type": "stream",
     "text": [
      "I0320 11:19:03.393027 140413923567424 <ipython-input-7-e1062270148e>:361] training step 378 | Loss: 2.01 Examples/sec: 6624.59\n"
     ]
    },
    {
     "name": "stdout",
     "output_type": "stream",
     "text": [
      "INFO:tensorflow:training step 379 | Loss: 1.96 Examples/sec: 6626.15\n"
     ]
    },
    {
     "name": "stderr",
     "output_type": "stream",
     "text": [
      "I0320 11:19:03.548960 140413923567424 <ipython-input-7-e1062270148e>:361] training step 379 | Loss: 1.96 Examples/sec: 6626.15\n"
     ]
    },
    {
     "name": "stdout",
     "output_type": "stream",
     "text": [
      "INFO:tensorflow:training step 380 | Loss: 2.01 Examples/sec: 6689.45 | Hit@1: 0.75 PERR: 0.75 GAP: 0.79\n"
     ]
    },
    {
     "name": "stderr",
     "output_type": "stream",
     "text": [
      "I0320 11:19:03.917230 140413923567424 <ipython-input-7-e1062270148e>:337] training step 380 | Loss: 2.01 Examples/sec: 6689.45 | Hit@1: 0.75 PERR: 0.75 GAP: 0.79\n"
     ]
    },
    {
     "name": "stdout",
     "output_type": "stream",
     "text": [
      "INFO:tensorflow:./tmp/serval03hugo/model.ckpt-380 is not in all_model_checkpoint_paths. Manually adding it.\n"
     ]
    },
    {
     "name": "stderr",
     "output_type": "stream",
     "text": [
      "I0320 11:19:03.925011 140413923567424 checkpoint_management.py:95] ./tmp/serval03hugo/model.ckpt-380 is not in all_model_checkpoint_paths. Manually adding it.\n"
     ]
    },
    {
     "name": "stdout",
     "output_type": "stream",
     "text": [
      "INFO:tensorflow:/job:master/task:0: Exporting the model at step 380 to ./tmp/serval03hugo/export/step_380.\n"
     ]
    },
    {
     "name": "stderr",
     "output_type": "stream",
     "text": [
      "I0320 11:19:04.040604 140413923567424 <ipython-input-7-e1062270148e>:379] /job:master/task:0: Exporting the model at step 380 to ./tmp/serval03hugo/export/step_380.\n"
     ]
    },
    {
     "name": "stdout",
     "output_type": "stream",
     "text": [
      "INFO:tensorflow:Restoring parameters from ./tmp/serval03hugo/model.ckpt-380\n"
     ]
    },
    {
     "name": "stderr",
     "output_type": "stream",
     "text": [
      "I0320 11:19:04.061115 140413923567424 saver.py:1284] Restoring parameters from ./tmp/serval03hugo/model.ckpt-380\n"
     ]
    },
    {
     "name": "stdout",
     "output_type": "stream",
     "text": [
      "INFO:tensorflow:No assets to save.\n"
     ]
    },
    {
     "name": "stderr",
     "output_type": "stream",
     "text": [
      "I0320 11:19:04.074861 140413923567424 builder_impl.py:640] No assets to save.\n"
     ]
    },
    {
     "name": "stdout",
     "output_type": "stream",
     "text": [
      "INFO:tensorflow:No assets to write.\n"
     ]
    },
    {
     "name": "stderr",
     "output_type": "stream",
     "text": [
      "I0320 11:19:04.075853 140413923567424 builder_impl.py:460] No assets to write.\n"
     ]
    },
    {
     "name": "stdout",
     "output_type": "stream",
     "text": [
      "INFO:tensorflow:SavedModel written to: ./tmp/serval03hugo/export/step_380/saved_model.pb\n"
     ]
    },
    {
     "name": "stderr",
     "output_type": "stream",
     "text": [
      "I0320 11:19:04.145296 140413923567424 builder_impl.py:425] SavedModel written to: ./tmp/serval03hugo/export/step_380/saved_model.pb\n"
     ]
    },
    {
     "name": "stdout",
     "output_type": "stream",
     "text": [
      "INFO:tensorflow:training step 381 | Loss: 2.00 Examples/sec: 15069.69\n"
     ]
    },
    {
     "name": "stderr",
     "output_type": "stream",
     "text": [
      "I0320 11:19:04.216629 140413923567424 <ipython-input-7-e1062270148e>:361] training step 381 | Loss: 2.00 Examples/sec: 15069.69\n"
     ]
    },
    {
     "name": "stdout",
     "output_type": "stream",
     "text": [
      "INFO:tensorflow:training step 382 | Loss: 2.03 Examples/sec: 7469.05\n"
     ]
    },
    {
     "name": "stderr",
     "output_type": "stream",
     "text": [
      "I0320 11:19:04.355164 140413923567424 <ipython-input-7-e1062270148e>:361] training step 382 | Loss: 2.03 Examples/sec: 7469.05\n"
     ]
    },
    {
     "name": "stdout",
     "output_type": "stream",
     "text": [
      "INFO:tensorflow:training step 383 | Loss: 2.01 Examples/sec: 6595.77\n"
     ]
    },
    {
     "name": "stderr",
     "output_type": "stream",
     "text": [
      "I0320 11:19:04.512199 140413923567424 <ipython-input-7-e1062270148e>:361] training step 383 | Loss: 2.01 Examples/sec: 6595.77\n"
     ]
    },
    {
     "name": "stdout",
     "output_type": "stream",
     "text": [
      "INFO:tensorflow:training step 384 | Loss: 2.01 Examples/sec: 6240.25\n"
     ]
    },
    {
     "name": "stderr",
     "output_type": "stream",
     "text": [
      "I0320 11:19:04.677960 140413923567424 <ipython-input-7-e1062270148e>:361] training step 384 | Loss: 2.01 Examples/sec: 6240.25\n"
     ]
    },
    {
     "name": "stdout",
     "output_type": "stream",
     "text": [
      "INFO:tensorflow:training step 385 | Loss: 1.99 Examples/sec: 6651.28\n"
     ]
    },
    {
     "name": "stderr",
     "output_type": "stream",
     "text": [
      "I0320 11:19:04.833500 140413923567424 <ipython-input-7-e1062270148e>:361] training step 385 | Loss: 1.99 Examples/sec: 6651.28\n"
     ]
    },
    {
     "name": "stdout",
     "output_type": "stream",
     "text": [
      "INFO:tensorflow:training step 386 | Loss: 1.93 Examples/sec: 6594.88\n"
     ]
    },
    {
     "name": "stderr",
     "output_type": "stream",
     "text": [
      "I0320 11:19:04.990813 140413923567424 <ipython-input-7-e1062270148e>:361] training step 386 | Loss: 1.93 Examples/sec: 6594.88\n"
     ]
    },
    {
     "name": "stdout",
     "output_type": "stream",
     "text": [
      "INFO:tensorflow:training step 387 | Loss: 1.99 Examples/sec: 6573.19\n"
     ]
    },
    {
     "name": "stderr",
     "output_type": "stream",
     "text": [
      "I0320 11:19:05.147852 140413923567424 <ipython-input-7-e1062270148e>:361] training step 387 | Loss: 1.99 Examples/sec: 6573.19\n"
     ]
    },
    {
     "name": "stdout",
     "output_type": "stream",
     "text": [
      "INFO:tensorflow:training step 388 | Loss: 1.98 Examples/sec: 6393.42\n"
     ]
    },
    {
     "name": "stderr",
     "output_type": "stream",
     "text": [
      "I0320 11:19:05.309386 140413923567424 <ipython-input-7-e1062270148e>:361] training step 388 | Loss: 1.98 Examples/sec: 6393.42\n"
     ]
    },
    {
     "name": "stdout",
     "output_type": "stream",
     "text": [
      "INFO:tensorflow:training step 389 | Loss: 1.99 Examples/sec: 6543.73\n"
     ]
    },
    {
     "name": "stderr",
     "output_type": "stream",
     "text": [
      "I0320 11:19:05.467628 140413923567424 <ipython-input-7-e1062270148e>:361] training step 389 | Loss: 1.99 Examples/sec: 6543.73\n"
     ]
    },
    {
     "name": "stdout",
     "output_type": "stream",
     "text": [
      "INFO:tensorflow:training step 390 | Loss: 1.94 Examples/sec: 6647.59 | Hit@1: 0.77 PERR: 0.76 GAP: 0.81\n"
     ]
    },
    {
     "name": "stderr",
     "output_type": "stream",
     "text": [
      "I0320 11:19:05.770977 140413923567424 <ipython-input-7-e1062270148e>:337] training step 390 | Loss: 1.94 Examples/sec: 6647.59 | Hit@1: 0.77 PERR: 0.76 GAP: 0.81\n"
     ]
    },
    {
     "name": "stdout",
     "output_type": "stream",
     "text": [
      "INFO:tensorflow:./tmp/serval03hugo/model.ckpt-390 is not in all_model_checkpoint_paths. Manually adding it.\n"
     ]
    },
    {
     "name": "stderr",
     "output_type": "stream",
     "text": [
      "I0320 11:19:05.778137 140413923567424 checkpoint_management.py:95] ./tmp/serval03hugo/model.ckpt-390 is not in all_model_checkpoint_paths. Manually adding it.\n"
     ]
    },
    {
     "name": "stdout",
     "output_type": "stream",
     "text": [
      "INFO:tensorflow:/job:master/task:0: Exporting the model at step 390 to ./tmp/serval03hugo/export/step_390.\n"
     ]
    },
    {
     "name": "stderr",
     "output_type": "stream",
     "text": [
      "I0320 11:19:05.923444 140413923567424 <ipython-input-7-e1062270148e>:379] /job:master/task:0: Exporting the model at step 390 to ./tmp/serval03hugo/export/step_390.\n"
     ]
    },
    {
     "name": "stdout",
     "output_type": "stream",
     "text": [
      "INFO:tensorflow:Restoring parameters from ./tmp/serval03hugo/model.ckpt-390\n"
     ]
    },
    {
     "name": "stderr",
     "output_type": "stream",
     "text": [
      "I0320 11:19:05.944198 140413923567424 saver.py:1284] Restoring parameters from ./tmp/serval03hugo/model.ckpt-390\n"
     ]
    },
    {
     "name": "stdout",
     "output_type": "stream",
     "text": [
      "INFO:tensorflow:No assets to save.\n"
     ]
    },
    {
     "name": "stderr",
     "output_type": "stream",
     "text": [
      "I0320 11:19:05.957432 140413923567424 builder_impl.py:640] No assets to save.\n"
     ]
    },
    {
     "name": "stdout",
     "output_type": "stream",
     "text": [
      "INFO:tensorflow:No assets to write.\n"
     ]
    },
    {
     "name": "stderr",
     "output_type": "stream",
     "text": [
      "I0320 11:19:05.958665 140413923567424 builder_impl.py:460] No assets to write.\n"
     ]
    },
    {
     "name": "stdout",
     "output_type": "stream",
     "text": [
      "INFO:tensorflow:SavedModel written to: ./tmp/serval03hugo/export/step_390/saved_model.pb\n"
     ]
    },
    {
     "name": "stderr",
     "output_type": "stream",
     "text": [
      "I0320 11:19:06.023936 140413923567424 builder_impl.py:425] SavedModel written to: ./tmp/serval03hugo/export/step_390/saved_model.pb\n"
     ]
    },
    {
     "name": "stdout",
     "output_type": "stream",
     "text": [
      "INFO:tensorflow:training step 391 | Loss: 1.95 Examples/sec: 15148.35\n"
     ]
    },
    {
     "name": "stderr",
     "output_type": "stream",
     "text": [
      "I0320 11:19:06.094325 140413923567424 <ipython-input-7-e1062270148e>:361] training step 391 | Loss: 1.95 Examples/sec: 15148.35\n"
     ]
    },
    {
     "name": "stdout",
     "output_type": "stream",
     "text": [
      "INFO:tensorflow:training step 392 | Loss: 1.98 Examples/sec: 9959.34\n"
     ]
    },
    {
     "name": "stderr",
     "output_type": "stream",
     "text": [
      "I0320 11:19:06.198418 140413923567424 <ipython-input-7-e1062270148e>:361] training step 392 | Loss: 1.98 Examples/sec: 9959.34\n"
     ]
    },
    {
     "name": "stdout",
     "output_type": "stream",
     "text": [
      "INFO:tensorflow:training step 393 | Loss: 2.00 Examples/sec: 6621.28\n"
     ]
    },
    {
     "name": "stderr",
     "output_type": "stream",
     "text": [
      "I0320 11:19:06.354690 140413923567424 <ipython-input-7-e1062270148e>:361] training step 393 | Loss: 2.00 Examples/sec: 6621.28\n"
     ]
    },
    {
     "name": "stdout",
     "output_type": "stream",
     "text": [
      "INFO:tensorflow:training step 394 | Loss: 1.94 Examples/sec: 6315.89\n"
     ]
    },
    {
     "name": "stderr",
     "output_type": "stream",
     "text": [
      "I0320 11:19:06.518619 140413923567424 <ipython-input-7-e1062270148e>:361] training step 394 | Loss: 1.94 Examples/sec: 6315.89\n"
     ]
    },
    {
     "name": "stdout",
     "output_type": "stream",
     "text": [
      "INFO:tensorflow:training step 395 | Loss: 1.98 Examples/sec: 6496.61\n"
     ]
    },
    {
     "name": "stderr",
     "output_type": "stream",
     "text": [
      "I0320 11:19:06.678041 140413923567424 <ipython-input-7-e1062270148e>:361] training step 395 | Loss: 1.98 Examples/sec: 6496.61\n"
     ]
    },
    {
     "name": "stdout",
     "output_type": "stream",
     "text": [
      "INFO:tensorflow:training step 396 | Loss: 1.96 Examples/sec: 6623.95\n"
     ]
    },
    {
     "name": "stderr",
     "output_type": "stream",
     "text": [
      "I0320 11:19:06.834504 140413923567424 <ipython-input-7-e1062270148e>:361] training step 396 | Loss: 1.96 Examples/sec: 6623.95\n"
     ]
    },
    {
     "name": "stdout",
     "output_type": "stream",
     "text": [
      "INFO:tensorflow:training step 397 | Loss: 1.94 Examples/sec: 6266.04\n"
     ]
    },
    {
     "name": "stderr",
     "output_type": "stream",
     "text": [
      "I0320 11:19:06.999601 140413923567424 <ipython-input-7-e1062270148e>:361] training step 397 | Loss: 1.94 Examples/sec: 6266.04\n"
     ]
    },
    {
     "name": "stdout",
     "output_type": "stream",
     "text": [
      "INFO:tensorflow:training step 398 | Loss: 1.91 Examples/sec: 6368.42\n"
     ]
    },
    {
     "name": "stderr",
     "output_type": "stream",
     "text": [
      "I0320 11:19:07.164051 140413923567424 <ipython-input-7-e1062270148e>:361] training step 398 | Loss: 1.91 Examples/sec: 6368.42\n"
     ]
    },
    {
     "name": "stdout",
     "output_type": "stream",
     "text": [
      "INFO:tensorflow:training step 399 | Loss: 1.96 Examples/sec: 6627.60\n"
     ]
    },
    {
     "name": "stderr",
     "output_type": "stream",
     "text": [
      "I0320 11:19:07.319881 140413923567424 <ipython-input-7-e1062270148e>:361] training step 399 | Loss: 1.96 Examples/sec: 6627.60\n"
     ]
    },
    {
     "name": "stdout",
     "output_type": "stream",
     "text": [
      "INFO:tensorflow:training step 400 | Loss: 1.95 Examples/sec: 6547.53 | Hit@1: 0.74 PERR: 0.74 GAP: 0.79\n"
     ]
    },
    {
     "name": "stderr",
     "output_type": "stream",
     "text": [
      "I0320 11:19:07.615304 140413923567424 <ipython-input-7-e1062270148e>:337] training step 400 | Loss: 1.95 Examples/sec: 6547.53 | Hit@1: 0.74 PERR: 0.74 GAP: 0.79\n"
     ]
    },
    {
     "name": "stdout",
     "output_type": "stream",
     "text": [
      "INFO:tensorflow:./tmp/serval03hugo/model.ckpt-400 is not in all_model_checkpoint_paths. Manually adding it.\n"
     ]
    },
    {
     "name": "stderr",
     "output_type": "stream",
     "text": [
      "I0320 11:19:07.621800 140413923567424 checkpoint_management.py:95] ./tmp/serval03hugo/model.ckpt-400 is not in all_model_checkpoint_paths. Manually adding it.\n"
     ]
    },
    {
     "name": "stdout",
     "output_type": "stream",
     "text": [
      "INFO:tensorflow:/job:master/task:0: Exporting the model at step 400 to ./tmp/serval03hugo/export/step_400.\n"
     ]
    },
    {
     "name": "stderr",
     "output_type": "stream",
     "text": [
      "I0320 11:19:07.714079 140413923567424 <ipython-input-7-e1062270148e>:379] /job:master/task:0: Exporting the model at step 400 to ./tmp/serval03hugo/export/step_400.\n"
     ]
    },
    {
     "name": "stdout",
     "output_type": "stream",
     "text": [
      "INFO:tensorflow:Restoring parameters from ./tmp/serval03hugo/model.ckpt-400\n"
     ]
    },
    {
     "name": "stderr",
     "output_type": "stream",
     "text": [
      "I0320 11:19:07.734916 140413923567424 saver.py:1284] Restoring parameters from ./tmp/serval03hugo/model.ckpt-400\n"
     ]
    },
    {
     "name": "stdout",
     "output_type": "stream",
     "text": [
      "INFO:tensorflow:No assets to save.\n"
     ]
    },
    {
     "name": "stderr",
     "output_type": "stream",
     "text": [
      "I0320 11:19:07.746165 140413923567424 builder_impl.py:640] No assets to save.\n"
     ]
    },
    {
     "name": "stdout",
     "output_type": "stream",
     "text": [
      "INFO:tensorflow:No assets to write.\n"
     ]
    },
    {
     "name": "stderr",
     "output_type": "stream",
     "text": [
      "I0320 11:19:07.746993 140413923567424 builder_impl.py:460] No assets to write.\n"
     ]
    },
    {
     "name": "stdout",
     "output_type": "stream",
     "text": [
      "INFO:tensorflow:SavedModel written to: ./tmp/serval03hugo/export/step_400/saved_model.pb\n"
     ]
    },
    {
     "name": "stderr",
     "output_type": "stream",
     "text": [
      "I0320 11:19:07.827254 140413923567424 builder_impl.py:425] SavedModel written to: ./tmp/serval03hugo/export/step_400/saved_model.pb\n"
     ]
    },
    {
     "name": "stdout",
     "output_type": "stream",
     "text": [
      "INFO:tensorflow:training step 401 | Loss: 1.96 Examples/sec: 15263.67\n"
     ]
    },
    {
     "name": "stderr",
     "output_type": "stream",
     "text": [
      "I0320 11:19:07.899894 140413923567424 <ipython-input-7-e1062270148e>:361] training step 401 | Loss: 1.96 Examples/sec: 15263.67\n"
     ]
    },
    {
     "name": "stdout",
     "output_type": "stream",
     "text": [
      "INFO:tensorflow:training step 402 | Loss: 1.96 Examples/sec: 6953.53\n"
     ]
    },
    {
     "name": "stderr",
     "output_type": "stream",
     "text": [
      "I0320 11:19:08.048745 140413923567424 <ipython-input-7-e1062270148e>:361] training step 402 | Loss: 1.96 Examples/sec: 6953.53\n"
     ]
    },
    {
     "name": "stdout",
     "output_type": "stream",
     "text": [
      "INFO:tensorflow:training step 403 | Loss: 1.97 Examples/sec: 6511.65\n"
     ]
    },
    {
     "name": "stderr",
     "output_type": "stream",
     "text": [
      "I0320 11:19:08.207828 140413923567424 <ipython-input-7-e1062270148e>:361] training step 403 | Loss: 1.97 Examples/sec: 6511.65\n"
     ]
    },
    {
     "name": "stdout",
     "output_type": "stream",
     "text": [
      "INFO:tensorflow:training step 404 | Loss: 1.93 Examples/sec: 6297.07\n"
     ]
    },
    {
     "name": "stderr",
     "output_type": "stream",
     "text": [
      "I0320 11:19:08.372027 140413923567424 <ipython-input-7-e1062270148e>:361] training step 404 | Loss: 1.93 Examples/sec: 6297.07\n"
     ]
    },
    {
     "name": "stdout",
     "output_type": "stream",
     "text": [
      "INFO:tensorflow:training step 405 | Loss: 1.93 Examples/sec: 6353.20\n"
     ]
    },
    {
     "name": "stderr",
     "output_type": "stream",
     "text": [
      "I0320 11:19:08.535256 140413923567424 <ipython-input-7-e1062270148e>:361] training step 405 | Loss: 1.93 Examples/sec: 6353.20\n"
     ]
    },
    {
     "name": "stdout",
     "output_type": "stream",
     "text": [
      "INFO:tensorflow:training step 406 | Loss: 1.95 Examples/sec: 6110.64\n"
     ]
    },
    {
     "name": "stderr",
     "output_type": "stream",
     "text": [
      "I0320 11:19:08.704486 140413923567424 <ipython-input-7-e1062270148e>:361] training step 406 | Loss: 1.95 Examples/sec: 6110.64\n"
     ]
    },
    {
     "name": "stdout",
     "output_type": "stream",
     "text": [
      "INFO:tensorflow:training step 407 | Loss: 1.90 Examples/sec: 6043.80\n"
     ]
    },
    {
     "name": "stderr",
     "output_type": "stream",
     "text": [
      "I0320 11:19:08.875415 140413923567424 <ipython-input-7-e1062270148e>:361] training step 407 | Loss: 1.90 Examples/sec: 6043.80\n"
     ]
    },
    {
     "name": "stdout",
     "output_type": "stream",
     "text": [
      "INFO:tensorflow:training step 408 | Loss: 1.98 Examples/sec: 6144.91\n"
     ]
    },
    {
     "name": "stderr",
     "output_type": "stream",
     "text": [
      "I0320 11:19:09.043875 140413923567424 <ipython-input-7-e1062270148e>:361] training step 408 | Loss: 1.98 Examples/sec: 6144.91\n"
     ]
    },
    {
     "name": "stdout",
     "output_type": "stream",
     "text": [
      "INFO:tensorflow:training step 409 | Loss: 1.86 Examples/sec: 6152.18\n"
     ]
    },
    {
     "name": "stderr",
     "output_type": "stream",
     "text": [
      "I0320 11:19:09.212120 140413923567424 <ipython-input-7-e1062270148e>:361] training step 409 | Loss: 1.86 Examples/sec: 6152.18\n"
     ]
    },
    {
     "name": "stdout",
     "output_type": "stream",
     "text": [
      "INFO:tensorflow:training step 410 | Loss: 1.95 Examples/sec: 6468.60 | Hit@1: 0.73 PERR: 0.73 GAP: 0.79\n"
     ]
    },
    {
     "name": "stderr",
     "output_type": "stream",
     "text": [
      "I0320 11:19:09.510268 140413923567424 <ipython-input-7-e1062270148e>:337] training step 410 | Loss: 1.95 Examples/sec: 6468.60 | Hit@1: 0.73 PERR: 0.73 GAP: 0.79\n"
     ]
    },
    {
     "name": "stdout",
     "output_type": "stream",
     "text": [
      "INFO:tensorflow:./tmp/serval03hugo/model.ckpt-410 is not in all_model_checkpoint_paths. Manually adding it.\n"
     ]
    },
    {
     "name": "stderr",
     "output_type": "stream",
     "text": [
      "I0320 11:19:09.516173 140413923567424 checkpoint_management.py:95] ./tmp/serval03hugo/model.ckpt-410 is not in all_model_checkpoint_paths. Manually adding it.\n"
     ]
    },
    {
     "name": "stdout",
     "output_type": "stream",
     "text": [
      "INFO:tensorflow:/job:master/task:0: Exporting the model at step 410 to ./tmp/serval03hugo/export/step_410.\n"
     ]
    },
    {
     "name": "stderr",
     "output_type": "stream",
     "text": [
      "I0320 11:19:09.638424 140413923567424 <ipython-input-7-e1062270148e>:379] /job:master/task:0: Exporting the model at step 410 to ./tmp/serval03hugo/export/step_410.\n"
     ]
    },
    {
     "name": "stdout",
     "output_type": "stream",
     "text": [
      "INFO:tensorflow:Restoring parameters from ./tmp/serval03hugo/model.ckpt-410\n"
     ]
    },
    {
     "name": "stderr",
     "output_type": "stream",
     "text": [
      "I0320 11:19:09.664151 140413923567424 saver.py:1284] Restoring parameters from ./tmp/serval03hugo/model.ckpt-410\n"
     ]
    },
    {
     "name": "stdout",
     "output_type": "stream",
     "text": [
      "INFO:tensorflow:No assets to save.\n"
     ]
    },
    {
     "name": "stderr",
     "output_type": "stream",
     "text": [
      "I0320 11:19:09.676106 140413923567424 builder_impl.py:640] No assets to save.\n"
     ]
    },
    {
     "name": "stdout",
     "output_type": "stream",
     "text": [
      "INFO:tensorflow:No assets to write.\n"
     ]
    },
    {
     "name": "stderr",
     "output_type": "stream",
     "text": [
      "I0320 11:19:09.677253 140413923567424 builder_impl.py:460] No assets to write.\n"
     ]
    },
    {
     "name": "stdout",
     "output_type": "stream",
     "text": [
      "INFO:tensorflow:SavedModel written to: ./tmp/serval03hugo/export/step_410/saved_model.pb\n"
     ]
    },
    {
     "name": "stderr",
     "output_type": "stream",
     "text": [
      "I0320 11:19:09.751562 140413923567424 builder_impl.py:425] SavedModel written to: ./tmp/serval03hugo/export/step_410/saved_model.pb\n"
     ]
    },
    {
     "name": "stdout",
     "output_type": "stream",
     "text": [
      "INFO:tensorflow:training step 411 | Loss: 1.91 Examples/sec: 15462.20\n"
     ]
    },
    {
     "name": "stderr",
     "output_type": "stream",
     "text": [
      "I0320 11:19:09.822723 140413923567424 <ipython-input-7-e1062270148e>:361] training step 411 | Loss: 1.91 Examples/sec: 15462.20\n"
     ]
    },
    {
     "name": "stdout",
     "output_type": "stream",
     "text": [
      "INFO:tensorflow:training step 412 | Loss: 1.93 Examples/sec: 7920.49\n"
     ]
    },
    {
     "name": "stderr",
     "output_type": "stream",
     "text": [
      "I0320 11:19:09.953424 140413923567424 <ipython-input-7-e1062270148e>:361] training step 412 | Loss: 1.93 Examples/sec: 7920.49\n"
     ]
    },
    {
     "name": "stdout",
     "output_type": "stream",
     "text": [
      "INFO:tensorflow:training step 413 | Loss: 1.84 Examples/sec: 6559.07\n"
     ]
    },
    {
     "name": "stderr",
     "output_type": "stream",
     "text": [
      "I0320 11:19:10.110960 140413923567424 <ipython-input-7-e1062270148e>:361] training step 413 | Loss: 1.84 Examples/sec: 6559.07\n"
     ]
    },
    {
     "name": "stdout",
     "output_type": "stream",
     "text": [
      "INFO:tensorflow:training step 414 | Loss: 1.95 Examples/sec: 6332.36\n"
     ]
    },
    {
     "name": "stderr",
     "output_type": "stream",
     "text": [
      "I0320 11:19:10.274382 140413923567424 <ipython-input-7-e1062270148e>:361] training step 414 | Loss: 1.95 Examples/sec: 6332.36\n"
     ]
    },
    {
     "name": "stdout",
     "output_type": "stream",
     "text": [
      "INFO:tensorflow:training step 415 | Loss: 1.91 Examples/sec: 6120.91\n"
     ]
    },
    {
     "name": "stderr",
     "output_type": "stream",
     "text": [
      "I0320 11:19:10.443238 140413923567424 <ipython-input-7-e1062270148e>:361] training step 415 | Loss: 1.91 Examples/sec: 6120.91\n"
     ]
    },
    {
     "name": "stdout",
     "output_type": "stream",
     "text": [
      "INFO:tensorflow:training step 416 | Loss: 1.88 Examples/sec: 6623.42\n"
     ]
    },
    {
     "name": "stderr",
     "output_type": "stream",
     "text": [
      "I0320 11:19:10.599719 140413923567424 <ipython-input-7-e1062270148e>:361] training step 416 | Loss: 1.88 Examples/sec: 6623.42\n"
     ]
    },
    {
     "name": "stdout",
     "output_type": "stream",
     "text": [
      "INFO:tensorflow:training step 417 | Loss: 1.95 Examples/sec: 6546.13\n"
     ]
    },
    {
     "name": "stderr",
     "output_type": "stream",
     "text": [
      "I0320 11:19:10.757408 140413923567424 <ipython-input-7-e1062270148e>:361] training step 417 | Loss: 1.95 Examples/sec: 6546.13\n"
     ]
    },
    {
     "name": "stdout",
     "output_type": "stream",
     "text": [
      "INFO:tensorflow:training step 418 | Loss: 1.90 Examples/sec: 6614.87\n"
     ]
    },
    {
     "name": "stderr",
     "output_type": "stream",
     "text": [
      "I0320 11:19:10.913312 140413923567424 <ipython-input-7-e1062270148e>:361] training step 418 | Loss: 1.90 Examples/sec: 6614.87\n"
     ]
    },
    {
     "name": "stdout",
     "output_type": "stream",
     "text": [
      "INFO:tensorflow:training step 419 | Loss: 1.92 Examples/sec: 6463.18\n"
     ]
    },
    {
     "name": "stderr",
     "output_type": "stream",
     "text": [
      "I0320 11:19:11.073281 140413923567424 <ipython-input-7-e1062270148e>:361] training step 419 | Loss: 1.92 Examples/sec: 6463.18\n"
     ]
    },
    {
     "name": "stdout",
     "output_type": "stream",
     "text": [
      "INFO:tensorflow:training step 420 | Loss: 1.95 Examples/sec: 6593.11 | Hit@1: 0.75 PERR: 0.75 GAP: 0.79\n"
     ]
    },
    {
     "name": "stderr",
     "output_type": "stream",
     "text": [
      "I0320 11:19:11.359490 140413923567424 <ipython-input-7-e1062270148e>:337] training step 420 | Loss: 1.95 Examples/sec: 6593.11 | Hit@1: 0.75 PERR: 0.75 GAP: 0.79\n"
     ]
    },
    {
     "name": "stdout",
     "output_type": "stream",
     "text": [
      "INFO:tensorflow:./tmp/serval03hugo/model.ckpt-420 is not in all_model_checkpoint_paths. Manually adding it.\n"
     ]
    },
    {
     "name": "stderr",
     "output_type": "stream",
     "text": [
      "I0320 11:19:11.366761 140413923567424 checkpoint_management.py:95] ./tmp/serval03hugo/model.ckpt-420 is not in all_model_checkpoint_paths. Manually adding it.\n"
     ]
    },
    {
     "name": "stdout",
     "output_type": "stream",
     "text": [
      "INFO:tensorflow:/job:master/task:0: Exporting the model at step 420 to ./tmp/serval03hugo/export/step_420.\n"
     ]
    },
    {
     "name": "stderr",
     "output_type": "stream",
     "text": [
      "I0320 11:19:11.465965 140413923567424 <ipython-input-7-e1062270148e>:379] /job:master/task:0: Exporting the model at step 420 to ./tmp/serval03hugo/export/step_420.\n"
     ]
    },
    {
     "name": "stdout",
     "output_type": "stream",
     "text": [
      "INFO:tensorflow:Restoring parameters from ./tmp/serval03hugo/model.ckpt-420\n"
     ]
    },
    {
     "name": "stderr",
     "output_type": "stream",
     "text": [
      "I0320 11:19:11.487299 140413923567424 saver.py:1284] Restoring parameters from ./tmp/serval03hugo/model.ckpt-420\n"
     ]
    },
    {
     "name": "stdout",
     "output_type": "stream",
     "text": [
      "INFO:tensorflow:No assets to save.\n"
     ]
    },
    {
     "name": "stderr",
     "output_type": "stream",
     "text": [
      "I0320 11:19:11.499412 140413923567424 builder_impl.py:640] No assets to save.\n"
     ]
    },
    {
     "name": "stdout",
     "output_type": "stream",
     "text": [
      "INFO:tensorflow:No assets to write.\n"
     ]
    },
    {
     "name": "stderr",
     "output_type": "stream",
     "text": [
      "I0320 11:19:11.500602 140413923567424 builder_impl.py:460] No assets to write.\n"
     ]
    },
    {
     "name": "stdout",
     "output_type": "stream",
     "text": [
      "INFO:tensorflow:SavedModel written to: ./tmp/serval03hugo/export/step_420/saved_model.pb\n"
     ]
    },
    {
     "name": "stderr",
     "output_type": "stream",
     "text": [
      "I0320 11:19:11.574783 140413923567424 builder_impl.py:425] SavedModel written to: ./tmp/serval03hugo/export/step_420/saved_model.pb\n"
     ]
    },
    {
     "name": "stdout",
     "output_type": "stream",
     "text": [
      "INFO:tensorflow:training step 421 | Loss: 1.81 Examples/sec: 16000.38\n"
     ]
    },
    {
     "name": "stderr",
     "output_type": "stream",
     "text": [
      "I0320 11:19:11.642796 140413923567424 <ipython-input-7-e1062270148e>:361] training step 421 | Loss: 1.81 Examples/sec: 16000.38\n"
     ]
    },
    {
     "name": "stdout",
     "output_type": "stream",
     "text": [
      "INFO:tensorflow:training step 422 | Loss: 1.91 Examples/sec: 6932.50\n"
     ]
    },
    {
     "name": "stderr",
     "output_type": "stream",
     "text": [
      "I0320 11:19:11.792227 140413923567424 <ipython-input-7-e1062270148e>:361] training step 422 | Loss: 1.91 Examples/sec: 6932.50\n"
     ]
    },
    {
     "name": "stdout",
     "output_type": "stream",
     "text": [
      "INFO:tensorflow:training step 423 | Loss: 1.91 Examples/sec: 6580.40\n"
     ]
    },
    {
     "name": "stderr",
     "output_type": "stream",
     "text": [
      "I0320 11:19:11.949429 140413923567424 <ipython-input-7-e1062270148e>:361] training step 423 | Loss: 1.91 Examples/sec: 6580.40\n"
     ]
    },
    {
     "name": "stdout",
     "output_type": "stream",
     "text": [
      "INFO:tensorflow:training step 424 | Loss: 1.88 Examples/sec: 6300.30\n"
     ]
    },
    {
     "name": "stderr",
     "output_type": "stream",
     "text": [
      "I0320 11:19:12.113868 140413923567424 <ipython-input-7-e1062270148e>:361] training step 424 | Loss: 1.88 Examples/sec: 6300.30\n"
     ]
    },
    {
     "name": "stdout",
     "output_type": "stream",
     "text": [
      "INFO:tensorflow:training step 425 | Loss: 1.90 Examples/sec: 6343.25\n"
     ]
    },
    {
     "name": "stderr",
     "output_type": "stream",
     "text": [
      "I0320 11:19:12.276846 140413923567424 <ipython-input-7-e1062270148e>:361] training step 425 | Loss: 1.90 Examples/sec: 6343.25\n"
     ]
    },
    {
     "name": "stdout",
     "output_type": "stream",
     "text": [
      "INFO:tensorflow:training step 426 | Loss: 1.85 Examples/sec: 6175.85\n"
     ]
    },
    {
     "name": "stderr",
     "output_type": "stream",
     "text": [
      "I0320 11:19:12.444128 140413923567424 <ipython-input-7-e1062270148e>:361] training step 426 | Loss: 1.85 Examples/sec: 6175.85\n"
     ]
    },
    {
     "name": "stdout",
     "output_type": "stream",
     "text": [
      "INFO:tensorflow:training step 427 | Loss: 1.90 Examples/sec: 6486.63\n"
     ]
    },
    {
     "name": "stderr",
     "output_type": "stream",
     "text": [
      "I0320 11:19:12.603422 140413923567424 <ipython-input-7-e1062270148e>:361] training step 427 | Loss: 1.90 Examples/sec: 6486.63\n"
     ]
    },
    {
     "name": "stdout",
     "output_type": "stream",
     "text": [
      "INFO:tensorflow:training step 428 | Loss: 1.85 Examples/sec: 6339.96\n"
     ]
    },
    {
     "name": "stderr",
     "output_type": "stream",
     "text": [
      "I0320 11:19:12.766602 140413923567424 <ipython-input-7-e1062270148e>:361] training step 428 | Loss: 1.85 Examples/sec: 6339.96\n"
     ]
    },
    {
     "name": "stdout",
     "output_type": "stream",
     "text": [
      "INFO:tensorflow:training step 429 | Loss: 1.92 Examples/sec: 6337.43\n"
     ]
    },
    {
     "name": "stderr",
     "output_type": "stream",
     "text": [
      "I0320 11:19:12.930256 140413923567424 <ipython-input-7-e1062270148e>:361] training step 429 | Loss: 1.92 Examples/sec: 6337.43\n"
     ]
    },
    {
     "name": "stdout",
     "output_type": "stream",
     "text": [
      "INFO:tensorflow:training step 430 | Loss: 1.86 Examples/sec: 6321.73 | Hit@1: 0.77 PERR: 0.77 GAP: 0.81\n"
     ]
    },
    {
     "name": "stderr",
     "output_type": "stream",
     "text": [
      "I0320 11:19:13.296489 140413923567424 <ipython-input-7-e1062270148e>:337] training step 430 | Loss: 1.86 Examples/sec: 6321.73 | Hit@1: 0.77 PERR: 0.77 GAP: 0.81\n"
     ]
    },
    {
     "name": "stdout",
     "output_type": "stream",
     "text": [
      "INFO:tensorflow:./tmp/serval03hugo/model.ckpt-430 is not in all_model_checkpoint_paths. Manually adding it.\n"
     ]
    },
    {
     "name": "stderr",
     "output_type": "stream",
     "text": [
      "I0320 11:19:13.304390 140413923567424 checkpoint_management.py:95] ./tmp/serval03hugo/model.ckpt-430 is not in all_model_checkpoint_paths. Manually adding it.\n"
     ]
    },
    {
     "name": "stdout",
     "output_type": "stream",
     "text": [
      "INFO:tensorflow:/job:master/task:0: Exporting the model at step 430 to ./tmp/serval03hugo/export/step_430.\n"
     ]
    },
    {
     "name": "stderr",
     "output_type": "stream",
     "text": [
      "I0320 11:19:13.397138 140413923567424 <ipython-input-7-e1062270148e>:379] /job:master/task:0: Exporting the model at step 430 to ./tmp/serval03hugo/export/step_430.\n"
     ]
    },
    {
     "name": "stdout",
     "output_type": "stream",
     "text": [
      "INFO:tensorflow:Restoring parameters from ./tmp/serval03hugo/model.ckpt-430\n"
     ]
    },
    {
     "name": "stderr",
     "output_type": "stream",
     "text": [
      "I0320 11:19:13.421674 140413923567424 saver.py:1284] Restoring parameters from ./tmp/serval03hugo/model.ckpt-430\n"
     ]
    },
    {
     "name": "stdout",
     "output_type": "stream",
     "text": [
      "INFO:tensorflow:No assets to save.\n"
     ]
    },
    {
     "name": "stderr",
     "output_type": "stream",
     "text": [
      "I0320 11:19:13.437245 140413923567424 builder_impl.py:640] No assets to save.\n"
     ]
    },
    {
     "name": "stdout",
     "output_type": "stream",
     "text": [
      "INFO:tensorflow:No assets to write.\n"
     ]
    },
    {
     "name": "stderr",
     "output_type": "stream",
     "text": [
      "I0320 11:19:13.438668 140413923567424 builder_impl.py:460] No assets to write.\n"
     ]
    },
    {
     "name": "stdout",
     "output_type": "stream",
     "text": [
      "INFO:tensorflow:SavedModel written to: ./tmp/serval03hugo/export/step_430/saved_model.pb\n"
     ]
    },
    {
     "name": "stderr",
     "output_type": "stream",
     "text": [
      "I0320 11:19:13.514232 140413923567424 builder_impl.py:425] SavedModel written to: ./tmp/serval03hugo/export/step_430/saved_model.pb\n"
     ]
    },
    {
     "name": "stdout",
     "output_type": "stream",
     "text": [
      "INFO:tensorflow:training step 431 | Loss: 1.85 Examples/sec: 15837.78\n"
     ]
    },
    {
     "name": "stderr",
     "output_type": "stream",
     "text": [
      "I0320 11:19:13.583700 140413923567424 <ipython-input-7-e1062270148e>:361] training step 431 | Loss: 1.85 Examples/sec: 15837.78\n"
     ]
    },
    {
     "name": "stdout",
     "output_type": "stream",
     "text": [
      "INFO:tensorflow:training step 432 | Loss: 1.86 Examples/sec: 7099.91\n"
     ]
    },
    {
     "name": "stderr",
     "output_type": "stream",
     "text": [
      "I0320 11:19:13.729658 140413923567424 <ipython-input-7-e1062270148e>:361] training step 432 | Loss: 1.86 Examples/sec: 7099.91\n"
     ]
    },
    {
     "name": "stdout",
     "output_type": "stream",
     "text": [
      "INFO:tensorflow:training step 433 | Loss: 1.91 Examples/sec: 6364.72\n"
     ]
    },
    {
     "name": "stderr",
     "output_type": "stream",
     "text": [
      "I0320 11:19:13.892110 140413923567424 <ipython-input-7-e1062270148e>:361] training step 433 | Loss: 1.91 Examples/sec: 6364.72\n"
     ]
    },
    {
     "name": "stdout",
     "output_type": "stream",
     "text": [
      "INFO:tensorflow:training step 434 | Loss: 1.86 Examples/sec: 6343.07\n"
     ]
    },
    {
     "name": "stderr",
     "output_type": "stream",
     "text": [
      "I0320 11:19:14.055273 140413923567424 <ipython-input-7-e1062270148e>:361] training step 434 | Loss: 1.86 Examples/sec: 6343.07\n"
     ]
    },
    {
     "name": "stdout",
     "output_type": "stream",
     "text": [
      "INFO:tensorflow:training step 435 | Loss: 1.86 Examples/sec: 6512.55\n"
     ]
    },
    {
     "name": "stderr",
     "output_type": "stream",
     "text": [
      "I0320 11:19:14.214332 140413923567424 <ipython-input-7-e1062270148e>:361] training step 435 | Loss: 1.86 Examples/sec: 6512.55\n"
     ]
    },
    {
     "name": "stdout",
     "output_type": "stream",
     "text": [
      "INFO:tensorflow:training step 436 | Loss: 1.83 Examples/sec: 6283.67\n"
     ]
    },
    {
     "name": "stderr",
     "output_type": "stream",
     "text": [
      "I0320 11:19:14.378777 140413923567424 <ipython-input-7-e1062270148e>:361] training step 436 | Loss: 1.83 Examples/sec: 6283.67\n"
     ]
    },
    {
     "name": "stdout",
     "output_type": "stream",
     "text": [
      "INFO:tensorflow:training step 437 | Loss: 1.85 Examples/sec: 6535.84\n"
     ]
    },
    {
     "name": "stderr",
     "output_type": "stream",
     "text": [
      "I0320 11:19:14.537152 140413923567424 <ipython-input-7-e1062270148e>:361] training step 437 | Loss: 1.85 Examples/sec: 6535.84\n"
     ]
    },
    {
     "name": "stdout",
     "output_type": "stream",
     "text": [
      "INFO:tensorflow:training step 438 | Loss: 1.90 Examples/sec: 6283.12\n"
     ]
    },
    {
     "name": "stderr",
     "output_type": "stream",
     "text": [
      "I0320 11:19:14.701891 140413923567424 <ipython-input-7-e1062270148e>:361] training step 438 | Loss: 1.90 Examples/sec: 6283.12\n"
     ]
    },
    {
     "name": "stdout",
     "output_type": "stream",
     "text": [
      "INFO:tensorflow:training step 439 | Loss: 1.85 Examples/sec: 6451.61\n"
     ]
    },
    {
     "name": "stderr",
     "output_type": "stream",
     "text": [
      "I0320 11:19:14.862766 140413923567424 <ipython-input-7-e1062270148e>:361] training step 439 | Loss: 1.85 Examples/sec: 6451.61\n"
     ]
    },
    {
     "name": "stdout",
     "output_type": "stream",
     "text": [
      "INFO:tensorflow:training step 440 | Loss: 1.84 Examples/sec: 6664.48 | Hit@1: 0.76 PERR: 0.76 GAP: 0.80\n"
     ]
    },
    {
     "name": "stderr",
     "output_type": "stream",
     "text": [
      "I0320 11:19:15.137081 140413923567424 <ipython-input-7-e1062270148e>:337] training step 440 | Loss: 1.84 Examples/sec: 6664.48 | Hit@1: 0.76 PERR: 0.76 GAP: 0.80\n"
     ]
    },
    {
     "name": "stdout",
     "output_type": "stream",
     "text": [
      "INFO:tensorflow:./tmp/serval03hugo/model.ckpt-440 is not in all_model_checkpoint_paths. Manually adding it.\n"
     ]
    },
    {
     "name": "stderr",
     "output_type": "stream",
     "text": [
      "I0320 11:19:15.143991 140413923567424 checkpoint_management.py:95] ./tmp/serval03hugo/model.ckpt-440 is not in all_model_checkpoint_paths. Manually adding it.\n"
     ]
    },
    {
     "name": "stdout",
     "output_type": "stream",
     "text": [
      "INFO:tensorflow:/job:master/task:0: Exporting the model at step 440 to ./tmp/serval03hugo/export/step_440.\n"
     ]
    },
    {
     "name": "stderr",
     "output_type": "stream",
     "text": [
      "I0320 11:19:15.263591 140413923567424 <ipython-input-7-e1062270148e>:379] /job:master/task:0: Exporting the model at step 440 to ./tmp/serval03hugo/export/step_440.\n"
     ]
    },
    {
     "name": "stdout",
     "output_type": "stream",
     "text": [
      "INFO:tensorflow:Restoring parameters from ./tmp/serval03hugo/model.ckpt-440\n"
     ]
    },
    {
     "name": "stderr",
     "output_type": "stream",
     "text": [
      "I0320 11:19:15.288522 140413923567424 saver.py:1284] Restoring parameters from ./tmp/serval03hugo/model.ckpt-440\n"
     ]
    },
    {
     "name": "stdout",
     "output_type": "stream",
     "text": [
      "INFO:tensorflow:No assets to save.\n"
     ]
    },
    {
     "name": "stderr",
     "output_type": "stream",
     "text": [
      "I0320 11:19:15.302670 140413923567424 builder_impl.py:640] No assets to save.\n"
     ]
    },
    {
     "name": "stdout",
     "output_type": "stream",
     "text": [
      "INFO:tensorflow:No assets to write.\n"
     ]
    },
    {
     "name": "stderr",
     "output_type": "stream",
     "text": [
      "I0320 11:19:15.303808 140413923567424 builder_impl.py:460] No assets to write.\n"
     ]
    },
    {
     "name": "stdout",
     "output_type": "stream",
     "text": [
      "INFO:tensorflow:SavedModel written to: ./tmp/serval03hugo/export/step_440/saved_model.pb\n"
     ]
    },
    {
     "name": "stderr",
     "output_type": "stream",
     "text": [
      "I0320 11:19:15.371351 140413923567424 builder_impl.py:425] SavedModel written to: ./tmp/serval03hugo/export/step_440/saved_model.pb\n"
     ]
    },
    {
     "name": "stdout",
     "output_type": "stream",
     "text": [
      "INFO:tensorflow:training step 441 | Loss: 1.84 Examples/sec: 15065.83\n"
     ]
    },
    {
     "name": "stderr",
     "output_type": "stream",
     "text": [
      "I0320 11:19:15.444810 140413923567424 <ipython-input-7-e1062270148e>:361] training step 441 | Loss: 1.84 Examples/sec: 15065.83\n"
     ]
    },
    {
     "name": "stdout",
     "output_type": "stream",
     "text": [
      "INFO:tensorflow:training step 442 | Loss: 1.87 Examples/sec: 8091.21\n"
     ]
    },
    {
     "name": "stderr",
     "output_type": "stream",
     "text": [
      "I0320 11:19:15.573010 140413923567424 <ipython-input-7-e1062270148e>:361] training step 442 | Loss: 1.87 Examples/sec: 8091.21\n"
     ]
    },
    {
     "name": "stdout",
     "output_type": "stream",
     "text": [
      "INFO:tensorflow:training step 443 | Loss: 1.86 Examples/sec: 6644.59\n"
     ]
    },
    {
     "name": "stderr",
     "output_type": "stream",
     "text": [
      "I0320 11:19:15.728978 140413923567424 <ipython-input-7-e1062270148e>:361] training step 443 | Loss: 1.86 Examples/sec: 6644.59\n"
     ]
    },
    {
     "name": "stdout",
     "output_type": "stream",
     "text": [
      "INFO:tensorflow:training step 444 | Loss: 1.86 Examples/sec: 6573.42\n"
     ]
    },
    {
     "name": "stderr",
     "output_type": "stream",
     "text": [
      "I0320 11:19:15.886274 140413923567424 <ipython-input-7-e1062270148e>:361] training step 444 | Loss: 1.86 Examples/sec: 6573.42\n"
     ]
    },
    {
     "name": "stdout",
     "output_type": "stream",
     "text": [
      "INFO:tensorflow:training step 445 | Loss: 1.82 Examples/sec: 6278.53\n"
     ]
    },
    {
     "name": "stderr",
     "output_type": "stream",
     "text": [
      "I0320 11:19:16.051130 140413923567424 <ipython-input-7-e1062270148e>:361] training step 445 | Loss: 1.82 Examples/sec: 6278.53\n"
     ]
    },
    {
     "name": "stdout",
     "output_type": "stream",
     "text": [
      "INFO:tensorflow:training step 446 | Loss: 1.88 Examples/sec: 6340.64\n"
     ]
    },
    {
     "name": "stderr",
     "output_type": "stream",
     "text": [
      "I0320 11:19:16.214173 140413923567424 <ipython-input-7-e1062270148e>:361] training step 446 | Loss: 1.88 Examples/sec: 6340.64\n"
     ]
    },
    {
     "name": "stdout",
     "output_type": "stream",
     "text": [
      "INFO:tensorflow:training step 447 | Loss: 1.86 Examples/sec: 6603.80\n"
     ]
    },
    {
     "name": "stderr",
     "output_type": "stream",
     "text": [
      "I0320 11:19:16.370477 140413923567424 <ipython-input-7-e1062270148e>:361] training step 447 | Loss: 1.86 Examples/sec: 6603.80\n"
     ]
    },
    {
     "name": "stdout",
     "output_type": "stream",
     "text": [
      "INFO:tensorflow:training step 448 | Loss: 1.81 Examples/sec: 6346.65\n"
     ]
    },
    {
     "name": "stderr",
     "output_type": "stream",
     "text": [
      "I0320 11:19:16.533580 140413923567424 <ipython-input-7-e1062270148e>:361] training step 448 | Loss: 1.81 Examples/sec: 6346.65\n"
     ]
    },
    {
     "name": "stdout",
     "output_type": "stream",
     "text": [
      "INFO:tensorflow:training step 449 | Loss: 1.81 Examples/sec: 6688.74\n"
     ]
    },
    {
     "name": "stderr",
     "output_type": "stream",
     "text": [
      "I0320 11:19:16.688656 140413923567424 <ipython-input-7-e1062270148e>:361] training step 449 | Loss: 1.81 Examples/sec: 6688.74\n"
     ]
    },
    {
     "name": "stdout",
     "output_type": "stream",
     "text": [
      "INFO:tensorflow:training step 450 | Loss: 1.87 Examples/sec: 6578.75 | Hit@1: 0.76 PERR: 0.76 GAP: 0.80\n"
     ]
    },
    {
     "name": "stderr",
     "output_type": "stream",
     "text": [
      "I0320 11:19:16.971454 140413923567424 <ipython-input-7-e1062270148e>:337] training step 450 | Loss: 1.87 Examples/sec: 6578.75 | Hit@1: 0.76 PERR: 0.76 GAP: 0.80\n"
     ]
    },
    {
     "name": "stdout",
     "output_type": "stream",
     "text": [
      "INFO:tensorflow:./tmp/serval03hugo/model.ckpt-450 is not in all_model_checkpoint_paths. Manually adding it.\n"
     ]
    },
    {
     "name": "stderr",
     "output_type": "stream",
     "text": [
      "I0320 11:19:16.978094 140413923567424 checkpoint_management.py:95] ./tmp/serval03hugo/model.ckpt-450 is not in all_model_checkpoint_paths. Manually adding it.\n"
     ]
    },
    {
     "name": "stdout",
     "output_type": "stream",
     "text": [
      "INFO:tensorflow:/job:master/task:0: Exporting the model at step 450 to ./tmp/serval03hugo/export/step_450.\n"
     ]
    },
    {
     "name": "stderr",
     "output_type": "stream",
     "text": [
      "I0320 11:19:17.019363 140413923567424 <ipython-input-7-e1062270148e>:379] /job:master/task:0: Exporting the model at step 450 to ./tmp/serval03hugo/export/step_450.\n"
     ]
    },
    {
     "name": "stdout",
     "output_type": "stream",
     "text": [
      "INFO:tensorflow:Restoring parameters from ./tmp/serval03hugo/model.ckpt-450\n"
     ]
    },
    {
     "name": "stderr",
     "output_type": "stream",
     "text": [
      "I0320 11:19:17.045340 140413923567424 saver.py:1284] Restoring parameters from ./tmp/serval03hugo/model.ckpt-450\n"
     ]
    },
    {
     "name": "stdout",
     "output_type": "stream",
     "text": [
      "INFO:tensorflow:No assets to save.\n"
     ]
    },
    {
     "name": "stderr",
     "output_type": "stream",
     "text": [
      "I0320 11:19:17.061597 140413923567424 builder_impl.py:640] No assets to save.\n"
     ]
    },
    {
     "name": "stdout",
     "output_type": "stream",
     "text": [
      "INFO:tensorflow:No assets to write.\n"
     ]
    },
    {
     "name": "stderr",
     "output_type": "stream",
     "text": [
      "I0320 11:19:17.062677 140413923567424 builder_impl.py:460] No assets to write.\n"
     ]
    },
    {
     "name": "stdout",
     "output_type": "stream",
     "text": [
      "INFO:tensorflow:SavedModel written to: ./tmp/serval03hugo/export/step_450/saved_model.pb\n"
     ]
    },
    {
     "name": "stderr",
     "output_type": "stream",
     "text": [
      "I0320 11:19:17.150158 140413923567424 builder_impl.py:425] SavedModel written to: ./tmp/serval03hugo/export/step_450/saved_model.pb\n"
     ]
    },
    {
     "name": "stdout",
     "output_type": "stream",
     "text": [
      "INFO:tensorflow:training step 451 | Loss: 1.84 Examples/sec: 13356.41\n"
     ]
    },
    {
     "name": "stderr",
     "output_type": "stream",
     "text": [
      "I0320 11:19:17.230536 140413923567424 <ipython-input-7-e1062270148e>:361] training step 451 | Loss: 1.84 Examples/sec: 13356.41\n"
     ]
    },
    {
     "name": "stdout",
     "output_type": "stream",
     "text": [
      "INFO:tensorflow:training step 452 | Loss: 1.79 Examples/sec: 6463.53\n"
     ]
    },
    {
     "name": "stderr",
     "output_type": "stream",
     "text": [
      "I0320 11:19:17.390754 140413923567424 <ipython-input-7-e1062270148e>:361] training step 452 | Loss: 1.79 Examples/sec: 6463.53\n"
     ]
    },
    {
     "name": "stdout",
     "output_type": "stream",
     "text": [
      "INFO:tensorflow:training step 453 | Loss: 1.81 Examples/sec: 6544.33\n"
     ]
    },
    {
     "name": "stderr",
     "output_type": "stream",
     "text": [
      "I0320 11:19:17.549020 140413923567424 <ipython-input-7-e1062270148e>:361] training step 453 | Loss: 1.81 Examples/sec: 6544.33\n"
     ]
    },
    {
     "name": "stdout",
     "output_type": "stream",
     "text": [
      "INFO:tensorflow:training step 454 | Loss: 1.85 Examples/sec: 6647.13\n"
     ]
    },
    {
     "name": "stderr",
     "output_type": "stream",
     "text": [
      "I0320 11:19:17.704901 140413923567424 <ipython-input-7-e1062270148e>:361] training step 454 | Loss: 1.85 Examples/sec: 6647.13\n"
     ]
    },
    {
     "name": "stdout",
     "output_type": "stream",
     "text": [
      "INFO:tensorflow:training step 455 | Loss: 1.82 Examples/sec: 6106.23\n"
     ]
    },
    {
     "name": "stderr",
     "output_type": "stream",
     "text": [
      "I0320 11:19:17.874483 140413923567424 <ipython-input-7-e1062270148e>:361] training step 455 | Loss: 1.82 Examples/sec: 6106.23\n"
     ]
    },
    {
     "name": "stdout",
     "output_type": "stream",
     "text": [
      "INFO:tensorflow:training step 456 | Loss: 1.81 Examples/sec: 6306.46\n"
     ]
    },
    {
     "name": "stderr",
     "output_type": "stream",
     "text": [
      "I0320 11:19:18.038036 140413923567424 <ipython-input-7-e1062270148e>:361] training step 456 | Loss: 1.81 Examples/sec: 6306.46\n"
     ]
    },
    {
     "name": "stdout",
     "output_type": "stream",
     "text": [
      "INFO:tensorflow:training step 457 | Loss: 1.83 Examples/sec: 6448.33\n"
     ]
    },
    {
     "name": "stderr",
     "output_type": "stream",
     "text": [
      "I0320 11:19:18.198429 140413923567424 <ipython-input-7-e1062270148e>:361] training step 457 | Loss: 1.83 Examples/sec: 6448.33\n"
     ]
    },
    {
     "name": "stdout",
     "output_type": "stream",
     "text": [
      "INFO:tensorflow:training step 458 | Loss: 1.87 Examples/sec: 6558.90\n"
     ]
    },
    {
     "name": "stderr",
     "output_type": "stream",
     "text": [
      "I0320 11:19:18.356118 140413923567424 <ipython-input-7-e1062270148e>:361] training step 458 | Loss: 1.87 Examples/sec: 6558.90\n"
     ]
    },
    {
     "name": "stdout",
     "output_type": "stream",
     "text": [
      "INFO:tensorflow:training step 459 | Loss: 1.75 Examples/sec: 6658.43\n"
     ]
    },
    {
     "name": "stderr",
     "output_type": "stream",
     "text": [
      "I0320 11:19:18.511693 140413923567424 <ipython-input-7-e1062270148e>:361] training step 459 | Loss: 1.75 Examples/sec: 6658.43\n"
     ]
    },
    {
     "name": "stdout",
     "output_type": "stream",
     "text": [
      "INFO:tensorflow:training step 460 | Loss: 1.82 Examples/sec: 6371.46 | Hit@1: 0.76 PERR: 0.76 GAP: 0.81\n"
     ]
    },
    {
     "name": "stderr",
     "output_type": "stream",
     "text": [
      "I0320 11:19:18.812158 140413923567424 <ipython-input-7-e1062270148e>:337] training step 460 | Loss: 1.82 Examples/sec: 6371.46 | Hit@1: 0.76 PERR: 0.76 GAP: 0.81\n"
     ]
    },
    {
     "name": "stdout",
     "output_type": "stream",
     "text": [
      "INFO:tensorflow:./tmp/serval03hugo/model.ckpt-460 is not in all_model_checkpoint_paths. Manually adding it.\n"
     ]
    },
    {
     "name": "stderr",
     "output_type": "stream",
     "text": [
      "I0320 11:19:18.818108 140413923567424 checkpoint_management.py:95] ./tmp/serval03hugo/model.ckpt-460 is not in all_model_checkpoint_paths. Manually adding it.\n"
     ]
    },
    {
     "name": "stdout",
     "output_type": "stream",
     "text": [
      "INFO:tensorflow:/job:master/task:0: Exporting the model at step 460 to ./tmp/serval03hugo/export/step_460.\n"
     ]
    },
    {
     "name": "stderr",
     "output_type": "stream",
     "text": [
      "I0320 11:19:18.940430 140413923567424 <ipython-input-7-e1062270148e>:379] /job:master/task:0: Exporting the model at step 460 to ./tmp/serval03hugo/export/step_460.\n"
     ]
    },
    {
     "name": "stdout",
     "output_type": "stream",
     "text": [
      "INFO:tensorflow:Restoring parameters from ./tmp/serval03hugo/model.ckpt-460\n"
     ]
    },
    {
     "name": "stderr",
     "output_type": "stream",
     "text": [
      "I0320 11:19:18.966072 140413923567424 saver.py:1284] Restoring parameters from ./tmp/serval03hugo/model.ckpt-460\n"
     ]
    },
    {
     "name": "stdout",
     "output_type": "stream",
     "text": [
      "INFO:tensorflow:No assets to save.\n"
     ]
    },
    {
     "name": "stderr",
     "output_type": "stream",
     "text": [
      "I0320 11:19:18.977814 140413923567424 builder_impl.py:640] No assets to save.\n"
     ]
    },
    {
     "name": "stdout",
     "output_type": "stream",
     "text": [
      "INFO:tensorflow:No assets to write.\n"
     ]
    },
    {
     "name": "stderr",
     "output_type": "stream",
     "text": [
      "I0320 11:19:18.978926 140413923567424 builder_impl.py:460] No assets to write.\n"
     ]
    },
    {
     "name": "stdout",
     "output_type": "stream",
     "text": [
      "INFO:tensorflow:SavedModel written to: ./tmp/serval03hugo/export/step_460/saved_model.pb\n"
     ]
    },
    {
     "name": "stderr",
     "output_type": "stream",
     "text": [
      "I0320 11:19:19.068421 140413923567424 builder_impl.py:425] SavedModel written to: ./tmp/serval03hugo/export/step_460/saved_model.pb\n"
     ]
    },
    {
     "name": "stdout",
     "output_type": "stream",
     "text": [
      "INFO:tensorflow:training step 461 | Loss: 1.83 Examples/sec: 15207.19\n"
     ]
    },
    {
     "name": "stderr",
     "output_type": "stream",
     "text": [
      "I0320 11:19:19.140458 140413923567424 <ipython-input-7-e1062270148e>:361] training step 461 | Loss: 1.83 Examples/sec: 15207.19\n"
     ]
    },
    {
     "name": "stdout",
     "output_type": "stream",
     "text": [
      "INFO:tensorflow:training step 462 | Loss: 1.79 Examples/sec: 9005.80\n"
     ]
    },
    {
     "name": "stderr",
     "output_type": "stream",
     "text": [
      "I0320 11:19:19.255617 140413923567424 <ipython-input-7-e1062270148e>:361] training step 462 | Loss: 1.79 Examples/sec: 9005.80\n"
     ]
    },
    {
     "name": "stdout",
     "output_type": "stream",
     "text": [
      "INFO:tensorflow:training step 463 | Loss: 1.78 Examples/sec: 6224.10\n"
     ]
    },
    {
     "name": "stderr",
     "output_type": "stream",
     "text": [
      "I0320 11:19:19.422026 140413923567424 <ipython-input-7-e1062270148e>:361] training step 463 | Loss: 1.78 Examples/sec: 6224.10\n"
     ]
    },
    {
     "name": "stdout",
     "output_type": "stream",
     "text": [
      "INFO:tensorflow:training step 464 | Loss: 1.82 Examples/sec: 6525.45\n"
     ]
    },
    {
     "name": "stderr",
     "output_type": "stream",
     "text": [
      "I0320 11:19:19.580318 140413923567424 <ipython-input-7-e1062270148e>:361] training step 464 | Loss: 1.82 Examples/sec: 6525.45\n"
     ]
    },
    {
     "name": "stdout",
     "output_type": "stream",
     "text": [
      "INFO:tensorflow:training step 465 | Loss: 1.77 Examples/sec: 6590.78\n"
     ]
    },
    {
     "name": "stderr",
     "output_type": "stream",
     "text": [
      "I0320 11:19:19.737626 140413923567424 <ipython-input-7-e1062270148e>:361] training step 465 | Loss: 1.77 Examples/sec: 6590.78\n"
     ]
    },
    {
     "name": "stdout",
     "output_type": "stream",
     "text": [
      "INFO:tensorflow:training step 466 | Loss: 1.83 Examples/sec: 6621.46\n"
     ]
    },
    {
     "name": "stderr",
     "output_type": "stream",
     "text": [
      "I0320 11:19:19.894153 140413923567424 <ipython-input-7-e1062270148e>:361] training step 466 | Loss: 1.83 Examples/sec: 6621.46\n"
     ]
    },
    {
     "name": "stdout",
     "output_type": "stream",
     "text": [
      "INFO:tensorflow:training step 467 | Loss: 1.79 Examples/sec: 6504.93\n"
     ]
    },
    {
     "name": "stderr",
     "output_type": "stream",
     "text": [
      "I0320 11:19:20.053169 140413923567424 <ipython-input-7-e1062270148e>:361] training step 467 | Loss: 1.79 Examples/sec: 6504.93\n"
     ]
    },
    {
     "name": "stdout",
     "output_type": "stream",
     "text": [
      "INFO:tensorflow:training step 468 | Loss: 1.82 Examples/sec: 6355.96\n"
     ]
    },
    {
     "name": "stderr",
     "output_type": "stream",
     "text": [
      "I0320 11:19:20.215471 140413923567424 <ipython-input-7-e1062270148e>:361] training step 468 | Loss: 1.82 Examples/sec: 6355.96\n"
     ]
    },
    {
     "name": "stdout",
     "output_type": "stream",
     "text": [
      "INFO:tensorflow:training step 469 | Loss: 1.80 Examples/sec: 6573.78\n"
     ]
    },
    {
     "name": "stderr",
     "output_type": "stream",
     "text": [
      "I0320 11:19:20.372822 140413923567424 <ipython-input-7-e1062270148e>:361] training step 469 | Loss: 1.80 Examples/sec: 6573.78\n"
     ]
    },
    {
     "name": "stdout",
     "output_type": "stream",
     "text": [
      "INFO:tensorflow:training step 470 | Loss: 1.77 Examples/sec: 6369.88 | Hit@1: 0.78 PERR: 0.77 GAP: 0.82\n"
     ]
    },
    {
     "name": "stderr",
     "output_type": "stream",
     "text": [
      "I0320 11:19:20.661860 140413923567424 <ipython-input-7-e1062270148e>:337] training step 470 | Loss: 1.77 Examples/sec: 6369.88 | Hit@1: 0.78 PERR: 0.77 GAP: 0.82\n"
     ]
    },
    {
     "name": "stdout",
     "output_type": "stream",
     "text": [
      "INFO:tensorflow:./tmp/serval03hugo/model.ckpt-470 is not in all_model_checkpoint_paths. Manually adding it.\n"
     ]
    },
    {
     "name": "stderr",
     "output_type": "stream",
     "text": [
      "I0320 11:19:20.669214 140413923567424 checkpoint_management.py:95] ./tmp/serval03hugo/model.ckpt-470 is not in all_model_checkpoint_paths. Manually adding it.\n"
     ]
    },
    {
     "name": "stdout",
     "output_type": "stream",
     "text": [
      "INFO:tensorflow:/job:master/task:0: Exporting the model at step 470 to ./tmp/serval03hugo/export/step_470.\n"
     ]
    },
    {
     "name": "stderr",
     "output_type": "stream",
     "text": [
      "I0320 11:19:20.814680 140413923567424 <ipython-input-7-e1062270148e>:379] /job:master/task:0: Exporting the model at step 470 to ./tmp/serval03hugo/export/step_470.\n"
     ]
    },
    {
     "name": "stdout",
     "output_type": "stream",
     "text": [
      "INFO:tensorflow:Restoring parameters from ./tmp/serval03hugo/model.ckpt-470\n"
     ]
    },
    {
     "name": "stderr",
     "output_type": "stream",
     "text": [
      "I0320 11:19:20.839035 140413923567424 saver.py:1284] Restoring parameters from ./tmp/serval03hugo/model.ckpt-470\n"
     ]
    },
    {
     "name": "stdout",
     "output_type": "stream",
     "text": [
      "INFO:tensorflow:No assets to save.\n"
     ]
    },
    {
     "name": "stderr",
     "output_type": "stream",
     "text": [
      "I0320 11:19:20.855329 140413923567424 builder_impl.py:640] No assets to save.\n"
     ]
    },
    {
     "name": "stdout",
     "output_type": "stream",
     "text": [
      "INFO:tensorflow:No assets to write.\n"
     ]
    },
    {
     "name": "stderr",
     "output_type": "stream",
     "text": [
      "I0320 11:19:20.856445 140413923567424 builder_impl.py:460] No assets to write.\n"
     ]
    },
    {
     "name": "stdout",
     "output_type": "stream",
     "text": [
      "INFO:tensorflow:SavedModel written to: ./tmp/serval03hugo/export/step_470/saved_model.pb\n"
     ]
    },
    {
     "name": "stderr",
     "output_type": "stream",
     "text": [
      "I0320 11:19:20.946802 140413923567424 builder_impl.py:425] SavedModel written to: ./tmp/serval03hugo/export/step_470/saved_model.pb\n"
     ]
    },
    {
     "name": "stdout",
     "output_type": "stream",
     "text": [
      "INFO:tensorflow:training step 471 | Loss: 1.83 Examples/sec: 15514.59\n"
     ]
    },
    {
     "name": "stderr",
     "output_type": "stream",
     "text": [
      "I0320 11:19:21.018719 140413923567424 <ipython-input-7-e1062270148e>:361] training step 471 | Loss: 1.83 Examples/sec: 15514.59\n"
     ]
    },
    {
     "name": "stdout",
     "output_type": "stream",
     "text": [
      "INFO:tensorflow:training step 472 | Loss: 1.74 Examples/sec: 9374.65\n"
     ]
    },
    {
     "name": "stderr",
     "output_type": "stream",
     "text": [
      "I0320 11:19:21.129244 140413923567424 <ipython-input-7-e1062270148e>:361] training step 472 | Loss: 1.74 Examples/sec: 9374.65\n"
     ]
    },
    {
     "name": "stdout",
     "output_type": "stream",
     "text": [
      "INFO:tensorflow:training step 473 | Loss: 1.80 Examples/sec: 6633.15\n"
     ]
    },
    {
     "name": "stderr",
     "output_type": "stream",
     "text": [
      "I0320 11:19:21.285152 140413923567424 <ipython-input-7-e1062270148e>:361] training step 473 | Loss: 1.80 Examples/sec: 6633.15\n"
     ]
    },
    {
     "name": "stdout",
     "output_type": "stream",
     "text": [
      "INFO:tensorflow:training step 474 | Loss: 1.74 Examples/sec: 6483.20\n"
     ]
    },
    {
     "name": "stderr",
     "output_type": "stream",
     "text": [
      "I0320 11:19:21.444817 140413923567424 <ipython-input-7-e1062270148e>:361] training step 474 | Loss: 1.74 Examples/sec: 6483.20\n"
     ]
    },
    {
     "name": "stdout",
     "output_type": "stream",
     "text": [
      "INFO:tensorflow:training step 475 | Loss: 1.77 Examples/sec: 6629.47\n"
     ]
    },
    {
     "name": "stderr",
     "output_type": "stream",
     "text": [
      "I0320 11:19:21.600943 140413923567424 <ipython-input-7-e1062270148e>:361] training step 475 | Loss: 1.77 Examples/sec: 6629.47\n"
     ]
    },
    {
     "name": "stdout",
     "output_type": "stream",
     "text": [
      "INFO:tensorflow:training step 476 | Loss: 1.83 Examples/sec: 6560.30\n"
     ]
    },
    {
     "name": "stderr",
     "output_type": "stream",
     "text": [
      "I0320 11:19:21.758627 140413923567424 <ipython-input-7-e1062270148e>:361] training step 476 | Loss: 1.83 Examples/sec: 6560.30\n"
     ]
    },
    {
     "name": "stdout",
     "output_type": "stream",
     "text": [
      "INFO:tensorflow:training step 477 | Loss: 1.75 Examples/sec: 6647.70\n"
     ]
    },
    {
     "name": "stderr",
     "output_type": "stream",
     "text": [
      "I0320 11:19:21.914297 140413923567424 <ipython-input-7-e1062270148e>:361] training step 477 | Loss: 1.75 Examples/sec: 6647.70\n"
     ]
    },
    {
     "name": "stdout",
     "output_type": "stream",
     "text": [
      "INFO:tensorflow:training step 478 | Loss: 1.79 Examples/sec: 6532.46\n"
     ]
    },
    {
     "name": "stderr",
     "output_type": "stream",
     "text": [
      "I0320 11:19:22.072726 140413923567424 <ipython-input-7-e1062270148e>:361] training step 478 | Loss: 1.79 Examples/sec: 6532.46\n"
     ]
    },
    {
     "name": "stdout",
     "output_type": "stream",
     "text": [
      "INFO:tensorflow:training step 479 | Loss: 1.73 Examples/sec: 6641.76\n"
     ]
    },
    {
     "name": "stderr",
     "output_type": "stream",
     "text": [
      "I0320 11:19:22.228675 140413923567424 <ipython-input-7-e1062270148e>:361] training step 479 | Loss: 1.73 Examples/sec: 6641.76\n"
     ]
    },
    {
     "name": "stdout",
     "output_type": "stream",
     "text": [
      "INFO:tensorflow:training step 480 | Loss: 1.83 Examples/sec: 6539.69 | Hit@1: 0.76 PERR: 0.76 GAP: 0.80\n"
     ]
    },
    {
     "name": "stderr",
     "output_type": "stream",
     "text": [
      "I0320 11:19:22.587690 140413923567424 <ipython-input-7-e1062270148e>:337] training step 480 | Loss: 1.83 Examples/sec: 6539.69 | Hit@1: 0.76 PERR: 0.76 GAP: 0.80\n"
     ]
    },
    {
     "name": "stdout",
     "output_type": "stream",
     "text": [
      "INFO:tensorflow:./tmp/serval03hugo/model.ckpt-480 is not in all_model_checkpoint_paths. Manually adding it.\n"
     ]
    },
    {
     "name": "stderr",
     "output_type": "stream",
     "text": [
      "I0320 11:19:22.593294 140413923567424 checkpoint_management.py:95] ./tmp/serval03hugo/model.ckpt-480 is not in all_model_checkpoint_paths. Manually adding it.\n"
     ]
    },
    {
     "name": "stdout",
     "output_type": "stream",
     "text": [
      "INFO:tensorflow:/job:master/task:0: Exporting the model at step 480 to ./tmp/serval03hugo/export/step_480.\n"
     ]
    },
    {
     "name": "stderr",
     "output_type": "stream",
     "text": [
      "I0320 11:19:22.659872 140413923567424 <ipython-input-7-e1062270148e>:379] /job:master/task:0: Exporting the model at step 480 to ./tmp/serval03hugo/export/step_480.\n"
     ]
    },
    {
     "name": "stdout",
     "output_type": "stream",
     "text": [
      "INFO:tensorflow:Restoring parameters from ./tmp/serval03hugo/model.ckpt-480\n"
     ]
    },
    {
     "name": "stderr",
     "output_type": "stream",
     "text": [
      "I0320 11:19:22.684485 140413923567424 saver.py:1284] Restoring parameters from ./tmp/serval03hugo/model.ckpt-480\n"
     ]
    },
    {
     "name": "stdout",
     "output_type": "stream",
     "text": [
      "INFO:tensorflow:No assets to save.\n"
     ]
    },
    {
     "name": "stderr",
     "output_type": "stream",
     "text": [
      "I0320 11:19:22.703202 140413923567424 builder_impl.py:640] No assets to save.\n"
     ]
    },
    {
     "name": "stdout",
     "output_type": "stream",
     "text": [
      "INFO:tensorflow:No assets to write.\n"
     ]
    },
    {
     "name": "stderr",
     "output_type": "stream",
     "text": [
      "I0320 11:19:22.704581 140413923567424 builder_impl.py:460] No assets to write.\n"
     ]
    },
    {
     "name": "stdout",
     "output_type": "stream",
     "text": [
      "INFO:tensorflow:SavedModel written to: ./tmp/serval03hugo/export/step_480/saved_model.pb\n"
     ]
    },
    {
     "name": "stderr",
     "output_type": "stream",
     "text": [
      "I0320 11:19:22.798370 140413923567424 builder_impl.py:425] SavedModel written to: ./tmp/serval03hugo/export/step_480/saved_model.pb\n"
     ]
    },
    {
     "name": "stdout",
     "output_type": "stream",
     "text": [
      "INFO:tensorflow:training step 481 | Loss: 1.75 Examples/sec: 15642.47\n"
     ]
    },
    {
     "name": "stderr",
     "output_type": "stream",
     "text": [
      "I0320 11:19:22.868275 140413923567424 <ipython-input-7-e1062270148e>:361] training step 481 | Loss: 1.75 Examples/sec: 15642.47\n"
     ]
    },
    {
     "name": "stdout",
     "output_type": "stream",
     "text": [
      "INFO:tensorflow:training step 482 | Loss: 1.77 Examples/sec: 6668.21\n"
     ]
    },
    {
     "name": "stderr",
     "output_type": "stream",
     "text": [
      "I0320 11:19:23.023350 140413923567424 <ipython-input-7-e1062270148e>:361] training step 482 | Loss: 1.77 Examples/sec: 6668.21\n"
     ]
    },
    {
     "name": "stdout",
     "output_type": "stream",
     "text": [
      "INFO:tensorflow:training step 483 | Loss: 1.78 Examples/sec: 6280.20\n"
     ]
    },
    {
     "name": "stderr",
     "output_type": "stream",
     "text": [
      "I0320 11:19:23.187982 140413923567424 <ipython-input-7-e1062270148e>:361] training step 483 | Loss: 1.78 Examples/sec: 6280.20\n"
     ]
    },
    {
     "name": "stdout",
     "output_type": "stream",
     "text": [
      "INFO:tensorflow:training step 484 | Loss: 1.77 Examples/sec: 6604.53\n"
     ]
    },
    {
     "name": "stderr",
     "output_type": "stream",
     "text": [
      "I0320 11:19:23.345257 140413923567424 <ipython-input-7-e1062270148e>:361] training step 484 | Loss: 1.77 Examples/sec: 6604.53\n"
     ]
    },
    {
     "name": "stdout",
     "output_type": "stream",
     "text": [
      "INFO:tensorflow:training step 485 | Loss: 1.77 Examples/sec: 6229.29\n"
     ]
    },
    {
     "name": "stderr",
     "output_type": "stream",
     "text": [
      "I0320 11:19:23.511312 140413923567424 <ipython-input-7-e1062270148e>:361] training step 485 | Loss: 1.77 Examples/sec: 6229.29\n"
     ]
    },
    {
     "name": "stdout",
     "output_type": "stream",
     "text": [
      "INFO:tensorflow:training step 486 | Loss: 1.79 Examples/sec: 6571.07\n"
     ]
    },
    {
     "name": "stderr",
     "output_type": "stream",
     "text": [
      "I0320 11:19:23.668749 140413923567424 <ipython-input-7-e1062270148e>:361] training step 486 | Loss: 1.79 Examples/sec: 6571.07\n"
     ]
    },
    {
     "name": "stdout",
     "output_type": "stream",
     "text": [
      "INFO:tensorflow:training step 487 | Loss: 1.76 Examples/sec: 6613.61\n"
     ]
    },
    {
     "name": "stderr",
     "output_type": "stream",
     "text": [
      "I0320 11:19:23.825140 140413923567424 <ipython-input-7-e1062270148e>:361] training step 487 | Loss: 1.76 Examples/sec: 6613.61\n"
     ]
    },
    {
     "name": "stdout",
     "output_type": "stream",
     "text": [
      "INFO:tensorflow:training step 488 | Loss: 1.77 Examples/sec: 6557.31\n"
     ]
    },
    {
     "name": "stderr",
     "output_type": "stream",
     "text": [
      "I0320 11:19:23.982786 140413923567424 <ipython-input-7-e1062270148e>:361] training step 488 | Loss: 1.77 Examples/sec: 6557.31\n"
     ]
    },
    {
     "name": "stdout",
     "output_type": "stream",
     "text": [
      "INFO:tensorflow:training step 489 | Loss: 1.69 Examples/sec: 6577.13\n"
     ]
    },
    {
     "name": "stderr",
     "output_type": "stream",
     "text": [
      "I0320 11:19:24.140253 140413923567424 <ipython-input-7-e1062270148e>:361] training step 489 | Loss: 1.69 Examples/sec: 6577.13\n"
     ]
    },
    {
     "name": "stdout",
     "output_type": "stream",
     "text": [
      "INFO:tensorflow:training step 490 | Loss: 1.81 Examples/sec: 6351.86 | Hit@1: 0.75 PERR: 0.75 GAP: 0.79\n"
     ]
    },
    {
     "name": "stderr",
     "output_type": "stream",
     "text": [
      "I0320 11:19:24.428159 140413923567424 <ipython-input-7-e1062270148e>:337] training step 490 | Loss: 1.81 Examples/sec: 6351.86 | Hit@1: 0.75 PERR: 0.75 GAP: 0.79\n"
     ]
    },
    {
     "name": "stdout",
     "output_type": "stream",
     "text": [
      "INFO:tensorflow:./tmp/serval03hugo/model.ckpt-490 is not in all_model_checkpoint_paths. Manually adding it.\n"
     ]
    },
    {
     "name": "stderr",
     "output_type": "stream",
     "text": [
      "I0320 11:19:24.433456 140413923567424 checkpoint_management.py:95] ./tmp/serval03hugo/model.ckpt-490 is not in all_model_checkpoint_paths. Manually adding it.\n"
     ]
    },
    {
     "name": "stdout",
     "output_type": "stream",
     "text": [
      "INFO:tensorflow:/job:master/task:0: Exporting the model at step 490 to ./tmp/serval03hugo/export/step_490.\n"
     ]
    },
    {
     "name": "stderr",
     "output_type": "stream",
     "text": [
      "I0320 11:19:24.539717 140413923567424 <ipython-input-7-e1062270148e>:379] /job:master/task:0: Exporting the model at step 490 to ./tmp/serval03hugo/export/step_490.\n"
     ]
    },
    {
     "name": "stdout",
     "output_type": "stream",
     "text": [
      "INFO:tensorflow:Restoring parameters from ./tmp/serval03hugo/model.ckpt-490\n"
     ]
    },
    {
     "name": "stderr",
     "output_type": "stream",
     "text": [
      "I0320 11:19:24.563068 140413923567424 saver.py:1284] Restoring parameters from ./tmp/serval03hugo/model.ckpt-490\n"
     ]
    },
    {
     "name": "stdout",
     "output_type": "stream",
     "text": [
      "INFO:tensorflow:No assets to save.\n"
     ]
    },
    {
     "name": "stderr",
     "output_type": "stream",
     "text": [
      "I0320 11:19:24.580273 140413923567424 builder_impl.py:640] No assets to save.\n"
     ]
    },
    {
     "name": "stdout",
     "output_type": "stream",
     "text": [
      "INFO:tensorflow:No assets to write.\n"
     ]
    },
    {
     "name": "stderr",
     "output_type": "stream",
     "text": [
      "I0320 11:19:24.581487 140413923567424 builder_impl.py:460] No assets to write.\n"
     ]
    },
    {
     "name": "stdout",
     "output_type": "stream",
     "text": [
      "INFO:tensorflow:SavedModel written to: ./tmp/serval03hugo/export/step_490/saved_model.pb\n"
     ]
    },
    {
     "name": "stderr",
     "output_type": "stream",
     "text": [
      "I0320 11:19:24.679955 140413923567424 builder_impl.py:425] SavedModel written to: ./tmp/serval03hugo/export/step_490/saved_model.pb\n"
     ]
    },
    {
     "name": "stdout",
     "output_type": "stream",
     "text": [
      "INFO:tensorflow:training step 491 | Loss: 1.76 Examples/sec: 16190.26\n"
     ]
    },
    {
     "name": "stderr",
     "output_type": "stream",
     "text": [
      "I0320 11:19:24.747073 140413923567424 <ipython-input-7-e1062270148e>:361] training step 491 | Loss: 1.76 Examples/sec: 16190.26\n"
     ]
    },
    {
     "name": "stdout",
     "output_type": "stream",
     "text": [
      "INFO:tensorflow:training step 492 | Loss: 1.71 Examples/sec: 7968.81\n"
     ]
    },
    {
     "name": "stderr",
     "output_type": "stream",
     "text": [
      "I0320 11:19:24.877561 140413923567424 <ipython-input-7-e1062270148e>:361] training step 492 | Loss: 1.71 Examples/sec: 7968.81\n"
     ]
    },
    {
     "name": "stdout",
     "output_type": "stream",
     "text": [
      "INFO:tensorflow:training step 493 | Loss: 1.71 Examples/sec: 6604.72\n"
     ]
    },
    {
     "name": "stderr",
     "output_type": "stream",
     "text": [
      "I0320 11:19:25.034610 140413923567424 <ipython-input-7-e1062270148e>:361] training step 493 | Loss: 1.71 Examples/sec: 6604.72\n"
     ]
    },
    {
     "name": "stdout",
     "output_type": "stream",
     "text": [
      "INFO:tensorflow:training step 494 | Loss: 1.75 Examples/sec: 6576.35\n"
     ]
    },
    {
     "name": "stderr",
     "output_type": "stream",
     "text": [
      "I0320 11:19:25.192045 140413923567424 <ipython-input-7-e1062270148e>:361] training step 494 | Loss: 1.75 Examples/sec: 6576.35\n"
     ]
    },
    {
     "name": "stdout",
     "output_type": "stream",
     "text": [
      "INFO:tensorflow:training step 495 | Loss: 1.75 Examples/sec: 6261.43\n"
     ]
    },
    {
     "name": "stderr",
     "output_type": "stream",
     "text": [
      "I0320 11:19:25.357242 140413923567424 <ipython-input-7-e1062270148e>:361] training step 495 | Loss: 1.75 Examples/sec: 6261.43\n"
     ]
    },
    {
     "name": "stdout",
     "output_type": "stream",
     "text": [
      "INFO:tensorflow:training step 496 | Loss: 1.71 Examples/sec: 6512.27\n"
     ]
    },
    {
     "name": "stderr",
     "output_type": "stream",
     "text": [
      "I0320 11:19:25.515927 140413923567424 <ipython-input-7-e1062270148e>:361] training step 496 | Loss: 1.71 Examples/sec: 6512.27\n"
     ]
    },
    {
     "name": "stdout",
     "output_type": "stream",
     "text": [
      "INFO:tensorflow:training step 497 | Loss: 1.79 Examples/sec: 6575.28\n"
     ]
    },
    {
     "name": "stderr",
     "output_type": "stream",
     "text": [
      "I0320 11:19:25.672852 140413923567424 <ipython-input-7-e1062270148e>:361] training step 497 | Loss: 1.79 Examples/sec: 6575.28\n"
     ]
    },
    {
     "name": "stdout",
     "output_type": "stream",
     "text": [
      "INFO:tensorflow:training step 498 | Loss: 1.77 Examples/sec: 6236.41\n"
     ]
    },
    {
     "name": "stderr",
     "output_type": "stream",
     "text": [
      "I0320 11:19:25.838870 140413923567424 <ipython-input-7-e1062270148e>:361] training step 498 | Loss: 1.77 Examples/sec: 6236.41\n"
     ]
    },
    {
     "name": "stdout",
     "output_type": "stream",
     "text": [
      "INFO:tensorflow:training step 499 | Loss: 1.74 Examples/sec: 6491.58\n"
     ]
    },
    {
     "name": "stderr",
     "output_type": "stream",
     "text": [
      "I0320 11:19:25.997752 140413923567424 <ipython-input-7-e1062270148e>:361] training step 499 | Loss: 1.74 Examples/sec: 6491.58\n"
     ]
    },
    {
     "name": "stdout",
     "output_type": "stream",
     "text": [
      "INFO:tensorflow:training step 500 | Loss: 1.77 Examples/sec: 6548.95 | Hit@1: 0.76 PERR: 0.76 GAP: 0.80\n"
     ]
    },
    {
     "name": "stderr",
     "output_type": "stream",
     "text": [
      "I0320 11:19:26.300393 140413923567424 <ipython-input-7-e1062270148e>:337] training step 500 | Loss: 1.77 Examples/sec: 6548.95 | Hit@1: 0.76 PERR: 0.76 GAP: 0.80\n"
     ]
    },
    {
     "name": "stdout",
     "output_type": "stream",
     "text": [
      "INFO:tensorflow:./tmp/serval03hugo/model.ckpt-500 is not in all_model_checkpoint_paths. Manually adding it.\n"
     ]
    },
    {
     "name": "stderr",
     "output_type": "stream",
     "text": [
      "I0320 11:19:26.307119 140413923567424 checkpoint_management.py:95] ./tmp/serval03hugo/model.ckpt-500 is not in all_model_checkpoint_paths. Manually adding it.\n"
     ]
    },
    {
     "name": "stdout",
     "output_type": "stream",
     "text": [
      "INFO:tensorflow:/job:master/task:0: Exporting the model at step 500 to ./tmp/serval03hugo/export/step_500.\n"
     ]
    },
    {
     "name": "stderr",
     "output_type": "stream",
     "text": [
      "I0320 11:19:26.423751 140413923567424 <ipython-input-7-e1062270148e>:379] /job:master/task:0: Exporting the model at step 500 to ./tmp/serval03hugo/export/step_500.\n"
     ]
    },
    {
     "name": "stdout",
     "output_type": "stream",
     "text": [
      "INFO:tensorflow:Restoring parameters from ./tmp/serval03hugo/model.ckpt-500\n"
     ]
    },
    {
     "name": "stderr",
     "output_type": "stream",
     "text": [
      "I0320 11:19:26.449176 140413923567424 saver.py:1284] Restoring parameters from ./tmp/serval03hugo/model.ckpt-500\n"
     ]
    },
    {
     "name": "stdout",
     "output_type": "stream",
     "text": [
      "INFO:tensorflow:No assets to save.\n"
     ]
    },
    {
     "name": "stderr",
     "output_type": "stream",
     "text": [
      "I0320 11:19:26.465250 140413923567424 builder_impl.py:640] No assets to save.\n"
     ]
    },
    {
     "name": "stdout",
     "output_type": "stream",
     "text": [
      "INFO:tensorflow:No assets to write.\n"
     ]
    },
    {
     "name": "stderr",
     "output_type": "stream",
     "text": [
      "I0320 11:19:26.466602 140413923567424 builder_impl.py:460] No assets to write.\n"
     ]
    },
    {
     "name": "stdout",
     "output_type": "stream",
     "text": [
      "INFO:tensorflow:SavedModel written to: ./tmp/serval03hugo/export/step_500/saved_model.pb\n"
     ]
    },
    {
     "name": "stderr",
     "output_type": "stream",
     "text": [
      "I0320 11:19:26.563811 140413923567424 builder_impl.py:425] SavedModel written to: ./tmp/serval03hugo/export/step_500/saved_model.pb\n"
     ]
    },
    {
     "name": "stdout",
     "output_type": "stream",
     "text": [
      "INFO:tensorflow:training step 501 | Loss: 1.74 Examples/sec: 15335.28\n"
     ]
    },
    {
     "name": "stderr",
     "output_type": "stream",
     "text": [
      "I0320 11:19:26.636867 140413923567424 <ipython-input-7-e1062270148e>:361] training step 501 | Loss: 1.74 Examples/sec: 15335.28\n"
     ]
    },
    {
     "name": "stdout",
     "output_type": "stream",
     "text": [
      "INFO:tensorflow:training step 502 | Loss: 1.70 Examples/sec: 8556.53\n"
     ]
    },
    {
     "name": "stderr",
     "output_type": "stream",
     "text": [
      "I0320 11:19:26.758018 140413923567424 <ipython-input-7-e1062270148e>:361] training step 502 | Loss: 1.70 Examples/sec: 8556.53\n"
     ]
    },
    {
     "name": "stdout",
     "output_type": "stream",
     "text": [
      "INFO:tensorflow:training step 503 | Loss: 1.72 Examples/sec: 6572.57\n"
     ]
    },
    {
     "name": "stderr",
     "output_type": "stream",
     "text": [
      "I0320 11:19:26.915379 140413923567424 <ipython-input-7-e1062270148e>:361] training step 503 | Loss: 1.72 Examples/sec: 6572.57\n"
     ]
    },
    {
     "name": "stdout",
     "output_type": "stream",
     "text": [
      "INFO:tensorflow:training step 504 | Loss: 1.74 Examples/sec: 6427.67\n"
     ]
    },
    {
     "name": "stderr",
     "output_type": "stream",
     "text": [
      "I0320 11:19:27.075797 140413923567424 <ipython-input-7-e1062270148e>:361] training step 504 | Loss: 1.74 Examples/sec: 6427.67\n"
     ]
    },
    {
     "name": "stdout",
     "output_type": "stream",
     "text": [
      "INFO:tensorflow:training step 505 | Loss: 1.74 Examples/sec: 6282.23\n"
     ]
    },
    {
     "name": "stderr",
     "output_type": "stream",
     "text": [
      "I0320 11:19:27.239998 140413923567424 <ipython-input-7-e1062270148e>:361] training step 505 | Loss: 1.74 Examples/sec: 6282.23\n"
     ]
    },
    {
     "name": "stdout",
     "output_type": "stream",
     "text": [
      "INFO:tensorflow:training step 506 | Loss: 1.70 Examples/sec: 6605.41\n"
     ]
    },
    {
     "name": "stderr",
     "output_type": "stream",
     "text": [
      "I0320 11:19:27.396545 140413923567424 <ipython-input-7-e1062270148e>:361] training step 506 | Loss: 1.70 Examples/sec: 6605.41\n"
     ]
    },
    {
     "name": "stdout",
     "output_type": "stream",
     "text": [
      "INFO:tensorflow:training step 507 | Loss: 1.74 Examples/sec: 6530.61\n"
     ]
    },
    {
     "name": "stderr",
     "output_type": "stream",
     "text": [
      "I0320 11:19:27.554900 140413923567424 <ipython-input-7-e1062270148e>:361] training step 507 | Loss: 1.74 Examples/sec: 6530.61\n"
     ]
    },
    {
     "name": "stdout",
     "output_type": "stream",
     "text": [
      "INFO:tensorflow:training step 508 | Loss: 1.71 Examples/sec: 6549.52\n"
     ]
    },
    {
     "name": "stderr",
     "output_type": "stream",
     "text": [
      "I0320 11:19:27.712790 140413923567424 <ipython-input-7-e1062270148e>:361] training step 508 | Loss: 1.71 Examples/sec: 6549.52\n"
     ]
    },
    {
     "name": "stdout",
     "output_type": "stream",
     "text": [
      "INFO:tensorflow:training step 509 | Loss: 1.71 Examples/sec: 6710.96\n"
     ]
    },
    {
     "name": "stderr",
     "output_type": "stream",
     "text": [
      "I0320 11:19:27.867033 140413923567424 <ipython-input-7-e1062270148e>:361] training step 509 | Loss: 1.71 Examples/sec: 6710.96\n"
     ]
    },
    {
     "name": "stdout",
     "output_type": "stream",
     "text": [
      "INFO:tensorflow:training step 510 | Loss: 1.73 Examples/sec: 6588.33 | Hit@1: 0.77 PERR: 0.77 GAP: 0.81\n"
     ]
    },
    {
     "name": "stderr",
     "output_type": "stream",
     "text": [
      "I0320 11:19:28.160012 140413923567424 <ipython-input-7-e1062270148e>:337] training step 510 | Loss: 1.73 Examples/sec: 6588.33 | Hit@1: 0.77 PERR: 0.77 GAP: 0.81\n"
     ]
    },
    {
     "name": "stdout",
     "output_type": "stream",
     "text": [
      "INFO:tensorflow:./tmp/serval03hugo/model.ckpt-510 is not in all_model_checkpoint_paths. Manually adding it.\n"
     ]
    },
    {
     "name": "stderr",
     "output_type": "stream",
     "text": [
      "I0320 11:19:28.166827 140413923567424 checkpoint_management.py:95] ./tmp/serval03hugo/model.ckpt-510 is not in all_model_checkpoint_paths. Manually adding it.\n"
     ]
    },
    {
     "name": "stdout",
     "output_type": "stream",
     "text": [
      "INFO:tensorflow:/job:master/task:0: Exporting the model at step 510 to ./tmp/serval03hugo/export/step_510.\n"
     ]
    },
    {
     "name": "stderr",
     "output_type": "stream",
     "text": [
      "I0320 11:19:28.276418 140413923567424 <ipython-input-7-e1062270148e>:379] /job:master/task:0: Exporting the model at step 510 to ./tmp/serval03hugo/export/step_510.\n"
     ]
    },
    {
     "name": "stdout",
     "output_type": "stream",
     "text": [
      "INFO:tensorflow:Restoring parameters from ./tmp/serval03hugo/model.ckpt-510\n"
     ]
    },
    {
     "name": "stderr",
     "output_type": "stream",
     "text": [
      "I0320 11:19:28.304894 140413923567424 saver.py:1284] Restoring parameters from ./tmp/serval03hugo/model.ckpt-510\n"
     ]
    },
    {
     "name": "stdout",
     "output_type": "stream",
     "text": [
      "INFO:tensorflow:No assets to save.\n"
     ]
    },
    {
     "name": "stderr",
     "output_type": "stream",
     "text": [
      "I0320 11:19:28.323089 140413923567424 builder_impl.py:640] No assets to save.\n"
     ]
    },
    {
     "name": "stdout",
     "output_type": "stream",
     "text": [
      "INFO:tensorflow:No assets to write.\n"
     ]
    },
    {
     "name": "stderr",
     "output_type": "stream",
     "text": [
      "I0320 11:19:28.324342 140413923567424 builder_impl.py:460] No assets to write.\n"
     ]
    },
    {
     "name": "stdout",
     "output_type": "stream",
     "text": [
      "INFO:tensorflow:SavedModel written to: ./tmp/serval03hugo/export/step_510/saved_model.pb\n"
     ]
    },
    {
     "name": "stderr",
     "output_type": "stream",
     "text": [
      "I0320 11:19:28.433741 140413923567424 builder_impl.py:425] SavedModel written to: ./tmp/serval03hugo/export/step_510/saved_model.pb\n"
     ]
    },
    {
     "name": "stdout",
     "output_type": "stream",
     "text": [
      "INFO:tensorflow:training step 511 | Loss: 1.77 Examples/sec: 15388.36\n"
     ]
    },
    {
     "name": "stderr",
     "output_type": "stream",
     "text": [
      "I0320 11:19:28.504363 140413923567424 <ipython-input-7-e1062270148e>:361] training step 511 | Loss: 1.77 Examples/sec: 15388.36\n"
     ]
    },
    {
     "name": "stdout",
     "output_type": "stream",
     "text": [
      "INFO:tensorflow:training step 512 | Loss: 1.71 Examples/sec: 8341.59\n"
     ]
    },
    {
     "name": "stderr",
     "output_type": "stream",
     "text": [
      "I0320 11:19:28.629535 140413923567424 <ipython-input-7-e1062270148e>:361] training step 512 | Loss: 1.71 Examples/sec: 8341.59\n"
     ]
    },
    {
     "name": "stdout",
     "output_type": "stream",
     "text": [
      "INFO:tensorflow:training step 513 | Loss: 1.72 Examples/sec: 6573.00\n"
     ]
    },
    {
     "name": "stderr",
     "output_type": "stream",
     "text": [
      "I0320 11:19:28.786686 140413923567424 <ipython-input-7-e1062270148e>:361] training step 513 | Loss: 1.72 Examples/sec: 6573.00\n"
     ]
    },
    {
     "name": "stdout",
     "output_type": "stream",
     "text": [
      "INFO:tensorflow:training step 514 | Loss: 1.68 Examples/sec: 6317.93\n"
     ]
    },
    {
     "name": "stderr",
     "output_type": "stream",
     "text": [
      "I0320 11:19:28.950227 140413923567424 <ipython-input-7-e1062270148e>:361] training step 514 | Loss: 1.68 Examples/sec: 6317.93\n"
     ]
    },
    {
     "name": "stdout",
     "output_type": "stream",
     "text": [
      "INFO:tensorflow:training step 515 | Loss: 1.75 Examples/sec: 6331.86\n"
     ]
    },
    {
     "name": "stderr",
     "output_type": "stream",
     "text": [
      "I0320 11:19:29.113644 140413923567424 <ipython-input-7-e1062270148e>:361] training step 515 | Loss: 1.75 Examples/sec: 6331.86\n"
     ]
    },
    {
     "name": "stdout",
     "output_type": "stream",
     "text": [
      "INFO:tensorflow:training step 516 | Loss: 1.70 Examples/sec: 6306.46\n"
     ]
    },
    {
     "name": "stderr",
     "output_type": "stream",
     "text": [
      "I0320 11:19:29.277403 140413923567424 <ipython-input-7-e1062270148e>:361] training step 516 | Loss: 1.70 Examples/sec: 6306.46\n"
     ]
    },
    {
     "name": "stdout",
     "output_type": "stream",
     "text": [
      "INFO:tensorflow:training step 517 | Loss: 1.75 Examples/sec: 6539.72\n"
     ]
    },
    {
     "name": "stderr",
     "output_type": "stream",
     "text": [
      "I0320 11:19:29.435564 140413923567424 <ipython-input-7-e1062270148e>:361] training step 517 | Loss: 1.75 Examples/sec: 6539.72\n"
     ]
    },
    {
     "name": "stdout",
     "output_type": "stream",
     "text": [
      "INFO:tensorflow:training step 518 | Loss: 1.66 Examples/sec: 6272.82\n"
     ]
    },
    {
     "name": "stderr",
     "output_type": "stream",
     "text": [
      "I0320 11:19:29.599949 140413923567424 <ipython-input-7-e1062270148e>:361] training step 518 | Loss: 1.66 Examples/sec: 6272.82\n"
     ]
    },
    {
     "name": "stdout",
     "output_type": "stream",
     "text": [
      "INFO:tensorflow:training step 519 | Loss: 1.68 Examples/sec: 6489.84\n"
     ]
    },
    {
     "name": "stderr",
     "output_type": "stream",
     "text": [
      "I0320 11:19:29.758959 140413923567424 <ipython-input-7-e1062270148e>:361] training step 519 | Loss: 1.68 Examples/sec: 6489.84\n"
     ]
    },
    {
     "name": "stdout",
     "output_type": "stream",
     "text": [
      "INFO:tensorflow:training step 520 | Loss: 1.71 Examples/sec: 6491.58 | Hit@1: 0.77 PERR: 0.76 GAP: 0.82\n"
     ]
    },
    {
     "name": "stderr",
     "output_type": "stream",
     "text": [
      "I0320 11:19:30.071842 140413923567424 <ipython-input-7-e1062270148e>:337] training step 520 | Loss: 1.71 Examples/sec: 6491.58 | Hit@1: 0.77 PERR: 0.76 GAP: 0.82\n"
     ]
    },
    {
     "name": "stdout",
     "output_type": "stream",
     "text": [
      "INFO:tensorflow:./tmp/serval03hugo/model.ckpt-520 is not in all_model_checkpoint_paths. Manually adding it.\n"
     ]
    },
    {
     "name": "stderr",
     "output_type": "stream",
     "text": [
      "I0320 11:19:30.080030 140413923567424 checkpoint_management.py:95] ./tmp/serval03hugo/model.ckpt-520 is not in all_model_checkpoint_paths. Manually adding it.\n"
     ]
    },
    {
     "name": "stdout",
     "output_type": "stream",
     "text": [
      "INFO:tensorflow:/job:master/task:0: Exporting the model at step 520 to ./tmp/serval03hugo/export/step_520.\n"
     ]
    },
    {
     "name": "stderr",
     "output_type": "stream",
     "text": [
      "I0320 11:19:30.160737 140413923567424 <ipython-input-7-e1062270148e>:379] /job:master/task:0: Exporting the model at step 520 to ./tmp/serval03hugo/export/step_520.\n"
     ]
    },
    {
     "name": "stdout",
     "output_type": "stream",
     "text": [
      "INFO:tensorflow:Restoring parameters from ./tmp/serval03hugo/model.ckpt-520\n"
     ]
    },
    {
     "name": "stderr",
     "output_type": "stream",
     "text": [
      "I0320 11:19:30.189336 140413923567424 saver.py:1284] Restoring parameters from ./tmp/serval03hugo/model.ckpt-520\n"
     ]
    },
    {
     "name": "stdout",
     "output_type": "stream",
     "text": [
      "INFO:tensorflow:No assets to save.\n"
     ]
    },
    {
     "name": "stderr",
     "output_type": "stream",
     "text": [
      "I0320 11:19:30.207044 140413923567424 builder_impl.py:640] No assets to save.\n"
     ]
    },
    {
     "name": "stdout",
     "output_type": "stream",
     "text": [
      "INFO:tensorflow:No assets to write.\n"
     ]
    },
    {
     "name": "stderr",
     "output_type": "stream",
     "text": [
      "I0320 11:19:30.210422 140413923567424 builder_impl.py:460] No assets to write.\n"
     ]
    },
    {
     "name": "stdout",
     "output_type": "stream",
     "text": [
      "INFO:tensorflow:SavedModel written to: ./tmp/serval03hugo/export/step_520/saved_model.pb\n"
     ]
    },
    {
     "name": "stderr",
     "output_type": "stream",
     "text": [
      "I0320 11:19:30.305160 140413923567424 builder_impl.py:425] SavedModel written to: ./tmp/serval03hugo/export/step_520/saved_model.pb\n"
     ]
    },
    {
     "name": "stdout",
     "output_type": "stream",
     "text": [
      "INFO:tensorflow:training step 521 | Loss: 1.62 Examples/sec: 15915.24\n"
     ]
    },
    {
     "name": "stderr",
     "output_type": "stream",
     "text": [
      "I0320 11:19:30.374044 140413923567424 <ipython-input-7-e1062270148e>:361] training step 521 | Loss: 1.62 Examples/sec: 15915.24\n"
     ]
    },
    {
     "name": "stdout",
     "output_type": "stream",
     "text": [
      "INFO:tensorflow:training step 522 | Loss: 1.74 Examples/sec: 7882.05\n"
     ]
    },
    {
     "name": "stderr",
     "output_type": "stream",
     "text": [
      "I0320 11:19:30.506249 140413923567424 <ipython-input-7-e1062270148e>:361] training step 522 | Loss: 1.74 Examples/sec: 7882.05\n"
     ]
    },
    {
     "name": "stdout",
     "output_type": "stream",
     "text": [
      "INFO:tensorflow:training step 523 | Loss: 1.68 Examples/sec: 6529.67\n"
     ]
    },
    {
     "name": "stderr",
     "output_type": "stream",
     "text": [
      "I0320 11:19:30.665228 140413923567424 <ipython-input-7-e1062270148e>:361] training step 523 | Loss: 1.68 Examples/sec: 6529.67\n"
     ]
    },
    {
     "name": "stdout",
     "output_type": "stream",
     "text": [
      "INFO:tensorflow:training step 524 | Loss: 1.71 Examples/sec: 6610.06\n"
     ]
    },
    {
     "name": "stderr",
     "output_type": "stream",
     "text": [
      "I0320 11:19:30.821577 140413923567424 <ipython-input-7-e1062270148e>:361] training step 524 | Loss: 1.71 Examples/sec: 6610.06\n"
     ]
    },
    {
     "name": "stdout",
     "output_type": "stream",
     "text": [
      "INFO:tensorflow:training step 525 | Loss: 1.76 Examples/sec: 6385.12\n"
     ]
    },
    {
     "name": "stderr",
     "output_type": "stream",
     "text": [
      "I0320 11:19:30.983554 140413923567424 <ipython-input-7-e1062270148e>:361] training step 525 | Loss: 1.76 Examples/sec: 6385.12\n"
     ]
    },
    {
     "name": "stdout",
     "output_type": "stream",
     "text": [
      "INFO:tensorflow:training step 526 | Loss: 1.72 Examples/sec: 6324.89\n"
     ]
    },
    {
     "name": "stderr",
     "output_type": "stream",
     "text": [
      "I0320 11:19:31.147053 140413923567424 <ipython-input-7-e1062270148e>:361] training step 526 | Loss: 1.72 Examples/sec: 6324.89\n"
     ]
    },
    {
     "name": "stdout",
     "output_type": "stream",
     "text": [
      "INFO:tensorflow:training step 527 | Loss: 1.68 Examples/sec: 6428.29\n"
     ]
    },
    {
     "name": "stderr",
     "output_type": "stream",
     "text": [
      "I0320 11:19:31.308122 140413923567424 <ipython-input-7-e1062270148e>:361] training step 527 | Loss: 1.68 Examples/sec: 6428.29\n"
     ]
    },
    {
     "name": "stdout",
     "output_type": "stream",
     "text": [
      "INFO:tensorflow:training step 528 | Loss: 1.66 Examples/sec: 6363.03\n"
     ]
    },
    {
     "name": "stderr",
     "output_type": "stream",
     "text": [
      "I0320 11:19:31.471148 140413923567424 <ipython-input-7-e1062270148e>:361] training step 528 | Loss: 1.66 Examples/sec: 6363.03\n"
     ]
    },
    {
     "name": "stdout",
     "output_type": "stream",
     "text": [
      "INFO:tensorflow:training step 529 | Loss: 1.73 Examples/sec: 6343.91\n"
     ]
    },
    {
     "name": "stderr",
     "output_type": "stream",
     "text": [
      "I0320 11:19:31.634148 140413923567424 <ipython-input-7-e1062270148e>:361] training step 529 | Loss: 1.73 Examples/sec: 6343.91\n"
     ]
    },
    {
     "name": "stdout",
     "output_type": "stream",
     "text": [
      "INFO:tensorflow:training step 530 | Loss: 1.70 Examples/sec: 6651.95 | Hit@1: 0.77 PERR: 0.77 GAP: 0.82\n"
     ]
    },
    {
     "name": "stderr",
     "output_type": "stream",
     "text": [
      "I0320 11:19:31.988235 140413923567424 <ipython-input-7-e1062270148e>:337] training step 530 | Loss: 1.70 Examples/sec: 6651.95 | Hit@1: 0.77 PERR: 0.77 GAP: 0.82\n"
     ]
    },
    {
     "name": "stdout",
     "output_type": "stream",
     "text": [
      "INFO:tensorflow:./tmp/serval03hugo/model.ckpt-530 is not in all_model_checkpoint_paths. Manually adding it.\n"
     ]
    },
    {
     "name": "stderr",
     "output_type": "stream",
     "text": [
      "I0320 11:19:31.994647 140413923567424 checkpoint_management.py:95] ./tmp/serval03hugo/model.ckpt-530 is not in all_model_checkpoint_paths. Manually adding it.\n"
     ]
    },
    {
     "name": "stdout",
     "output_type": "stream",
     "text": [
      "INFO:tensorflow:/job:master/task:0: Exporting the model at step 530 to ./tmp/serval03hugo/export/step_530.\n"
     ]
    },
    {
     "name": "stderr",
     "output_type": "stream",
     "text": [
      "I0320 11:19:32.110329 140413923567424 <ipython-input-7-e1062270148e>:379] /job:master/task:0: Exporting the model at step 530 to ./tmp/serval03hugo/export/step_530.\n"
     ]
    },
    {
     "name": "stdout",
     "output_type": "stream",
     "text": [
      "INFO:tensorflow:Restoring parameters from ./tmp/serval03hugo/model.ckpt-530\n"
     ]
    },
    {
     "name": "stderr",
     "output_type": "stream",
     "text": [
      "I0320 11:19:32.140684 140413923567424 saver.py:1284] Restoring parameters from ./tmp/serval03hugo/model.ckpt-530\n"
     ]
    },
    {
     "name": "stdout",
     "output_type": "stream",
     "text": [
      "INFO:tensorflow:No assets to save.\n"
     ]
    },
    {
     "name": "stderr",
     "output_type": "stream",
     "text": [
      "I0320 11:19:32.154216 140413923567424 builder_impl.py:640] No assets to save.\n"
     ]
    },
    {
     "name": "stdout",
     "output_type": "stream",
     "text": [
      "INFO:tensorflow:No assets to write.\n"
     ]
    },
    {
     "name": "stderr",
     "output_type": "stream",
     "text": [
      "I0320 11:19:32.155320 140413923567424 builder_impl.py:460] No assets to write.\n"
     ]
    },
    {
     "name": "stdout",
     "output_type": "stream",
     "text": [
      "INFO:tensorflow:SavedModel written to: ./tmp/serval03hugo/export/step_530/saved_model.pb\n"
     ]
    },
    {
     "name": "stderr",
     "output_type": "stream",
     "text": [
      "I0320 11:19:32.270661 140413923567424 builder_impl.py:425] SavedModel written to: ./tmp/serval03hugo/export/step_530/saved_model.pb\n"
     ]
    },
    {
     "name": "stdout",
     "output_type": "stream",
     "text": [
      "INFO:tensorflow:training step 531 | Loss: 1.68 Examples/sec: 15387.09\n"
     ]
    },
    {
     "name": "stderr",
     "output_type": "stream",
     "text": [
      "I0320 11:19:32.341562 140413923567424 <ipython-input-7-e1062270148e>:361] training step 531 | Loss: 1.68 Examples/sec: 15387.09\n"
     ]
    },
    {
     "name": "stdout",
     "output_type": "stream",
     "text": [
      "INFO:tensorflow:training step 532 | Loss: 1.71 Examples/sec: 8506.42\n"
     ]
    },
    {
     "name": "stderr",
     "output_type": "stream",
     "text": [
      "I0320 11:19:32.463717 140413923567424 <ipython-input-7-e1062270148e>:361] training step 532 | Loss: 1.71 Examples/sec: 8506.42\n"
     ]
    },
    {
     "name": "stdout",
     "output_type": "stream",
     "text": [
      "INFO:tensorflow:training step 533 | Loss: 1.61 Examples/sec: 6487.95\n"
     ]
    },
    {
     "name": "stderr",
     "output_type": "stream",
     "text": [
      "I0320 11:19:32.622710 140413923567424 <ipython-input-7-e1062270148e>:361] training step 533 | Loss: 1.61 Examples/sec: 6487.95\n"
     ]
    },
    {
     "name": "stdout",
     "output_type": "stream",
     "text": [
      "INFO:tensorflow:training step 534 | Loss: 1.70 Examples/sec: 6559.45\n"
     ]
    },
    {
     "name": "stderr",
     "output_type": "stream",
     "text": [
      "I0320 11:19:32.780266 140413923567424 <ipython-input-7-e1062270148e>:361] training step 534 | Loss: 1.70 Examples/sec: 6559.45\n"
     ]
    },
    {
     "name": "stdout",
     "output_type": "stream",
     "text": [
      "INFO:tensorflow:training step 535 | Loss: 1.73 Examples/sec: 6473.89\n"
     ]
    },
    {
     "name": "stderr",
     "output_type": "stream",
     "text": [
      "I0320 11:19:32.940103 140413923567424 <ipython-input-7-e1062270148e>:361] training step 535 | Loss: 1.73 Examples/sec: 6473.89\n"
     ]
    },
    {
     "name": "stdout",
     "output_type": "stream",
     "text": [
      "INFO:tensorflow:training step 536 | Loss: 1.69 Examples/sec: 6295.23\n"
     ]
    },
    {
     "name": "stderr",
     "output_type": "stream",
     "text": [
      "I0320 11:19:33.104359 140413923567424 <ipython-input-7-e1062270148e>:361] training step 536 | Loss: 1.69 Examples/sec: 6295.23\n"
     ]
    },
    {
     "name": "stdout",
     "output_type": "stream",
     "text": [
      "INFO:tensorflow:training step 537 | Loss: 1.61 Examples/sec: 6639.57\n"
     ]
    },
    {
     "name": "stderr",
     "output_type": "stream",
     "text": [
      "I0320 11:19:33.260148 140413923567424 <ipython-input-7-e1062270148e>:361] training step 537 | Loss: 1.61 Examples/sec: 6639.57\n"
     ]
    },
    {
     "name": "stdout",
     "output_type": "stream",
     "text": [
      "INFO:tensorflow:training step 538 | Loss: 1.68 Examples/sec: 6589.44\n"
     ]
    },
    {
     "name": "stderr",
     "output_type": "stream",
     "text": [
      "I0320 11:19:33.417080 140413923567424 <ipython-input-7-e1062270148e>:361] training step 538 | Loss: 1.68 Examples/sec: 6589.44\n"
     ]
    },
    {
     "name": "stdout",
     "output_type": "stream",
     "text": [
      "INFO:tensorflow:training step 539 | Loss: 1.72 Examples/sec: 6317.25\n"
     ]
    },
    {
     "name": "stderr",
     "output_type": "stream",
     "text": [
      "I0320 11:19:33.580605 140413923567424 <ipython-input-7-e1062270148e>:361] training step 539 | Loss: 1.72 Examples/sec: 6317.25\n"
     ]
    },
    {
     "name": "stdout",
     "output_type": "stream",
     "text": [
      "INFO:tensorflow:training step 540 | Loss: 1.67 Examples/sec: 6556.89 | Hit@1: 0.77 PERR: 0.77 GAP: 0.83\n"
     ]
    },
    {
     "name": "stderr",
     "output_type": "stream",
     "text": [
      "I0320 11:19:33.869957 140413923567424 <ipython-input-7-e1062270148e>:337] training step 540 | Loss: 1.67 Examples/sec: 6556.89 | Hit@1: 0.77 PERR: 0.77 GAP: 0.83\n"
     ]
    },
    {
     "name": "stdout",
     "output_type": "stream",
     "text": [
      "INFO:tensorflow:./tmp/serval03hugo/model.ckpt-540 is not in all_model_checkpoint_paths. Manually adding it.\n"
     ]
    },
    {
     "name": "stderr",
     "output_type": "stream",
     "text": [
      "I0320 11:19:33.877095 140413923567424 checkpoint_management.py:95] ./tmp/serval03hugo/model.ckpt-540 is not in all_model_checkpoint_paths. Manually adding it.\n"
     ]
    },
    {
     "name": "stdout",
     "output_type": "stream",
     "text": [
      "INFO:tensorflow:/job:master/task:0: Exporting the model at step 540 to ./tmp/serval03hugo/export/step_540.\n"
     ]
    },
    {
     "name": "stderr",
     "output_type": "stream",
     "text": [
      "I0320 11:19:33.924649 140413923567424 <ipython-input-7-e1062270148e>:379] /job:master/task:0: Exporting the model at step 540 to ./tmp/serval03hugo/export/step_540.\n"
     ]
    },
    {
     "name": "stdout",
     "output_type": "stream",
     "text": [
      "INFO:tensorflow:Restoring parameters from ./tmp/serval03hugo/model.ckpt-540\n"
     ]
    },
    {
     "name": "stderr",
     "output_type": "stream",
     "text": [
      "I0320 11:19:33.955265 140413923567424 saver.py:1284] Restoring parameters from ./tmp/serval03hugo/model.ckpt-540\n"
     ]
    },
    {
     "name": "stdout",
     "output_type": "stream",
     "text": [
      "INFO:tensorflow:No assets to save.\n"
     ]
    },
    {
     "name": "stderr",
     "output_type": "stream",
     "text": [
      "I0320 11:19:33.971810 140413923567424 builder_impl.py:640] No assets to save.\n"
     ]
    },
    {
     "name": "stdout",
     "output_type": "stream",
     "text": [
      "INFO:tensorflow:No assets to write.\n"
     ]
    },
    {
     "name": "stderr",
     "output_type": "stream",
     "text": [
      "I0320 11:19:33.973187 140413923567424 builder_impl.py:460] No assets to write.\n"
     ]
    },
    {
     "name": "stdout",
     "output_type": "stream",
     "text": [
      "INFO:tensorflow:SavedModel written to: ./tmp/serval03hugo/export/step_540/saved_model.pb\n"
     ]
    },
    {
     "name": "stderr",
     "output_type": "stream",
     "text": [
      "I0320 11:19:34.073752 140413923567424 builder_impl.py:425] SavedModel written to: ./tmp/serval03hugo/export/step_540/saved_model.pb\n"
     ]
    },
    {
     "name": "stdout",
     "output_type": "stream",
     "text": [
      "INFO:tensorflow:training step 541 | Loss: 1.68 Examples/sec: 15374.97\n"
     ]
    },
    {
     "name": "stderr",
     "output_type": "stream",
     "text": [
      "I0320 11:19:34.144090 140413923567424 <ipython-input-7-e1062270148e>:361] training step 541 | Loss: 1.68 Examples/sec: 15374.97\n"
     ]
    },
    {
     "name": "stdout",
     "output_type": "stream",
     "text": [
      "INFO:tensorflow:training step 542 | Loss: 1.71 Examples/sec: 6531.72\n"
     ]
    },
    {
     "name": "stderr",
     "output_type": "stream",
     "text": [
      "I0320 11:19:34.302518 140413923567424 <ipython-input-7-e1062270148e>:361] training step 542 | Loss: 1.71 Examples/sec: 6531.72\n"
     ]
    },
    {
     "name": "stdout",
     "output_type": "stream",
     "text": [
      "INFO:tensorflow:training step 543 | Loss: 1.66 Examples/sec: 6237.55\n"
     ]
    },
    {
     "name": "stderr",
     "output_type": "stream",
     "text": [
      "I0320 11:19:34.468253 140413923567424 <ipython-input-7-e1062270148e>:361] training step 543 | Loss: 1.66 Examples/sec: 6237.55\n"
     ]
    },
    {
     "name": "stdout",
     "output_type": "stream",
     "text": [
      "INFO:tensorflow:training step 544 | Loss: 1.65 Examples/sec: 6695.78\n"
     ]
    },
    {
     "name": "stderr",
     "output_type": "stream",
     "text": [
      "I0320 11:19:34.622903 140413923567424 <ipython-input-7-e1062270148e>:361] training step 544 | Loss: 1.65 Examples/sec: 6695.78\n"
     ]
    },
    {
     "name": "stdout",
     "output_type": "stream",
     "text": [
      "INFO:tensorflow:training step 545 | Loss: 1.69 Examples/sec: 6514.01\n"
     ]
    },
    {
     "name": "stderr",
     "output_type": "stream",
     "text": [
      "I0320 11:19:34.782134 140413923567424 <ipython-input-7-e1062270148e>:361] training step 545 | Loss: 1.69 Examples/sec: 6514.01\n"
     ]
    },
    {
     "name": "stdout",
     "output_type": "stream",
     "text": [
      "INFO:tensorflow:training step 546 | Loss: 1.66 Examples/sec: 6382.57\n"
     ]
    },
    {
     "name": "stderr",
     "output_type": "stream",
     "text": [
      "I0320 11:19:34.944653 140413923567424 <ipython-input-7-e1062270148e>:361] training step 546 | Loss: 1.66 Examples/sec: 6382.57\n"
     ]
    },
    {
     "name": "stdout",
     "output_type": "stream",
     "text": [
      "INFO:tensorflow:training step 547 | Loss: 1.68 Examples/sec: 6598.21\n"
     ]
    },
    {
     "name": "stderr",
     "output_type": "stream",
     "text": [
      "I0320 11:19:35.101574 140413923567424 <ipython-input-7-e1062270148e>:361] training step 547 | Loss: 1.68 Examples/sec: 6598.21\n"
     ]
    },
    {
     "name": "stdout",
     "output_type": "stream",
     "text": [
      "INFO:tensorflow:training step 548 | Loss: 1.64 Examples/sec: 6371.21\n"
     ]
    },
    {
     "name": "stderr",
     "output_type": "stream",
     "text": [
      "I0320 11:19:35.263880 140413923567424 <ipython-input-7-e1062270148e>:361] training step 548 | Loss: 1.64 Examples/sec: 6371.21\n"
     ]
    },
    {
     "name": "stdout",
     "output_type": "stream",
     "text": [
      "INFO:tensorflow:training step 549 | Loss: 1.67 Examples/sec: 6588.01\n"
     ]
    },
    {
     "name": "stderr",
     "output_type": "stream",
     "text": [
      "I0320 11:19:35.421167 140413923567424 <ipython-input-7-e1062270148e>:361] training step 549 | Loss: 1.67 Examples/sec: 6588.01\n"
     ]
    },
    {
     "name": "stdout",
     "output_type": "stream",
     "text": [
      "INFO:tensorflow:training step 550 | Loss: 1.63 Examples/sec: 6609.71 | Hit@1: 0.79 PERR: 0.79 GAP: 0.83\n"
     ]
    },
    {
     "name": "stderr",
     "output_type": "stream",
     "text": [
      "I0320 11:19:35.698905 140413923567424 <ipython-input-7-e1062270148e>:337] training step 550 | Loss: 1.63 Examples/sec: 6609.71 | Hit@1: 0.79 PERR: 0.79 GAP: 0.83\n"
     ]
    },
    {
     "name": "stdout",
     "output_type": "stream",
     "text": [
      "INFO:tensorflow:./tmp/serval03hugo/model.ckpt-550 is not in all_model_checkpoint_paths. Manually adding it.\n"
     ]
    },
    {
     "name": "stderr",
     "output_type": "stream",
     "text": [
      "I0320 11:19:35.705569 140413923567424 checkpoint_management.py:95] ./tmp/serval03hugo/model.ckpt-550 is not in all_model_checkpoint_paths. Manually adding it.\n"
     ]
    },
    {
     "name": "stdout",
     "output_type": "stream",
     "text": [
      "INFO:tensorflow:/job:master/task:0: Exporting the model at step 550 to ./tmp/serval03hugo/export/step_550.\n"
     ]
    },
    {
     "name": "stderr",
     "output_type": "stream",
     "text": [
      "I0320 11:19:35.801688 140413923567424 <ipython-input-7-e1062270148e>:379] /job:master/task:0: Exporting the model at step 550 to ./tmp/serval03hugo/export/step_550.\n"
     ]
    },
    {
     "name": "stdout",
     "output_type": "stream",
     "text": [
      "INFO:tensorflow:Restoring parameters from ./tmp/serval03hugo/model.ckpt-550\n"
     ]
    },
    {
     "name": "stderr",
     "output_type": "stream",
     "text": [
      "I0320 11:19:35.829647 140413923567424 saver.py:1284] Restoring parameters from ./tmp/serval03hugo/model.ckpt-550\n"
     ]
    },
    {
     "name": "stdout",
     "output_type": "stream",
     "text": [
      "INFO:tensorflow:No assets to save.\n"
     ]
    },
    {
     "name": "stderr",
     "output_type": "stream",
     "text": [
      "I0320 11:19:35.846106 140413923567424 builder_impl.py:640] No assets to save.\n"
     ]
    },
    {
     "name": "stdout",
     "output_type": "stream",
     "text": [
      "INFO:tensorflow:No assets to write.\n"
     ]
    },
    {
     "name": "stderr",
     "output_type": "stream",
     "text": [
      "I0320 11:19:35.847457 140413923567424 builder_impl.py:460] No assets to write.\n"
     ]
    },
    {
     "name": "stdout",
     "output_type": "stream",
     "text": [
      "INFO:tensorflow:SavedModel written to: ./tmp/serval03hugo/export/step_550/saved_model.pb\n"
     ]
    },
    {
     "name": "stderr",
     "output_type": "stream",
     "text": [
      "I0320 11:19:35.947220 140413923567424 builder_impl.py:425] SavedModel written to: ./tmp/serval03hugo/export/step_550/saved_model.pb\n"
     ]
    },
    {
     "name": "stdout",
     "output_type": "stream",
     "text": [
      "INFO:tensorflow:training step 551 | Loss: 1.66 Examples/sec: 14923.76\n"
     ]
    },
    {
     "name": "stderr",
     "output_type": "stream",
     "text": [
      "I0320 11:19:36.021326 140413923567424 <ipython-input-7-e1062270148e>:361] training step 551 | Loss: 1.66 Examples/sec: 14923.76\n"
     ]
    },
    {
     "name": "stdout",
     "output_type": "stream",
     "text": [
      "INFO:tensorflow:training step 552 | Loss: 1.62 Examples/sec: 7386.83\n"
     ]
    },
    {
     "name": "stderr",
     "output_type": "stream",
     "text": [
      "I0320 11:19:36.161235 140413923567424 <ipython-input-7-e1062270148e>:361] training step 552 | Loss: 1.62 Examples/sec: 7386.83\n"
     ]
    },
    {
     "name": "stdout",
     "output_type": "stream",
     "text": [
      "INFO:tensorflow:training step 553 | Loss: 1.66 Examples/sec: 6622.26\n"
     ]
    },
    {
     "name": "stderr",
     "output_type": "stream",
     "text": [
      "I0320 11:19:36.318056 140413923567424 <ipython-input-7-e1062270148e>:361] training step 553 | Loss: 1.66 Examples/sec: 6622.26\n"
     ]
    },
    {
     "name": "stdout",
     "output_type": "stream",
     "text": [
      "INFO:tensorflow:training step 554 | Loss: 1.66 Examples/sec: 6208.79\n"
     ]
    },
    {
     "name": "stderr",
     "output_type": "stream",
     "text": [
      "I0320 11:19:36.484169 140413923567424 <ipython-input-7-e1062270148e>:361] training step 554 | Loss: 1.66 Examples/sec: 6208.79\n"
     ]
    },
    {
     "name": "stdout",
     "output_type": "stream",
     "text": [
      "INFO:tensorflow:training step 555 | Loss: 1.69 Examples/sec: 6607.50\n"
     ]
    },
    {
     "name": "stderr",
     "output_type": "stream",
     "text": [
      "I0320 11:19:36.641366 140413923567424 <ipython-input-7-e1062270148e>:361] training step 555 | Loss: 1.69 Examples/sec: 6607.50\n"
     ]
    },
    {
     "name": "stdout",
     "output_type": "stream",
     "text": [
      "INFO:tensorflow:training step 556 | Loss: 1.66 Examples/sec: 6502.25\n"
     ]
    },
    {
     "name": "stderr",
     "output_type": "stream",
     "text": [
      "I0320 11:19:36.800638 140413923567424 <ipython-input-7-e1062270148e>:361] training step 556 | Loss: 1.66 Examples/sec: 6502.25\n"
     ]
    },
    {
     "name": "stdout",
     "output_type": "stream",
     "text": [
      "INFO:tensorflow:training step 557 | Loss: 1.64 Examples/sec: 6598.50\n"
     ]
    },
    {
     "name": "stderr",
     "output_type": "stream",
     "text": [
      "I0320 11:19:36.957244 140413923567424 <ipython-input-7-e1062270148e>:361] training step 557 | Loss: 1.64 Examples/sec: 6598.50\n"
     ]
    },
    {
     "name": "stdout",
     "output_type": "stream",
     "text": [
      "INFO:tensorflow:training step 558 | Loss: 1.62 Examples/sec: 6419.27\n"
     ]
    },
    {
     "name": "stderr",
     "output_type": "stream",
     "text": [
      "I0320 11:19:37.118330 140413923567424 <ipython-input-7-e1062270148e>:361] training step 558 | Loss: 1.62 Examples/sec: 6419.27\n"
     ]
    },
    {
     "name": "stdout",
     "output_type": "stream",
     "text": [
      "INFO:tensorflow:training step 559 | Loss: 1.67 Examples/sec: 6564.05\n"
     ]
    },
    {
     "name": "stderr",
     "output_type": "stream",
     "text": [
      "I0320 11:19:37.276059 140413923567424 <ipython-input-7-e1062270148e>:361] training step 559 | Loss: 1.67 Examples/sec: 6564.05\n"
     ]
    },
    {
     "name": "stdout",
     "output_type": "stream",
     "text": [
      "INFO:tensorflow:training step 560 | Loss: 1.66 Examples/sec: 6457.66 | Hit@1: 0.78 PERR: 0.78 GAP: 0.83\n"
     ]
    },
    {
     "name": "stderr",
     "output_type": "stream",
     "text": [
      "I0320 11:19:37.558540 140413923567424 <ipython-input-7-e1062270148e>:337] training step 560 | Loss: 1.66 Examples/sec: 6457.66 | Hit@1: 0.78 PERR: 0.78 GAP: 0.83\n"
     ]
    },
    {
     "name": "stdout",
     "output_type": "stream",
     "text": [
      "INFO:tensorflow:./tmp/serval03hugo/model.ckpt-560 is not in all_model_checkpoint_paths. Manually adding it.\n"
     ]
    },
    {
     "name": "stderr",
     "output_type": "stream",
     "text": [
      "I0320 11:19:37.566237 140413923567424 checkpoint_management.py:95] ./tmp/serval03hugo/model.ckpt-560 is not in all_model_checkpoint_paths. Manually adding it.\n"
     ]
    },
    {
     "name": "stdout",
     "output_type": "stream",
     "text": [
      "INFO:tensorflow:/job:master/task:0: Exporting the model at step 560 to ./tmp/serval03hugo/export/step_560.\n"
     ]
    },
    {
     "name": "stderr",
     "output_type": "stream",
     "text": [
      "I0320 11:19:37.687450 140413923567424 <ipython-input-7-e1062270148e>:379] /job:master/task:0: Exporting the model at step 560 to ./tmp/serval03hugo/export/step_560.\n"
     ]
    },
    {
     "name": "stdout",
     "output_type": "stream",
     "text": [
      "INFO:tensorflow:Restoring parameters from ./tmp/serval03hugo/model.ckpt-560\n"
     ]
    },
    {
     "name": "stderr",
     "output_type": "stream",
     "text": [
      "I0320 11:19:37.717585 140413923567424 saver.py:1284] Restoring parameters from ./tmp/serval03hugo/model.ckpt-560\n"
     ]
    },
    {
     "name": "stdout",
     "output_type": "stream",
     "text": [
      "INFO:tensorflow:No assets to save.\n"
     ]
    },
    {
     "name": "stderr",
     "output_type": "stream",
     "text": [
      "I0320 11:19:37.737416 140413923567424 builder_impl.py:640] No assets to save.\n"
     ]
    },
    {
     "name": "stdout",
     "output_type": "stream",
     "text": [
      "INFO:tensorflow:No assets to write.\n"
     ]
    },
    {
     "name": "stderr",
     "output_type": "stream",
     "text": [
      "I0320 11:19:37.738339 140413923567424 builder_impl.py:460] No assets to write.\n"
     ]
    },
    {
     "name": "stdout",
     "output_type": "stream",
     "text": [
      "INFO:tensorflow:SavedModel written to: ./tmp/serval03hugo/export/step_560/saved_model.pb\n"
     ]
    },
    {
     "name": "stderr",
     "output_type": "stream",
     "text": [
      "I0320 11:19:37.867627 140413923567424 builder_impl.py:425] SavedModel written to: ./tmp/serval03hugo/export/step_560/saved_model.pb\n"
     ]
    },
    {
     "name": "stdout",
     "output_type": "stream",
     "text": [
      "INFO:tensorflow:training step 561 | Loss: 1.65 Examples/sec: 17076.05\n"
     ]
    },
    {
     "name": "stderr",
     "output_type": "stream",
     "text": [
      "I0320 11:19:37.934530 140413923567424 <ipython-input-7-e1062270148e>:361] training step 561 | Loss: 1.65 Examples/sec: 17076.05\n"
     ]
    },
    {
     "name": "stdout",
     "output_type": "stream",
     "text": [
      "INFO:tensorflow:training step 562 | Loss: 1.63 Examples/sec: 8575.54\n"
     ]
    },
    {
     "name": "stderr",
     "output_type": "stream",
     "text": [
      "I0320 11:19:38.055612 140413923567424 <ipython-input-7-e1062270148e>:361] training step 562 | Loss: 1.63 Examples/sec: 8575.54\n"
     ]
    },
    {
     "name": "stdout",
     "output_type": "stream",
     "text": [
      "INFO:tensorflow:training step 563 | Loss: 1.66 Examples/sec: 6240.06\n"
     ]
    },
    {
     "name": "stderr",
     "output_type": "stream",
     "text": [
      "I0320 11:19:38.221150 140413923567424 <ipython-input-7-e1062270148e>:361] training step 563 | Loss: 1.66 Examples/sec: 6240.06\n"
     ]
    },
    {
     "name": "stdout",
     "output_type": "stream",
     "text": [
      "INFO:tensorflow:training step 564 | Loss: 1.65 Examples/sec: 6520.30\n"
     ]
    },
    {
     "name": "stderr",
     "output_type": "stream",
     "text": [
      "I0320 11:19:38.379914 140413923567424 <ipython-input-7-e1062270148e>:361] training step 564 | Loss: 1.65 Examples/sec: 6520.30\n"
     ]
    },
    {
     "name": "stdout",
     "output_type": "stream",
     "text": [
      "INFO:tensorflow:training step 565 | Loss: 1.69 Examples/sec: 6587.28\n"
     ]
    },
    {
     "name": "stderr",
     "output_type": "stream",
     "text": [
      "I0320 11:19:38.536983 140413923567424 <ipython-input-7-e1062270148e>:361] training step 565 | Loss: 1.69 Examples/sec: 6587.28\n"
     ]
    },
    {
     "name": "stdout",
     "output_type": "stream",
     "text": [
      "INFO:tensorflow:training step 566 | Loss: 1.60 Examples/sec: 6587.48\n"
     ]
    },
    {
     "name": "stderr",
     "output_type": "stream",
     "text": [
      "I0320 11:19:38.693879 140413923567424 <ipython-input-7-e1062270148e>:361] training step 566 | Loss: 1.60 Examples/sec: 6587.48\n"
     ]
    },
    {
     "name": "stdout",
     "output_type": "stream",
     "text": [
      "INFO:tensorflow:training step 567 | Loss: 1.63 Examples/sec: 6392.69\n"
     ]
    },
    {
     "name": "stderr",
     "output_type": "stream",
     "text": [
      "I0320 11:19:38.855762 140413923567424 <ipython-input-7-e1062270148e>:361] training step 567 | Loss: 1.63 Examples/sec: 6392.69\n"
     ]
    },
    {
     "name": "stdout",
     "output_type": "stream",
     "text": [
      "INFO:tensorflow:training step 568 | Loss: 1.63 Examples/sec: 6363.02\n"
     ]
    },
    {
     "name": "stderr",
     "output_type": "stream",
     "text": [
      "I0320 11:19:39.018301 140413923567424 <ipython-input-7-e1062270148e>:361] training step 568 | Loss: 1.63 Examples/sec: 6363.02\n"
     ]
    },
    {
     "name": "stdout",
     "output_type": "stream",
     "text": [
      "INFO:tensorflow:training step 569 | Loss: 1.63 Examples/sec: 6336.09\n"
     ]
    },
    {
     "name": "stderr",
     "output_type": "stream",
     "text": [
      "I0320 11:19:39.181520 140413923567424 <ipython-input-7-e1062270148e>:361] training step 569 | Loss: 1.63 Examples/sec: 6336.09\n"
     ]
    },
    {
     "name": "stdout",
     "output_type": "stream",
     "text": [
      "INFO:tensorflow:training step 570 | Loss: 1.60 Examples/sec: 6490.20 | Hit@1: 0.78 PERR: 0.78 GAP: 0.83\n"
     ]
    },
    {
     "name": "stderr",
     "output_type": "stream",
     "text": [
      "I0320 11:19:39.483419 140413923567424 <ipython-input-7-e1062270148e>:337] training step 570 | Loss: 1.60 Examples/sec: 6490.20 | Hit@1: 0.78 PERR: 0.78 GAP: 0.83\n"
     ]
    },
    {
     "name": "stdout",
     "output_type": "stream",
     "text": [
      "INFO:tensorflow:./tmp/serval03hugo/model.ckpt-570 is not in all_model_checkpoint_paths. Manually adding it.\n"
     ]
    },
    {
     "name": "stderr",
     "output_type": "stream",
     "text": [
      "I0320 11:19:39.490604 140413923567424 checkpoint_management.py:95] ./tmp/serval03hugo/model.ckpt-570 is not in all_model_checkpoint_paths. Manually adding it.\n"
     ]
    },
    {
     "name": "stdout",
     "output_type": "stream",
     "text": [
      "INFO:tensorflow:/job:master/task:0: Exporting the model at step 570 to ./tmp/serval03hugo/export/step_570.\n"
     ]
    },
    {
     "name": "stderr",
     "output_type": "stream",
     "text": [
      "I0320 11:19:39.556527 140413923567424 <ipython-input-7-e1062270148e>:379] /job:master/task:0: Exporting the model at step 570 to ./tmp/serval03hugo/export/step_570.\n"
     ]
    },
    {
     "name": "stdout",
     "output_type": "stream",
     "text": [
      "INFO:tensorflow:Restoring parameters from ./tmp/serval03hugo/model.ckpt-570\n"
     ]
    },
    {
     "name": "stderr",
     "output_type": "stream",
     "text": [
      "I0320 11:19:39.586370 140413923567424 saver.py:1284] Restoring parameters from ./tmp/serval03hugo/model.ckpt-570\n"
     ]
    },
    {
     "name": "stdout",
     "output_type": "stream",
     "text": [
      "INFO:tensorflow:No assets to save.\n"
     ]
    },
    {
     "name": "stderr",
     "output_type": "stream",
     "text": [
      "I0320 11:19:39.601691 140413923567424 builder_impl.py:640] No assets to save.\n"
     ]
    },
    {
     "name": "stdout",
     "output_type": "stream",
     "text": [
      "INFO:tensorflow:No assets to write.\n"
     ]
    },
    {
     "name": "stderr",
     "output_type": "stream",
     "text": [
      "I0320 11:19:39.602955 140413923567424 builder_impl.py:460] No assets to write.\n"
     ]
    },
    {
     "name": "stdout",
     "output_type": "stream",
     "text": [
      "INFO:tensorflow:SavedModel written to: ./tmp/serval03hugo/export/step_570/saved_model.pb\n"
     ]
    },
    {
     "name": "stderr",
     "output_type": "stream",
     "text": [
      "I0320 11:19:39.719614 140413923567424 builder_impl.py:425] SavedModel written to: ./tmp/serval03hugo/export/step_570/saved_model.pb\n"
     ]
    },
    {
     "name": "stdout",
     "output_type": "stream",
     "text": [
      "INFO:tensorflow:training step 571 | Loss: 1.67 Examples/sec: 15295.20\n"
     ]
    },
    {
     "name": "stderr",
     "output_type": "stream",
     "text": [
      "I0320 11:19:39.792967 140413923567424 <ipython-input-7-e1062270148e>:361] training step 571 | Loss: 1.67 Examples/sec: 15295.20\n"
     ]
    },
    {
     "name": "stdout",
     "output_type": "stream",
     "text": [
      "INFO:tensorflow:training step 572 | Loss: 1.59 Examples/sec: 7123.89\n"
     ]
    },
    {
     "name": "stderr",
     "output_type": "stream",
     "text": [
      "I0320 11:19:39.938381 140413923567424 <ipython-input-7-e1062270148e>:361] training step 572 | Loss: 1.59 Examples/sec: 7123.89\n"
     ]
    },
    {
     "name": "stdout",
     "output_type": "stream",
     "text": [
      "INFO:tensorflow:training step 573 | Loss: 1.66 Examples/sec: 6522.48\n"
     ]
    },
    {
     "name": "stderr",
     "output_type": "stream",
     "text": [
      "I0320 11:19:40.096839 140413923567424 <ipython-input-7-e1062270148e>:361] training step 573 | Loss: 1.66 Examples/sec: 6522.48\n"
     ]
    },
    {
     "name": "stdout",
     "output_type": "stream",
     "text": [
      "INFO:tensorflow:training step 574 | Loss: 1.65 Examples/sec: 6505.63\n"
     ]
    },
    {
     "name": "stderr",
     "output_type": "stream",
     "text": [
      "I0320 11:19:40.256160 140413923567424 <ipython-input-7-e1062270148e>:361] training step 574 | Loss: 1.65 Examples/sec: 6505.63\n"
     ]
    },
    {
     "name": "stdout",
     "output_type": "stream",
     "text": [
      "INFO:tensorflow:training step 575 | Loss: 1.61 Examples/sec: 6608.13\n"
     ]
    },
    {
     "name": "stderr",
     "output_type": "stream",
     "text": [
      "I0320 11:19:40.412808 140413923567424 <ipython-input-7-e1062270148e>:361] training step 575 | Loss: 1.61 Examples/sec: 6608.13\n"
     ]
    },
    {
     "name": "stdout",
     "output_type": "stream",
     "text": [
      "INFO:tensorflow:training step 576 | Loss: 1.60 Examples/sec: 6541.39\n"
     ]
    },
    {
     "name": "stderr",
     "output_type": "stream",
     "text": [
      "I0320 11:19:40.570645 140413923567424 <ipython-input-7-e1062270148e>:361] training step 576 | Loss: 1.60 Examples/sec: 6541.39\n"
     ]
    },
    {
     "name": "stdout",
     "output_type": "stream",
     "text": [
      "INFO:tensorflow:training step 577 | Loss: 1.65 Examples/sec: 6259.74\n"
     ]
    },
    {
     "name": "stderr",
     "output_type": "stream",
     "text": [
      "I0320 11:19:40.735541 140413923567424 <ipython-input-7-e1062270148e>:361] training step 577 | Loss: 1.65 Examples/sec: 6259.74\n"
     ]
    },
    {
     "name": "stdout",
     "output_type": "stream",
     "text": [
      "INFO:tensorflow:training step 578 | Loss: 1.64 Examples/sec: 6565.61\n"
     ]
    },
    {
     "name": "stderr",
     "output_type": "stream",
     "text": [
      "I0320 11:19:40.893392 140413923567424 <ipython-input-7-e1062270148e>:361] training step 578 | Loss: 1.64 Examples/sec: 6565.61\n"
     ]
    },
    {
     "name": "stdout",
     "output_type": "stream",
     "text": [
      "INFO:tensorflow:training step 579 | Loss: 1.62 Examples/sec: 6242.21\n"
     ]
    },
    {
     "name": "stderr",
     "output_type": "stream",
     "text": [
      "I0320 11:19:41.059111 140413923567424 <ipython-input-7-e1062270148e>:361] training step 579 | Loss: 1.62 Examples/sec: 6242.21\n"
     ]
    },
    {
     "name": "stdout",
     "output_type": "stream",
     "text": [
      "INFO:tensorflow:training step 580 | Loss: 1.63 Examples/sec: 6662.34 | Hit@1: 0.78 PERR: 0.77 GAP: 0.82\n"
     ]
    },
    {
     "name": "stderr",
     "output_type": "stream",
     "text": [
      "I0320 11:19:41.416603 140413923567424 <ipython-input-7-e1062270148e>:337] training step 580 | Loss: 1.63 Examples/sec: 6662.34 | Hit@1: 0.78 PERR: 0.77 GAP: 0.82\n"
     ]
    },
    {
     "name": "stdout",
     "output_type": "stream",
     "text": [
      "INFO:tensorflow:./tmp/serval03hugo/model.ckpt-580 is not in all_model_checkpoint_paths. Manually adding it.\n"
     ]
    },
    {
     "name": "stderr",
     "output_type": "stream",
     "text": [
      "I0320 11:19:41.421540 140413923567424 checkpoint_management.py:95] ./tmp/serval03hugo/model.ckpt-580 is not in all_model_checkpoint_paths. Manually adding it.\n"
     ]
    },
    {
     "name": "stdout",
     "output_type": "stream",
     "text": [
      "INFO:tensorflow:/job:master/task:0: Exporting the model at step 580 to ./tmp/serval03hugo/export/step_580.\n"
     ]
    },
    {
     "name": "stderr",
     "output_type": "stream",
     "text": [
      "I0320 11:19:41.513827 140413923567424 <ipython-input-7-e1062270148e>:379] /job:master/task:0: Exporting the model at step 580 to ./tmp/serval03hugo/export/step_580.\n"
     ]
    },
    {
     "name": "stdout",
     "output_type": "stream",
     "text": [
      "INFO:tensorflow:Restoring parameters from ./tmp/serval03hugo/model.ckpt-580\n"
     ]
    },
    {
     "name": "stderr",
     "output_type": "stream",
     "text": [
      "I0320 11:19:41.541177 140413923567424 saver.py:1284] Restoring parameters from ./tmp/serval03hugo/model.ckpt-580\n"
     ]
    },
    {
     "name": "stdout",
     "output_type": "stream",
     "text": [
      "INFO:tensorflow:No assets to save.\n"
     ]
    },
    {
     "name": "stderr",
     "output_type": "stream",
     "text": [
      "I0320 11:19:41.555109 140413923567424 builder_impl.py:640] No assets to save.\n"
     ]
    },
    {
     "name": "stdout",
     "output_type": "stream",
     "text": [
      "INFO:tensorflow:No assets to write.\n"
     ]
    },
    {
     "name": "stderr",
     "output_type": "stream",
     "text": [
      "I0320 11:19:41.556705 140413923567424 builder_impl.py:460] No assets to write.\n"
     ]
    },
    {
     "name": "stdout",
     "output_type": "stream",
     "text": [
      "INFO:tensorflow:SavedModel written to: ./tmp/serval03hugo/export/step_580/saved_model.pb\n"
     ]
    },
    {
     "name": "stderr",
     "output_type": "stream",
     "text": [
      "I0320 11:19:41.671276 140413923567424 builder_impl.py:425] SavedModel written to: ./tmp/serval03hugo/export/step_580/saved_model.pb\n"
     ]
    },
    {
     "name": "stdout",
     "output_type": "stream",
     "text": [
      "INFO:tensorflow:training step 581 | Loss: 1.65 Examples/sec: 15617.21\n"
     ]
    },
    {
     "name": "stderr",
     "output_type": "stream",
     "text": [
      "I0320 11:19:41.742254 140413923567424 <ipython-input-7-e1062270148e>:361] training step 581 | Loss: 1.65 Examples/sec: 15617.21\n"
     ]
    },
    {
     "name": "stdout",
     "output_type": "stream",
     "text": [
      "INFO:tensorflow:training step 582 | Loss: 1.55 Examples/sec: 7563.12\n"
     ]
    },
    {
     "name": "stderr",
     "output_type": "stream",
     "text": [
      "I0320 11:19:41.879062 140413923567424 <ipython-input-7-e1062270148e>:361] training step 582 | Loss: 1.55 Examples/sec: 7563.12\n"
     ]
    },
    {
     "name": "stdout",
     "output_type": "stream",
     "text": [
      "INFO:tensorflow:training step 583 | Loss: 1.64 Examples/sec: 6532.55\n"
     ]
    },
    {
     "name": "stderr",
     "output_type": "stream",
     "text": [
      "I0320 11:19:42.037996 140413923567424 <ipython-input-7-e1062270148e>:361] training step 583 | Loss: 1.64 Examples/sec: 6532.55\n"
     ]
    },
    {
     "name": "stdout",
     "output_type": "stream",
     "text": [
      "INFO:tensorflow:training step 584 | Loss: 1.54 Examples/sec: 6553.29\n"
     ]
    },
    {
     "name": "stderr",
     "output_type": "stream",
     "text": [
      "I0320 11:19:42.195858 140413923567424 <ipython-input-7-e1062270148e>:361] training step 584 | Loss: 1.54 Examples/sec: 6553.29\n"
     ]
    },
    {
     "name": "stdout",
     "output_type": "stream",
     "text": [
      "INFO:tensorflow:training step 585 | Loss: 1.64 Examples/sec: 6526.78\n"
     ]
    },
    {
     "name": "stderr",
     "output_type": "stream",
     "text": [
      "I0320 11:19:42.354388 140413923567424 <ipython-input-7-e1062270148e>:361] training step 585 | Loss: 1.64 Examples/sec: 6526.78\n"
     ]
    },
    {
     "name": "stdout",
     "output_type": "stream",
     "text": [
      "INFO:tensorflow:training step 586 | Loss: 1.67 Examples/sec: 6137.22\n"
     ]
    },
    {
     "name": "stderr",
     "output_type": "stream",
     "text": [
      "I0320 11:19:42.522739 140413923567424 <ipython-input-7-e1062270148e>:361] training step 586 | Loss: 1.67 Examples/sec: 6137.22\n"
     ]
    },
    {
     "name": "stdout",
     "output_type": "stream",
     "text": [
      "INFO:tensorflow:training step 587 | Loss: 1.61 Examples/sec: 6523.85\n"
     ]
    },
    {
     "name": "stderr",
     "output_type": "stream",
     "text": [
      "I0320 11:19:42.681418 140413923567424 <ipython-input-7-e1062270148e>:361] training step 587 | Loss: 1.61 Examples/sec: 6523.85\n"
     ]
    },
    {
     "name": "stdout",
     "output_type": "stream",
     "text": [
      "INFO:tensorflow:training step 588 | Loss: 1.58 Examples/sec: 6551.05\n"
     ]
    },
    {
     "name": "stderr",
     "output_type": "stream",
     "text": [
      "I0320 11:19:42.839386 140413923567424 <ipython-input-7-e1062270148e>:361] training step 588 | Loss: 1.58 Examples/sec: 6551.05\n"
     ]
    },
    {
     "name": "stdout",
     "output_type": "stream",
     "text": [
      "INFO:tensorflow:training step 589 | Loss: 1.59 Examples/sec: 6585.51\n"
     ]
    },
    {
     "name": "stderr",
     "output_type": "stream",
     "text": [
      "I0320 11:19:42.996707 140413923567424 <ipython-input-7-e1062270148e>:361] training step 589 | Loss: 1.59 Examples/sec: 6585.51\n"
     ]
    },
    {
     "name": "stdout",
     "output_type": "stream",
     "text": [
      "INFO:tensorflow:training step 590 | Loss: 1.63 Examples/sec: 6287.59 | Hit@1: 0.77 PERR: 0.77 GAP: 0.82\n"
     ]
    },
    {
     "name": "stderr",
     "output_type": "stream",
     "text": [
      "I0320 11:19:43.300318 140413923567424 <ipython-input-7-e1062270148e>:337] training step 590 | Loss: 1.63 Examples/sec: 6287.59 | Hit@1: 0.77 PERR: 0.77 GAP: 0.82\n"
     ]
    },
    {
     "name": "stdout",
     "output_type": "stream",
     "text": [
      "INFO:tensorflow:./tmp/serval03hugo/model.ckpt-590 is not in all_model_checkpoint_paths. Manually adding it.\n"
     ]
    },
    {
     "name": "stderr",
     "output_type": "stream",
     "text": [
      "I0320 11:19:43.306217 140413923567424 checkpoint_management.py:95] ./tmp/serval03hugo/model.ckpt-590 is not in all_model_checkpoint_paths. Manually adding it.\n"
     ]
    },
    {
     "name": "stdout",
     "output_type": "stream",
     "text": [
      "INFO:tensorflow:/job:master/task:0: Exporting the model at step 590 to ./tmp/serval03hugo/export/step_590.\n"
     ]
    },
    {
     "name": "stderr",
     "output_type": "stream",
     "text": [
      "I0320 11:19:43.436539 140413923567424 <ipython-input-7-e1062270148e>:379] /job:master/task:0: Exporting the model at step 590 to ./tmp/serval03hugo/export/step_590.\n"
     ]
    },
    {
     "name": "stdout",
     "output_type": "stream",
     "text": [
      "INFO:tensorflow:Restoring parameters from ./tmp/serval03hugo/model.ckpt-590\n"
     ]
    },
    {
     "name": "stderr",
     "output_type": "stream",
     "text": [
      "I0320 11:19:43.470645 140413923567424 saver.py:1284] Restoring parameters from ./tmp/serval03hugo/model.ckpt-590\n"
     ]
    },
    {
     "name": "stdout",
     "output_type": "stream",
     "text": [
      "INFO:tensorflow:No assets to save.\n"
     ]
    },
    {
     "name": "stderr",
     "output_type": "stream",
     "text": [
      "I0320 11:19:43.487407 140413923567424 builder_impl.py:640] No assets to save.\n"
     ]
    },
    {
     "name": "stdout",
     "output_type": "stream",
     "text": [
      "INFO:tensorflow:No assets to write.\n"
     ]
    },
    {
     "name": "stderr",
     "output_type": "stream",
     "text": [
      "I0320 11:19:43.489011 140413923567424 builder_impl.py:460] No assets to write.\n"
     ]
    },
    {
     "name": "stdout",
     "output_type": "stream",
     "text": [
      "INFO:tensorflow:SavedModel written to: ./tmp/serval03hugo/export/step_590/saved_model.pb\n"
     ]
    },
    {
     "name": "stderr",
     "output_type": "stream",
     "text": [
      "I0320 11:19:43.612761 140413923567424 builder_impl.py:425] SavedModel written to: ./tmp/serval03hugo/export/step_590/saved_model.pb\n"
     ]
    },
    {
     "name": "stdout",
     "output_type": "stream",
     "text": [
      "INFO:tensorflow:training step 591 | Loss: 1.61 Examples/sec: 17205.13\n"
     ]
    },
    {
     "name": "stderr",
     "output_type": "stream",
     "text": [
      "I0320 11:19:43.676432 140413923567424 <ipython-input-7-e1062270148e>:361] training step 591 | Loss: 1.61 Examples/sec: 17205.13\n"
     ]
    },
    {
     "name": "stdout",
     "output_type": "stream",
     "text": [
      "INFO:tensorflow:training step 592 | Loss: 1.59 Examples/sec: 9966.74\n"
     ]
    },
    {
     "name": "stderr",
     "output_type": "stream",
     "text": [
      "I0320 11:19:43.780670 140413923567424 <ipython-input-7-e1062270148e>:361] training step 592 | Loss: 1.59 Examples/sec: 9966.74\n"
     ]
    },
    {
     "name": "stdout",
     "output_type": "stream",
     "text": [
      "INFO:tensorflow:training step 593 | Loss: 1.60 Examples/sec: 6293.18\n"
     ]
    },
    {
     "name": "stderr",
     "output_type": "stream",
     "text": [
      "I0320 11:19:43.944765 140413923567424 <ipython-input-7-e1062270148e>:361] training step 593 | Loss: 1.60 Examples/sec: 6293.18\n"
     ]
    },
    {
     "name": "stdout",
     "output_type": "stream",
     "text": [
      "INFO:tensorflow:training step 594 | Loss: 1.57 Examples/sec: 6400.69\n"
     ]
    },
    {
     "name": "stderr",
     "output_type": "stream",
     "text": [
      "I0320 11:19:44.107017 140413923567424 <ipython-input-7-e1062270148e>:361] training step 594 | Loss: 1.57 Examples/sec: 6400.69\n"
     ]
    },
    {
     "name": "stdout",
     "output_type": "stream",
     "text": [
      "INFO:tensorflow:training step 595 | Loss: 1.64 Examples/sec: 6229.22\n"
     ]
    },
    {
     "name": "stderr",
     "output_type": "stream",
     "text": [
      "I0320 11:19:44.273260 140413923567424 <ipython-input-7-e1062270148e>:361] training step 595 | Loss: 1.64 Examples/sec: 6229.22\n"
     ]
    },
    {
     "name": "stdout",
     "output_type": "stream",
     "text": [
      "INFO:tensorflow:training step 596 | Loss: 1.65 Examples/sec: 6320.23\n"
     ]
    },
    {
     "name": "stderr",
     "output_type": "stream",
     "text": [
      "I0320 11:19:44.436849 140413923567424 <ipython-input-7-e1062270148e>:361] training step 596 | Loss: 1.65 Examples/sec: 6320.23\n"
     ]
    },
    {
     "name": "stdout",
     "output_type": "stream",
     "text": [
      "INFO:tensorflow:training step 597 | Loss: 1.60 Examples/sec: 6526.12\n"
     ]
    },
    {
     "name": "stderr",
     "output_type": "stream",
     "text": [
      "I0320 11:19:44.595018 140413923567424 <ipython-input-7-e1062270148e>:361] training step 597 | Loss: 1.60 Examples/sec: 6526.12\n"
     ]
    },
    {
     "name": "stdout",
     "output_type": "stream",
     "text": [
      "INFO:tensorflow:training step 598 | Loss: 1.57 Examples/sec: 6324.43\n"
     ]
    },
    {
     "name": "stderr",
     "output_type": "stream",
     "text": [
      "I0320 11:19:44.758411 140413923567424 <ipython-input-7-e1062270148e>:361] training step 598 | Loss: 1.57 Examples/sec: 6324.43\n"
     ]
    },
    {
     "name": "stdout",
     "output_type": "stream",
     "text": [
      "INFO:tensorflow:training step 599 | Loss: 1.58 Examples/sec: 6619.85\n"
     ]
    },
    {
     "name": "stderr",
     "output_type": "stream",
     "text": [
      "I0320 11:19:44.914693 140413923567424 <ipython-input-7-e1062270148e>:361] training step 599 | Loss: 1.58 Examples/sec: 6619.85\n"
     ]
    },
    {
     "name": "stdout",
     "output_type": "stream",
     "text": [
      "INFO:tensorflow:training step 600 | Loss: 1.60 Examples/sec: 6295.34 | Hit@1: 0.76 PERR: 0.76 GAP: 0.82\n"
     ]
    },
    {
     "name": "stderr",
     "output_type": "stream",
     "text": [
      "I0320 11:19:45.224954 140413923567424 <ipython-input-7-e1062270148e>:337] training step 600 | Loss: 1.60 Examples/sec: 6295.34 | Hit@1: 0.76 PERR: 0.76 GAP: 0.82\n"
     ]
    },
    {
     "name": "stdout",
     "output_type": "stream",
     "text": [
      "INFO:tensorflow:./tmp/serval03hugo/model.ckpt-600 is not in all_model_checkpoint_paths. Manually adding it.\n"
     ]
    },
    {
     "name": "stderr",
     "output_type": "stream",
     "text": [
      "I0320 11:19:45.233221 140413923567424 checkpoint_management.py:95] ./tmp/serval03hugo/model.ckpt-600 is not in all_model_checkpoint_paths. Manually adding it.\n"
     ]
    },
    {
     "name": "stdout",
     "output_type": "stream",
     "text": [
      "INFO:tensorflow:/job:master/task:0: Exporting the model at step 600 to ./tmp/serval03hugo/export/step_600.\n"
     ]
    },
    {
     "name": "stderr",
     "output_type": "stream",
     "text": [
      "I0320 11:19:45.314285 140413923567424 <ipython-input-7-e1062270148e>:379] /job:master/task:0: Exporting the model at step 600 to ./tmp/serval03hugo/export/step_600.\n"
     ]
    },
    {
     "name": "stdout",
     "output_type": "stream",
     "text": [
      "INFO:tensorflow:Restoring parameters from ./tmp/serval03hugo/model.ckpt-600\n"
     ]
    },
    {
     "name": "stderr",
     "output_type": "stream",
     "text": [
      "I0320 11:19:45.341133 140413923567424 saver.py:1284] Restoring parameters from ./tmp/serval03hugo/model.ckpt-600\n"
     ]
    },
    {
     "name": "stdout",
     "output_type": "stream",
     "text": [
      "INFO:tensorflow:No assets to save.\n"
     ]
    },
    {
     "name": "stderr",
     "output_type": "stream",
     "text": [
      "I0320 11:19:45.355954 140413923567424 builder_impl.py:640] No assets to save.\n"
     ]
    },
    {
     "name": "stdout",
     "output_type": "stream",
     "text": [
      "INFO:tensorflow:No assets to write.\n"
     ]
    },
    {
     "name": "stderr",
     "output_type": "stream",
     "text": [
      "I0320 11:19:45.357231 140413923567424 builder_impl.py:460] No assets to write.\n"
     ]
    },
    {
     "name": "stdout",
     "output_type": "stream",
     "text": [
      "INFO:tensorflow:SavedModel written to: ./tmp/serval03hugo/export/step_600/saved_model.pb\n"
     ]
    },
    {
     "name": "stderr",
     "output_type": "stream",
     "text": [
      "I0320 11:19:45.470258 140413923567424 builder_impl.py:425] SavedModel written to: ./tmp/serval03hugo/export/step_600/saved_model.pb\n"
     ]
    },
    {
     "name": "stdout",
     "output_type": "stream",
     "text": [
      "INFO:tensorflow:training step 601 | Loss: 1.64 Examples/sec: 16290.54\n"
     ]
    },
    {
     "name": "stderr",
     "output_type": "stream",
     "text": [
      "I0320 11:19:45.539060 140413923567424 <ipython-input-7-e1062270148e>:361] training step 601 | Loss: 1.64 Examples/sec: 16290.54\n"
     ]
    },
    {
     "name": "stdout",
     "output_type": "stream",
     "text": [
      "INFO:tensorflow:training step 602 | Loss: 1.58 Examples/sec: 7399.50\n"
     ]
    },
    {
     "name": "stderr",
     "output_type": "stream",
     "text": [
      "I0320 11:19:45.679130 140413923567424 <ipython-input-7-e1062270148e>:361] training step 602 | Loss: 1.58 Examples/sec: 7399.50\n"
     ]
    },
    {
     "name": "stdout",
     "output_type": "stream",
     "text": [
      "INFO:tensorflow:training step 603 | Loss: 1.55 Examples/sec: 6540.73\n"
     ]
    },
    {
     "name": "stderr",
     "output_type": "stream",
     "text": [
      "I0320 11:19:45.837291 140413923567424 <ipython-input-7-e1062270148e>:361] training step 603 | Loss: 1.55 Examples/sec: 6540.73\n"
     ]
    },
    {
     "name": "stdout",
     "output_type": "stream",
     "text": [
      "INFO:tensorflow:training step 604 | Loss: 1.62 Examples/sec: 6544.82\n"
     ]
    },
    {
     "name": "stderr",
     "output_type": "stream",
     "text": [
      "I0320 11:19:45.995559 140413923567424 <ipython-input-7-e1062270148e>:361] training step 604 | Loss: 1.62 Examples/sec: 6544.82\n"
     ]
    },
    {
     "name": "stdout",
     "output_type": "stream",
     "text": [
      "INFO:tensorflow:training step 605 | Loss: 1.57 Examples/sec: 6227.41\n"
     ]
    },
    {
     "name": "stderr",
     "output_type": "stream",
     "text": [
      "I0320 11:19:46.161418 140413923567424 <ipython-input-7-e1062270148e>:361] training step 605 | Loss: 1.57 Examples/sec: 6227.41\n"
     ]
    },
    {
     "name": "stdout",
     "output_type": "stream",
     "text": [
      "INFO:tensorflow:training step 606 | Loss: 1.62 Examples/sec: 6294.29\n"
     ]
    },
    {
     "name": "stderr",
     "output_type": "stream",
     "text": [
      "I0320 11:19:46.325731 140413923567424 <ipython-input-7-e1062270148e>:361] training step 606 | Loss: 1.62 Examples/sec: 6294.29\n"
     ]
    },
    {
     "name": "stdout",
     "output_type": "stream",
     "text": [
      "INFO:tensorflow:training step 607 | Loss: 1.60 Examples/sec: 6324.12\n"
     ]
    },
    {
     "name": "stderr",
     "output_type": "stream",
     "text": [
      "I0320 11:19:46.489122 140413923567424 <ipython-input-7-e1062270148e>:361] training step 607 | Loss: 1.60 Examples/sec: 6324.12\n"
     ]
    },
    {
     "name": "stdout",
     "output_type": "stream",
     "text": [
      "INFO:tensorflow:training step 608 | Loss: 1.59 Examples/sec: 6562.58\n"
     ]
    },
    {
     "name": "stderr",
     "output_type": "stream",
     "text": [
      "I0320 11:19:46.646737 140413923567424 <ipython-input-7-e1062270148e>:361] training step 608 | Loss: 1.59 Examples/sec: 6562.58\n"
     ]
    },
    {
     "name": "stdout",
     "output_type": "stream",
     "text": [
      "INFO:tensorflow:training step 609 | Loss: 1.55 Examples/sec: 6551.68\n"
     ]
    },
    {
     "name": "stderr",
     "output_type": "stream",
     "text": [
      "I0320 11:19:46.804630 140413923567424 <ipython-input-7-e1062270148e>:361] training step 609 | Loss: 1.55 Examples/sec: 6551.68\n"
     ]
    },
    {
     "name": "stdout",
     "output_type": "stream",
     "text": [
      "INFO:tensorflow:training step 610 | Loss: 1.56 Examples/sec: 6565.28 | Hit@1: 0.79 PERR: 0.78 GAP: 0.84\n"
     ]
    },
    {
     "name": "stderr",
     "output_type": "stream",
     "text": [
      "I0320 11:19:47.100555 140413923567424 <ipython-input-7-e1062270148e>:337] training step 610 | Loss: 1.56 Examples/sec: 6565.28 | Hit@1: 0.79 PERR: 0.78 GAP: 0.84\n"
     ]
    },
    {
     "name": "stdout",
     "output_type": "stream",
     "text": [
      "INFO:tensorflow:./tmp/serval03hugo/model.ckpt-610 is not in all_model_checkpoint_paths. Manually adding it.\n"
     ]
    },
    {
     "name": "stderr",
     "output_type": "stream",
     "text": [
      "I0320 11:19:47.108072 140413923567424 checkpoint_management.py:95] ./tmp/serval03hugo/model.ckpt-610 is not in all_model_checkpoint_paths. Manually adding it.\n"
     ]
    },
    {
     "name": "stdout",
     "output_type": "stream",
     "text": [
      "INFO:tensorflow:/job:master/task:0: Exporting the model at step 610 to ./tmp/serval03hugo/export/step_610.\n"
     ]
    },
    {
     "name": "stderr",
     "output_type": "stream",
     "text": [
      "I0320 11:19:47.203732 140413923567424 <ipython-input-7-e1062270148e>:379] /job:master/task:0: Exporting the model at step 610 to ./tmp/serval03hugo/export/step_610.\n"
     ]
    },
    {
     "name": "stdout",
     "output_type": "stream",
     "text": [
      "INFO:tensorflow:Restoring parameters from ./tmp/serval03hugo/model.ckpt-610\n"
     ]
    },
    {
     "name": "stderr",
     "output_type": "stream",
     "text": [
      "I0320 11:19:47.236286 140413923567424 saver.py:1284] Restoring parameters from ./tmp/serval03hugo/model.ckpt-610\n"
     ]
    },
    {
     "name": "stdout",
     "output_type": "stream",
     "text": [
      "INFO:tensorflow:No assets to save.\n"
     ]
    },
    {
     "name": "stderr",
     "output_type": "stream",
     "text": [
      "I0320 11:19:47.253589 140413923567424 builder_impl.py:640] No assets to save.\n"
     ]
    },
    {
     "name": "stdout",
     "output_type": "stream",
     "text": [
      "INFO:tensorflow:No assets to write.\n"
     ]
    },
    {
     "name": "stderr",
     "output_type": "stream",
     "text": [
      "I0320 11:19:47.254828 140413923567424 builder_impl.py:460] No assets to write.\n"
     ]
    },
    {
     "name": "stdout",
     "output_type": "stream",
     "text": [
      "INFO:tensorflow:SavedModel written to: ./tmp/serval03hugo/export/step_610/saved_model.pb\n"
     ]
    },
    {
     "name": "stderr",
     "output_type": "stream",
     "text": [
      "I0320 11:19:47.377542 140413923567424 builder_impl.py:425] SavedModel written to: ./tmp/serval03hugo/export/step_610/saved_model.pb\n"
     ]
    },
    {
     "name": "stdout",
     "output_type": "stream",
     "text": [
      "INFO:tensorflow:training step 611 | Loss: 1.58 Examples/sec: 15420.62\n"
     ]
    },
    {
     "name": "stderr",
     "output_type": "stream",
     "text": [
      "I0320 11:19:47.448981 140413923567424 <ipython-input-7-e1062270148e>:361] training step 611 | Loss: 1.58 Examples/sec: 15420.62\n"
     ]
    },
    {
     "name": "stdout",
     "output_type": "stream",
     "text": [
      "INFO:tensorflow:training step 612 | Loss: 1.58 Examples/sec: 7510.21\n"
     ]
    },
    {
     "name": "stderr",
     "output_type": "stream",
     "text": [
      "I0320 11:19:47.587703 140413923567424 <ipython-input-7-e1062270148e>:361] training step 612 | Loss: 1.58 Examples/sec: 7510.21\n"
     ]
    },
    {
     "name": "stdout",
     "output_type": "stream",
     "text": [
      "INFO:tensorflow:training step 613 | Loss: 1.62 Examples/sec: 6570.40\n"
     ]
    },
    {
     "name": "stderr",
     "output_type": "stream",
     "text": [
      "I0320 11:19:47.745057 140413923567424 <ipython-input-7-e1062270148e>:361] training step 613 | Loss: 1.62 Examples/sec: 6570.40\n"
     ]
    },
    {
     "name": "stdout",
     "output_type": "stream",
     "text": [
      "INFO:tensorflow:training step 614 | Loss: 1.54 Examples/sec: 6328.52\n"
     ]
    },
    {
     "name": "stderr",
     "output_type": "stream",
     "text": [
      "I0320 11:19:47.908816 140413923567424 <ipython-input-7-e1062270148e>:361] training step 614 | Loss: 1.54 Examples/sec: 6328.52\n"
     ]
    },
    {
     "name": "stdout",
     "output_type": "stream",
     "text": [
      "INFO:tensorflow:training step 615 | Loss: 1.59 Examples/sec: 6614.30\n"
     ]
    },
    {
     "name": "stderr",
     "output_type": "stream",
     "text": [
      "I0320 11:19:48.065754 140413923567424 <ipython-input-7-e1062270148e>:361] training step 615 | Loss: 1.59 Examples/sec: 6614.30\n"
     ]
    },
    {
     "name": "stdout",
     "output_type": "stream",
     "text": [
      "INFO:tensorflow:training step 616 | Loss: 1.59 Examples/sec: 6498.19\n"
     ]
    },
    {
     "name": "stderr",
     "output_type": "stream",
     "text": [
      "I0320 11:19:48.225313 140413923567424 <ipython-input-7-e1062270148e>:361] training step 616 | Loss: 1.59 Examples/sec: 6498.19\n"
     ]
    },
    {
     "name": "stdout",
     "output_type": "stream",
     "text": [
      "INFO:tensorflow:training step 617 | Loss: 1.55 Examples/sec: 6183.72\n"
     ]
    },
    {
     "name": "stderr",
     "output_type": "stream",
     "text": [
      "I0320 11:19:48.392064 140413923567424 <ipython-input-7-e1062270148e>:361] training step 617 | Loss: 1.55 Examples/sec: 6183.72\n"
     ]
    },
    {
     "name": "stdout",
     "output_type": "stream",
     "text": [
      "INFO:tensorflow:training step 618 | Loss: 1.58 Examples/sec: 6545.75\n"
     ]
    },
    {
     "name": "stderr",
     "output_type": "stream",
     "text": [
      "I0320 11:19:48.549489 140413923567424 <ipython-input-7-e1062270148e>:361] training step 618 | Loss: 1.58 Examples/sec: 6545.75\n"
     ]
    },
    {
     "name": "stdout",
     "output_type": "stream",
     "text": [
      "INFO:tensorflow:training step 619 | Loss: 1.53 Examples/sec: 6231.57\n"
     ]
    },
    {
     "name": "stderr",
     "output_type": "stream",
     "text": [
      "I0320 11:19:48.715293 140413923567424 <ipython-input-7-e1062270148e>:361] training step 619 | Loss: 1.53 Examples/sec: 6231.57\n"
     ]
    },
    {
     "name": "stdout",
     "output_type": "stream",
     "text": [
      "INFO:tensorflow:training step 620 | Loss: 1.61 Examples/sec: 6641.19 | Hit@1: 0.77 PERR: 0.77 GAP: 0.82\n"
     ]
    },
    {
     "name": "stderr",
     "output_type": "stream",
     "text": [
      "I0320 11:19:49.012608 140413923567424 <ipython-input-7-e1062270148e>:337] training step 620 | Loss: 1.61 Examples/sec: 6641.19 | Hit@1: 0.77 PERR: 0.77 GAP: 0.82\n"
     ]
    },
    {
     "name": "stdout",
     "output_type": "stream",
     "text": [
      "INFO:tensorflow:./tmp/serval03hugo/model.ckpt-620 is not in all_model_checkpoint_paths. Manually adding it.\n"
     ]
    },
    {
     "name": "stderr",
     "output_type": "stream",
     "text": [
      "I0320 11:19:49.018825 140413923567424 checkpoint_management.py:95] ./tmp/serval03hugo/model.ckpt-620 is not in all_model_checkpoint_paths. Manually adding it.\n"
     ]
    },
    {
     "name": "stdout",
     "output_type": "stream",
     "text": [
      "INFO:tensorflow:/job:master/task:0: Exporting the model at step 620 to ./tmp/serval03hugo/export/step_620.\n"
     ]
    },
    {
     "name": "stderr",
     "output_type": "stream",
     "text": [
      "I0320 11:19:49.141703 140413923567424 <ipython-input-7-e1062270148e>:379] /job:master/task:0: Exporting the model at step 620 to ./tmp/serval03hugo/export/step_620.\n"
     ]
    },
    {
     "name": "stdout",
     "output_type": "stream",
     "text": [
      "INFO:tensorflow:Restoring parameters from ./tmp/serval03hugo/model.ckpt-620\n"
     ]
    },
    {
     "name": "stderr",
     "output_type": "stream",
     "text": [
      "I0320 11:19:49.174592 140413923567424 saver.py:1284] Restoring parameters from ./tmp/serval03hugo/model.ckpt-620\n"
     ]
    },
    {
     "name": "stdout",
     "output_type": "stream",
     "text": [
      "INFO:tensorflow:No assets to save.\n"
     ]
    },
    {
     "name": "stderr",
     "output_type": "stream",
     "text": [
      "I0320 11:19:49.190149 140413923567424 builder_impl.py:640] No assets to save.\n"
     ]
    },
    {
     "name": "stdout",
     "output_type": "stream",
     "text": [
      "INFO:tensorflow:No assets to write.\n"
     ]
    },
    {
     "name": "stderr",
     "output_type": "stream",
     "text": [
      "I0320 11:19:49.191204 140413923567424 builder_impl.py:460] No assets to write.\n"
     ]
    },
    {
     "name": "stdout",
     "output_type": "stream",
     "text": [
      "INFO:tensorflow:SavedModel written to: ./tmp/serval03hugo/export/step_620/saved_model.pb\n"
     ]
    },
    {
     "name": "stderr",
     "output_type": "stream",
     "text": [
      "I0320 11:19:49.315699 140413923567424 builder_impl.py:425] SavedModel written to: ./tmp/serval03hugo/export/step_620/saved_model.pb\n"
     ]
    },
    {
     "name": "stdout",
     "output_type": "stream",
     "text": [
      "INFO:tensorflow:training step 621 | Loss: 1.62 Examples/sec: 15881.05\n"
     ]
    },
    {
     "name": "stderr",
     "output_type": "stream",
     "text": [
      "I0320 11:19:49.384871 140413923567424 <ipython-input-7-e1062270148e>:361] training step 621 | Loss: 1.62 Examples/sec: 15881.05\n"
     ]
    },
    {
     "name": "stdout",
     "output_type": "stream",
     "text": [
      "INFO:tensorflow:training step 622 | Loss: 1.58 Examples/sec: 8748.67\n"
     ]
    },
    {
     "name": "stderr",
     "output_type": "stream",
     "text": [
      "I0320 11:19:49.503544 140413923567424 <ipython-input-7-e1062270148e>:361] training step 622 | Loss: 1.58 Examples/sec: 8748.67\n"
     ]
    },
    {
     "name": "stdout",
     "output_type": "stream",
     "text": [
      "INFO:tensorflow:training step 623 | Loss: 1.53 Examples/sec: 6658.69\n"
     ]
    },
    {
     "name": "stderr",
     "output_type": "stream",
     "text": [
      "I0320 11:19:49.658839 140413923567424 <ipython-input-7-e1062270148e>:361] training step 623 | Loss: 1.53 Examples/sec: 6658.69\n"
     ]
    },
    {
     "name": "stdout",
     "output_type": "stream",
     "text": [
      "INFO:tensorflow:training step 624 | Loss: 1.59 Examples/sec: 6584.95\n"
     ]
    },
    {
     "name": "stderr",
     "output_type": "stream",
     "text": [
      "I0320 11:19:49.816172 140413923567424 <ipython-input-7-e1062270148e>:361] training step 624 | Loss: 1.59 Examples/sec: 6584.95\n"
     ]
    },
    {
     "name": "stdout",
     "output_type": "stream",
     "text": [
      "INFO:tensorflow:training step 625 | Loss: 1.57 Examples/sec: 6551.50\n"
     ]
    },
    {
     "name": "stderr",
     "output_type": "stream",
     "text": [
      "I0320 11:19:49.974017 140413923567424 <ipython-input-7-e1062270148e>:361] training step 625 | Loss: 1.57 Examples/sec: 6551.50\n"
     ]
    },
    {
     "name": "stdout",
     "output_type": "stream",
     "text": [
      "INFO:tensorflow:training step 626 | Loss: 1.54 Examples/sec: 6532.19\n"
     ]
    },
    {
     "name": "stderr",
     "output_type": "stream",
     "text": [
      "I0320 11:19:50.131872 140413923567424 <ipython-input-7-e1062270148e>:361] training step 626 | Loss: 1.54 Examples/sec: 6532.19\n"
     ]
    },
    {
     "name": "stdout",
     "output_type": "stream",
     "text": [
      "INFO:tensorflow:training step 627 | Loss: 1.56 Examples/sec: 6556.94\n"
     ]
    },
    {
     "name": "stderr",
     "output_type": "stream",
     "text": [
      "I0320 11:19:50.289677 140413923567424 <ipython-input-7-e1062270148e>:361] training step 627 | Loss: 1.56 Examples/sec: 6556.94\n"
     ]
    },
    {
     "name": "stdout",
     "output_type": "stream",
     "text": [
      "INFO:tensorflow:training step 628 | Loss: 1.57 Examples/sec: 6219.33\n"
     ]
    },
    {
     "name": "stderr",
     "output_type": "stream",
     "text": [
      "I0320 11:19:50.456647 140413923567424 <ipython-input-7-e1062270148e>:361] training step 628 | Loss: 1.57 Examples/sec: 6219.33\n"
     ]
    },
    {
     "name": "stdout",
     "output_type": "stream",
     "text": [
      "INFO:tensorflow:training step 629 | Loss: 1.55 Examples/sec: 16060.94\n"
     ]
    },
    {
     "name": "stderr",
     "output_type": "stream",
     "text": [
      "I0320 11:19:50.510475 140413923567424 <ipython-input-7-e1062270148e>:361] training step 629 | Loss: 1.55 Examples/sec: 16060.94\n"
     ]
    },
    {
     "name": "stdout",
     "output_type": "stream",
     "text": [
      "INFO:tensorflow:/job:master/task:0: Done training -- epoch limit reached.\n"
     ]
    },
    {
     "name": "stderr",
     "output_type": "stream",
     "text": [
      "I0320 11:19:50.524092 140413923567424 <ipython-input-7-e1062270148e>:364] /job:master/task:0: Done training -- epoch limit reached.\n"
     ]
    },
    {
     "name": "stdout",
     "output_type": "stream",
     "text": [
      "INFO:tensorflow:/job:master/task:0: Exited training loop.\n"
     ]
    },
    {
     "name": "stderr",
     "output_type": "stream",
     "text": [
      "I0320 11:19:50.565845 140413923567424 <ipython-input-7-e1062270148e>:366] /job:master/task:0: Exited training loop.\n",
      "/usr/local/lib/python3.6/dist-packages/tensorflow_core/python/summary/writer/writer.py:386: UserWarning: Attempting to use a closed FileWriter. The operation will be a noop unless the FileWriter is explicitly reopened.\n",
      "  warnings.warn(\"Attempting to use a closed FileWriter. \"\n"
     ]
    },
    {
     "ename": "SystemExit",
     "evalue": "",
     "output_type": "error",
     "traceback": [
      "An exception has occurred, use %tb to see the full traceback.\n",
      "\u001b[0;31mSystemExit\u001b[0m\n"
     ]
    },
    {
     "name": "stderr",
     "output_type": "stream",
     "text": [
      "/usr/local/lib/python3.6/dist-packages/IPython/core/interactiveshell.py:3327: UserWarning: To exit: use 'exit', 'quit', or Ctrl-D.\n",
      "  warn(\"To exit: use 'exit', 'quit', or Ctrl-D.\", stacklevel=1)\n"
     ]
    }
   ],
   "source": [
    "# from bash this works :\n",
    "# python ../serval-igor/youtube-8m-master/train.py \n",
    "# --train_data_pattern='./features/train*.tfrecord' \n",
    "# --model=LogisticModel \n",
    "# --train_dir=$MODEL_DIR/video_level_logistic_model \n",
    "\n",
    "if __name__ == \"__main__\":\n",
    "    #train_data_pattern = './features/train*.tfrecord' \n",
    "    #model = 'LogisticModel' \n",
    "    #train_dir = $MODEL_DIR/video_level_logistic_model \n",
    "    \n",
    "    app.run()"
   ]
  },
  {
   "cell_type": "code",
   "execution_count": null,
   "metadata": {
    "jupyter": {
     "outputs_hidden": true
    }
   },
   "outputs": [],
   "source": [
    "# run command below to see progress\n",
    "# tensorboard --logdir=~/jupyter-workspace/serval/serval-hugo/tmp/yt8m_model\n",
    "# tensorboard --logdir=~/jupyter-workspace/serval/serval-hugo/tmp/yt8m_model"
   ]
  }
 ],
 "metadata": {
  "kernelspec": {
   "display_name": "Python 3",
   "language": "python",
   "name": "python3"
  },
  "language_info": {
   "codemirror_mode": {
    "name": "ipython",
    "version": 3
   },
   "file_extension": ".py",
   "mimetype": "text/x-python",
   "name": "python",
   "nbconvert_exporter": "python",
   "pygments_lexer": "ipython3",
   "version": "3.6.9"
  }
 },
 "nbformat": 4,
 "nbformat_minor": 4
}
