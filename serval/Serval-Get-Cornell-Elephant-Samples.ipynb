{
 "cells": [
  {
   "cell_type": "markdown",
   "metadata": {},
   "source": [
    "## Cornell Elephant Listening Project\n",
    "\n",
    "We use sound samples from [this](http://www.birds.cornell.edu/brp/elephant/) project.\n",
    "\n",
    "We have 24 hour recordings for several days. We use [Raven-lite](http://www.birds.cornell.edu/brp/raven/RavenOverview.html) to collect the annotated datasets and split them into 5 second samples.\n",
    "\n",
    "The annotation table from Raven is manipulated in a spreadsheet program to filter on samples that hold at least 3 seconds of elephant rumbeles, the samples are then extended into 5 seconds samples.\n",
    "\n",
    "This gives us a list of selections, we presume you have this list of selections locally available.\n",
    "\n"
   ]
  },
  {
   "cell_type": "code",
   "execution_count": 4,
   "metadata": {
    "collapsed": false
   },
   "outputs": [
    {
     "data": {
      "text/html": [
       "<div>\n",
       "<style>\n",
       "    .dataframe thead tr:only-child th {\n",
       "        text-align: right;\n",
       "    }\n",
       "\n",
       "    .dataframe thead th {\n",
       "        text-align: left;\n",
       "    }\n",
       "\n",
       "    .dataframe tbody tr th {\n",
       "        vertical-align: top;\n",
       "    }\n",
       "</style>\n",
       "<table border=\"1\" class=\"dataframe\">\n",
       "  <thead>\n",
       "    <tr style=\"text-align: right;\">\n",
       "      <th></th>\n",
       "      <th>filename</th>\n",
       "    </tr>\n",
       "  </thead>\n",
       "  <tbody>\n",
       "    <tr>\n",
       "      <th>0</th>\n",
       "      <td>sel-01-20151005-000057.21.wav</td>\n",
       "    </tr>\n",
       "    <tr>\n",
       "      <th>1</th>\n",
       "      <td>sel-02-20151005-000114.80.wav</td>\n",
       "    </tr>\n",
       "    <tr>\n",
       "      <th>2</th>\n",
       "      <td>sel-05-20151005-000508.98.wav</td>\n",
       "    </tr>\n",
       "    <tr>\n",
       "      <th>3</th>\n",
       "      <td>sel-06-20151005-000759.45.wav</td>\n",
       "    </tr>\n",
       "    <tr>\n",
       "      <th>4</th>\n",
       "      <td>sel-09-20151005-000841.86.wav</td>\n",
       "    </tr>\n",
       "  </tbody>\n",
       "</table>\n",
       "</div>"
      ],
      "text/plain": [
       "                        filename\n",
       "0  sel-01-20151005-000057.21.wav\n",
       "1  sel-02-20151005-000114.80.wav\n",
       "2  sel-05-20151005-000508.98.wav\n",
       "3  sel-06-20151005-000759.45.wav\n",
       "4  sel-09-20151005-000841.86.wav"
      ]
     },
     "execution_count": 4,
     "metadata": {},
     "output_type": "execute_result"
    }
   ],
   "source": [
    "# for the original elephant listening dataset there is a txt file in the folder with the wav filenames\n",
    "\n",
    "import pandas as pd\n",
    "\n",
    "# location of ESC-50 download\n",
    "df = pd.read_csv('../../data/cornell/elephant-listening/20151005/sel.20151005.000000.txt',header=None)\n",
    "\n",
    "df.columns = ['filename']\n",
    "\n",
    "df.head(5)"
   ]
  },
  {
   "cell_type": "code",
   "execution_count": 8,
   "metadata": {
    "collapsed": false
   },
   "outputs": [
    {
     "data": {
      "text/html": [
       "<div>\n",
       "<style>\n",
       "    .dataframe thead tr:only-child th {\n",
       "        text-align: right;\n",
       "    }\n",
       "\n",
       "    .dataframe thead th {\n",
       "        text-align: left;\n",
       "    }\n",
       "\n",
       "    .dataframe tbody tr th {\n",
       "        vertical-align: top;\n",
       "    }\n",
       "</style>\n",
       "<table border=\"1\" class=\"dataframe\">\n",
       "  <thead>\n",
       "    <tr style=\"text-align: right;\">\n",
       "      <th></th>\n",
       "      <th>filename</th>\n",
       "      <th>category</th>\n",
       "    </tr>\n",
       "  </thead>\n",
       "  <tbody>\n",
       "    <tr>\n",
       "      <th>0</th>\n",
       "      <td>sel-01-20151005-000057.21.wav</td>\n",
       "      <td>elepant_rumble</td>\n",
       "    </tr>\n",
       "    <tr>\n",
       "      <th>1</th>\n",
       "      <td>sel-02-20151005-000114.80.wav</td>\n",
       "      <td>elepant_rumble</td>\n",
       "    </tr>\n",
       "    <tr>\n",
       "      <th>2</th>\n",
       "      <td>sel-05-20151005-000508.98.wav</td>\n",
       "      <td>elepant_rumble</td>\n",
       "    </tr>\n",
       "    <tr>\n",
       "      <th>3</th>\n",
       "      <td>sel-06-20151005-000759.45.wav</td>\n",
       "      <td>elepant_rumble</td>\n",
       "    </tr>\n",
       "    <tr>\n",
       "      <th>4</th>\n",
       "      <td>sel-09-20151005-000841.86.wav</td>\n",
       "      <td>elepant_rumble</td>\n",
       "    </tr>\n",
       "  </tbody>\n",
       "</table>\n",
       "</div>"
      ],
      "text/plain": [
       "                        filename        category\n",
       "0  sel-01-20151005-000057.21.wav  elepant_rumble\n",
       "1  sel-02-20151005-000114.80.wav  elepant_rumble\n",
       "2  sel-05-20151005-000508.98.wav  elepant_rumble\n",
       "3  sel-06-20151005-000759.45.wav  elepant_rumble\n",
       "4  sel-09-20151005-000841.86.wav  elepant_rumble"
      ]
     },
     "execution_count": 8,
     "metadata": {},
     "output_type": "execute_result"
    }
   ],
   "source": [
    "# add a column with the category\n",
    "df['category'] ='elepant_rumble'\n",
    "\n"
   ]
  },
  {
   "cell_type": "code",
   "execution_count": 10,
   "metadata": {
    "collapsed": false
   },
   "outputs": [],
   "source": [
    "# sample \n",
    "df_sample = df.sample(n=150)"
   ]
  },
  {
   "cell_type": "code",
   "execution_count": 11,
   "metadata": {
    "collapsed": false
   },
   "outputs": [
    {
     "name": "stderr",
     "output_type": "stream",
     "text": [
      "100%|██████████| 150/150 [00:00<00:00, 2548.29it/s]\n"
     ]
    }
   ],
   "source": [
    "# now we copy these files over to our dataset location for training\n",
    "import sys, csv, os, shutil\n",
    "\n",
    "from tqdm import tqdm\n",
    "\n",
    "# source dataset location\n",
    "source_path = '../../data/cornell/elephant-listening/20151005/'\n",
    "dest_path = \"./dataset/audio\"\n",
    "\n",
    "for index, row in tqdm(df_sample.iterrows(), total=len(df_sample)):\n",
    "    # lees wav check of die er is zo ja kopier naar destination\n",
    "    src_file_path = os.path.normcase(\"%s/%s\" % (source_path,row.filename))\n",
    "    # make destination path\n",
    "    dst_file_path = \"%s/%s\" % (dest_path,row.filename)\n",
    "    # copy file from to\n",
    "    shutil.copyfile(src_file_path,dst_file_path)"
   ]
  },
  {
   "cell_type": "code",
   "execution_count": 12,
   "metadata": {
    "collapsed": true
   },
   "outputs": [],
   "source": [
    "# save the metadata for later\n",
    "df_sample.to_csv('./dataset/meta-data-elephant-listening.csv',index=False)"
   ]
  }
 ],
 "metadata": {
  "kernelspec": {
   "display_name": "Python [conda env:py35]",
   "language": "python",
   "name": "conda-env-py35-py"
  },
  "language_info": {
   "codemirror_mode": {
    "name": "ipython",
    "version": 3
   },
   "file_extension": ".py",
   "mimetype": "text/x-python",
   "name": "python",
   "nbconvert_exporter": "python",
   "pygments_lexer": "ipython3",
   "version": "3.5.2"
  }
 },
 "nbformat": 4,
 "nbformat_minor": 2
}
