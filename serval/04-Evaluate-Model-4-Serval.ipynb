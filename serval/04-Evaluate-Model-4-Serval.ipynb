{
 "cells": [
  {
   "cell_type": "markdown",
   "metadata": {},
   "source": [
    "### SERVAL MODEL EVALUATION\n",
    "\n",
    "Here we will evaluate an exciting sound classification model for Sensing Clues SERVAL sound sensor.\n",
    "\n",
    "Load the holdout set.\n",
    "Create spectrograms if not already available.\n",
    "Load trained model.\n",
    "Run model against holdout set.\n",
    "Evaluate results."
   ]
  },
  {
   "cell_type": "code",
   "execution_count": 1,
   "metadata": {
    "collapsed": false
   },
   "outputs": [],
   "source": [
    "import json\n",
    "import logging\n",
    "import os\n",
    "import time\n",
    "import warnings\n",
    "import librosa\n",
    "import numpy as np\n",
    "import pandas as pd\n",
    "import pydub\n",
    "import sklearn.preprocessing\n",
    "\n",
    "from tqdm import tqdm\n",
    "\n",
    "import h5py as h5py\n",
    "\n",
    "from config import *"
   ]
  },
  {
   "cell_type": "code",
   "execution_count": 2,
   "metadata": {
    "collapsed": false
   },
   "outputs": [
    {
     "name": "stderr",
     "output_type": "stream",
     "text": [
      "INFO:__main__:Generating spectrograms...\n",
      "100%|██████████| 367/367 [00:00<00:00, 1552.47it/s]\n"
     ]
    }
   ],
   "source": [
    "# setup and prepare audio files\n",
    "np.random.seed(1)\n",
    "\n",
    "logging.basicConfig(level=logging.DEBUG)\n",
    "logger = logging.getLogger(__name__)\n",
    "\n",
    "# Load dataset labels\n",
    "meta = pd.read_csv('dataset/meta-test-data.csv')\n",
    "labels = pd.unique(meta.sort_values('category')['category'])\n",
    "le = sklearn.preprocessing.LabelEncoder()\n",
    "le.fit(labels)\n",
    "\n",
    "# Generate spectrograms\n",
    "logger.info('Generating spectrograms...')\n",
    "\n",
    "if not os.path.exists('dataset/tmp/'):\n",
    "    os.mkdir('dataset/tmp/')\n",
    "\n",
    "for row in tqdm(meta.itertuples(), total=len(meta)):\n",
    "    spec_file = 'dataset/tmp/' + row.filename + '.spec.npy'\n",
    "    audio_file = 'dataset/audio/' + row.filename\n",
    "\n",
    "    if os.path.exists(spec_file):\n",
    "        continue\n",
    "\n",
    "    audio = pydub.AudioSegment.from_file(audio_file).set_frame_rate(SAMPLING_RATE).set_channels(1)\n",
    "    audio = (np.fromstring(audio._data, dtype=\"int16\") + 0.5) / (0x7FFF + 0.5)\n",
    "\n",
    "    spec = librosa.feature.melspectrogram(audio, SAMPLING_RATE, n_fft=FFT_SIZE,\n",
    "                                          hop_length=CHUNK_SIZE, n_mels=MEL_BANDS)\n",
    "    with warnings.catch_warnings():\n",
    "        warnings.simplefilter('ignore')  # Ignore log10 zero division\n",
    "        spec = librosa.core.perceptual_weighting(spec, MEL_FREQS, amin=1e-5, ref_power=1e-5,\n",
    "                                                 top_db=None)\n",
    "\n",
    "    spec = np.clip(spec, 0, 100)\n",
    "    np.save(spec_file, spec.astype('float16'), allow_pickle=False)\n"
   ]
  },
  {
   "cell_type": "code",
   "execution_count": 3,
   "metadata": {
    "collapsed": false
   },
   "outputs": [],
   "source": [
    "# functions to build a dataset\n",
    "\n",
    "def to_one_hot(targets, class_count):\n",
    "    \"\"\"Encode target classes in a one-hot matrix.\n",
    "    \"\"\"\n",
    "    one_hot_enc = np.zeros((len(targets), class_count))\n",
    "\n",
    "    for r in range(len(targets)):\n",
    "        one_hot_enc[r, targets[r]] = 1\n",
    "\n",
    "    return one_hot_enc\n",
    "\n",
    "\n",
    "def extract_segment(filename):\n",
    "    \"\"\"Get one random segment from a recording.\n",
    "    \"\"\"\n",
    "    spec = np.load('dataset/tmp/' + filename + '.spec.npy').astype('float32')\n",
    "\n",
    "    offset = np.random.randint(0, np.shape(spec)[1] - SEGMENT_LENGTH + 1)\n",
    "    spec = spec[:, offset:offset + SEGMENT_LENGTH]\n",
    "\n",
    "    return np.stack([spec])\n",
    "\n",
    "\n",
    "def iterrows(dataframe):\n",
    "    \"\"\"Iterate over a random permutation of dataframe rows.\n",
    "    \"\"\"\n",
    "    while True:\n",
    "        for row in dataframe.iloc[np.random.permutation(len(dataframe))].itertuples():\n",
    "            yield row\n",
    "\n",
    "\n",
    "def iterbatches(batch_size, training_dataframe):\n",
    "    \"\"\"Generate training batches.\n",
    "    \"\"\"\n",
    "    itrain = iterrows(training_dataframe)\n",
    "\n",
    "    while True:\n",
    "        X, y = [], []\n",
    "\n",
    "        for i in range(batch_size):\n",
    "            row = next(itrain)\n",
    "            X.append(extract_segment(row.filename))\n",
    "            y.append(le.transform([row.category])[0])\n",
    "\n",
    "        X = np.stack(X)\n",
    "        y = to_one_hot(np.array(y), len(labels))\n",
    "        \n",
    "        # TODO why do we standardize in this way?\n",
    "        X -= AUDIO_MEAN\n",
    "        X /= AUDIO_STD\n",
    "\n",
    "        yield X, y\n"
   ]
  },
  {
   "cell_type": "code",
   "execution_count": 4,
   "metadata": {
    "collapsed": false
   },
   "outputs": [],
   "source": [
    "# Get validation data\n",
    "batch_size = 150\n",
    "\n",
    "generator = iterbatches(batch_size, meta)"
   ]
  },
  {
   "cell_type": "code",
   "execution_count": 5,
   "metadata": {
    "collapsed": false
   },
   "outputs": [],
   "source": [
    "batch = next(generator)\n"
   ]
  },
  {
   "cell_type": "code",
   "execution_count": 15,
   "metadata": {
    "collapsed": false
   },
   "outputs": [
    {
     "name": "stderr",
     "output_type": "stream",
     "text": [
      "INFO:__main__:Load model...\n",
      "DEBUG:__main__:Loaded Keras model with weights.\n"
     ]
    }
   ],
   "source": [
    "# Load model\n",
    "logger.info('Load model...')\n",
    "\n",
    "# load model\n",
    "THEANO_FLAGS = ('device=cpu,'\n",
    "                'floatX=float32,'\n",
    "                'dnn.conv.algo_bwd_filter=deterministic,'\n",
    "                'dnn.conv.algo_bwd_data=deterministic')\n",
    "\n",
    "os.environ['THEANO_FLAGS'] = THEANO_FLAGS\n",
    "os.environ['KERAS_BACKEND'] = 'theano'\n",
    "\n",
    "import keras\n",
    "keras.backend.set_image_dim_ordering('th')\n",
    "\n",
    "# open model form current directory\n",
    "with open('model.json', 'r') as file:\n",
    "    cfg = file.read()\n",
    "    model = keras.models.model_from_json(cfg)\n",
    "\n",
    "model.load_weights('model.h5')\n",
    "logger.debug('Loaded Keras model with weights.')"
   ]
  },
  {
   "cell_type": "code",
   "execution_count": 16,
   "metadata": {
    "collapsed": true
   },
   "outputs": [],
   "source": [
    "# compile model\n",
    "optimizer = keras.optimizers.SGD(lr=0.01, momentum=0.99, nesterov=True) # lr=0.001, momentum=0.9\n",
    "model.compile(loss='categorical_crossentropy', optimizer=optimizer, metrics=['accuracy'])"
   ]
  },
  {
   "cell_type": "code",
   "execution_count": null,
   "metadata": {
    "collapsed": false
   },
   "outputs": [],
   "source": [
    "model.summary()"
   ]
  },
  {
   "cell_type": "code",
   "execution_count": 17,
   "metadata": {
    "collapsed": false
   },
   "outputs": [
    {
     "name": "stdout",
     "output_type": "stream",
     "text": [
      "acc: 63.33%\n"
     ]
    }
   ],
   "source": [
    "# get data from batch\n",
    "X = batch[0]\n",
    "Y = batch[1]\n",
    "# evaluate the model\n",
    "scores = model.evaluate(X, Y, verbose=0)\n",
    "print(\"%s: %.2f%%\" % (model.metrics_names[1], scores[1]*100))"
   ]
  },
  {
   "cell_type": "code",
   "execution_count": 9,
   "metadata": {
    "collapsed": false
   },
   "outputs": [
    {
     "data": {
      "text/plain": [
       "[1.3419954506556193, 0.67333333174387611]"
      ]
     },
     "execution_count": 9,
     "metadata": {},
     "output_type": "execute_result"
    }
   ],
   "source": [
    "scores"
   ]
  },
  {
   "cell_type": "code",
   "execution_count": 10,
   "metadata": {
    "collapsed": true
   },
   "outputs": [],
   "source": [
    "# calculate predictions\n",
    "predictions = model.predict(X)"
   ]
  },
  {
   "cell_type": "code",
   "execution_count": 11,
   "metadata": {
    "collapsed": false
   },
   "outputs": [],
   "source": [
    "# class vector of predicted class indexes\n",
    "y_pred = [np.argmax(r) for r in predictions]"
   ]
  },
  {
   "cell_type": "code",
   "execution_count": 12,
   "metadata": {
    "collapsed": false
   },
   "outputs": [],
   "source": [
    "#predictions[0] == max(predictions[0])\n",
    "# from one_hot to class labels\n",
    "y_test = [np.argmax(r) for r in Y]\n"
   ]
  },
  {
   "cell_type": "code",
   "execution_count": 13,
   "metadata": {
    "collapsed": false
   },
   "outputs": [
    {
     "name": "stdout",
     "output_type": "stream",
     "text": [
      "[[61 25  0]\n",
      " [23 40  0]\n",
      " [ 0  1  0]]\n"
     ]
    }
   ],
   "source": [
    "# Confusionmatrix\n",
    "from sklearn.metrics import confusion_matrix\n",
    "    \n",
    "# Compute confusion matrix\n",
    "cnf_matrix = confusion_matrix(y_test, y_pred)\n",
    "np.set_printoptions(precision=2)\n",
    "\n",
    "print(cnf_matrix)"
   ]
  },
  {
   "cell_type": "code",
   "execution_count": 14,
   "metadata": {
    "collapsed": false,
    "scrolled": false
   },
   "outputs": [
    {
     "name": "stdout",
     "output_type": "stream",
     "text": [
      "Confusion matrix, without normalization\n"
     ]
    },
    {
     "data": {
      "image/png": "[encoded data removed]",
      "text/plain": [
       "<matplotlib.figure.Figure at 0x7efe87515780>"
      ]
     },
     "metadata": {},
     "output_type": "display_data"
    }
   ],
   "source": [
    "%matplotlib inline\n",
    "\n",
    "import itertools\n",
    "\n",
    "import matplotlib.pyplot as plt\n",
    "\n",
    "def plot_confusion_matrix(cm, classes,\n",
    "                          normalize=False,\n",
    "                          title='Confusion matrix',\n",
    "                          cmap=plt.cm.Blues):\n",
    "    \"\"\"\n",
    "    This function prints and plots the confusion matrix.\n",
    "    Normalization can be applied by setting `normalize=True`.\n",
    "    \"\"\"\n",
    "    plt.imshow(cm, interpolation='nearest', cmap=cmap)\n",
    "    plt.title(title)\n",
    "    plt.colorbar()\n",
    "    tick_marks = np.arange(len(classes))\n",
    "    plt.xticks(tick_marks, classes, rotation=90)\n",
    "    plt.yticks(tick_marks, classes)\n",
    "\n",
    "    if normalize:\n",
    "        cm = cm.astype('float') / cm.sum(axis=1)[:, np.newaxis]\n",
    "        print(\"Normalized confusion matrix\")\n",
    "    else:\n",
    "        print('Confusion matrix, without normalization')\n",
    "\n",
    "    #print(cm)\n",
    "\n",
    "    thresh = cm.max() / 2.\n",
    "    for i, j in itertools.product(range(cm.shape[0]), range(cm.shape[1])):\n",
    "        plt.text(j, i, cm[i, j],\n",
    "                 horizontalalignment=\"center\",\n",
    "                 color=\"white\" if cm[i, j] > thresh else \"black\")\n",
    "\n",
    "    plt.tight_layout()\n",
    "    plt.ylabel('True label')\n",
    "    plt.xlabel('Predicted label')\n",
    "    \n",
    "# Plot non-normalized confusion matrix\n",
    "\n",
    "# set size\n",
    "width = 10\n",
    "height = 10\n",
    "plt.figure(figsize=(width, height))\n",
    "\n",
    "#plt.figure()\n",
    "plot_confusion_matrix(cnf_matrix, classes=labels,\n",
    "                      title='Confusion matrix, without normalization')\n",
    "\n",
    "\n",
    "plt.show()"
   ]
  },
  {
   "cell_type": "code",
   "execution_count": null,
   "metadata": {
    "collapsed": true
   },
   "outputs": [],
   "source": []
  }
 ],
 "metadata": {
  "kernelspec": {
   "display_name": "Python [conda env:py35]",
   "language": "python",
   "name": "conda-env-py35-py"
  },
  "language_info": {
   "codemirror_mode": {
    "name": "ipython",
    "version": 3
   },
   "file_extension": ".py",
   "mimetype": "text/x-python",
   "name": "python",
   "nbconvert_exporter": "python",
   "pygments_lexer": "ipython3",
   "version": "3.5.2"
  }
 },
 "nbformat": 4,
 "nbformat_minor": 2
}
