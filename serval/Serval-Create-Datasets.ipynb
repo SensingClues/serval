{
 "cells": [
  {
   "cell_type": "markdown",
   "metadata": {},
   "source": [
    "## Create datasets\n",
    "\n",
    "Now from all the samples collected we create a combined training and validation set.\n",
    "\n",
    "We merge the csv file from the sources of interest and split into a trainingset and a validation set.\n",
    "\n",
    "* load all metadatasets\n",
    "* sample from them for a trainingset and a validationset\n",
    "* save those metadatasets so we can pick tehm up for traiing and evaluation"
   ]
  },
  {
   "cell_type": "code",
   "execution_count": 22,
   "metadata": {
    "collapsed": false
   },
   "outputs": [
    {
     "data": {
      "text/html": [
       "<div>\n",
       "<style>\n",
       "    .dataframe thead tr:only-child th {\n",
       "        text-align: right;\n",
       "    }\n",
       "\n",
       "    .dataframe thead th {\n",
       "        text-align: left;\n",
       "    }\n",
       "\n",
       "    .dataframe tbody tr th {\n",
       "        vertical-align: top;\n",
       "    }\n",
       "</style>\n",
       "<table border=\"1\" class=\"dataframe\">\n",
       "  <thead>\n",
       "    <tr style=\"text-align: right;\">\n",
       "      <th></th>\n",
       "      <th>filename</th>\n",
       "      <th>category</th>\n",
       "    </tr>\n",
       "  </thead>\n",
       "  <tbody>\n",
       "    <tr>\n",
       "      <th>0</th>\n",
       "      <td>1-101336-A-30.wav</td>\n",
       "      <td>door_wood_knock</td>\n",
       "    </tr>\n",
       "    <tr>\n",
       "      <th>1</th>\n",
       "      <td>1-103995-A-30.wav</td>\n",
       "      <td>door_wood_knock</td>\n",
       "    </tr>\n",
       "    <tr>\n",
       "      <th>2</th>\n",
       "      <td>1-103999-A-30.wav</td>\n",
       "      <td>door_wood_knock</td>\n",
       "    </tr>\n",
       "    <tr>\n",
       "      <th>3</th>\n",
       "      <td>1-104089-A-22.wav</td>\n",
       "      <td>clapping</td>\n",
       "    </tr>\n",
       "    <tr>\n",
       "      <th>4</th>\n",
       "      <td>1-104089-B-22.wav</td>\n",
       "      <td>clapping</td>\n",
       "    </tr>\n",
       "  </tbody>\n",
       "</table>\n",
       "</div>"
      ],
      "text/plain": [
       "            filename         category\n",
       "0  1-101336-A-30.wav  door_wood_knock\n",
       "1  1-103995-A-30.wav  door_wood_knock\n",
       "2  1-103999-A-30.wav  door_wood_knock\n",
       "3  1-104089-A-22.wav         clapping\n",
       "4  1-104089-B-22.wav         clapping"
      ]
     },
     "execution_count": 22,
     "metadata": {},
     "output_type": "execute_result"
    }
   ],
   "source": [
    "import pandas as pd\n",
    "\n",
    "# load all meta data sets\n",
    "df1 = pd.read_csv('./dataset/meta-data-esc-50-wildlife-small.csv')\n",
    "#df2 = pd.read_csv('./dataset/meta-data-elephant-listening.csv')\n",
    "#df3 = pd.read_csv('./dataset/meta-data-urban8k-relevant.csv')\n",
    "\n",
    "#frames = [df1, df2, df3]\n",
    "frames = [df1] #, df2]\n",
    "\n",
    "md = pd.concat(frames)\n",
    "md.head(5)"
   ]
  },
  {
   "cell_type": "code",
   "execution_count": 23,
   "metadata": {
    "collapsed": true
   },
   "outputs": [],
   "source": [
    "# create a train and test set\n",
    "import numpy as np\n",
    "from sklearn.model_selection import train_test_split\n",
    "\n",
    "train, test = train_test_split(md, test_size = 0.3)"
   ]
  },
  {
   "cell_type": "code",
   "execution_count": 24,
   "metadata": {
    "collapsed": false
   },
   "outputs": [],
   "source": [
    "# save \n",
    "# save the metadata for later\n",
    "train.to_csv('./dataset/meta-train-data.csv',index=False)\n",
    "test.to_csv('./dataset/meta-test-data.csv',index=False)"
   ]
  }
 ],
 "metadata": {
  "kernelspec": {
   "display_name": "Python [conda env:py35]",
   "language": "python",
   "name": "conda-env-py35-py"
  },
  "language_info": {
   "codemirror_mode": {
    "name": "ipython",
    "version": 3
   },
   "file_extension": ".py",
   "mimetype": "text/x-python",
   "name": "python",
   "nbconvert_exporter": "python",
   "pygments_lexer": "ipython3",
   "version": "3.5.2"
  }
 },
 "nbformat": 4,
 "nbformat_minor": 2
}
