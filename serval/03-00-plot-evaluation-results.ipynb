{
 "cells": [
  {
   "cell_type": "markdown",
   "metadata": {},
   "source": [
    "Here we plot results from the evaluation runs.\n",
    "\n",
    "We expect 3 csv files available.\n",
    "- dump of the aps scores\n",
    "- dump of predictions made\n",
    "- dump of ground truth labels\n",
    "\n",
    "We plot \n",
    "- average precision per class\n",
    "- the confusion matrix\n",
    "\n"
   ]
  },
  {
   "cell_type": "code",
   "execution_count": null,
   "metadata": {},
   "outputs": [],
   "source": [
    "# Set the project name (this is the folder name where the output files will be stored)\n",
    "custom_data_folder = 'amsterdam_custom_samples'"
   ]
  },
  {
   "cell_type": "code",
   "execution_count": null,
   "metadata": {},
   "outputs": [],
   "source": [
    "serval_data_folder = \"../data\""
   ]
  },
  {
   "cell_type": "code",
   "execution_count": null,
   "metadata": {},
   "outputs": [],
   "source": [
    "# class_map\n",
    "class_map = serval_data_folder + '/' + custom_data_folder + \"/csv_files/output_class_mapping.csv\"\n",
    "## class_map = \"../dataset/classlabels/csv_files/class_labels_indices_hugo.csv\"\n",
    "\n",
    "# needed in custom utils.py\n",
    "er_csv = serval_data_folder + '/' + custom_data_folder + \"/csv_files/output_serval_evaluation.csv\""
   ]
  },
  {
   "cell_type": "code",
   "execution_count": null,
   "metadata": {},
   "outputs": [],
   "source": []
  },
  {
   "cell_type": "code",
   "execution_count": null,
   "metadata": {},
   "outputs": [],
   "source": [
    "import pandas as pd\n",
    "\n",
    "# lo0ad evaluation results step 2\n",
    "df = pd.read_csv(er_csv, sep=\";\")\n",
    "#df\n",
    "df.sort_values(by=['aps'], ascending=False)\n",
    "\n",
    "dff = df.query('aps > 0.1')\n",
    "dff = dff.sort_values(by=['aps'], ascending=False)\n",
    "\n",
    "dff"
   ]
  },
  {
   "cell_type": "code",
   "execution_count": null,
   "metadata": {},
   "outputs": [],
   "source": [
    "dff.head(10)"
   ]
  },
  {
   "cell_type": "code",
   "execution_count": null,
   "metadata": {},
   "outputs": [],
   "source": [
    "%matplotlib inline\n",
    "\n",
    "import numpy as np\n",
    "import matplotlib.pyplot as plt\n",
    " \n",
    "\n",
    "\n",
    "plt.rcParams[\"figure.figsize\"] = (10,10)\n",
    " \n",
    "plt.barh(y=dff.label, width=dff.aps, align='center', alpha=0.5 )\n",
    "\n",
    "#plt.yticks(y_pos, objects)\n",
    "plt.xlabel('Precision')\n",
    "plt.title('Sound class Precision')\n",
    "\n",
    " \n",
    "plt.show()"
   ]
  },
  {
   "cell_type": "code",
   "execution_count": null,
   "metadata": {},
   "outputs": [],
   "source": [
    "import matplotlib as mpl\n",
    "print(mpl.__version__)"
   ]
  },
  {
   "cell_type": "code",
   "execution_count": null,
   "metadata": {},
   "outputs": [],
   "source": [
    "# load the saved data\n",
    "from numpy import genfromtxt\n",
    "p = genfromtxt('predictions.csv', delimiter=',')\n",
    "l = genfromtxt('labels.csv', delimiter=',')"
   ]
  },
  {
   "cell_type": "code",
   "execution_count": null,
   "metadata": {},
   "outputs": [],
   "source": [
    "from sklearn.metrics import confusion_matrix\n",
    "import numpy as np\n",
    "\n",
    "p.shape[1]\n",
    "\n",
    "def buildCM(p,l, cutoff=0.3) :\n",
    "    # check if square\n",
    "    if p.shape[1] != l.shape[1] :\n",
    "        return\n",
    "    cm = np.zeros((p.shape[1],l.shape[1]))\n",
    "    # now fill\n",
    "    for r in range(p.shape[0]):\n",
    "        # for every example\n",
    "        for i in range(p.shape[1]):\n",
    "            # for every prediction\n",
    "            for j in range(l.shape[1]):\n",
    "                # check every combination\n",
    "                if l[r][j] == 1.0 and p[r][i] > cutoff :\n",
    "                    cm[i,j] += 1\n",
    "\n",
    "    return cm\n",
    "\n",
    "cm = buildCM(p,l, 0.3)"
   ]
  },
  {
   "cell_type": "code",
   "execution_count": null,
   "metadata": {},
   "outputs": [],
   "source": [
    "if False:\n",
    "    for r in range(p.shape[0]):\n",
    "        #print(p[r][0])\n",
    "        for i in l[r] :\n",
    "            print(i)"
   ]
  },
  {
   "cell_type": "code",
   "execution_count": null,
   "metadata": {},
   "outputs": [],
   "source": [
    "# total numer of cases evaluated\n",
    "cm.sum()"
   ]
  },
  {
   "cell_type": "code",
   "execution_count": null,
   "metadata": {},
   "outputs": [],
   "source": [
    "# import some adepted custom serval modules\n",
    "import sys\n",
    "sys.path.append('./custom_serval_code')\n",
    "\n",
    "from utils_confusion_matrix import get_labels\n",
    "\n",
    "# HK  get ground truth\n",
    "ground_thruth = get_labels(class_map)\n",
    "labels = ground_thruth.values()"
   ]
  },
  {
   "cell_type": "code",
   "execution_count": null,
   "metadata": {},
   "outputs": [],
   "source": [
    "%matplotlib inline\n",
    "\n",
    "from textwrap import wrap\n",
    "import re\n",
    "import itertools\n",
    "import matplotlib\n",
    "\n",
    "import matplotlib.pyplot as plt\n",
    "\n",
    "normalize = True\n",
    "\n",
    "if normalize:\n",
    "    #cm = cm.astype('float')*10 / cm.sum(axis=1)[:, np.newaxis]\n",
    "    cm = np.nan_to_num(cm, copy=True)\n",
    "    cm = cm.astype('int')\n",
    "\n",
    "np.set_printoptions(precision=2)\n",
    "###fig, ax = matplotlib.figure.Figure()\n",
    "\n",
    "#fig = matplotlib.figure.Figure(figsize=(7, 7), dpi=320, facecolor='w', edgecolor='k')\n",
    "fig = plt.figure(figsize=(7, 7), dpi=320)\n",
    "ax = fig.add_subplot(1, 1, 1)\n",
    "im = ax.imshow(cm, cmap='Oranges')\n",
    "\n",
    "classes = [re.sub(r'([a-z](?=[A-Z])|[A-Z](?=[A-Z][a-z]))', r'\\1 ', x) for x in labels]\n",
    "classes = ['\\n'.join(wrap(l, 40)) for l in classes]\n",
    "\n",
    "tick_marks = np.arange(len(classes))\n",
    "\n",
    "ax.set_xlabel('Predicted', fontsize=7)\n",
    "ax.set_xticks(tick_marks)\n",
    "c = ax.set_xticklabels(classes, fontsize=4, rotation=-90,  ha='center')\n",
    "ax.xaxis.set_label_position('bottom')\n",
    "ax.xaxis.tick_bottom()\n",
    "\n",
    "ax.set_ylabel('True Label', fontsize=7)\n",
    "ax.set_yticks(tick_marks)\n",
    "ax.set_yticklabels(classes, fontsize=4, va ='center')\n",
    "ax.yaxis.set_label_position('left')\n",
    "ax.yaxis.tick_left()\n",
    "\n",
    "for i, j in itertools.product(range(cm.shape[0]), range(cm.shape[1])):\n",
    "    ax.text(j, i, format(cm[i, j], 'd') if cm[i,j]!=0 else '.', horizontalalignment=\"center\", fontsize=6, verticalalignment='center', color= \"black\")\n",
    "fig.set_tight_layout(True)\n",
    "\n"
   ]
  },
  {
   "cell_type": "code",
   "execution_count": null,
   "metadata": {},
   "outputs": [],
   "source": []
  }
 ],
 "metadata": {
  "kernelspec": {
   "display_name": "Python 3",
   "language": "python",
   "name": "python3"
  },
  "language_info": {
   "codemirror_mode": {
    "name": "ipython",
    "version": 3
   },
   "file_extension": ".py",
   "mimetype": "text/x-python",
   "name": "python",
   "nbconvert_exporter": "python",
   "pygments_lexer": "ipython3",
   "version": "3.7.6"
  }
 },
 "nbformat": 4,
 "nbformat_minor": 4
}
