{
 "cells": [
  {
   "cell_type": "code",
   "execution_count": null,
   "metadata": {},
   "outputs": [],
   "source": [
    "## Import packages\n",
    "import os\n",
    "import csv\n",
    "import random\n",
    "import math\n",
    "import ntpath\n",
    "import numpy as np\n",
    "import pandas as pd\n",
    "import time\n",
    "from pathlib import Path\n",
    "from scipy.io import wavfile\n",
    "from tqdm import tqdm\n",
    "\n",
    "import tensorflow as tf\n",
    "from tensorflow import gfile\n",
    "from tensorflow import logging"
   ]
  },
  {
   "cell_type": "code",
   "execution_count": null,
   "metadata": {},
   "outputs": [],
   "source": []
  },
  {
   "cell_type": "code",
   "execution_count": null,
   "metadata": {},
   "outputs": [],
   "source": [
    "serval_data_folder = \"../data\""
   ]
  },
  {
   "cell_type": "code",
   "execution_count": null,
   "metadata": {},
   "outputs": [],
   "source": [
    "input_wav_samples_folder                     = serval_data_folder + \"/wav_samples_custom\"\n",
    "wav_samples_custom_labels_csv                = input_wav_samples_folder + \"/wav_samples_custom_labels.csv\"\n",
    "target_wav_samples_custom_all_enumerated_csv = serval_data_folder + \"/wav_samples_custom/wav_samples_custom_all_enumerated_and_labeled.csv\""
   ]
  },
  {
   "cell_type": "code",
   "execution_count": null,
   "metadata": {},
   "outputs": [],
   "source": []
  },
  {
   "cell_type": "code",
   "execution_count": null,
   "metadata": {},
   "outputs": [],
   "source": [
    "# read class labels\n",
    "df_class_labels = pd.read_csv(wav_samples_custom_labels_csv, sep=\";\")\n",
    "display(df_class_labels)"
   ]
  },
  {
   "cell_type": "code",
   "execution_count": null,
   "metadata": {},
   "outputs": [],
   "source": []
  },
  {
   "cell_type": "code",
   "execution_count": null,
   "metadata": {},
   "outputs": [],
   "source": [
    "# Enumerate all the available wav files, label them and store a data-frame of the result\n",
    "def collectAndLabelSamples(full_path_name, label, mid, source, display_name):\n",
    "    ## Read and rewrite all test files\n",
    "    files = gfile.Glob(str(full_path_name + \"/*.wav\"))\n",
    "    \n",
    "    df = pd.DataFrame(columns=['label', 'mid', 'display_name', 'source', 'filename', 'filepath'])\n",
    "    for file in tqdm(files):\n",
    "        df_row = pd.DataFrame({'label':[label], \n",
    "                               'mid':[mid], \n",
    "                               'display_name':[display_name], \n",
    "                               'source':source, \n",
    "                               'filename':[ntpath.basename(file)],\n",
    "                               'filepath':[file]})\n",
    "        df = df.append(df_row, ignore_index = True)\n",
    "    return(df)"
   ]
  },
  {
   "cell_type": "code",
   "execution_count": null,
   "metadata": {},
   "outputs": [],
   "source": []
  },
  {
   "cell_type": "code",
   "execution_count": null,
   "metadata": {},
   "outputs": [],
   "source": [
    "## Enumerate all custom wav-files and label them\n",
    "df_all_wav_samples = pd.DataFrame(columns=['label', 'mid', 'display_name', 'source', 'filename', 'filepath'])\n",
    "for index, row in df_class_labels.iterrows():\n",
    "    if row['enabled'] == 1:\n",
    "        print('Processing record ', index, '; label=', row.label, ', description=', row.description, ', path=', row.folder_name, sep='')\n",
    "        df_row = collectAndLabelSamples(input_wav_samples_folder + '/' + row.folder_name, \n",
    "                                        row.label,\n",
    "                                        row.mid,\n",
    "                                        row.source,\n",
    "                                        row.description)\n",
    "        df_all_wav_samples = df_all_wav_samples.append(df_row, ignore_index = True)\n",
    "    else:\n",
    "        print('Skipping record ', index, '; label=', row.label, ', description=', row.description, ', path=', row.folder_name, sep='')"
   ]
  },
  {
   "cell_type": "code",
   "execution_count": null,
   "metadata": {},
   "outputs": [],
   "source": [
    "## Write df_all_wav_samples to csv\n",
    "df_all_wav_samples.to_csv(target_wav_samples_custom_all_enumerated_csv, sep=';')"
   ]
  },
  {
   "cell_type": "code",
   "execution_count": null,
   "metadata": {},
   "outputs": [],
   "source": [
    "display(df_all_wav_samples.head())\n",
    "display(df_all_wav_samples.groupby(['label', 'mid', 'display_name']).agg(['nunique']))\n",
    "display(df_all_wav_samples.agg(['nunique']))"
   ]
  },
  {
   "cell_type": "code",
   "execution_count": null,
   "metadata": {},
   "outputs": [],
   "source": []
  },
  {
   "cell_type": "code",
   "execution_count": null,
   "metadata": {
    "scrolled": true
   },
   "outputs": [],
   "source": []
  },
  {
   "cell_type": "code",
   "execution_count": null,
   "metadata": {},
   "outputs": [],
   "source": []
  },
  {
   "cell_type": "code",
   "execution_count": null,
   "metadata": {},
   "outputs": [],
   "source": []
  },
  {
   "cell_type": "code",
   "execution_count": null,
   "metadata": {},
   "outputs": [],
   "source": []
  },
  {
   "cell_type": "code",
   "execution_count": null,
   "metadata": {
    "scrolled": true
   },
   "outputs": [],
   "source": []
  },
  {
   "cell_type": "code",
   "execution_count": null,
   "metadata": {},
   "outputs": [],
   "source": []
  },
  {
   "cell_type": "code",
   "execution_count": null,
   "metadata": {},
   "outputs": [],
   "source": []
  },
  {
   "cell_type": "code",
   "execution_count": null,
   "metadata": {},
   "outputs": [],
   "source": []
  },
  {
   "cell_type": "code",
   "execution_count": null,
   "metadata": {},
   "outputs": [],
   "source": []
  },
  {
   "cell_type": "code",
   "execution_count": null,
   "metadata": {},
   "outputs": [],
   "source": []
  }
 ],
 "metadata": {
  "kernelspec": {
   "display_name": "Python 3",
   "language": "python",
   "name": "python3"
  },
  "language_info": {
   "codemirror_mode": {
    "name": "ipython",
    "version": 3
   },
   "file_extension": ".py",
   "mimetype": "text/x-python",
   "name": "python",
   "nbconvert_exporter": "python",
   "pygments_lexer": "ipython3",
   "version": "3.7.6"
  }
 },
 "nbformat": 4,
 "nbformat_minor": 4
}
