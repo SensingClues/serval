{
 "cells": [
  {
   "cell_type": "code",
   "execution_count": 1,
   "metadata": {},
   "outputs": [],
   "source": [
    "## Import packages\n",
    "import os\n",
    "import csv\n",
    "import random\n",
    "import math\n",
    "import ntpath\n",
    "import numpy as np\n",
    "import pandas as pd\n",
    "import time\n",
    "from pathlib import Path\n",
    "from scipy.io import wavfile\n",
    "from tqdm import tqdm\n",
    "\n",
    "import tensorflow as tf\n",
    "from tensorflow import gfile\n",
    "from tensorflow import logging"
   ]
  },
  {
   "cell_type": "code",
   "execution_count": null,
   "metadata": {},
   "outputs": [],
   "source": []
  },
  {
   "cell_type": "code",
   "execution_count": 2,
   "metadata": {},
   "outputs": [],
   "source": [
    "serval_data_folder = \"../data\""
   ]
  },
  {
   "cell_type": "code",
   "execution_count": 3,
   "metadata": {},
   "outputs": [],
   "source": [
    "input_wav_samples_folder                     = serval_data_folder + \"/wav_samples_custom\"\n",
    "wav_samples_custom_labels_csv                = input_wav_samples_folder + \"/wav_samples_custom_labels.csv\"\n",
    "target_wav_samples_custom_all_enumerated_csv = serval_data_folder + \"/wav_samples_custom/wav_samples_custom_all_enumerated_and_labeled.csv\""
   ]
  },
  {
   "cell_type": "code",
   "execution_count": null,
   "metadata": {},
   "outputs": [],
   "source": []
  },
  {
   "cell_type": "code",
   "execution_count": 4,
   "metadata": {},
   "outputs": [
    {
     "data": {
      "text/html": [
       "<div>\n",
       "<style scoped>\n",
       "    .dataframe tbody tr th:only-of-type {\n",
       "        vertical-align: middle;\n",
       "    }\n",
       "\n",
       "    .dataframe tbody tr th {\n",
       "        vertical-align: top;\n",
       "    }\n",
       "\n",
       "    .dataframe thead th {\n",
       "        text-align: right;\n",
       "    }\n",
       "</style>\n",
       "<table border=\"1\" class=\"dataframe\">\n",
       "  <thead>\n",
       "    <tr style=\"text-align: right;\">\n",
       "      <th></th>\n",
       "      <th>label</th>\n",
       "      <th>mid</th>\n",
       "      <th>folder_name</th>\n",
       "      <th>description</th>\n",
       "      <th>enabled</th>\n",
       "      <th>source</th>\n",
       "    </tr>\n",
       "  </thead>\n",
       "  <tbody>\n",
       "    <tr>\n",
       "      <th>0</th>\n",
       "      <td>1000</td>\n",
       "      <td>/c/a_1000</td>\n",
       "      <td>0_silence</td>\n",
       "      <td>Silence</td>\n",
       "      <td>1</td>\n",
       "      <td>custom_amsterdam_sample</td>\n",
       "    </tr>\n",
       "    <tr>\n",
       "      <th>1</th>\n",
       "      <td>1001</td>\n",
       "      <td>/c/a_1001</td>\n",
       "      <td>556_gunshots</td>\n",
       "      <td>556 gunshots</td>\n",
       "      <td>1</td>\n",
       "      <td>custom_amsterdam_sample</td>\n",
       "    </tr>\n",
       "    <tr>\n",
       "      <th>2</th>\n",
       "      <td>1002</td>\n",
       "      <td>/c/a_1002</td>\n",
       "      <td>a_brommer_alarms</td>\n",
       "      <td>Brommer Alarm</td>\n",
       "      <td>1</td>\n",
       "      <td>custom_amsterdam_sample</td>\n",
       "    </tr>\n",
       "    <tr>\n",
       "      <th>3</th>\n",
       "      <td>1003</td>\n",
       "      <td>/c/a_1003</td>\n",
       "      <td>b_brommers</td>\n",
       "      <td>Brommer</td>\n",
       "      <td>1</td>\n",
       "      <td>custom_amsterdam_sample</td>\n",
       "    </tr>\n",
       "    <tr>\n",
       "      <th>4</th>\n",
       "      <td>1004</td>\n",
       "      <td>/c/a_1004</td>\n",
       "      <td>c_claxons</td>\n",
       "      <td>Claxons</td>\n",
       "      <td>1</td>\n",
       "      <td>custom_amsterdam_sample</td>\n",
       "    </tr>\n",
       "    <tr>\n",
       "      <th>5</th>\n",
       "      <td>1005</td>\n",
       "      <td>/c/a_1005</td>\n",
       "      <td>k_dichtklappende_autodeuren</td>\n",
       "      <td>Dichtklappende autodeuren</td>\n",
       "      <td>1</td>\n",
       "      <td>custom_amsterdam_sample</td>\n",
       "    </tr>\n",
       "    <tr>\n",
       "      <th>6</th>\n",
       "      <td>1006</td>\n",
       "      <td>/c/a_1006</td>\n",
       "      <td>m_luide_mensen_schreeuwen_en_zo</td>\n",
       "      <td>Luide mensen (schreeuwen, enz)</td>\n",
       "      <td>1</td>\n",
       "      <td>custom_amsterdam_sample</td>\n",
       "    </tr>\n",
       "    <tr>\n",
       "      <th>7</th>\n",
       "      <td>1007</td>\n",
       "      <td>/c/a_1007</td>\n",
       "      <td>o_motoren</td>\n",
       "      <td>Motoren</td>\n",
       "      <td>1</td>\n",
       "      <td>custom_amsterdam_sample</td>\n",
       "    </tr>\n",
       "    <tr>\n",
       "      <th>8</th>\n",
       "      <td>1008</td>\n",
       "      <td>/c/a_1008</td>\n",
       "      <td>t_terrasgeluiden</td>\n",
       "      <td>Terrasgeluide (stille mensen)</td>\n",
       "      <td>1</td>\n",
       "      <td>custom_amsterdam_sample</td>\n",
       "    </tr>\n",
       "    <tr>\n",
       "      <th>9</th>\n",
       "      <td>1009</td>\n",
       "      <td>/c/a_1009</td>\n",
       "      <td>v_versterkte_muziek</td>\n",
       "      <td>Versterkte muziek</td>\n",
       "      <td>1</td>\n",
       "      <td>custom_amsterdam_sample</td>\n",
       "    </tr>\n",
       "  </tbody>\n",
       "</table>\n",
       "</div>"
      ],
      "text/plain": [
       "   label        mid                      folder_name  \\\n",
       "0   1000  /c/a_1000                        0_silence   \n",
       "1   1001  /c/a_1001                     556_gunshots   \n",
       "2   1002  /c/a_1002                 a_brommer_alarms   \n",
       "3   1003  /c/a_1003                       b_brommers   \n",
       "4   1004  /c/a_1004                        c_claxons   \n",
       "5   1005  /c/a_1005      k_dichtklappende_autodeuren   \n",
       "6   1006  /c/a_1006  m_luide_mensen_schreeuwen_en_zo   \n",
       "7   1007  /c/a_1007                        o_motoren   \n",
       "8   1008  /c/a_1008                 t_terrasgeluiden   \n",
       "9   1009  /c/a_1009              v_versterkte_muziek   \n",
       "\n",
       "                      description  enabled                   source  \n",
       "0                         Silence        1  custom_amsterdam_sample  \n",
       "1                    556 gunshots        1  custom_amsterdam_sample  \n",
       "2                   Brommer Alarm        1  custom_amsterdam_sample  \n",
       "3                         Brommer        1  custom_amsterdam_sample  \n",
       "4                         Claxons        1  custom_amsterdam_sample  \n",
       "5       Dichtklappende autodeuren        1  custom_amsterdam_sample  \n",
       "6  Luide mensen (schreeuwen, enz)        1  custom_amsterdam_sample  \n",
       "7                         Motoren        1  custom_amsterdam_sample  \n",
       "8   Terrasgeluide (stille mensen)        1  custom_amsterdam_sample  \n",
       "9               Versterkte muziek        1  custom_amsterdam_sample  "
      ]
     },
     "metadata": {},
     "output_type": "display_data"
    }
   ],
   "source": [
    "# read class labels\n",
    "df_class_labels = pd.read_csv(wav_samples_custom_labels_csv, sep=\";\")\n",
    "display(df_class_labels)"
   ]
  },
  {
   "cell_type": "code",
   "execution_count": null,
   "metadata": {},
   "outputs": [],
   "source": []
  },
  {
   "cell_type": "code",
   "execution_count": 5,
   "metadata": {},
   "outputs": [],
   "source": [
    "# Enumerate all the available wav files, label them and store a data-frame of the result\n",
    "def collectAndLabelSamples(full_path_name, label, mid, source, display_name):\n",
    "    ## Read and rewrite all test files\n",
    "    files = gfile.Glob(str(full_path_name + \"/*.wav\"))\n",
    "    \n",
    "    df = pd.DataFrame(columns=['label', 'mid', 'display_name', 'source', 'filename', 'filepath'])\n",
    "    for file in tqdm(files):\n",
    "        df_row = pd.DataFrame({'label':[label], \n",
    "                               'mid':[mid], \n",
    "                               'display_name':[display_name], \n",
    "                               'source':source, \n",
    "                               'filename':[ntpath.basename(file)],\n",
    "                               'filepath':[file]})\n",
    "        df = df.append(df_row, ignore_index = True)\n",
    "    return(df)"
   ]
  },
  {
   "cell_type": "code",
   "execution_count": null,
   "metadata": {},
   "outputs": [],
   "source": []
  },
  {
   "cell_type": "code",
   "execution_count": 6,
   "metadata": {},
   "outputs": [
    {
     "name": "stderr",
     "output_type": "stream",
     "text": [
      "100%|██████████| 30/30 [00:00<00:00, 860.08it/s]\n",
      " 10%|█         | 90/876 [00:00<00:00, 892.93it/s]"
     ]
    },
    {
     "name": "stdout",
     "output_type": "stream",
     "text": [
      "Processing record 0; label=1000, description=Silence, path=0_silence\n",
      "Processing record 1; label=1001, description=556 gunshots, path=556_gunshots\n"
     ]
    },
    {
     "name": "stderr",
     "output_type": "stream",
     "text": [
      "100%|██████████| 876/876 [00:01<00:00, 844.96it/s]\n",
      "100%|██████████| 23/23 [00:00<00:00, 873.91it/s]\n",
      " 11%|█         | 89/812 [00:00<00:00, 881.81it/s]"
     ]
    },
    {
     "name": "stdout",
     "output_type": "stream",
     "text": [
      "Processing record 2; label=1002, description=Brommer Alarm, path=a_brommer_alarms\n",
      "Processing record 3; label=1003, description=Brommer, path=b_brommers\n"
     ]
    },
    {
     "name": "stderr",
     "output_type": "stream",
     "text": [
      "100%|██████████| 812/812 [00:00<00:00, 866.15it/s]\n",
      "100%|██████████| 132/132 [00:00<00:00, 897.62it/s]\n",
      "  0%|          | 0/164 [00:00<?, ?it/s]"
     ]
    },
    {
     "name": "stdout",
     "output_type": "stream",
     "text": [
      "Processing record 4; label=1004, description=Claxons, path=c_claxons\n",
      "Processing record 5; label=1005, description=Dichtklappende autodeuren, path=k_dichtklappende_autodeuren\n"
     ]
    },
    {
     "name": "stderr",
     "output_type": "stream",
     "text": [
      "100%|██████████| 164/164 [00:00<00:00, 867.87it/s]\n",
      " 14%|█▎        | 87/634 [00:00<00:00, 865.58it/s]"
     ]
    },
    {
     "name": "stdout",
     "output_type": "stream",
     "text": [
      "Processing record 6; label=1006, description=Luide mensen (schreeuwen, enz), path=m_luide_mensen_schreeuwen_en_zo\n"
     ]
    },
    {
     "name": "stderr",
     "output_type": "stream",
     "text": [
      "100%|██████████| 634/634 [00:00<00:00, 860.76it/s]\n",
      "100%|██████████| 51/51 [00:00<00:00, 897.05it/s]\n",
      " 16%|█▌        | 85/536 [00:00<00:00, 842.56it/s]"
     ]
    },
    {
     "name": "stdout",
     "output_type": "stream",
     "text": [
      "Processing record 7; label=1007, description=Motoren, path=o_motoren\n",
      "Processing record 8; label=1008, description=Terrasgeluide (stille mensen), path=t_terrasgeluiden\n"
     ]
    },
    {
     "name": "stderr",
     "output_type": "stream",
     "text": [
      "100%|██████████| 536/536 [00:00<00:00, 866.33it/s]\n",
      "100%|██████████| 34/34 [00:00<00:00, 909.73it/s]"
     ]
    },
    {
     "name": "stdout",
     "output_type": "stream",
     "text": [
      "Processing record 9; label=1009, description=Versterkte muziek, path=v_versterkte_muziek\n"
     ]
    },
    {
     "name": "stderr",
     "output_type": "stream",
     "text": [
      "\n"
     ]
    }
   ],
   "source": [
    "## Enumerate all custom wav-files and label them\n",
    "df_all_wav_samples = pd.DataFrame(columns=['label', 'mid', 'display_name', 'source', 'filename', 'filepath'])\n",
    "for index, row in df_class_labels.iterrows():\n",
    "    if row['enabled'] == 1:\n",
    "        print('Processing record ', index, '; label=', row.label, ', description=', row.description, ', path=', row.folder_name, sep='')\n",
    "        df_row = collectAndLabelSamples(input_wav_samples_folder + '/' + row.folder_name, \n",
    "                                        row.label,\n",
    "                                        row.mid,\n",
    "                                        row.source,\n",
    "                                        row.description)\n",
    "        df_all_wav_samples = df_all_wav_samples.append(df_row, ignore_index = True)\n",
    "    else:\n",
    "        print('Skipping record ', index, '; label=', row.label, ', description=', row.description, ', path=', row.folder_name, sep='')"
   ]
  },
  {
   "cell_type": "code",
   "execution_count": 7,
   "metadata": {},
   "outputs": [],
   "source": [
    "## Write df_all_wav_samples to csv\n",
    "df_all_wav_samples.to_csv(target_wav_samples_custom_all_enumerated_csv, sep=';')"
   ]
  },
  {
   "cell_type": "code",
   "execution_count": 8,
   "metadata": {},
   "outputs": [
    {
     "data": {
      "text/html": [
       "<div>\n",
       "<style scoped>\n",
       "    .dataframe tbody tr th:only-of-type {\n",
       "        vertical-align: middle;\n",
       "    }\n",
       "\n",
       "    .dataframe tbody tr th {\n",
       "        vertical-align: top;\n",
       "    }\n",
       "\n",
       "    .dataframe thead th {\n",
       "        text-align: right;\n",
       "    }\n",
       "</style>\n",
       "<table border=\"1\" class=\"dataframe\">\n",
       "  <thead>\n",
       "    <tr style=\"text-align: right;\">\n",
       "      <th></th>\n",
       "      <th>label</th>\n",
       "      <th>mid</th>\n",
       "      <th>display_name</th>\n",
       "      <th>source</th>\n",
       "      <th>filename</th>\n",
       "      <th>filepath</th>\n",
       "    </tr>\n",
       "  </thead>\n",
       "  <tbody>\n",
       "    <tr>\n",
       "      <th>0</th>\n",
       "      <td>1000</td>\n",
       "      <td>/c/a_1000</td>\n",
       "      <td>Silence</td>\n",
       "      <td>custom_amsterdam_sample</td>\n",
       "      <td>silence_02 (copy 3).wav</td>\n",
       "      <td>../data/wav_samples_custom/0_silence/silence_0...</td>\n",
       "    </tr>\n",
       "    <tr>\n",
       "      <th>1</th>\n",
       "      <td>1000</td>\n",
       "      <td>/c/a_1000</td>\n",
       "      <td>Silence</td>\n",
       "      <td>custom_amsterdam_sample</td>\n",
       "      <td>silence_05 (copy 4).wav</td>\n",
       "      <td>../data/wav_samples_custom/0_silence/silence_0...</td>\n",
       "    </tr>\n",
       "    <tr>\n",
       "      <th>2</th>\n",
       "      <td>1000</td>\n",
       "      <td>/c/a_1000</td>\n",
       "      <td>Silence</td>\n",
       "      <td>custom_amsterdam_sample</td>\n",
       "      <td>silence_03 (copy 4).wav</td>\n",
       "      <td>../data/wav_samples_custom/0_silence/silence_0...</td>\n",
       "    </tr>\n",
       "    <tr>\n",
       "      <th>3</th>\n",
       "      <td>1000</td>\n",
       "      <td>/c/a_1000</td>\n",
       "      <td>Silence</td>\n",
       "      <td>custom_amsterdam_sample</td>\n",
       "      <td>silence_05 (copy 5).wav</td>\n",
       "      <td>../data/wav_samples_custom/0_silence/silence_0...</td>\n",
       "    </tr>\n",
       "    <tr>\n",
       "      <th>4</th>\n",
       "      <td>1000</td>\n",
       "      <td>/c/a_1000</td>\n",
       "      <td>Silence</td>\n",
       "      <td>custom_amsterdam_sample</td>\n",
       "      <td>silence_04 (copy 5).wav</td>\n",
       "      <td>../data/wav_samples_custom/0_silence/silence_0...</td>\n",
       "    </tr>\n",
       "  </tbody>\n",
       "</table>\n",
       "</div>"
      ],
      "text/plain": [
       "  label        mid display_name                   source  \\\n",
       "0  1000  /c/a_1000      Silence  custom_amsterdam_sample   \n",
       "1  1000  /c/a_1000      Silence  custom_amsterdam_sample   \n",
       "2  1000  /c/a_1000      Silence  custom_amsterdam_sample   \n",
       "3  1000  /c/a_1000      Silence  custom_amsterdam_sample   \n",
       "4  1000  /c/a_1000      Silence  custom_amsterdam_sample   \n",
       "\n",
       "                  filename                                           filepath  \n",
       "0  silence_02 (copy 3).wav  ../data/wav_samples_custom/0_silence/silence_0...  \n",
       "1  silence_05 (copy 4).wav  ../data/wav_samples_custom/0_silence/silence_0...  \n",
       "2  silence_03 (copy 4).wav  ../data/wav_samples_custom/0_silence/silence_0...  \n",
       "3  silence_05 (copy 5).wav  ../data/wav_samples_custom/0_silence/silence_0...  \n",
       "4  silence_04 (copy 5).wav  ../data/wav_samples_custom/0_silence/silence_0...  "
      ]
     },
     "metadata": {},
     "output_type": "display_data"
    },
    {
     "data": {
      "text/html": [
       "<div>\n",
       "<style scoped>\n",
       "    .dataframe tbody tr th:only-of-type {\n",
       "        vertical-align: middle;\n",
       "    }\n",
       "\n",
       "    .dataframe tbody tr th {\n",
       "        vertical-align: top;\n",
       "    }\n",
       "\n",
       "    .dataframe thead tr th {\n",
       "        text-align: left;\n",
       "    }\n",
       "\n",
       "    .dataframe thead tr:last-of-type th {\n",
       "        text-align: right;\n",
       "    }\n",
       "</style>\n",
       "<table border=\"1\" class=\"dataframe\">\n",
       "  <thead>\n",
       "    <tr>\n",
       "      <th></th>\n",
       "      <th></th>\n",
       "      <th></th>\n",
       "      <th>source</th>\n",
       "      <th>filename</th>\n",
       "      <th>filepath</th>\n",
       "    </tr>\n",
       "    <tr>\n",
       "      <th></th>\n",
       "      <th></th>\n",
       "      <th></th>\n",
       "      <th>nunique</th>\n",
       "      <th>nunique</th>\n",
       "      <th>nunique</th>\n",
       "    </tr>\n",
       "    <tr>\n",
       "      <th>label</th>\n",
       "      <th>mid</th>\n",
       "      <th>display_name</th>\n",
       "      <th></th>\n",
       "      <th></th>\n",
       "      <th></th>\n",
       "    </tr>\n",
       "  </thead>\n",
       "  <tbody>\n",
       "    <tr>\n",
       "      <th>1000</th>\n",
       "      <th>/c/a_1000</th>\n",
       "      <th>Silence</th>\n",
       "      <td>1</td>\n",
       "      <td>30</td>\n",
       "      <td>30</td>\n",
       "    </tr>\n",
       "    <tr>\n",
       "      <th>1001</th>\n",
       "      <th>/c/a_1001</th>\n",
       "      <th>556 gunshots</th>\n",
       "      <td>1</td>\n",
       "      <td>876</td>\n",
       "      <td>876</td>\n",
       "    </tr>\n",
       "    <tr>\n",
       "      <th>1002</th>\n",
       "      <th>/c/a_1002</th>\n",
       "      <th>Brommer Alarm</th>\n",
       "      <td>1</td>\n",
       "      <td>23</td>\n",
       "      <td>23</td>\n",
       "    </tr>\n",
       "    <tr>\n",
       "      <th>1003</th>\n",
       "      <th>/c/a_1003</th>\n",
       "      <th>Brommer</th>\n",
       "      <td>1</td>\n",
       "      <td>812</td>\n",
       "      <td>812</td>\n",
       "    </tr>\n",
       "    <tr>\n",
       "      <th>1004</th>\n",
       "      <th>/c/a_1004</th>\n",
       "      <th>Claxons</th>\n",
       "      <td>1</td>\n",
       "      <td>132</td>\n",
       "      <td>132</td>\n",
       "    </tr>\n",
       "    <tr>\n",
       "      <th>1005</th>\n",
       "      <th>/c/a_1005</th>\n",
       "      <th>Dichtklappende autodeuren</th>\n",
       "      <td>1</td>\n",
       "      <td>164</td>\n",
       "      <td>164</td>\n",
       "    </tr>\n",
       "    <tr>\n",
       "      <th>1006</th>\n",
       "      <th>/c/a_1006</th>\n",
       "      <th>Luide mensen (schreeuwen, enz)</th>\n",
       "      <td>1</td>\n",
       "      <td>634</td>\n",
       "      <td>634</td>\n",
       "    </tr>\n",
       "    <tr>\n",
       "      <th>1007</th>\n",
       "      <th>/c/a_1007</th>\n",
       "      <th>Motoren</th>\n",
       "      <td>1</td>\n",
       "      <td>51</td>\n",
       "      <td>51</td>\n",
       "    </tr>\n",
       "    <tr>\n",
       "      <th>1008</th>\n",
       "      <th>/c/a_1008</th>\n",
       "      <th>Terrasgeluide (stille mensen)</th>\n",
       "      <td>1</td>\n",
       "      <td>536</td>\n",
       "      <td>536</td>\n",
       "    </tr>\n",
       "    <tr>\n",
       "      <th>1009</th>\n",
       "      <th>/c/a_1009</th>\n",
       "      <th>Versterkte muziek</th>\n",
       "      <td>1</td>\n",
       "      <td>34</td>\n",
       "      <td>34</td>\n",
       "    </tr>\n",
       "  </tbody>\n",
       "</table>\n",
       "</div>"
      ],
      "text/plain": [
       "                                                source filename filepath\n",
       "                                               nunique  nunique  nunique\n",
       "label mid       display_name                                            \n",
       "1000  /c/a_1000 Silence                              1       30       30\n",
       "1001  /c/a_1001 556 gunshots                         1      876      876\n",
       "1002  /c/a_1002 Brommer Alarm                        1       23       23\n",
       "1003  /c/a_1003 Brommer                              1      812      812\n",
       "1004  /c/a_1004 Claxons                              1      132      132\n",
       "1005  /c/a_1005 Dichtklappende autodeuren            1      164      164\n",
       "1006  /c/a_1006 Luide mensen (schreeuwen, enz)       1      634      634\n",
       "1007  /c/a_1007 Motoren                              1       51       51\n",
       "1008  /c/a_1008 Terrasgeluide (stille mensen)        1      536      536\n",
       "1009  /c/a_1009 Versterkte muziek                    1       34       34"
      ]
     },
     "metadata": {},
     "output_type": "display_data"
    },
    {
     "data": {
      "text/html": [
       "<div>\n",
       "<style scoped>\n",
       "    .dataframe tbody tr th:only-of-type {\n",
       "        vertical-align: middle;\n",
       "    }\n",
       "\n",
       "    .dataframe tbody tr th {\n",
       "        vertical-align: top;\n",
       "    }\n",
       "\n",
       "    .dataframe thead th {\n",
       "        text-align: right;\n",
       "    }\n",
       "</style>\n",
       "<table border=\"1\" class=\"dataframe\">\n",
       "  <thead>\n",
       "    <tr style=\"text-align: right;\">\n",
       "      <th></th>\n",
       "      <th>label</th>\n",
       "      <th>mid</th>\n",
       "      <th>display_name</th>\n",
       "      <th>source</th>\n",
       "      <th>filename</th>\n",
       "      <th>filepath</th>\n",
       "    </tr>\n",
       "  </thead>\n",
       "  <tbody>\n",
       "    <tr>\n",
       "      <th>nunique</th>\n",
       "      <td>10</td>\n",
       "      <td>10</td>\n",
       "      <td>10</td>\n",
       "      <td>1</td>\n",
       "      <td>3292</td>\n",
       "      <td>3292</td>\n",
       "    </tr>\n",
       "  </tbody>\n",
       "</table>\n",
       "</div>"
      ],
      "text/plain": [
       "         label  mid  display_name  source  filename  filepath\n",
       "nunique     10   10            10       1      3292      3292"
      ]
     },
     "metadata": {},
     "output_type": "display_data"
    }
   ],
   "source": [
    "display(df_all_wav_samples.head())\n",
    "display(df_all_wav_samples.groupby(['label', 'mid', 'display_name']).agg(['nunique']))\n",
    "display(df_all_wav_samples.agg(['nunique']))"
   ]
  },
  {
   "cell_type": "code",
   "execution_count": null,
   "metadata": {},
   "outputs": [],
   "source": []
  },
  {
   "cell_type": "code",
   "execution_count": null,
   "metadata": {
    "scrolled": true
   },
   "outputs": [],
   "source": []
  },
  {
   "cell_type": "code",
   "execution_count": null,
   "metadata": {},
   "outputs": [],
   "source": []
  },
  {
   "cell_type": "code",
   "execution_count": null,
   "metadata": {},
   "outputs": [],
   "source": []
  },
  {
   "cell_type": "code",
   "execution_count": null,
   "metadata": {},
   "outputs": [],
   "source": []
  },
  {
   "cell_type": "code",
   "execution_count": null,
   "metadata": {
    "scrolled": true
   },
   "outputs": [],
   "source": []
  },
  {
   "cell_type": "code",
   "execution_count": null,
   "metadata": {},
   "outputs": [],
   "source": []
  },
  {
   "cell_type": "code",
   "execution_count": null,
   "metadata": {},
   "outputs": [],
   "source": []
  },
  {
   "cell_type": "code",
   "execution_count": null,
   "metadata": {},
   "outputs": [],
   "source": []
  },
  {
   "cell_type": "code",
   "execution_count": null,
   "metadata": {},
   "outputs": [],
   "source": []
  },
  {
   "cell_type": "code",
   "execution_count": null,
   "metadata": {},
   "outputs": [],
   "source": []
  }
 ],
 "metadata": {
  "kernelspec": {
   "display_name": "Python 3",
   "language": "python",
   "name": "python3"
  },
  "language_info": {
   "codemirror_mode": {
    "name": "ipython",
    "version": 3
   },
   "file_extension": ".py",
   "mimetype": "text/x-python",
   "name": "python",
   "nbconvert_exporter": "python",
   "pygments_lexer": "ipython3",
   "version": "3.6.9"
  }
 },
 "nbformat": 4,
 "nbformat_minor": 4
}
