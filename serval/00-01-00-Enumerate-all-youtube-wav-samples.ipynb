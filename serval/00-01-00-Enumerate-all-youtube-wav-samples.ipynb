{
 "cells": [
  {
   "cell_type": "code",
   "execution_count": null,
   "metadata": {},
   "outputs": [],
   "source": [
    "## Import packages\n",
    "import os\n",
    "import csv\n",
    "import random\n",
    "import math\n",
    "import ntpath\n",
    "import numpy as np\n",
    "import pandas as pd\n",
    "import time\n",
    "from pathlib import Path\n",
    "from scipy.io import wavfile\n",
    "from tqdm import tqdm\n",
    "\n",
    "import tensorflow as tf\n",
    "from tensorflow import gfile\n",
    "from tensorflow import logging"
   ]
  },
  {
   "cell_type": "code",
   "execution_count": null,
   "metadata": {},
   "outputs": [],
   "source": []
  },
  {
   "cell_type": "code",
   "execution_count": null,
   "metadata": {},
   "outputs": [],
   "source": [
    "serval_data_folder = \"../data\""
   ]
  },
  {
   "cell_type": "code",
   "execution_count": null,
   "metadata": {},
   "outputs": [],
   "source": [
    "# Set directories of WAV files\n",
    "youtube_wav_samples_directory = serval_data_folder + \"/wav_samples_youtube\"\n",
    "\n",
    "youtube_class_labels_filepath = serval_data_folder + \"/csv_files/class_labels_indices.csv\"\n",
    "\n",
    "youtube_wav_balanced_train_class_labels_filepath   = youtube_wav_samples_directory + \"/balanced_train_segments.csv\"\n",
    "youtube_wav_balanced_eval_class_labels_filepath    = youtube_wav_samples_directory + \"/eval_segments.csv\"\n",
    "youtube_wav_unbalanced_train_class_labels_filepath = youtube_wav_samples_directory + \"/unbalanced_train_segments.csv\"\n",
    "\n",
    "youtube_wav_balanced_train_sample_directory   = youtube_wav_samples_directory + \"/bal\"\n",
    "youtube_wav_balanced_eval_sample_directory    = youtube_wav_samples_directory + \"/eval\"\n",
    "youtube_wav_unbalanced_train_sample_directory = youtube_wav_samples_directory + \"/unbal\""
   ]
  },
  {
   "cell_type": "code",
   "execution_count": null,
   "metadata": {},
   "outputs": [],
   "source": [
    "# Set output csv files\n",
    "target_balanced_wav_samples_enumerated_filepath   = serval_data_folder + \"/csv_files/wav_samples_youtube_balanced_all_enumerated_and_labeled.csv\"\n",
    "target_unbalanced_wav_samples_enumerated_filepath = serval_data_folder + \"/csv_files/wav_samples_youtube_unbalanced_all_enumerated_and_labeled.csv\"\n",
    "target_eval_wav_samples_enumerated_filepath       = serval_data_folder + \"/csv_files/wav_samples_youtube_eval_all_enumerated_and_labeled.csv\""
   ]
  },
  {
   "cell_type": "code",
   "execution_count": null,
   "metadata": {},
   "outputs": [],
   "source": []
  },
  {
   "cell_type": "code",
   "execution_count": null,
   "metadata": {},
   "outputs": [],
   "source": []
  },
  {
   "cell_type": "code",
   "execution_count": null,
   "metadata": {},
   "outputs": [],
   "source": [
    "def collectAndLabelYoutubeSamples(df_youtube_class_labels, wav_class_labels_filepath, wav_sample_directory, source):\n",
    "    df_wav_class_labels = pd.read_csv(wav_class_labels_filepath, sep=\",\")    \n",
    "    df_output_wav_files_classified = pd.DataFrame(columns=df_youtube_class_labels.columns.values.tolist() + ['source', 'filename', 'filepath'])\n",
    "    \n",
    "    start_time = time.time()\n",
    "    files = gfile.Glob(str(wav_sample_directory + \"/\" + \"*.wav\"))\n",
    "    for file in tqdm(files):\n",
    "        filename = ntpath.basename(file)[3:-4]\n",
    "        df_labels = df_wav_class_labels.loc[df_wav_class_labels.filename.isin([filename])]\n",
    "        \n",
    "        if len(df_labels) != 1:\n",
    "            print('[ERROR]: Found sample with ', len(df_labels) ,' class labels records (expected=1); filename=', filename, '; path=', file, sep='')\n",
    "            continue\n",
    "        \n",
    "        classes = str(df_labels.youtube_mid_labels.iloc[0]).split(\";\")\n",
    "        for class_ in classes:\n",
    "            df_row = df_youtube_class_labels.loc[df_youtube_class_labels.mid == class_].copy(deep=True)\n",
    "            \n",
    "            if len(df_row) != 1:\n",
    "                print('[ERROR]: Found sample with ', len(df_row) ,' youtube class labels records (expected=1); filename=', filename, '; youtube_mid_id=', class_, sep='')\n",
    "                continue\n",
    "            \n",
    "            df_row['source'] = source\n",
    "            df_row['filename'] = filename\n",
    "            df_row['filepath'] = file\n",
    "            df_output_wav_files_classified = df_output_wav_files_classified.append(df_row, ignore_index = True)         \n",
    "    \n",
    "    df_output_wav_files_classified = df_output_wav_files_classified.rename(columns={'index': 'label'})\n",
    "    return(df_output_wav_files_classified)\n",
    "    "
   ]
  },
  {
   "cell_type": "code",
   "execution_count": null,
   "metadata": {},
   "outputs": [],
   "source": []
  },
  {
   "cell_type": "code",
   "execution_count": null,
   "metadata": {},
   "outputs": [],
   "source": [
    "# Load generic youtube class labels\n",
    "df_youtube_class_labels = pd.read_csv(youtube_class_labels_filepath, sep=\",\")\n",
    "df_youtube_class_labels.head()"
   ]
  },
  {
   "cell_type": "code",
   "execution_count": null,
   "metadata": {},
   "outputs": [],
   "source": [
    "#  collect and label balanced train samples\n",
    "df_tmp = collectAndLabelYoutubeSamples(df_youtube_class_labels, \n",
    "                                       youtube_wav_balanced_train_class_labels_filepath,\n",
    "                                       youtube_wav_balanced_train_sample_directory,\n",
    "                                      'wav_samples_youtube/bal')\n",
    "df_tmp.to_csv(target_balanced_wav_samples_enumerated_filepath, sep=';')\n",
    "\n",
    "display(df_tmp.agg(['nunique']))\n",
    "display(df_tmp.head())"
   ]
  },
  {
   "cell_type": "code",
   "execution_count": null,
   "metadata": {},
   "outputs": [],
   "source": [
    "#  collect and label balanced eval samples\n",
    "df_tmp = collectAndLabelYoutubeSamples(df_youtube_class_labels, \n",
    "                                       youtube_wav_balanced_eval_class_labels_filepath,\n",
    "                                       youtube_wav_balanced_eval_sample_directory,\n",
    "                                      'wav_samples_youtube/eval')\n",
    "df_tmp.to_csv(target_eval_wav_samples_enumerated_filepath, sep=';')\n",
    "\n",
    "display(df_tmp.agg(['nunique']))\n",
    "display(df_tmp.head())"
   ]
  },
  {
   "cell_type": "code",
   "execution_count": null,
   "metadata": {},
   "outputs": [],
   "source": [
    "#  collect and label unbalanced train samples\n",
    "df_tmp = collectAndLabelYoutubeSamples(df_youtube_class_labels, \n",
    "                                       youtube_wav_unbalanced_train_class_labels_filepath,\n",
    "                                       youtube_wav_unbalanced_train_sample_directory,\n",
    "                                      'wav_samples_youtube/unbal')\n",
    "df_tmp.to_csv(target_unbalanced_wav_samples_enumerated_filepath, sep=';')\n",
    "\n",
    "display(df_tmp.agg(['nunique']))\n",
    "display(df_tmp.head())"
   ]
  },
  {
   "cell_type": "code",
   "execution_count": null,
   "metadata": {},
   "outputs": [],
   "source": []
  },
  {
   "cell_type": "code",
   "execution_count": null,
   "metadata": {},
   "outputs": [],
   "source": []
  },
  {
   "cell_type": "code",
   "execution_count": null,
   "metadata": {},
   "outputs": [],
   "source": []
  },
  {
   "cell_type": "code",
   "execution_count": null,
   "metadata": {},
   "outputs": [],
   "source": []
  },
  {
   "cell_type": "code",
   "execution_count": null,
   "metadata": {
    "scrolled": true
   },
   "outputs": [],
   "source": []
  },
  {
   "cell_type": "code",
   "execution_count": null,
   "metadata": {},
   "outputs": [],
   "source": []
  },
  {
   "cell_type": "code",
   "execution_count": null,
   "metadata": {},
   "outputs": [],
   "source": []
  },
  {
   "cell_type": "code",
   "execution_count": null,
   "metadata": {},
   "outputs": [],
   "source": []
  },
  {
   "cell_type": "code",
   "execution_count": null,
   "metadata": {
    "scrolled": true
   },
   "outputs": [],
   "source": []
  },
  {
   "cell_type": "code",
   "execution_count": null,
   "metadata": {},
   "outputs": [],
   "source": []
  },
  {
   "cell_type": "code",
   "execution_count": null,
   "metadata": {},
   "outputs": [],
   "source": []
  },
  {
   "cell_type": "code",
   "execution_count": null,
   "metadata": {},
   "outputs": [],
   "source": []
  },
  {
   "cell_type": "code",
   "execution_count": null,
   "metadata": {},
   "outputs": [],
   "source": []
  },
  {
   "cell_type": "code",
   "execution_count": null,
   "metadata": {},
   "outputs": [],
   "source": []
  }
 ],
 "metadata": {
  "kernelspec": {
   "display_name": "Python 3",
   "language": "python",
   "name": "python3"
  },
  "language_info": {
   "codemirror_mode": {
    "name": "ipython",
    "version": 3
   },
   "file_extension": ".py",
   "mimetype": "text/x-python",
   "name": "python",
   "nbconvert_exporter": "python",
   "pygments_lexer": "ipython3",
   "version": "3.7.6"
  }
 },
 "nbformat": 4,
 "nbformat_minor": 4
}
