{
 "cells": [
  {
   "cell_type": "markdown",
   "metadata": {},
   "source": [
    "## Adventures with Elephants\n",
    "\n",
    "Description of the dataset:\n",
    "---------------------------\n",
    "\n",
    "This dataset has been recorded Angela S. Stoeger (angela.stoeger-horwath@univie.ac.at) from Vienna University and colleagues. Acoustic recordings were collected from three female and two male African elephants (Loxodonta africana) aged between 9 and 17 years located at Adventures with Elephants, Bela Bela, South Africa in 2011. The elephants were fully habituated to human presence and free to roam around in a savannah reserve of 300 ha. Vocalizations were recorded during two social contexts: spatial separation and subsequent bondings, recording distances between the elephant and the microphone ranged from 10 to several hundreds of meters. \n",
    "In 359 minutes of recordings we annotated 635 rumbles by manually tagging the beginning and the end of each rumble."
   ]
  },
  {
   "cell_type": "code",
   "execution_count": 13,
   "metadata": {
    "collapsed": true
   },
   "outputs": [],
   "source": [
    "# annotations are in matlab file, which apparently is a hdf5 format\n",
    "import scipy.io as sio\n",
    "\n",
    "# source label annotations\n",
    "filepath = '../../data/AdventuresWithElephants_Dataset/anno/groundTruth.mat'\n",
    "\n",
    "# source location wav files\n",
    "source_path = '../../data/AdventuresWithElephants_Dataset/wavs/all'\n",
    "# target path\n",
    "#dest_path = \"../../data/AdventuresWithElephants_Dataset/wavs/samples/\"\n",
    "dest_path = \"../../data/audio/serval-data/raw/elephants-angela\"\n",
    "\n",
    "annos = sio.loadmat(filepath)\n",
    "data = annos['variable']"
   ]
  },
  {
   "cell_type": "code",
   "execution_count": 3,
   "metadata": {
    "collapsed": true
   },
   "outputs": [],
   "source": [
    "# r=[(x['SHAPE@XY'][i][0],x['SHAPE@XY'][i][1],x['PrimeKey'][i]) for i in range(x.shape[0])]\n",
    "# unpack nd array\n",
    "u = [(data[i,0][0],data[i,1][0][0],data[i,2][0][0],data[i,3][0]) for i in range(1,data.shape[0])]"
   ]
  },
  {
   "cell_type": "code",
   "execution_count": 4,
   "metadata": {
    "collapsed": true
   },
   "outputs": [],
   "source": [
    "# build dataframe from list\n",
    "import pandas as pd\n",
    "df = pd.DataFrame(data=u)  # 1st row as the column names\n",
    "df.columns=['filename','start','duration','type']"
   ]
  },
  {
   "cell_type": "markdown",
   "metadata": {},
   "source": [
    "Data format:\n",
    "------------\n",
    "\n",
    "Folder \"wavs\" contains all recorded signals (sampled at 44100Hz, 16bit, mono)\n",
    "\n",
    "Folder \"anno\" contains the annotation in binary Matlab format (*.mat). The annotations include:\n",
    "\n",
    "- groundTruth.mat: a cell that contains one annotated rumble in each row. The first column provides the name of the wav-file. The second column gives the start position of the rumble in samples; the third column contains the length of the annotated rumble in samples. The fourth column contains the type of rumble. There are two types (the usual \"rumble\" and the \"snumble\", which is a mixture of snort and rumble)."
   ]
  },
  {
   "cell_type": "code",
   "execution_count": 6,
   "metadata": {
    "scrolled": false
   },
   "outputs": [
    {
     "data": {
      "text/plain": [
       "rumble     607\n",
       "snumble     11\n",
       "Name: type, dtype: int64"
      ]
     },
     "execution_count": 6,
     "metadata": {},
     "output_type": "execute_result"
    }
   ],
   "source": [
    "df['type'].value_counts()"
   ]
  },
  {
   "cell_type": "code",
   "execution_count": 5,
   "metadata": {
    "collapsed": true
   },
   "outputs": [],
   "source": [
    "# issue with EFAF2011A011.WAV en 012.WAV\n",
    "df = df[df['filename'] != \"EFAF2011A011.WAV\"]\n",
    "#df = df[df['filename'] != \"EFAF2011A012.WAV\"]\n",
    "df = df.reset_index(drop=True)"
   ]
  },
  {
   "cell_type": "code",
   "execution_count": 7,
   "metadata": {
    "collapsed": true
   },
   "outputs": [],
   "source": [
    "# Code die aangeeft of de 10 seconden ervoor background is (1=ja, 0=nee)\n",
    "df[\"background\"] = 1\n",
    "sr_target = 44100\n",
    "# als (start-sr > 0) dan 0\n",
    "df.loc[df[\"start\"] < sr_target, \"background\"] = 0"
   ]
  },
  {
   "cell_type": "code",
   "execution_count": 8,
   "metadata": {
    "collapsed": true
   },
   "outputs": [],
   "source": [
    "for i in range(0, df.shape[0]):\n",
    "    # skip 1e rij\n",
    "    if(i==0):\n",
    "        df.loc[i, \"background\"] = 0\n",
    "    else:\n",
    "        # Bereken eindtijd van vorige rij\n",
    "        previous_end = df.loc[i-1, \"start\"] + df.loc[i-1, \"duration\"]\n",
    "        # Check of filename zelfde is als file vorige rij\n",
    "        if(df.loc[i-1, \"filename\"] == df.loc[i, \"filename\"]):\n",
    "            # Check of previous end + sr_target*10 > start (dan 0)\n",
    "            if(previous_end + sr_target*10 > df.loc[i, \"start\"]):\n",
    "                #df.at[i,'ifor']\n",
    "                df.loc[i, \"background\"] = 0\n",
    "        else:\n",
    "            df.loc[i, \"background\"] = 0"
   ]
  },
  {
   "cell_type": "code",
   "execution_count": 9,
   "metadata": {},
   "outputs": [
    {
     "data": {
      "text/plain": [
       "0    312\n",
       "1    306\n",
       "Name: background, dtype: int64"
      ]
     },
     "execution_count": 9,
     "metadata": {},
     "output_type": "execute_result"
    }
   ],
   "source": [
    "df['background'].value_counts()"
   ]
  },
  {
   "cell_type": "code",
   "execution_count": 10,
   "metadata": {},
   "outputs": [
    {
     "data": {
      "text/html": [
       "<div>\n",
       "<style scoped>\n",
       "    .dataframe tbody tr th:only-of-type {\n",
       "        vertical-align: middle;\n",
       "    }\n",
       "\n",
       "    .dataframe tbody tr th {\n",
       "        vertical-align: top;\n",
       "    }\n",
       "\n",
       "    .dataframe thead th {\n",
       "        text-align: right;\n",
       "    }\n",
       "</style>\n",
       "<table border=\"1\" class=\"dataframe\">\n",
       "  <thead>\n",
       "    <tr style=\"text-align: right;\">\n",
       "      <th></th>\n",
       "      <th>filename</th>\n",
       "      <th>start</th>\n",
       "      <th>duration</th>\n",
       "      <th>type</th>\n",
       "      <th>background</th>\n",
       "    </tr>\n",
       "  </thead>\n",
       "  <tbody>\n",
       "    <tr>\n",
       "      <th>210</th>\n",
       "      <td>EFAF2011A022.WAV</td>\n",
       "      <td>19995019</td>\n",
       "      <td>217364</td>\n",
       "      <td>rumble</td>\n",
       "      <td>1</td>\n",
       "    </tr>\n",
       "    <tr>\n",
       "      <th>211</th>\n",
       "      <td>EFAF2011A022.WAV</td>\n",
       "      <td>21145760</td>\n",
       "      <td>166217</td>\n",
       "      <td>rumble</td>\n",
       "      <td>1</td>\n",
       "    </tr>\n",
       "    <tr>\n",
       "      <th>212</th>\n",
       "      <td>EFAF2011A022.WAV</td>\n",
       "      <td>23240082</td>\n",
       "      <td>161622</td>\n",
       "      <td>rumble</td>\n",
       "      <td>1</td>\n",
       "    </tr>\n",
       "  </tbody>\n",
       "</table>\n",
       "</div>"
      ],
      "text/plain": [
       "             filename     start  duration    type  background\n",
       "210  EFAF2011A022.WAV  19995019    217364  rumble           1\n",
       "211  EFAF2011A022.WAV  21145760    166217  rumble           1\n",
       "212  EFAF2011A022.WAV  23240082    161622  rumble           1"
      ]
     },
     "execution_count": 10,
     "metadata": {},
     "output_type": "execute_result"
    }
   ],
   "source": [
    "df.iloc[210:213,]"
   ]
  },
  {
   "cell_type": "code",
   "execution_count": 15,
   "metadata": {},
   "outputs": [
    {
     "name": "stderr",
     "output_type": "stream",
     "text": [
      "\r",
      "  0%|          | 0/618 [00:00<?, ?it/s]"
     ]
    },
    {
     "name": "stdout",
     "output_type": "stream",
     "text": [
      "index: 0\n",
      "row: \n",
      "filename      EFAF2011A008.WAV\n",
      "start                  1688633\n",
      "duration                 51548\n",
      "type                    rumble\n",
      "background                   0\n",
      "Name: 0, dtype: object\n",
      "source filename: EFAF2011A008.WAV\n",
      "../../data/AdventuresWithElephants_Dataset/wavs/all/EFAF2011A008.WAV\n",
      "x: \n",
      "[-53 -16 -15 ...  76  72  59]\n",
      "sr_orig: 44100\n"
     ]
    },
    {
     "name": "stderr",
     "output_type": "stream",
     "text": [
      "\r",
      "  0%|          | 1/618 [00:02<24:32,  2.39s/it]"
     ]
    },
    {
     "name": "stdout",
     "output_type": "stream",
     "text": [
      "y: \n",
      "[   0    0    0 ... -458 -404 -584]\n",
      "index: 1\n",
      "row: \n",
      "filename      EFAF2011A008.WAV\n",
      "start                  1829197\n",
      "duration                 24136\n",
      "type                    rumble\n",
      "background                   0\n",
      "Name: 1, dtype: object\n",
      "source filename: EFAF2011A008.WAV\n",
      "../../data/AdventuresWithElephants_Dataset/wavs/all/EFAF2011A008.WAV\n",
      "x: \n",
      "[-53 -16 -15 ...  76  72  59]\n",
      "sr_orig: 44100\n"
     ]
    },
    {
     "name": "stderr",
     "output_type": "stream",
     "text": [
      "\r",
      "  0%|          | 2/618 [00:03<15:45,  1.54s/it]"
     ]
    },
    {
     "name": "stdout",
     "output_type": "stream",
     "text": [
      "y: \n",
      "[ 0  0  0 ... 23 12 15]\n",
      "index: 2\n",
      "row: \n",
      "filename      EFAF2011A008.WAV\n",
      "start                  4925581\n",
      "duration                 41697\n",
      "type                    rumble\n",
      "background                   1\n",
      "Name: 2, dtype: object\n",
      "source filename: EFAF2011A008.WAV\n",
      "../../data/AdventuresWithElephants_Dataset/wavs/all/EFAF2011A008.WAV\n",
      "x: \n",
      "[-53 -16 -15 ...  76  72  59]\n",
      "sr_orig: 44100\n",
      "y: \n",
      "[-339 -624 -506 ...   30   13   24]\n",
      "yb class: [-144 -274 -215 ... -439 -479 -611]\n"
     ]
    },
    {
     "name": "stderr",
     "output_type": "stream",
     "text": [
      "\r",
      "  0%|          | 3/618 [00:04<15:00,  1.46s/it]"
     ]
    },
    {
     "name": "stdout",
     "output_type": "stream",
     "text": [
      "index: 3\n",
      "row: \n",
      "filename      EFAF2011A008.WAV\n",
      "start                  7701919\n",
      "duration                 41816\n",
      "type                    rumble\n",
      "background                   1\n",
      "Name: 3, dtype: object\n",
      "source filename: EFAF2011A008.WAV\n",
      "../../data/AdventuresWithElephants_Dataset/wavs/all/EFAF2011A008.WAV\n",
      "x: \n",
      "[-53 -16 -15 ...  76  72  59]\n",
      "sr_orig: 44100\n",
      "y: \n",
      "[  0   0   0 ... -30 -21 -15]\n"
     ]
    },
    {
     "name": "stderr",
     "output_type": "stream",
     "text": [
      "\r",
      "  1%|          | 4/618 [00:05<14:31,  1.42s/it]"
     ]
    },
    {
     "name": "stdout",
     "output_type": "stream",
     "text": [
      "yb class: [ 0  0  0 ...  1 -7 -3]\n",
      "index: 4\n",
      "row: \n",
      "filename      EFAF2011A008.WAV\n",
      "start                  7848265\n",
      "duration                 44664\n",
      "type                    rumble\n",
      "background                   0\n",
      "Name: 4, dtype: object\n",
      "source filename: EFAF2011A008.WAV\n",
      "../../data/AdventuresWithElephants_Dataset/wavs/all/EFAF2011A008.WAV\n",
      "x: \n",
      "[-53 -16 -15 ...  76  72  59]\n",
      "sr_orig: 44100\n"
     ]
    },
    {
     "name": "stderr",
     "output_type": "stream",
     "text": [
      "\r",
      "  1%|          | 5/618 [00:06<13:01,  1.27s/it]"
     ]
    },
    {
     "name": "stdout",
     "output_type": "stream",
     "text": [
      "y: \n",
      "[ 76 192 105 ... -26   0  -4]\n",
      "index: 5\n",
      "row: \n",
      "filename      EFAF2011A008.WAV\n",
      "start                  7917705\n",
      "duration                 30799\n",
      "type                    rumble\n",
      "background                   0\n",
      "Name: 5, dtype: object\n",
      "source filename: EFAF2011A008.WAV\n",
      "../../data/AdventuresWithElephants_Dataset/wavs/all/EFAF2011A008.WAV\n",
      "x: \n",
      "[-53 -16 -15 ...  76  72  59]\n",
      "sr_orig: 44100\n"
     ]
    },
    {
     "name": "stderr",
     "output_type": "stream",
     "text": [
      "\r",
      "  1%|          | 6/618 [00:07<12:00,  1.18s/it]"
     ]
    },
    {
     "name": "stdout",
     "output_type": "stream",
     "text": [
      "y: \n",
      "[  0   0   0 ... -15 -21  -9]\n",
      "index: 6\n",
      "row: \n",
      "filename      EFAF2011A008.WAV\n",
      "start                  8041171\n",
      "duration                 57017\n",
      "type                    rumble\n",
      "background                   0\n",
      "Name: 6, dtype: object\n",
      "source filename: EFAF2011A008.WAV\n",
      "../../data/AdventuresWithElephants_Dataset/wavs/all/EFAF2011A008.WAV\n",
      "x: \n",
      "[-53 -16 -15 ...  76  72  59]\n",
      "sr_orig: 44100\n"
     ]
    },
    {
     "name": "stderr",
     "output_type": "stream",
     "text": [
      "\r",
      "  1%|          | 7/618 [00:07<11:16,  1.11s/it]"
     ]
    },
    {
     "name": "stdout",
     "output_type": "stream",
     "text": [
      "y: \n",
      "[  0   0   0 ... -32 -29 -68]\n",
      "index: 7\n",
      "row: \n",
      "filename      EFAF2011A008.WAV\n",
      "start                 10693742\n",
      "duration                 76558\n",
      "type                    rumble\n",
      "background                   1\n",
      "Name: 7, dtype: object\n",
      "source filename: EFAF2011A008.WAV\n",
      "../../data/AdventuresWithElephants_Dataset/wavs/all/EFAF2011A008.WAV\n",
      "x: \n",
      "[-53 -16 -15 ...  76  72  59]\n",
      "sr_orig: 44100\n",
      "y: \n",
      "[  0   0   0 ... -14   0  -8]\n"
     ]
    },
    {
     "name": "stderr",
     "output_type": "stream",
     "text": [
      "\r",
      "  1%|▏         | 8/618 [00:09<11:28,  1.13s/it]"
     ]
    },
    {
     "name": "stdout",
     "output_type": "stream",
     "text": [
      "yb class: [ 0  0  0 ... 11  0  3]\n",
      "index: 8\n",
      "row: \n",
      "filename      EFAF2011A008.WAV\n",
      "start                 10795225\n",
      "duration                 65877\n",
      "type                    rumble\n",
      "background                   0\n",
      "Name: 8, dtype: object\n",
      "source filename: EFAF2011A008.WAV\n",
      "../../data/AdventuresWithElephants_Dataset/wavs/all/EFAF2011A008.WAV\n",
      "x: \n",
      "[-53 -16 -15 ...  76  72  59]\n",
      "sr_orig: 44100\n"
     ]
    },
    {
     "name": "stderr",
     "output_type": "stream",
     "text": [
      "\r",
      "  1%|▏         | 9/618 [00:09<10:57,  1.08s/it]"
     ]
    },
    {
     "name": "stdout",
     "output_type": "stream",
     "text": [
      "y: \n",
      "[0 0 0 ... 0 8 8]\n",
      "index: 9\n",
      "row: \n",
      "filename      EFAF2011A008.WAV\n",
      "start                 10902049\n",
      "duration                 35610\n",
      "type                    rumble\n",
      "background                   0\n",
      "Name: 9, dtype: object\n",
      "source filename: EFAF2011A008.WAV\n",
      "../../data/AdventuresWithElephants_Dataset/wavs/all/EFAF2011A008.WAV\n",
      "x: \n",
      "[-53 -16 -15 ...  76  72  59]\n",
      "sr_orig: 44100\n",
      "y: \n",
      "[   0  -37 -124 ...    0  -19   -3]\n"
     ]
    },
    {
     "name": "stderr",
     "output_type": "stream",
     "text": [
      "\r",
      "  2%|▏         | 10/618 [00:11<11:10,  1.10s/it]"
     ]
    },
    {
     "name": "stdout",
     "output_type": "stream",
     "text": [
      "index: 10\n",
      "row: \n",
      "filename      EFAF2011A008.WAV\n",
      "start                 10982170\n",
      "duration                 49850\n",
      "type                    rumble\n",
      "background                   0\n",
      "Name: 10, dtype: object\n",
      "source filename: EFAF2011A008.WAV\n",
      "../../data/AdventuresWithElephants_Dataset/wavs/all/EFAF2011A008.WAV\n",
      "x: \n",
      "[-53 -16 -15 ...  76  72  59]\n",
      "sr_orig: 44100\n"
     ]
    },
    {
     "name": "stderr",
     "output_type": "stream",
     "text": [
      "\r",
      "  2%|▏         | 11/618 [00:11<10:47,  1.07s/it]"
     ]
    },
    {
     "name": "stdout",
     "output_type": "stream",
     "text": [
      "y: \n",
      "[  0   0   0 ...  89  71 137]\n",
      "index: 11\n",
      "row: \n",
      "filename      EFAF2011A008.WAV\n",
      "start                 11099678\n",
      "duration                 30266\n",
      "type                    rumble\n",
      "background                   0\n",
      "Name: 11, dtype: object\n",
      "source filename: EFAF2011A008.WAV\n",
      "../../data/AdventuresWithElephants_Dataset/wavs/all/EFAF2011A008.WAV\n",
      "x: \n",
      "[-53 -16 -15 ...  76  72  59]\n",
      "sr_orig: 44100\n"
     ]
    },
    {
     "name": "stderr",
     "output_type": "stream",
     "text": [
      "\r",
      "  2%|▏         | 12/618 [00:12<10:26,  1.03s/it]"
     ]
    },
    {
     "name": "stdout",
     "output_type": "stream",
     "text": [
      "y: \n",
      "[  0   0   0 ...  24 -12  -1]\n",
      "index: 12\n",
      "row: \n",
      "filename      EFAF2011A008.WAV\n",
      "start                 11211842\n",
      "duration                 42729\n",
      "type                    rumble\n",
      "background                   0\n",
      "Name: 12, dtype: object\n",
      "source filename: EFAF2011A008.WAV\n",
      "../../data/AdventuresWithElephants_Dataset/wavs/all/EFAF2011A008.WAV\n",
      "x: \n",
      "[-53 -16 -15 ...  76  72  59]\n",
      "sr_orig: 44100\n"
     ]
    },
    {
     "name": "stderr",
     "output_type": "stream",
     "text": [
      "\r",
      "  2%|▏         | 13/618 [00:13<10:09,  1.01s/it]"
     ]
    },
    {
     "name": "stdout",
     "output_type": "stream",
     "text": [
      "y: \n",
      "[ 0  0  0 ... 19 16 26]\n",
      "index: 13\n",
      "row: \n",
      "filename      EFAF2011A008.WAV\n",
      "start                 14807417\n",
      "duration                 60554\n",
      "type                    rumble\n",
      "background                   1\n",
      "Name: 13, dtype: object\n",
      "source filename: EFAF2011A008.WAV\n",
      "../../data/AdventuresWithElephants_Dataset/wavs/all/EFAF2011A008.WAV\n",
      "x: \n",
      "[-53 -16 -15 ...  76  72  59]\n",
      "sr_orig: 44100\n",
      "y: \n",
      "[   0    0    0 ... -139 -107 -141]\n"
     ]
    },
    {
     "name": "stderr",
     "output_type": "stream",
     "text": [
      "\r",
      "  2%|▏         | 14/618 [00:14<10:22,  1.03s/it]"
     ]
    },
    {
     "name": "stdout",
     "output_type": "stream",
     "text": [
      "yb class: [  0  -5   0 ...   5  -4 -11]\n",
      "index: 14\n",
      "row: \n",
      "filename      EFAF2011A008.WAV\n",
      "start                 14887436\n",
      "duration                 67045\n",
      "type                    rumble\n",
      "background                   0\n",
      "Name: 14, dtype: object\n",
      "source filename: EFAF2011A008.WAV\n",
      "../../data/AdventuresWithElephants_Dataset/wavs/all/EFAF2011A008.WAV\n",
      "x: \n",
      "[-53 -16 -15 ...  76  72  59]\n",
      "sr_orig: 44100\n"
     ]
    },
    {
     "name": "stderr",
     "output_type": "stream",
     "text": [
      "\r",
      "  2%|▏         | 15/618 [00:15<10:10,  1.01s/it]"
     ]
    },
    {
     "name": "stdout",
     "output_type": "stream",
     "text": [
      "y: \n",
      "[   0    0    0 ... -235 -210 -251]\n",
      "index: 15\n",
      "row: \n",
      "filename      EFAF2011A008.WAV\n",
      "start                 15006383\n",
      "duration                 45418\n",
      "type                    rumble\n",
      "background                   0\n",
      "Name: 15, dtype: object\n",
      "source filename: EFAF2011A008.WAV\n",
      "../../data/AdventuresWithElephants_Dataset/wavs/all/EFAF2011A008.WAV\n",
      "x: \n",
      "[-53 -16 -15 ...  76  72  59]\n",
      "sr_orig: 44100\n"
     ]
    },
    {
     "name": "stderr",
     "output_type": "stream",
     "text": [
      "\r",
      "  3%|▎         | 16/618 [00:15<09:57,  1.01it/s]"
     ]
    },
    {
     "name": "stdout",
     "output_type": "stream",
     "text": [
      "y: \n",
      "[  0   0   0 ... -11   0   3]\n",
      "index: 16\n",
      "row: \n",
      "filename      EFAF2011A008.WAV\n",
      "start                 15118847\n",
      "duration                 51905\n",
      "type                    rumble\n",
      "background                   0\n",
      "Name: 16, dtype: object\n",
      "source filename: EFAF2011A008.WAV\n",
      "../../data/AdventuresWithElephants_Dataset/wavs/all/EFAF2011A008.WAV\n",
      "x: \n",
      "[-53 -16 -15 ...  76  72  59]\n",
      "sr_orig: 44100\n"
     ]
    },
    {
     "name": "stderr",
     "output_type": "stream",
     "text": [
      "\r",
      "  3%|▎         | 17/618 [00:16<09:44,  1.03it/s]"
     ]
    },
    {
     "name": "stdout",
     "output_type": "stream",
     "text": [
      "y: \n",
      "[  0 -54 -14 ... -19 -31 -33]\n",
      "index: 17\n",
      "row: \n",
      "filename      EFAF2011A008.WAV\n",
      "start                 15302677\n",
      "duration                 47580\n",
      "type                    rumble\n",
      "background                   0\n",
      "Name: 17, dtype: object\n",
      "source filename: EFAF2011A008.WAV\n",
      "../../data/AdventuresWithElephants_Dataset/wavs/all/EFAF2011A008.WAV\n",
      "x: \n",
      "[-53 -16 -15 ...  76  72  59]\n",
      "sr_orig: 44100\n"
     ]
    },
    {
     "name": "stderr",
     "output_type": "stream",
     "text": [
      "\r",
      "  3%|▎         | 18/618 [00:17<09:33,  1.05it/s]"
     ]
    },
    {
     "name": "stdout",
     "output_type": "stream",
     "text": [
      "y: \n",
      "[ 0  0  0 ... 30 18 14]\n",
      "index: 18\n",
      "row: \n",
      "filename      EFAF2011A009.WAV\n",
      "start                  2384341\n",
      "duration                 61356\n",
      "type                    rumble\n",
      "background                   0\n",
      "Name: 18, dtype: object\n",
      "source filename: EFAF2011A009.WAV\n",
      "../../data/AdventuresWithElephants_Dataset/wavs/all/EFAF2011A009.WAV\n",
      "x: \n",
      "[ 96 123 132 ...  13 -24 -15]\n",
      "sr_orig: 44100\n"
     ]
    },
    {
     "name": "stderr",
     "output_type": "stream",
     "text": [
      "\r",
      "  3%|▎         | 19/618 [00:18<09:35,  1.04it/s]"
     ]
    },
    {
     "name": "stdout",
     "output_type": "stream",
     "text": [
      "y: \n",
      "[  0   0   0 ... 253 198 220]\n",
      "index: 19\n",
      "row: \n",
      "filename      EFAF2011A009.WAV\n",
      "start                  6875450\n",
      "duration                 23968\n",
      "type                    rumble\n",
      "background                   1\n",
      "Name: 19, dtype: object\n",
      "source filename: EFAF2011A009.WAV\n",
      "../../data/AdventuresWithElephants_Dataset/wavs/all/EFAF2011A009.WAV\n",
      "x: \n",
      "[ 96 123 132 ...  13 -24 -15]\n",
      "sr_orig: 44100\n",
      "y: \n",
      "[   0    0    0 ... -104  -69  -72]\n",
      "yb class: [ 51 148  97 ... -49 -24  -8]\n"
     ]
    },
    {
     "name": "stderr",
     "output_type": "stream",
     "text": [
      "\r",
      "  3%|▎         | 20/618 [00:19<09:45,  1.02it/s]"
     ]
    },
    {
     "name": "stdout",
     "output_type": "stream",
     "text": [
      "index: 20\n",
      "row: \n",
      "filename      EFAF2011A009.WAV\n",
      "start                  6942142\n",
      "duration                 22923\n",
      "type                    rumble\n",
      "background                   0\n",
      "Name: 20, dtype: object\n",
      "source filename: EFAF2011A009.WAV\n",
      "../../data/AdventuresWithElephants_Dataset/wavs/all/EFAF2011A009.WAV\n",
      "x: \n",
      "[ 96 123 132 ...  13 -24 -15]\n",
      "sr_orig: 44100\n"
     ]
    },
    {
     "name": "stderr",
     "output_type": "stream",
     "text": [
      "\r",
      "  3%|▎         | 21/618 [00:20<09:36,  1.04it/s]"
     ]
    },
    {
     "name": "stdout",
     "output_type": "stream",
     "text": [
      "y: \n",
      "[0 0 0 ... 9 8 7]\n",
      "index: 21\n",
      "row: \n",
      "filename      EFAF2011A009.WAV\n",
      "start                  7258396\n",
      "duration                 29177\n",
      "type                    rumble\n",
      "background                   0\n",
      "Name: 21, dtype: object\n",
      "source filename: EFAF2011A009.WAV\n",
      "../../data/AdventuresWithElephants_Dataset/wavs/all/EFAF2011A009.WAV\n",
      "x: \n",
      "[ 96 123 132 ...  13 -24 -15]\n",
      "sr_orig: 44100\n"
     ]
    },
    {
     "name": "stderr",
     "output_type": "stream",
     "text": [
      "\r",
      "  4%|▎         | 22/618 [00:20<09:27,  1.05it/s]"
     ]
    },
    {
     "name": "stdout",
     "output_type": "stream",
     "text": [
      "y: \n",
      "[  0   0 -25 ...  -7 -22 -36]\n",
      "index: 22\n",
      "row: \n",
      "filename      EFAF2011A009.WAV\n",
      "start                  7426162\n",
      "duration                 16669\n",
      "type                    rumble\n",
      "background                   0\n",
      "Name: 22, dtype: object\n",
      "source filename: EFAF2011A009.WAV\n",
      "../../data/AdventuresWithElephants_Dataset/wavs/all/EFAF2011A009.WAV\n",
      "x: \n",
      "[ 96 123 132 ...  13 -24 -15]\n",
      "sr_orig: 44100\n"
     ]
    },
    {
     "name": "stderr",
     "output_type": "stream",
     "text": [
      "\r",
      "  4%|▎         | 23/618 [00:21<09:19,  1.06it/s]"
     ]
    },
    {
     "name": "stdout",
     "output_type": "stream",
     "text": [
      "y: \n",
      "[  0   0   0 ... -11  10 -25]\n",
      "index: 23\n",
      "row: \n",
      "filename      EFAF2011A010.WAV\n",
      "start                  2791679\n",
      "duration                 88077\n",
      "type                    rumble\n",
      "background                   0\n",
      "Name: 23, dtype: object\n",
      "source filename: EFAF2011A010.WAV\n",
      "../../data/AdventuresWithElephants_Dataset/wavs/all/EFAF2011A010.WAV\n",
      "x: \n",
      "[-18 -31 -52 ... -17 -18 -39]\n",
      "sr_orig: 44100\n",
      "y: \n",
      "[ 0  0  0 ... 45 46 46]\n"
     ]
    },
    {
     "name": "stderr",
     "output_type": "stream",
     "text": [
      "\r",
      "  4%|▍         | 24/618 [00:22<09:25,  1.05it/s]"
     ]
    },
    {
     "name": "stdout",
     "output_type": "stream",
     "text": [
      "index: 24\n",
      "row: \n",
      "filename      EFAF2011A010.WAV\n",
      "start                  2969508\n",
      "duration                 42782\n",
      "type                    rumble\n",
      "background                   0\n",
      "Name: 24, dtype: object\n",
      "source filename: EFAF2011A010.WAV\n",
      "../../data/AdventuresWithElephants_Dataset/wavs/all/EFAF2011A010.WAV\n",
      "x: \n",
      "[-18 -31 -52 ... -17 -18 -39]\n",
      "sr_orig: 44100\n"
     ]
    },
    {
     "name": "stderr",
     "output_type": "stream",
     "text": [
      "\r",
      "  4%|▍         | 25/618 [00:23<09:17,  1.06it/s]"
     ]
    },
    {
     "name": "stdout",
     "output_type": "stream",
     "text": [
      "y: \n",
      "[ 89 147  46 ...  -5   1 -15]\n",
      "index: 25\n",
      "row: \n",
      "filename      EFAF2011A010.WAV\n",
      "start                  3176703\n",
      "duration                 71301\n",
      "type                    rumble\n",
      "background                   0\n",
      "Name: 25, dtype: object\n",
      "source filename: EFAF2011A010.WAV\n",
      "../../data/AdventuresWithElephants_Dataset/wavs/all/EFAF2011A010.WAV\n",
      "x: \n",
      "[-18 -31 -52 ... -17 -18 -39]\n",
      "sr_orig: 44100\n"
     ]
    },
    {
     "name": "stderr",
     "output_type": "stream",
     "text": [
      "\r",
      "  4%|▍         | 26/618 [00:24<09:11,  1.07it/s]"
     ]
    },
    {
     "name": "stdout",
     "output_type": "stream",
     "text": [
      "y: \n",
      "[ 0 52  4 ... -4  0 -5]\n",
      "index: 26\n",
      "row: \n",
      "filename      EFAF2011A010.WAV\n",
      "start                  3414932\n",
      "duration                 67944\n",
      "type                    rumble\n",
      "background                   0\n",
      "Name: 26, dtype: object\n",
      "source filename: EFAF2011A010.WAV\n",
      "../../data/AdventuresWithElephants_Dataset/wavs/all/EFAF2011A010.WAV\n",
      "x: \n",
      "[-18 -31 -52 ... -17 -18 -39]\n",
      "sr_orig: 44100\n"
     ]
    },
    {
     "name": "stderr",
     "output_type": "stream",
     "text": [
      "\r",
      "  4%|▍         | 27/618 [00:24<09:04,  1.08it/s]"
     ]
    },
    {
     "name": "stdout",
     "output_type": "stream",
     "text": [
      "y: \n",
      "[  0   0   0 ... 279 244 251]\n",
      "index: 27\n",
      "row: \n",
      "filename      EFAF2011A010.WAV\n",
      "start                  6506095\n",
      "duration                 83706\n",
      "type                    rumble\n",
      "background                   1\n",
      "Name: 27, dtype: object\n",
      "source filename: EFAF2011A010.WAV\n",
      "../../data/AdventuresWithElephants_Dataset/wavs/all/EFAF2011A010.WAV\n",
      "x: \n",
      "[-18 -31 -52 ... -17 -18 -39]\n",
      "sr_orig: 44100\n",
      "y: \n",
      "[-33 -89 -66 ... -14   1   1]\n",
      "yb class: [   0  -13    0 ... -103  -82  -97]\n"
     ]
    },
    {
     "name": "stderr",
     "output_type": "stream",
     "text": [
      "\r",
      "  5%|▍         | 28/618 [00:26<09:14,  1.06it/s]"
     ]
    },
    {
     "name": "stdout",
     "output_type": "stream",
     "text": [
      "index: 28\n",
      "row: \n",
      "filename      EFAF2011A010.WAV\n",
      "start                  6884525\n",
      "duration                 64012\n",
      "type                    rumble\n",
      "background                   0\n",
      "Name: 28, dtype: object\n",
      "source filename: EFAF2011A010.WAV\n",
      "../../data/AdventuresWithElephants_Dataset/wavs/all/EFAF2011A010.WAV\n",
      "x: \n",
      "[-18 -31 -52 ... -17 -18 -39]\n",
      "sr_orig: 44100\n"
     ]
    },
    {
     "name": "stderr",
     "output_type": "stream",
     "text": [
      "\r",
      "  5%|▍         | 29/618 [00:26<09:08,  1.07it/s]"
     ]
    },
    {
     "name": "stdout",
     "output_type": "stream",
     "text": [
      "y: \n",
      "[ 0  0  0 ... 33 14 24]\n",
      "index: 29\n",
      "row: \n",
      "filename      EFAF2011A010.WAV\n",
      "start                 10222146\n",
      "duration                 74317\n",
      "type                    rumble\n",
      "background                   1\n",
      "Name: 29, dtype: object\n",
      "source filename: EFAF2011A010.WAV\n",
      "../../data/AdventuresWithElephants_Dataset/wavs/all/EFAF2011A010.WAV\n",
      "x: \n",
      "[-18 -31 -52 ... -17 -18 -39]\n",
      "sr_orig: 44100\n",
      "y: \n",
      "[  0   0   0 ... -17 -17 -13]\n"
     ]
    },
    {
     "name": "stderr",
     "output_type": "stream",
     "text": [
      "\r",
      "  5%|▍         | 30/618 [00:28<09:14,  1.06it/s]"
     ]
    },
    {
     "name": "stdout",
     "output_type": "stream",
     "text": [
      "yb class: [ 0  0  0 ... -1  1 -9]\n",
      "index: 30\n",
      "row: \n",
      "filename      EFAF2011A010.WAV\n",
      "start                  7043876\n",
      "duration                 35214\n",
      "type                    rumble\n",
      "background                   0\n",
      "Name: 30, dtype: object\n",
      "source filename: EFAF2011A010.WAV\n",
      "../../data/AdventuresWithElephants_Dataset/wavs/all/EFAF2011A010.WAV\n",
      "x: \n",
      "[-18 -31 -52 ... -17 -18 -39]\n",
      "sr_orig: 44100\n"
     ]
    },
    {
     "name": "stderr",
     "output_type": "stream",
     "text": [
      "\r",
      "  5%|▌         | 31/618 [00:28<09:08,  1.07it/s]"
     ]
    },
    {
     "name": "stdout",
     "output_type": "stream",
     "text": [
      "y: \n",
      "[ 0  0  7 ...  6 10  3]\n",
      "index: 31\n",
      "row: \n",
      "filename      EFAF2011A010.WAV\n",
      "start                  7137029\n",
      "duration                 49418\n",
      "type                    rumble\n",
      "background                   0\n",
      "Name: 31, dtype: object\n",
      "source filename: EFAF2011A010.WAV\n",
      "../../data/AdventuresWithElephants_Dataset/wavs/all/EFAF2011A010.WAV\n",
      "x: \n",
      "[-18 -31 -52 ... -17 -18 -39]\n",
      "sr_orig: 44100\n"
     ]
    },
    {
     "name": "stderr",
     "output_type": "stream",
     "text": [
      "\r",
      "  5%|▌         | 32/618 [00:29<09:02,  1.08it/s]"
     ]
    },
    {
     "name": "stdout",
     "output_type": "stream",
     "text": [
      "y: \n",
      "[  0   0   0 ... -17 -22 -40]\n",
      "index: 32\n",
      "row: \n",
      "filename      EFAF2011A010.WAV\n",
      "start                 10534771\n",
      "duration                 29084\n",
      "type                    rumble\n",
      "background                   1\n",
      "Name: 32, dtype: object\n",
      "source filename: EFAF2011A010.WAV\n",
      "../../data/AdventuresWithElephants_Dataset/wavs/all/EFAF2011A010.WAV\n",
      "x: \n",
      "[-18 -31 -52 ... -17 -18 -39]\n",
      "sr_orig: 44100\n",
      "y: \n",
      "[   0  -39  -24 ... -159  -66   -9]\n"
     ]
    },
    {
     "name": "stderr",
     "output_type": "stream",
     "text": [
      "\r",
      "  5%|▌         | 33/618 [00:30<09:07,  1.07it/s]"
     ]
    },
    {
     "name": "stdout",
     "output_type": "stream",
     "text": [
      "yb class: [  0   0   0 ... -89 -56 -62]\n",
      "index: 33\n",
      "row: \n",
      "filename      EFAF2011A010.WAV\n",
      "start                 10684693\n",
      "duration                 38235\n",
      "type                    rumble\n",
      "background                   0\n",
      "Name: 33, dtype: object\n",
      "source filename: EFAF2011A010.WAV\n",
      "../../data/AdventuresWithElephants_Dataset/wavs/all/EFAF2011A010.WAV\n",
      "x: \n",
      "[-18 -31 -52 ... -17 -18 -39]\n",
      "sr_orig: 44100\n"
     ]
    },
    {
     "name": "stderr",
     "output_type": "stream",
     "text": [
      "\r",
      "  6%|▌         | 34/618 [00:31<09:01,  1.08it/s]"
     ]
    },
    {
     "name": "stdout",
     "output_type": "stream",
     "text": [
      "y: \n",
      "[  0   0   0 ... 709 636 662]\n",
      "index: 34\n",
      "row: \n",
      "filename      EFAF2011A010.WAV\n",
      "start                 10790405\n",
      "duration                 30363\n",
      "type                    rumble\n",
      "background                   0\n",
      "Name: 34, dtype: object\n",
      "source filename: EFAF2011A010.WAV\n",
      "../../data/AdventuresWithElephants_Dataset/wavs/all/EFAF2011A010.WAV\n",
      "x: \n",
      "[-18 -31 -52 ... -17 -18 -39]\n",
      "sr_orig: 44100\n"
     ]
    },
    {
     "name": "stderr",
     "output_type": "stream",
     "text": [
      "\r",
      "  6%|▌         | 35/618 [00:32<08:56,  1.09it/s]"
     ]
    },
    {
     "name": "stdout",
     "output_type": "stream",
     "text": [
      "y: \n",
      "[  0   0   0 ... -19 -11 -17]\n",
      "index: 35\n",
      "row: \n",
      "filename      EFAF2011A010.WAV\n",
      "start                 13432313\n",
      "duration                196077\n",
      "type                    rumble\n",
      "background                   1\n",
      "Name: 35, dtype: object\n",
      "source filename: EFAF2011A010.WAV\n",
      "../../data/AdventuresWithElephants_Dataset/wavs/all/EFAF2011A010.WAV\n",
      "x: \n",
      "[-18 -31 -52 ... -17 -18 -39]\n",
      "sr_orig: 44100\n",
      "y: \n",
      "[-141 -355 -398 ...   -5   -6   -3]\n"
     ]
    },
    {
     "name": "stderr",
     "output_type": "stream",
     "text": [
      "\r",
      "  6%|▌         | 36/618 [00:33<09:00,  1.08it/s]"
     ]
    },
    {
     "name": "stdout",
     "output_type": "stream",
     "text": [
      "yb class: [   0    0    0 ...  -82  -73 -190]\n",
      "index: 36\n",
      "row: \n",
      "filename      EFAF2011A012.WAV\n",
      "start                  4167674\n",
      "duration                 37754\n",
      "type                    rumble\n",
      "background                   0\n",
      "Name: 36, dtype: object\n",
      "source filename: EFAF2011A012.WAV\n",
      "../../data/AdventuresWithElephants_Dataset/wavs/all/EFAF2011A012.WAV\n",
      "File EFAF2011A012.WAV not found.\n"
     ]
    }
   ],
   "source": [
    "# now we open the source file, cut out the piece that is annotated and save that as a 5 second sample\n",
    "import sys, csv, os, shutil\n",
    "import numpy as np\n",
    "\n",
    "# we will also resample the original recordings\n",
    "#import librosa\n",
    "import soundfile as sf\n",
    "import resampy\n",
    "\n",
    "from tqdm import tqdm\n",
    "\n",
    "# this is the sample reate we want\n",
    "#sr_target = 44100\n",
    "sr_target = 16000\n",
    "\n",
    "fileList = []\n",
    "\n",
    "# for each annotation do\n",
    "for index,row in tqdm(df.iterrows(), total=len(df)):\n",
    "    print(\"index: \" + str(index))\n",
    "    print(\"row: \")\n",
    "    print(row)\n",
    "    # map mat file contents\n",
    "    source_filename = row.filename\n",
    "    start = row.start\n",
    "    duration = row.duration\n",
    "    category = row.type\n",
    "    print(\"source filename: \" + source_filename)\n",
    "    # read source wav \n",
    "    src_file_path = os.path.normcase(\"%s/%s\" % (source_path,source_filename))\n",
    "    print(src_file_path)\n",
    "    # check if sourcefile exists\n",
    "    if os.path.exists(src_file_path):\n",
    "        # resample\n",
    "        # Load audio file at its native sampling rate\n",
    "        #x, sr_orig = librosa.load(src_file_path, mono=True, sr=None, dtype=np.int16)\n",
    "        x, sr_orig = sf.read(src_file_path, dtype='int16')\n",
    "        print(\"x: \")\n",
    "        print(x)\n",
    "        print(\"sr_orig: \" + str(sr_orig))\n",
    "        # We can resample this to any sampling rate we like, say 16000 Hz\n",
    "        # define 5 seconds\n",
    "        delta = 10 * sr_orig\n",
    "        # clip from start to next 5 seconds resample in target sample rate\n",
    "        y = resampy.resample(x[start:start + delta + 1], sr_orig, sr_target)\n",
    "        print(\"y: \")\n",
    "        print(y)\n",
    "        # check if previous 5 secs is background\n",
    "        # if so create a background sample\n",
    "        if (row.background == 1):\n",
    "            # clip from start to next 5 seconds resample in target sample rate\n",
    "            yb = resampy.resample(x[start-delta:start+1], sr_orig, sr_target)\n",
    "            print(\"yb class: \" + str(yb))\n",
    "            # make destination path\n",
    "            b_dst_fname = \"Background\" + source_filename.split('.')[0] + '-' + str(round((start-delta)/sr_orig)) + '.' + source_filename.split('.')[1]\n",
    "            # add meta data to list\n",
    "            fileList.append([b_dst_fname,'background'])\n",
    "            # path\n",
    "            b_dst_file_path = \"%s/%s\" % (dest_path,b_dst_fname)\n",
    "            # write it back\n",
    "            #librosa.output.write_wav(b_dst_file_path, yb, sr_target)\n",
    "            sf.write(b_dst_file_path, yb, sr_target)\n",
    "        # make destination path\n",
    "        dest_filename = \"Elephant\" + source_filename.split('.')[0] + '-' + str(round(start/sr_orig)) + '.' + source_filename.split('.')[1]\n",
    "        dst_file_path = \"%s/%s\" % (dest_path,dest_filename)\n",
    "\n",
    "        # create meta data file\n",
    "        fileList.append([dest_filename,category])\n",
    "\n",
    "        # write it back\n",
    "        #librosa.output.write_wav(dst_file_path, y, sr_target)\n",
    "        sf.write(dst_file_path, y, sr_target)\n",
    "        #break;\n",
    "    else:\n",
    "        print('File %s not found.' % source_filename)\n",
    "        break;"
   ]
  },
  {
   "cell_type": "code",
   "execution_count": 16,
   "metadata": {
    "collapsed": true
   },
   "outputs": [],
   "source": [
    "# save the metadata for later\n",
    "fileList\n",
    "md = pd.DataFrame(fileList, columns=[\"filename\", \"category\"])  \n",
    "md.to_csv('./labels/custom/jungle/meta-data-elephant-adventures.csv',index=False)"
   ]
  },
  {
   "cell_type": "code",
   "execution_count": 17,
   "metadata": {},
   "outputs": [
    {
     "data": {
      "text/html": [
       "<div>\n",
       "<style scoped>\n",
       "    .dataframe tbody tr th:only-of-type {\n",
       "        vertical-align: middle;\n",
       "    }\n",
       "\n",
       "    .dataframe tbody tr th {\n",
       "        vertical-align: top;\n",
       "    }\n",
       "\n",
       "    .dataframe thead th {\n",
       "        text-align: right;\n",
       "    }\n",
       "</style>\n",
       "<table border=\"1\" class=\"dataframe\">\n",
       "  <thead>\n",
       "    <tr style=\"text-align: right;\">\n",
       "      <th></th>\n",
       "      <th>filename</th>\n",
       "      <th>category</th>\n",
       "    </tr>\n",
       "  </thead>\n",
       "  <tbody>\n",
       "    <tr>\n",
       "      <th>40</th>\n",
       "      <td>ElephantEFAF2011A010-239.WAV</td>\n",
       "      <td>rumble</td>\n",
       "    </tr>\n",
       "    <tr>\n",
       "      <th>41</th>\n",
       "      <td>ElephantEFAF2011A010-242.WAV</td>\n",
       "      <td>rumble</td>\n",
       "    </tr>\n",
       "    <tr>\n",
       "      <th>42</th>\n",
       "      <td>ElephantEFAF2011A010-245.WAV</td>\n",
       "      <td>rumble</td>\n",
       "    </tr>\n",
       "    <tr>\n",
       "      <th>43</th>\n",
       "      <td>BackgroundEFAF2011A010-295.WAV</td>\n",
       "      <td>background</td>\n",
       "    </tr>\n",
       "    <tr>\n",
       "      <th>44</th>\n",
       "      <td>ElephantEFAF2011A010-305.WAV</td>\n",
       "      <td>rumble</td>\n",
       "    </tr>\n",
       "  </tbody>\n",
       "</table>\n",
       "</div>"
      ],
      "text/plain": [
       "                          filename    category\n",
       "40    ElephantEFAF2011A010-239.WAV      rumble\n",
       "41    ElephantEFAF2011A010-242.WAV      rumble\n",
       "42    ElephantEFAF2011A010-245.WAV      rumble\n",
       "43  BackgroundEFAF2011A010-295.WAV  background\n",
       "44    ElephantEFAF2011A010-305.WAV      rumble"
      ]
     },
     "execution_count": 17,
     "metadata": {},
     "output_type": "execute_result"
    }
   ],
   "source": [
    "md.tail()"
   ]
  },
  {
   "cell_type": "code",
   "execution_count": 18,
   "metadata": {
    "collapsed": true
   },
   "outputs": [],
   "source": [
    "# copy all wavs to audio dir in serval\n",
    "import glob\n",
    "import shutil\n",
    "import os\n",
    "\n",
    "src_dir = \"../../data/audio/serval-data/raw/elephants-angela\"\n",
    "dst_dir = \"../../data/audio/serval-data/wav-16bit-16khz/elephants-angela\"\n",
    "\n",
    "\n",
    "for jpgfile in glob.iglob(os.path.join(src_dir, \"*.WAV\")):\n",
    "    shutil.copy(jpgfile, dst_dir)\n"
   ]
  },
  {
   "cell_type": "code",
   "execution_count": null,
   "metadata": {
    "collapsed": true
   },
   "outputs": [],
   "source": []
  }
 ],
 "metadata": {
  "kernelspec": {
   "display_name": "Python [default]",
   "language": "python",
   "name": "python3"
  },
  "language_info": {
   "codemirror_mode": {
    "name": "ipython",
    "version": 3
   },
   "file_extension": ".py",
   "mimetype": "text/x-python",
   "name": "python",
   "nbconvert_exporter": "python",
   "pygments_lexer": "ipython3",
   "version": "3.6.1"
  }
 },
 "nbformat": 4,
 "nbformat_minor": 2
}
