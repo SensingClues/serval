{
 "cells": [
  {
   "cell_type": "markdown",
   "metadata": {},
   "source": [
    "## Audio Analysis of WAV files\n",
    "\n",
    "Here we are looking for best way to reppresent audio recordings in a spectrogram for deeplearning"
   ]
  },
  {
   "cell_type": "code",
   "execution_count": 1,
   "metadata": {},
   "outputs": [
    {
     "name": "stderr",
     "output_type": "stream",
     "text": [
      "C:\\data\\programs\\Anaconda3\\envs\\tf-gpu-sensing-clues\\lib\\site-packages\\pydub\\utils.py:165: RuntimeWarning: Couldn't find ffmpeg or avconv - defaulting to ffmpeg, but may not work\n",
      "  warn(\"Couldn't find ffmpeg or avconv - defaulting to ffmpeg, but may not work\", RuntimeWarning)\n"
     ]
    }
   ],
   "source": [
    "# load stuff we need\n",
    "import json\n",
    "import logging\n",
    "import os\n",
    "import time\n",
    "import warnings\n",
    "import librosa\n",
    "import librosa.display # now seperate\n",
    "import numpy as np\n",
    "import pandas as pd\n",
    "import pydub\n",
    "import sklearn.preprocessing\n",
    "\n",
    "from tqdm import tqdm\n",
    "import h5py as h5py\n",
    "from config import *\n",
    "\n",
    "import random\n",
    "import soundfile as sf\n",
    "\n",
    "from datetime import datetime"
   ]
  },
  {
   "cell_type": "code",
   "execution_count": 2,
   "metadata": {},
   "outputs": [],
   "source": [
    "# Project directory\n",
    "project_name     = 'amsterdam_custom_samples'\n",
    "\n",
    "# Other settings\n",
    "proportion_train = 0.5"
   ]
  },
  {
   "cell_type": "code",
   "execution_count": 3,
   "metadata": {},
   "outputs": [],
   "source": [
    "# Set your serval data folder (should be correctly set already)\n",
    "serval_data_folder = \"../data\"\n",
    "project_data_folder = serval_data_folder + '/' + project_name"
   ]
  },
  {
   "cell_type": "code",
   "execution_count": 4,
   "metadata": {},
   "outputs": [],
   "source": [
    "# Set input files\n",
    "input_wav_samples_to_combine_filepath     = project_data_folder + \"/csv_files/input_wav_samples_to_combine.csv\"\n",
    "\n",
    "# Both input and target\n",
    "target_resampled_wav_samples              = project_data_folder + \"/csv_files/output_resampled_wav_samples.csv\"\n",
    "target_resampled_wav_samples_backup       = project_data_folder + \"/csv_files/output_resampled_wav_samples_backup_\" + datetime.today().strftime('%Y%m%d_%H%M%S') + '.csv'\n",
    "\n",
    "# Set output filepath\n",
    "target_resampled_wav_folder               = project_data_folder + \"/wav_samples\""
   ]
  },
  {
   "cell_type": "code",
   "execution_count": null,
   "metadata": {},
   "outputs": [],
   "source": []
  },
  {
   "cell_type": "code",
   "execution_count": 5,
   "metadata": {},
   "outputs": [
    {
     "data": {
      "text/html": [
       "<div>\n",
       "<style scoped>\n",
       "    .dataframe tbody tr th:only-of-type {\n",
       "        vertical-align: middle;\n",
       "    }\n",
       "\n",
       "    .dataframe tbody tr th {\n",
       "        vertical-align: top;\n",
       "    }\n",
       "\n",
       "    .dataframe thead th {\n",
       "        text-align: right;\n",
       "    }\n",
       "</style>\n",
       "<table border=\"1\" class=\"dataframe\">\n",
       "  <thead>\n",
       "    <tr style=\"text-align: right;\">\n",
       "      <th></th>\n",
       "      <th>file_1_label_filter</th>\n",
       "      <th>file_1_filepath_filter</th>\n",
       "      <th>file_2_label_filter</th>\n",
       "      <th>file_2_filepath_filter</th>\n",
       "      <th>cnt_generated_samples</th>\n",
       "      <th>resample_project_name</th>\n",
       "    </tr>\n",
       "  </thead>\n",
       "  <tbody>\n",
       "    <tr>\n",
       "      <th>0</th>\n",
       "      <td>1000</td>\n",
       "      <td>0db</td>\n",
       "      <td>KEEP_ALL</td>\n",
       "      <td>6db</td>\n",
       "      <td>100</td>\n",
       "      <td>custom_youtube_1000</td>\n",
       "    </tr>\n",
       "    <tr>\n",
       "      <th>1</th>\n",
       "      <td>1001</td>\n",
       "      <td>0db</td>\n",
       "      <td>KEEP_ALL</td>\n",
       "      <td>6db</td>\n",
       "      <td>100</td>\n",
       "      <td>custom_youtube_1001</td>\n",
       "    </tr>\n",
       "    <tr>\n",
       "      <th>2</th>\n",
       "      <td>1002</td>\n",
       "      <td>0db</td>\n",
       "      <td>KEEP_ALL</td>\n",
       "      <td>6db</td>\n",
       "      <td>100</td>\n",
       "      <td>custom_youtube_1002</td>\n",
       "    </tr>\n",
       "    <tr>\n",
       "      <th>3</th>\n",
       "      <td>1003</td>\n",
       "      <td>0db</td>\n",
       "      <td>KEEP_ALL</td>\n",
       "      <td>6db</td>\n",
       "      <td>100</td>\n",
       "      <td>custom_youtube_1003</td>\n",
       "    </tr>\n",
       "    <tr>\n",
       "      <th>4</th>\n",
       "      <td>1004</td>\n",
       "      <td>0db</td>\n",
       "      <td>KEEP_ALL</td>\n",
       "      <td>6db</td>\n",
       "      <td>100</td>\n",
       "      <td>custom_youtube_1004</td>\n",
       "    </tr>\n",
       "    <tr>\n",
       "      <th>5</th>\n",
       "      <td>1005</td>\n",
       "      <td>0db</td>\n",
       "      <td>KEEP_ALL</td>\n",
       "      <td>6db</td>\n",
       "      <td>100</td>\n",
       "      <td>custom_youtube_1005</td>\n",
       "    </tr>\n",
       "    <tr>\n",
       "      <th>6</th>\n",
       "      <td>1006</td>\n",
       "      <td>0db</td>\n",
       "      <td>KEEP_ALL</td>\n",
       "      <td>6db</td>\n",
       "      <td>100</td>\n",
       "      <td>custom_youtube_1006</td>\n",
       "    </tr>\n",
       "    <tr>\n",
       "      <th>7</th>\n",
       "      <td>1007</td>\n",
       "      <td>0db</td>\n",
       "      <td>KEEP_ALL</td>\n",
       "      <td>6db</td>\n",
       "      <td>100</td>\n",
       "      <td>custom_youtube_1007</td>\n",
       "    </tr>\n",
       "    <tr>\n",
       "      <th>8</th>\n",
       "      <td>1008</td>\n",
       "      <td>0db</td>\n",
       "      <td>KEEP_ALL</td>\n",
       "      <td>6db</td>\n",
       "      <td>100</td>\n",
       "      <td>custom_youtube_1008</td>\n",
       "    </tr>\n",
       "    <tr>\n",
       "      <th>9</th>\n",
       "      <td>1009</td>\n",
       "      <td>0db</td>\n",
       "      <td>KEEP_ALL</td>\n",
       "      <td>6db</td>\n",
       "      <td>100</td>\n",
       "      <td>custom_youtube_1009</td>\n",
       "    </tr>\n",
       "  </tbody>\n",
       "</table>\n",
       "</div>"
      ],
      "text/plain": [
       "   file_1_label_filter file_1_filepath_filter file_2_label_filter  \\\n",
       "0                 1000                    0db            KEEP_ALL   \n",
       "1                 1001                    0db            KEEP_ALL   \n",
       "2                 1002                    0db            KEEP_ALL   \n",
       "3                 1003                    0db            KEEP_ALL   \n",
       "4                 1004                    0db            KEEP_ALL   \n",
       "5                 1005                    0db            KEEP_ALL   \n",
       "6                 1006                    0db            KEEP_ALL   \n",
       "7                 1007                    0db            KEEP_ALL   \n",
       "8                 1008                    0db            KEEP_ALL   \n",
       "9                 1009                    0db            KEEP_ALL   \n",
       "\n",
       "  file_2_filepath_filter  cnt_generated_samples resample_project_name  \n",
       "0                    6db                    100   custom_youtube_1000  \n",
       "1                    6db                    100   custom_youtube_1001  \n",
       "2                    6db                    100   custom_youtube_1002  \n",
       "3                    6db                    100   custom_youtube_1003  \n",
       "4                    6db                    100   custom_youtube_1004  \n",
       "5                    6db                    100   custom_youtube_1005  \n",
       "6                    6db                    100   custom_youtube_1006  \n",
       "7                    6db                    100   custom_youtube_1007  \n",
       "8                    6db                    100   custom_youtube_1008  \n",
       "9                    6db                    100   custom_youtube_1009  "
      ]
     },
     "metadata": {},
     "output_type": "display_data"
    }
   ],
   "source": [
    "# Load selected wav samples from csv\n",
    "df_combinations = pd.read_csv(input_wav_samples_to_combine_filepath, sep=\";\")\n",
    "\n",
    "# Load all available wav samples from csv\n",
    "df_samples = pd.read_csv(target_resampled_wav_samples, sep=\";\")\n",
    "\n",
    "# Write backup csv back to disk\n",
    "df_samples.to_csv(target_resampled_wav_samples_backup, sep=\";\", index=False)\n",
    "\n",
    "# Print\n",
    "display(df_combinations)"
   ]
  },
  {
   "cell_type": "code",
   "execution_count": null,
   "metadata": {},
   "outputs": [],
   "source": []
  },
  {
   "cell_type": "code",
   "execution_count": null,
   "metadata": {},
   "outputs": [],
   "source": []
  },
  {
   "cell_type": "code",
   "execution_count": 6,
   "metadata": {},
   "outputs": [],
   "source": [
    "# RESAMPLE 16 bit 16 kHz mono\n",
    "import numpy as np\n",
    "import scipy.signal\n",
    "import librosa\n",
    "import resampy\n",
    "\n",
    "def resample(file):\n",
    "    # Load in some audio\n",
    "    x, sr_orig = librosa.load(file, sr=None, mono=True)\n",
    "\n",
    "    sr_new = 16000\n",
    "    # Or use the pre-built high-quality filter\n",
    "    y = resampy.resample(x, sr_orig, sr_new, filter='kaiser_best') \n",
    "    return(y,sr_new)"
   ]
  },
  {
   "cell_type": "code",
   "execution_count": null,
   "metadata": {},
   "outputs": [],
   "source": []
  },
  {
   "cell_type": "code",
   "execution_count": 7,
   "metadata": {},
   "outputs": [],
   "source": [
    "def combine_samples(df_samples, train_or_test):\n",
    "    df_samples_target = df_samples.copy(deep=True)\n",
    "\n",
    "    for index, row in df_combinations.iterrows():\n",
    "        ## Get and create output folder if it does not exist yet\n",
    "        target_filepath = target_resampled_wav_folder + '/' + train_or_test + '/combine_' + row.resample_project_name\n",
    "        if not os.path.exists(os.path.dirname(target_filepath + '/')):\n",
    "            os.makedirs(os.path.dirname(target_filepath + '/'))\n",
    "\n",
    "        ## Get selected samples\n",
    "        df_filtered_samples_1 = df_samples.loc[(df_samples.label.isin([row.file_1_label_filter])    | (row.file_1_label_filter in ['*', 'KEEP_ALL'])) &\n",
    "                                               (df_samples.filepath.apply(lambda x : row.file_1_filepath_filter in x) | (row.file_1_filepath_filter in ['*', 'KEEP_ALL'])) &\n",
    "                                               (df_samples.ind_train == train_or_test)]\n",
    "        df_filtered_samples_2 = df_samples.loc[(df_samples.label.isin([row.file_2_label_filter])    | (row.file_2_label_filter in ['*', 'KEEP_ALL'])) &\n",
    "                                               (df_samples.filepath.apply(lambda x : row.file_2_filepath_filter in x) | (row.file_2_filepath_filter in ['*', 'KEEP_ALL'])) &\n",
    "                                               (df_samples.ind_train == train_or_test)]\n",
    "\n",
    "        if (len(df_filtered_samples_1) <= 3) or (len(df_filtered_samples_2) <= 3):\n",
    "            print('[WARNING]: Invalid filter used; found samples 1: ', len(df_filtered_samples_1), '; found samples 2: ', len(df_filtered_samples_2), sep='')\n",
    "            print(row)\n",
    "            continue\n",
    "\n",
    "        # Generate random sample\n",
    "        permutation_1 = np.random.choice(range(0, len(df_filtered_samples_1)), size=row.cnt_generated_samples, replace=True)\n",
    "        permutation_2 = np.random.choice(range(0, len(df_filtered_samples_2)), size=row.cnt_generated_samples, replace=True)\n",
    "\n",
    "        ## Iterate over all samples\n",
    "        for index in tqdm(range(1, row.cnt_generated_samples)):\n",
    "            file1 = df_filtered_samples_1.iloc[permutation_1[index]].filepath\n",
    "            file2 = df_filtered_samples_2.iloc[permutation_2[index]].filepath\n",
    "\n",
    "            filename1 = os.path.basename(os.path.splitext(os.path.normpath(file1))[0])\n",
    "            filename2 = os.path.basename(os.path.splitext(os.path.normpath(file2))[0])\n",
    "\n",
    "            target_combined_filepath = target_filepath + '/' + filename1 + '__' + filename2 + '.wav'\n",
    "\n",
    "            df_wav_samples_file1 = df_samples.loc[df_samples.filepath.apply(lambda x : file1 in x)]\n",
    "            df_wav_samples_file2 = df_samples.loc[df_samples.filepath.apply(lambda x : file2 in x)]\n",
    "\n",
    "            df = df_wav_samples_file1.copy(deep=True).append(df_wav_samples_file2, ignore_index=True)\n",
    "            df.source = 'combined/' + df.source\n",
    "            df.filename = target_combined_filepath\n",
    "            df.filepath = target_combined_filepath\n",
    "            df.filename_old = filename1 + '//' + filename2\n",
    "            df.filepath_old = \"\"\n",
    "\n",
    "            df = df.drop_duplicates(subset = [\"label\"])\n",
    "\n",
    "            if (len(df_wav_samples_file1) == 0) or (len(df_wav_samples_file2) == 0):\n",
    "                print('[ERROR]: Invalid file selected; file1: ', file1, '; file2: ', file2, sep='')\n",
    "                continue\n",
    "\n",
    "            df_samples_target.append(df, ignore_index=True)\n",
    "\n",
    "            y1, sr1 = resample(file1)\n",
    "            y2, sr2 = resample(file2)\n",
    "            if len(y1) > len(y2):\n",
    "                y2 = y2 + y1[0:len(y2)]\n",
    "                sf.write(target_combined_filepath, y2, sr2, subtype='PCM_16')\n",
    "            else:\n",
    "                y1 = y1 + y2[0:len(y1)]\n",
    "                sf.write(target_combined_filepath, y1, sr1, subtype='PCM_16')\n",
    "\n",
    "    return(df_samples_target)"
   ]
  },
  {
   "cell_type": "code",
   "execution_count": 8,
   "metadata": {},
   "outputs": [
    {
     "name": "stderr",
     "output_type": "stream",
     "text": [
      "100%|██████████| 99/99 [00:27<00:00,  3.60it/s]\n",
      "100%|██████████| 99/99 [00:31<00:00,  3.12it/s]\n",
      "100%|██████████| 99/99 [00:32<00:00,  3.02it/s]\n",
      "100%|██████████| 99/99 [00:33<00:00,  2.99it/s]\n",
      "100%|██████████| 99/99 [00:31<00:00,  3.17it/s]\n",
      "100%|██████████| 99/99 [00:31<00:00,  3.13it/s]\n",
      "100%|██████████| 99/99 [00:33<00:00,  2.99it/s]\n",
      "100%|██████████| 99/99 [00:32<00:00,  3.03it/s]\n",
      "100%|██████████| 99/99 [00:33<00:00,  2.92it/s]\n",
      "100%|██████████| 99/99 [00:31<00:00,  3.13it/s]\n"
     ]
    }
   ],
   "source": [
    "df_samples_target_train = combine_samples(df_samples, \"train\")"
   ]
  },
  {
   "cell_type": "code",
   "execution_count": 9,
   "metadata": {},
   "outputs": [
    {
     "name": "stderr",
     "output_type": "stream",
     "text": [
      "100%|██████████| 99/99 [00:28<00:00,  3.52it/s]\n",
      "100%|██████████| 99/99 [00:34<00:00,  2.87it/s]\n",
      "100%|██████████| 99/99 [00:32<00:00,  3.02it/s]\n",
      "100%|██████████| 99/99 [00:33<00:00,  2.91it/s]\n",
      "100%|██████████| 99/99 [00:33<00:00,  2.97it/s]\n",
      "100%|██████████| 99/99 [00:31<00:00,  3.13it/s]\n",
      "100%|██████████| 99/99 [00:31<00:00,  3.14it/s]\n",
      "100%|██████████| 99/99 [00:30<00:00,  3.28it/s]\n",
      "100%|██████████| 99/99 [00:31<00:00,  3.16it/s]\n",
      "100%|██████████| 99/99 [00:30<00:00,  3.25it/s]\n"
     ]
    }
   ],
   "source": [
    "df_samples_target_train_eval = combine_samples(df_samples_target_train, \"eval\")"
   ]
  },
  {
   "cell_type": "code",
   "execution_count": 10,
   "metadata": {},
   "outputs": [],
   "source": [
    "# Write full resampled wav files back to disk\n",
    "df_samples_target_train_eval.to_csv(target_resampled_wav_samples, sep=';', index=False)"
   ]
  },
  {
   "cell_type": "code",
   "execution_count": null,
   "metadata": {},
   "outputs": [],
   "source": []
  },
  {
   "cell_type": "code",
   "execution_count": 17,
   "metadata": {},
   "outputs": [],
   "source": []
  },
  {
   "cell_type": "code",
   "execution_count": 19,
   "metadata": {},
   "outputs": [],
   "source": []
  },
  {
   "cell_type": "code",
   "execution_count": null,
   "metadata": {},
   "outputs": [],
   "source": []
  },
  {
   "cell_type": "code",
   "execution_count": 20,
   "metadata": {},
   "outputs": [],
   "source": []
  },
  {
   "cell_type": "code",
   "execution_count": 24,
   "metadata": {},
   "outputs": [],
   "source": []
  },
  {
   "cell_type": "code",
   "execution_count": null,
   "metadata": {},
   "outputs": [],
   "source": []
  },
  {
   "cell_type": "code",
   "execution_count": null,
   "metadata": {},
   "outputs": [],
   "source": []
  },
  {
   "cell_type": "code",
   "execution_count": null,
   "metadata": {},
   "outputs": [],
   "source": []
  },
  {
   "cell_type": "code",
   "execution_count": null,
   "metadata": {},
   "outputs": [],
   "source": []
  },
  {
   "cell_type": "code",
   "execution_count": null,
   "metadata": {
    "scrolled": true
   },
   "outputs": [],
   "source": []
  },
  {
   "cell_type": "code",
   "execution_count": null,
   "metadata": {},
   "outputs": [],
   "source": []
  },
  {
   "cell_type": "code",
   "execution_count": null,
   "metadata": {},
   "outputs": [],
   "source": []
  },
  {
   "cell_type": "code",
   "execution_count": null,
   "metadata": {},
   "outputs": [],
   "source": []
  }
 ],
 "metadata": {
  "kernelspec": {
   "display_name": "Python 3",
   "language": "python",
   "name": "python3"
  },
  "language_info": {
   "codemirror_mode": {
    "name": "ipython",
    "version": 3
   },
   "file_extension": ".py",
   "mimetype": "text/x-python",
   "name": "python",
   "nbconvert_exporter": "python",
   "pygments_lexer": "ipython3",
   "version": "3.7.6"
  }
 },
 "nbformat": 4,
 "nbformat_minor": 4
}
