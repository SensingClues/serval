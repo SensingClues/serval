{
 "cells": [
  {
   "cell_type": "markdown",
   "metadata": {},
   "source": [
    "## Audio Analysis of WAV files\n",
    "\n",
    "Here we are looking for best way to reppresent audio recordings in a spectrogram for deeplearning"
   ]
  },
  {
   "cell_type": "code",
   "execution_count": null,
   "metadata": {},
   "outputs": [],
   "source": [
    "# load stuff we need\n",
    "import json\n",
    "import logging\n",
    "import os\n",
    "import time\n",
    "import warnings\n",
    "import librosa\n",
    "import librosa.display # now seperate\n",
    "import numpy as np\n",
    "import pandas as pd\n",
    "import pydub\n",
    "import sklearn.preprocessing\n",
    "\n",
    "from tqdm import tqdm\n",
    "import h5py as h5py\n",
    "from config import *\n",
    "\n",
    "import random\n",
    "import soundfile as sf\n",
    "\n",
    "from datetime import datetime"
   ]
  },
  {
   "cell_type": "code",
   "execution_count": null,
   "metadata": {},
   "outputs": [],
   "source": [
    "# Project directory\n",
    "project_name     = 'amsterdam_custom_samples'\n",
    "\n",
    "# Other settings\n",
    "proportion_train = 0.5"
   ]
  },
  {
   "cell_type": "code",
   "execution_count": null,
   "metadata": {},
   "outputs": [],
   "source": [
    "# Set your serval data folder (should be correctly set already)\n",
    "serval_data_folder = \"../data\"\n",
    "project_data_folder = serval_data_folder + '/' + project_name"
   ]
  },
  {
   "cell_type": "code",
   "execution_count": null,
   "metadata": {},
   "outputs": [],
   "source": [
    "# Set input files\n",
    "input_wav_samples_to_combine_filepath     = project_data_folder + \"/csv_files/input_wav_samples_to_combine.csv\"\n",
    "\n",
    "# Both input and target\n",
    "target_resampled_wav_samples              = project_data_folder + \"/csv_files/output_resampled_wav_samples.csv\"\n",
    "target_resampled_wav_samples_backup       = project_data_folder + \"/csv_files/output_resampled_wav_samples_backup_\" + datetime.today().strftime('%Y%m%d_%H%M%S') + '.csv'\n",
    "\n",
    "# Set output filepath\n",
    "target_resampled_wav_folder               = project_data_folder + \"/wav_samples\""
   ]
  },
  {
   "cell_type": "code",
   "execution_count": null,
   "metadata": {},
   "outputs": [],
   "source": []
  },
  {
   "cell_type": "code",
   "execution_count": null,
   "metadata": {},
   "outputs": [],
   "source": [
    "# Load selected wav samples from csv\n",
    "df_combinations = pd.read_csv(input_wav_samples_to_combine_filepath, sep=\";\")\n",
    "\n",
    "# Load all available wav samples from csv\n",
    "df_samples = pd.read_csv(target_resampled_wav_samples, sep=\";\")\n",
    "\n",
    "# Write backup csv back to disk\n",
    "df_samples.to_csv(target_resampled_wav_samples_backup, sep=\";\", index=False)\n",
    "\n",
    "# Print\n",
    "display(df_combinations)"
   ]
  },
  {
   "cell_type": "code",
   "execution_count": null,
   "metadata": {},
   "outputs": [],
   "source": []
  },
  {
   "cell_type": "code",
   "execution_count": null,
   "metadata": {},
   "outputs": [],
   "source": []
  },
  {
   "cell_type": "code",
   "execution_count": null,
   "metadata": {},
   "outputs": [],
   "source": [
    "# RESAMPLE 16 bit 16 kHz mono\n",
    "import numpy as np\n",
    "import scipy.signal\n",
    "import librosa\n",
    "import resampy\n",
    "\n",
    "def resample(file):\n",
    "    # Load in some audio\n",
    "    x, sr_orig = librosa.load(file, sr=None, mono=True)\n",
    "\n",
    "    sr_new = 16000\n",
    "    # Or use the pre-built high-quality filter\n",
    "    y = resampy.resample(x, sr_orig, sr_new, filter='kaiser_best') \n",
    "    return(y,sr_new)"
   ]
  },
  {
   "cell_type": "code",
   "execution_count": null,
   "metadata": {},
   "outputs": [],
   "source": []
  },
  {
   "cell_type": "code",
   "execution_count": null,
   "metadata": {},
   "outputs": [],
   "source": [
    "def combine_samples(df_samples, train_or_test):\n",
    "    df_samples_target = df_samples.copy(deep=True)\n",
    "\n",
    "    for index, row in df_combinations.iterrows():\n",
    "        ## Get and create output folder if it does not exist yet\n",
    "        target_filepath = target_resampled_wav_folder + '/' + train_or_test + '/combine_' + row.resample_project_name\n",
    "        if not os.path.exists(os.path.dirname(target_filepath + '/')):\n",
    "            os.makedirs(os.path.dirname(target_filepath + '/'))\n",
    "\n",
    "        ## Get selected samples\n",
    "        df_filtered_samples_1 = df_samples.loc[(df_samples.label.isin([row.file_1_label_filter])    | (row.file_1_label_filter in ['*', 'KEEP_ALL'])) &\n",
    "                                               (df_samples.filepath.apply(lambda x : row.file_1_filepath_filter in x) | (row.file_1_filepath_filter in ['*', 'KEEP_ALL'])) &\n",
    "                                               (df_samples.ind_train == train_or_test)]\n",
    "        df_filtered_samples_2 = df_samples.loc[(df_samples.label.isin([row.file_2_label_filter])    | (row.file_2_label_filter in ['*', 'KEEP_ALL'])) &\n",
    "                                               (df_samples.filepath.apply(lambda x : row.file_2_filepath_filter in x) | (row.file_2_filepath_filter in ['*', 'KEEP_ALL'])) &\n",
    "                                               (df_samples.ind_train == train_or_test)]\n",
    "\n",
    "        if (len(df_filtered_samples_1) <= 3) or (len(df_filtered_samples_2) <= 3):\n",
    "            print('[WARNING]: Invalid filter used; found samples 1: ', len(df_filtered_samples_1), '; found samples 2: ', len(df_filtered_samples_2), sep='')\n",
    "            print(row)\n",
    "            continue\n",
    "\n",
    "        # Generate random sample\n",
    "        permutation_1 = np.random.choice(range(0, len(df_filtered_samples_1)), size=row.cnt_generated_samples, replace=True)\n",
    "        permutation_2 = np.random.choice(range(0, len(df_filtered_samples_2)), size=row.cnt_generated_samples, replace=True)\n",
    "\n",
    "        ## Iterate over all samples\n",
    "        for index in tqdm(range(1, row.cnt_generated_samples)):\n",
    "            file1 = df_filtered_samples_1.iloc[permutation_1[index]].filepath\n",
    "            file2 = df_filtered_samples_2.iloc[permutation_2[index]].filepath\n",
    "\n",
    "            filename1 = os.path.basename(os.path.splitext(os.path.normpath(file1))[0])\n",
    "            filename2 = os.path.basename(os.path.splitext(os.path.normpath(file2))[0])\n",
    "\n",
    "            target_combined_filepath = target_filepath + '/' + filename1 + '__' + filename2 + '.wav'\n",
    "\n",
    "            df_wav_samples_file1 = df_samples.loc[df_samples.filepath.apply(lambda x : file1 in x)]\n",
    "            df_wav_samples_file2 = df_samples.loc[df_samples.filepath.apply(lambda x : file2 in x)]\n",
    "\n",
    "            df = df_wav_samples_file1.copy(deep=True).append(df_wav_samples_file2, ignore_index=True)\n",
    "            df.source = 'combined/' + df.source\n",
    "            df.filename = target_combined_filepath\n",
    "            df.filepath = target_combined_filepath\n",
    "            df.filename_old = filename1 + '//' + filename2\n",
    "            df.filepath_old = \"\"\n",
    "            \n",
    "            df = df.drop_duplicates(subset = [\"label\"])\n",
    "            \n",
    "            if (len(df_wav_samples_file1) == 0) or (len(df_wav_samples_file2) == 0):\n",
    "                print('[ERROR]: Invalid file selected; file1: ', file1, '; file2: ', file2, sep='')\n",
    "                continue\n",
    "\n",
    "            df_samples_target = df_samples_target.append(df, ignore_index=True)\n",
    "            \n",
    "            y1, sr1 = resample(file1)\n",
    "            y2, sr2 = resample(file2)\n",
    "            if len(y1) > len(y2):\n",
    "                y2 = y2 + y1[0:len(y2)]\n",
    "                sf.write(target_combined_filepath, y2, sr2, subtype='PCM_16')\n",
    "            else:\n",
    "                y1 = y1 + y2[0:len(y1)]\n",
    "                sf.write(target_combined_filepath, y1, sr1, subtype='PCM_16')\n",
    "\n",
    "    return(df_samples_target)"
   ]
  },
  {
   "cell_type": "code",
   "execution_count": null,
   "metadata": {},
   "outputs": [],
   "source": [
    "df_samples_target_train = combine_samples(df_samples, \"train\")"
   ]
  },
  {
   "cell_type": "code",
   "execution_count": null,
   "metadata": {},
   "outputs": [],
   "source": [
    "df_samples_target_train_eval = combine_samples(df_samples_target_train, \"eval\")"
   ]
  },
  {
   "cell_type": "code",
   "execution_count": null,
   "metadata": {},
   "outputs": [],
   "source": [
    "# Write full resampled wav files back to disk\n",
    "df_samples_target_train_eval.to_csv(target_resampled_wav_samples, sep=';', index=False)"
   ]
  },
  {
   "cell_type": "code",
   "execution_count": null,
   "metadata": {},
   "outputs": [],
   "source": []
  },
  {
   "cell_type": "code",
   "execution_count": null,
   "metadata": {},
   "outputs": [],
   "source": []
  },
  {
   "cell_type": "code",
   "execution_count": null,
   "metadata": {},
   "outputs": [],
   "source": []
  },
  {
   "cell_type": "code",
   "execution_count": null,
   "metadata": {},
   "outputs": [],
   "source": []
  },
  {
   "cell_type": "code",
   "execution_count": null,
   "metadata": {},
   "outputs": [],
   "source": []
  },
  {
   "cell_type": "code",
   "execution_count": null,
   "metadata": {},
   "outputs": [],
   "source": []
  },
  {
   "cell_type": "code",
   "execution_count": null,
   "metadata": {},
   "outputs": [],
   "source": []
  },
  {
   "cell_type": "code",
   "execution_count": null,
   "metadata": {},
   "outputs": [],
   "source": []
  },
  {
   "cell_type": "code",
   "execution_count": null,
   "metadata": {},
   "outputs": [],
   "source": []
  },
  {
   "cell_type": "code",
   "execution_count": null,
   "metadata": {},
   "outputs": [],
   "source": []
  },
  {
   "cell_type": "code",
   "execution_count": null,
   "metadata": {
    "scrolled": true
   },
   "outputs": [],
   "source": []
  },
  {
   "cell_type": "code",
   "execution_count": null,
   "metadata": {},
   "outputs": [],
   "source": []
  },
  {
   "cell_type": "code",
   "execution_count": null,
   "metadata": {},
   "outputs": [],
   "source": []
  },
  {
   "cell_type": "code",
   "execution_count": null,
   "metadata": {},
   "outputs": [],
   "source": []
  }
 ],
 "metadata": {
  "kernelspec": {
   "display_name": "Python 3",
   "language": "python",
   "name": "python3"
  },
  "language_info": {
   "codemirror_mode": {
    "name": "ipython",
    "version": 3
   },
   "file_extension": ".py",
   "mimetype": "text/x-python",
   "name": "python",
   "nbconvert_exporter": "python",
   "pygments_lexer": "ipython3",
   "version": "3.7.6"
  }
 },
 "nbformat": 4,
 "nbformat_minor": 4
}
