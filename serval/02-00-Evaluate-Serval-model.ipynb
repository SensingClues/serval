{
 "cells": [
  {
   "cell_type": "markdown",
   "metadata": {},
   "source": [
    "We have trained a model now we want to evaluate the results.\n",
    "\n",
    "See eval.py"
   ]
  },
  {
   "cell_type": "code",
   "execution_count": 1,
   "metadata": {},
   "outputs": [
    {
     "name": "stdout",
     "output_type": "stream",
     "text": [
      "WARNING:tensorflow:\n",
      "The TensorFlow contrib module will not be included in TensorFlow 2.0.\n",
      "For more information, please see:\n",
      "  * https://github.com/tensorflow/community/blob/master/rfcs/20180907-contrib-sunset.md\n",
      "  * https://github.com/tensorflow/addons\n",
      "  * https://github.com/tensorflow/io (for I/O related ops)\n",
      "If you depend on functionality not listed there, please file an issue.\n",
      "\n"
     ]
    }
   ],
   "source": [
    "# Copyright 2016 Google Inc. All Rights Reserved.\n",
    "#\n",
    "# Licensed under the Apache License, Version 2.0 (the \"License\");\n",
    "# you may not use this file except in compliance with the License.\n",
    "# You may obtain a copy of the License at\n",
    "#\n",
    "#      http://www.apache.org/licenses/LICENSE-2.0\n",
    "#\n",
    "# Unless required by applicable law or agreed to in writing, software\n",
    "# distributed under the License is distributed on an \"AS-IS\" BASIS,\n",
    "# WITHOUT WARRANTIES OR CONDITIONS OF ANY KIND, either express or implied.\n",
    "# See the License for the specific language governing permissions and\n",
    "# limitations under the License.\n",
    "\"\"\"Binary for evaluating Tensorflow models on the YouTube-8M dataset.\"\"\"\n",
    "\n",
    "import time\n",
    "\n",
    "# import modules from local files\n",
    "# modules in `vggish` folder\n",
    "import sys\n",
    "sys.path.append('./vggish')\n",
    "\n",
    "# import some adepted custom serval modules\n",
    "sys.path.append('./custom_serval_code')\n",
    "\n",
    "# we skip this one from vggish\n",
    "#import eval_util\n",
    "# and use this one\n",
    "import eval_util_serval as eval_util\n",
    "import export_model\n",
    "import losses\n",
    "import frame_level_models\n",
    "import video_level_models\n",
    "import readers\n",
    "\n",
    "# from here we write the evaluation result needed in step 3\n",
    "import utils_serval as utils\n"
   ]
  },
  {
   "cell_type": "code",
   "execution_count": 2,
   "metadata": {},
   "outputs": [],
   "source": [
    "# load tensorflow stuff\n",
    "import tensorflow as tf\n",
    "from tensorflow import app\n",
    "from tensorflow import flags\n",
    "from tensorflow import gfile\n",
    "from tensorflow import logging"
   ]
  },
  {
   "cell_type": "code",
   "execution_count": 3,
   "metadata": {},
   "outputs": [],
   "source": [
    "import os\n",
    "# set parameters\n",
    "# inside docker goto right place \n",
    "os.chdir(\"/tf/serval/serval\")\n",
    "\n",
    "# parameters\n",
    "# evaluation data directory\n",
    "edp = \"./dataset/eval_hugo_new/*.tfrecord\"\n",
    " \n",
    "# temp model directory\n",
    "tmd = \"./tmp/serval03hugo\"\n",
    "tmdl = tmd + \"/eval_log\"\n",
    "\n",
    "# number of outcome classes (see labels csv)\n",
    "# moet om een of andere reden > 20 zijn\n",
    "num_classes = 20\n",
    "\n",
    "# class_map\n",
    "class_map = \"./dataset/classlabels/csv_files/class_labels_indices_hugo.csv\"\n",
    "\n",
    "# needed in custom utils.py\n",
    "evaluation_results_csv = \"eval-serval-hugo.csv\""
   ]
  },
  {
   "cell_type": "code",
   "execution_count": 4,
   "metadata": {},
   "outputs": [],
   "source": [
    "# tensorflow FLAGS\n",
    "# most stuff we need to change is in here\n",
    "\n",
    "FLAGS = flags.FLAGS\n",
    "\n",
    "if __name__ == \"__main__\":\n",
    "  # Dataset flags.\n",
    "  flags.DEFINE_string(\"train_dir\", tmd,\n",
    "                      \"The directory to load the model files from. \"\n",
    "                      \"The tensorboard metrics files are also saved to this \"\n",
    "                      \"directory.\")\n",
    "  # defined twice ...?\n",
    "  delattr(flags.FLAGS, \"log_dir\")\n",
    "  flags.DEFINE_string(\"log_dir\", tmdl,\"The directory to write eval log to. \")\n",
    "  \n",
    "  # eval\n",
    "  # eval_new_labels\n",
    "  flags.DEFINE_string(\"eval_data_pattern\", edp,\n",
    "                      \"File glob defining the evaluation dataset in tensorflow.SequenceExample \"\n",
    "                      \"format. The SequenceExamples are expected to have an 'rgb' byte array \"\n",
    "                      \"sequence feature as well as a 'labels' int64 context feature.\")\n",
    "  flags.DEFINE_string(\"feature_names\", \"audio_embedding\", \"Name of the feature \"\n",
    "                      \"to use for training.\")\n",
    "  flags.DEFINE_string(\"feature_sizes\", \"128\", \"Length of the feature vectors.\")\n",
    "  flags.DEFINE_string(\"class_map\", class_map , \"location of class_label_indices.csv.\")\n",
    "  flags.DEFINE_integer(\"num_classes\", num_classes, \"Number of classes in dataset.\") # 527 31\n",
    "\n",
    "  # Model flags.\n",
    "  flags.DEFINE_bool(\"frame_features\", True,\n",
    "                      \"If set, then --eval_data_pattern must be frame-level features. \"\n",
    "                      \"Otherwise, --eval_data_pattern must be aggregated video-level \"\n",
    "                      \"features. The model must also be set appropriately (i.e. to read 3D \"\n",
    "                      \"batches VS 4D batches.\")\n",
    "  flags.DEFINE_string(\"model\", \"FrameLevelLogisticModel\",\n",
    "                      \"Which architecture to use for the model. Options include 'Logistic', \"\n",
    "                      \"'SingleMixtureMoe', and 'TwoLayerSigmoid'. See aggregated_models.py and \"\n",
    "                      \"frame_level_models.py for the model definitions.\")\n",
    "  flags.DEFINE_integer(\"batch_size\", 512,\n",
    "                       \"How many examples to process per batch.\")\n",
    "  flags.DEFINE_string(\"label_loss\", \"CrossEntropyLoss\",\n",
    "                      \"Loss computed on validation data\")\n",
    "\n",
    "  # Other flags.\n",
    "  flags.DEFINE_integer(\"num_readers\", 8,\n",
    "                       \"How many threads to use for reading input files.\")\n",
    "  flags.DEFINE_boolean(\"run_once\", True, \"Whether to run eval only once.\")\n",
    "  flags.DEFINE_integer(\"top_k\", 10, \"How many predictions to output per video.\")\n",
    "\n",
    "  # jupyter fix\n",
    "  flags.DEFINE_string('f', '', 'kernel')"
   ]
  },
  {
   "cell_type": "code",
   "execution_count": 5,
   "metadata": {},
   "outputs": [],
   "source": [
    "# HK  get ground truth\n",
    "ground_thruth = eval_util.get_labels(FLAGS.class_map)\n",
    "\n",
    "gt_labels = [ground_thruth[k] for k in ground_thruth]\n",
    "#print(len(gt_labels))\n"
   ]
  },
  {
   "cell_type": "code",
   "execution_count": 6,
   "metadata": {},
   "outputs": [],
   "source": [
    "# functions we use\n",
    "\n",
    "def find_class_by_name(name, modules):\n",
    "  \"\"\"Searches the provided modules for the named class and returns it.\"\"\"\n",
    "  modules = [getattr(module, name, None) for module in modules]\n",
    "  return next(a for a in modules if a)\n",
    "\n",
    "\n",
    "def get_input_evaluation_tensors(reader,\n",
    "                                 data_pattern,\n",
    "                                 batch_size=1024,\n",
    "                                 num_readers=1):\n",
    "  \"\"\"Creates the section of the graph which reads the evaluation data.\n",
    "\n",
    "  Args:\n",
    "    reader: A class which parses the training data.\n",
    "    data_pattern: A 'glob' style path to the data files.\n",
    "    batch_size: How many examples to process at a time.\n",
    "    num_readers: How many I/O threads to use.\n",
    "\n",
    "  Returns:\n",
    "    A tuple containing the features tensor, labels tensor, and optionally a\n",
    "    tensor containing the number of frames per video. The exact dimensions\n",
    "    depend on the reader being used.\n",
    "\n",
    "  Raises:\n",
    "    IOError: If no files matching the given pattern were found.\n",
    "  \"\"\"\n",
    "  logging.info(\"Using batch size of \" + str(batch_size) + \" for evaluation.\")\n",
    "  with tf.name_scope(\"eval_input\"):\n",
    "    files = gfile.Glob(data_pattern)\n",
    "    if not files:\n",
    "      raise IOError(\"Unable to find the evaluation files.\")\n",
    "    logging.info(\"number of evaluation files: \" + str(len(files)))\n",
    "    filename_queue = tf.train.string_input_producer(\n",
    "        files, shuffle=False, num_epochs=1)\n",
    "    eval_data = [\n",
    "        reader.prepare_reader(filename_queue) for _ in range(num_readers)\n",
    "    ]\n",
    "    return tf.train.batch_join(\n",
    "        eval_data,\n",
    "        batch_size=batch_size,\n",
    "        capacity=3 * batch_size,\n",
    "        allow_smaller_final_batch=True,\n",
    "        enqueue_many=True)\n",
    "\n",
    "\n",
    "def build_graph(reader,\n",
    "                model,\n",
    "                eval_data_pattern,\n",
    "                label_loss_fn,\n",
    "                batch_size=1024,\n",
    "                num_readers=1):\n",
    "  \"\"\"Creates the Tensorflow graph for evaluation.\n",
    "\n",
    "  Args:\n",
    "    reader: The data file reader. It should inherit from BaseReader.\n",
    "    model: The core model (e.g. logistic or neural net). It should inherit\n",
    "           from BaseModel.\n",
    "    eval_data_pattern: glob path to the evaluation data files.\n",
    "    label_loss_fn: What kind of loss to apply to the model. It should inherit\n",
    "                from BaseLoss.\n",
    "    batch_size: How many examples to process at a time.\n",
    "    num_readers: How many threads to use for I/O operations.\n",
    "  \"\"\"\n",
    "\n",
    "  global_step = tf.Variable(0, trainable=False, name=\"global_step\")\n",
    "  video_id_batch, model_input_raw, labels_batch, num_frames = get_input_evaluation_tensors(  # pylint: disable=g-line-too-long\n",
    "      reader,\n",
    "      eval_data_pattern,\n",
    "      batch_size=batch_size,\n",
    "      num_readers=num_readers)\n",
    "  tf.summary.histogram(\"model_input_raw\", model_input_raw)\n",
    "\n",
    "  feature_dim = len(model_input_raw.get_shape()) - 1\n",
    "\n",
    "  # Normalize input features.\n",
    "  model_input = tf.nn.l2_normalize(model_input_raw, feature_dim)\n",
    "\n",
    "  with tf.variable_scope(\"tower\"):\n",
    "    result = model.create_model(model_input,\n",
    "                                num_frames=num_frames,\n",
    "                                vocab_size=reader.num_classes,\n",
    "                                labels=labels_batch,\n",
    "                                is_training=False)\n",
    "    predictions = result[\"predictions\"]\n",
    "    tf.summary.histogram(\"model_activations\", predictions)\n",
    "    if \"loss\" in result.keys():\n",
    "      label_loss = result[\"loss\"]\n",
    "    else:\n",
    "      label_loss = label_loss_fn.calculate_loss(predictions, labels_batch)\n",
    "\n",
    "  tf.add_to_collection(\"global_step\", global_step)\n",
    "  tf.add_to_collection(\"loss\", label_loss)\n",
    "  tf.add_to_collection(\"predictions\", predictions)\n",
    "  tf.add_to_collection(\"input_batch\", model_input)\n",
    "  tf.add_to_collection(\"video_id_batch\", video_id_batch)\n",
    "  tf.add_to_collection(\"num_frames\", num_frames)\n",
    "  tf.add_to_collection(\"labels\", tf.cast(labels_batch, tf.float32))\n",
    "  tf.add_to_collection(\"summary_op\", tf.summary.merge_all())\n",
    "\n",
    "\n",
    "def evaluation_loop(video_id_batch, prediction_batch, label_batch, loss,\n",
    "                    summary_op, saver, summary_writer, evl_metrics,\n",
    "                    last_global_step_val):\n",
    "  \"\"\"Run the evaluation loop once.\n",
    "\n",
    "  Args:\n",
    "    video_id_batch: a tensor of video ids mini-batch.\n",
    "    prediction_batch: a tensor of predictions mini-batch.\n",
    "    label_batch: a tensor of label_batch mini-batch.\n",
    "    loss: a tensor of loss for the examples in the mini-batch.\n",
    "    summary_op: a tensor which runs the tensorboard summary operations.\n",
    "    saver: a tensorflow saver to restore the model.\n",
    "    summary_writer: a tensorflow summary_writer\n",
    "    evl_metrics: an EvaluationMetrics object.\n",
    "    last_global_step_val: the global step used in the previous evaluation.\n",
    "\n",
    "  Returns:\n",
    "    The global_step used in the latest model.\n",
    "  \"\"\"\n",
    "\n",
    "  global_step_val = -1\n",
    "  with tf.Session() as sess:\n",
    "    latest_checkpoint = tf.train.latest_checkpoint(FLAGS.train_dir)\n",
    "    if latest_checkpoint:\n",
    "      logging.info(\"Loading checkpoint for eval: \" + latest_checkpoint)\n",
    "      # Restores from checkpoint\n",
    "      saver.restore(sess, latest_checkpoint)\n",
    "      # Assuming model_checkpoint_path looks something like:\n",
    "      # /my-favorite-path/yt8m_train/model.ckpt-0, extract global_step from it.\n",
    "      global_step_val = latest_checkpoint.split(\"/\")[-1].split(\"-\")[-1]\n",
    "    else:\n",
    "      logging.info(\"No checkpoint file found.\")\n",
    "      return global_step_val\n",
    "\n",
    "    if global_step_val == last_global_step_val:\n",
    "      logging.info(\"skip this checkpoint global_step_val=%s \"\n",
    "                   \"(same as the previous one).\", global_step_val)\n",
    "      return global_step_val\n",
    "\n",
    "    sess.run([tf.local_variables_initializer()])\n",
    "\n",
    "    # Start the queue runners.\n",
    "    fetches = [video_id_batch, prediction_batch, label_batch, loss, summary_op]\n",
    "    coord = tf.train.Coordinator()\n",
    "    try:\n",
    "      threads = []\n",
    "      for qr in tf.get_collection(tf.GraphKeys.QUEUE_RUNNERS):\n",
    "        threads.extend(qr.create_threads(\n",
    "            sess, coord=coord, daemon=True,\n",
    "            start=True))\n",
    "      logging.info(\"enter eval_once loop global_step_val = %s. \",\n",
    "                   global_step_val)\n",
    "\n",
    "      # klopt dit wel?  \n",
    "      # als je deze doet heb je straks alleen de laatste batch bewaard\n",
    "      #evl_metrics.clear()\n",
    "\n",
    "      examples_processed = 0\n",
    "      while not coord.should_stop():\n",
    "        batch_start_time = time.time()\n",
    "        _, predictions_val, labels_val, loss_val, summary_val = sess.run(\n",
    "            fetches)\n",
    "        seconds_per_batch = time.time() - batch_start_time\n",
    "        example_per_second = labels_val.shape[0] / seconds_per_batch\n",
    "        examples_processed += labels_val.shape[0]\n",
    "        \n",
    "        # hk\n",
    "#         print(predictions_val)\n",
    "#         print(labels_val)\n",
    "#         print(predictions_val.shape)\n",
    "#         print(labels_val.shape)\n",
    "        \n",
    "        iteration_info_dict = evl_metrics.accumulate(predictions_val,\n",
    "                                                     labels_val, loss_val, gt_labels)\n",
    "        iteration_info_dict[\"examples_per_second\"] = example_per_second\n",
    "        \n",
    "        \n",
    "\n",
    "        iterinfo = utils.AddGlobalStepSummary(\n",
    "            summary_writer,\n",
    "            global_step_val,\n",
    "            iteration_info_dict,\n",
    "            summary_scope=\"Eval\")\n",
    "        logging.info(\"examples_processed: %d | %s\", examples_processed,\n",
    "                     iterinfo)\n",
    "\n",
    "    except tf.errors.OutOfRangeError as e:\n",
    "      logging.info(\n",
    "          \"Done with batched inference. Now calculating global performance \"\n",
    "          \"metrics.\")\n",
    "      # calculate the metrics for the entire epoch\n",
    "      epoch_info_dict = evl_metrics.get()\n",
    "      epoch_info_dict[\"epoch_id\"] = global_step_val\n",
    "\n",
    "      summary_writer.add_summary(summary_val, global_step_val)\n",
    "      epochinfo = utils.AddEpochSummary(\n",
    "          summary_writer,\n",
    "          global_step_val,\n",
    "          epoch_info_dict,\n",
    "          gt_labels,\n",
    "          summary_scope=\"Eval\",\n",
    "          csv_file=evaluation_results_csv) # this stores the aps per class\n",
    "      logging.info(epochinfo)\n",
    "      # hk\n",
    "      # here we store predictions.csv and labels.csv\n",
    "      evl_metrics.store()\n",
    "    \n",
    "      evl_metrics.clear()\n",
    "    except Exception as e:  # pylint: disable=broad-except\n",
    "      logging.info(\"Unexpected exception: \" + str(e))\n",
    "      coord.request_stop(e)\n",
    "\n",
    "    coord.request_stop()\n",
    "    coord.join(threads, stop_grace_period_secs=10)\n",
    "\n",
    "    return global_step_val\n",
    "\n",
    "\n",
    "def evaluate():\n",
    "  tf.set_random_seed(0)  # for reproducibility\n",
    "  with tf.Graph().as_default():\n",
    "    # convert feature_names and feature_sizes to lists of values\n",
    "    feature_names, feature_sizes = utils.GetListOfFeatureNamesAndSizes(\n",
    "        FLAGS.feature_names, FLAGS.feature_sizes)\n",
    "    num_classes = FLAGS.num_classes\n",
    "\n",
    "    if FLAGS.frame_features:\n",
    "      reader = readers.YT8MFrameFeatureReader(\n",
    "          num_classes=num_classes,\n",
    "          feature_names=feature_names,feature_sizes=feature_sizes)\n",
    "    else:\n",
    "      reader = readers.YT8MAggregatedFeatureReader(\n",
    "          num_classes=num_classes,\n",
    "          feature_names=feature_names, feature_sizes=feature_sizes)\n",
    "\n",
    "    model = find_class_by_name(FLAGS.model,\n",
    "        [frame_level_models, video_level_models])()\n",
    "    label_loss_fn = find_class_by_name(FLAGS.label_loss, [losses])()\n",
    "\n",
    "    if FLAGS.eval_data_pattern is \"\":\n",
    "      raise IOError(\"'eval_data_pattern' was not specified. \" +\n",
    "                     \"Nothing to evaluate.\")\n",
    "\n",
    "    build_graph(\n",
    "        reader=reader,\n",
    "        model=model,\n",
    "        eval_data_pattern=FLAGS.eval_data_pattern,\n",
    "        label_loss_fn=label_loss_fn,\n",
    "        num_readers=FLAGS.num_readers,\n",
    "        batch_size=FLAGS.batch_size)\n",
    "    logging.info(\"built evaluation graph\")\n",
    "    video_id_batch = tf.get_collection(\"video_id_batch\")[0]\n",
    "    prediction_batch = tf.get_collection(\"predictions\")[0]\n",
    "    label_batch = tf.get_collection(\"labels\")[0]\n",
    "    loss = tf.get_collection(\"loss\")[0]\n",
    "    summary_op = tf.get_collection(\"summary_op\")[0]\n",
    "\n",
    "    saver = tf.train.Saver(tf.global_variables())\n",
    "    summary_writer = tf.summary.FileWriter(\n",
    "        FLAGS.log_dir, graph=tf.get_default_graph())\n",
    "\n",
    "    evl_metrics = eval_util.EvaluationMetrics(reader.num_classes, FLAGS.top_k)\n",
    "\n",
    "    last_global_step_val = -1\n",
    "    while True:\n",
    "      last_global_step_val = evaluation_loop(video_id_batch, prediction_batch,\n",
    "                                             label_batch, loss, summary_op,\n",
    "                                             saver, summary_writer, evl_metrics,\n",
    "                                             last_global_step_val)\n",
    "      if FLAGS.run_once:\n",
    "        break\n"
   ]
  },
  {
   "cell_type": "code",
   "execution_count": 7,
   "metadata": {},
   "outputs": [
    {
     "name": "stdout",
     "output_type": "stream",
     "text": [
      "tensorflow version: 1.15.2\n",
      "INFO:tensorflow:Using batch size of 512 for evaluation.\n"
     ]
    },
    {
     "name": "stderr",
     "output_type": "stream",
     "text": [
      "I0320 13:54:57.910221 140062221981504 <ipython-input-6-821193002e8b>:29] Using batch size of 512 for evaluation.\n"
     ]
    },
    {
     "name": "stdout",
     "output_type": "stream",
     "text": [
      "INFO:tensorflow:number of evaluation files: 1925\n"
     ]
    },
    {
     "name": "stderr",
     "output_type": "stream",
     "text": [
      "I0320 13:54:57.918305 140062221981504 <ipython-input-6-821193002e8b>:34] number of evaluation files: 1925\n"
     ]
    },
    {
     "name": "stdout",
     "output_type": "stream",
     "text": [
      "WARNING:tensorflow:From <ipython-input-6-821193002e8b>:36: string_input_producer (from tensorflow.python.training.input) is deprecated and will be removed in a future version.\n",
      "Instructions for updating:\n",
      "Queue-based input pipelines have been replaced by `tf.data`. Use `tf.data.Dataset.from_tensor_slices(string_tensor).shuffle(tf.shape(input_tensor, out_type=tf.int64)[0]).repeat(num_epochs)`. If `shuffle=False`, omit the `.shuffle(...)`.\n"
     ]
    },
    {
     "name": "stderr",
     "output_type": "stream",
     "text": [
      "W0320 13:54:57.919097 140062221981504 deprecation.py:323] From <ipython-input-6-821193002e8b>:36: string_input_producer (from tensorflow.python.training.input) is deprecated and will be removed in a future version.\n",
      "Instructions for updating:\n",
      "Queue-based input pipelines have been replaced by `tf.data`. Use `tf.data.Dataset.from_tensor_slices(string_tensor).shuffle(tf.shape(input_tensor, out_type=tf.int64)[0]).repeat(num_epochs)`. If `shuffle=False`, omit the `.shuffle(...)`.\n"
     ]
    },
    {
     "name": "stdout",
     "output_type": "stream",
     "text": [
      "WARNING:tensorflow:From /usr/local/lib/python3.6/dist-packages/tensorflow_core/python/training/input.py:277: input_producer (from tensorflow.python.training.input) is deprecated and will be removed in a future version.\n",
      "Instructions for updating:\n",
      "Queue-based input pipelines have been replaced by `tf.data`. Use `tf.data.Dataset.from_tensor_slices(input_tensor).shuffle(tf.shape(input_tensor, out_type=tf.int64)[0]).repeat(num_epochs)`. If `shuffle=False`, omit the `.shuffle(...)`.\n"
     ]
    },
    {
     "name": "stderr",
     "output_type": "stream",
     "text": [
      "W0320 13:54:57.925977 140062221981504 deprecation.py:323] From /usr/local/lib/python3.6/dist-packages/tensorflow_core/python/training/input.py:277: input_producer (from tensorflow.python.training.input) is deprecated and will be removed in a future version.\n",
      "Instructions for updating:\n",
      "Queue-based input pipelines have been replaced by `tf.data`. Use `tf.data.Dataset.from_tensor_slices(input_tensor).shuffle(tf.shape(input_tensor, out_type=tf.int64)[0]).repeat(num_epochs)`. If `shuffle=False`, omit the `.shuffle(...)`.\n"
     ]
    },
    {
     "name": "stdout",
     "output_type": "stream",
     "text": [
      "WARNING:tensorflow:From /usr/local/lib/python3.6/dist-packages/tensorflow_core/python/training/input.py:189: limit_epochs (from tensorflow.python.training.input) is deprecated and will be removed in a future version.\n",
      "Instructions for updating:\n",
      "Queue-based input pipelines have been replaced by `tf.data`. Use `tf.data.Dataset.from_tensors(tensor).repeat(num_epochs)`.\n"
     ]
    },
    {
     "name": "stderr",
     "output_type": "stream",
     "text": [
      "W0320 13:54:57.926868 140062221981504 deprecation.py:323] From /usr/local/lib/python3.6/dist-packages/tensorflow_core/python/training/input.py:189: limit_epochs (from tensorflow.python.training.input) is deprecated and will be removed in a future version.\n",
      "Instructions for updating:\n",
      "Queue-based input pipelines have been replaced by `tf.data`. Use `tf.data.Dataset.from_tensors(tensor).repeat(num_epochs)`.\n"
     ]
    },
    {
     "name": "stdout",
     "output_type": "stream",
     "text": [
      "WARNING:tensorflow:From /usr/local/lib/python3.6/dist-packages/tensorflow_core/python/training/input.py:112: RefVariable.count_up_to (from tensorflow.python.ops.variables) is deprecated and will be removed in a future version.\n",
      "Instructions for updating:\n",
      "Prefer Dataset.range instead.\n"
     ]
    },
    {
     "name": "stderr",
     "output_type": "stream",
     "text": [
      "W0320 13:54:57.929265 140062221981504 deprecation.py:323] From /usr/local/lib/python3.6/dist-packages/tensorflow_core/python/training/input.py:112: RefVariable.count_up_to (from tensorflow.python.ops.variables) is deprecated and will be removed in a future version.\n",
      "Instructions for updating:\n",
      "Prefer Dataset.range instead.\n"
     ]
    },
    {
     "name": "stdout",
     "output_type": "stream",
     "text": [
      "WARNING:tensorflow:From /usr/local/lib/python3.6/dist-packages/tensorflow_core/python/ops/variables.py:2522: count_up_to (from tensorflow.python.ops.state_ops) is deprecated and will be removed in a future version.\n",
      "Instructions for updating:\n",
      "Prefer Dataset.range instead.\n"
     ]
    },
    {
     "name": "stderr",
     "output_type": "stream",
     "text": [
      "W0320 13:54:57.929934 140062221981504 deprecation.py:323] From /usr/local/lib/python3.6/dist-packages/tensorflow_core/python/ops/variables.py:2522: count_up_to (from tensorflow.python.ops.state_ops) is deprecated and will be removed in a future version.\n",
      "Instructions for updating:\n",
      "Prefer Dataset.range instead.\n"
     ]
    },
    {
     "name": "stdout",
     "output_type": "stream",
     "text": [
      "WARNING:tensorflow:From /usr/local/lib/python3.6/dist-packages/tensorflow_core/python/training/input.py:198: QueueRunner.__init__ (from tensorflow.python.training.queue_runner_impl) is deprecated and will be removed in a future version.\n",
      "Instructions for updating:\n",
      "To construct input pipelines, use the `tf.data` module.\n"
     ]
    },
    {
     "name": "stderr",
     "output_type": "stream",
     "text": [
      "W0320 13:54:57.932404 140062221981504 deprecation.py:323] From /usr/local/lib/python3.6/dist-packages/tensorflow_core/python/training/input.py:198: QueueRunner.__init__ (from tensorflow.python.training.queue_runner_impl) is deprecated and will be removed in a future version.\n",
      "Instructions for updating:\n",
      "To construct input pipelines, use the `tf.data` module.\n"
     ]
    },
    {
     "name": "stdout",
     "output_type": "stream",
     "text": [
      "WARNING:tensorflow:From /usr/local/lib/python3.6/dist-packages/tensorflow_core/python/training/input.py:198: add_queue_runner (from tensorflow.python.training.queue_runner_impl) is deprecated and will be removed in a future version.\n",
      "Instructions for updating:\n",
      "To construct input pipelines, use the `tf.data` module.\n"
     ]
    },
    {
     "name": "stderr",
     "output_type": "stream",
     "text": [
      "W0320 13:54:57.933849 140062221981504 deprecation.py:323] From /usr/local/lib/python3.6/dist-packages/tensorflow_core/python/training/input.py:198: add_queue_runner (from tensorflow.python.training.queue_runner_impl) is deprecated and will be removed in a future version.\n",
      "Instructions for updating:\n",
      "To construct input pipelines, use the `tf.data` module.\n"
     ]
    },
    {
     "name": "stdout",
     "output_type": "stream",
     "text": [
      "WARNING:tensorflow:From ./vggish/readers.py:207: TFRecordReader.__init__ (from tensorflow.python.ops.io_ops) is deprecated and will be removed in a future version.\n",
      "Instructions for updating:\n",
      "Queue-based input pipelines have been replaced by `tf.data`. Use `tf.data.TFRecordDataset`.\n"
     ]
    },
    {
     "name": "stderr",
     "output_type": "stream",
     "text": [
      "W0320 13:54:57.938345 140062221981504 deprecation.py:323] From ./vggish/readers.py:207: TFRecordReader.__init__ (from tensorflow.python.ops.io_ops) is deprecated and will be removed in a future version.\n",
      "Instructions for updating:\n",
      "Queue-based input pipelines have been replaced by `tf.data`. Use `tf.data.TFRecordDataset`.\n"
     ]
    },
    {
     "name": "stdout",
     "output_type": "stream",
     "text": [
      "WARNING:tensorflow:From ./vggish/readers.py:216: The name tf.parse_single_sequence_example is deprecated. Please use tf.io.parse_single_sequence_example instead.\n",
      "\n"
     ]
    },
    {
     "name": "stderr",
     "output_type": "stream",
     "text": [
      "W0320 13:54:57.940247 140062221981504 module_wrapper.py:139] From ./vggish/readers.py:216: The name tf.parse_single_sequence_example is deprecated. Please use tf.io.parse_single_sequence_example instead.\n",
      "\n"
     ]
    },
    {
     "name": "stdout",
     "output_type": "stream",
     "text": [
      "WARNING:tensorflow:From ./vggish/readers.py:218: The name tf.FixedLenFeature is deprecated. Please use tf.io.FixedLenFeature instead.\n",
      "\n"
     ]
    },
    {
     "name": "stderr",
     "output_type": "stream",
     "text": [
      "W0320 13:54:57.941010 140062221981504 module_wrapper.py:139] From ./vggish/readers.py:218: The name tf.FixedLenFeature is deprecated. Please use tf.io.FixedLenFeature instead.\n",
      "\n"
     ]
    },
    {
     "name": "stdout",
     "output_type": "stream",
     "text": [
      "WARNING:tensorflow:From ./vggish/readers.py:220: The name tf.VarLenFeature is deprecated. Please use tf.io.VarLenFeature instead.\n",
      "\n"
     ]
    },
    {
     "name": "stderr",
     "output_type": "stream",
     "text": [
      "W0320 13:54:57.942551 140062221981504 module_wrapper.py:139] From ./vggish/readers.py:220: The name tf.VarLenFeature is deprecated. Please use tf.io.VarLenFeature instead.\n",
      "\n"
     ]
    },
    {
     "name": "stdout",
     "output_type": "stream",
     "text": [
      "WARNING:tensorflow:From ./vggish/readers.py:223: The name tf.FixedLenSequenceFeature is deprecated. Please use tf.io.FixedLenSequenceFeature instead.\n",
      "\n"
     ]
    },
    {
     "name": "stderr",
     "output_type": "stream",
     "text": [
      "W0320 13:54:57.943298 140062221981504 module_wrapper.py:139] From ./vggish/readers.py:223: The name tf.FixedLenSequenceFeature is deprecated. Please use tf.io.FixedLenSequenceFeature instead.\n",
      "\n"
     ]
    },
    {
     "name": "stdout",
     "output_type": "stream",
     "text": [
      "WARNING:tensorflow:From ./vggish/readers.py:229: sparse_to_dense (from tensorflow.python.ops.sparse_ops) is deprecated and will be removed in a future version.\n",
      "Instructions for updating:\n",
      "Create a `tf.sparse.SparseTensor` and use `tf.sparse.to_dense` instead.\n"
     ]
    },
    {
     "name": "stderr",
     "output_type": "stream",
     "text": [
      "W0320 13:54:57.948358 140062221981504 deprecation.py:323] From ./vggish/readers.py:229: sparse_to_dense (from tensorflow.python.ops.sparse_ops) is deprecated and will be removed in a future version.\n",
      "Instructions for updating:\n",
      "Create a `tf.sparse.SparseTensor` and use `tf.sparse.to_dense` instead.\n"
     ]
    },
    {
     "name": "stdout",
     "output_type": "stream",
     "text": [
      "WARNING:tensorflow:From <ipython-input-6-821193002e8b>:45: batch_join (from tensorflow.python.training.input) is deprecated and will be removed in a future version.\n",
      "Instructions for updating:\n",
      "Queue-based input pipelines have been replaced by `tf.data`. Use `tf.data.Dataset.interleave(...).batch(batch_size)` (or `padded_batch(...)` if `dynamic_pad=True`).\n"
     ]
    },
    {
     "name": "stderr",
     "output_type": "stream",
     "text": [
      "W0320 13:54:58.077551 140062221981504 deprecation.py:323] From <ipython-input-6-821193002e8b>:45: batch_join (from tensorflow.python.training.input) is deprecated and will be removed in a future version.\n",
      "Instructions for updating:\n",
      "Queue-based input pipelines have been replaced by `tf.data`. Use `tf.data.Dataset.interleave(...).batch(batch_size)` (or `padded_batch(...)` if `dynamic_pad=True`).\n"
     ]
    },
    {
     "name": "stdout",
     "output_type": "stream",
     "text": [
      "WARNING:tensorflow:From /usr/local/lib/python3.6/dist-packages/tensorflow_core/contrib/layers/python/layers/layers.py:1866: Layer.apply (from tensorflow.python.keras.engine.base_layer) is deprecated and will be removed in a future version.\n",
      "Instructions for updating:\n",
      "Please use `layer.__call__` method instead.\n"
     ]
    },
    {
     "name": "stderr",
     "output_type": "stream",
     "text": [
      "W0320 13:54:58.094066 140062221981504 deprecation.py:323] From /usr/local/lib/python3.6/dist-packages/tensorflow_core/contrib/layers/python/layers/layers.py:1866: Layer.apply (from tensorflow.python.keras.engine.base_layer) is deprecated and will be removed in a future version.\n",
      "Instructions for updating:\n",
      "Please use `layer.__call__` method instead.\n"
     ]
    },
    {
     "name": "stdout",
     "output_type": "stream",
     "text": [
      "WARNING:tensorflow:From ./vggish/losses.py:48: The name tf.log is deprecated. Please use tf.math.log instead.\n",
      "\n"
     ]
    },
    {
     "name": "stderr",
     "output_type": "stream",
     "text": [
      "W0320 13:54:58.105929 140062221981504 module_wrapper.py:139] From ./vggish/losses.py:48: The name tf.log is deprecated. Please use tf.math.log instead.\n",
      "\n"
     ]
    },
    {
     "name": "stdout",
     "output_type": "stream",
     "text": [
      "INFO:tensorflow:built evaluation graph\n"
     ]
    },
    {
     "name": "stderr",
     "output_type": "stream",
     "text": [
      "I0320 13:54:58.112764 140062221981504 <ipython-input-6-821193002e8b>:252] built evaluation graph\n"
     ]
    },
    {
     "name": "stdout",
     "output_type": "stream",
     "text": [
      "INFO:tensorflow:Loading checkpoint for eval: ./tmp/serval03hugo/model.ckpt-620\n"
     ]
    },
    {
     "name": "stderr",
     "output_type": "stream",
     "text": [
      "I0320 13:54:58.268244 140062221981504 <ipython-input-6-821193002e8b>:127] Loading checkpoint for eval: ./tmp/serval03hugo/model.ckpt-620\n"
     ]
    },
    {
     "name": "stdout",
     "output_type": "stream",
     "text": [
      "INFO:tensorflow:Restoring parameters from ./tmp/serval03hugo/model.ckpt-620\n"
     ]
    },
    {
     "name": "stderr",
     "output_type": "stream",
     "text": [
      "I0320 13:54:58.270780 140062221981504 saver.py:1284] Restoring parameters from ./tmp/serval03hugo/model.ckpt-620\n"
     ]
    },
    {
     "name": "stdout",
     "output_type": "stream",
     "text": [
      "INFO:tensorflow:enter eval_once loop global_step_val = 620. \n"
     ]
    },
    {
     "name": "stderr",
     "output_type": "stream",
     "text": [
      "I0320 13:54:58.630665 140062221981504 <ipython-input-6-821193002e8b>:154] enter eval_once loop global_step_val = 620. \n"
     ]
    },
    {
     "name": "stdout",
     "output_type": "stream",
     "text": [
      "INFO:tensorflow:examples_processed: 512 | global_step 620 | Batch Hit@1: 0.742 | Batch PERR: 0.741 | Batch Loss: 1.815 | Examples_per_sec: 845.198\n"
     ]
    },
    {
     "name": "stderr",
     "output_type": "stream",
     "text": [
      "I0320 13:54:59.259624 140062221981504 <ipython-input-6-821193002e8b>:186] examples_processed: 512 | global_step 620 | Batch Hit@1: 0.742 | Batch PERR: 0.741 | Batch Loss: 1.815 | Examples_per_sec: 845.198\n"
     ]
    },
    {
     "name": "stdout",
     "output_type": "stream",
     "text": [
      "INFO:tensorflow:examples_processed: 910 | global_step 620 | Batch Hit@1: 0.658 | Batch PERR: 0.653 | Batch Loss: 2.033 | Examples_per_sec: 2415.203\n"
     ]
    },
    {
     "name": "stderr",
     "output_type": "stream",
     "text": [
      "I0320 13:54:59.443073 140062221981504 <ipython-input-6-821193002e8b>:186] examples_processed: 910 | global_step 620 | Batch Hit@1: 0.658 | Batch PERR: 0.653 | Batch Loss: 2.033 | Examples_per_sec: 2415.203\n"
     ]
    },
    {
     "name": "stdout",
     "output_type": "stream",
     "text": [
      "INFO:tensorflow:Done with batched inference. Now calculating global performance metrics.\n"
     ]
    },
    {
     "name": "stderr",
     "output_type": "stream",
     "text": [
      "I0320 13:54:59.453566 140062221981504 <ipython-input-6-821193002e8b>:190] Done with batched inference. Now calculating global performance metrics.\n"
     ]
    },
    {
     "name": "stdout",
     "output_type": "stream",
     "text": [
      "INFO:tensorflow:epoch/eval number 620 | Avg_Hit@1: 0.705 | Avg_PERR: 0.703 | MAP: 0.380 | GAP: 0.729 | Avg_Loss: 1.910131\n"
     ]
    },
    {
     "name": "stderr",
     "output_type": "stream",
     "text": [
      "I0320 13:54:59.611238 140062221981504 <ipython-input-6-821193002e8b>:204] epoch/eval number 620 | Avg_Hit@1: 0.705 | Avg_PERR: 0.703 | MAP: 0.380 | GAP: 0.729 | Avg_Loss: 1.910131\n"
     ]
    },
    {
     "ename": "SystemExit",
     "evalue": "",
     "output_type": "error",
     "traceback": [
      "An exception has occurred, use %tb to see the full traceback.\n",
      "\u001b[0;31mSystemExit\u001b[0m\n"
     ]
    },
    {
     "name": "stderr",
     "output_type": "stream",
     "text": [
      "/usr/local/lib/python3.6/dist-packages/IPython/core/interactiveshell.py:3327: UserWarning: To exit: use 'exit', 'quit', or Ctrl-D.\n",
      "  warn(\"To exit: use 'exit', 'quit', or Ctrl-D.\", stacklevel=1)\n"
     ]
    }
   ],
   "source": [
    "def main(unused_argv):\n",
    "  logging.set_verbosity(tf.logging.INFO)\n",
    "  print(\"tensorflow version: %s\" % tf.__version__)\n",
    "  evaluate()\n",
    "\n",
    "\n",
    "if __name__ == \"__main__\":\n",
    "  app.run()\n"
   ]
  },
  {
   "cell_type": "code",
   "execution_count": null,
   "metadata": {},
   "outputs": [],
   "source": [
    "#%tb\n",
    "#who\n",
    "\n",
    "#prediction_batch = tf.get_collection(\"predictions\")[0]\n",
    "#label_batch = tf.get_collection(\"labels\")[0]\n",
    "evl_metrics.predictions[0]"
   ]
  }
 ],
 "metadata": {
  "kernelspec": {
   "display_name": "Python 3",
   "language": "python",
   "name": "python3"
  },
  "language_info": {
   "codemirror_mode": {
    "name": "ipython",
    "version": 3
   },
   "file_extension": ".py",
   "mimetype": "text/x-python",
   "name": "python",
   "nbconvert_exporter": "python",
   "pygments_lexer": "ipython3",
   "version": "3.6.9"
  }
 },
 "nbformat": 4,
 "nbformat_minor": 2
}
