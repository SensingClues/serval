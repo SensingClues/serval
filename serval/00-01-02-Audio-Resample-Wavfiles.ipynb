{
 "cells": [
  {
   "cell_type": "markdown",
   "metadata": {},
   "source": [
    "## Audio Analysis of WAV files\n",
    "\n",
    "Here we are looking for best way to reppresent audio recordings in a spectrogram for deeplearning"
   ]
  },
  {
   "cell_type": "code",
   "execution_count": null,
   "metadata": {},
   "outputs": [],
   "source": [
    "# load stuff we need\n",
    "import json\n",
    "import logging\n",
    "import os\n",
    "import time\n",
    "import warnings\n",
    "import librosa\n",
    "import librosa.display # now seperate\n",
    "import numpy as np\n",
    "import pandas as pd\n",
    "import pydub\n",
    "import sklearn.preprocessing\n",
    "\n",
    "from tqdm import tqdm\n",
    "import h5py as h5py\n",
    "from config import *\n",
    "\n",
    "import random\n",
    "import soundfile as sf"
   ]
  },
  {
   "cell_type": "code",
   "execution_count": null,
   "metadata": {},
   "outputs": [],
   "source": [
    "# Project directory\n",
    "project_name     = 'amsterdam_custom_samples'\n",
    "\n",
    "# Other settings\n",
    "proportion_train = 0.5"
   ]
  },
  {
   "cell_type": "code",
   "execution_count": null,
   "metadata": {},
   "outputs": [],
   "source": [
    "# Set your serval data folder (should be correctly set already)\n",
    "serval_data_folder = \"../data\"\n",
    "project_data_folder = serval_data_folder + '/' + project_name"
   ]
  },
  {
   "cell_type": "code",
   "execution_count": null,
   "metadata": {},
   "outputs": [],
   "source": [
    "# Set input files\n",
    "input_selected_wav_samples_filepath       = project_data_folder + \"/csv_files/output_selected_wav_samples.csv\"\n",
    "target_resampled_wav_samples              = project_data_folder + \"/csv_files/output_resampled_wav_samples.csv\"\n",
    "target_intermediate_resampled_wav_samples = project_data_folder + \"/csv_files/intermediate_output_resampled_wav_samples.csv\"\n",
    "\n",
    "target_resampled_wav_folder               = project_data_folder + \"/wav_samples\""
   ]
  },
  {
   "cell_type": "code",
   "execution_count": null,
   "metadata": {},
   "outputs": [],
   "source": []
  },
  {
   "cell_type": "code",
   "execution_count": null,
   "metadata": {},
   "outputs": [],
   "source": [
    "# Load selected wav samples from csv\n",
    "df_selected_samples = pd.read_csv(input_selected_wav_samples_filepath, sep=\";\")\n",
    "\n",
    "# Remove unnamed index column if it exists\n",
    "df_selected_samples = df_selected_samples.loc  [:, ~df_selected_samples.columns.str.match('Unnamed')]\n",
    "\n",
    "# Print\n",
    "display(df_selected_samples.groupby(['label', 'mid', 'display_name']).agg(['nunique']))"
   ]
  },
  {
   "cell_type": "code",
   "execution_count": null,
   "metadata": {},
   "outputs": [],
   "source": []
  },
  {
   "cell_type": "code",
   "execution_count": null,
   "metadata": {},
   "outputs": [],
   "source": [
    "# RESAMPLE 16 bit 16 kHz mono\n",
    "import numpy as np\n",
    "import scipy.signal\n",
    "import librosa\n",
    "import resampy\n",
    "\n",
    "def resample(file):\n",
    "    # Load in some audio\n",
    "    x, sr_orig = librosa.load(file, sr=None, mono=True)\n",
    "\n",
    "    sr_new = 16000\n",
    "    # Or use the pre-built high-quality filter\n",
    "    y = resampy.resample(x, sr_orig, sr_new, filter='kaiser_best') \n",
    "    return(y,sr_new)"
   ]
  },
  {
   "cell_type": "code",
   "execution_count": null,
   "metadata": {},
   "outputs": [],
   "source": []
  },
  {
   "cell_type": "code",
   "execution_count": null,
   "metadata": {},
   "outputs": [],
   "source": [
    "def reduce_volume_and_store_file(df_selected_samples, target_resampled_wav_folder, input_file, ind_train, db, db_name, sr, y):\n",
    "    ## Get filename without wav extension\n",
    "    filename = os.path.basename(os.path.splitext(os.path.normpath(file))[0])\n",
    "    directory_name = os.path.basename(os.path.dirname(os.path.normpath(file)))\n",
    "\n",
    "    target_filename = db_name + '_' + filename\n",
    "    target_filepath = target_resampled_wav_folder + '/' + ind_train + '/' + db_name + '/' + directory_name +'/'+ target_filename + '.wav'\n",
    "    \n",
    "    if not os.path.exists(os.path.dirname(target_filepath)):\n",
    "        os.makedirs(os.path.dirname(target_filepath))\n",
    "\n",
    "    df_row = df_selected_samples.loc[df_selected_samples.filepath == file].copy(deep=True)\n",
    "    if len(df_row) == 0:\n",
    "        print('[ERROR]: Found sample with ', len(df_row) ,' class labels records (expected=1); filename=', filename, '; directory_name=', directory_name, sep='')\n",
    "        return pd.DataFrame(columns=['label', 'mid', 'display_name', 'source', 'filename', 'filepath', 'old_filename', 'old_filepath'])\n",
    "\n",
    "    df_row['ind_train'] = ind_train\n",
    "    df_row['old_filename'] = df_row.filename\n",
    "    df_row['old_filepath'] = df_row.filepath\n",
    "    df_row.filename = target_filepath\n",
    "    df_row.filepath = target_filepath\n",
    "\n",
    "    # Resample\n",
    "    gain = 10.0 ** (-db / 10.0)\n",
    "    y = y * gain\n",
    "    sf.write(target_filepath, y, sr, subtype='PCM_16')\n",
    "    y = y / gain # So we do not need a deep copy of the object\n",
    "    \n",
    "    return(df_row)"
   ]
  },
  {
   "cell_type": "code",
   "execution_count": null,
   "metadata": {},
   "outputs": [],
   "source": []
  },
  {
   "cell_type": "code",
   "execution_count": null,
   "metadata": {},
   "outputs": [],
   "source": []
  },
  {
   "cell_type": "code",
   "execution_count": null,
   "metadata": {},
   "outputs": [],
   "source": []
  },
  {
   "cell_type": "code",
   "execution_count": null,
   "metadata": {
    "scrolled": true
   },
   "outputs": [],
   "source": [
    "# RESAMPLE AND ADJUST VOLUME FOR ALL WAVS IN FOLDER\n",
    "df_all_resampled_wav_files = pd.DataFrame(columns=['label', 'mid', 'display_name', 'source', 'filename', 'filepath', 'old_filename', 'old_filepath', 'ind_train'])\n",
    "files = df_selected_samples.filepath.unique()\n",
    "\n",
    "count = 0\n",
    "\n",
    "for file in tqdm(files):\n",
    "    # random choice between trn or eval label\n",
    "    train_or_test = random.choices(['train', 'eval'],[proportion_train, 1-proportion_train])[0]\n",
    "\n",
    "    ## resample 16 kHz mono\n",
    "    y , sr = resample(file)\n",
    "    \n",
    "    df_all_resampled_wav_files = df_all_resampled_wav_files.append(reduce_volume_and_store_file(df_selected_samples, target_resampled_wav_folder, file, train_or_test, 0, '0db', sr, y), ignore_index=True)\n",
    "    df_all_resampled_wav_files = df_all_resampled_wav_files.append(reduce_volume_and_store_file(df_selected_samples, target_resampled_wav_folder, file, train_or_test, 6, '6db', sr, y), ignore_index=True)\n",
    "    df_all_resampled_wav_files = df_all_resampled_wav_files.append(reduce_volume_and_store_file(df_selected_samples, target_resampled_wav_folder, file, train_or_test, 12, '12db', sr, y), ignore_index=True)\n",
    "    df_all_resampled_wav_files = df_all_resampled_wav_files.append(reduce_volume_and_store_file(df_selected_samples, target_resampled_wav_folder, file, train_or_test, 18, '18db', sr, y), ignore_index=True)\n",
    "    \n",
    "    ## Write output file intermidiate result\n",
    "    count = count + 1\n",
    "    if count % 100 == 0:\n",
    "        df_all_resampled_wav_files.to_csv(target_intermediate_resampled_wav_samples, sep=';', index=False)"
   ]
  },
  {
   "cell_type": "code",
   "execution_count": null,
   "metadata": {},
   "outputs": [],
   "source": [
    "# Write full resampled wav files back to disk\n",
    "df_all_resampled_wav_files.to_csv(target_resampled_wav_samples, sep=';', index=False)"
   ]
  },
  {
   "cell_type": "code",
   "execution_count": null,
   "metadata": {},
   "outputs": [],
   "source": []
  },
  {
   "cell_type": "code",
   "execution_count": null,
   "metadata": {},
   "outputs": [],
   "source": []
  }
 ],
 "metadata": {
  "kernelspec": {
   "display_name": "Python 3",
   "language": "python",
   "name": "python3"
  },
  "language_info": {
   "codemirror_mode": {
    "name": "ipython",
    "version": 3
   },
   "file_extension": ".py",
   "mimetype": "text/x-python",
   "name": "python",
   "nbconvert_exporter": "python",
   "pygments_lexer": "ipython3",
   "version": "3.7.6"
  }
 },
 "nbformat": 4,
 "nbformat_minor": 4
}
