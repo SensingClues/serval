{
 "cells": [
  {
   "cell_type": "code",
   "execution_count": null,
   "metadata": {},
   "outputs": [],
   "source": [
    "import numpy as np\n",
    "import pandas as pd\n",
    "\n",
    "import tensorflow as tf\n",
    "from tensorflow import gfile\n",
    "\n",
    "from collections import Counter\n",
    "from itertools import combinations"
   ]
  },
  {
   "cell_type": "code",
   "execution_count": null,
   "metadata": {},
   "outputs": [],
   "source": [
    "## Lees csv-files in\n",
    "csv_path = 'csv_files/'\n",
    "mid_to_label_new = pd.read_csv(str(csv_path) + 'class_labels_indices_amsterdam.csv', quotechar = '\"')\n",
    "balanced_train_segments = pd.read_csv(str(csv_path) + 'balanced_train_segments.csv', sep = \";\")\n",
    "unbalanced_train_segments = pd.read_csv(str(csv_path) + 'unbalanced_train_segments.csv', sep = \";\")"
   ]
  },
  {
   "cell_type": "code",
   "execution_count": null,
   "metadata": {},
   "outputs": [],
   "source": [
    "## Verkrijg alle labels en labelcombinaties (uit csv-file)\n",
    "def getLabelOccurences(segments_file):\n",
    "    \n",
    "    ## Houd labels bij en label-combinaties (elke combi uit een example)\n",
    "    labels = []\n",
    "    label_combinations = []\n",
    "\n",
    "    # for each row\n",
    "    for i in range(segments_file.shape[0]):\n",
    "\n",
    "        # labels uit de example\n",
    "        label_combination = []\n",
    "        mids = segments_file.loc[i, 'positive_labels'].split(\",\")\n",
    "        \n",
    "        # for each m-id in a string\n",
    "        for mid in mids:\n",
    "            new_label = mid_to_label_new.loc[mid_to_label_new['mid']==str(mid), 'index']\n",
    "            \n",
    "            if(new_label.shape[0]>0):\n",
    "                labels.extend(new_label)\n",
    "                new_label_combi = str(new_label.values[0])\n",
    "                label_combination.extend(new_label_combi)\n",
    "    \n",
    "        if len(label_combination)>0:\n",
    "            label_combinations.append(label_combination)\n",
    "    \n",
    "    return(labels, label_combinations)"
   ]
  },
  {
   "cell_type": "code",
   "execution_count": null,
   "metadata": {},
   "outputs": [],
   "source": [
    "## Kies of je de balanced of unbalanced set wilt lezen\n",
    "#bal_labels, bal_label_combinations = getLabelOccurences(balanced_train_segments)\n",
    "unbal_labels, unbal_label_combinations = getLabelOccurences(unbalanced_train_segments)"
   ]
  },
  {
   "cell_type": "code",
   "execution_count": null,
   "metadata": {
    "scrolled": true
   },
   "outputs": [],
   "source": [
    "## Houd totale aantal bij\n",
    "sum_occur = 0\n",
    "all_labels = unbal_labels # bal_labels\n",
    "\n",
    "## Laat # voorkomens per label zien\n",
    "cnt_labels = Counter(all_labels)\n",
    "for i in cnt_labels.most_common(len(all_labels)):\n",
    "    sum_occur = sum_occur + i[1]\n",
    "    print(mid_to_label_new.loc[np.int(i[0])]['display_name'], ' : ', str(i[1]))"
   ]
  },
  {
   "cell_type": "code",
   "execution_count": null,
   "metadata": {},
   "outputs": [],
   "source": [
    "label_combinations = unbal_label_combinations\n",
    "\n",
    "## Bereken aantal voorkomens per combinatie\n",
    "## Tellen van lijsten in lijsten is lastig, vandaar dat ik er strings van maak: [0,4] wordt [\"0_4\"]\n",
    "str_combis = []\n",
    "\n",
    "for combi in label_combinations:\n",
    "    str_combi = [str(i) for i in combi]\n",
    "    str_combi = \"_\".join(str_combi)\n",
    "    str_combis.append(str_combi)"
   ]
  },
  {
   "cell_type": "code",
   "execution_count": null,
   "metadata": {},
   "outputs": [],
   "source": [
    "## Geef meest voorkomende combinaties\n",
    "\n",
    "cnt_label_combinations = Counter(str_combis)\n",
    "for label_combination in cnt_label_combinations.most_common(20):\n",
    "    label_names = []\n",
    "    label_list = label_combination[0].split(\"_\")\n",
    "    for i in label_list:\n",
    "        label_names.append(str(mid_to_label_new.loc[np.int(i)]['display_name']))\n",
    "    label_names = ', '.join(label_names)\n",
    "    print(label_names,': ', label_combination[1])"
   ]
  },
  {
   "cell_type": "code",
   "execution_count": null,
   "metadata": {},
   "outputs": [],
   "source": [
    "## Code die kolom toevoegt aan label-csv (proportion) en deze in de forloop vult\n",
    "\n",
    "mid_to_label_new[\"proportion\"] = 0\n",
    "\n",
    "for i in range(mid_to_label_new.shape[0]):\n",
    "    nr_occur = cnt_labels[i]\n",
    "    mid_to_label_new.loc[i,\"proportion\"] = round(nr_occur/sum_occur,8)"
   ]
  },
  {
   "cell_type": "code",
   "execution_count": null,
   "metadata": {},
   "outputs": [],
   "source": [
    "## Schrijf bestandje weg\n",
    "mid_to_label_new.to_csv(str(csv_path) + \"class_labels_indices_proportions.csv\", sep = \";\")"
   ]
  },
  {
   "cell_type": "code",
   "execution_count": null,
   "metadata": {},
   "outputs": [],
   "source": [
    "###############################################################################\n",
    "####\n",
    "###############################################################################\n",
    "#### Hieronder staat andere code (deze code telt de labels vanuit tf-records)"
   ]
  },
  {
   "cell_type": "code",
   "execution_count": null,
   "metadata": {},
   "outputs": [],
   "source": [
    "## Folder met tf-records\n",
    "train_data_pattern = 'tfrecords/train_all_data_new_temp/*.tfrecord'\n",
    "test_data_pattern = 'tfrecords/test_data_new/*.tfrecord'"
   ]
  },
  {
   "cell_type": "code",
   "execution_count": null,
   "metadata": {},
   "outputs": [],
   "source": [
    "## Hieronder worden labels geteld door het lezen van tf-records\n",
    "all_labels = []\n",
    "label_combinations = []"
   ]
  },
  {
   "cell_type": "code",
   "execution_count": null,
   "metadata": {},
   "outputs": [],
   "source": [
    "def getLabelsFromTfRecord(tfrecords_filename):\n",
    "    \n",
    "    ## Iterator that goes through all examples of tf-record\n",
    "    record_iterator = tf.python_io.tf_record_iterator(path=tfrecords_filename)\n",
    "    \n",
    "    for string_record in record_iterator:\n",
    "        \n",
    "        ## Take one example\n",
    "        example = tf.train.SequenceExample()\n",
    "        example.ParseFromString(string_record)\n",
    " \n",
    "        ## Get labels\n",
    "        new_labels = example.context.feature['labels'].int64_list.value\n",
    "       \n",
    "        for label in new_labels:\n",
    "            all_labels.append(int(label))\n",
    "        label_combinations.append(new_labels)"
   ]
  },
  {
   "cell_type": "code",
   "execution_count": null,
   "metadata": {
    "scrolled": true
   },
   "outputs": [],
   "source": [
    "## Labels uit tf-records\n",
    "files = gfile.Glob(train_data_pattern)\n",
    "\n",
    "for file in files:\n",
    "   \n",
    "    getLabelsFromTfRecord(file)"
   ]
  },
  {
   "cell_type": "code",
   "execution_count": null,
   "metadata": {},
   "outputs": [],
   "source": [
    "## Houd totale aantal bij\n",
    "sum_occur = 0\n",
    "\n",
    "## Laat # voorkomens per label zien\n",
    "cnt_labels = Counter(all_labels)\n",
    "for i in cnt_labels.most_common(len(all_labels)):\n",
    "    sum_occur = sum_occur + i[1]\n",
    "    print(mid_to_label_new.loc[np.int(i[0])]['display_name'], ' : ', str(i[1]))"
   ]
  },
  {
   "cell_type": "code",
   "execution_count": null,
   "metadata": {},
   "outputs": [],
   "source": [
    "#label_combinations = getLabelCombinations(balanced_train_segments)\n",
    "#label_combinations = getLabelCombinations(unbalanced_train_segments)\n",
    "\n",
    "## Bereken aantal voorkomens per combinatie\n",
    "## Tellen van lijsten in lijsten is lastig, vandaar dat ik er strings van maak: [0,4] wordt [\"0_4\"]\n",
    "str_combis = []\n",
    "\n",
    "for combi in label_combinations:\n",
    "    str_combi = [str(i) for i in combi]\n",
    "    str_combi = \"_\".join(str_combi)\n",
    "    str_combis.append(str_combi)"
   ]
  },
  {
   "cell_type": "code",
   "execution_count": null,
   "metadata": {},
   "outputs": [],
   "source": [
    "## Geef meest voorkomende combinaties\n",
    "\n",
    "cnt_label_combinations = Counter(str_combis)\n",
    "for label_combination in cnt_label_combinations.most_common(20):\n",
    "    label_names = []\n",
    "    label_list = label_combination[0].split(\"_\")\n",
    "    for i in label_list:\n",
    "        label_names.append(str(mid_to_label_new.loc[np.int(i)]['display_name']))\n",
    "    label_names = ', '.join(label_names)\n",
    "    print(label_names,': ', label_combination[1])"
   ]
  },
  {
   "cell_type": "code",
   "execution_count": null,
   "metadata": {},
   "outputs": [],
   "source": [
    "sum_occur"
   ]
  },
  {
   "cell_type": "code",
   "execution_count": null,
   "metadata": {},
   "outputs": [],
   "source": []
  }
 ],
 "metadata": {
  "kernelspec": {
   "display_name": "Python 3",
   "language": "python",
   "name": "python3"
  },
  "language_info": {
   "codemirror_mode": {
    "name": "ipython",
    "version": 3
   },
   "file_extension": ".py",
   "mimetype": "text/x-python",
   "name": "python",
   "nbconvert_exporter": "python",
   "pygments_lexer": "ipython3",
   "version": "3.6.9"
  }
 },
 "nbformat": 4,
 "nbformat_minor": 2
}
