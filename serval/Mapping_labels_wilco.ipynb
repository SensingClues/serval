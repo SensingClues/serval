{
 "cells": [
  {
   "cell_type": "code",
   "execution_count": 1,
   "metadata": {
    "scrolled": true
   },
   "outputs": [],
   "source": [
    "## De functie die tf-records leest en ze uiteindelijk weer wegschrijft (maar dan met minder labels) heet readTfRecord\n",
    "## Deze functie roept andere functies aan: getLabels en getLabelIndices\n",
    "\n",
    "import numpy as np\n",
    "import pandas as pd\n",
    "import re\n",
    "import os\n",
    "import random\n",
    "from collections import Counter\n",
    "\n",
    "import tensorflow as tf\n",
    "from tensorflow import gfile"
   ]
  },
  {
   "cell_type": "code",
   "execution_count": 21,
   "metadata": {},
   "outputs": [],
   "source": [
    "location = \"jungle\" # \"urban"
   ]
  },
  {
   "cell_type": "code",
   "execution_count": 45,
   "metadata": {},
   "outputs": [
    {
     "name": "stdout",
     "output_type": "stream",
     "text": [
      "C:\\data\\work-sensing-clues\n"
     ]
    },
    {
     "data": {
      "text/plain": [
       "'1.13.1'"
      ]
     },
     "execution_count": 45,
     "metadata": {},
     "output_type": "execute_result"
    }
   ],
   "source": [
    "## Paden naar originele tf-records: bal_train, unbal_train en eval\n",
    "bal_train_data_pattern = \"tfrecords/bal_train/*.tfrecord\"\n",
    "unbal_train_data_pattern = \"tfrecords/unbal_train/*.tfrecord\"\n",
    "eval_data_pattern = \"tfrecords/eval/*.tfrecord\"\n",
    "\n",
    "## Paden voor nieuwe tf-records (train en test)\n",
    "train_pattern_new = \"tfrecords/train_\" + location + \"_new\"\n",
    "eval_pattern_new = \"tfrecords/eval_\" + location + \"_new\"\n",
    "\n",
    "## WILCO ADDITION:\n",
    "os.chdir('C:\\\\data\\\\work-sensing-clues\\\\')\n",
    "print(os.getcwd())\n",
    "\n",
    "root_directory = \"audioset_v1_embeddings\"\n",
    "## Paden naar originele tf-records: bal_train, unbal_train en eval\n",
    "bal_train_data_pattern = root_directory + \"/bal_train/*.tfrecord\"\n",
    "unbal_train_data_pattern = root_directory + \"/unbal_train/*.tfrecord\"\n",
    "eval_data_pattern = root_directory + \"/eval/*.tfrecord\"\n",
    "\n",
    "## Paden voor nieuwe tf-records (train en test)\n",
    "train_pattern_new = root_directory + \"/train_\" + location + \"_new\"\n",
    "eval_pattern_new = root_directory + \"/eval_\" + location + \"_new\"\n"
   ]
  },
  {
   "cell_type": "code",
   "execution_count": 23,
   "metadata": {},
   "outputs": [],
   "source": [
    "## Boolean die aangeeft of alle examples worden geschreven naar een tf-record\n",
    "## Bij false: upsamplen/downsamplen adhv proporties\n",
    "write_all_examples = False\n",
    "## proportie train/test\n",
    "pct_train = 0.6"
   ]
  },
  {
   "cell_type": "code",
   "execution_count": 42,
   "metadata": {},
   "outputs": [],
   "source": [
    "## Lijst van alle labels (nieuwe) en alle combi's\n",
    "all_labels = []\n",
    "label_combinations = []"
   ]
  },
  {
   "cell_type": "code",
   "execution_count": 47,
   "metadata": {},
   "outputs": [],
   "source": [
    "## Open csv-bestanden\n",
    "## Oorspronkelijke csv-file\n",
    "mid_to_label_old = pd.read_csv(root_directory + \"/csv_files/class_labels_indices.csv\", sep=\",\")\n",
    "\n",
    "## csv-file met labels (urban/jungle)\n",
    "new_label_file = root_directory + \"/csv_files/class_labels_indices_\" + location + \".csv\"\n",
    "mid_to_label_new = pd.read_csv(new_label_file, sep=\";\")\n",
    "## mid_to_label_new = pd.read_csv('csv_files/class_labels_indices_urban.csv', sep=\";\")\n",
    "\n",
    "## Naam bestand om proporties naartoe te schrijven (of om te gebruiken bij sampelen)\n",
    "## Als deze nog niet bestaat: maak een kopietje van mid_to_labels_new met de naam die hieronder staat\n",
    "name_label_prop_file = root_directory + \"/csv_files/class_labels_indices_\" + location + \"_prop.csv\"\n",
    "label_proportions = pd.read_csv(name_label_prop_file, sep=\";\")"
   ]
  },
  {
   "cell_type": "code",
   "execution_count": 7,
   "metadata": {
    "scrolled": false
   },
   "outputs": [
    {
     "data": {
      "text/html": [
       "<div>\n",
       "<style scoped>\n",
       "    .dataframe tbody tr th:only-of-type {\n",
       "        vertical-align: middle;\n",
       "    }\n",
       "\n",
       "    .dataframe tbody tr th {\n",
       "        vertical-align: top;\n",
       "    }\n",
       "\n",
       "    .dataframe thead th {\n",
       "        text-align: right;\n",
       "    }\n",
       "</style>\n",
       "<table border=\"1\" class=\"dataframe\">\n",
       "  <thead>\n",
       "    <tr style=\"text-align: right;\">\n",
       "      <th></th>\n",
       "      <th>index</th>\n",
       "      <th>mid</th>\n",
       "      <th>display_name</th>\n",
       "    </tr>\n",
       "  </thead>\n",
       "  <tbody>\n",
       "    <tr>\n",
       "      <th>0</th>\n",
       "      <td>0</td>\n",
       "      <td>/t/dd00134</td>\n",
       "      <td>Car, boat, motorcyle, truck</td>\n",
       "    </tr>\n",
       "    <tr>\n",
       "      <th>1</th>\n",
       "      <td>1</td>\n",
       "      <td>/m/01j4z9</td>\n",
       "      <td>Chainsaw</td>\n",
       "    </tr>\n",
       "    <tr>\n",
       "      <th>2</th>\n",
       "      <td>2</td>\n",
       "      <td>/m/07pczhz</td>\n",
       "      <td>Chop</td>\n",
       "    </tr>\n",
       "    <tr>\n",
       "      <th>3</th>\n",
       "      <td>3</td>\n",
       "      <td>/m/032s66</td>\n",
       "      <td>Gunshot, gunfire</td>\n",
       "    </tr>\n",
       "    <tr>\n",
       "      <th>4</th>\n",
       "      <td>4</td>\n",
       "      <td>/m/09ct_</td>\n",
       "      <td>Helicopter</td>\n",
       "    </tr>\n",
       "    <tr>\n",
       "      <th>5</th>\n",
       "      <td>5</td>\n",
       "      <td>/t/dd00003</td>\n",
       "      <td>Male singing</td>\n",
       "    </tr>\n",
       "    <tr>\n",
       "      <th>6</th>\n",
       "      <td>6</td>\n",
       "      <td>/m/07rpkh9</td>\n",
       "      <td>Cattle</td>\n",
       "    </tr>\n",
       "    <tr>\n",
       "      <th>7</th>\n",
       "      <td>0</td>\n",
       "      <td>/m/02rlv9</td>\n",
       "      <td>Car, boat, motorcyle, truck</td>\n",
       "    </tr>\n",
       "    <tr>\n",
       "      <th>8</th>\n",
       "      <td>0</td>\n",
       "      <td>/m/04_sv</td>\n",
       "      <td>Car, boat, motorcyle, truck</td>\n",
       "    </tr>\n",
       "    <tr>\n",
       "      <th>9</th>\n",
       "      <td>7</td>\n",
       "      <td>/m/06bz3</td>\n",
       "      <td>Radio</td>\n",
       "    </tr>\n",
       "    <tr>\n",
       "      <th>10</th>\n",
       "      <td>6</td>\n",
       "      <td>/m/07bgp</td>\n",
       "      <td>Cattle</td>\n",
       "    </tr>\n",
       "    <tr>\n",
       "      <th>11</th>\n",
       "      <td>8</td>\n",
       "      <td>/m/07p6fty</td>\n",
       "      <td>Shout</td>\n",
       "    </tr>\n",
       "    <tr>\n",
       "      <th>12</th>\n",
       "      <td>9</td>\n",
       "      <td>/m/028v0c</td>\n",
       "      <td>Silence</td>\n",
       "    </tr>\n",
       "    <tr>\n",
       "      <th>13</th>\n",
       "      <td>0</td>\n",
       "      <td>/m/07r04</td>\n",
       "      <td>Car, boat, motorcyle, truck</td>\n",
       "    </tr>\n",
       "    <tr>\n",
       "      <th>14</th>\n",
       "      <td>10</td>\n",
       "      <td>/t/dd00092</td>\n",
       "      <td>Wind noise (microphone)</td>\n",
       "    </tr>\n",
       "    <tr>\n",
       "      <th>15</th>\n",
       "      <td>11</td>\n",
       "      <td>/s/0000</td>\n",
       "      <td>Gunshot SC9mm</td>\n",
       "    </tr>\n",
       "    <tr>\n",
       "      <th>16</th>\n",
       "      <td>12</td>\n",
       "      <td>/s/0001</td>\n",
       "      <td>Gunshot SC556</td>\n",
       "    </tr>\n",
       "  </tbody>\n",
       "</table>\n",
       "</div>"
      ],
      "text/plain": [
       "    index         mid                 display_name\n",
       "0       0  /t/dd00134  Car, boat, motorcyle, truck\n",
       "1       1   /m/01j4z9                     Chainsaw\n",
       "2       2  /m/07pczhz                         Chop\n",
       "3       3   /m/032s66             Gunshot, gunfire\n",
       "4       4    /m/09ct_                   Helicopter\n",
       "5       5  /t/dd00003                 Male singing\n",
       "6       6  /m/07rpkh9                       Cattle\n",
       "7       0   /m/02rlv9  Car, boat, motorcyle, truck\n",
       "8       0    /m/04_sv  Car, boat, motorcyle, truck\n",
       "9       7    /m/06bz3                        Radio\n",
       "10      6    /m/07bgp                       Cattle\n",
       "11      8  /m/07p6fty                        Shout\n",
       "12      9   /m/028v0c                      Silence\n",
       "13      0    /m/07r04  Car, boat, motorcyle, truck\n",
       "14     10  /t/dd00092      Wind noise (microphone)\n",
       "15     11     /s/0000                Gunshot SC9mm\n",
       "16     12     /s/0001                Gunshot SC556"
      ]
     },
     "execution_count": 7,
     "metadata": {},
     "output_type": "execute_result"
    }
   ],
   "source": [
    " mid_to_label_new"
   ]
  },
  {
   "cell_type": "code",
   "execution_count": 49,
   "metadata": {},
   "outputs": [],
   "source": [
    "## Deze functie checkt of een example wordt gemaakt (downsamplen)\n",
    "def checkIfNewExample(labels):\n",
    "    \n",
    "    ## Alleen bij 1 label worden er examples overgeslagen (of bij write_all_examples)\n",
    "    if(len(labels)>1 or write_all_examples):\n",
    "        return True\n",
    "    else:\n",
    "        label = list(labels)[0]\n",
    "        prop = label_proportions.loc[label_proportions['index']==np.int(label), \"target_ind\"].values[0]\n",
    "        rand = random.random()\n",
    "        ## Als random niet proportie overschrijdt, return true\n",
    "        if rand <= prop:\n",
    "            return True\n",
    "        else:\n",
    "            return False\n",
    "    return False"
   ]
  },
  {
   "cell_type": "code",
   "execution_count": 50,
   "metadata": {},
   "outputs": [],
   "source": [
    "## Deze functie checkt of er nog een example moet worden gemaakt (upsamplen)\n",
    "## Momenteel kan het aantal enkel verdubbeld worden\n",
    "\n",
    "def checkIfExtraExample(labels):\n",
    "    \n",
    "    ## Alleen bij 1 label worden er examples gekopieerd (of als er niet (up)gesampled wordt)\n",
    "    if(len(labels)>1 or write_all_examples):\n",
    "        return False\n",
    "    else:\n",
    "        label = list(labels)[0]\n",
    "        prop = label_proportions.loc[label_proportions['index']==np.int(label), \"target_ind\"].values[0]-1\n",
    "        rand = random.random()\n",
    "        ## Als random niet proportie overschrijdt, return true\n",
    "        if rand <= prop:    \n",
    "            return True\n",
    "        else:\n",
    "            return False\n",
    "    return False"
   ]
  },
  {
   "cell_type": "code",
   "execution_count": 51,
   "metadata": {},
   "outputs": [],
   "source": [
    "#### Find new label for each of old label (527 -> x)\n",
    "\n",
    "def getNewLabel(label_old):\n",
    "    \n",
    "    ## Get m-id that matches with index\n",
    "    mid = mid_to_label_old.loc[mid_to_label_old['index']==label_old, 'mid']\n",
    "\n",
    "    ## Find the new label belonging to this m-id\n",
    "    label_new = mid_to_label_new.loc[mid_to_label_new['mid']==str(mid.values[0]), 'index']\n",
    "    \n",
    "    return label_new"
   ]
  },
  {
   "cell_type": "code",
   "execution_count": 52,
   "metadata": {},
   "outputs": [],
   "source": [
    "def createExample(example_old, new_labels):\n",
    "    \n",
    "    ## Bouw structuur van tf-record met video-id, labels en features\n",
    "    \n",
    "    audio_embedding = example_old.feature_lists.feature_list['audio_embedding']\n",
    "    feature_lists = tf.train.FeatureLists(feature_list={\"audio_embedding\": audio_embedding})\n",
    "    #print(\"New labels: \" + str(new_labels))\n",
    "    \n",
    "    label_feat = tf.train.Feature(int64_list=tf.train.Int64List(value=new_labels))\n",
    "    video_id = example_old.context.feature['video_id'].bytes_list.value\n",
    "    videoid_feat = tf.train.Feature(bytes_list=tf.train.BytesList(value=video_id)) \n",
    "\n",
    "    context_feats = tf.train.Features(feature={\"labels\": label_feat, \"video_id\": videoid_feat})\n",
    "\n",
    "    sequence_example = tf.train.SequenceExample(context=context_feats, feature_lists=feature_lists)\n",
    "    \n",
    "    return sequence_example"
   ]
  },
  {
   "cell_type": "code",
   "execution_count": 53,
   "metadata": {},
   "outputs": [],
   "source": [
    "## Deze code haalt voor een label alle (grand)parents op\n",
    "## Momenteel worden deze functies niet meer gebruikt.\n",
    "## Maar schroom je niet om eens te kijken hoe deze prachtige recursieve functie werkt!\n",
    "\n",
    "def getParents(label, parents):\n",
    "    \n",
    "    parent = int(mid_to_label_new.loc[mid_to_label_new['index']==label, 'parent'])\n",
    "    \n",
    "    if parent==999:\n",
    "        return parents\n",
    "    else:\n",
    "        parents.append(parent)\n",
    "        return getParents(parent, parents)\n",
    "    return parent\n",
    "\n",
    "def getLabelsWithParents(labels):\n",
    "    total_labels = labels\n",
    "    for label in labels:\n",
    "        parents = getParents(label, [])\n",
    "        total_labels.extend(parents)\n",
    "    return(set(total_labels))"
   ]
  },
  {
   "cell_type": "code",
   "execution_count": 54,
   "metadata": {},
   "outputs": [],
   "source": [
    "#### Lees tf-records en iterate over de examples#### Lee \n",
    "#### Voor elk example wordt de video-id gepakt en de bijbehorende lijst m-id's gezocht (in balanced_segment.csv)\n",
    "\n",
    "## 1 tf-record heeft meerdere examples\n",
    "## Deze functie checkt voor elk example of het een label heeft uit onze labelset\n",
    "\n",
    "## Input: filename van tf-record (pad) en prefix (vanwege dubbele filenames)\n",
    "## Result: schrijven van nieuw tf-record\n",
    "\n",
    "## Geef prefix mee (om dubbele namen te voorkomen)\n",
    "def readWriteTfRecord(tfrecords_filename, prefix):\n",
    "    \n",
    "    ## Maak 2 writers (train en test) die nieuw tf-records schrijft\n",
    "    \n",
    "    record_name = tfrecords_filename.split('\\\\')[-1]\n",
    "    ## Let op: hij doet moeilijk over AUX.tfrecord. Dus prefix A bij UX mag niet\n",
    "    #if(str(prefix+record_name_==\"AUX.tfrecord\"):\n",
    "    #    record_name=\"UXx.tfrecord\"\n",
    "        \n",
    "    ## Nieuwe filenames: 1 voor train en 1 voor eval\n",
    "    train_file_new = str(train_pattern_new + '/' + prefix + record_name)\n",
    "    eval_file_new = str(eval_pattern_new + '/' + prefix + record_name)\n",
    "\n",
    "    train_writer = tf.python_io.TFRecordWriter(train_file_new)\n",
    "    eval_writer = tf.python_io.TFRecordWriter(eval_file_new)\n",
    "    nr_new_examples = 0\n",
    "    \n",
    "    ## Iterator that goes through all examples of tf-record\n",
    "    record_iterator = tf.python_io.tf_record_iterator(path=tfrecords_filename)\n",
    "\n",
    "    \n",
    "    for string_record in record_iterator:\n",
    "        \n",
    "        ## Take one example\n",
    "        example = tf.train.SequenceExample()\n",
    "        example.ParseFromString(string_record)\n",
    " \n",
    "        ## Get labels and find for each label the m-code in class_label_indices_old\n",
    "        labels = example.context.feature['labels'].int64_list.value\n",
    "        \n",
    "        new_labels = []\n",
    "        for label in labels:\n",
    "            ## Hij returnt een set van cellen (of leeg of van 1 rij)\n",
    "            label_new = getNewLabel(label)\n",
    "            \n",
    "            if(label_new.shape[0]>0):\n",
    "                new_labels.append(label_new.values[0])\n",
    "        \n",
    "        ## Als enkele (grand)parents ontbreken, voeg ze toe\n",
    "        #new_labels = getLabelsWithParents(new_labels)\n",
    "        ## If any of the labels left (for our model), write new tf-record\n",
    "        \n",
    "        if (len(new_labels) > 0 and checkIfNewExample(new_labels)):\n",
    "        #if(len(new_labels) > 0):\n",
    "            ## Add to all labels\n",
    "            all_labels.extend(new_labels)\n",
    "            label_combinations.append(new_labels)\n",
    "   \n",
    "            sequence_example = createExample(example, new_labels)\n",
    "            nr_new_examples += 1\n",
    "            \n",
    "            ## Write the example\n",
    "            rand = random.random()\n",
    "            if rand <= pct_train:\n",
    "                train_writer.write(sequence_example.SerializeToString())\n",
    "            else:\n",
    "                eval_writer.write(sequence_example.SerializeToString())\n",
    "        \n",
    "            ## Check of er nog een example moet worden gemaakt (upsamplen)\n",
    "            if(checkIfExtraExample(new_labels)):\n",
    "                rand = random.random()\n",
    "                if rand <= pct_train:\n",
    "                    train_writer.write(sequence_example.SerializeToString())\n",
    "                else:\n",
    "                    eval_writer.write(sequence_example.SerializeToString())\n",
    "        \n",
    "                all_labels.extend(new_labels)\n",
    "                label_combinations.append(new_labels)\n",
    "            #print('Example gemaakt! Video-id: ' + str(example.context.feature['video_id'].bytes_list.value))\n",
    "\n",
    "    #print(\"nr new examples: \" + str(nr_new_examples))\n",
    "    \n",
    "    # Only write if any examples created\n",
    "\n",
    "    if nr_new_examples > 0:\n",
    "        train_writer.close()\n",
    "        eval_writer.close()\n",
    "        #print(\"tfrecord written\")\n",
    "    else:\n",
    "        #print(\"empty file.. remove: \" + path_tfrecord_new)\n",
    "        os.remove(train_file_new)\n",
    "        os.remove(eval_file_new)"
   ]
  },
  {
   "cell_type": "code",
   "execution_count": 56,
   "metadata": {
    "scrolled": true
   },
   "outputs": [],
   "source": [
    "## Maak nieuwe tf-records van bal_train\n",
    "\n",
    "files = gfile.Glob(bal_train_data_pattern)\n",
    "\n",
    "for file in files:\n",
    "    ## Read a file and rewrite it\n",
    "    readWriteTfRecord(file, 'B')"
   ]
  },
  {
   "cell_type": "code",
   "execution_count": 57,
   "metadata": {
    "scrolled": false
   },
   "outputs": [
    {
     "ename": "KeyboardInterrupt",
     "evalue": "",
     "output_type": "error",
     "traceback": [
      "\u001b[1;31m---------------------------------------------------------------------------\u001b[0m",
      "\u001b[1;31mKeyboardInterrupt\u001b[0m                         Traceback (most recent call last)",
      "\u001b[1;32m<ipython-input-57-ded6bebd0137>\u001b[0m in \u001b[0;36m<module>\u001b[1;34m\u001b[0m\n\u001b[0;32m      5\u001b[0m \u001b[1;32mfor\u001b[0m \u001b[0mfile\u001b[0m \u001b[1;32min\u001b[0m \u001b[0mfiles\u001b[0m\u001b[1;33m:\u001b[0m\u001b[1;33m\u001b[0m\u001b[1;33m\u001b[0m\u001b[0m\n\u001b[0;32m      6\u001b[0m     \u001b[1;31m## Read a file and rewrite it\u001b[0m\u001b[1;33m\u001b[0m\u001b[1;33m\u001b[0m\u001b[1;33m\u001b[0m\u001b[0m\n\u001b[1;32m----> 7\u001b[1;33m     \u001b[0mreadWriteTfRecord\u001b[0m\u001b[1;33m(\u001b[0m\u001b[0mfile\u001b[0m\u001b[1;33m,\u001b[0m \u001b[1;34m'U'\u001b[0m\u001b[1;33m)\u001b[0m\u001b[1;33m\u001b[0m\u001b[1;33m\u001b[0m\u001b[0m\n\u001b[0m",
      "\u001b[1;32m<ipython-input-54-d5bd33cefec9>\u001b[0m in \u001b[0;36mreadWriteTfRecord\u001b[1;34m(tfrecords_filename, prefix)\u001b[0m\n\u001b[0;32m     42\u001b[0m         \u001b[1;32mfor\u001b[0m \u001b[0mlabel\u001b[0m \u001b[1;32min\u001b[0m \u001b[0mlabels\u001b[0m\u001b[1;33m:\u001b[0m\u001b[1;33m\u001b[0m\u001b[1;33m\u001b[0m\u001b[0m\n\u001b[0;32m     43\u001b[0m             \u001b[1;31m## Hij returnt een set van cellen (of leeg of van 1 rij)\u001b[0m\u001b[1;33m\u001b[0m\u001b[1;33m\u001b[0m\u001b[1;33m\u001b[0m\u001b[0m\n\u001b[1;32m---> 44\u001b[1;33m             \u001b[0mlabel_new\u001b[0m \u001b[1;33m=\u001b[0m \u001b[0mgetNewLabel\u001b[0m\u001b[1;33m(\u001b[0m\u001b[0mlabel\u001b[0m\u001b[1;33m)\u001b[0m\u001b[1;33m\u001b[0m\u001b[1;33m\u001b[0m\u001b[0m\n\u001b[0m\u001b[0;32m     45\u001b[0m \u001b[1;33m\u001b[0m\u001b[0m\n\u001b[0;32m     46\u001b[0m             \u001b[1;32mif\u001b[0m\u001b[1;33m(\u001b[0m\u001b[0mlabel_new\u001b[0m\u001b[1;33m.\u001b[0m\u001b[0mshape\u001b[0m\u001b[1;33m[\u001b[0m\u001b[1;36m0\u001b[0m\u001b[1;33m]\u001b[0m\u001b[1;33m>\u001b[0m\u001b[1;36m0\u001b[0m\u001b[1;33m)\u001b[0m\u001b[1;33m:\u001b[0m\u001b[1;33m\u001b[0m\u001b[1;33m\u001b[0m\u001b[0m\n",
      "\u001b[1;32m<ipython-input-51-b01eb939468e>\u001b[0m in \u001b[0;36mgetNewLabel\u001b[1;34m(label_old)\u001b[0m\n\u001b[0;32m      4\u001b[0m \u001b[1;33m\u001b[0m\u001b[0m\n\u001b[0;32m      5\u001b[0m     \u001b[1;31m## Get m-id that matches with index\u001b[0m\u001b[1;33m\u001b[0m\u001b[1;33m\u001b[0m\u001b[1;33m\u001b[0m\u001b[0m\n\u001b[1;32m----> 6\u001b[1;33m     \u001b[0mmid\u001b[0m \u001b[1;33m=\u001b[0m \u001b[0mmid_to_label_old\u001b[0m\u001b[1;33m.\u001b[0m\u001b[0mloc\u001b[0m\u001b[1;33m[\u001b[0m\u001b[0mmid_to_label_old\u001b[0m\u001b[1;33m[\u001b[0m\u001b[1;34m'index'\u001b[0m\u001b[1;33m]\u001b[0m\u001b[1;33m==\u001b[0m\u001b[0mlabel_old\u001b[0m\u001b[1;33m,\u001b[0m \u001b[1;34m'mid'\u001b[0m\u001b[1;33m]\u001b[0m\u001b[1;33m\u001b[0m\u001b[1;33m\u001b[0m\u001b[0m\n\u001b[0m\u001b[0;32m      7\u001b[0m \u001b[1;33m\u001b[0m\u001b[0m\n\u001b[0;32m      8\u001b[0m     \u001b[1;31m## Find the new label belonging to this m-id\u001b[0m\u001b[1;33m\u001b[0m\u001b[1;33m\u001b[0m\u001b[1;33m\u001b[0m\u001b[0m\n",
      "\u001b[1;32m~\\AppData\\Local\\conda\\conda\\envs\\tensorflow_env\\lib\\site-packages\\pandas\\core\\indexing.py\u001b[0m in \u001b[0;36m__getitem__\u001b[1;34m(self, key)\u001b[0m\n\u001b[0;32m   1492\u001b[0m             \u001b[1;32mexcept\u001b[0m \u001b[1;33m(\u001b[0m\u001b[0mKeyError\u001b[0m\u001b[1;33m,\u001b[0m \u001b[0mIndexError\u001b[0m\u001b[1;33m,\u001b[0m \u001b[0mAttributeError\u001b[0m\u001b[1;33m)\u001b[0m\u001b[1;33m:\u001b[0m\u001b[1;33m\u001b[0m\u001b[1;33m\u001b[0m\u001b[0m\n\u001b[0;32m   1493\u001b[0m                 \u001b[1;32mpass\u001b[0m\u001b[1;33m\u001b[0m\u001b[1;33m\u001b[0m\u001b[0m\n\u001b[1;32m-> 1494\u001b[1;33m             \u001b[1;32mreturn\u001b[0m \u001b[0mself\u001b[0m\u001b[1;33m.\u001b[0m\u001b[0m_getitem_tuple\u001b[0m\u001b[1;33m(\u001b[0m\u001b[0mkey\u001b[0m\u001b[1;33m)\u001b[0m\u001b[1;33m\u001b[0m\u001b[1;33m\u001b[0m\u001b[0m\n\u001b[0m\u001b[0;32m   1495\u001b[0m         \u001b[1;32melse\u001b[0m\u001b[1;33m:\u001b[0m\u001b[1;33m\u001b[0m\u001b[1;33m\u001b[0m\u001b[0m\n\u001b[0;32m   1496\u001b[0m             \u001b[1;31m# we by definition only have the 0th axis\u001b[0m\u001b[1;33m\u001b[0m\u001b[1;33m\u001b[0m\u001b[1;33m\u001b[0m\u001b[0m\n",
      "\u001b[1;32m~\\AppData\\Local\\conda\\conda\\envs\\tensorflow_env\\lib\\site-packages\\pandas\\core\\indexing.py\u001b[0m in \u001b[0;36m_getitem_tuple\u001b[1;34m(self, tup)\u001b[0m\n\u001b[0;32m    866\u001b[0m     \u001b[1;32mdef\u001b[0m \u001b[0m_getitem_tuple\u001b[0m\u001b[1;33m(\u001b[0m\u001b[0mself\u001b[0m\u001b[1;33m,\u001b[0m \u001b[0mtup\u001b[0m\u001b[1;33m)\u001b[0m\u001b[1;33m:\u001b[0m\u001b[1;33m\u001b[0m\u001b[1;33m\u001b[0m\u001b[0m\n\u001b[0;32m    867\u001b[0m         \u001b[1;32mtry\u001b[0m\u001b[1;33m:\u001b[0m\u001b[1;33m\u001b[0m\u001b[1;33m\u001b[0m\u001b[0m\n\u001b[1;32m--> 868\u001b[1;33m             \u001b[1;32mreturn\u001b[0m \u001b[0mself\u001b[0m\u001b[1;33m.\u001b[0m\u001b[0m_getitem_lowerdim\u001b[0m\u001b[1;33m(\u001b[0m\u001b[0mtup\u001b[0m\u001b[1;33m)\u001b[0m\u001b[1;33m\u001b[0m\u001b[1;33m\u001b[0m\u001b[0m\n\u001b[0m\u001b[0;32m    869\u001b[0m         \u001b[1;32mexcept\u001b[0m \u001b[0mIndexingError\u001b[0m\u001b[1;33m:\u001b[0m\u001b[1;33m\u001b[0m\u001b[1;33m\u001b[0m\u001b[0m\n\u001b[0;32m    870\u001b[0m             \u001b[1;32mpass\u001b[0m\u001b[1;33m\u001b[0m\u001b[1;33m\u001b[0m\u001b[0m\n",
      "\u001b[1;32m~\\AppData\\Local\\conda\\conda\\envs\\tensorflow_env\\lib\\site-packages\\pandas\\core\\indexing.py\u001b[0m in \u001b[0;36m_getitem_lowerdim\u001b[1;34m(self, tup)\u001b[0m\n\u001b[0;32m   1015\u001b[0m                     \u001b[1;32mreturn\u001b[0m \u001b[0msection\u001b[0m\u001b[1;33m\u001b[0m\u001b[1;33m\u001b[0m\u001b[0m\n\u001b[0;32m   1016\u001b[0m                 \u001b[1;31m# This is an elided recursive call to iloc/loc/etc'\u001b[0m\u001b[1;33m\u001b[0m\u001b[1;33m\u001b[0m\u001b[1;33m\u001b[0m\u001b[0m\n\u001b[1;32m-> 1017\u001b[1;33m                 \u001b[1;32mreturn\u001b[0m \u001b[0mgetattr\u001b[0m\u001b[1;33m(\u001b[0m\u001b[0msection\u001b[0m\u001b[1;33m,\u001b[0m \u001b[0mself\u001b[0m\u001b[1;33m.\u001b[0m\u001b[0mname\u001b[0m\u001b[1;33m)\u001b[0m\u001b[1;33m[\u001b[0m\u001b[0mnew_key\u001b[0m\u001b[1;33m]\u001b[0m\u001b[1;33m\u001b[0m\u001b[1;33m\u001b[0m\u001b[0m\n\u001b[0m\u001b[0;32m   1018\u001b[0m \u001b[1;33m\u001b[0m\u001b[0m\n\u001b[0;32m   1019\u001b[0m         \u001b[1;32mraise\u001b[0m \u001b[0mIndexingError\u001b[0m\u001b[1;33m(\u001b[0m\u001b[1;34m'not applicable'\u001b[0m\u001b[1;33m)\u001b[0m\u001b[1;33m\u001b[0m\u001b[1;33m\u001b[0m\u001b[0m\n",
      "\u001b[1;32m~\\AppData\\Local\\conda\\conda\\envs\\tensorflow_env\\lib\\site-packages\\pandas\\core\\indexing.py\u001b[0m in \u001b[0;36m__getitem__\u001b[1;34m(self, key)\u001b[0m\n\u001b[0;32m   1498\u001b[0m \u001b[1;33m\u001b[0m\u001b[0m\n\u001b[0;32m   1499\u001b[0m             \u001b[0mmaybe_callable\u001b[0m \u001b[1;33m=\u001b[0m \u001b[0mcom\u001b[0m\u001b[1;33m.\u001b[0m\u001b[0mapply_if_callable\u001b[0m\u001b[1;33m(\u001b[0m\u001b[0mkey\u001b[0m\u001b[1;33m,\u001b[0m \u001b[0mself\u001b[0m\u001b[1;33m.\u001b[0m\u001b[0mobj\u001b[0m\u001b[1;33m)\u001b[0m\u001b[1;33m\u001b[0m\u001b[1;33m\u001b[0m\u001b[0m\n\u001b[1;32m-> 1500\u001b[1;33m             \u001b[1;32mreturn\u001b[0m \u001b[0mself\u001b[0m\u001b[1;33m.\u001b[0m\u001b[0m_getitem_axis\u001b[0m\u001b[1;33m(\u001b[0m\u001b[0mmaybe_callable\u001b[0m\u001b[1;33m,\u001b[0m \u001b[0maxis\u001b[0m\u001b[1;33m=\u001b[0m\u001b[0maxis\u001b[0m\u001b[1;33m)\u001b[0m\u001b[1;33m\u001b[0m\u001b[1;33m\u001b[0m\u001b[0m\n\u001b[0m\u001b[0;32m   1501\u001b[0m \u001b[1;33m\u001b[0m\u001b[0m\n\u001b[0;32m   1502\u001b[0m     \u001b[1;32mdef\u001b[0m \u001b[0m_is_scalar_access\u001b[0m\u001b[1;33m(\u001b[0m\u001b[0mself\u001b[0m\u001b[1;33m,\u001b[0m \u001b[0mkey\u001b[0m\u001b[1;33m)\u001b[0m\u001b[1;33m:\u001b[0m\u001b[1;33m\u001b[0m\u001b[1;33m\u001b[0m\u001b[0m\n",
      "\u001b[1;32m~\\AppData\\Local\\conda\\conda\\envs\\tensorflow_env\\lib\\site-packages\\pandas\\core\\indexing.py\u001b[0m in \u001b[0;36m_getitem_axis\u001b[1;34m(self, key, axis)\u001b[0m\n\u001b[0;32m   1867\u001b[0m             \u001b[1;32mreturn\u001b[0m \u001b[0mself\u001b[0m\u001b[1;33m.\u001b[0m\u001b[0m_get_slice_axis\u001b[0m\u001b[1;33m(\u001b[0m\u001b[0mkey\u001b[0m\u001b[1;33m,\u001b[0m \u001b[0maxis\u001b[0m\u001b[1;33m=\u001b[0m\u001b[0maxis\u001b[0m\u001b[1;33m)\u001b[0m\u001b[1;33m\u001b[0m\u001b[1;33m\u001b[0m\u001b[0m\n\u001b[0;32m   1868\u001b[0m         \u001b[1;32melif\u001b[0m \u001b[0mcom\u001b[0m\u001b[1;33m.\u001b[0m\u001b[0mis_bool_indexer\u001b[0m\u001b[1;33m(\u001b[0m\u001b[0mkey\u001b[0m\u001b[1;33m)\u001b[0m\u001b[1;33m:\u001b[0m\u001b[1;33m\u001b[0m\u001b[1;33m\u001b[0m\u001b[0m\n\u001b[1;32m-> 1869\u001b[1;33m             \u001b[1;32mreturn\u001b[0m \u001b[0mself\u001b[0m\u001b[1;33m.\u001b[0m\u001b[0m_getbool_axis\u001b[0m\u001b[1;33m(\u001b[0m\u001b[0mkey\u001b[0m\u001b[1;33m,\u001b[0m \u001b[0maxis\u001b[0m\u001b[1;33m=\u001b[0m\u001b[0maxis\u001b[0m\u001b[1;33m)\u001b[0m\u001b[1;33m\u001b[0m\u001b[1;33m\u001b[0m\u001b[0m\n\u001b[0m\u001b[0;32m   1870\u001b[0m         \u001b[1;32melif\u001b[0m \u001b[0mis_list_like_indexer\u001b[0m\u001b[1;33m(\u001b[0m\u001b[0mkey\u001b[0m\u001b[1;33m)\u001b[0m\u001b[1;33m:\u001b[0m\u001b[1;33m\u001b[0m\u001b[1;33m\u001b[0m\u001b[0m\n\u001b[0;32m   1871\u001b[0m \u001b[1;33m\u001b[0m\u001b[0m\n",
      "\u001b[1;32m~\\AppData\\Local\\conda\\conda\\envs\\tensorflow_env\\lib\\site-packages\\pandas\\core\\indexing.py\u001b[0m in \u001b[0;36m_getbool_axis\u001b[1;34m(self, key, axis)\u001b[0m\n\u001b[0;32m   1514\u001b[0m         \u001b[0mlabels\u001b[0m \u001b[1;33m=\u001b[0m \u001b[0mself\u001b[0m\u001b[1;33m.\u001b[0m\u001b[0mobj\u001b[0m\u001b[1;33m.\u001b[0m\u001b[0m_get_axis\u001b[0m\u001b[1;33m(\u001b[0m\u001b[0maxis\u001b[0m\u001b[1;33m)\u001b[0m\u001b[1;33m\u001b[0m\u001b[1;33m\u001b[0m\u001b[0m\n\u001b[0;32m   1515\u001b[0m         \u001b[0mkey\u001b[0m \u001b[1;33m=\u001b[0m \u001b[0mcheck_bool_indexer\u001b[0m\u001b[1;33m(\u001b[0m\u001b[0mlabels\u001b[0m\u001b[1;33m,\u001b[0m \u001b[0mkey\u001b[0m\u001b[1;33m)\u001b[0m\u001b[1;33m\u001b[0m\u001b[1;33m\u001b[0m\u001b[0m\n\u001b[1;32m-> 1516\u001b[1;33m         \u001b[0minds\u001b[0m\u001b[1;33m,\u001b[0m \u001b[1;33m=\u001b[0m \u001b[0mkey\u001b[0m\u001b[1;33m.\u001b[0m\u001b[0mnonzero\u001b[0m\u001b[1;33m(\u001b[0m\u001b[1;33m)\u001b[0m\u001b[1;33m\u001b[0m\u001b[1;33m\u001b[0m\u001b[0m\n\u001b[0m\u001b[0;32m   1517\u001b[0m         \u001b[1;32mtry\u001b[0m\u001b[1;33m:\u001b[0m\u001b[1;33m\u001b[0m\u001b[1;33m\u001b[0m\u001b[0m\n\u001b[0;32m   1518\u001b[0m             \u001b[1;32mreturn\u001b[0m \u001b[0mself\u001b[0m\u001b[1;33m.\u001b[0m\u001b[0mobj\u001b[0m\u001b[1;33m.\u001b[0m\u001b[0m_take\u001b[0m\u001b[1;33m(\u001b[0m\u001b[0minds\u001b[0m\u001b[1;33m,\u001b[0m \u001b[0maxis\u001b[0m\u001b[1;33m=\u001b[0m\u001b[0maxis\u001b[0m\u001b[1;33m)\u001b[0m\u001b[1;33m\u001b[0m\u001b[1;33m\u001b[0m\u001b[0m\n",
      "\u001b[1;31mKeyboardInterrupt\u001b[0m: "
     ]
    }
   ],
   "source": [
    "## Maak nieuwe tf-records van unbal_train\n",
    "\n",
    "files = gfile.Glob(unbal_train_data_pattern)\n",
    "\n",
    "for file in files:\n",
    "    ## Read a file and rewrite it\n",
    "    readWriteTfRecord(file, 'U')"
   ]
  },
  {
   "cell_type": "code",
   "execution_count": 65,
   "metadata": {},
   "outputs": [],
   "source": [
    "## Maak nieuwe tf-records van eval\n",
    "\n",
    "files = gfile.Glob(eval_data_pattern)\n",
    "\n",
    "for file in files:\n",
    "    \n",
    "    ## Read a file and rewrite it\n",
    "    readWriteTfRecord(file, 'E')"
   ]
  },
  {
   "cell_type": "code",
   "execution_count": 67,
   "metadata": {
    "scrolled": false
   },
   "outputs": [
    {
     "name": "stdout",
     "output_type": "stream",
     "text": [
      "Car, boat, motorcyle, truck  :  649\n",
      "Gunshot, gunfire  :  485\n",
      "Cattle  :  362\n",
      "Male singing  :  316\n",
      "Radio  :  296\n",
      "Chainsaw  :  255\n",
      "Chop  :  248\n",
      "Helicopter  :  202\n",
      "Shout  :  136\n",
      "Wind noise (microphone)  :  123\n",
      "Silence  :  43\n"
     ]
    }
   ],
   "source": [
    "## Print voor alle labels het aantal voorkomens in de nieuwe tf-records\n",
    "\n",
    "sum_occur = 0\n",
    "cnt_labels = Counter(all_labels)\n",
    "\n",
    "for i in cnt_labels.most_common(100):\n",
    "    sum_occur = sum_occur + i[1]\n",
    "    print(label_proportions.loc[label_proportions['index']==i[0]]['display_name'].values[0], ' : ', str(i[1]))"
   ]
  },
  {
   "cell_type": "code",
   "execution_count": 68,
   "metadata": {},
   "outputs": [],
   "source": [
    "## Tellen van lijsten in lijsten is lastig, vandaar dat ik er strings van maak: [0,4] wordt [\"0_4\"]\n",
    "str_combis = []\n",
    "\n",
    "for combi in label_combinations:\n",
    "    str_combi = [str(i) for i in combi]\n",
    "    str_combi = \"_\".join(str_combi)\n",
    "    str_combis.append(str_combi)"
   ]
  },
  {
   "cell_type": "code",
   "execution_count": 69,
   "metadata": {
    "scrolled": true
   },
   "outputs": [
    {
     "name": "stdout",
     "output_type": "stream",
     "text": [
      "Series([], Name: display_name, dtype: object) :  601\n",
      "Series([], Name: display_name, dtype: object) :  484\n",
      "Series([], Name: display_name, dtype: object) :  362\n",
      "Series([], Name: display_name, dtype: object) :  316\n",
      "Series([], Name: display_name, dtype: object) :  295\n",
      "Series([], Name: display_name, dtype: object) :  250\n",
      "Series([], Name: display_name, dtype: object) :  248\n",
      "Series([], Name: display_name, dtype: object) :  199\n",
      "Series([], Name: display_name, dtype: object) :  136\n",
      "Series([], Name: display_name, dtype: object) :  79\n",
      "Series([], Name: display_name, dtype: object) :  43\n",
      "Series([], Name: display_name, dtype: object), Series([], Name: display_name, dtype: object) :  42\n",
      "Series([], Name: display_name, dtype: object), Series([], Name: display_name, dtype: object) :  4\n",
      "Series([], Name: display_name, dtype: object), Series([], Name: display_name, dtype: object) :  1\n",
      "Series([], Name: display_name, dtype: object), Series([], Name: display_name, dtype: object) :  1\n",
      "Series([], Name: display_name, dtype: object), Series([], Name: display_name, dtype: object) :  1\n",
      "Series([], Name: display_name, dtype: object), Series([], Name: display_name, dtype: object) :  1\n",
      "Series([], Name: display_name, dtype: object), Series([], Name: display_name, dtype: object) :  1\n"
     ]
    }
   ],
   "source": [
    "## Houd individuele voorkomens bij (dus aantal keer dat label voorkomt zonder andere labels)\n",
    "ind_occur = [0 for x in range(label_proportions.shape[0])] \n",
    "\n",
    "## Geef meest voorkomende combinaties\n",
    "cnt_label_combinations = Counter(str_combis)\n",
    "for label_combination in cnt_label_combinations.most_common(20):\n",
    "    label_names = []\n",
    "    \n",
    "    ## Maak van string weer een lijst (zie vorige cel)\n",
    "    label_list = label_combination[0].split(\"_\")\n",
    "    \n",
    "    ## Code die alleen individuele labels telt\n",
    "    if(len(label_list)==1):\n",
    "        ind_occur[int(label_list[0])] = label_combination[1]\n",
    "    \n",
    "    for i in label_list:\n",
    "        label_names.append(str(label_proportions.loc[label_proportions['index']==i]['display_name']))\n",
    "    label_names = ', '.join(label_names)\n",
    "    print(label_names,': ', label_combination[1])"
   ]
  },
  {
   "cell_type": "code",
   "execution_count": 70,
   "metadata": {
    "scrolled": true
   },
   "outputs": [
    {
     "name": "stdout",
     "output_type": "stream",
     "text": [
      "sum occurences: 3115\n",
      "ind occ: \n",
      "[601, 250, 248, 484, 199, 316, 362, 295, 136, 43, 79, 0, 0, 0, 0]\n"
     ]
    }
   ],
   "source": [
    "print(\"sum occurences: \" + str(sum_occur))\n",
    "print(\"ind occ: \")\n",
    "print(ind_occur)"
   ]
  },
  {
   "cell_type": "code",
   "execution_count": 72,
   "metadata": {},
   "outputs": [],
   "source": [
    "## UP-/DOWN-SAMPLEN\n",
    "\n",
    "## Alle code hierna is alleen om uit te rekenen wat de proporties zijn\n",
    "## Het werkt als volgt:\n",
    "## Van het totale aantal voorkomens van een label (bv 11.000), wordt het gewenste afgetrokken:\n",
    "## bv 11.000-2.000 = 9.000\n",
    "## Dit aantal examples moet geskipt worden, maar dan alleen als het label alleen voorkomt\n",
    "## Daarom wordt de target proportie van het totale individuutjes (target_ind) als volgt berekend:\n",
    "## Stel ind_occ (aantal keer alleen voorkomend) is 10.000, waarvan we er 9.000 niet willen hebben.\n",
    "## (10.000-9.000)/10.000 = 0.1 is dan de kans dat een example wordt geschreven."
   ]
  },
  {
   "cell_type": "code",
   "execution_count": 73,
   "metadata": {},
   "outputs": [
    {
     "ename": "ZeroDivisionError",
     "evalue": "division by zero",
     "output_type": "error",
     "traceback": [
      "\u001b[1;31m---------------------------------------------------------------------------\u001b[0m",
      "\u001b[1;31mZeroDivisionError\u001b[0m                         Traceback (most recent call last)",
      "\u001b[1;32m<ipython-input-73-ccd6ae403abc>\u001b[0m in \u001b[0;36m<module>\u001b[1;34m\u001b[0m\n\u001b[0;32m     14\u001b[0m     \u001b[0mlabel_proportions\u001b[0m\u001b[1;33m.\u001b[0m\u001b[0mloc\u001b[0m\u001b[1;33m[\u001b[0m\u001b[0mi\u001b[0m\u001b[1;33m,\u001b[0m\u001b[1;34m\"ind_total\"\u001b[0m\u001b[1;33m]\u001b[0m \u001b[1;33m=\u001b[0m \u001b[0mind_occur\u001b[0m\u001b[1;33m[\u001b[0m\u001b[0mi\u001b[0m\u001b[1;33m]\u001b[0m\u001b[1;33m\u001b[0m\u001b[1;33m\u001b[0m\u001b[0m\n\u001b[0;32m     15\u001b[0m     \u001b[0mlabel_proportions\u001b[0m\u001b[1;33m.\u001b[0m\u001b[0mloc\u001b[0m\u001b[1;33m[\u001b[0m\u001b[0mi\u001b[0m\u001b[1;33m,\u001b[0m\u001b[1;34m\"proportion\"\u001b[0m\u001b[1;33m]\u001b[0m \u001b[1;33m=\u001b[0m \u001b[0mcnt_labels\u001b[0m\u001b[1;33m[\u001b[0m\u001b[0mi\u001b[0m\u001b[1;33m]\u001b[0m\u001b[1;33m/\u001b[0m\u001b[0msum_occur\u001b[0m\u001b[1;33m\u001b[0m\u001b[1;33m\u001b[0m\u001b[0m\n\u001b[1;32m---> 16\u001b[1;33m     \u001b[0mlabel_proportions\u001b[0m\u001b[1;33m.\u001b[0m\u001b[0mloc\u001b[0m\u001b[1;33m[\u001b[0m\u001b[0mi\u001b[0m\u001b[1;33m,\u001b[0m\u001b[1;34m\"target_ind\"\u001b[0m\u001b[1;33m]\u001b[0m \u001b[1;33m=\u001b[0m \u001b[1;33m(\u001b[0m\u001b[0mind_occur\u001b[0m\u001b[1;33m[\u001b[0m\u001b[0mi\u001b[0m\u001b[1;33m]\u001b[0m\u001b[1;33m-\u001b[0m\u001b[1;33m(\u001b[0m\u001b[0mcnt_labels\u001b[0m\u001b[1;33m[\u001b[0m\u001b[0mi\u001b[0m\u001b[1;33m]\u001b[0m\u001b[1;33m-\u001b[0m\u001b[0mtarget\u001b[0m\u001b[1;33m)\u001b[0m\u001b[1;33m)\u001b[0m\u001b[1;33m/\u001b[0m\u001b[0mind_occur\u001b[0m\u001b[1;33m[\u001b[0m\u001b[0mi\u001b[0m\u001b[1;33m]\u001b[0m\u001b[1;33m\u001b[0m\u001b[1;33m\u001b[0m\u001b[0m\n\u001b[0m",
      "\u001b[1;31mZeroDivisionError\u001b[0m: division by zero"
     ]
    }
   ],
   "source": [
    "## Code die kolom toevoegt aan label-csv (proportion) en deze in de forloop vult\n",
    "\n",
    "## Aantal gewenste samples per label: 2500\n",
    "target = 2500\n",
    "\n",
    "## Aantal voorkomens en aantal voorkomens alleen\n",
    "label_proportions[\"total\"] = 0\n",
    "label_proportions[\"ind_total\"] = 0\n",
    "label_proportions[\"proportion\"] = 0\n",
    "label_proportions[\"target_ind\"] = 0\n",
    "\n",
    "for i in range(mid_to_label_new.shape[0]):\n",
    "    label_proportions.loc[i,\"total\"] = cnt_labels[i]\n",
    "    label_proportions.loc[i,\"ind_total\"] = ind_occur[i]   \n",
    "    label_proportions.loc[i,\"proportion\"] = cnt_labels[i]/sum_occur\n",
    "    label_proportions.loc[i,\"target_ind\"] = (ind_occur[i]-(cnt_labels[i]-target))/ind_occur[i]"
   ]
  },
  {
   "cell_type": "code",
   "execution_count": null,
   "metadata": {},
   "outputs": [],
   "source": [
    "## Schrijf bestandje weg\n",
    "label_proportions.to_csv(name_label_prop_file, sep = \";\")"
   ]
  },
  {
   "cell_type": "code",
   "execution_count": null,
   "metadata": {},
   "outputs": [],
   "source": [
    "label_proportions"
   ]
  },
  {
   "cell_type": "code",
   "execution_count": 3,
   "metadata": {},
   "outputs": [],
   "source": []
  },
  {
   "cell_type": "code",
   "execution_count": 9,
   "metadata": {},
   "outputs": [],
   "source": [
    "#### Lees tf-records en iterate over de examples#### Lee \n",
    "#### Voor elk example wordt de video-id gepakt en de bijbehorende lijst m-id's gezocht (in balanced_segment.csv)\n",
    "\n",
    "## 1 tf-record heeft meerdere examples\n",
    "## Deze functie checkt voor elk example of het een label heeft uit onze labelset\n",
    "\n",
    "## Input: filename van tf-record (pad) en prefix (vanwege dubbele filenames)\n",
    "## Result: schrijven van nieuw tf-record\n",
    "\n",
    "## Geef prefix mee (om dubbele namen te voorkomen)\n",
    "def readTfRecord(tfrecords_filename):\n",
    "    \n",
    "    ## Iterator that goes through all examples of tf-record\n",
    "    record_iterator = tf.python_io.tf_record_iterator(path=tfrecords_filename)\n",
    "\n",
    "    \n",
    "    for string_record in record_iterator:\n",
    "        \n",
    "        ## Take one example\n",
    "        example = tf.train.SequenceExample()\n",
    "        example.ParseFromString(string_record)\n",
    " \n",
    "        print(example)\n",
    "        ## Get labels and find for each label the m-code in class_label_indices_old\n",
    "        labels = example.context.feature['labels'].int64_list.value\n",
    "       \n",
    "        #if(labels[0]!=11):\n",
    "        #    print(labels)\n",
    "        break;"
   ]
  },
  {
   "cell_type": "code",
   "execution_count": 18,
   "metadata": {},
   "outputs": [
    {
     "data": {
      "text/plain": [
       "'C:\\\\data\\\\work-sensing-clues'"
      ]
     },
     "execution_count": 18,
     "metadata": {},
     "output_type": "execute_result"
    }
   ],
   "source": [
    "#file = 'tfrecords/train_jungle_new/gun_train.tfrecord'\n",
    "file = 'audioset_v1_embeddings/eval/--.tfrecord'\n",
    "os.getcwd()\n",
    "os.chdir('C:\\\\data\\\\work-sensing-clues\\\\')\n",
    "os.getcwd()"
   ]
  },
  {
   "cell_type": "code",
   "execution_count": 19,
   "metadata": {},
   "outputs": [
    {
     "name": "stdout",
     "output_type": "stream",
     "text": [
      "context {\n",
      "  feature {\n",
      "    key: \"end_time_seconds\"\n",
      "    value {\n",
      "      float_list {\n",
      "        value: 10.0\n",
      "      }\n",
      "    }\n",
      "  }\n",
      "  feature {\n",
      "    key: \"labels\"\n",
      "    value {\n",
      "      int64_list {\n",
      "        value: 72\n",
      "        value: 73\n",
      "        value: 74\n",
      "        value: 361\n",
      "      }\n",
      "    }\n",
      "  }\n",
      "  feature {\n",
      "    key: \"start_time_seconds\"\n",
      "    value {\n",
      "      float_list {\n",
      "        value: 0.0\n",
      "      }\n",
      "    }\n",
      "  }\n",
      "  feature {\n",
      "    key: \"video_id\"\n",
      "    value {\n",
      "      bytes_list {\n",
      "        value: \"--4gqARaEJE\"\n",
      "      }\n",
      "    }\n",
      "  }\n",
      "}\n",
      "feature_lists {\n",
      "  feature_list {\n",
      "    key: \"audio_embedding\"\n",
      "    value {\n",
      "      feature {\n",
      "        bytes_list {\n",
      "          value: \"\\203#\\202i\\220:$\\252\\270\\272eO\\203\\233\\217 C\\333\\216\\245\\010y?}z\\275\\266\\262y\\242Q\\343\\253\\276\\237T\\377D\\210\\022\\307s\\377r\\237A\\275z\\2007\\303\\333\\214\\375l\\222#\\265\\221xk\\2544P\\000\\260\\252\\244mj\\222\\226\\206\\207X\\204\\220\\201\\225\\000F\\227\\326\\340O\\177\\316\\222Lb\\250R\\\\M\\266,t\\377\\037\\000n\\272)Q\\240\\230i\\223\\217:q\\\"A\\377\\256<`\\346\\271\\235\\206\\000\\227\\246\\377\\216\\223%\"\n",
      "        }\n",
      "      }\n",
      "      feature {\n",
      "        bytes_list {\n",
      "          value: \"l>\\252P\\221C8\\330\\257\\322zr\\275\\2461#\\252\\245h\\276h/{\\2452\\352\\2247\\242\\317Z\\301\\247\\272\\225\\t\\225x\\300T\\340\\211\\226\\260w*\\264\\tKG|\\377N\\312EW\\202\\327x\\036\\313\\255_t\\0000\\261PF\\314\\222v\\355\\340Sc\\177\\224\\221Y\\233\\000\\204x~\\000\\257H \\377\\312b\\232i\\253,\\257\\222\\000\\200\\000\\354\\243O\\265y\\300\\370\\377\\2556\\000]\\247j\\310\\220\\320\\351\\000\\000)(\\233\\341o\\2004\"\n",
      "        }\n",
      "      }\n",
      "      feature {\n",
      "        bytes_list {\n",
      "          value: \"\\221>\\2059gY\\205\\203\\345\\344-i\\214\\260\\010Bz4y\\231a;\\353]w\\363\\221x\\377\\204\\006^\\257b\\271k\\007(r=\\247\\211\\213\\353g8\\227\\220U\\375\\254\\377Fn\\336\\2731\\315\\000J\\254\\320\\233JSc+\\207B\\367\\267\\257\\216\\226p`L\\270\\377]6\\245\\307\\200\\222\\242z\\265T\\021v\\377-\\222\\364[\\272]\\245\\000\\330\\244\\035I\\377\\322\\305X\\000\\232\\353+\\025\\241>m\\032\\034\\363z\\017\\000~\\377\\377\\350oV\"\n",
      "        }\n",
      "      }\n",
      "      feature {\n",
      "        bytes_list {\n",
      "          value: \"\\237_\\222cUF\\256D\\267\\305\\017\\205\\204u.\\ti\\000}\\227k@\\361M=\\377\\2135\\351<\\000t\\253m\\323\\226\\035?D:\\301\\201p\\377h$;\\362\\211\\377x\\377\\250=s\\331N\\375\\0004T`tC\\000P5\\253P\\334oM\\264s\\252\\205\\267]\\377\\200%\\325hE\\223\\315G\\215>B\\301\\3301\\346\\261\\265\\377{\\341\\000c\\230\\202\\256\\377\\201Pe\\000\\000\\200\\024[\\266M?\\005`\\377#\\025\\000\\352\\325\\377\\267\\377\\031\"\n",
      "        }\n",
      "      }\n",
      "      feature {\n",
      "        bytes_list {\n",
      "          value: \"\\2574\\241M\\231Kvz\\266\\302Oc\\211\\227]\\\"s>woa\\306\\222Ww\\330\\247U\\307Z^O\\244Z\\272t\\246aPE\\351\\2572\\324=\\210>\\226\\202x\\227\\377wm\\206\\232R\\273\\000\\240\\306\\202NSB\\301.M\\237\\377o\\211\\276\\353t\\251k\\377\\377\\2343s\\275YY\\2167\\261,)\\307\\341w\\221\\232\\313\\201Cc\\037\\327\\335cln{\\211\\306M\\\\\\246\\024\\222\\221w6X\\214\\252z\\240Rm\\311\\242\\212\\177s\"\n",
      "        }\n",
      "      }\n",
      "      feature {\n",
      "        bytes_list {\n",
      "          value: \"\\260O\\217r\\200OtC\\271\\322<q\\202gL\\000s1y\\203\\225x\\315\\035^\\377\\274K\\236y\\026k\\224\\223\\377\\221OJK>\\306\\223j\\333\\200/\\002gQw\\237\\3457\\243\\204\\273]\\377q~p^\\245]\\023\\305v\\220C\\344/\\316l~\\216x\\275\\322\\326\\241\\000\\225jKN\\252\\250\\243<D\\264w)\\377\\207s\\273\\202\\360\\000\\242\\206\\235\\275\\354\\235\\320\\213G\\027~\\005\\307\\240\\202\\325\\036\\203I\\261\\230\\241\\326\\236\\360\\260\\212\\000\"\n",
      "        }\n",
      "      }\n",
      "      feature {\n",
      "        bytes_list {\n",
      "          value: \"\\216R\\306U[)\\252z\\276\\275Qn\\276B\\r\\037|6Q\\304Q\\271\\314M\\000\\377X\\000\\303\\007]O4b\\350\\256\\2022\\0010\\334\\242\\224\\275+\\000\\010\\220/\\342\\333\\363\\036|\\207~\\017\\377\\000O\\264\\237\\257xH\\225*\\017\\243\\377d6\\310\\202Q\\000s\\333\\211\\377\\221a~\\253\\353Oa\\274\\0002\\272\\3246\\263\\0345\\341\\000\\254R\\215\\377G\\361\\241\\257\\313\\327\\000\\273\\000\\204\\020f`\\030\\353\\254\\227\\217iU\\264\\250 \\356\\301\\000\"\n",
      "        }\n",
      "      }\n",
      "      feature {\n",
      "        bytes_list {\n",
      "          value: \"aC\\253v~:i^\\352\\204=\\223\\301\\277\\016\\000H\\220\\202\\254aA\\301~O\\311ho\\241kF~\\203\\306\\255+\\312\\205=rHw\\274y\\246J:o:\\231\\236\\373\\022\\236Ca6\\300<x\\202^@\\262EB\\230yY\\247cG\\\\\\333* t\\326\\251\\3416aDx\\377Aq\\257U\\225f\\253\\\\\\373u\\203\\320GiK(\\242\\235\\267\\206\\316\\340\\206\\265\\316\\000D\\205\\214c]\\264\\223\\201\\026O\\210\\203\\322\\262\\257re\"\n",
      "        }\n",
      "      }\n",
      "      feature {\n",
      "        bytes_list {\n",
      "          value: \"\\225@\\236o\\224E\\204t\\276\\336Tu\\234\\271\\035\\007a:\\177\\213VQ\\325{T\\377\\220\\\\\\340x0\\222\\234\\302\\246HGnY4\\341\\233\\232\\3025H\\204\\220w\\200\\272\\377wu|\\205h\\342(\\236\\276u\\310e5[\\226\\2732\\377\\235\\232\\202\\225\\214\\302O\\257\\351Q\\033/\\277k\\2213u\\267\\000\\033\\364\\261o\\266~C\\221\\177\\\\\\000\\202\\273}\\330\\317o\\313\\257j\\253c_\\\\\\310\\027\\000[u\\320\\203P9i\\377\\325\\243\\336V\"\n",
      "        }\n",
      "      }\n",
      "      feature {\n",
      "        bytes_list {\n",
      "          value: \"\\253b\\215vb(\\2550\\370\\203\\021Xb\\201\\021<~Z\\234s\\212\\256\\271Ie\\371\\252\\000\\352&?\\031\\257\\301\\177\\201^`8\\220\\310dA\\3213\\211\\000h`\\330\\377\\332\\026hO\\215]\\352\\034H\\240?BV_w\\223\\206\\266\\327\\201\\203z\\232UXe\\231\\377\\267\\000\\221tL1\\354<\\377~\\032c\\356\\247\\230\\245\\242\\246\\000d\\022\\361\\250\\302r\\324\\375\\372\\206\\000\\246\\035\\201\\203\\255\\000\\211\\204\\213\\377\\266\\177\\277O\\325\\331\\177\\377G\"\n",
      "        }\n",
      "      }\n",
      "    }\n",
      "  }\n",
      "}\n",
      "\n"
     ]
    }
   ],
   "source": [
    "readTfRecord(file)"
   ]
  },
  {
   "cell_type": "code",
   "execution_count": null,
   "metadata": {},
   "outputs": [],
   "source": []
  }
 ],
 "metadata": {
  "kernelspec": {
   "display_name": "Python 3",
   "language": "python",
   "name": "python3"
  },
  "language_info": {
   "codemirror_mode": {
    "name": "ipython",
    "version": 3
   },
   "file_extension": ".py",
   "mimetype": "text/x-python",
   "name": "python",
   "nbconvert_exporter": "python",
   "pygments_lexer": "ipython3",
   "version": "3.6.9"
  }
 },
 "nbformat": 4,
 "nbformat_minor": 2
}
