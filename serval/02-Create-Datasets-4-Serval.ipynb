{
 "cells": [
  {
   "cell_type": "markdown",
   "metadata": {},
   "source": [
    "## Create datasets\n",
    "\n",
    "Now from all the samples collected we create a combined training and validation set.\n",
    "\n",
    "We merge the csv file from the sources of interest and split into a trainingset and a validation set.\n",
    "\n",
    "* load all metadatasets\n",
    "* sample from them for a trainingset and a validationset\n",
    "* save those metadatasets so we can pick tehm up for traiing and evaluation"
   ]
  },
  {
   "cell_type": "code",
   "execution_count": 2,
   "metadata": {
    "collapsed": false
   },
   "outputs": [
    {
     "data": {
      "text/html": [
       "<div>\n",
       "<style>\n",
       "    .dataframe thead tr:only-child th {\n",
       "        text-align: right;\n",
       "    }\n",
       "\n",
       "    .dataframe thead th {\n",
       "        text-align: left;\n",
       "    }\n",
       "\n",
       "    .dataframe tbody tr th {\n",
       "        vertical-align: top;\n",
       "    }\n",
       "</style>\n",
       "<table border=\"1\" class=\"dataframe\">\n",
       "  <thead>\n",
       "    <tr style=\"text-align: right;\">\n",
       "      <th></th>\n",
       "      <th>filename</th>\n",
       "      <th>category</th>\n",
       "    </tr>\n",
       "  </thead>\n",
       "  <tbody>\n",
       "    <tr>\n",
       "      <th>0</th>\n",
       "      <td>EFAF2011A008-1688628.WAV</td>\n",
       "      <td>background</td>\n",
       "    </tr>\n",
       "    <tr>\n",
       "      <th>1</th>\n",
       "      <td>EFAF2011A008-38.WAV</td>\n",
       "      <td>rumble</td>\n",
       "    </tr>\n",
       "    <tr>\n",
       "      <th>2</th>\n",
       "      <td>EFAF2011A008-1829192.WAV</td>\n",
       "      <td>background</td>\n",
       "    </tr>\n",
       "    <tr>\n",
       "      <th>3</th>\n",
       "      <td>EFAF2011A008-41.WAV</td>\n",
       "      <td>rumble</td>\n",
       "    </tr>\n",
       "    <tr>\n",
       "      <th>4</th>\n",
       "      <td>EFAF2011A008-4925576.WAV</td>\n",
       "      <td>background</td>\n",
       "    </tr>\n",
       "  </tbody>\n",
       "</table>\n",
       "</div>"
      ],
      "text/plain": [
       "                   filename    category\n",
       "0  EFAF2011A008-1688628.WAV  background\n",
       "1       EFAF2011A008-38.WAV      rumble\n",
       "2  EFAF2011A008-1829192.WAV  background\n",
       "3       EFAF2011A008-41.WAV      rumble\n",
       "4  EFAF2011A008-4925576.WAV  background"
      ]
     },
     "execution_count": 2,
     "metadata": {},
     "output_type": "execute_result"
    }
   ],
   "source": [
    "import pandas as pd\n",
    "\n",
    "# load all meta data sets\n",
    "#df1 = pd.read_csv('./dataset/meta-data-esc-50-wildlife-small.csv')\n",
    "#df2 = pd.read_csv('./dataset/meta-data-elephant-listening.csv')\n",
    "#df3 = pd.read_csv('./dataset/meta-data-elephant-background.csv')\n",
    "#df3 = pd.read_csv('./dataset/meta-data-urban8k-relevant.csv')\n",
    "df4 = pd.read_csv('./dataset/meta-data-elephant-adventures.csv')\n",
    "\n",
    "\n",
    "frames = [df4]\n",
    "#frames = [df1] #, df2]\n",
    "\n",
    "md = pd.concat(frames)\n",
    "md.head(5)"
   ]
  },
  {
   "cell_type": "code",
   "execution_count": 8,
   "metadata": {
    "collapsed": false
   },
   "outputs": [
    {
     "data": {
      "text/plain": [
       "(1222, 2)"
      ]
     },
     "execution_count": 8,
     "metadata": {},
     "output_type": "execute_result"
    }
   ],
   "source": [
    "df4.shape"
   ]
  },
  {
   "cell_type": "code",
   "execution_count": 3,
   "metadata": {
    "collapsed": true
   },
   "outputs": [],
   "source": [
    "# create a train and test set\n",
    "import numpy as np\n",
    "from sklearn.model_selection import train_test_split\n",
    "\n",
    "# set random seed\n",
    "np.random.seed(42)\n",
    "\n",
    "train, test = train_test_split(md, test_size = 0.3)"
   ]
  },
  {
   "cell_type": "code",
   "execution_count": 12,
   "metadata": {
    "collapsed": false
   },
   "outputs": [],
   "source": [
    "# save \n",
    "# save the metadata for later\n",
    "train.to_csv('./dataset/meta-train-data.csv',index=False)\n",
    "test.to_csv('./dataset/meta-test-data.csv',index=False)"
   ]
  },
  {
   "cell_type": "code",
   "execution_count": 10,
   "metadata": {
    "collapsed": false
   },
   "outputs": [],
   "source": [
    "import shutil\n",
    "import os\n",
    "\n",
    "# copy files in trainingset to specific folder\n",
    "src_dir = \"./dataset/audio/\"\n",
    "dst_dir = \"./dataset/train/\"\n",
    "for index,row in train.iterrows():\n",
    "    shutil.copy(src_dir + row.filename, dst_dir + row.filename)"
   ]
  },
  {
   "cell_type": "code",
   "execution_count": 11,
   "metadata": {
    "collapsed": true
   },
   "outputs": [],
   "source": [
    "import shutil\n",
    "import os\n",
    "\n",
    "# copy files in trainingset to specific folder\n",
    "src_dir = \"./dataset/audio/\"\n",
    "dst_dir = \"./dataset/test/\"\n",
    "for index,row in test.iterrows():\n",
    "    shutil.copy(src_dir + row.filename, dst_dir + row.filename)"
   ]
  },
  {
   "cell_type": "markdown",
   "metadata": {},
   "source": [
    "## Remove soundsamples\n",
    "If we start with a new project we remove the existing wav and spectrum files in audio en tmp."
   ]
  },
  {
   "cell_type": "code",
   "execution_count": 3,
   "metadata": {
    "collapsed": false
   },
   "outputs": [],
   "source": [
    "import os\n",
    "\n",
    "# remove wavs from audio\n",
    "filelist = [ f for f in os.listdir(\"./dataset/audio\") if f.endswith(\".wav\") ]\n",
    "for f in filelist:\n",
    "    os.remove(\"./dataset/audio/\" + f)\n"
   ]
  },
  {
   "cell_type": "code",
   "execution_count": 4,
   "metadata": {
    "collapsed": true
   },
   "outputs": [],
   "source": [
    "import os\n",
    "\n",
    "# remove spectrograms from tmp\n",
    "filelist = [ f for f in os.listdir(\"./dataset/tmp\") if f.endswith(\".npy\") ]\n",
    "for f in filelist:\n",
    "    os.remove(\"./dataset/tmp/\" + f)"
   ]
  }
 ],
 "metadata": {
  "kernelspec": {
   "display_name": "Python [conda env:py35]",
   "language": "python",
   "name": "conda-env-py35-py"
  },
  "language_info": {
   "codemirror_mode": {
    "name": "ipython",
    "version": 3
   },
   "file_extension": ".py",
   "mimetype": "text/x-python",
   "name": "python",
   "nbconvert_exporter": "python",
   "pygments_lexer": "ipython3",
   "version": "3.5.2"
  }
 },
 "nbformat": 4,
 "nbformat_minor": 2
}
