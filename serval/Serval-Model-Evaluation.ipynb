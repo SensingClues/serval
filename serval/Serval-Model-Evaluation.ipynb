{
 "cells": [
  {
   "cell_type": "markdown",
   "metadata": {},
   "source": [
    "### SERVAL MODEL EVALUATION\n",
    "\n",
    "Here we will evaluate an exciting sound classification model for Sensing Clues SERVAL sound sensor.\n",
    "\n",
    "Load the holdout set.\n",
    "Create spectrograms if not already available.\n",
    "Load trained model.\n",
    "Run model against holdout set.\n",
    "Evaluate results."
   ]
  },
  {
   "cell_type": "code",
   "execution_count": 1,
   "metadata": {
    "collapsed": false
   },
   "outputs": [],
   "source": [
    "import json\n",
    "import logging\n",
    "import os\n",
    "import time\n",
    "import warnings\n",
    "\n",
    "import librosa\n",
    "import numpy as np\n",
    "import pandas as pd\n",
    "import pydub\n",
    "import sklearn.preprocessing\n",
    "\n",
    "from tqdm import tqdm\n",
    "\n",
    "import h5py as h5py\n",
    "\n",
    "from config import *"
   ]
  },
  {
   "cell_type": "code",
   "execution_count": 6,
   "metadata": {
    "collapsed": false
   },
   "outputs": [
    {
     "name": "stderr",
     "output_type": "stream",
     "text": [
      "INFO:__main__:Generating spectrograms...\n",
      "  0%|          | 0/225 [00:00<?, ?it/s]DEBUG:pydub.converter:subprocess.call(['avconv', '-y', '-i', '/tmp/tmp1a5vwd1x', '-vn', '-f', 'wav', '/tmp/tmp768trxh4'])\n",
      "  2%|▏         | 4/225 [00:00<00:11, 19.61it/s]DEBUG:pydub.converter:subprocess.call(['avconv', '-y', '-i', '/tmp/tmp2wyi4yfg', '-vn', '-f', 'wav', '/tmp/tmp95g7kx1e'])\n",
      "  3%|▎         | 6/225 [00:00<00:11, 18.27it/s]DEBUG:pydub.converter:subprocess.call(['avconv', '-y', '-i', '/tmp/tmpn86lf1yd', '-vn', '-f', 'wav', '/tmp/tmpcm99ll8q'])\n",
      "  4%|▍         | 10/225 [00:00<00:13, 16.38it/s]DEBUG:pydub.converter:subprocess.call(['avconv', '-y', '-i', '/tmp/tmpo0_vr488', '-vn', '-f', 'wav', '/tmp/tmpfp4_kxlg'])\n",
      "DEBUG:pydub.converter:subprocess.call(['avconv', '-y', '-i', '/tmp/tmplfpayx4t', '-vn', '-f', 'wav', '/tmp/tmpb73u19wh'])\n",
      "  8%|▊         | 19/225 [00:01<00:11, 17.22it/s]DEBUG:pydub.converter:subprocess.call(['avconv', '-y', '-i', '/tmp/tmp3a7i3_en', '-vn', '-f', 'wav', '/tmp/tmpf2py0ihs'])\n",
      " 12%|█▏        | 26/225 [00:01<00:11, 16.90it/s]DEBUG:pydub.converter:subprocess.call(['avconv', '-y', '-i', '/tmp/tmpnkqrxlqf', '-vn', '-f', 'wav', '/tmp/tmp6aq7jxjs'])\n",
      " 13%|█▎        | 29/225 [00:01<00:10, 18.61it/s]DEBUG:pydub.converter:subprocess.call(['avconv', '-y', '-i', '/tmp/tmp21qbq3t_', '-vn', '-f', 'wav', '/tmp/tmp5w62lbr_'])\n",
      " 17%|█▋        | 39/225 [00:02<00:07, 23.91it/s]DEBUG:pydub.converter:subprocess.call(['avconv', '-y', '-i', '/tmp/tmp3qnmpmjc', '-vn', '-f', 'wav', '/tmp/tmpc2_mlh03'])\n",
      " 22%|██▏       | 49/225 [00:02<00:05, 29.52it/s]DEBUG:pydub.converter:subprocess.call(['avconv', '-y', '-i', '/tmp/tmpeje7ihtx', '-vn', '-f', 'wav', '/tmp/tmps5gk1wle'])\n",
      " 28%|██▊       | 62/225 [00:02<00:05, 29.16it/s]DEBUG:pydub.converter:subprocess.call(['avconv', '-y', '-i', '/tmp/tmpf5n8lh0_', '-vn', '-f', 'wav', '/tmp/tmpitumzp99'])\n",
      " 29%|██▉       | 66/225 [00:02<00:05, 27.18it/s]DEBUG:pydub.converter:subprocess.call(['avconv', '-y', '-i', '/tmp/tmpst5l8n8i', '-vn', '-f', 'wav', '/tmp/tmpbgopsjt0'])\n",
      " 31%|███       | 70/225 [00:03<00:05, 26.97it/s]DEBUG:pydub.converter:subprocess.call(['avconv', '-y', '-i', '/tmp/tmpr9dvy64d', '-vn', '-f', 'wav', '/tmp/tmpwsbanthv'])\n",
      "DEBUG:pydub.converter:subprocess.call(['avconv', '-y', '-i', '/tmp/tmpuodnw8eb', '-vn', '-f', 'wav', '/tmp/tmpfmzdtm_e'])\n",
      " 32%|███▏      | 73/225 [00:03<00:06, 22.73it/s]DEBUG:pydub.converter:subprocess.call(['avconv', '-y', '-i', '/tmp/tmphu6o247v', '-vn', '-f', 'wav', '/tmp/tmppnk1enq8'])\n",
      "DEBUG:pydub.converter:subprocess.call(['avconv', '-y', '-i', '/tmp/tmp6kd3aupp', '-vn', '-f', 'wav', '/tmp/tmp30xh9ykz'])\n",
      " 34%|███▍      | 76/225 [00:03<00:07, 20.64it/s]DEBUG:pydub.converter:subprocess.call(['avconv', '-y', '-i', '/tmp/tmpy5u3k6q2', '-vn', '-f', 'wav', '/tmp/tmpfchx0bsa'])\n",
      " 35%|███▌      | 79/225 [00:03<00:07, 20.43it/s]DEBUG:pydub.converter:subprocess.call(['avconv', '-y', '-i', '/tmp/tmplkyudg0d', '-vn', '-f', 'wav', '/tmp/tmp3as13bnu'])\n",
      " 39%|███▉      | 88/225 [00:03<00:06, 20.91it/s]DEBUG:pydub.converter:subprocess.call(['avconv', '-y', '-i', '/tmp/tmpimlkrx5i', '-vn', '-f', 'wav', '/tmp/tmppafx6glv'])\n",
      "DEBUG:pydub.converter:subprocess.call(['avconv', '-y', '-i', '/tmp/tmpjx_c6q5s', '-vn', '-f', 'wav', '/tmp/tmp8z9bg44n'])\n",
      "DEBUG:pydub.converter:subprocess.call(['avconv', '-y', '-i', '/tmp/tmpyje44u1w', '-vn', '-f', 'wav', '/tmp/tmps9kqrd8d'])\n",
      " 40%|████      | 91/225 [00:04<00:08, 16.16it/s]DEBUG:pydub.converter:subprocess.call(['avconv', '-y', '-i', '/tmp/tmpf4deuwyq', '-vn', '-f', 'wav', '/tmp/tmpa_m7j445'])\n",
      "DEBUG:pydub.converter:subprocess.call(['avconv', '-y', '-i', '/tmp/tmpy30k1edh', '-vn', '-f', 'wav', '/tmp/tmpyu8zo7zn'])\n",
      " 42%|████▏     | 95/225 [00:04<00:08, 15.28it/s]DEBUG:pydub.converter:subprocess.call(['avconv', '-y', '-i', '/tmp/tmp5iypsvr4', '-vn', '-f', 'wav', '/tmp/tmp2f6yplc3'])\n",
      " 44%|████▍     | 100/225 [00:04<00:07, 16.19it/s]DEBUG:pydub.converter:subprocess.call(['avconv', '-y', '-i', '/tmp/tmpb1thnfe3', '-vn', '-f', 'wav', '/tmp/tmp_olstj_m'])\n",
      " 49%|████▉     | 110/225 [00:05<00:07, 15.36it/s]DEBUG:pydub.converter:subprocess.call(['avconv', '-y', '-i', '/tmp/tmph21dbp42', '-vn', '-f', 'wav', '/tmp/tmpiguv3fe2'])\n",
      " 50%|████▉     | 112/225 [00:05<00:07, 14.97it/s]DEBUG:pydub.converter:subprocess.call(['avconv', '-y', '-i', '/tmp/tmpcjt6_9q4', '-vn', '-f', 'wav', '/tmp/tmp1j6sk_ha'])\n",
      " 52%|█████▏    | 117/225 [00:05<00:06, 16.23it/s]DEBUG:pydub.converter:subprocess.call(['avconv', '-y', '-i', '/tmp/tmpmb8yb1r6', '-vn', '-f', 'wav', '/tmp/tmpnekjyglv'])\n",
      " 53%|█████▎    | 120/225 [00:05<00:05, 18.61it/s]DEBUG:pydub.converter:subprocess.call(['avconv', '-y', '-i', '/tmp/tmpbltivgd8', '-vn', '-f', 'wav', '/tmp/tmpjk_uc7vh'])\n",
      "DEBUG:pydub.converter:subprocess.call(['avconv', '-y', '-i', '/tmp/tmpwx18g23g', '-vn', '-f', 'wav', '/tmp/tmpzrtod2la'])\n",
      "DEBUG:pydub.converter:subprocess.call(['avconv', '-y', '-i', '/tmp/tmptqc438we', '-vn', '-f', 'wav', '/tmp/tmp1zz9k8k7'])\n",
      " 55%|█████▍    | 123/225 [00:06<00:05, 17.41it/s]DEBUG:pydub.converter:subprocess.call(['avconv', '-y', '-i', '/tmp/tmp5syizt3_', '-vn', '-f', 'wav', '/tmp/tmpvvrc1hvl'])\n",
      " 58%|█████▊    | 130/225 [00:06<00:04, 22.57it/s]DEBUG:pydub.converter:subprocess.call(['avconv', '-y', '-i', '/tmp/tmp1scqkrqy', '-vn', '-f', 'wav', '/tmp/tmp1990gpsy'])\n",
      " 61%|██████▏   | 138/225 [00:06<00:03, 25.32it/s]DEBUG:pydub.converter:subprocess.call(['avconv', '-y', '-i', '/tmp/tmpfty2qxdv', '-vn', '-f', 'wav', '/tmp/tmprsuwbcku'])\n",
      " 63%|██████▎   | 141/225 [00:06<00:03, 23.09it/s]DEBUG:pydub.converter:subprocess.call(['avconv', '-y', '-i', '/tmp/tmp3l5qpk2e', '-vn', '-f', 'wav', '/tmp/tmp0ih754d6'])\n",
      " 69%|██████▉   | 156/225 [00:07<00:02, 24.30it/s]DEBUG:pydub.converter:subprocess.call(['avconv', '-y', '-i', '/tmp/tmp3ocv3k_g', '-vn', '-f', 'wav', '/tmp/tmpgriqhygb'])\n",
      "DEBUG:pydub.converter:subprocess.call(['avconv', '-y', '-i', '/tmp/tmp1p97fz1i', '-vn', '-f', 'wav', '/tmp/tmpxuasanjj'])\n",
      " 71%|███████   | 159/225 [00:07<00:03, 20.50it/s]DEBUG:pydub.converter:subprocess.call(['avconv', '-y', '-i', '/tmp/tmpkuzv_qx_', '-vn', '-f', 'wav', '/tmp/tmpqki1784c'])\n",
      " 72%|███████▏  | 162/225 [00:07<00:03, 20.53it/s]DEBUG:pydub.converter:subprocess.call(['avconv', '-y', '-i', '/tmp/tmpfp_tzkko', '-vn', '-f', 'wav', '/tmp/tmpj4jr7u3w'])\n",
      " 73%|███████▎  | 165/225 [00:07<00:02, 20.32it/s]DEBUG:pydub.converter:subprocess.call(['avconv', '-y', '-i', '/tmp/tmpgc9jrt2f', '-vn', '-f', 'wav', '/tmp/tmprjeduun8'])\n",
      " 80%|████████  | 181/225 [00:08<00:01, 25.16it/s]DEBUG:pydub.converter:subprocess.call(['avconv', '-y', '-i', '/tmp/tmpa53ue8e4', '-vn', '-f', 'wav', '/tmp/tmpzw2ugesg'])\n",
      " 83%|████████▎ | 187/225 [00:08<00:01, 25.56it/s]DEBUG:pydub.converter:subprocess.call(['avconv', '-y', '-i', '/tmp/tmpqmhgt9ef', '-vn', '-f', 'wav', '/tmp/tmpo8v2eg0w'])\n",
      " 84%|████████▍ | 190/225 [00:08<00:01, 22.98it/s]DEBUG:pydub.converter:subprocess.call(['avconv', '-y', '-i', '/tmp/tmpsk9k9ca2', '-vn', '-f', 'wav', '/tmp/tmpf4_l1ob6'])\n",
      " 86%|████████▌ | 193/225 [00:09<00:01, 23.96it/s]DEBUG:pydub.converter:subprocess.call(['avconv', '-y', '-i', '/tmp/tmpdlbt7996', '-vn', '-f', 'wav', '/tmp/tmpasame_2h'])\n",
      " 87%|████████▋ | 196/225 [00:09<00:01, 23.03it/s]DEBUG:pydub.converter:subprocess.call(['avconv', '-y', '-i', '/tmp/tmp9r4uw34k', '-vn', '-f', 'wav', '/tmp/tmpk5uxolde'])\n",
      " 88%|████████▊ | 199/225 [00:09<00:01, 20.76it/s]DEBUG:pydub.converter:subprocess.call(['avconv', '-y', '-i', '/tmp/tmp4i9mrep2', '-vn', '-f', 'wav', '/tmp/tmpxe8i_460'])\n",
      " 98%|█████████▊| 220/225 [00:10<00:00, 28.71it/s]DEBUG:pydub.converter:subprocess.call(['avconv', '-y', '-i', '/tmp/tmp59j5t25x', '-vn', '-f', 'wav', '/tmp/tmpj68wcf31'])\n",
      "100%|██████████| 225/225 [00:10<00:00, 21.69it/s]\n"
     ]
    }
   ],
   "source": [
    "# setup and prepare audio files\n",
    "np.random.seed(1)\n",
    "\n",
    "logging.basicConfig(level=logging.DEBUG)\n",
    "logger = logging.getLogger(__name__)\n",
    "\n",
    "# Load dataset labels\n",
    "meta = pd.read_csv('dataset/meta-test-data.csv')\n",
    "labels = pd.unique(meta.sort_values('category')['category'])\n",
    "le = sklearn.preprocessing.LabelEncoder()\n",
    "le.fit(labels)\n",
    "\n",
    "# Generate spectrograms\n",
    "logger.info('Generating spectrograms...')\n",
    "\n",
    "if not os.path.exists('dataset/tmp/'):\n",
    "    os.mkdir('dataset/tmp/')\n",
    "\n",
    "for row in tqdm(meta.itertuples(), total=len(meta)):\n",
    "    spec_file = 'dataset/tmp/' + row.filename + '.spec.npy'\n",
    "    audio_file = 'dataset/audio/' + row.filename\n",
    "\n",
    "    if os.path.exists(spec_file):\n",
    "        continue\n",
    "\n",
    "    audio = pydub.AudioSegment.from_file(audio_file).set_frame_rate(SAMPLING_RATE).set_channels(1)\n",
    "    audio = (np.fromstring(audio._data, dtype=\"int16\") + 0.5) / (0x7FFF + 0.5)\n",
    "\n",
    "    spec = librosa.feature.melspectrogram(audio, SAMPLING_RATE, n_fft=FFT_SIZE,\n",
    "                                          hop_length=CHUNK_SIZE, n_mels=MEL_BANDS)\n",
    "    with warnings.catch_warnings():\n",
    "        warnings.simplefilter('ignore')  # Ignore log10 zero division\n",
    "        spec = librosa.core.perceptual_weighting(spec, MEL_FREQS, amin=1e-5, ref_power=1e-5,\n",
    "                                                 top_db=None)\n",
    "\n",
    "    spec = np.clip(spec, 0, 100)\n",
    "    np.save(spec_file, spec.astype('float16'), allow_pickle=False)\n"
   ]
  },
  {
   "cell_type": "code",
   "execution_count": 7,
   "metadata": {
    "collapsed": false
   },
   "outputs": [],
   "source": [
    "# functions to build a dataset\n",
    "\n",
    "def to_one_hot(targets, class_count):\n",
    "    \"\"\"Encode target classes in a one-hot matrix.\n",
    "    \"\"\"\n",
    "    one_hot_enc = np.zeros((len(targets), class_count))\n",
    "\n",
    "    for r in range(len(targets)):\n",
    "        one_hot_enc[r, targets[r]] = 1\n",
    "\n",
    "    return one_hot_enc\n",
    "\n",
    "\n",
    "def extract_segment(filename):\n",
    "    \"\"\"Get one random segment from a recording.\n",
    "    \"\"\"\n",
    "    spec = np.load('dataset/tmp/' + filename + '.spec.npy').astype('float32')\n",
    "\n",
    "    offset = np.random.randint(0, np.shape(spec)[1] - SEGMENT_LENGTH + 1)\n",
    "    spec = spec[:, offset:offset + SEGMENT_LENGTH]\n",
    "\n",
    "    return np.stack([spec])\n",
    "\n",
    "\n",
    "def iterrows(dataframe):\n",
    "    \"\"\"Iterate over a random permutation of dataframe rows.\n",
    "    \"\"\"\n",
    "    while True:\n",
    "        for row in dataframe.iloc[np.random.permutation(len(dataframe))].itertuples():\n",
    "            yield row\n",
    "\n",
    "\n",
    "def iterbatches(batch_size, training_dataframe):\n",
    "    \"\"\"Generate training batches.\n",
    "    \"\"\"\n",
    "    itrain = iterrows(training_dataframe)\n",
    "\n",
    "    while True:\n",
    "        X, y = [], []\n",
    "\n",
    "        for i in range(batch_size):\n",
    "            row = next(itrain)\n",
    "            X.append(extract_segment(row.filename))\n",
    "            y.append(le.transform([row.category])[0])\n",
    "\n",
    "        X = np.stack(X)\n",
    "        y = to_one_hot(np.array(y), len(labels))\n",
    "        \n",
    "        # TODO why do we standardize in this way?\n",
    "        X -= AUDIO_MEAN\n",
    "        X /= AUDIO_STD\n",
    "\n",
    "        yield X, y\n"
   ]
  },
  {
   "cell_type": "code",
   "execution_count": 8,
   "metadata": {
    "collapsed": false
   },
   "outputs": [],
   "source": [
    "# Get validation data\n",
    "batch_size = 250\n",
    "\n",
    "generator = iterbatches(batch_size, meta)"
   ]
  },
  {
   "cell_type": "code",
   "execution_count": 9,
   "metadata": {
    "collapsed": false
   },
   "outputs": [],
   "source": [
    "batch = next(generator)\n"
   ]
  },
  {
   "cell_type": "code",
   "execution_count": 10,
   "metadata": {
    "collapsed": false
   },
   "outputs": [
    {
     "name": "stderr",
     "output_type": "stream",
     "text": [
      "INFO:__main__:Load model...\n",
      "Using Theano backend.\n",
      "DEBUG:__main__:Loaded Keras model with weights.\n"
     ]
    }
   ],
   "source": [
    "# Load model\n",
    "logger.info('Load model...')\n",
    "\n",
    "# load model\n",
    "THEANO_FLAGS = ('device=cpu,'\n",
    "                'floatX=float32,'\n",
    "                'dnn.conv.algo_bwd_filter=deterministic,'\n",
    "                'dnn.conv.algo_bwd_data=deterministic')\n",
    "\n",
    "os.environ['THEANO_FLAGS'] = THEANO_FLAGS\n",
    "os.environ['KERAS_BACKEND'] = 'theano'\n",
    "\n",
    "import keras\n",
    "keras.backend.set_image_dim_ordering('th')\n",
    "\n",
    "# open model form current directory\n",
    "with open('model.json', 'r') as file:\n",
    "    cfg = file.read()\n",
    "    model = keras.models.model_from_json(cfg)\n",
    "\n",
    "model.load_weights('model.h5')\n",
    "logger.debug('Loaded Keras model with weights.')"
   ]
  },
  {
   "cell_type": "code",
   "execution_count": 11,
   "metadata": {
    "collapsed": true
   },
   "outputs": [],
   "source": [
    "# compile model\n",
    "optimizer = keras.optimizers.SGD(lr=0.001, momentum=0.9, nesterov=True)\n",
    "model.compile(loss='categorical_crossentropy', optimizer=optimizer, metrics=['accuracy'])"
   ]
  },
  {
   "cell_type": "code",
   "execution_count": 8,
   "metadata": {
    "collapsed": false
   },
   "outputs": [
    {
     "name": "stdout",
     "output_type": "stream",
     "text": [
      "_________________________________________________________________\n",
      "Layer (type)                 Output Shape              Param #   \n",
      "=================================================================\n",
      "conv2d_1 (Conv2D)            (None, 80, 78, 98)        800       \n",
      "_________________________________________________________________\n",
      "leaky_re_lu_1 (LeakyReLU)    (None, 80, 78, 98)        0         \n",
      "_________________________________________________________________\n",
      "max_pooling2d_1 (MaxPooling2 (None, 80, 26, 32)        0         \n",
      "_________________________________________________________________\n",
      "conv2d_2 (Conv2D)            (None, 160, 24, 30)       115360    \n",
      "_________________________________________________________________\n",
      "leaky_re_lu_2 (LeakyReLU)    (None, 160, 24, 30)       0         \n",
      "_________________________________________________________________\n",
      "max_pooling2d_2 (MaxPooling2 (None, 160, 8, 10)        0         \n",
      "_________________________________________________________________\n",
      "conv2d_3 (Conv2D)            (None, 240, 6, 8)         345840    \n",
      "_________________________________________________________________\n",
      "leaky_re_lu_3 (LeakyReLU)    (None, 240, 6, 8)         0         \n",
      "_________________________________________________________________\n",
      "max_pooling2d_3 (MaxPooling2 (None, 240, 2, 2)         0         \n",
      "_________________________________________________________________\n",
      "flatten_1 (Flatten)          (None, 960)               0         \n",
      "_________________________________________________________________\n",
      "dropout_1 (Dropout)          (None, 960)               0         \n",
      "_________________________________________________________________\n",
      "dense_1 (Dense)              (None, 28)                26908     \n",
      "_________________________________________________________________\n",
      "activation_1 (Activation)    (None, 28)                0         \n",
      "=================================================================\n",
      "Total params: 488,908\n",
      "Trainable params: 488,908\n",
      "Non-trainable params: 0\n",
      "_________________________________________________________________\n"
     ]
    }
   ],
   "source": [
    "model.summary()"
   ]
  },
  {
   "cell_type": "code",
   "execution_count": 12,
   "metadata": {
    "collapsed": false
   },
   "outputs": [
    {
     "name": "stderr",
     "output_type": "stream",
     "text": [
      "WARNING (theano.configdefaults): install mkl with `conda install mkl-service`: No module named 'mkl'\n",
      "WARNING:theano.configdefaults:install mkl with `conda install mkl-service`: No module named 'mkl'\n"
     ]
    },
    {
     "name": "stdout",
     "output_type": "stream",
     "text": [
      "acc: 75.60%\n"
     ]
    }
   ],
   "source": [
    "# get data from batch\n",
    "X = batch[0]\n",
    "Y = batch[1]\n",
    "# evaluate the model\n",
    "scores = model.evaluate(X, Y, verbose=0)\n",
    "print(\"%s: %.2f%%\" % (model.metrics_names[1], scores[1]*100))"
   ]
  },
  {
   "cell_type": "code",
   "execution_count": 10,
   "metadata": {
    "collapsed": false
   },
   "outputs": [
    {
     "data": {
      "text/plain": [
       "[1.3053084850311278, 0.89000000000000001]"
      ]
     },
     "execution_count": 10,
     "metadata": {},
     "output_type": "execute_result"
    }
   ],
   "source": [
    "scores"
   ]
  },
  {
   "cell_type": "code",
   "execution_count": 13,
   "metadata": {
    "collapsed": true
   },
   "outputs": [],
   "source": [
    "# calculate predictions\n",
    "predictions = model.predict(X)"
   ]
  },
  {
   "cell_type": "code",
   "execution_count": 16,
   "metadata": {
    "collapsed": false
   },
   "outputs": [],
   "source": [
    "# class vector of predicted class indexes\n",
    "y_pred = [np.argmax(r) for r in predictions]"
   ]
  },
  {
   "cell_type": "code",
   "execution_count": 17,
   "metadata": {
    "collapsed": false
   },
   "outputs": [],
   "source": [
    "#predictions[0] == max(predictions[0])\n",
    "# from one_hot to class labels\n",
    "y_test = [np.argmax(r) for r in Y]\n"
   ]
  },
  {
   "cell_type": "code",
   "execution_count": 18,
   "metadata": {
    "collapsed": false
   },
   "outputs": [
    {
     "name": "stdout",
     "output_type": "stream",
     "text": [
      "[[ 8  2  0  0  0  0  1  0  0  0  0  0  0  0  2  1]\n",
      " [ 0  8  0  0  0  0  1  0  0  0  0  1  0  0  1  0]\n",
      " [ 0  0 10  0  0  0  0  0  0  0  0  0  0  0  0  0]\n",
      " [ 0  0  0  8  0  0  0  0  0  1  0  4  0  0  0  0]\n",
      " [ 0  0  0  0  4  0  1  0  0  0  0  1  0  0  6  0]\n",
      " [ 0  1  0  0  0  5  0  0  0  0  0  0  0  0  1  0]\n",
      " [ 0  0  0  0  0  0  9  0  0  0  0  0  0  0  0  0]\n",
      " [ 0  2  0  1  0  0  0  9  0  0  1  0  0  2  5  0]\n",
      " [ 0  0  0  0  0  0  0  0 54  0  0  0  0  0  0  0]\n",
      " [ 0  0  1  0  0  0  0  0  0 10  0  0  1  0  0  1]\n",
      " [ 0  0  0  1  0  0  0  0  0  1 12  1  0  1  0  0]\n",
      " [ 0  0  0  0  0  0  0  0  0  0  2 10  0  0  0  0]\n",
      " [ 0  0  0  0  0  0  0  0  0  1  0  0  9  0  0  1]\n",
      " [ 0  1  0  0  0  0  1  2  0  0  0  0  0  8  1  1]\n",
      " [ 0  1  0  0  2  0  1  0  0  0  0  0  0  1 13  0]\n",
      " [ 0  0  1  0  0  0  0  0  0  0  0  0  3  0  0 12]]\n"
     ]
    }
   ],
   "source": [
    "\n",
    "from sklearn.metrics import confusion_matrix\n",
    "    \n",
    "# Compute confusion matrix\n",
    "cnf_matrix = confusion_matrix(y_test, y_pred)\n",
    "np.set_printoptions(precision=2)\n",
    "\n",
    "print(cnf_matrix)"
   ]
  },
  {
   "cell_type": "code",
   "execution_count": 19,
   "metadata": {
    "collapsed": false,
    "scrolled": false
   },
   "outputs": [
    {
     "name": "stdout",
     "output_type": "stream",
     "text": [
      "Confusion matrix, without normalization\n"
     ]
    },
    {
     "data": {
      "image/png": "[encoded data removed]",
      "text/plain": [
       "<matplotlib.figure.Figure at 0x7f3efda8cac8>"
      ]
     },
     "metadata": {},
     "output_type": "display_data"
    }
   ],
   "source": [
    "%matplotlib inline\n",
    "\n",
    "import itertools\n",
    "\n",
    "import matplotlib.pyplot as plt\n",
    "\n",
    "def plot_confusion_matrix(cm, classes,\n",
    "                          normalize=False,\n",
    "                          title='Confusion matrix',\n",
    "                          cmap=plt.cm.Blues):\n",
    "    \"\"\"\n",
    "    This function prints and plots the confusion matrix.\n",
    "    Normalization can be applied by setting `normalize=True`.\n",
    "    \"\"\"\n",
    "    plt.imshow(cm, interpolation='nearest', cmap=cmap)\n",
    "    plt.title(title)\n",
    "    plt.colorbar()\n",
    "    tick_marks = np.arange(len(classes))\n",
    "    plt.xticks(tick_marks, classes, rotation=90)\n",
    "    plt.yticks(tick_marks, classes)\n",
    "\n",
    "    if normalize:\n",
    "        cm = cm.astype('float') / cm.sum(axis=1)[:, np.newaxis]\n",
    "        print(\"Normalized confusion matrix\")\n",
    "    else:\n",
    "        print('Confusion matrix, without normalization')\n",
    "\n",
    "    #print(cm)\n",
    "\n",
    "    thresh = cm.max() / 2.\n",
    "    for i, j in itertools.product(range(cm.shape[0]), range(cm.shape[1])):\n",
    "        plt.text(j, i, cm[i, j],\n",
    "                 horizontalalignment=\"center\",\n",
    "                 color=\"white\" if cm[i, j] > thresh else \"black\")\n",
    "\n",
    "    plt.tight_layout()\n",
    "    plt.ylabel('True label')\n",
    "    plt.xlabel('Predicted label')\n",
    "    \n",
    "# Plot non-normalized confusion matrix\n",
    "\n",
    "# set size\n",
    "width = 10\n",
    "height = 10\n",
    "plt.figure(figsize=(width, height))\n",
    "\n",
    "#plt.figure()\n",
    "plot_confusion_matrix(cnf_matrix, classes=labels,\n",
    "                      title='Confusion matrix, without normalization')\n",
    "\n",
    "\n",
    "plt.show()"
   ]
  },
  {
   "cell_type": "code",
   "execution_count": null,
   "metadata": {
    "collapsed": true
   },
   "outputs": [],
   "source": []
  }
 ],
 "metadata": {
  "kernelspec": {
   "display_name": "Python [conda env:py35]",
   "language": "python",
   "name": "conda-env-py35-py"
  },
  "language_info": {
   "codemirror_mode": {
    "name": "ipython",
    "version": 3
   },
   "file_extension": ".py",
   "mimetype": "text/x-python",
   "name": "python",
   "nbconvert_exporter": "python",
   "pygments_lexer": "ipython3",
   "version": "3.5.2"
  }
 },
 "nbformat": 4,
 "nbformat_minor": 2
}
