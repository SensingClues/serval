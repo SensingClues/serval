{
 "cells": [
  {
   "cell_type": "markdown",
   "metadata": {},
   "source": [
    "## Serval Create Sound Classification Datasets\n",
    "\n",
    "In this notebook we will download and create the necessary sound files to do classification.\n",
    "\n",
    "What we need is 5 second recordings with 44100 Hz samplerate.\n",
    "\n",
    "Datasets available:\n",
    "* ESC50\n",
    "* Urban8k\n",
    "* Google [audioset](https://research.google.com/audioset/)\n",
    "* Cornell [elephant listening project](http://www.birds.cornell.edu/brp/elephant/) anotated datasets\n",
    "\n",
    "### ESC 50 dataset\n",
    "\n",
    "We will use the wav branche ESC50 dataset to start from, \n",
    "it has the audiofiles well prepared into the 50 classes in this dataset. The dataset can be downloaded [here](https://github.com/karoldvl/ESC-50/tree/wav-files).\n",
    "\n",
    "Make sure the dataset location can be reached from this notebook.\n",
    "\n",
    "The wav files are all in one directory, so we need to keep track of which class is of interest and how to get only the interesting classes for now.\n",
    "\n",
    "We use a csv file to keep track of the wav files we use and the corresponding label it is classified to.\n"
   ]
  },
  {
   "cell_type": "code",
   "execution_count": 32,
   "metadata": {
    "collapsed": false
   },
   "outputs": [
    {
     "data": {
      "text/html": [
       "<div>\n",
       "<style>\n",
       "    .dataframe thead tr:only-child th {\n",
       "        text-align: right;\n",
       "    }\n",
       "\n",
       "    .dataframe thead th {\n",
       "        text-align: left;\n",
       "    }\n",
       "\n",
       "    .dataframe tbody tr th {\n",
       "        vertical-align: top;\n",
       "    }\n",
       "</style>\n",
       "<table border=\"1\" class=\"dataframe\">\n",
       "  <thead>\n",
       "    <tr style=\"text-align: right;\">\n",
       "      <th></th>\n",
       "      <th>filename</th>\n",
       "      <th>fold</th>\n",
       "      <th>target</th>\n",
       "      <th>category</th>\n",
       "      <th>esc10</th>\n",
       "      <th>src_file</th>\n",
       "      <th>take</th>\n",
       "    </tr>\n",
       "  </thead>\n",
       "  <tbody>\n",
       "    <tr>\n",
       "      <th>0</th>\n",
       "      <td>1-100032-A-0.wav</td>\n",
       "      <td>1</td>\n",
       "      <td>0</td>\n",
       "      <td>dog</td>\n",
       "      <td>True</td>\n",
       "      <td>100032</td>\n",
       "      <td>A</td>\n",
       "    </tr>\n",
       "    <tr>\n",
       "      <th>1</th>\n",
       "      <td>1-100038-A-14.wav</td>\n",
       "      <td>1</td>\n",
       "      <td>14</td>\n",
       "      <td>chirping_birds</td>\n",
       "      <td>False</td>\n",
       "      <td>100038</td>\n",
       "      <td>A</td>\n",
       "    </tr>\n",
       "    <tr>\n",
       "      <th>2</th>\n",
       "      <td>1-100210-A-36.wav</td>\n",
       "      <td>1</td>\n",
       "      <td>36</td>\n",
       "      <td>vacuum_cleaner</td>\n",
       "      <td>False</td>\n",
       "      <td>100210</td>\n",
       "      <td>A</td>\n",
       "    </tr>\n",
       "    <tr>\n",
       "      <th>3</th>\n",
       "      <td>1-100210-B-36.wav</td>\n",
       "      <td>1</td>\n",
       "      <td>36</td>\n",
       "      <td>vacuum_cleaner</td>\n",
       "      <td>False</td>\n",
       "      <td>100210</td>\n",
       "      <td>B</td>\n",
       "    </tr>\n",
       "    <tr>\n",
       "      <th>4</th>\n",
       "      <td>1-101296-A-19.wav</td>\n",
       "      <td>1</td>\n",
       "      <td>19</td>\n",
       "      <td>thunderstorm</td>\n",
       "      <td>False</td>\n",
       "      <td>101296</td>\n",
       "      <td>A</td>\n",
       "    </tr>\n",
       "  </tbody>\n",
       "</table>\n",
       "</div>"
      ],
      "text/plain": [
       "            filename  fold  target        category  esc10  src_file take\n",
       "0   1-100032-A-0.wav     1       0             dog   True    100032    A\n",
       "1  1-100038-A-14.wav     1      14  chirping_birds  False    100038    A\n",
       "2  1-100210-A-36.wav     1      36  vacuum_cleaner  False    100210    A\n",
       "3  1-100210-B-36.wav     1      36  vacuum_cleaner  False    100210    B\n",
       "4  1-101296-A-19.wav     1      19    thunderstorm  False    101296    A"
      ]
     },
     "execution_count": 32,
     "metadata": {},
     "output_type": "execute_result"
    }
   ],
   "source": [
    "# for the original ESC50 dataset there is a csv file in the dataset folder\n",
    "\n",
    "import pandas as pd\n",
    "\n",
    "# location of ESC-50 download\n",
    "df = pd.read_csv('~/git/ESC-50/esc50.csv')\n",
    "\n",
    "df.head(5)"
   ]
  },
  {
   "cell_type": "code",
   "execution_count": 40,
   "metadata": {
    "collapsed": false
   },
   "outputs": [
    {
     "data": {
      "text/plain": [
       "200"
      ]
     },
     "execution_count": 40,
     "metadata": {},
     "output_type": "execute_result"
    }
   ],
   "source": [
    "# we keep only the relevant categories for our SERVAL application\n",
    "# list unique values in the df['name'] column\n",
    "cats = df.category.unique()\n",
    "\n",
    "# all categories\n",
    "cats\n",
    "\n",
    "# relevant categories in the ESC50 for SERVAL\n",
    "#relevant_categories = ['car_horn', 'cat', 'chainsaw', 'clapping', 'coughing', 'cow', 'crow', 'dog', 'engine', 'fireworks',\n",
    "#       'footsteps', 'helicopter', 'laughing', 'sneezing', 'train']\n",
    "relevant_categories_small = ['clapping', 'coughing', 'door_wood_knock', 'laughing', 'sneezing']\n",
    "\n",
    "\n",
    "# keep only relevant categories\n",
    "df_relevant = df[df.category.isin(relevant_categories_small)][['filename','category']]\n",
    "\n",
    "# check filter\n",
    "df_relevant.category.unique()\n",
    "len(df_relevant)\n"
   ]
  },
  {
   "cell_type": "markdown",
   "metadata": {},
   "source": [
    "### categories in ESC\n",
    "\n",
    "['dog', 'chirping_birds', 'vacuum_cleaner', 'thunderstorm',\n",
    "       'door_wood_knock', 'can_opening', 'crow', 'clapping', 'fireworks',\n",
    "       'chainsaw', 'airplane', 'mouse_click', 'pouring_water', 'train',\n",
    "       'sheep', 'water_drops', 'church_bells', 'clock_alarm',\n",
    "       'keyboard_typing', 'wind', 'footsteps', 'frog', 'cow',\n",
    "       'brushing_teeth', 'car_horn', 'crackling_fire', 'helicopter',\n",
    "       'drinking_sipping', 'rain', 'insects', 'laughing', 'hen', 'engine',\n",
    "       'breathing', 'crying_baby', 'hand_saw', 'coughing',\n",
    "       'glass_breaking', 'snoring', 'toilet_flush', 'pig',\n",
    "       'washing_machine', 'clock_tick', 'sneezing', 'rooster', 'sea_waves',\n",
    "       'siren', 'cat', 'door_wood_creaks', 'crickets']"
   ]
  },
  {
   "cell_type": "code",
   "execution_count": 41,
   "metadata": {
    "collapsed": false
   },
   "outputs": [
    {
     "name": "stderr",
     "output_type": "stream",
     "text": [
      "100%|██████████| 200/200 [00:01<00:00, 121.08it/s]\n"
     ]
    }
   ],
   "source": [
    "# now we copy these files over to our dataset location for training\n",
    "import sys, csv, os, shutil\n",
    "\n",
    "from tqdm import tqdm\n",
    "\n",
    "# source dataset location\n",
    "source_path = '../../ESC-50/audio'\n",
    "# destination\n",
    "dest_path = \"./dataset/audio\"\n",
    "\n",
    "for index, row in tqdm(df_relevant.iterrows(), total=len(df_relevant)):\n",
    "    # lees wav check of die er is zo ja kopier naar destination\n",
    "    src_file_path = os.path.normcase(\"%s/%s\" % (source_path,row.filename))\n",
    "    # make destination path\n",
    "    dst_file_path = \"%s/%s\" % (dest_path,row.filename)\n",
    "    # copy file from to\n",
    "    shutil.copyfile(src_file_path,dst_file_path)\n"
   ]
  },
  {
   "cell_type": "code",
   "execution_count": 42,
   "metadata": {
    "collapsed": true
   },
   "outputs": [],
   "source": [
    "# save the metadata for later\n",
    "df_relevant.to_csv('./dataset/meta-data-esc-50-wildlife-small.csv',index=False)"
   ]
  }
 ],
 "metadata": {
  "kernelspec": {
   "display_name": "Python [conda env:py35]",
   "language": "python",
   "name": "conda-env-py35-py"
  },
  "language_info": {
   "codemirror_mode": {
    "name": "ipython",
    "version": 3
   },
   "file_extension": ".py",
   "mimetype": "text/x-python",
   "name": "python",
   "nbconvert_exporter": "python",
   "pygments_lexer": "ipython3",
   "version": "3.5.2"
  }
 },
 "nbformat": 4,
 "nbformat_minor": 2
}
