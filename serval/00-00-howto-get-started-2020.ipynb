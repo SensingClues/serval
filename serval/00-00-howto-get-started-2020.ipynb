{
 "cells": [
  {
   "cell_type": "markdown",
   "metadata": {},
   "source": [
    "## How to get started\n",
    "\n",
    "Here we described the steps taken to train the serval modeel end2end (2020 update)\n"
   ]
  },
  {
   "cell_type": "markdown",
   "metadata": {},
   "source": [
    "## Get the audio feature dataset\n",
    "\n",
    "From [google audio](https://research.google.com/audioset/download.html) set we download features.\n",
    "\n",
    "Clone this serval repo to your local machine.\n",
    "\n",
    "You will find the class labels for train unbalanced and eval. The class labels tell you whiich labels from the Google audioset we use.\n",
    "\n",
    "The datra is organized as follows:\n",
    "\n",
    "- dataset\n",
    "    - audioset_v1_embeddings (holds the vggish-embeeded tensorflow records)\n",
    "    - classlabels (holds the classlabels we are intereseted in per \"project\")\n",
    "        - audioset (original google based on the audioset ontology)\n",
    "        - csv_files\n",
    "        - custom\n",
    "\n",
    "Per project we resample the audioset data and extent or add new samples from our custom project to create a new traininset and evaluationset.\n",
    "\n",
    "For example, the Amsterdam project we have two additional forlders in the datset folder, one holds the balanced train data one holds the balanced eval data\n",
    "\n",
    "- dataset\n",
    "    - train_amsterdam_new\n",
    "    - eval_amsterdam_new\n",
    "    \n",
    "\n",
    "\n",
    "\n"
   ]
  },
  {
   "cell_type": "code",
   "execution_count": null,
   "metadata": {},
   "outputs": [],
   "source": []
  }
 ],
 "metadata": {
  "kernelspec": {
   "display_name": "Python 3",
   "language": "python",
   "name": "python3"
  },
  "language_info": {
   "codemirror_mode": {
    "name": "ipython",
    "version": 3
   },
   "file_extension": ".py",
   "mimetype": "text/x-python",
   "name": "python",
   "nbconvert_exporter": "python",
   "pygments_lexer": "ipython3",
   "version": "3.7.6"
  }
 },
 "nbformat": 4,
 "nbformat_minor": 4
}
